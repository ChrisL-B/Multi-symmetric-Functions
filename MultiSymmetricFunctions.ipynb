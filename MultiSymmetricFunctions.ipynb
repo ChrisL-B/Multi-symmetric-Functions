{
 "cells": [
  {
   "cell_type": "markdown",
   "metadata": {},
   "source": [
    "The first code cell defines the Trace, Operator, Basis and CorrelatorCalculator classes. The second cell defines various functions that use these. There are then several cells of code that load different bases of operators. Some of these can take up to half an hour to run. After that, there's lots of rough working. There will be useful code in there, but it's not organised in any way.\n",
    "\n",
    "To anyone reading this, sorry for how messy it all is, and good luck working it out. If you're trying to understand the code and are struggling, feel free to open an issue on the repository so I get notified, and I'll be happy to help."
   ]
  },
  {
   "cell_type": "code",
   "execution_count": 1,
   "metadata": {},
   "outputs": [],
   "source": [
    "import numpy as np\n",
    "#declare N as a variable\n",
    "var('N')\n",
    "\n",
    "#Class to model a single multi-trace\n",
    "class Trace:\n",
    "    def __init__(self, fieldContent, permutation, fieldPositions=None):\n",
    "        \n",
    "        self.fieldContent = fieldContent\n",
    "        m = fieldContent[0]\n",
    "        n = fieldContent[1]\n",
    "        \n",
    "        if type(permutation) == sage.groups.perm_gps.permgroup_element.PermutationGroupElement:\n",
    "            self.permutation = permutation\n",
    "        else:\n",
    "            self.permutation = PermutationGroupElement(permutation, parent=SymmetricGroup(m+n))\n",
    "            \n",
    "        if fieldPositions != None:\n",
    "            if fieldPositions.count(1) != m or fieldPositions.count(2) != n:\n",
    "                raise Exception('fieldPositions must match the given field content')\n",
    "            perm = permFromFieldPositions(fieldPositions)\n",
    "            self.permutation = perm * self.permutation * perm\n",
    "            \n",
    "    def __repr__(self):\n",
    "        matrixWords = []\n",
    "        for cycle in self.permutation.cycle_tuples(singletons=True):\n",
    "            word = ''\n",
    "            for i in cycle:\n",
    "                if i <= self.fieldContent[0]:\n",
    "                    word += 'X'\n",
    "                else:\n",
    "                    word += 'Y'\n",
    "            \n",
    "            wordRotations = [word]\n",
    "            for i in range(len(word)-1):\n",
    "                word = word[-1] + word[:-1]\n",
    "                wordRotations.append(word)\n",
    "            matrixWords.append(min(wordRotations))\n",
    "        matrixWords.sort()\n",
    "        return ''.join(['(Tr' + word + ')' for word in matrixWords])\n",
    "        \n",
    "            \n",
    "    def __mul__(self, other):\n",
    "        if isinstance(other, Trace):\n",
    "            m1 = self.fieldContent[0]\n",
    "            m2 = other.fieldContent[0]\n",
    "            n1 = self.fieldContent[1]\n",
    "            n2 = other.fieldContent[1]\n",
    "            subperm1 = self.permutation([i+1 for i in range(m1)] + [i+1 for i in range(m1+m2,m1+m2+n1)])\n",
    "            subperm2 = other.permutation([i+1 for i in range(m1,m1+m2)] + [i+1 for i in range(m1+m2+n1,m1+m2+n1+n2)])\n",
    "            return Trace([m1+m2, n1+n2], subperm1[:m1] + subperm2[:m2] + subperm1[m1:] + subperm2[m2:])\n",
    "        elif isscalar(other):\n",
    "            return Operator(self.fieldContent, [other], traces=[self])\n",
    "        else:\n",
    "            return NotImplemented\n",
    "        \n",
    "    def __rmul__(self,other):\n",
    "        return self * other\n",
    "    \n",
    "    def __div__(self, other):\n",
    "        if isscalar(other):\n",
    "            return self * (1/other)\n",
    "        else:\n",
    "            return NotImplemented\n",
    "            \n",
    "    def __eq__(self, other):\n",
    "        if isinstance(other, Trace):\n",
    "            return str(self) == str(other)\n",
    "        else:\n",
    "            return NotImplemented\n",
    "            \n",
    "    #Creates an identical copy of the trace\n",
    "    def copy(self):\n",
    "        return Trace(self.fieldContent, self.permutation)\n",
    "\n",
    "            \n",
    "#Class to model a linear combination of multi-trace operators    \n",
    "class Operator:\n",
    "    def __init__(self, fieldContent, coefficients, traces=None, permutations=None, fieldPositions=None):\n",
    "        self.fieldContent = fieldContent\n",
    "        m = fieldContent[0]\n",
    "        n = fieldContent[1]\n",
    "        \n",
    "        if permutations == None and traces == None:\n",
    "            raise Exception('You must provide either a list of permutations or a list of traces')\n",
    "        elif permutations != None and traces !=None:\n",
    "            raise Exception('You cannot provide both a list of permutations and a list of traces')\n",
    "        elif permutations != None:\n",
    "            if len(permutations) != len(coefficients):\n",
    "                raise Exception('Lists of permutations and coefficients must have the same length')\n",
    "            else:\n",
    "                traces = [ Trace(fieldContent, permutations[i]) \n",
    "                          for i in range(len(permutations)) if coefficients[i] != 0 ]\n",
    "                \n",
    "        elif traces != None:\n",
    "            if len(traces) != len(coefficients):\n",
    "                raise Exception('Lists of traces and coefficients must have the same length')\n",
    "            if not all([ tr.fieldContent == fieldContent for tr in traces ]):\n",
    "                raise Exception('Traces must match the given field content')\n",
    "            traces = [ traces[i] for i in range(len(coefficients)) if coefficients[i] != 0]\n",
    "            \n",
    "        self.traces = traces\n",
    "        self.coefficients = [ coefficients[i] for i in range(len(coefficients)) if coefficients[i] != 0 ]\n",
    "        \n",
    "        if fieldPositions != None:\n",
    "            perm = permFromFieldPositions(fieldPositions)\n",
    "            for tr in self.traces:\n",
    "                tr.permutation = perm * tr.permutation * perm\n",
    "            \n",
    "    \n",
    "    \n",
    "    def __add__(self, other):\n",
    "        if isinstance(other, Operator):\n",
    "            if self.fieldContent != other.fieldContent:\n",
    "                raise Exception('Cannot add operators with different field contents')\n",
    "            newoperator = self.copy()\n",
    "            for cf, tr in other:\n",
    "                if tr in newoperator.traces:\n",
    "                    index = newoperator.traces.index(tr)\n",
    "                    newoperator.coefficients[index] += cf\n",
    "                    if newoperator.coefficients[index] == 0:\n",
    "                        newoperator.coefficients.pop(index)\n",
    "                        newoperator.traces.pop(index)\n",
    "                else:\n",
    "                    newoperator.traces.append(tr.copy())\n",
    "                    newoperator.coefficients.append(cf)\n",
    "            return newoperator\n",
    "        else:\n",
    "            return NotImplemented\n",
    "    \n",
    "    def __radd__(self, other):\n",
    "        return self + other\n",
    "    \n",
    "    def __sub__(self, other):\n",
    "        if isinstance(other, Operator):\n",
    "            return self + (-1 * other)\n",
    "        else:\n",
    "            return NotImplemented\n",
    "        \n",
    "    def __mul__(self, other):\n",
    "        if isscalar(other):\n",
    "            coefficients = [ other * cf for cf in self.coefficients]\n",
    "            return Operator(self.fieldContent, coefficients, self.traces)\n",
    "        elif isinstance(other, Trace):\n",
    "            traces = [ other * tr for tr in self.traces ]\n",
    "            fieldContent = [ self.fieldContent[i] + other.fieldContent[i] for i in range(2)]\n",
    "            return Operator(fieldContent, self.coefficients, traces)\n",
    "        elif isinstance(other, Operator):\n",
    "            newFieldContent = [self.fieldContent[i] + other.fieldContent[i] for i in range(2)]\n",
    "            newoperator = Operator(newFieldContent, [], [])\n",
    "            for cf1, tr1 in self:\n",
    "                for cf2, tr2 in other:\n",
    "                    newoperator += cf1 * cf2 * tr1 * tr2\n",
    "            return newoperator\n",
    "        else:\n",
    "            return NotImplemented\n",
    "        \n",
    "    def __rmul__(self, other):\n",
    "        return self * other\n",
    "    \n",
    "    def __div__(self, other):\n",
    "        if isscalar(other):\n",
    "            return self * (1/other)\n",
    "        else:\n",
    "            return NotImplemented\n",
    "    \n",
    "    \n",
    "    def __len__(self):\n",
    "        return len(self.traces)\n",
    "        \n",
    "    def __repr__(self):\n",
    "        string = ''\n",
    "        for cf, tr in self:\n",
    "            if type(cf) == sage.symbolic.expression.Expression:\n",
    "                string += ' + (' + str(cf) + ')' + str(tr)\n",
    "            elif cf == 1:\n",
    "                string += ' + ' + str(tr)\n",
    "            elif cf == -1:\n",
    "                string += ' - ' + str(tr)\n",
    "            elif cf >= 0:\n",
    "                string += ' + ' + str(cf) + str(tr)\n",
    "            else:\n",
    "                string += ' - ' + str(-cf) + str(tr)\n",
    "        if string[0:2] == ' -':\n",
    "            string = string[1] + string[3:]\n",
    "        else:\n",
    "            string = string[3:]\n",
    "        return string\n",
    "        \n",
    "    def __iter__(self):\n",
    "        return iter([ (self.coefficients[i], self.traces[i]) for i in range(len(self.traces))])\n",
    "        \n",
    "    def __contains__(self, trace):\n",
    "        return trace in self.traces\n",
    "        \n",
    "    #Creates an identical copy of the operator\n",
    "    def copy(self):\n",
    "        traces = [ tr.copy() for tr in self.traces]\n",
    "        return Operator(self.fieldContent, coefficients=self.coefficients, traces=traces)\n",
    "    \n",
    "    #For an operator with symbolic coefficients, factorises the coefficients\n",
    "    def factorCoefficients(self):\n",
    "        for i in range(len(self.coefficients)):\n",
    "            if type(self.coefficients[i]) == sage.symbolic.expression.Expression:\n",
    "                self.coefficients[i] = self.coefficients[i].factor()\n",
    "    \n",
    "    #For an operator with symbolic coefficients, neatens square roots in the coefficients\n",
    "    def canonicalizeRadicalsInCoefficients(self):\n",
    "        for i in range(len(self.coefficients)):\n",
    "            if type(self.coefficients[i]) == sage.symbolic.expression.Expression:\n",
    "                self.coefficients[i] = self.coefficients[i].canonicalize_radical()\n",
    "    \n",
    "    #For an operator with symbolic coefficients, expands the coefficients\n",
    "    def expandCoefficients(self):\n",
    "        for i in range(len(self.coefficients)):\n",
    "            self.coefficients[i] = self.coefficients[i].expand()\n",
    "    \n",
    "    #Takes the defining permutation of a trace and multiplies it on the left by another permutation\n",
    "    def leftmultiply(self, perm):\n",
    "        if type(perm) != sage.groups.perm_gps.permgroup_element.PermutationGroupElement:\n",
    "            perm = PermutationGroupElement(perm, parent=SymmetricGroup(sum(self.fieldContent)))\n",
    "        for tr in self.traces:\n",
    "            tr.permutation = perm * tr.permutation\n",
    "        return\n",
    "    \n",
    "    #Takes the defining permutation of a trace and multiplies it on the right by another permutation\n",
    "    def rightmultiply(self, perm):\n",
    "        if type(perm) != sage.groups.perm_gps.permgroup_element.PermutationGroupElement:\n",
    "            perm = PermutationGroupElement(perm, parent=SymmetricGroup(sum(self.fieldContent)))\n",
    "        for tr in self.traces:\n",
    "            tr.permutation = tr.permutation * perm\n",
    "        return\n",
    "    \n",
    "    #Takes the defining permutation of a trace and conjugates it by another permutation\n",
    "    def conjugate(self, perm):\n",
    "        if type(perm) != sage.groups.perm_gps.permgroup_element.PermutationGroupElement:\n",
    "            perm = PermutationGroupElement(perm, parent=SymmetricGroup(sum(self.fieldContent)))\n",
    "        self.leftmultiply(perm)\n",
    "        self.rightmultiply(perm.inverse())\n",
    "        return\n",
    "        \n",
    "        \n",
    "        \n",
    "#Class representing a basis of operators        \n",
    "class Basis:\n",
    "    def __init__(self, fieldContent, operators, labels=None):\n",
    "        self.fieldContent = fieldContent\n",
    "        if not all([op.fieldContent == fieldContent for op in operators]):\n",
    "            raise Exception('Operators must match the given field content')\n",
    "        self.operators = operators\n",
    "        if labels != None and len(labels) != len(operators):\n",
    "            raise Exception('Lists of labels and operators must have the same length')\n",
    "        self.labels = labels\n",
    "        self.labelled = (labels != None)\n",
    "        \n",
    "    def __len__(self):\n",
    "        return len(self.operators)\n",
    "        \n",
    "    def __repr__(self):\n",
    "        string = ''\n",
    "        if self.labels == None:\n",
    "            for op in self.operators:\n",
    "                string += str(op) + '\\n'\n",
    "        else:\n",
    "            maxlength = max([len(str(lbl)) for lbl in self.labels])\n",
    "            for i in range(len(self.operators)):\n",
    "                label = str(self.labels[i])\n",
    "                string += label + ': ' + (' ' * (maxlength - len(label))) + str(self.operators[i]) + '\\n' \n",
    "        return string\n",
    "        \n",
    "    def __iter__(self):\n",
    "        if self.labelled:\n",
    "            return iter([ (self.labels[i], self.operators[i]) for i in range(len(self.operators))])\n",
    "        return iter(self.operators)\n",
    "        \n",
    "    def __getitem__(self,key):\n",
    "        if type(key) == sage.rings.integer.Integer or type(key) == int:\n",
    "            return self.operators[key]\n",
    "        elif key in self.labels:\n",
    "            return self.operators[self.labels.index(key)]\n",
    "        else:\n",
    "            return NotImplemented\n",
    "    \n",
    "    #Creates an identical copy of the basis\n",
    "    def copy(self):\n",
    "        if self.labelled:\n",
    "            return Basis(self.fieldContent, [ op.copy() for op in self.operators ], self.labels[:])\n",
    "        else:\n",
    "            return Basis(self.fieldContent, [ op.copy() for op in self.operators ])\n",
    "    \n",
    "    # returns a linear combination of the basis\n",
    "    def linearCombination(self, coefficients):\n",
    "        if len(self) == len(coefficients):\n",
    "            newoperator = Operator(self.fieldContent, [], [])\n",
    "            for i in range(len(self)):\n",
    "                newoperator += coefficients[i] * self.operators[i]\n",
    "            return newoperator\n",
    "        else:\n",
    "            raise Exception('The length of the list of coefficients must match the size of the basis')\n",
    "    \n",
    "    # returns a new basis obtained from the old by transforming with the given matrix\n",
    "    def transform(self, matrix):\n",
    "        operators = [ self.linearCombination(matrix[i]) for i in range(len(matrix))]\n",
    "        return Basis(self.fieldContent, operators)\n",
    "    \n",
    "    # permutes the order of the basis elements\n",
    "    def permute(self, permutation):\n",
    "        if type(permutation) != sage.groups.perm_gps.permgroup_element.PermutationGroupElement:\n",
    "            permutation = PermutationGroupElement(permutation, parent=SymmetricGroup(len(self)))\n",
    "        if self.labelled:\n",
    "            return Basis(self.fieldContent, permutation(self.operators), permutation(self.labels))\n",
    "        return Basis(self.fieldContent, permutation(self.operators))\n",
    "    \n",
    "    #expands the  given operator as a linear combination of the basis elements. \n",
    "    #If the given operator is not in the span, returns None\n",
    "    def expand(self, operator):\n",
    "        tracelist = []\n",
    "        if self.labelled:\n",
    "            for lbl, op in self:\n",
    "                for cf, tr in op:\n",
    "                    if tr not in tracelist:\n",
    "                        tracelist.append(tr)\n",
    "        else:\n",
    "            for op in self:\n",
    "                for cf, tr in op:\n",
    "                    if tr not in tracelist:\n",
    "                        tracelist.append(tr)\n",
    "        tracecoefficients = [ [0 for tr in tracelist] for op in self]\n",
    "        for i in range(len(self)):\n",
    "            for cf, tr in self[i]:\n",
    "                tracecoefficients[i][tracelist.index(tr)] = cf\n",
    "        matrix = Matrix(tracecoefficients).T\n",
    "        \n",
    "        coefficients = [0 for tr in tracelist]\n",
    "        for cf, tr in operator:\n",
    "            coefficients[tracelist.index(tr)] = cf\n",
    "        v = vector(coefficients)\n",
    "        try:\n",
    "            output = matrix.solve_right(v)\n",
    "        except ValueError:\n",
    "            output = None\n",
    "        \n",
    "        return output\n",
    "    \n",
    "# a helper class to calculate correlators \n",
    "class correlatorCalculator:\n",
    "    def __init__(self, fieldContent):\n",
    "        self.fieldContent = fieldContent\n",
    "        m = fieldContent[0]\n",
    "        n = fieldContent[1]\n",
    "        self.G = SymmetricGroup(m+n)\n",
    "        self.characters = self.G.irreducible_characters()\n",
    "        self.conjClasses = self.G.conjugacy_classes()\n",
    "        self.cycleType = [c[0].cycle_type() for c in self.conjClasses]\n",
    "        self.ccSizes = [len(c) for c in self.conjClasses]\n",
    "        self.ccNo = len(self.ccSizes)\n",
    "        self.representPerms = self.G.conjugacy_classes_representatives()\n",
    "        self.characterTable = [[R(g) for g in self.representPerms] for R in self.characters] \n",
    "    \n",
    "        fact = factorial(m+n)\n",
    "        self.omegaCharacters = [sum([N ** len(self.cycleType[i]) * \n",
    "                                     self.characterTable[j][i] * \n",
    "                                     self.ccSizes[i] for i in range(self.ccNo)]).factor() for j in range(self.ccNo)]\n",
    "        self.Gcoefficients = [self.characterTable[i][0]^2 / (fact * self.omegaCharacters[i]) for i in range(self.ccNo)]\n",
    "        self.Fcoefficients = [ 1/fact * self.omegaCharacters[i] for i in range(self.ccNo) ]\n",
    "            \n",
    "        subgroupGenerators=[]\n",
    "        for i in range(m-1):\n",
    "            permImage = [j+1 for j in range(m+n)]\n",
    "            permImage[i] = i+2\n",
    "            permImage[i+1] = i+1 \n",
    "            subgroupGenerators.append(PermutationGroupElement(permImage))\n",
    "        for i in range(n-1):\n",
    "            permImage = [j+1 for j in range(m+n)]\n",
    "            permImage[m+i] = m+i+2\n",
    "            permImage[m+i+1] = m+i+1\n",
    "            subgroupGenerators.append(PermutationGroupElement(permImage))\n",
    "        self.H = self.G.subgroup(subgroupGenerators)\n",
    "        \n",
    "        self.cachedTraces = { 'F':[] , 'planar':[], 'G':[] }\n",
    "        self.cachedCorrelators = { 'F':[] , 'planar':[], 'G':[] }\n",
    "        \n",
    "    # caches the correlator of two traces to speed up later calculations\n",
    "    def addTraceToCache(self, trace, correlatorType):\n",
    "        currentLength = len(self.cachedTraces[correlatorType])\n",
    "        self.cachedTraces[correlatorType].append(trace)\n",
    "        for i in range(currentLength):\n",
    "            self.cachedCorrelators[correlatorType][i].append(None)\n",
    "        self.cachedCorrelators[correlatorType].append([None for i in range(currentLength + 1)])\n",
    "        \n",
    "    # calculates the correlator of two traces, operators or bases (in this case it returns a matrix of inner products); if the \n",
    "    # inputs are different classes, it deals with this appropriately\n",
    "    def calculate(self, input1, input2, correlatorType='G'):\n",
    "        if self.fieldContent != input1.fieldContent or self.fieldContent != input2.fieldContent:\n",
    "            raise Exception('Inputs must have the appropriate field content')\n",
    "        if correlatorType not in ['F', 'planar', 'G']:\n",
    "            raise Exception('Must choose the planar, F-weighted or G-weighted correlator')\n",
    "        \n",
    "        if isinstance(input2, Basis):\n",
    "            return [ self.calculate(input1, op, correlatorType) for op in input2 ]\n",
    "        \n",
    "        if isinstance(input1, Basis):\n",
    "            return [ self.calculate(op, input2, correlatorType) for op in input1 ]\n",
    "        \n",
    "        corr = 0\n",
    "        \n",
    "        if isinstance(input2, Operator):\n",
    "            for cf, tr in input2:\n",
    "                corr += cf * self.calculate(input1, tr, correlatorType)\n",
    "            if correlatorType in ['F','G']:\n",
    "                return corr.canonicalize_radical().factor()\n",
    "            return corr\n",
    "        \n",
    "        if isinstance(input1, Operator):\n",
    "            for cf, tr in input1:\n",
    "                corr += cf * self.calculate(tr, input2, correlatorType)\n",
    "            if correlatorType in ['F','G']:\n",
    "                return corr.canonicalize_radical().factor()\n",
    "            return corr\n",
    "        \n",
    "        if isinstance(input1, Trace) and isinstance(input2, Trace):\n",
    "            if input1 not in self.cachedTraces[correlatorType]:\n",
    "                self.addTraceToCache(input1, correlatorType)\n",
    "                \n",
    "            if input2 not in self.cachedTraces[correlatorType]:\n",
    "                self.addTraceToCache(input2, correlatorType)\n",
    "                \n",
    "            index1 = self.cachedTraces[correlatorType].index(input1)\n",
    "            index2 = self.cachedTraces[correlatorType].index(input2)\n",
    "            if self.cachedCorrelators[correlatorType][index1][index2] != None:\n",
    "                return self.cachedCorrelators[correlatorType][index1][index2]\n",
    "            \n",
    "            if correlatorType == 'F':\n",
    "                perm1inv = input1.permutation.inverse()\n",
    "                for h in self.H:\n",
    "                    index = self.cycleType.index( (perm1inv * h * input2.permutation * h.inverse()).cycle_type() )\n",
    "                    corr += sum([self.Fcoefficients[i] * self.characterTable[i][index] for i in range(self.ccNo)])\n",
    "                corr = corr.factor()\n",
    "            if correlatorType == 'planar':\n",
    "                for h in self.H:\n",
    "                    if input1.permutation == h * input2.permutation * h.inverse():\n",
    "                        corr += 1\n",
    "            if correlatorType == 'G':\n",
    "                perm1inv = input1.permutation.inverse()\n",
    "                for h in self.H:\n",
    "                    index = self.cycleType.index( (perm1inv * h * input2.permutation * h.inverse()).cycle_type() )\n",
    "                    corr += sum([self.Gcoefficients[i] * self.characterTable[i][index] for i in range(self.ccNo)])\n",
    "                corr = corr.factor()\n",
    "                    \n",
    "            self.cachedCorrelators[correlatorType][index1][index2] = corr\n",
    "            self.cachedCorrelators[correlatorType][index2][index1] = corr\n",
    "            \n",
    "            return corr\n",
    "           \n",
    "        raise Exception('Inputs must be traces, operators or bases')\n",
    "\n",
    "# class to model a vector in (V_2)^{n}. Consists of a list of 1s and 2s that represent the positions of the X and Y fields\n",
    "# respectively\n",
    "class FieldPositionsVector:\n",
    "    def __init__(self, fieldContent, fieldPositionsList, coefficients):\n",
    "        if len(fieldPositionsList) != len(coefficients):\n",
    "            raise Exception('Lists must be the same length')\n",
    "        if not (all([fp.count(1) == fieldContent[0] for fp in fieldPositionsList]) \n",
    "                and all([fp.count(2) == fieldContent[1] for fp in fieldPositionsList])):\n",
    "            raise Exception('Each set of field positions must match the given field content')\n",
    "        self.fieldContent = fieldContent\n",
    "        self.fieldPositionsList = [fieldPositionsList[i] for i in range(len(coefficients)) if coefficients[i] != 0]\n",
    "        self.coefficients = [coefficients[i] for i in range(len(coefficients)) if coefficients[i] != 0]\n",
    "        \n",
    "    def __len__(self):\n",
    "        return len(self.coefficients)\n",
    "        \n",
    "    def __add__(self, other):\n",
    "        if isinstance(other, FieldPositionsVector):\n",
    "            if self.fieldContent != other.fieldContent:\n",
    "                raise Exception('Cannot add objects with different field contents')\n",
    "            new = self.copy()\n",
    "            for cf, fp in other:\n",
    "                if fp in new.fieldPositionsList:\n",
    "                    index = new.fieldPositionsList.index(fp)\n",
    "                    new.coefficients[index] += cf\n",
    "                    if new.coefficients[index] == 0:\n",
    "                        new.coefficients.pop(index)\n",
    "                        new.fieldPositionsList.pop(index)\n",
    "                else:\n",
    "                    new.fieldPositionsList.append(fp[:])\n",
    "                    new.coefficients.append(cf)\n",
    "            return new\n",
    "        else:\n",
    "            return NotImplemented\n",
    "        \n",
    "    def __sub__(self, other):\n",
    "        return self + (-1 * other)\n",
    "        \n",
    "    def __mul__(self, other):\n",
    "        if isscalar(other):\n",
    "            coefficients = [ other * cf for cf in self.coefficients ]\n",
    "            fieldPositionsList = [ fp[:] for fp in self.fieldPositionsList ]\n",
    "            return FieldPositionsVector(self.fieldContent, fieldPositionsList, coefficients)\n",
    "        else:\n",
    "            return NotImplemented\n",
    "        \n",
    "    def __rmul__(self, other):\n",
    "        return self * other\n",
    "    \n",
    "    def __div__(self, other):\n",
    "        return self * (1/other)\n",
    "        \n",
    "    def __iter__(self):\n",
    "        return iter([(self.coefficients[i], self.fieldPositionsList[i]) for i in range(len(self.coefficients))])\n",
    "    \n",
    "    def __contains__(self, fp):\n",
    "        return fp in self.fieldPositionsList\n",
    "    \n",
    "    \n",
    "    def __repr__(self):\n",
    "        string = ''\n",
    "        for cf, fp in self:\n",
    "            fpstring = '(' + ''.join([str(i) for i in fp]) + ')'\n",
    "            if cf == 1:\n",
    "                string += ' + ' + fpstring\n",
    "            elif cf == -1:\n",
    "                string += ' - ' + fpstring\n",
    "            elif cf >= 0:\n",
    "                string += ' + ' + str(cf) + fpstring\n",
    "            else:\n",
    "                string += ' - ' + str(-cf) + fpstring\n",
    "        if string[0:2] == ' -':\n",
    "            string = string[1] + string[3:]\n",
    "        else:\n",
    "            string = string[3:]\n",
    "        return string\n",
    "        \n",
    "    #creates an identical copy\n",
    "    def copy(self):\n",
    "        fieldPositionsList = [ fp[:] for fp in self.fieldPositionsList ]\n",
    "        coefficients = self.coefficients[:]\n",
    "        return FieldPositionsVector(self.fieldContent, fieldPositionsList, coefficients)\n",
    "    \n",
    "    # Inner product in (V_2)^n\n",
    "    def dot(self, other):\n",
    "        innerProduct = 0\n",
    "        for cf, fp in other:\n",
    "            if fp in self:\n",
    "                index = self.fieldPositionsList.index(fp)\n",
    "                innerProduct += cf * self.coefficients[index]\n",
    "        return innerProduct\n",
    "    \n",
    "    # Apply the U(2) lowering operator to a vector in (V_2)^n\n",
    "    def lower(self):\n",
    "        if self.fieldContent[0] == 0:\n",
    "            raise Exception('Cannot lower any further')\n",
    "        new = FieldPositionsVector([self.fieldContent[0] - 1, self.fieldContent[1]+1], [], [])\n",
    "        for cf, fp in self:\n",
    "            coefficients = [ cf for i in range(self.fieldContent[0])]\n",
    "            fpList = []\n",
    "            for i in range(len(fp)):\n",
    "                if fp[i] == 1:\n",
    "                    newfp = fp[:]\n",
    "                    newfp[i] = 2\n",
    "                    fpList.append(newfp)\n",
    "            new += FieldPositionsVector([self.fieldContent[0] - 1, self.fieldContent[1]+1], fpList, coefficients)\n",
    "        return new\n",
    "    \n",
    "    # normalises the vector\n",
    "    def normalise(self):\n",
    "        norm = sqrt(self.dot(self))\n",
    "        self.coefficients = [ cf/norm for cf in self.coefficients]\n",
    "        return \n",
    "    \n",
    "    # permutes the list of 1s and 2s\n",
    "    def permute(self, permutation):\n",
    "        if type(permutation) != sage.groups.perm_gps.permgroup_element.PermutationGroupElement:\n",
    "            permutation = PermutationGroupElement(permutation, parent=SymmetricGroup(sum(self.fieldContent)))\n",
    "        return FieldPositionsVector(self.fieldContent, [permutation(fp) for fp in self.fieldPositionsList],\n",
    "                                       self.coefficients)"
   ]
  },
  {
   "cell_type": "code",
   "execution_count": 2,
   "metadata": {},
   "outputs": [],
   "source": [
    "# Given a list of 1s and 2s, produces a permutation (of order 2) that places\n",
    "#    the 1s at the beginning and the 2s at the end\n",
    "def permFromFieldPositions(fieldPositions):\n",
    "    m = fieldPositions.count(1)\n",
    "    n = fieldPositions.count(2)\n",
    "    pairsOutOfPlace = []\n",
    "    for i in range(m):\n",
    "        if fieldPositions[i] != 1:\n",
    "            pairsOutOfPlace.append([i])\n",
    "    index = 0\n",
    "    for j in range(m,m+n):\n",
    "        if fieldPositions[j] != 2:\n",
    "            pairsOutOfPlace[index].append(j)\n",
    "            index += 1\n",
    "    pairsOutOfPlaceTuples = [(pair[0]+1,pair[1]+1) for pair in pairsOutOfPlace]\n",
    "    perm = PermutationGroupElement(pairsOutOfPlaceTuples,parent=SymmetricGroup(m+n))\n",
    "    return perm\n",
    "\n",
    "# determines is a variable is a scalar\n",
    "def isscalar(x):\n",
    "    return (type(x) == sage.symbolic.expression.Expression or \n",
    "              type(x) == sage.rings.rational.Rational or \n",
    "              type(x) == sage.rings.integer.Integer)\n",
    "\n",
    "# returns the single trace constructed from a lyndon word repeated an integer number of times\n",
    "def singleTrace(repeats, lyndonword):\n",
    "    m = repeats * lyndonword.count(1)\n",
    "    n = repeats * lyndonword.count(2)\n",
    "    permutation = []\n",
    "    xcount = 0\n",
    "    ycount = 0\n",
    "    for i in range(repeats):\n",
    "        index = xcount\n",
    "        xcount += 1\n",
    "        for letter in lyndonword[1:]:\n",
    "            if letter == 1:\n",
    "                permutation.insert(index, xcount + 1)\n",
    "                xcount += 1\n",
    "                index = xcount - 1\n",
    "            else:\n",
    "                permutation.insert(index, m + ycount + 1)\n",
    "                ycount += 1\n",
    "                index = len(permutation)\n",
    "        permutation += [xcount + 1]\n",
    "    permutation[-1] = 1\n",
    "    return Trace([m,n], permutation)\n",
    "\n",
    "# returns the possible single traces of a given field content\n",
    "def singleTraces(fieldContent):\n",
    "    traces = []\n",
    "    for d in divisors(gcd(fieldContent)):\n",
    "        for w in LyndonWords([Integer(fieldContent[0]/d), Integer(fieldContent[1]/d)]):\n",
    "            traces.append(singleTrace(d,w))\n",
    "    return traces\n",
    "\n",
    "# returns the trace basis of operators\n",
    "def traceBasis(fieldContent):\n",
    "    operators = []\n",
    "    for partition in VectorPartitions(fieldContent):\n",
    "        currentTraces = singleTraces(partition[0])\n",
    "        for vector in partition[1:]:\n",
    "            newTraces = []\n",
    "            for tr1 in singleTraces(vector):\n",
    "                for tr2 in currentTraces:\n",
    "                    newTrace = tr1 * tr2\n",
    "                    if newTrace not in newTraces:\n",
    "                        newTraces.append(newTrace)\n",
    "            currentTraces = newTraces\n",
    "        operators += [ 1 * tr for tr in currentTraces]\n",
    "    return Basis(fieldContent, operators)\n",
    "\n",
    "# returns the symmetrisation of a single trace with the given field content\n",
    "def symmetrisedSingleTrace(fieldContent):\n",
    "    m = fieldContent[0]\n",
    "    n = fieldContent[1]\n",
    "    \n",
    "    if m <= 1 or n <= 1:\n",
    "        permutation = [i+2 for i in range(m+n-1)] + [1]\n",
    "        return 1 * Trace(fieldContent, permutation)\n",
    "    \n",
    "    coefficients = []\n",
    "    traces = []\n",
    "    binom = binomial(sum(fieldContent), fieldContent[0])\n",
    "    for d in divisors(gcd(fieldContent)):\n",
    "        for w in LyndonWords([Integer(fieldContent[0]/d), Integer(fieldContent[1]/d)]):\n",
    "            traces.append(singleTrace(d,w))\n",
    "            coefficients.append(sum(fieldContent)/(d * binom))\n",
    "    return Operator(fieldContent, coefficients, traces)\n",
    "\n",
    "# returns the symmetrised multi-trace corresponding to the given vector partition\n",
    "def symmetrisedTrace(vectorPartition):\n",
    "    operator = symmetrisedSingleTrace(vectorPartition[0])\n",
    "    for vector in vectorPartition[1:]:\n",
    "        operator *= symmetrisedSingleTrace(vector)\n",
    "    return operator\n",
    "\n",
    "# lists the vector partitions of a given field content\n",
    "def VectorPartitionList(fieldContent, reverse=False):\n",
    "    partitionList = [[ v for v in p] for p in VectorPartitions(fieldContent)]\n",
    "    partitionList.sort(key=len,reverse=reverse)\n",
    "    for p in partitionList:\n",
    "        p.sort(reverse=True)\n",
    "    return partitionList\n",
    "\n",
    "# returns the symmetrised traces of a given field content\n",
    "def symmetrisedTraceBasis(fieldContent):\n",
    "    labels = VectorPartitionList(fieldContent)\n",
    "    operators = [ symmetrisedTrace(p) for p in labels ]\n",
    "    return Basis(fieldContent, operators, labels)\n",
    "\n",
    "\n",
    "\n",
    "# Gives the matrix of coefficients transforming from the multi-symmetric function basis to the symmetrised trace basis\n",
    "def cMatrix(fieldContent):\n",
    "    m = fieldContent[0]\n",
    "    n = fieldContent[1]\n",
    "    partitionList = VectorPartitionList(fieldContent)\n",
    "    noPartitions = len(partitionList)\n",
    "        \n",
    "    matrixCoefficients=np.zeros((noPartitions,noPartitions))\n",
    "\n",
    "    for index in range(noPartitions):\n",
    "        \n",
    "        #The vector partition we're summing at the moment (p in our notation)\n",
    "        partition=partitionList[index]\n",
    "\n",
    "        plength=len(partition)\n",
    "\n",
    "        #Cumulative sums of the parts of p\n",
    "        cumulativeSum=np.cumsum(partition,axis=0)\n",
    "\n",
    "        #The options for sums of p after each layer, along with their multiplicities. The 0th layer is initialised to be the 0 partition with multiplicity 1.\n",
    "        psumoptions =[[[ [ [0,0] for i in range(plength) ], 1 ]]] + [ [] for i in range(plength) ]\n",
    "\n",
    "        #Adds the separate parts of p one by one. At each stage, the possible partitions are found and listed with multiplicities in psumoptions[layer]\n",
    "        for layer in range(plength):\n",
    "            #Find the possible partitions after the next part of p has been added. Each parition is given trailing zeros so they all have the same length\n",
    "            layerPartitionList=VectorPartitionList(cumulativeSum[layer])\n",
    "            for i in range(len(layerPartitionList)):\n",
    "                layerPartitionList[i] += [[0,0] for j in range(plength - len(layerPartitionList[i]))]\n",
    "            layerPartitionMultiplicities=[[p,0] for p in layerPartitionList]\n",
    "            #Takes the possible partitions from the previous layer and adds the next term in p to each position, thereby finding the multiplicities for this layer\n",
    "            for j in range(len(psumoptions[layer])):\n",
    "                for i in range(plength):\n",
    "                    psumtemp=np.array(psumoptions[layer][j][0])\n",
    "                    psumtemp[i] += np.array(partition[layer])\n",
    "                    psumtemp = psumtemp.tolist()\n",
    "                    psumtemp.sort(reverse=True)\n",
    "                    layerPartitionMultiplicities[layerPartitionList.index(psumtemp)][1]+=psumoptions[layer][j][1]\n",
    "            #If the multiplicity is greater than 1, add it to the list of options for this layer\n",
    "            for m in layerPartitionMultiplicities:\n",
    "                if m[1]>0:\n",
    "                    psumoptions[layer+1].append(m)\n",
    "\n",
    "        #Truncates the partitions by removing the trailing zeros\n",
    "        for k in psumoptions[plength]:\n",
    "            for i in range(k[0].count([0,0])):\n",
    "                k[0].remove([0,0])\n",
    "            #Dividing through by a redundancy factor\n",
    "            factor=1\n",
    "            for i in range(plength-len(k[0])+1,plength+1):\n",
    "                factor*=i\n",
    "            matrixCoefficients[partitionList.index(k[0]),index]=k[1]/factor\n",
    "    \n",
    "    return matrixCoefficients\n",
    "\n",
    "# Gives the matrix of coefficients from the symmetrised trace basis to the multi-symmetric basis\n",
    "def cTildeMatrix(fieldContent):\n",
    "    c = np.linalg.inv(cMatrix(fieldContent))\n",
    "    cInteger = [ [ 0 for i in range(len(c))] for j in range(len(c)) ]\n",
    "    for i in range(len(c)):\n",
    "        for j in range(len(c)):\n",
    "            cInteger[i][j] = Integer(round(c[i,j]))\n",
    "    return cInteger\n",
    "\n",
    "# Generates the multi-symmetric function operator for a given partition\n",
    "def multiSymmetricFunction(partition):\n",
    "    m = np.sum(partition,axis=0)[0]\n",
    "    n = np.sum(partition,axis=0)[1]\n",
    "    cTilde = cTildeMatrix([m,n])\n",
    "    partitionList = VectorPartitionList([m,n])\n",
    "    operator = Operator([m,n], [], [])\n",
    "    for i in range(len(partitionList)):\n",
    "        c = cTilde[i][partitionList.index(partition)]\n",
    "        if c != 0:\n",
    "            operator += c * symmetrisedTrace(partitionList[i])\n",
    "    return operator\n",
    "    \n",
    "# Finds the multi-symmetric function basis of operators\n",
    "def multiSymmetricBasis(fieldContent):\n",
    "    labels = VectorPartitionList(fieldContent)\n",
    "    stBasis = symmetrisedTraceBasis(fieldContent)\n",
    "    c = cTildeMatrix(fieldContent)\n",
    "    cT = [ [c[j][i] for j in range(len(c)) ] for i in range(len(c))]\n",
    "    operators = [ stBasis.linearCombination(cT[i]) for i in range(len(c))]\n",
    "    return Basis(fieldContent, operators, labels)\n",
    "\n",
    "# Determines the Lambda and R that label the U(2)-covariant free field basis along with their multiplicity \n",
    "def lambdaRmultiplicities(n):\n",
    "    partitions = list(Partitions(n))\n",
    "    partitions.reverse()\n",
    "    NoPartitions = len(partitions)\n",
    "    G = SymmetricGroup(n)\n",
    "    characterTable = G.character_table()\n",
    "    ccSizes = [ len(c) for c in G.conjugacy_classes() ]\n",
    "    multiplicities = []\n",
    "    for i in range(NoPartitions):\n",
    "        if len(partitions[i]) <= 2:\n",
    "            for j in range(NoPartitions):\n",
    "                multiplicity = (1/factorial(n)) * sum([ ccSizes[k] * characterTable[i,k] * \n",
    "                                                        characterTable[j,k] * characterTable[j,k] \n",
    "                                                        for k in range(NoPartitions) ])\n",
    "                if multiplicity != 0:\n",
    "                    multiplicities.append((partitions[i],partitions[j], multiplicity))\n",
    "    multiplicities.reverse()\n",
    "    return multiplicities\n",
    "\n",
    "# lists the possible vectors in (V_2)^n\n",
    "def PossibleFieldPositions(fieldContent):\n",
    "    fieldPositionsList = []\n",
    "    combs = Combinations(range(sum(fieldContent)), fieldContent[1])\n",
    "    for comb in combs:\n",
    "        fp = [ 1 for j in range(fieldContent[0]) ]\n",
    "        for j in comb:\n",
    "            fp.insert(j,2)\n",
    "        fieldPositionsList.append(fp)\n",
    "    return fieldPositionsList\n",
    "\n",
    "# Generates the Young basis for (V_2)^n\n",
    "def VectorGenerator(n):    \n",
    "    partitions = Partitions(n)\n",
    "    lambdaPartitions = [ p for p in partitions if len(p) <= 2 ]\n",
    "    \n",
    "    basis = []\n",
    "    labels = []\n",
    "\n",
    "    for Lambda in lambdaPartitions:\n",
    "        lambdatableaux = SemistandardTableaux(size=n, max_entry=2, shape=Lambda)\n",
    "        topstate = lambdatableaux[0]\n",
    "        fieldContent = topstate.evaluation()\n",
    "        if len(fieldContent) == 1:\n",
    "            fieldContent.append(0)\n",
    "        symmetrisedFieldPositions = []\n",
    "        for i in range(fieldContent[1]+1):\n",
    "            firsthalf = PossibleFieldPositions([fieldContent[0]-i, i])\n",
    "            secondhalf = PossibleFieldPositions([i,fieldContent[1]-i])\n",
    "            for fp2 in secondhalf:\n",
    "                fplist = [fp1 + fp2 for fp1 in firsthalf]\n",
    "                coefficients = [1 for fp1 in firsthalf]\n",
    "                symmetrisedFieldPositions.append(FieldPositionsVector(fieldContent, fplist, coefficients))\n",
    "        \n",
    "        Rtableaux = list(StandardTableaux(Lambda))\n",
    "        Rtableaux.reverse()\n",
    "        \n",
    "        vectorsToOrthogonalise = [i for i in range(len(labels)) \n",
    "                                        if labels[i][0].evaluation() == fieldContent \n",
    "                                        and all([labels[i][1][0][j] == j+1 for j in range(fieldContent[0])])]\n",
    "        \n",
    "        dummy = True\n",
    "        while dummy:\n",
    "            randomSymmetrisedFieldPositions = FieldPositionsVector(fieldContent, [], [])\n",
    "            for fp in symmetrisedFieldPositions:\n",
    "                randomSymmetrisedFieldPositions += ZZ.random_element(1,10) * fp\n",
    "            for i in vectorsToOrthogonalise:\n",
    "                randomSymmetrisedFieldPositions -= randomSymmetrisedFieldPositions.dot(basis[i]) * basis[i]\n",
    "            dummy = ( len(randomSymmetrisedFieldPositions) == 0 )\n",
    "        \n",
    "        randomSymmetrisedFieldPositions.normalise()\n",
    "        labels.append([topstate, Rtableaux[0]])\n",
    "        basis.append(randomSymmetrisedFieldPositions)\n",
    "        \n",
    "        permutations = []\n",
    "        for i in range(n-2):\n",
    "            perm = [j+1 for j in range(n)]\n",
    "            perm[i+1] = i+3\n",
    "            perm[i+2] = i+2\n",
    "            permutations.append(perm)\n",
    "        \n",
    "        found = [True] + [ False for i in range(len(Rtableaux)-1) ]\n",
    "        tested = [False for i in range(len(Rtableaux))]\n",
    "        basisindices = [len(basis)-1] + [None for i in range(len(Rtableaux)-1)]\n",
    "        testindex = 0\n",
    "    \n",
    "        while not all(found):\n",
    "            r = Rtableaux[testindex]\n",
    "            basiselement = basis[basisindices[testindex]]\n",
    "            for i in range(len(permutations)):\n",
    "                newr = r.symmetric_group_action_on_entries(permutations[i])\n",
    "                if newr.is_standard():\n",
    "                    tableauindex = Rtableaux.index(newr)\n",
    "                    if not found[tableauindex]:\n",
    "                        position1 = r.cells_containing(i+2)[0]\n",
    "                        position2 = r.cells_containing(i+3)[0]\n",
    "                        distance = Integer(position2[0] - position1[0] + position1[1] - position2[1])\n",
    "                        \n",
    "                        newbasiselement = 1/sqrt(distance^2 - 1) * ( distance *\n",
    "                                                        basiselement.permute(permutations[i]) +  basiselement)\n",
    "                        basis.append(newbasiselement)\n",
    "                        labels.append([topstate, newr])\n",
    "                        basisindices[tableauindex] = len(basis)-1\n",
    "                        found[tableauindex] = True\n",
    "            tested[testindex] = True\n",
    "            while tested[testindex] or not found[testindex]:\n",
    "                testindex += 1\n",
    "                \n",
    "        for state in lambdatableaux[1:]:\n",
    "            for i in range(len(Rtableaux)):\n",
    "                basiselement = basis[basisindices[i]]\n",
    "                newbasiselement = basiselement.lower()\n",
    "                newbasiselement.normalise()\n",
    "                basis.append(newbasiselement)\n",
    "                labels.append([state,Rtableaux[i]])\n",
    "                basisindices[i] += len(Rtableaux)\n",
    "    return (labels, basis)\n",
    "\n",
    "# Gives the U(2)-covariant basis of free-field operators, with caveats. They are unnormalised, and if there is a non-trivial\n",
    "# multiplicity for a given Lambda, R then this returns the appropriate number of vectors, but they won't be orthogonal\n",
    "def GL2Basis(fieldContent):\n",
    "    calculator = correlatorCalculator(fieldContent)\n",
    "    print('Calculator created')\n",
    "\n",
    "    fplabels, fpbasis = VectorGenerator(sum(fieldContent))\n",
    "    multiplicities = lambdaRmultiplicities(sum(fieldContent))\n",
    "    print('Basis labels and multiplicities are:')\n",
    "    print(multiplicities)\n",
    "    if fieldContent[1] == 0:\n",
    "        fieldContent.pop()\n",
    "    fpbasis = [fpbasis[i] for i in range(len(fplabels)) if fplabels[i][0].evaluation() == fieldContent] \n",
    "    fplabels = [lbl for lbl in fplabels if lbl[0].evaluation() == fieldContent]\n",
    "    if len(fieldContent) == 1:\n",
    "        fieldContent.append(0)\n",
    "    partitions = list(Partitions(sum(fieldContent)))\n",
    "    lambdaPartitions = [ p for p in partitions if len(p) == 1 or (len(p) == 2 and p[1] <= fieldContent[1])]\n",
    "    fpvectors = []\n",
    "    for Lambda in lambdaPartitions:\n",
    "        fpvectors.append([ fpbasis[i] for i in range(len(fplabels)) if fplabels[i][0].shape() == Lambda])\n",
    "    print('Setup lambda vectors')\n",
    "    \n",
    "    G = SymmetricGroup(sum(fieldContent))\n",
    "    representations = [ SymmetricGroupRepresentation(p, 'orthogonal') for p in partitions]\n",
    "    operators = []\n",
    "    labels = []\n",
    "    for Lambda, R, mult in multiplicities:\n",
    "        print(Lambda, R)\n",
    "        if Lambda in lambdaPartitions:\n",
    "            lambdaindex = lambdaPartitions.index(Lambda)\n",
    "            Rindex = partitions.index(R)\n",
    "            rep = representations[Rindex]\n",
    "            dim = rep(G[0]).dimensions()[0]\n",
    "            fpvectorindex = len(fpvectors[lambdaindex]) - 1\n",
    "            for multindex in range(mult):\n",
    "                print(multindex)\n",
    "                dummy = True\n",
    "                while dummy:\n",
    "                    fpvector = fpvectors[lambdaindex][fpvectorindex]\n",
    "                    print('attempting with vector index ' + str(fpvectorindex))\n",
    "                    randomcoefficients = [ ZZ.random_element(1,5) for i in range(dim) ]\n",
    "                    coefficients = []\n",
    "                    permutations = []\n",
    "                    for cf, fp in fpvector:\n",
    "                        h = permFromFieldPositions(fp)\n",
    "                        for g in G:\n",
    "                            matrix = rep(g)\n",
    "                            coefficients.append(cf * sum([matrix[0,i] * randomcoefficients[i] for i in range(dim)]))\n",
    "                            permutations.append(h * g * h)\n",
    "                    op = Operator(fieldContent,[],[]) + Operator(fieldContent, coefficients, permutations=permutations)\n",
    "                    op.canonicalizeRadicalsInCoefficients()\n",
    "                    op.expandCoefficients()\n",
    "                    dummy = (len(op) == 0)\n",
    "                    fpvectorindex -= 1\n",
    "                operators.append(op)\n",
    "                labels.append((Lambda, R, multindex+1))\n",
    "            print('')\n",
    "    return Basis(fieldContent, operators=operators, labels=labels)\n",
    "\n",
    "# given a string generated by the trace class __str__ function, reconstructs the trace\n",
    "def traceFromString(string):\n",
    "    wordlist = [ s[3:] for s in string.split(')') ][:-1]\n",
    "    \n",
    "    concat = ''.join(wordlist)\n",
    "    fieldcontent = [concat.count('X'), concat.count('Y')]\n",
    "    \n",
    "    tuplelist = []\n",
    "    Xs_used = 0\n",
    "    Ys_used = 0\n",
    "    for w in wordlist:\n",
    "        if len(w) >= 2:\n",
    "            totuple = []\n",
    "            for letter in w:\n",
    "                if letter == 'X':\n",
    "                    totuple.append(Xs_used + 1)\n",
    "                    Xs_used += 1\n",
    "                elif letter == 'Y':\n",
    "                    totuple.append(fieldcontent[0] + Ys_used + 1)\n",
    "                    Ys_used += 1\n",
    "                else:\n",
    "                    raise Exception('Word should consist only of Xs and Ys')\n",
    "            tuplelist.append(tuple(totuple))\n",
    "    return Trace(fieldcontent, tuplelist)\n",
    "\n",
    "# Applies the U(2) lowering operator to a trace\n",
    "def lowerTrace(trace):\n",
    "    if trace.fieldContent[0] == 0:\n",
    "        raise Exception('Cannot lower operator any further')\n",
    "    else:\n",
    "        fieldContent = [trace.fieldContent[0]-1, trace.fieldContent[1]+1]\n",
    "        op = Operator(fieldContent,[],[])\n",
    "        trstring = str(trace)\n",
    "        startindex = 0\n",
    "        while trstring[startindex:].count('X') > 0:\n",
    "            xindex = trstring[startindex:].index('X')\n",
    "            startindex += xindex + 1\n",
    "            newtrstring = trstring[:startindex-1] + 'Y' + trstring[startindex:]\n",
    "            op += 1 * traceFromString(newtrstring)\n",
    "        return op\n",
    "\n",
    "# Applies the U(2) lowering operator to an operator\n",
    "def lowerOperator(op):\n",
    "    if op.fieldContent[0] == 0:\n",
    "        raise Exception('Cannot lower operator any further')\n",
    "    else:\n",
    "        fieldContent = [op.fieldContent[0]-1, op.fieldContent[1]+1]\n",
    "        newop = Operator(fieldContent,[],[])\n",
    "        for cf, tr in op:\n",
    "            newop += cf * lowerTrace(tr)\n",
    "        return newop\n",
    "\n",
    "# changes the sign of those traces whose defining permutation is odd\n",
    "def changeSign(op):\n",
    "    newop = op.copy()\n",
    "    for i in range(len(newop)):\n",
    "        newop.coefficients[i] *= newop.traces[i].permutation.sign()\n",
    "    return newop\n",
    "\n",
    "#Generates a string that will represent the trace, operator or basis in Latex. Some editing is sometimes still necessary\n",
    "def latexString(op, operatorSymbol='O', labelType=None):\n",
    "    if isinstance(op, Basis):\n",
    "        basis = op\n",
    "        \n",
    "        if basis.labelled:\n",
    "            output = '\\\\ytableausetup{boxsize=7pt}\\n'\n",
    "            output += '\\\\begin{align*}\\n'\n",
    "            for lbl, op1 in basis:\n",
    "                output += operatorSymbol + '_{\\n'\n",
    "                for i in range(len(labelType)):\n",
    "                    if labelType[i] == 'semi-standard tableau':\n",
    "                        content = [1 if j < basis.fieldContent[0] else 2 for j in range(sum(basis.fieldContent))]\n",
    "                        output += '\\\\fontsize{6pt}{0} \\\\begin{ytableau}\\n'\n",
    "                        for j in range(lbl[i][0]):\n",
    "                            output += str(content[j]) + ' & '\n",
    "                        output = output[:-2]\n",
    "                        if len(lbl[i]) > 1 and lbl[i][1] > 0:\n",
    "                            output += '\\\\\\\\ '\n",
    "                            for j in range(lbl[i][1]):\n",
    "                                output += str(content[j + lbl[i][0]]) + ' & '\n",
    "                            output = output[:-2]\n",
    "                        output += '\\n\\\\end{ytableau} \\\\fontsize{12pt}{0} ,\\n'\n",
    "                    if labelType[i] == 'partition':\n",
    "                        output += str(lbl[i])\n",
    "                        output += ' ,\\n'\n",
    "                    if labelType[i] == 'multiplicity':\n",
    "                        output += str(lbl[i])\n",
    "                        output += ' ,\\n'\n",
    "                output = output[:-2]\n",
    "                output += '} & =\\n'\n",
    "                cf = gcd(op1.coefficients)\n",
    "                if cf != 1:\n",
    "                    output += latex(cf) + ' \\\\left[\\n'\n",
    "                    output += latexString(1/cf * op1) + '\\\\right] \\\\\\\\\\n'\n",
    "                else:\n",
    "                    output += latexString(op1) + '\\\\\\\\\\n'\n",
    "            output += '\\\\end{align*}\\n'\n",
    "            output += '\\\\ytableausetup{boxsize=normal}'\n",
    "            return output\n",
    "        else:\n",
    "            return NotImplemented\n",
    "    \n",
    "    elif isinstance(op, Operator):\n",
    "        output = ''\n",
    "        for cf, tr in op:\n",
    "            try: \n",
    "                cf = Rational(cf)\n",
    "            except TypeError:\n",
    "                cf = cf\n",
    "            if type(cf) == sage.symbolic.expression.Expression:\n",
    "                output += '+ \\\\left(' + latex(cf) + '\\\\right) '\n",
    "            else: \n",
    "                if cf > 0:\n",
    "                    output += '+ '\n",
    "                else:\n",
    "                    output += '- '\n",
    "            \n",
    "                if abs(cf) != 1:\n",
    "                    output += latex(abs(cf)) + ' '\n",
    "            output += latexString(tr) + '\\n'\n",
    "        if output[0:2] == '+ ':\n",
    "            output = output[2:]\n",
    "        return output\n",
    "            \n",
    "        \n",
    "    elif isinstance(op, Trace):\n",
    "        \n",
    "        # Turn the permutation into a list of matrix words\n",
    "        matrixWords = []\n",
    "        for cycle in op.permutation.cycle_tuples(singletons=True):\n",
    "            word = ''\n",
    "            for i in cycle:\n",
    "                if i <= op.fieldContent[0]:\n",
    "                    word += 'X'\n",
    "                else:\n",
    "                    word += 'Y'\n",
    "            \n",
    "            wordRotations = [word]\n",
    "            for i in range(len(word)-1):\n",
    "                word = word[-1] + word[:-1]\n",
    "                wordRotations.append(word)\n",
    "            matrixWords.append(min(wordRotations))\n",
    "        \n",
    "        # Find multiplicity of each unique matrix word\n",
    "        wordcounts = {}\n",
    "        for w in matrixWords:\n",
    "            if w in wordcounts:\n",
    "                wordcounts[w] += 1\n",
    "            else:\n",
    "                wordcounts.update({w:1})\n",
    "        \n",
    "        output = ''\n",
    "        words = wordcounts.keys()\n",
    "        words.sort()\n",
    "        for word in words:\n",
    "            count = wordcounts[word]\n",
    "            # Find Lyndon word and exponent for each unique matrix word. \n",
    "            for d in divisors(len(word)):\n",
    "                prefix = word[:d]\n",
    "                for i in range(len(word)/d -1):\n",
    "                    prefix += word[:d]\n",
    "                if prefix == word:\n",
    "                    break\n",
    "            lyndonword = word[:d]\n",
    "            exp = len(word)/d\n",
    "            \n",
    "            # Turn each Lyndon word into a latex string (e.g. XXXYY -> X^3 Y^2)\n",
    "            currentletter = lyndonword[0]\n",
    "            index = 1\n",
    "            letters = [currentletter]\n",
    "            blocks = []\n",
    "            while index < len(lyndonword):\n",
    "                if lyndonword[index] != currentletter:\n",
    "                    blocks.append(index - sum(blocks))\n",
    "                    currentletter = lyndonword[index]\n",
    "                    letters.append(currentletter)\n",
    "                index += 1\n",
    "            blocks.append(index - sum(blocks))\n",
    "            string = ''\n",
    "            for i in range(len(blocks)):\n",
    "                string += letters[i]\n",
    "                if blocks[i] > 1:\n",
    "                    string += '^' + str(blocks[i])\n",
    "                string += ' '\n",
    "            string = string[:-1]\n",
    "            \n",
    "            # Add latex for brackets and exponents\n",
    "            if exp > 1:\n",
    "                if len(lyndonword) > 1:\n",
    "                    string = '\\\\left( '+string+' \\\\right)'\n",
    "                string += '^'+str(exp)\n",
    "            string = '\\\\tr ' + string\n",
    "            \n",
    "            if count > 1:\n",
    "                string = '\\\\left( '+ string + ' \\\\right)^' + str(count)\n",
    "        \n",
    "            output += string + ' '\n",
    "            \n",
    "        \n",
    "        return output\n",
    "\n",
    "# generates the U(2)-covariant basis of multi-symmetric functions\n",
    "def GL2multiSymmetricBasis(fieldContent):\n",
    "    totalFieldContent = sum(fieldContent)\n",
    "    partitionList = list(Partitions(sum(fieldContent)))\n",
    "\n",
    "    operators = []\n",
    "    labels = []\n",
    "    for ycontent in range(fieldContent[1]+1):\n",
    "        currentFieldContent = [totalFieldContent-ycontent,ycontent]\n",
    "        calculator = correlatorCalculator(currentFieldContent)\n",
    "        for i in range(len(operators)):\n",
    "            operators[i] = lowerOperator(operators[i])\n",
    "            operators[i] /= sqrt(calculator.calculate(operators[i],operators[i],'planar'))\n",
    "            operators[i].canonicalizeRadicalsInCoefficients()\n",
    "        basis = multiSymmetricBasis(currentFieldContent)\n",
    "        for p in partitionList:\n",
    "            basisIndices = []\n",
    "            for i in range(len(basis)):\n",
    "                basisPartition = list(np.sum(np.array(basis.labels[i]), axis=1))\n",
    "                basisPartition.sort(reverse=True)\n",
    "                if p == basisPartition:\n",
    "                    basisIndices.append(i)\n",
    "            indices = []\n",
    "            for i in range(len(labels)):\n",
    "                if p == labels[i][1]:\n",
    "                    indices.append(i)\n",
    "            multiplicity = len(basisIndices) - len(indices)\n",
    "            testIndex = 0\n",
    "            for i in range(multiplicity):\n",
    "                cont = True\n",
    "                while cont:\n",
    "                    op = basis[basisIndices[testIndex]]\n",
    "                    for j in indices:\n",
    "                        op -= calculator.calculate(operators[j], op, 'planar') * operators[j]\n",
    "                    op.canonicalizeRadicalsInCoefficients()\n",
    "                    cont =  len(op.coefficients) == 0\n",
    "                    testIndex += 1\n",
    "                op /= sqrt(calculator.calculate(op, op, 'planar'))\n",
    "                op.canonicalizeRadicalsInCoefficients()\n",
    "                operators.append(op)\n",
    "                labels.append((currentFieldContent,p,i+1))\n",
    "                indices.append(len(operators)-1)\n",
    "\n",
    "    return Basis(fieldContent, operators, labels)\n",
    "\n",
    "# orthogonalises the U(2)-covariant basis of multi-symmetric functions using the G-weighted inner product\n",
    "def orthogonalisedBasis(fieldContent):\n",
    "    basis = GL2multiSymmetricBasis(fieldContent)\n",
    "    totalfieldContent = sum(fieldContent)\n",
    "    calculator = correlatorCalculator(fieldContent)\n",
    "    operators = []\n",
    "    labels = []\n",
    "    for lambda1 in range(fieldContent[1]+1):\n",
    "        Lambda = [totalfieldContent-lambda1, lambda1]\n",
    "        operatorsByLambda = []\n",
    "        labelsByLambda = []\n",
    "        indicesByPartition = {}\n",
    "        for i in range(len(basis)):\n",
    "            if basis.labels[i][0] == Lambda:\n",
    "                if basis.labels[i][1] in indicesByPartition:\n",
    "                    indicesByPartition[basis.labels[i][1]].append(i)\n",
    "                else: \n",
    "                    indicesByPartition.update({basis.labels[i][1]:[i]})\n",
    "        partitions = indicesByPartition.keys()\n",
    "        partitions.sort(key=transposePartition,reverse=True)\n",
    "        for p in partitions:\n",
    "            for mult in range(len(indicesByPartition[p])):\n",
    "                index = indicesByPartition[p][mult]\n",
    "                op = basis[index]\n",
    "                for i in range(len(operatorsByLambda)):\n",
    "                    op1 = operatorsByLambda[i]\n",
    "                    op -= calculator.calculate(op,op1,'G')/calculator.calculate(op1,op1,'G') * op1\n",
    "                op.expandCoefficients()\n",
    "                op.canonicalizeRadicalsInCoefficients()\n",
    "                op.factorCoefficients()\n",
    "                op /= sqrt(calculator.calculate(op,op,'planar'))\n",
    "                op.expandCoefficients()\n",
    "                op.canonicalizeRadicalsInCoefficients()\n",
    "                op.factorCoefficients()\n",
    "                operatorsByLambda.append(op)\n",
    "                labelsByLambda.append((Lambda,p,mult+1))\n",
    "        operators += operatorsByLambda\n",
    "        labels += labelsByLambda\n",
    "\n",
    "    return Basis(fieldContent, operators, labels)\n",
    "\n",
    "# transposes a partition\n",
    "def transposePartition(p):\n",
    "    q = [sum([1 if i > j else 0 for i in p]) for j in range(sum(p))]\n",
    "    try: \n",
    "        q = q[:q.index(0)]\n",
    "    except ValueError:\n",
    "        q = q\n",
    "    return q\n",
    "\n",
    "\n"
   ]
  },
  {
   "cell_type": "code",
   "execution_count": 5,
   "metadata": {},
   "outputs": [],
   "source": [
    "# Unit Tests (these are an early attempt to follow good coding practice. This didn't last long... sorry)\n",
    "\n",
    "# Trace class\n",
    "\n",
    "# Testing initialisation\n",
    "trace1 = Trace([2,2], PermutationGroupElement([2,3,4,1]))\n",
    "assert(str(trace1) == '(TrXXYY)')\n",
    "trace2 = Trace([2,2], [(1,3),(2,4)])\n",
    "assert(str(trace2) == '(TrXY)(TrXY)')\n",
    "trace3 = Trace([10,6], [11,1,12,5,13,7,6,8,14,15,2,4,3,10,9,16])\n",
    "assert(str(trace3) == '(TrX)(TrXX)(TrXXY)(TrXXYXY)(TrXYXY)(TrY)')\n",
    "# Testing trace multiplication\n",
    "trace4 = Trace([2,2], [2,3,4,1])\n",
    "assert(str(trace4) == '(TrXXYY)')\n",
    "multTrace = trace3 * trace4\n",
    "assert(str(multTrace) == '(TrX)(TrXX)(TrXXY)(TrXXYXY)(TrXXYY)(TrXYXY)(TrY)')\n",
    "# Testing equality checks and copying\n",
    "trace5 = Trace([12,8], [1,3,2,5,13,7,14,15,10,16,18,19,4,8,6,17,9,12,11,20])\n",
    "assert(trace5 == multTrace)\n",
    "trace6 = trace1.copy()\n",
    "assert(trace6 == trace1)\n",
    "assert(not trace6 is trace1)\n",
    "# Testing scalar multiplication and division\n",
    "assert(isinstance(3 * trace1, Operator))\n",
    "assert(str(3 * trace1) == '3(TrXXYY)')\n",
    "assert(str(trace1 / 3) == '1/3(TrXXYY)')\n",
    "# Testing initialisation using fieldPositions\n",
    "trace7 = Trace([2,2], PermutationGroupElement([2,3,4,1]), fieldPositions=[1,2,1,2])\n",
    "assert(str(trace7) == '(TrXYXY)')\n",
    "\n",
    "\n",
    "# Operator class\n",
    "\n",
    "# Testing initialisation\n",
    "trace8 = Trace([2,2],[(1,2,3)])\n",
    "trace9 = Trace([2,2],[(1,3,2,4)])\n",
    "trace10 = Trace([2,2],[3,4,1,2])\n",
    "operator1 = Operator([2,2], [5,1,-1,-3,(N+5)/(N-2)], traces=[trace1,trace2,trace8,trace9,trace10])\n",
    "assert(str(operator1) == '5(TrXXYY) + (TrXY)(TrXY) - (TrXXY)(TrY) - 3(TrXYXY) + ((N + 5)/(N - 2))(TrXY)(TrXY)')\n",
    "operator2 = Operator([2,2], [3,-1], permutations=[[2,3,4,1],[3,4,2,1]])\n",
    "assert(str(operator2) == '3(TrXXYY) - (TrXYXY)')\n",
    "operator3 = Operator([2,2], [-2, 4], permutations=[[2,3,4,1],[3,4,2,1]], fieldPositions=[1,2,1,2])\n",
    "assert(str(operator3) == '-2(TrXYXY) + 4(TrXXYY)')\n",
    "# Testing multiplication and division by scalars\n",
    "assert(str(3 * operator2) == '9(TrXXYY) - 3(TrXYXY)')\n",
    "assert(str(operator2 / 5) == '3/5(TrXXYY) - 1/5(TrXYXY)')\n",
    "#Testing multiplication by traces\n",
    "assert(str(trace1 * operator2) == '3(TrXXYY)(TrXXYY) - (TrXXYY)(TrXYXY)')\n",
    "assert((trace1 * operator2).fieldContent == [4,4])\n",
    "#Testing multiplication by other operators\n",
    "assert(str(operator2 * operator3) == '-10(TrXXYY)(TrXYXY) + 12(TrXXYY)(TrXXYY) + 2(TrXYXY)(TrXYXY)')\n",
    "assert((operator2 * operator3).fieldContent == [4,4])\n",
    "# Testing addition and subtraction of other operators\n",
    "assert(str(operator2 + operator3) == '7(TrXXYY) - 3(TrXYXY)')\n",
    "assert(str(operator2 + 2 * trace2) == '3(TrXXYY) - (TrXYXY) + 2(TrXY)(TrXY)')\n",
    "assert(str(operator2 - operator3) == '-(TrXXYY) + (TrXYXY)')\n",
    "\n",
    "# Basis class\n",
    "\n"
   ]
  },
  {
   "cell_type": "code",
   "execution_count": 3,
   "metadata": {},
   "outputs": [],
   "source": [
    "calculator22 = correlatorCalculator([2,2])\n",
    "calculator32 = correlatorCalculator([3,2])\n",
    "calculator42 = correlatorCalculator([4,2])\n",
    "calculator33 = correlatorCalculator([3,3])"
   ]
  },
  {
   "cell_type": "code",
   "execution_count": 69,
   "metadata": {},
   "outputs": [],
   "source": [
    "#Code generating the GL(2) basis with field content 2,2\n",
    "labels = [([4],[4],1), ([4],[3,1],1), ([4],[2,2],1), ([4],[2,1,1],1), ([4],[1,1,1,1],1),\n",
    "         ([3,1],[3,1],1), ([3,1],[2,1,1],1), ([2,2],[3,1],1), ([2,2],[2,2],1), ([2,2],[2,1,1],1)]\n",
    "\n",
    "tracelist = [ Trace([2,2], [1,2,3,4]),\n",
    "            Trace([2,2], [(1,2)]), Trace([2,2], [(1,3)]), Trace([2,2], [(3,4)]),\n",
    "            Trace([2,2], [(1,2,3)]), Trace([2,2], [(1,3,4)]),\n",
    "            Trace([2,2], [(1,2),(3,4)]), Trace([2,2],[(1,3),(2,4)]), \n",
    "            Trace([2,2], [(1,2,3,4)]), Trace([2,2],[(1,3,2,4)])]\n",
    "\n",
    "coefficients = [[1,1,4,1,4,4,1,2,4,2], [3,1,4,1,0,0,-1,-2,-4,-2], [1,0,0,0,-2,-2,1,2,0,0], [3,-1,-4,-1,0,0,-1,-2,4,2],\n",
    "               [1,-1,-4,-1,4,4,1,2,-4,-2], [0,1,0,-1,2,-2,0,0,0,0], [0,-1,0,1,2,-2,0,0,0,0], [0,1,-2,1,0,0,2,-2,2,-2],\n",
    "               [0,-1,2,-1,0,0,0,0,2,-2], [0,-1,2,-1,0,0,2,-2,-2,2]]\n",
    "\n",
    "norms = [sqrt(3)*sqrt(2)/24, sqrt(3)*sqrt(2)/24, sqrt(3)*sqrt(2)/12, sqrt(3)*sqrt(2)/24, sqrt(3)*sqrt(2)/24,\n",
    "        1/4, 1/4, sqrt(3)/12, sqrt(3)*sqrt(2)/12, sqrt(3)/12]\n",
    "\n",
    "for i in range(10):\n",
    "    for j in range(10):\n",
    "        coefficients[i][j] *= norms[i]\n",
    "\n",
    "operators = [Operator([2,2],coefficients=cfs, traces=tracelist) for cfs in coefficients]\n",
    "\n",
    "gl2basis_fc22 = Basis([2,2],operators,labels=labels)"
   ]
  },
  {
   "cell_type": "code",
   "execution_count": 83,
   "metadata": {},
   "outputs": [],
   "source": [
    "msbasis22 = multiSymmetricBasis([2,2])\n",
    "\n"
   ]
  },
  {
   "cell_type": "code",
   "execution_count": 102,
   "metadata": {},
   "outputs": [],
   "source": [
    "# Orthogonal basis for the Lambda = [2,2] sector in which the stringy exclusion principle is manifest.\n",
    "# First gives the symmetrised trace basis, normalised so that the planar inner product is 1.\n",
    "# Then gives the BPS basis, again normalised so that the planar inner product is 1\n",
    "comm = Operator([2,2], coefficients=[1,-1], permutations=[[(1,2,3,4)],[1,3,2,4]])\n",
    "\n",
    "st22_1 = gl2basis_fc22.linearCombination([0,0,0,0,0,0,0,sqrt(3)/6, sqrt(2)*sqrt(3)/6, sqrt(3)/2])\n",
    "st22_1.canonicalizeRadicalsInCoefficients()\n",
    "\n",
    "st22_2 = gl2basis_fc22.linearCombination([0,0,0,0,0,0,0,-(N+2)*(2*N-1), sqrt(2)*N*(N+1), -(N-2)])\n",
    "st22_2 /= sqrt(2)*sqrt(3*N^4 + 8*N^3 + 2*N^2 - 8*N + 4)\n",
    "st22_2.canonicalizeRadicalsInCoefficients()\n",
    "st22_2.factorCoefficients()\n",
    "\n",
    "bps22_1 = gl2basis_fc22.linearCombination([0,0,0,0,0,0,0,N*(N-2), sqrt(2)*(N-2)*(N+2), 3*N*(N+2)])\n",
    "bps22_1 /= 2*sqrt(3*N^4 + 8*N^3 + 6*N^2 + 8)\n",
    "bps22_1.canonicalizeRadicalsInCoefficients()\n",
    "bps22_1.factorCoefficients()\n",
    "\n",
    "bps22_2 = gl2basis_fc22.linearCombination([0,0,0,0,0,0,0,-(2*N-1), sqrt(2)*(N+1), -1])\n",
    "bps22_2 /= sqrt(2)*sqrt(3*N^2 + 2)\n",
    "bps22_2.canonicalizeRadicalsInCoefficients()\n",
    "bps22_2.factorCoefficients()\n",
    "\n",
    "labels = [([4],[4],1), ([4],[3,1],1), ([4],[2,2],1), ([4],[2,1,1],1), ([4],[1,1,1,1],1), ([3,1],[3,1],1), \n",
    "          ([3,1],[2,1,1],1), ([2,2],[2,1,1],1), ([2,2],[2,2],1)]\n",
    "\n",
    "operators = gl2basis_fc22.operators[:7] + [bps22_1,bps22_2]\n",
    "\n",
    "bpsbasis_fc22 = Basis([2,2], operators, labels)\n",
    "\n"
   ]
  },
  {
   "cell_type": "code",
   "execution_count": 4,
   "metadata": {},
   "outputs": [],
   "source": [
    "#Code generating the GL(2) basis with field content 3,2\n",
    "labels = [([5], [5], 1), ([5], [4, 1], 1), ([5], [3, 2], 1), ([5], [3, 1, 1], 1), ([5], [2, 2, 1], 1), \n",
    "          ([5], [2, 1, 1, 1], 1), ([5], [1, 1, 1, 1, 1], 1), ([4, 1], [4, 1], 1), ([4, 1], [3, 2], 1), \n",
    "          ([4, 1], [3, 1, 1], 1), ([4, 1], [2, 2, 1], 1), ([4, 1], [2, 1, 1, 1], 1), ([3, 2], [4, 1], 1), \n",
    "          ([3, 2], [3, 2], 1), ([3, 2], [3, 1, 1], 1), ([3, 2], [3, 1, 1], 2), ([3, 2], [2, 2, 1], 1), \n",
    "          ([3, 2], [2, 1, 1, 1], 1)]\n",
    "\n",
    "tracelist = [ Trace([3,2], [1,2,3,4,5]), \n",
    "            Trace([3,2],[(1,2)]), Trace([3,2],[(1,4)]), Trace([3,2],[(4,5)]),\n",
    "            Trace([3,2],[(1,2),(3,4)]), Trace([3,2],[(1,2),(4,5)]), Trace([3,2],[(1,4),(2,5)]),\n",
    "            Trace([3,2],[(1,2,3)]), Trace([3,2],[(1,2,4)]), Trace([3,2],[(1,4,5)]),\n",
    "            Trace([3,2],[(1,2,3),(4,5)]), Trace([3,2],[(1,2,4),(3,5)]), Trace([3,2],[(1,4,5),(2,3)]), \n",
    "            Trace([3,2],[(1,2,3,4)]), Trace([3,2],[(1,2,4,5)]), Trace([3,2],[(1,4,2,5)]),\n",
    "            Trace([3,2],[(1,2,3,4,5)]), Trace([3,2],[(1,2,4,3,5)])]\n",
    "\n",
    "coefficients = [[1/120*sqrt(5)*sqrt(2), 1/40*sqrt(5)*sqrt(2), 1/20*sqrt(5)*sqrt(2), 1/120*sqrt(5)*sqrt(2), 1/20*sqrt(5)*sqrt(2), 1/40*sqrt(5)*sqrt(2), 1/20*sqrt(5)*sqrt(2), 1/60*sqrt(5)*sqrt(2), 1/10*sqrt(5)*sqrt(2), 1/20*sqrt(5)*sqrt(2), 1/60*sqrt(5)*sqrt(2), 1/10*sqrt(5)*sqrt(2), 1/20*sqrt(5)*sqrt(2), 1/10*sqrt(5)*sqrt(2), 1/10*sqrt(5)*sqrt(2), 1/20*sqrt(5)*sqrt(2), 1/10*sqrt(5)*sqrt(2), 1/10*sqrt(5)*sqrt(2)], [1/30*sqrt(5)*sqrt(2), 1/20*sqrt(5)*sqrt(2), 1/10*sqrt(5)*sqrt(2), 1/60*sqrt(5)*sqrt(2), 0, 0, 0, 1/60*sqrt(5)*sqrt(2), 1/10*sqrt(5)*sqrt(2), 1/20*sqrt(5)*sqrt(2), -1/60*sqrt(5)*sqrt(2), -1/10*sqrt(5)*sqrt(2), -1/20*sqrt(5)*sqrt(2), 0, 0, 0, -1/10*sqrt(5)*sqrt(2), -1/10*sqrt(5)*sqrt(2)], [1/24*sqrt(5)*sqrt(2), 1/40*sqrt(5)*sqrt(2), 1/20*sqrt(5)*sqrt(2), 1/120*sqrt(5)*sqrt(2), 1/20*sqrt(5)*sqrt(2), 1/40*sqrt(5)*sqrt(2), 1/20*sqrt(5)*sqrt(2), -1/60*sqrt(5)*sqrt(2), -1/10*sqrt(5)*sqrt(2), -1/20*sqrt(5)*sqrt(2), 1/60*sqrt(5)*sqrt(2), 1/10*sqrt(5)*sqrt(2), 1/20*sqrt(5)*sqrt(2), -1/10*sqrt(5)*sqrt(2), -1/10*sqrt(5)*sqrt(2), -1/20*sqrt(5)*sqrt(2), 0, 0], [1/20*sqrt(5)*sqrt(2), 0, 0, 0, -1/10*sqrt(5)*sqrt(2), -1/20*sqrt(5)*sqrt(2), -1/10*sqrt(5)*sqrt(2), 0, 0, 0, 0, 0, 0, 0, 0, 0, 1/10*sqrt(5)*sqrt(2), 1/10*sqrt(5)*sqrt(2)], [1/24*sqrt(5)*sqrt(2), -1/40*sqrt(5)*sqrt(2), -1/20*sqrt(5)*sqrt(2), -1/120*sqrt(5)*sqrt(2), 1/20*sqrt(5)*sqrt(2), 1/40*sqrt(5)*sqrt(2), 1/20*sqrt(5)*sqrt(2), -1/60*sqrt(5)*sqrt(2), -1/10*sqrt(5)*sqrt(2), -1/20*sqrt(5)*sqrt(2), -1/60*sqrt(5)*sqrt(2), -1/10*sqrt(5)*sqrt(2), -1/20*sqrt(5)*sqrt(2), 1/10*sqrt(5)*sqrt(2), 1/10*sqrt(5)*sqrt(2), 1/20*sqrt(5)*sqrt(2), 0, 0], [1/30*sqrt(5)*sqrt(2), -1/20*sqrt(5)*sqrt(2), -1/10*sqrt(5)*sqrt(2), -1/60*sqrt(5)*sqrt(2), 0, 0, 0, 1/60*sqrt(5)*sqrt(2), 1/10*sqrt(5)*sqrt(2), 1/20*sqrt(5)*sqrt(2), 1/60*sqrt(5)*sqrt(2), 1/10*sqrt(5)*sqrt(2), 1/20*sqrt(5)*sqrt(2), 0, 0, 0, -1/10*sqrt(5)*sqrt(2), -1/10*sqrt(5)*sqrt(2)], [1/120*sqrt(5)*sqrt(2), -1/40*sqrt(5)*sqrt(2), -1/20*sqrt(5)*sqrt(2), -1/120*sqrt(5)*sqrt(2), 1/20*sqrt(5)*sqrt(2), 1/40*sqrt(5)*sqrt(2), 1/20*sqrt(5)*sqrt(2), 1/60*sqrt(5)*sqrt(2), 1/10*sqrt(5)*sqrt(2), 1/20*sqrt(5)*sqrt(2), -1/60*sqrt(5)*sqrt(2), -1/10*sqrt(5)*sqrt(2), -1/20*sqrt(5)*sqrt(2), -1/10*sqrt(5)*sqrt(2), -1/10*sqrt(5)*sqrt(2), -1/20*sqrt(5)*sqrt(2), 1/10*sqrt(5)*sqrt(2), 1/10*sqrt(5)*sqrt(2)], [0, -1/15*sqrt(5), 1/30*sqrt(5), 1/30*sqrt(5), -1/10*sqrt(5), 1/30*sqrt(5), 1/15*sqrt(5), -1/15*sqrt(5), -1/15*sqrt(5), 2/15*sqrt(5), 0, 0, 0, -1/5*sqrt(5), 2/15*sqrt(5), 1/15*sqrt(5), 0, 0], [0, -1/30*sqrt(5)*sqrt(2), 1/60*sqrt(5)*sqrt(2), 1/60*sqrt(5)*sqrt(2), 1/10*sqrt(5)*sqrt(2), -1/30*sqrt(5)*sqrt(2), -1/15*sqrt(5)*sqrt(2), -1/30*sqrt(5)*sqrt(2), -1/30*sqrt(5)*sqrt(2), 1/15*sqrt(5)*sqrt(2), -1/20*sqrt(5)*sqrt(2), -1/20*sqrt(5)*sqrt(2), 1/10*sqrt(5)*sqrt(2), 1/20*sqrt(5)*sqrt(2), -1/30*sqrt(5)*sqrt(2), -1/60*sqrt(5)*sqrt(2), 0, 0], [0, 1/15*sqrt(5)*sqrt(3), -1/30*sqrt(5)*sqrt(3), -1/30*sqrt(5)*sqrt(3), 0, 0, 0, 0, 0, 0, -1/30*sqrt(5)*sqrt(3), -1/30*sqrt(5)*sqrt(3), 1/15*sqrt(5)*sqrt(3), -1/10*sqrt(5)*sqrt(3), 1/15*sqrt(5)*sqrt(3), 1/30*sqrt(5)*sqrt(3), 0, 0], [0, -1/30*sqrt(5)*sqrt(2), 1/60*sqrt(5)*sqrt(2), 1/60*sqrt(5)*sqrt(2), -1/10*sqrt(5)*sqrt(2), 1/30*sqrt(5)*sqrt(2), 1/15*sqrt(5)*sqrt(2), 1/30*sqrt(5)*sqrt(2), 1/30*sqrt(5)*sqrt(2), -1/15*sqrt(5)*sqrt(2), -1/20*sqrt(5)*sqrt(2), -1/20*sqrt(5)*sqrt(2), 1/10*sqrt(5)*sqrt(2), 1/20*sqrt(5)*sqrt(2), -1/30*sqrt(5)*sqrt(2), -1/60*sqrt(5)*sqrt(2), 0, 0], [0, -1/15*sqrt(5), 1/30*sqrt(5), 1/30*sqrt(5), 1/10*sqrt(5), -1/30*sqrt(5), -1/15*sqrt(5), 1/15*sqrt(5), 1/15*sqrt(5), -2/15*sqrt(5), 0, 0, 0, -1/5*sqrt(5), 2/15*sqrt(5), 1/15*sqrt(5), 0, 0], [0, 1/60*sqrt(5)*sqrt(2), -1/30*sqrt(5)*sqrt(2), 1/60*sqrt(5)*sqrt(2), 0, 1/15*sqrt(5)*sqrt(2), -1/15*sqrt(5)*sqrt(2), 1/60*sqrt(5)*sqrt(2), -1/30*sqrt(5)*sqrt(2), 1/60*sqrt(5)*sqrt(2), 1/20*sqrt(5)*sqrt(2), -1/10*sqrt(5)*sqrt(2), 1/20*sqrt(5)*sqrt(2), 0, 1/15*sqrt(5)*sqrt(2), -1/15*sqrt(5)*sqrt(2), 1/10*sqrt(5)*sqrt(2), -1/10*sqrt(5)*sqrt(2)], [0, 1/12*sqrt(2), -1/6*sqrt(2), 1/12*sqrt(2), 0, 1/12*sqrt(2), -1/12*sqrt(2), 1/12*sqrt(2), -1/6*sqrt(2), 1/12*sqrt(2), 0, 0, 0, 0, -1/6*sqrt(2), 1/6*sqrt(2), -1/4*sqrt(2), 1/4*sqrt(2)], [0, -1/60*sqrt(5)*sqrt(3)*sqrt(2), 1/30*sqrt(5)*sqrt(3)*sqrt(2), -1/60*sqrt(5)*sqrt(3)*sqrt(2), 0, 0, 0, 0, 0, 0, 1/30*sqrt(5)*sqrt(3)*sqrt(2), -1/15*sqrt(5)*sqrt(3)*sqrt(2), 1/30*sqrt(5)*sqrt(3)*sqrt(2), 0, -1/15*sqrt(5)*sqrt(3)*sqrt(2), 1/15*sqrt(5)*sqrt(3)*sqrt(2), 0, 0], [0, 0, 0, 0, 0, -1/10*sqrt(5), 1/10*sqrt(5), 1/10*sqrt(5), -1/5*sqrt(5), 1/10*sqrt(5), 0, 0, 0, 0, 0, 0, 1/10*sqrt(5), -1/10*sqrt(5)], [0, -1/12*sqrt(2), 1/6*sqrt(2), -1/12*sqrt(2), 0, 1/12*sqrt(2), -1/12*sqrt(2), 1/12*sqrt(2), -1/6*sqrt(2), 1/12*sqrt(2), 0, 0, 0, 0, 1/6*sqrt(2), -1/6*sqrt(2), -1/4*sqrt(2), 1/4*sqrt(2)], [0, -1/60*sqrt(5)*sqrt(2), 1/30*sqrt(5)*sqrt(2), -1/60*sqrt(5)*sqrt(2), 0, 1/15*sqrt(5)*sqrt(2), -1/15*sqrt(5)*sqrt(2), 1/60*sqrt(5)*sqrt(2), -1/30*sqrt(5)*sqrt(2), 1/60*sqrt(5)*sqrt(2), -1/20*sqrt(5)*sqrt(2), 1/10*sqrt(5)*sqrt(2), -1/20*sqrt(5)*sqrt(2), 0, -1/15*sqrt(5)*sqrt(2), 1/15*sqrt(5)*sqrt(2), 1/10*sqrt(5)*sqrt(2), -1/10*sqrt(5)*sqrt(2)]]\n",
    "\n",
    "\n",
    "operators = [Operator([3,2],coefficients=cfs, traces=tracelist) for cfs in coefficients]\n",
    "\n",
    "gl2basis_fc32 = Basis([3,2],operators,labels=labels)"
   ]
  },
  {
   "cell_type": "code",
   "execution_count": 5,
   "metadata": {},
   "outputs": [],
   "source": [
    "# Generating bps basis for field content [3,2]\n",
    "Gmatrix = diagonal_matrix([1/((N+4)*(N+3)*(N+2)*(N+1)*N), 1/((N+3)*(N+2)*(N+1)*N*(N-1)),\n",
    "                          1/((N+2)*(N+1)*N^2*(N-1)), 1/((N+2)*(N+1)*N*(N-1)*(N-2)), 1/((N+1)*N^2*(N-1)*(N-2)),\n",
    "                          1/((N+1)*N*(N-1)*(N-2)*(N-3)), 1/((N+1)*N*(N-1)*(N-2)*(N-3)*(N-4)),\n",
    "                          1/((N+3)*(N+2)*(N+1)*N*(N-1)), 1/((N+2)*(N+1)*N^2*(N-1)), 1/((N+2)*(N+1)*N*(N-1)*(N-2)),\n",
    "                          1/((N+1)*N^2*(N-1)*(N-2)), 1/((N+1)*N*(N-1)*(N-2)*(N-3)),\n",
    "                          1/((N+3)*(N+2)*(N+1)*N*(N-1)), 1/((N+2)*(N+1)*N^2*(N-1)), 1/((N+2)*(N+1)*N*(N-1)*(N-2)),\n",
    "                          1/((N+2)*(N+1)*N*(N-1)*(N-2)), 1/((N+1)*N^2*(N-1)*(N-2)), 1/((N+1)*N*(N-1)*(N-2)*(N-3))])\n",
    "\n",
    "Fmatrix = diagonal_matrix([((N+4)*(N+3)*(N+2)*(N+1)*N), ((N+3)*(N+2)*(N+1)*N*(N-1)),\n",
    "                          ((N+2)*(N+1)*N^2*(N-1)), ((N+2)*(N+1)*N*(N-1)*(N-2)), ((N+1)*N^2*(N-1)*(N-2)),\n",
    "                          ((N+1)*N*(N-1)*(N-2)*(N-3)), ((N+1)*N*(N-1)*(N-2)*(N-3)*(N-4)),\n",
    "                          ((N+3)*(N+2)*(N+1)*N*(N-1)), ((N+2)*(N+1)*N^2*(N-1)), ((N+2)*(N+1)*N*(N-1)*(N-2)),\n",
    "                          ((N+1)*N^2*(N-1)*(N-2)), ((N+1)*N*(N-1)*(N-2)*(N-3)),\n",
    "                          ((N+3)*(N+2)*(N+1)*N*(N-1)), ((N+2)*(N+1)*N^2*(N-1)), ((N+2)*(N+1)*N*(N-1)*(N-2)),\n",
    "                          ((N+2)*(N+1)*N*(N-1)*(N-2)), ((N+1)*N^2*(N-1)*(N-2)), ((N+1)*N*(N-1)*(N-2)*(N-3))])\n",
    "\n",
    "comm41 = Operator([3,2], [1,-1], permutations=[[(1,2,4,5)],[(1,4,2,5)]])\n",
    "comm5 = Operator([3,2], [1,-1], permutations=[[(1,2,3,4,5)],[(1,2,4,3,5)]])\n",
    "normalisedcommbasis = Basis([3,2], [comm41,comm5])\n",
    "for i in range(len(normalisedcommbasis)):\n",
    "    normalisedcommbasis.operators[i] /= sqrt(calculator32.calculate(normalisedcommbasis[i],normalisedcommbasis[i],'planar'))\n",
    "    normalisedcommbasis[i].canonicalizeRadicalsInCoefficients()\n",
    "commvectors = [gl2basis_fc32.expand(comm) for comm in normalisedcommbasis]\n",
    "\n",
    "symtracevectors = []\n",
    "Gnorms = []\n",
    "indexorder = [17,16,14,12]\n",
    "for index in indexorder:\n",
    "    symtracevector = vector([0 for i in range(18)])\n",
    "    symtracevector[index] = 1\n",
    "    for commvec in commvectors:\n",
    "        symtracevector -= (symtracevector * commvec) * commvec\n",
    "    for i in range(len(symtracevectors)):\n",
    "        symtracevector -= (symtracevector * Gmatrix * symtracevectors[i])/Gnorms[i] * symtracevectors[i]\n",
    "        for j in range(len(symtracevector)):\n",
    "            symtracevector[j] = symtracevector[j].canonicalize_radical().factor()\n",
    "    planarNorm = (symtracevector * symtracevector).canonicalize_radical().factor()\n",
    "    if planarNorm != 0:\n",
    "        symtracevector *= 1/sqrt(planarNorm)\n",
    "        for i in range(len(symtracevector)):\n",
    "            symtracevector[i] = symtracevector[i].canonicalize_radical().factor()\n",
    "        Gnorms.append((symtracevector * Gmatrix * symtracevector).canonicalize_radical().factor())\n",
    "        symtracevectors.append(symtracevector)\n",
    "\n",
    "labels = gl2basis_fc32.labels[:12] + [([3,2],[2,1,1,1],1),([3,2],[2,2,1],1),([3,2],[3,1,1],1),([3,2],[3,2],1)]\n",
    "operators = gl2basis_fc32.operators[:12]\n",
    "for vec in symtracevectors:\n",
    "    operators.append(gl2basis_fc32.linearCombination(list(vec)))\n",
    "# Changing signs of the operators so they match the sign conventions from the multi-symmetric function orthogonalisation method\n",
    "signs = [1,1,1,1,1,1,1,-1,-1,1,-1,-1,-1,-1,-1,1]\n",
    "for i in range(len(operators)):\n",
    "    operators[i] *= signs[i]\n",
    "symtracebasis_fc32 = Basis([3,2], operators=operators, labels=labels)\n",
    "\n",
    "\n",
    "bpsvectors = [vector([(vec[i]*Gmatrix[i,i]).factor() for i in range(18)]) for vec in symtracevectors]\n",
    "for i in range(len(bpsvectors)):\n",
    "    planarNorm = (bpsvectors[i] * bpsvectors[i]).canonicalize_radical().factor()\n",
    "    bpsvectors[i] *= 1/sqrt(planarNorm)\n",
    "    for j in range(len(bpsvectors[i])):\n",
    "        bpsvectors[i][j] = bpsvectors[i][j].canonicalize_radical().factor()\n",
    "Fnorms = [(vec * Fmatrix * vec).canonicalize_radical().factor() for vec in bpsvectors]\n",
    "\n",
    "labels = gl2basis_fc32.labels[:12] + [([3,2],[2,1,1,1],1),([3,2],[2,2,1],1),([3,2],[3,1,1],1),([3,2],[3,2],1)]\n",
    "operators = gl2basis_fc32.operators[:12]\n",
    "for vec in bpsvectors:\n",
    "    operators.append(gl2basis_fc32.linearCombination(list(vec)))\n",
    "# Changing signs of the operators so they match the sign conventions from the multi-symmetric function orthogonalisation method\n",
    "signs = [1,1,1,1,1,1,1,-1,-1,1,-1,-1,-1,-1,-1,1]\n",
    "for i in range(len(operators)):\n",
    "    operators[i] *= signs[i]\n",
    "\n",
    "bpsbasis_fc32 = Basis([3,2],operators=operators, labels=labels)\n",
    "\n",
    "# Changing signs of the vectors so they match the sign conventions from the multi-symmetric function orthogonalisation method\n",
    "signs = [-1,-1,-1,1]\n",
    "for i in range(4):\n",
    "    symtracevectors[i] *= signs[i]\n",
    "    bpsvectors[i] *= signs[i]"
   ]
  },
  {
   "cell_type": "code",
   "execution_count": 6,
   "metadata": {},
   "outputs": [],
   "source": [
    "msbasis_fc32 = orthogonalisedBasis([3,2])"
   ]
  },
  {
   "cell_type": "code",
   "execution_count": 145,
   "metadata": {},
   "outputs": [],
   "source": [
    "#Code generating the GL(2) basis with field content 4,2 and Lambda = [6,0]\n",
    "labels = [([6], [6], 1), ([6], [5, 1], 1), ([6], [4, 2], 1), ([6], [4, 1, 1], 1), ([6], [3, 3], 1), \n",
    "          ([6], [3, 2, 1], 1), ([6], [3, 1, 1, 1], 1), ([6], [2, 2, 2], 1), ([6], [2, 2, 1, 1], 1), \n",
    "          ([6], [2, 1, 1, 1, 1], 1), ([6], [1, 1, 1, 1, 1, 1], 1)]\n",
    "\n",
    "tracelist = [ Trace([4,2], [1,2,3,4,5,6]), Trace([4,2],[(1,2)]), Trace([4,2],[(1,5)]), Trace([4,2],[(5,6)]),\n",
    "            Trace([4,2],[(1,2),(3,4)]), Trace([4,2],[(1,2),(3,5)]), Trace([4,2],[(1,5),(2,6)]), \n",
    "            Trace([4,2],[(1,2),(5,6)]), Trace([4,2],[(1,2),(3,4),(5,6)]), Trace([4,2],[(1,2),(3,5),(4,6)]),\n",
    "            Trace([4,2],[(1,2,3)]), Trace([4,2],[(1,2,5)]), Trace([4,2],[(1,5,6)]), \n",
    "            Trace([4,2],[(1,2,3),(4,5)]), Trace([4,2],[(1,2,3),(5,6)]), Trace([4,2],[(1,2,5),(3,4)]),\n",
    "            Trace([4,2],[(1,2,5),(3,6)]), Trace([4,2],[(1,5,6),(2,3)]), Trace([4,2],[(1,2,3),(4,5,6)]),\n",
    "            Trace([4,2],[(1,2,5),(3,4,6)]), Trace([4,2],[(1,2,3,4)]), Trace([4,2],[(1,2,3,5)]),\n",
    "            Trace([4,2],[(1,2,5,6)]), Trace([4,2],[(1,5,2,6)]), Trace([4,2],[(1,2,3,4),(5,6)]),\n",
    "            Trace([4,2],[(1,2,3,5),(4,6)]), Trace([4,2],[(1,2,5,6),(3,4)]), Trace([4,2],[(1,5,2,6),(3,4)]),\n",
    "            Trace([4,2],[(1,2,3,4,5)]), Trace([4,2],[(1,2,3,5,6)]), Trace([4,2],[(1,2,5,3,6)]),\n",
    "            Trace([4,2],[(1,2,3,4,5,6)]), Trace([4,2],[(1,2,3,5,4,6)]), Trace([4,2],[(1,2,5,3,4,6)])]\n",
    "\n",
    "coefficients = [[1/720*sqrt(5)*sqrt(3), 1/120*sqrt(5)*sqrt(3), 1/90*sqrt(5)*sqrt(3), 1/720*sqrt(5)*sqrt(3), 1/240*sqrt(5)*sqrt(3), 1/30*sqrt(5)*sqrt(3), 1/60*sqrt(5)*sqrt(3), 1/120*sqrt(5)*sqrt(3), 1/240*sqrt(5)*sqrt(3), 1/60*sqrt(5)*sqrt(3), 1/90*sqrt(5)*sqrt(3), 1/30*sqrt(5)*sqrt(3), 1/90*sqrt(5)*sqrt(3), 1/45*sqrt(5)*sqrt(3), 1/90*sqrt(5)*sqrt(3), 1/30*sqrt(5)*sqrt(3), 1/15*sqrt(5)*sqrt(3), 1/30*sqrt(5)*sqrt(3), 1/45*sqrt(5)*sqrt(3), 1/30*sqrt(5)*sqrt(3), 1/120*sqrt(5)*sqrt(3), 1/15*sqrt(5)*sqrt(3), 1/30*sqrt(5)*sqrt(3), 1/60*sqrt(5)*sqrt(3), 1/120*sqrt(5)*sqrt(3), 1/15*sqrt(5)*sqrt(3), 1/30*sqrt(5)*sqrt(3), 1/60*sqrt(5)*sqrt(3), 1/15*sqrt(5)*sqrt(3), 1/15*sqrt(5)*sqrt(3), 1/15*sqrt(5)*sqrt(3), 1/15*sqrt(5)*sqrt(3), 1/15*sqrt(5)*sqrt(3), 1/30*sqrt(5)*sqrt(3)], [1/144*sqrt(5)*sqrt(3), 1/40*sqrt(5)*sqrt(3), 1/30*sqrt(5)*sqrt(3), 1/240*sqrt(5)*sqrt(3), 1/240*sqrt(5)*sqrt(3), 1/30*sqrt(5)*sqrt(3), 1/60*sqrt(5)*sqrt(3), 1/120*sqrt(5)*sqrt(3), -1/240*sqrt(5)*sqrt(3), -1/60*sqrt(5)*sqrt(3), 1/45*sqrt(5)*sqrt(3), 1/15*sqrt(5)*sqrt(3), 1/45*sqrt(5)*sqrt(3), 0, 0, 0, 0, 0, -1/45*sqrt(5)*sqrt(3), -1/30*sqrt(5)*sqrt(3), 1/120*sqrt(5)*sqrt(3), 1/15*sqrt(5)*sqrt(3), 1/30*sqrt(5)*sqrt(3), 1/60*sqrt(5)*sqrt(3), -1/120*sqrt(5)*sqrt(3), -1/15*sqrt(5)*sqrt(3), -1/30*sqrt(5)*sqrt(3), -1/60*sqrt(5)*sqrt(3), 0, 0, 0, -1/15*sqrt(5)*sqrt(3), -1/15*sqrt(5)*sqrt(3), -1/30*sqrt(5)*sqrt(3)], [1/80*sqrt(5)*sqrt(3), 1/40*sqrt(5)*sqrt(3), 1/30*sqrt(5)*sqrt(3), 1/240*sqrt(5)*sqrt(3), 1/240*sqrt(5)*sqrt(3), 1/30*sqrt(5)*sqrt(3), 1/60*sqrt(5)*sqrt(3), 1/120*sqrt(5)*sqrt(3), 1/80*sqrt(5)*sqrt(3), 1/20*sqrt(5)*sqrt(3), 0, 0, 0, 0, 0, 0, 0, 0, 0, 0, -1/120*sqrt(5)*sqrt(3), -1/15*sqrt(5)*sqrt(3), -1/30*sqrt(5)*sqrt(3), -1/60*sqrt(5)*sqrt(3), 1/120*sqrt(5)*sqrt(3), 1/15*sqrt(5)*sqrt(3), 1/30*sqrt(5)*sqrt(3), 1/60*sqrt(5)*sqrt(3), -1/15*sqrt(5)*sqrt(3), -1/15*sqrt(5)*sqrt(3), -1/15*sqrt(5)*sqrt(3), 0, 0, 0], [1/72*sqrt(5)*sqrt(3), 1/60*sqrt(5)*sqrt(3), 1/45*sqrt(5)*sqrt(3), 1/360*sqrt(5)*sqrt(3), -1/120*sqrt(5)*sqrt(3), -1/15*sqrt(5)*sqrt(3), -1/30*sqrt(5)*sqrt(3), -1/60*sqrt(5)*sqrt(3), -1/120*sqrt(5)*sqrt(3), -1/30*sqrt(5)*sqrt(3), 1/90*sqrt(5)*sqrt(3), 1/30*sqrt(5)*sqrt(3), 1/90*sqrt(5)*sqrt(3), -1/45*sqrt(5)*sqrt(3), -1/90*sqrt(5)*sqrt(3), -1/30*sqrt(5)*sqrt(3), -1/15*sqrt(5)*sqrt(3), -1/30*sqrt(5)*sqrt(3), 1/45*sqrt(5)*sqrt(3), 1/30*sqrt(5)*sqrt(3), 0, 0, 0, 0, 0, 0, 0, 0, 0, 0, 0, 1/15*sqrt(5)*sqrt(3), 1/15*sqrt(5)*sqrt(3), 1/30*sqrt(5)*sqrt(3)], [1/144*sqrt(5)*sqrt(3), 1/120*sqrt(5)*sqrt(3), 1/90*sqrt(5)*sqrt(3), 1/720*sqrt(5)*sqrt(3), 1/240*sqrt(5)*sqrt(3), 1/30*sqrt(5)*sqrt(3), 1/60*sqrt(5)*sqrt(3), 1/120*sqrt(5)*sqrt(3), -1/80*sqrt(5)*sqrt(3), -1/20*sqrt(5)*sqrt(3), -1/90*sqrt(5)*sqrt(3), -1/30*sqrt(5)*sqrt(3), -1/90*sqrt(5)*sqrt(3), 1/45*sqrt(5)*sqrt(3), 1/90*sqrt(5)*sqrt(3), 1/30*sqrt(5)*sqrt(3), 1/15*sqrt(5)*sqrt(3), 1/30*sqrt(5)*sqrt(3), 2/45*sqrt(5)*sqrt(3), 1/15*sqrt(5)*sqrt(3), -1/120*sqrt(5)*sqrt(3), -1/15*sqrt(5)*sqrt(3), -1/30*sqrt(5)*sqrt(3), -1/60*sqrt(5)*sqrt(3), -1/120*sqrt(5)*sqrt(3), -1/15*sqrt(5)*sqrt(3), -1/30*sqrt(5)*sqrt(3), -1/60*sqrt(5)*sqrt(3), 0, 0, 0, 0, 0, 0], [1/45*sqrt(5)*sqrt(3), 0, 0, 0, 0, 0, 0, 0, 0, 0, -1/45*sqrt(5)*sqrt(3), -1/15*sqrt(5)*sqrt(3), -1/45*sqrt(5)*sqrt(3), 0, 0, 0, 0, 0, -2/45*sqrt(5)*sqrt(3), -1/15*sqrt(5)*sqrt(3), 0, 0, 0, 0, 0, 0, 0, 0, 1/15*sqrt(5)*sqrt(3), 1/15*sqrt(5)*sqrt(3), 1/15*sqrt(5)*sqrt(3), 0, 0, 0], [1/72*sqrt(5)*sqrt(3), -1/60*sqrt(5)*sqrt(3), -1/45*sqrt(5)*sqrt(3), -1/360*sqrt(5)*sqrt(3), -1/120*sqrt(5)*sqrt(3), -1/15*sqrt(5)*sqrt(3), -1/30*sqrt(5)*sqrt(3), -1/60*sqrt(5)*sqrt(3), 1/120*sqrt(5)*sqrt(3), 1/30*sqrt(5)*sqrt(3), 1/90*sqrt(5)*sqrt(3), 1/30*sqrt(5)*sqrt(3), 1/90*sqrt(5)*sqrt(3), 1/45*sqrt(5)*sqrt(3), 1/90*sqrt(5)*sqrt(3), 1/30*sqrt(5)*sqrt(3), 1/15*sqrt(5)*sqrt(3), 1/30*sqrt(5)*sqrt(3), 1/45*sqrt(5)*sqrt(3), 1/30*sqrt(5)*sqrt(3), 0, 0, 0, 0, 0, 0, 0, 0, 0, 0, 0, -1/15*sqrt(5)*sqrt(3), -1/15*sqrt(5)*sqrt(3), -1/30*sqrt(5)*sqrt(3)], [1/144*sqrt(5)*sqrt(3), -1/120*sqrt(5)*sqrt(3), -1/90*sqrt(5)*sqrt(3), -1/720*sqrt(5)*sqrt(3), 1/240*sqrt(5)*sqrt(3), 1/30*sqrt(5)*sqrt(3), 1/60*sqrt(5)*sqrt(3), 1/120*sqrt(5)*sqrt(3), 1/80*sqrt(5)*sqrt(3), 1/20*sqrt(5)*sqrt(3), -1/90*sqrt(5)*sqrt(3), -1/30*sqrt(5)*sqrt(3), -1/90*sqrt(5)*sqrt(3), -1/45*sqrt(5)*sqrt(3), -1/90*sqrt(5)*sqrt(3), -1/30*sqrt(5)*sqrt(3), -1/15*sqrt(5)*sqrt(3), -1/30*sqrt(5)*sqrt(3), 2/45*sqrt(5)*sqrt(3), 1/15*sqrt(5)*sqrt(3), 1/120*sqrt(5)*sqrt(3), 1/15*sqrt(5)*sqrt(3), 1/30*sqrt(5)*sqrt(3), 1/60*sqrt(5)*sqrt(3), -1/120*sqrt(5)*sqrt(3), -1/15*sqrt(5)*sqrt(3), -1/30*sqrt(5)*sqrt(3), -1/60*sqrt(5)*sqrt(3), 0, 0, 0, 0, 0, 0], [1/80*sqrt(5)*sqrt(3), -1/40*sqrt(5)*sqrt(3), -1/30*sqrt(5)*sqrt(3), -1/240*sqrt(5)*sqrt(3), 1/240*sqrt(5)*sqrt(3), 1/30*sqrt(5)*sqrt(3), 1/60*sqrt(5)*sqrt(3), 1/120*sqrt(5)*sqrt(3), -1/80*sqrt(5)*sqrt(3), -1/20*sqrt(5)*sqrt(3), 0, 0, 0, 0, 0, 0, 0, 0, 0, 0, 1/120*sqrt(5)*sqrt(3), 1/15*sqrt(5)*sqrt(3), 1/30*sqrt(5)*sqrt(3), 1/60*sqrt(5)*sqrt(3), 1/120*sqrt(5)*sqrt(3), 1/15*sqrt(5)*sqrt(3), 1/30*sqrt(5)*sqrt(3), 1/60*sqrt(5)*sqrt(3), -1/15*sqrt(5)*sqrt(3), -1/15*sqrt(5)*sqrt(3), -1/15*sqrt(5)*sqrt(3), 0, 0, 0], [1/144*sqrt(5)*sqrt(3), -1/40*sqrt(5)*sqrt(3), -1/30*sqrt(5)*sqrt(3), -1/240*sqrt(5)*sqrt(3), 1/240*sqrt(5)*sqrt(3), 1/30*sqrt(5)*sqrt(3), 1/60*sqrt(5)*sqrt(3), 1/120*sqrt(5)*sqrt(3), 1/240*sqrt(5)*sqrt(3), 1/60*sqrt(5)*sqrt(3), 1/45*sqrt(5)*sqrt(3), 1/15*sqrt(5)*sqrt(3), 1/45*sqrt(5)*sqrt(3), 0, 0, 0, 0, 0, -1/45*sqrt(5)*sqrt(3), -1/30*sqrt(5)*sqrt(3), -1/120*sqrt(5)*sqrt(3), -1/15*sqrt(5)*sqrt(3), -1/30*sqrt(5)*sqrt(3), -1/60*sqrt(5)*sqrt(3), -1/120*sqrt(5)*sqrt(3), -1/15*sqrt(5)*sqrt(3), -1/30*sqrt(5)*sqrt(3), -1/60*sqrt(5)*sqrt(3), 0, 0, 0, 1/15*sqrt(5)*sqrt(3), 1/15*sqrt(5)*sqrt(3), 1/30*sqrt(5)*sqrt(3)], [1/720*sqrt(5)*sqrt(3), -1/120*sqrt(5)*sqrt(3), -1/90*sqrt(5)*sqrt(3), -1/720*sqrt(5)*sqrt(3), 1/240*sqrt(5)*sqrt(3), 1/30*sqrt(5)*sqrt(3), 1/60*sqrt(5)*sqrt(3), 1/120*sqrt(5)*sqrt(3), -1/240*sqrt(5)*sqrt(3), -1/60*sqrt(5)*sqrt(3), 1/90*sqrt(5)*sqrt(3), 1/30*sqrt(5)*sqrt(3), 1/90*sqrt(5)*sqrt(3), -1/45*sqrt(5)*sqrt(3), -1/90*sqrt(5)*sqrt(3), -1/30*sqrt(5)*sqrt(3), -1/15*sqrt(5)*sqrt(3), -1/30*sqrt(5)*sqrt(3), 1/45*sqrt(5)*sqrt(3), 1/30*sqrt(5)*sqrt(3), -1/120*sqrt(5)*sqrt(3), -1/15*sqrt(5)*sqrt(3), -1/30*sqrt(5)*sqrt(3), -1/60*sqrt(5)*sqrt(3), 1/120*sqrt(5)*sqrt(3), 1/15*sqrt(5)*sqrt(3), 1/30*sqrt(5)*sqrt(3), 1/60*sqrt(5)*sqrt(3), 1/15*sqrt(5)*sqrt(3), 1/15*sqrt(5)*sqrt(3), 1/15*sqrt(5)*sqrt(3), -1/15*sqrt(5)*sqrt(3), -1/15*sqrt(5)*sqrt(3), -1/30*sqrt(5)*sqrt(3)]]\n",
    "\n",
    "operators = [Operator([4,2],coefficients=cfs, traces=tracelist) for cfs in coefficients]\n",
    "\n",
    "gl2basis_fc42_lambda6 = Basis([4,2],operators,labels=labels)"
   ]
  },
  {
   "cell_type": "code",
   "execution_count": 9,
   "metadata": {
    "collapsed": true
   },
   "outputs": [],
   "source": [
    "#Code generating the GL(2) basis with field content 4,2 and Lambda = [5,1]\n",
    "labels = [([5, 1], [5, 1], 1), ([5, 1], [4, 2], 1), ([5, 1], [4, 1, 1], 1), ([5, 1], [3, 2, 1], 1), \n",
    "          ([5, 1], [3, 2, 1], 2), ([5, 1], [3, 1, 1, 1], 1), ([5, 1], [2, 2, 1, 1], 1), ([5, 1], [2, 1, 1, 1, 1], 1)]\n",
    "\n",
    "tracelist = [ Trace([4,2], [1,2,3,4,5,6]), Trace([4,2],[(1,2)]), Trace([4,2],[(1,5)]), Trace([4,2],[(5,6)]),\n",
    "            Trace([4,2],[(1,2),(3,4)]), Trace([4,2],[(1,2),(3,5)]), Trace([4,2],[(1,5),(2,6)]), \n",
    "            Trace([4,2],[(1,2),(5,6)]), Trace([4,2],[(1,2),(3,4),(5,6)]), Trace([4,2],[(1,2),(3,5),(4,6)]),\n",
    "            Trace([4,2],[(1,2,3)]), Trace([4,2],[(1,2,5)]), Trace([4,2],[(1,5,6)]), \n",
    "            Trace([4,2],[(1,2,3),(4,5)]), Trace([4,2],[(1,2,3),(5,6)]), Trace([4,2],[(1,2,5),(3,4)]),\n",
    "            Trace([4,2],[(1,2,5),(3,6)]), Trace([4,2],[(1,5,6),(2,3)]), Trace([4,2],[(1,2,3),(4,5,6)]),\n",
    "            Trace([4,2],[(1,2,5),(3,4,6)]), Trace([4,2],[(1,2,3,4)]), Trace([4,2],[(1,2,3,5)]),\n",
    "            Trace([4,2],[(1,2,5,6)]), Trace([4,2],[(1,5,2,6)]), Trace([4,2],[(1,2,3,4),(5,6)]),\n",
    "            Trace([4,2],[(1,2,3,5),(4,6)]), Trace([4,2],[(1,2,5,6),(3,4)]), Trace([4,2],[(1,5,2,6),(3,4)]),\n",
    "            Trace([4,2],[(1,2,3,4,5)]), Trace([4,2],[(1,2,3,5,6)]), Trace([4,2],[(1,2,5,3,6)]),\n",
    "            Trace([4,2],[(1,2,3,4,5,6)]), Trace([4,2],[(1,2,3,5,4,6)]), Trace([4,2],[(1,2,5,3,4,6)])]\n",
    "\n",
    "coefficients = [[0, -1/48*sqrt(3)*sqrt(2), 1/72*sqrt(3)*sqrt(2), 1/144*sqrt(3)*sqrt(2), -1/48*sqrt(3)*sqrt(2), -1/24*sqrt(3)*sqrt(2), 1/24*sqrt(3)*sqrt(2), 1/48*sqrt(3)*sqrt(2), 0, 0, -1/24*sqrt(3)*sqrt(2), 0, 1/24*sqrt(3)*sqrt(2), -1/18*sqrt(3)*sqrt(2), 1/72*sqrt(3)*sqrt(2), -1/12*sqrt(3)*sqrt(2), 1/12*sqrt(3)*sqrt(2), 1/24*sqrt(3)*sqrt(2), 0, 0, -1/24*sqrt(3)*sqrt(2), -1/12*sqrt(3)*sqrt(2), 1/12*sqrt(3)*sqrt(2), 1/24*sqrt(3)*sqrt(2), 0, 0, 0, 0, -1/6*sqrt(3)*sqrt(2), 1/12*sqrt(3)*sqrt(2), 1/12*sqrt(3)*sqrt(2), 0, 0, 0], [0, -1/80*sqrt(5)*sqrt(3)*sqrt(2), 1/120*sqrt(5)*sqrt(3)*sqrt(2), 1/240*sqrt(5)*sqrt(3)*sqrt(2), 1/240*sqrt(5)*sqrt(3)*sqrt(2), 1/120*sqrt(5)*sqrt(3)*sqrt(2), -1/120*sqrt(5)*sqrt(3)*sqrt(2), -1/240*sqrt(5)*sqrt(3)*sqrt(2), 0, 0, -1/40*sqrt(5)*sqrt(3)*sqrt(2), 0, 1/40*sqrt(5)*sqrt(3)*sqrt(2), 0, -1/40*sqrt(5)*sqrt(3)*sqrt(2), 1/20*sqrt(5)*sqrt(3)*sqrt(2), -1/20*sqrt(5)*sqrt(3)*sqrt(2), 1/40*sqrt(5)*sqrt(3)*sqrt(2), 0, 0, -1/120*sqrt(5)*sqrt(3)*sqrt(2), -1/60*sqrt(5)*sqrt(3)*sqrt(2), 1/60*sqrt(5)*sqrt(3)*sqrt(2), 1/120*sqrt(5)*sqrt(3)*sqrt(2), -1/60*sqrt(5)*sqrt(3)*sqrt(2), -1/30*sqrt(5)*sqrt(3)*sqrt(2), 1/30*sqrt(5)*sqrt(3)*sqrt(2), 1/60*sqrt(5)*sqrt(3)*sqrt(2), 1/30*sqrt(5)*sqrt(3)*sqrt(2), -1/60*sqrt(5)*sqrt(3)*sqrt(2), -1/60*sqrt(5)*sqrt(3)*sqrt(2), 0, 0, 0], [0, -1/8, 1/12, 1/24, -1/24, -1/12, 1/12, 1/24, 0, 0, -1/12, 0, 1/12, 1/6, 1/12, 0, 0, -1/4, 0, 0, 0, 0, 0, 0, 1/12, 1/6, -1/6, -1/12, 1/3, -1/6, -1/6, 0, 0, 0], [0, 0, 0, 0, -1/30*sqrt(5)*sqrt(2), -1/15*sqrt(5)*sqrt(2), 1/15*sqrt(5)*sqrt(2), 1/30*sqrt(5)*sqrt(2), 0, 0, 1/30*sqrt(5)*sqrt(2), 0, -1/30*sqrt(5)*sqrt(2), 0, 0, 0, 0, 0, 0, 0, 0, 0, 0, 0, -1/30*sqrt(5)*sqrt(2), -1/15*sqrt(5)*sqrt(2), 1/15*sqrt(5)*sqrt(2), 1/30*sqrt(5)*sqrt(2), 1/15*sqrt(5)*sqrt(2), -1/30*sqrt(5)*sqrt(2), -1/30*sqrt(5)*sqrt(2), 0, 0, 0], [0, -1/30*sqrt(5)*sqrt(3), 1/45*sqrt(5)*sqrt(3), 1/90*sqrt(5)*sqrt(3), 0, 0, 0, 0, 0, 0, 0, 0, 0, -1/18*sqrt(5)*sqrt(3), -1/90*sqrt(5)*sqrt(3), -1/30*sqrt(5)*sqrt(3), 1/30*sqrt(5)*sqrt(3), 1/15*sqrt(5)*sqrt(3), 0, 0, 1/30*sqrt(5)*sqrt(3), 1/15*sqrt(5)*sqrt(3), -1/15*sqrt(5)*sqrt(3), -1/30*sqrt(5)*sqrt(3), 0, 0, 0, 0, 0, 0, 0, 0, 0, 0], [0, 1/8, -1/12, -1/24, -1/24, -1/12, 1/12, 1/24, 0, 0, -1/12, 0, 1/12, -1/6, -1/12, 0, 0, 1/4, 0, 0, 0, 0, 0, 0, 1/12, 1/6, -1/6, -1/12, 1/3, -1/6, -1/6, 0, 0, 0], [0, 1/80*sqrt(5)*sqrt(3)*sqrt(2), -1/120*sqrt(5)*sqrt(3)*sqrt(2), -1/240*sqrt(5)*sqrt(3)*sqrt(2), 1/240*sqrt(5)*sqrt(3)*sqrt(2), 1/120*sqrt(5)*sqrt(3)*sqrt(2), -1/120*sqrt(5)*sqrt(3)*sqrt(2), -1/240*sqrt(5)*sqrt(3)*sqrt(2), 0, 0, -1/40*sqrt(5)*sqrt(3)*sqrt(2), 0, 1/40*sqrt(5)*sqrt(3)*sqrt(2), 0, 1/40*sqrt(5)*sqrt(3)*sqrt(2), -1/20*sqrt(5)*sqrt(3)*sqrt(2), 1/20*sqrt(5)*sqrt(3)*sqrt(2), -1/40*sqrt(5)*sqrt(3)*sqrt(2), 0, 0, 1/120*sqrt(5)*sqrt(3)*sqrt(2), 1/60*sqrt(5)*sqrt(3)*sqrt(2), -1/60*sqrt(5)*sqrt(3)*sqrt(2), -1/120*sqrt(5)*sqrt(3)*sqrt(2), -1/60*sqrt(5)*sqrt(3)*sqrt(2), -1/30*sqrt(5)*sqrt(3)*sqrt(2), 1/30*sqrt(5)*sqrt(3)*sqrt(2), 1/60*sqrt(5)*sqrt(3)*sqrt(2), 1/30*sqrt(5)*sqrt(3)*sqrt(2), -1/60*sqrt(5)*sqrt(3)*sqrt(2), -1/60*sqrt(5)*sqrt(3)*sqrt(2), 0, 0, 0], [0, 1/48*sqrt(3)*sqrt(2), -1/72*sqrt(3)*sqrt(2), -1/144*sqrt(3)*sqrt(2), -1/48*sqrt(3)*sqrt(2), -1/24*sqrt(3)*sqrt(2), 1/24*sqrt(3)*sqrt(2), 1/48*sqrt(3)*sqrt(2), 0, 0, -1/24*sqrt(3)*sqrt(2), 0, 1/24*sqrt(3)*sqrt(2), 1/18*sqrt(3)*sqrt(2), -1/72*sqrt(3)*sqrt(2), 1/12*sqrt(3)*sqrt(2), -1/12*sqrt(3)*sqrt(2), -1/24*sqrt(3)*sqrt(2), 0, 0, 1/24*sqrt(3)*sqrt(2), 1/12*sqrt(3)*sqrt(2), -1/12*sqrt(3)*sqrt(2), -1/24*sqrt(3)*sqrt(2), 0, 0, 0, 0, -1/6*sqrt(3)*sqrt(2), 1/12*sqrt(3)*sqrt(2), 1/12*sqrt(3)*sqrt(2), 0, 0, 0]]\n",
    "\n",
    "operators = [Operator([4,2],coefficients=cfs, traces=tracelist) for cfs in coefficients]\n",
    "\n",
    "gl2basis_fc42_lambda51 = Basis([4,2],operators,labels=labels)"
   ]
  },
  {
   "cell_type": "code",
   "execution_count": 4,
   "metadata": {},
   "outputs": [],
   "source": [
    "#Code generating the GL(2) basis with field content 4,2 and Lambda = [4,2]\n",
    "labels = [([4, 2], [5, 1], 1), ([4, 2], [4, 2], 1), ([4, 2], [4, 2], 2), ([4, 2], [4, 1, 1], 1), \n",
    "          ([4, 2], [4, 1, 1], 2), ([4, 2], [3, 3], 1), ([4, 2], [3, 2, 1], 1), ([4, 2], [3, 2, 1], 2), \n",
    "          ([4, 2], [3, 2, 1], 3), ([4, 2], [3, 1, 1, 1], 1), ([4, 2], [3, 1, 1, 1], 2), ([4, 2], [2, 2, 2], 1), \n",
    "          ([4, 2], [2, 2, 1, 1], 1), ([4, 2], [2, 2, 1, 1], 2), ([4, 2], [2, 1, 1, 1, 1], 1)]\n",
    "\n",
    "tracelist = [ Trace([4,2], [1,2,3,4,5,6]), Trace([4,2],[(1,2)]), Trace([4,2],[(1,5)]), Trace([4,2],[(5,6)]),\n",
    "            Trace([4,2],[(1,2),(3,4)]), Trace([4,2],[(1,2),(3,5)]), Trace([4,2],[(1,5),(2,6)]), \n",
    "            Trace([4,2],[(1,2),(5,6)]), Trace([4,2],[(1,2),(3,4),(5,6)]), Trace([4,2],[(1,2),(3,5),(4,6)]),\n",
    "            Trace([4,2],[(1,2,3)]), Trace([4,2],[(1,2,5)]), Trace([4,2],[(1,5,6)]), \n",
    "            Trace([4,2],[(1,2,3),(4,5)]), Trace([4,2],[(1,2,3),(5,6)]), Trace([4,2],[(1,2,5),(3,4)]),\n",
    "            Trace([4,2],[(1,2,5),(3,6)]), Trace([4,2],[(1,5,6),(2,3)]), Trace([4,2],[(1,2,3),(4,5,6)]),\n",
    "            Trace([4,2],[(1,2,5),(3,4,6)]), Trace([4,2],[(1,2,3,4)]), Trace([4,2],[(1,2,3,5)]),\n",
    "            Trace([4,2],[(1,2,5,6)]), Trace([4,2],[(1,5,2,6)]), Trace([4,2],[(1,2,3,4),(5,6)]),\n",
    "            Trace([4,2],[(1,2,3,5),(4,6)]), Trace([4,2],[(1,2,5,6),(3,4)]), Trace([4,2],[(1,5,2,6),(3,4)]),\n",
    "            Trace([4,2],[(1,2,3,4,5)]), Trace([4,2],[(1,2,3,5,6)]), Trace([4,2],[(1,2,5,3,6)]),\n",
    "            Trace([4,2],[(1,2,3,4,5,6)]), Trace([4,2],[(1,2,3,5,4,6)]), Trace([4,2],[(1,2,5,3,4,6)])]\n",
    "\n",
    "coefficients = [[0, -1/240*sqrt(5)*sqrt(2), 1/120*sqrt(5)*sqrt(2), -1/240*sqrt(5)*sqrt(2), -1/240*sqrt(5)*sqrt(2), 1/120*sqrt(5)*sqrt(2), 1/40*sqrt(5)*sqrt(2), -7/240*sqrt(5)*sqrt(2), -1/60*sqrt(5)*sqrt(2), 1/60*sqrt(5)*sqrt(2), -1/120*sqrt(5)*sqrt(2), 1/60*sqrt(5)*sqrt(2), -1/120*sqrt(5)*sqrt(2), 0, -1/24*sqrt(5)*sqrt(2), 0, 1/12*sqrt(5)*sqrt(2), -1/24*sqrt(5)*sqrt(2), -1/30*sqrt(5)*sqrt(2), 1/30*sqrt(5)*sqrt(2), -1/120*sqrt(5)*sqrt(2), 1/60*sqrt(5)*sqrt(2), -1/30*sqrt(5)*sqrt(2), 1/40*sqrt(5)*sqrt(2), -1/30*sqrt(5)*sqrt(2), 1/15*sqrt(5)*sqrt(2), -1/20*sqrt(5)*sqrt(2), 1/60*sqrt(5)*sqrt(2), 0, -1/12*sqrt(5)*sqrt(2), 1/12*sqrt(5)*sqrt(2), -1/10*sqrt(5)*sqrt(2), 1/15*sqrt(5)*sqrt(2), 1/30*sqrt(5)*sqrt(2)], [0, 0, 0, 0, -1/40*sqrt(5)*sqrt(2), 1/20*sqrt(5)*sqrt(2), -1/40*sqrt(5)*sqrt(2), 0, -1/40*sqrt(5)*sqrt(2), 1/40*sqrt(5)*sqrt(2), 0, 0, 0, 1/20*sqrt(5)*sqrt(2), 0, -1/20*sqrt(5)*sqrt(2), -1/20*sqrt(5)*sqrt(2), 1/20*sqrt(5)*sqrt(2), 1/20*sqrt(5)*sqrt(2), -1/20*sqrt(5)*sqrt(2), -1/40*sqrt(5)*sqrt(2), 1/20*sqrt(5)*sqrt(2), 0, -1/40*sqrt(5)*sqrt(2), -1/40*sqrt(5)*sqrt(2), 1/20*sqrt(5)*sqrt(2), -1/20*sqrt(5)*sqrt(2), 1/40*sqrt(5)*sqrt(2), 0, 1/20*sqrt(5)*sqrt(2), -1/20*sqrt(5)*sqrt(2), 0, 1/20*sqrt(5)*sqrt(2), -1/20*sqrt(5)*sqrt(2)], [0, -1/80*sqrt(5)*sqrt(2), 1/40*sqrt(5)*sqrt(2), -1/80*sqrt(5)*sqrt(2), -1/80*sqrt(5)*sqrt(2), 1/40*sqrt(5)*sqrt(2), 1/40*sqrt(5)*sqrt(2), -3/80*sqrt(5)*sqrt(2), 0, 0, -1/40*sqrt(5)*sqrt(2), 1/20*sqrt(5)*sqrt(2), -1/40*sqrt(5)*sqrt(2), 0, -1/40*sqrt(5)*sqrt(2), 0, 1/20*sqrt(5)*sqrt(2), -1/40*sqrt(5)*sqrt(2), 0, 0, -1/40*sqrt(5)*sqrt(2), 1/20*sqrt(5)*sqrt(2), 0, -1/40*sqrt(5)*sqrt(2), 0, 0, 1/20*sqrt(5)*sqrt(2), -1/20*sqrt(5)*sqrt(2), 0, 1/20*sqrt(5)*sqrt(2), -1/20*sqrt(5)*sqrt(2), 1/10*sqrt(5)*sqrt(2), -1/10*sqrt(5)*sqrt(2), 0], [0, 0, 0, 0, 1/36*sqrt(3), -1/18*sqrt(3), 1/12*sqrt(3), -1/18*sqrt(3), -1/36*sqrt(3), 1/36*sqrt(3), 1/18*sqrt(3), -1/9*sqrt(3), 1/18*sqrt(3), 1/18*sqrt(3), -1/18*sqrt(3), -1/18*sqrt(3), 1/18*sqrt(3), 0, 1/18*sqrt(3), -1/18*sqrt(3), 1/12*sqrt(3), -1/6*sqrt(3), 1/18*sqrt(3), 1/36*sqrt(3), -1/36*sqrt(3), 1/18*sqrt(3), 0, -1/36*sqrt(3), 0, 1/18*sqrt(3), -1/18*sqrt(3), 1/9*sqrt(3), -1/18*sqrt(3), -1/18*sqrt(3)], [0, 1/120*sqrt(5)*sqrt(3), -1/60*sqrt(5)*sqrt(3), 1/120*sqrt(5)*sqrt(3), 1/360*sqrt(5)*sqrt(3), -1/180*sqrt(5)*sqrt(3), -1/60*sqrt(5)*sqrt(3), 7/360*sqrt(5)*sqrt(3), -1/90*sqrt(5)*sqrt(3), 1/90*sqrt(5)*sqrt(3), 1/180*sqrt(5)*sqrt(3), -1/90*sqrt(5)*sqrt(3), 1/180*sqrt(5)*sqrt(3), -1/90*sqrt(5)*sqrt(3), -1/180*sqrt(5)*sqrt(3), 1/90*sqrt(5)*sqrt(3), 1/45*sqrt(5)*sqrt(3), -1/60*sqrt(5)*sqrt(3), -2/45*sqrt(5)*sqrt(3), 2/45*sqrt(5)*sqrt(3), 0, 0, 1/18*sqrt(5)*sqrt(3), -1/18*sqrt(5)*sqrt(3), -1/36*sqrt(5)*sqrt(3), 1/18*sqrt(5)*sqrt(3), 0, -1/36*sqrt(5)*sqrt(3), 0, 1/18*sqrt(5)*sqrt(3), -1/18*sqrt(5)*sqrt(3), -1/45*sqrt(5)*sqrt(3), -1/45*sqrt(5)*sqrt(3), 2/45*sqrt(5)*sqrt(3)], [0, -1/120*sqrt(5)*sqrt(2), 1/60*sqrt(5)*sqrt(2), -1/120*sqrt(5)*sqrt(2), 1/60*sqrt(5)*sqrt(2), -1/30*sqrt(5)*sqrt(2), 1/40*sqrt(5)*sqrt(2), -1/120*sqrt(5)*sqrt(2), -1/120*sqrt(5)*sqrt(2), 1/120*sqrt(5)*sqrt(2), -1/60*sqrt(5)*sqrt(2), 1/30*sqrt(5)*sqrt(2), -1/60*sqrt(5)*sqrt(2), -1/20*sqrt(5)*sqrt(2), 1/60*sqrt(5)*sqrt(2), 1/20*sqrt(5)*sqrt(2), 1/60*sqrt(5)*sqrt(2), -1/30*sqrt(5)*sqrt(2), -1/60*sqrt(5)*sqrt(2), 1/60*sqrt(5)*sqrt(2), 1/120*sqrt(5)*sqrt(2), -1/60*sqrt(5)*sqrt(2), 1/30*sqrt(5)*sqrt(2), -1/40*sqrt(5)*sqrt(2), 1/120*sqrt(5)*sqrt(2), -1/60*sqrt(5)*sqrt(2), -1/20*sqrt(5)*sqrt(2), 7/120*sqrt(5)*sqrt(2), 0, 1/12*sqrt(5)*sqrt(2), -1/12*sqrt(5)*sqrt(2), 0, 1/12*sqrt(5)*sqrt(2), -1/12*sqrt(5)*sqrt(2)], [0, 0, 0, 0, 1/30*sqrt(5)*sqrt(2), -1/15*sqrt(5)*sqrt(2), 0, 1/30*sqrt(5)*sqrt(2), 0, 0, -1/30*sqrt(5)*sqrt(2), 1/15*sqrt(5)*sqrt(2), -1/30*sqrt(5)*sqrt(2), 0, 0, 0, 0, 0, 1/15*sqrt(5)*sqrt(2), -1/15*sqrt(5)*sqrt(2), 0, 0, 0, 0, -1/30*sqrt(5)*sqrt(2), 1/15*sqrt(5)*sqrt(2), 0, -1/30*sqrt(5)*sqrt(2), 0, -1/30*sqrt(5)*sqrt(2), 1/30*sqrt(5)*sqrt(2), 0, 0, 0], [0, 0, 0, 0, 0, 0, 0, 0, 1/15*sqrt(5), -1/15*sqrt(5), 0, 0, 0, 1/15*sqrt(5), -1/15*sqrt(5), -1/15*sqrt(5), 1/15*sqrt(5), 0, 0, 0, 0, 0, 1/15*sqrt(5), -1/15*sqrt(5), 0, 0, 0, 0, 0, 0, 0, -1/15*sqrt(5), 2/15*sqrt(5), -1/15*sqrt(5)], [0, 1/30*sqrt(5), -1/15*sqrt(5), 1/30*sqrt(5), 0, 0, 0, 0, 0, 0, 0, 0, 0, -1/30*sqrt(5), -1/30*sqrt(5), 1/30*sqrt(5), 1/10*sqrt(5), -1/15*sqrt(5), 0, 0, -1/30*sqrt(5), 1/15*sqrt(5), -1/15*sqrt(5), 1/30*sqrt(5), 0, 0, 0, 0, 0, 0, 0, 2/15*sqrt(5), 0, -2/15*sqrt(5)], [0, 0, 0, 0, 1/36*sqrt(3), -1/18*sqrt(3), 1/12*sqrt(3), -1/18*sqrt(3), 1/36*sqrt(3), -1/36*sqrt(3), 1/18*sqrt(3), -1/9*sqrt(3), 1/18*sqrt(3), -1/18*sqrt(3), 1/18*sqrt(3), 1/18*sqrt(3), -1/18*sqrt(3), 0, 1/18*sqrt(3), -1/18*sqrt(3), -1/12*sqrt(3), 1/6*sqrt(3), -1/18*sqrt(3), -1/36*sqrt(3), -1/36*sqrt(3), 1/18*sqrt(3), 0, -1/36*sqrt(3), 0, 1/18*sqrt(3), -1/18*sqrt(3), -1/9*sqrt(3), 1/18*sqrt(3), 1/18*sqrt(3)], [0, -1/120*sqrt(5)*sqrt(3), 1/60*sqrt(5)*sqrt(3), -1/120*sqrt(5)*sqrt(3), 1/360*sqrt(5)*sqrt(3), -1/180*sqrt(5)*sqrt(3), -1/60*sqrt(5)*sqrt(3), 7/360*sqrt(5)*sqrt(3), 1/90*sqrt(5)*sqrt(3), -1/90*sqrt(5)*sqrt(3), 1/180*sqrt(5)*sqrt(3), -1/90*sqrt(5)*sqrt(3), 1/180*sqrt(5)*sqrt(3), 1/90*sqrt(5)*sqrt(3), 1/180*sqrt(5)*sqrt(3), -1/90*sqrt(5)*sqrt(3), -1/45*sqrt(5)*sqrt(3), 1/60*sqrt(5)*sqrt(3), -2/45*sqrt(5)*sqrt(3), 2/45*sqrt(5)*sqrt(3), 0, 0, -1/18*sqrt(5)*sqrt(3), 1/18*sqrt(5)*sqrt(3), -1/36*sqrt(5)*sqrt(3), 1/18*sqrt(5)*sqrt(3), 0, -1/36*sqrt(5)*sqrt(3), 0, 1/18*sqrt(5)*sqrt(3), -1/18*sqrt(5)*sqrt(3), 1/45*sqrt(5)*sqrt(3), 1/45*sqrt(5)*sqrt(3), -2/45*sqrt(5)*sqrt(3)], [0, 1/120*sqrt(5)*sqrt(2), -1/60*sqrt(5)*sqrt(2), 1/120*sqrt(5)*sqrt(2), 1/60*sqrt(5)*sqrt(2), -1/30*sqrt(5)*sqrt(2), 1/40*sqrt(5)*sqrt(2), -1/120*sqrt(5)*sqrt(2), 1/120*sqrt(5)*sqrt(2), -1/120*sqrt(5)*sqrt(2), -1/60*sqrt(5)*sqrt(2), 1/30*sqrt(5)*sqrt(2), -1/60*sqrt(5)*sqrt(2), 1/20*sqrt(5)*sqrt(2), -1/60*sqrt(5)*sqrt(2), -1/20*sqrt(5)*sqrt(2), -1/60*sqrt(5)*sqrt(2), 1/30*sqrt(5)*sqrt(2), -1/60*sqrt(5)*sqrt(2), 1/60*sqrt(5)*sqrt(2), -1/120*sqrt(5)*sqrt(2), 1/60*sqrt(5)*sqrt(2), -1/30*sqrt(5)*sqrt(2), 1/40*sqrt(5)*sqrt(2), 1/120*sqrt(5)*sqrt(2), -1/60*sqrt(5)*sqrt(2), -1/20*sqrt(5)*sqrt(2), 7/120*sqrt(5)*sqrt(2), 0, 1/12*sqrt(5)*sqrt(2), -1/12*sqrt(5)*sqrt(2), 0, -1/12*sqrt(5)*sqrt(2), 1/12*sqrt(5)*sqrt(2)], [0, 0, 0, 0, -1/40*sqrt(5)*sqrt(2), 1/20*sqrt(5)*sqrt(2), -1/40*sqrt(5)*sqrt(2), 0, 1/40*sqrt(5)*sqrt(2), -1/40*sqrt(5)*sqrt(2), 0, 0, 0, -1/20*sqrt(5)*sqrt(2), 0, 1/20*sqrt(5)*sqrt(2), 1/20*sqrt(5)*sqrt(2), -1/20*sqrt(5)*sqrt(2), 1/20*sqrt(5)*sqrt(2), -1/20*sqrt(5)*sqrt(2), 1/40*sqrt(5)*sqrt(2), -1/20*sqrt(5)*sqrt(2), 0, 1/40*sqrt(5)*sqrt(2), -1/40*sqrt(5)*sqrt(2), 1/20*sqrt(5)*sqrt(2), -1/20*sqrt(5)*sqrt(2), 1/40*sqrt(5)*sqrt(2), 0, 1/20*sqrt(5)*sqrt(2), -1/20*sqrt(5)*sqrt(2), 0, -1/20*sqrt(5)*sqrt(2), 1/20*sqrt(5)*sqrt(2)], [0, 1/80*sqrt(5)*sqrt(2), -1/40*sqrt(5)*sqrt(2), 1/80*sqrt(5)*sqrt(2), -1/80*sqrt(5)*sqrt(2), 1/40*sqrt(5)*sqrt(2), 1/40*sqrt(5)*sqrt(2), -3/80*sqrt(5)*sqrt(2), 0, 0, -1/40*sqrt(5)*sqrt(2), 1/20*sqrt(5)*sqrt(2), -1/40*sqrt(5)*sqrt(2), 0, 1/40*sqrt(5)*sqrt(2), 0, -1/20*sqrt(5)*sqrt(2), 1/40*sqrt(5)*sqrt(2), 0, 0, 1/40*sqrt(5)*sqrt(2), -1/20*sqrt(5)*sqrt(2), 0, 1/40*sqrt(5)*sqrt(2), 0, 0, 1/20*sqrt(5)*sqrt(2), -1/20*sqrt(5)*sqrt(2), 0, 1/20*sqrt(5)*sqrt(2), -1/20*sqrt(5)*sqrt(2), -1/10*sqrt(5)*sqrt(2), 1/10*sqrt(5)*sqrt(2), 0], [0, 1/240*sqrt(5)*sqrt(2), -1/120*sqrt(5)*sqrt(2), 1/240*sqrt(5)*sqrt(2), -1/240*sqrt(5)*sqrt(2), 1/120*sqrt(5)*sqrt(2), 1/40*sqrt(5)*sqrt(2), -7/240*sqrt(5)*sqrt(2), 1/60*sqrt(5)*sqrt(2), -1/60*sqrt(5)*sqrt(2), -1/120*sqrt(5)*sqrt(2), 1/60*sqrt(5)*sqrt(2), -1/120*sqrt(5)*sqrt(2), 0, 1/24*sqrt(5)*sqrt(2), 0, -1/12*sqrt(5)*sqrt(2), 1/24*sqrt(5)*sqrt(2), -1/30*sqrt(5)*sqrt(2), 1/30*sqrt(5)*sqrt(2), 1/120*sqrt(5)*sqrt(2), -1/60*sqrt(5)*sqrt(2), 1/30*sqrt(5)*sqrt(2), -1/40*sqrt(5)*sqrt(2), -1/30*sqrt(5)*sqrt(2), 1/15*sqrt(5)*sqrt(2), -1/20*sqrt(5)*sqrt(2), 1/60*sqrt(5)*sqrt(2), 0, -1/12*sqrt(5)*sqrt(2), 1/12*sqrt(5)*sqrt(2), 1/10*sqrt(5)*sqrt(2), -1/15*sqrt(5)*sqrt(2), -1/30*sqrt(5)*sqrt(2)]]\n",
    "\n",
    "operators = [Operator([4,2],coefficients=cfs, traces=tracelist) for cfs in coefficients]\n",
    "\n",
    "gl2basis_fc42_lambda42 = Basis([4,2],operators,labels=labels)"
   ]
  },
  {
   "cell_type": "code",
   "execution_count": 5,
   "metadata": {},
   "outputs": [],
   "source": [
    "# Generating bps basis for field content [4,2], lambda = [4,2]\n",
    "Gmatrix = diagonal_matrix([1/((N+4)*(N+3)*(N+2)*(N+1)*N*(N-1)), 1/((N+3)*(N+2)*(N+1)*N^2*(N-1)),\n",
    "                          1/((N+3)*(N+2)*(N+1)*N^2*(N-1)), 1/((N+3)*(N+2)*(N+1)*N*(N-1)*(N-2)),\n",
    "                          1/((N+3)*(N+2)*(N+1)*N*(N-1)*(N-2)), 1/((N+2)*(N+1)^2*N^2*(N-1)),\n",
    "                          1/((N+2)*(N+1)*N^2*(N-1)*(N-2)), 1/((N+2)*(N+1)*N^2*(N-1)*(N-2)),\n",
    "                          1/((N+2)*(N+1)*N^2*(N-1)*(N-2)), 1/((N+2)*(N+1)*N*(N-1)*(N-2)*(N-3)),\n",
    "                          1/((N+2)*(N+1)*N*(N-1)*(N-2)*(N-3)), 1/((N+1)*N^2*(N-1)^2*(N-2)),\n",
    "                          1/((N+1)*N^2*(N-1)*(N-2)*(N-3)), 1/((N+1)*N^2*(N-1)*(N-2)*(N-3)),\n",
    "                          1/((N+1)*N*(N-1)*(N-2)*(N-3)*(N-4))])\n",
    "\n",
    "Fmatrix = diagonal_matrix([((N+4)*(N+3)*(N+2)*(N+1)*N*(N-1)), ((N+3)*(N+2)*(N+1)*N^2*(N-1)),\n",
    "                          ((N+3)*(N+2)*(N+1)*N^2*(N-1)), ((N+3)*(N+2)*(N+1)*N*(N-1)*(N-2)),\n",
    "                          ((N+3)*(N+2)*(N+1)*N*(N-1)*(N-2)), ((N+2)*(N+1)^2*N^2*(N-1)),\n",
    "                          ((N+2)*(N+1)*N^2*(N-1)*(N-2)), ((N+2)*(N+1)*N^2*(N-1)*(N-2)),\n",
    "                          ((N+2)*(N+1)*N^2*(N-1)*(N-2)), ((N+2)*(N+1)*N*(N-1)*(N-2)*(N-3)),\n",
    "                          ((N+2)*(N+1)*N*(N-1)*(N-2)*(N-3)), ((N+1)*N^2*(N-1)^2*(N-2)),\n",
    "                          ((N+1)*N^2*(N-1)*(N-2)*(N-3)), ((N+1)*N^2*(N-1)*(N-2)*(N-3)),\n",
    "                          ((N+1)*N*(N-1)*(N-2)*(N-3)*(N-4))])\n",
    "\n",
    "comm411 = Operator([4,2], [1,-1], permutations=[[(1,2,5,6)],[(1,5,2,6)]])\n",
    "comm42 = Operator([4,2], [1,-1], permutations=[[(1,2,5,6),(3,4)],[(1,5,2,6),(3,4)]])\n",
    "comm51 = Operator([4,2], [1,-1], permutations=[[(1,2,3,5,6)],[(1,2,5,3,6)]])\n",
    "comm6_1 = Operator([4,2], [1,-1], permutations=[[(1,2,3,4,5,6)],[(1,2,3,5,4,6)]])\n",
    "comm6_2 = Operator([4,2], [1,1,-2], permutations=[[(1,2,3,4,5,6)],[(1,2,3,5,4,6)],[(1,2,5,3,4,6)]])\n",
    "normalisedcommbasis = Basis([4,2], [comm411,comm42,comm51,comm6_1,comm6_2])\n",
    "for i in range(len(normalisedcommbasis)):\n",
    "    normalisedcommbasis.operators[i] /= sqrt(calculator42.calculate(normalisedcommbasis[i],normalisedcommbasis[i],'planar'))\n",
    "    normalisedcommbasis[i].canonicalizeRadicalsInCoefficients()\n",
    "commvectors = [gl2basis_fc42_lambda42.expand(comm) for comm in normalisedcommbasis]\n",
    "\n",
    "symtracevectors = []\n",
    "Gnorms = []\n",
    "#indexorder = [14,12,13,9,11,6,7,3,5,1]\n",
    "indexorder = [14,13,12,10,9,11,8,7,6,4,3,5,2,1,0]\n",
    "for index in indexorder:\n",
    "    symtracevector = vector([0 for i in range(15)])\n",
    "    symtracevector[index] = 1\n",
    "    for commvec in commvectors:\n",
    "        symtracevector -= (symtracevector * commvec) * commvec\n",
    "    for i in range(len(symtracevectors)):\n",
    "        symtracevector -= (symtracevector * Gmatrix * symtracevectors[i])/Gnorms[i] * symtracevectors[i]\n",
    "        for j in range(len(symtracevector)):\n",
    "            symtracevector[j] = symtracevector[j].canonicalize_radical().factor()\n",
    "    planarNorm = (symtracevector * symtracevector).canonicalize_radical().factor()\n",
    "    if planarNorm != 0:\n",
    "        symtracevector *= 1/sqrt(planarNorm)\n",
    "        for i in range(len(symtracevector)):\n",
    "            symtracevector[i] = symtracevector[i].canonicalize_radical().factor()\n",
    "        Gnorms.append((symtracevector * Gmatrix * symtracevector).canonicalize_radical().factor())\n",
    "        symtracevectors.append(symtracevector)\n",
    "        \n",
    "#labels = [([4,2],5,1),([4,2],4,1),([4,2],4,2),([4,2],4,3),([4,2],3,1),([4,2],3,2),([4,2],3,3),([4,2],3,4),\n",
    "#        ([4,2],2,1),([4,2],2,2)]\n",
    "labels = [([4, 2], [2, 1, 1, 1, 1], 1), ([4, 2], [2, 2, 1, 1], 1), ([4, 2], [2, 2, 1, 1], 2), ([4, 2], [3, 1, 1, 1], 1),\n",
    "          ([4, 2], [2, 2, 2], 1), ([4, 2], [3, 2, 1], 1), ([4, 2], [3, 2, 1], 2), ([4, 2], [4, 1, 1], 1), ([4, 2], [3, 3], 1),\n",
    "          ([4, 2], [4, 2], 1)]\n",
    "operators = []\n",
    "signchangeindices = [3,8,9]\n",
    "for i in signchangeindices:\n",
    "    symtracevectors[i] = -symtracevectors[i]\n",
    "\n",
    "for vec in symtracevectors:\n",
    "    operators.append(gl2basis_fc42_lambda42.linearCombination(list(vec)))\n",
    "symtracevectors_fc42_lambda42 = symtracevectors\n",
    "symtracebasis_fc42_lambda42 = Basis([4,2], operators=operators, labels=labels)\n",
    "    \n",
    "\n",
    "bpsvectors = [vector([(vec[i]*Gmatrix[i,i]).factor() for i in range(15)]) for vec in symtracevectors]\n",
    "for i in range(len(bpsvectors)):\n",
    "    planarNorm = (bpsvectors[i] * bpsvectors[i]).canonicalize_radical().factor()\n",
    "    bpsvectors[i] *= 1/sqrt(planarNorm)\n",
    "    for j in range(len(bpsvectors[i])):\n",
    "        bpsvectors[i][j] = bpsvectors[i][j].canonicalize_radical().factor()\n",
    "Fnorms = [(vec * Fmatrix * vec).canonicalize_radical().factor() for vec in bpsvectors]\n",
    "\n",
    "labels = [([4, 2], [2, 1, 1, 1, 1], 1), ([4, 2], [2, 2, 1, 1], 1), ([4, 2], [2, 2, 1, 1], 2), ([4, 2], [3, 1, 1, 1], 1),\n",
    "          ([4, 2], [2, 2, 2], 1), ([4, 2], [3, 2, 1], 1), ([4, 2], [3, 2, 1], 2), ([4, 2], [4, 1, 1], 1), ([4, 2], [3, 3], 1),\n",
    "          ([4, 2], [4, 2], 1)]\n",
    "operators = []\n",
    "for vec in bpsvectors:\n",
    "    operators.append(gl2basis_fc42_lambda42.linearCombination(list(vec)))\n",
    "bpsvectors_fc42_lambda42 = bpsvectors\n",
    "bpsbasis_fc42_lambda42 = Basis([4,2],operators=operators, labels=labels)"
   ]
  },
  {
   "cell_type": "code",
   "execution_count": 6,
   "metadata": {},
   "outputs": [],
   "source": [
    "msbasis_fc42= orthogonalisedBasis([4,2])"
   ]
  },
  {
   "cell_type": "code",
   "execution_count": 12,
   "metadata": {
    "collapsed": true
   },
   "outputs": [],
   "source": [
    "#Code generating the GL(2) basis with field content 3,3 and Lambda = [4,2]\n",
    "labels = [([4, 2], [5, 1], 1), ([4, 2], [4, 2], 1), ([4, 2], [4, 2], 2), ([4, 2], [4, 1, 1], 1), \n",
    "          ([4, 2], [4, 1, 1], 2), ([4, 2], [3, 3], 1), ([4, 2], [3, 2, 1], 1), ([4, 2], [3, 2, 1], 2), \n",
    "          ([4, 2], [3, 2, 1], 3), ([4, 2], [3, 1, 1, 1], 1), ([4, 2], [3, 1, 1, 1], 2), ([4, 2], [2, 2, 2], 1), \n",
    "          ([4, 2], [2, 2, 1, 1], 1), ([4, 2], [2, 2, 1, 1], 2), ([4, 2], [2, 1, 1, 1, 1], 1)]\n",
    "\n",
    "tracelist = [ Trace([3,3], [1,2,3,4,5,6]), \n",
    "            Trace([3,3],[(1,2)]), Trace([3,3],[(1,4)]), Trace([3,3],[(4,5)]),\n",
    "            Trace([3,3],[(1,2),(3,4)]), Trace([3,3],[(1,2),(4,5)]), Trace([3,3],[(1,4),(2,5)]), Trace([3,3],[(1,4),(5,6)]),\n",
    "            Trace([3,3],[(1,2),(3,4),(5,6)]), Trace([3,3],[(1,4),(2,5),(3,6)]),\n",
    "            Trace([3,3],[(1,2,3)]), Trace([3,3],[(1,2,4)]), Trace([3,3],[(1,4,5)]),  Trace([3,3],[(4,5,6)]),\n",
    "            Trace([3,3],[(1,2,3),(4,5)]), Trace([3,3],[(1,2,4),(3,5)]), Trace([3,3],[(1,2,4),(5,6)]),\n",
    "            Trace([3,3],[(1,4,5),(2,3)]), Trace([3,3],[(1,4,5),(2,6)]), Trace([3,3],[(1,2),(4,5,6)]),\n",
    "            Trace([3,3],[(1,2,3),(4,5,6)]), Trace([3,3],[(1,2,4),(3,5,6)]), \n",
    "            Trace([3,3],[(1,2,3,4)]), Trace([3,3],[(1,2,4,5)]), Trace([3,3],[(1,4,2,5)]), Trace([3,3],[(1,4,5,6)]), \n",
    "            Trace([3,3],[(1,2,3,4),(5,6)]), Trace([3,3],[(1,2,4,5),(3,6)]), Trace([3,3],[(1,4,2,5),(3,6)]), \n",
    "            Trace([3,3],[(1,4,5,6),(2,3)]),\n",
    "            Trace([3,3],[(1,2,3,4,5)]), Trace([3,3],[(1,2,4,3,5)]), Trace([3,3],[(1,2,4,5,6)]), Trace([3,3],[(1,4,2,5,6)]),\n",
    "            Trace([3,3],[(1,2,3,4,5,6)]), Trace([3,3],[(1,2,4,3,5,6)]), Trace([3,3],[(1,2,4,5,3,6)]), \n",
    "            Trace([3,3],[(1,4,2,5,3,6)])]\n",
    "\n",
    "coefficients = [[0, -1/120*sqrt(5), 1/60*sqrt(5), -1/120*sqrt(5), -1/120*sqrt(5), -1/20*sqrt(5), 1/15*sqrt(5), -1/120*sqrt(5), -1/30*sqrt(5), 1/30*sqrt(5), -1/120*sqrt(5), 1/120*sqrt(5), 1/120*sqrt(5), -1/120*sqrt(5), -1/24*sqrt(5), 1/12*sqrt(5), -1/24*sqrt(5), -1/24*sqrt(5), 1/12*sqrt(5), -1/24*sqrt(5), -1/30*sqrt(5), 1/30*sqrt(5), -1/60*sqrt(5), -1/30*sqrt(5), 1/15*sqrt(5), -1/60*sqrt(5), -1/15*sqrt(5), 1/30*sqrt(5), 1/10*sqrt(5), -1/15*sqrt(5), -1/12*sqrt(5), 1/12*sqrt(5), -1/12*sqrt(5), 1/12*sqrt(5), -2/15*sqrt(5), 1/30*sqrt(5), 1/30*sqrt(5), 1/15*sqrt(5)], [0, 0, 0, 0, -1/20*sqrt(5), 1/20*sqrt(5), 1/20*sqrt(5), -1/20*sqrt(5), -1/20*sqrt(5), 1/20*sqrt(5), 0, 0, 0, 0, 1/20*sqrt(5), 0, -1/20*sqrt(5), -1/20*sqrt(5), 0, 1/20*sqrt(5), 1/20*sqrt(5), -1/20*sqrt(5), -1/20*sqrt(5), 1/10*sqrt(5), 0, -1/20*sqrt(5), -1/20*sqrt(5), 0, 1/10*sqrt(5), -1/20*sqrt(5), 1/20*sqrt(5), -1/20*sqrt(5), 1/20*sqrt(5), -1/20*sqrt(5), 1/20*sqrt(5), -1/20*sqrt(5), -1/20*sqrt(5), 1/20*sqrt(5)], [0, -1/40*sqrt(5), 1/20*sqrt(5), -1/40*sqrt(5), -1/40*sqrt(5), -1/20*sqrt(5), 1/10*sqrt(5), -1/40*sqrt(5), 0, 0, -1/40*sqrt(5), 1/40*sqrt(5), 1/40*sqrt(5), -1/40*sqrt(5), -1/40*sqrt(5), 1/20*sqrt(5), -1/40*sqrt(5), -1/40*sqrt(5), 1/20*sqrt(5), -1/40*sqrt(5), 0, 0, -1/20*sqrt(5), 1/10*sqrt(5), 0, -1/20*sqrt(5), 0, 1/10*sqrt(5), -1/10*sqrt(5), 0, 1/20*sqrt(5), -1/20*sqrt(5), 1/20*sqrt(5), -1/20*sqrt(5), 1/10*sqrt(5), 0, 0, -1/10*sqrt(5)], [0, 0, 0, 0, 1/36*sqrt(3)*sqrt(2), -1/12*sqrt(3)*sqrt(2), 1/36*sqrt(3)*sqrt(2), 1/36*sqrt(3)*sqrt(2), -1/36*sqrt(3)*sqrt(2), 1/36*sqrt(3)*sqrt(2), 1/36*sqrt(3)*sqrt(2), -1/36*sqrt(3)*sqrt(2), -1/36*sqrt(3)*sqrt(2), 1/36*sqrt(3)*sqrt(2), 0, 1/18*sqrt(3)*sqrt(2), -1/18*sqrt(3)*sqrt(2), -1/18*sqrt(3)*sqrt(2), 1/18*sqrt(3)*sqrt(2), 0, 1/36*sqrt(3)*sqrt(2), -1/36*sqrt(3)*sqrt(2), 1/12*sqrt(3)*sqrt(2), -1/9*sqrt(3)*sqrt(2), -1/18*sqrt(3)*sqrt(2), 1/12*sqrt(3)*sqrt(2), -1/36*sqrt(3)*sqrt(2), 1/18*sqrt(3)*sqrt(2), 0, -1/36*sqrt(3)*sqrt(2), 1/36*sqrt(3)*sqrt(2), -1/36*sqrt(3)*sqrt(2), 1/36*sqrt(3)*sqrt(2), -1/36*sqrt(3)*sqrt(2), 1/12*sqrt(3)*sqrt(2), -1/36*sqrt(3)*sqrt(2), -1/36*sqrt(3)*sqrt(2), -1/36*sqrt(3)*sqrt(2)], [0, 1/120*sqrt(5)*sqrt(3)*sqrt(2), -1/60*sqrt(5)*sqrt(3)*sqrt(2), 1/120*sqrt(5)*sqrt(3)*sqrt(2), 1/360*sqrt(5)*sqrt(3)*sqrt(2), 1/60*sqrt(5)*sqrt(3)*sqrt(2), -1/45*sqrt(5)*sqrt(3)*sqrt(2), 1/360*sqrt(5)*sqrt(3)*sqrt(2), -1/90*sqrt(5)*sqrt(3)*sqrt(2), 1/90*sqrt(5)*sqrt(3)*sqrt(2), 1/360*sqrt(5)*sqrt(3)*sqrt(2), -1/360*sqrt(5)*sqrt(3)*sqrt(2), -1/360*sqrt(5)*sqrt(3)*sqrt(2), 1/360*sqrt(5)*sqrt(3)*sqrt(2), -1/120*sqrt(5)*sqrt(3)*sqrt(2), 1/180*sqrt(5)*sqrt(3)*sqrt(2), 1/360*sqrt(5)*sqrt(3)*sqrt(2), 1/360*sqrt(5)*sqrt(3)*sqrt(2), 1/180*sqrt(5)*sqrt(3)*sqrt(2), -1/120*sqrt(5)*sqrt(3)*sqrt(2), -1/45*sqrt(5)*sqrt(3)*sqrt(2), 1/45*sqrt(5)*sqrt(3)*sqrt(2), 0, 1/18*sqrt(5)*sqrt(3)*sqrt(2), -1/18*sqrt(5)*sqrt(3)*sqrt(2), 0, -1/36*sqrt(5)*sqrt(3)*sqrt(2), 1/18*sqrt(5)*sqrt(3)*sqrt(2), 0, -1/36*sqrt(5)*sqrt(3)*sqrt(2), 1/36*sqrt(5)*sqrt(3)*sqrt(2), -1/36*sqrt(5)*sqrt(3)*sqrt(2), 1/36*sqrt(5)*sqrt(3)*sqrt(2), -1/36*sqrt(5)*sqrt(3)*sqrt(2), -1/30*sqrt(5)*sqrt(3)*sqrt(2), 1/45*sqrt(5)*sqrt(3)*sqrt(2), 1/45*sqrt(5)*sqrt(3)*sqrt(2), -1/90*sqrt(5)*sqrt(3)*sqrt(2)], [0, -1/60*sqrt(5), 1/30*sqrt(5), -1/60*sqrt(5), 1/30*sqrt(5), -1/20*sqrt(5), -1/60*sqrt(5), 1/30*sqrt(5), -1/60*sqrt(5), 1/60*sqrt(5), -1/60*sqrt(5), 1/60*sqrt(5), 1/60*sqrt(5), -1/60*sqrt(5), -1/30*sqrt(5), -1/30*sqrt(5), 1/15*sqrt(5), 1/15*sqrt(5), -1/30*sqrt(5), -1/30*sqrt(5), -1/60*sqrt(5), 1/60*sqrt(5), 1/60*sqrt(5), 1/30*sqrt(5), -1/15*sqrt(5), 1/60*sqrt(5), 1/60*sqrt(5), -2/15*sqrt(5), 1/10*sqrt(5), 1/60*sqrt(5), 1/12*sqrt(5), -1/12*sqrt(5), 1/12*sqrt(5), -1/12*sqrt(5), 1/12*sqrt(5), -1/12*sqrt(5), -1/12*sqrt(5), 1/12*sqrt(5)], [0, 0, 0, 0, 1/15*sqrt(5), 0, -2/15*sqrt(5), 1/15*sqrt(5), 0, 0, -1/30*sqrt(5), 1/30*sqrt(5), 1/30*sqrt(5), -1/30*sqrt(5), 0, 0, 0, 0, 0, 0, 1/15*sqrt(5), -1/15*sqrt(5), 0, 0, 0, 0, -1/15*sqrt(5), 2/15*sqrt(5), 0, -1/15*sqrt(5), -1/30*sqrt(5), 1/30*sqrt(5), -1/30*sqrt(5), 1/30*sqrt(5), 0, 0, 0, 0], [0, 0, 0, 0, 0, 0, 0, 0, 1/15*sqrt(5)*sqrt(2), -1/15*sqrt(5)*sqrt(2), 0, 0, 0, 0, 0, 1/15*sqrt(5)*sqrt(2), -1/15*sqrt(5)*sqrt(2), -1/15*sqrt(5)*sqrt(2), 1/15*sqrt(5)*sqrt(2), 0, 0, 0, 0, 1/15*sqrt(5)*sqrt(2), -1/15*sqrt(5)*sqrt(2), 0, 0, 0, 0, 0, 0, 0, 0, 0, 0, -1/30*sqrt(5)*sqrt(2), -1/30*sqrt(5)*sqrt(2), 1/15*sqrt(5)*sqrt(2)], [0, 1/30*sqrt(5)*sqrt(2), -1/15*sqrt(5)*sqrt(2), 1/30*sqrt(5)*sqrt(2), 0, 0, 0, 0, 0, 0, 0, 0, 0, 0, -1/30*sqrt(5)*sqrt(2), 1/30*sqrt(5)*sqrt(2), 0, 0, 1/30*sqrt(5)*sqrt(2), -1/30*sqrt(5)*sqrt(2), 0, 0, -1/30*sqrt(5)*sqrt(2), 0, 1/15*sqrt(5)*sqrt(2), -1/30*sqrt(5)*sqrt(2), 0, 0, 0, 0, 0, 0, 0, 0, 2/15*sqrt(5)*sqrt(2), -1/15*sqrt(5)*sqrt(2), -1/15*sqrt(5)*sqrt(2), 0], [0, 0, 0, 0, 1/36*sqrt(3)*sqrt(2), -1/12*sqrt(3)*sqrt(2), 1/36*sqrt(3)*sqrt(2), 1/36*sqrt(3)*sqrt(2), 1/36*sqrt(3)*sqrt(2), -1/36*sqrt(3)*sqrt(2), 1/36*sqrt(3)*sqrt(2), -1/36*sqrt(3)*sqrt(2), -1/36*sqrt(3)*sqrt(2), 1/36*sqrt(3)*sqrt(2), 0, -1/18*sqrt(3)*sqrt(2), 1/18*sqrt(3)*sqrt(2), 1/18*sqrt(3)*sqrt(2), -1/18*sqrt(3)*sqrt(2), 0, 1/36*sqrt(3)*sqrt(2), -1/36*sqrt(3)*sqrt(2), -1/12*sqrt(3)*sqrt(2), 1/9*sqrt(3)*sqrt(2), 1/18*sqrt(3)*sqrt(2), -1/12*sqrt(3)*sqrt(2), -1/36*sqrt(3)*sqrt(2), 1/18*sqrt(3)*sqrt(2), 0, -1/36*sqrt(3)*sqrt(2), 1/36*sqrt(3)*sqrt(2), -1/36*sqrt(3)*sqrt(2), 1/36*sqrt(3)*sqrt(2), -1/36*sqrt(3)*sqrt(2), -1/12*sqrt(3)*sqrt(2), 1/36*sqrt(3)*sqrt(2), 1/36*sqrt(3)*sqrt(2), 1/36*sqrt(3)*sqrt(2)], [0, -1/120*sqrt(5)*sqrt(3)*sqrt(2), 1/60*sqrt(5)*sqrt(3)*sqrt(2), -1/120*sqrt(5)*sqrt(3)*sqrt(2), 1/360*sqrt(5)*sqrt(3)*sqrt(2), 1/60*sqrt(5)*sqrt(3)*sqrt(2), -1/45*sqrt(5)*sqrt(3)*sqrt(2), 1/360*sqrt(5)*sqrt(3)*sqrt(2), 1/90*sqrt(5)*sqrt(3)*sqrt(2), -1/90*sqrt(5)*sqrt(3)*sqrt(2), 1/360*sqrt(5)*sqrt(3)*sqrt(2), -1/360*sqrt(5)*sqrt(3)*sqrt(2), -1/360*sqrt(5)*sqrt(3)*sqrt(2), 1/360*sqrt(5)*sqrt(3)*sqrt(2), 1/120*sqrt(5)*sqrt(3)*sqrt(2), -1/180*sqrt(5)*sqrt(3)*sqrt(2), -1/360*sqrt(5)*sqrt(3)*sqrt(2), -1/360*sqrt(5)*sqrt(3)*sqrt(2), -1/180*sqrt(5)*sqrt(3)*sqrt(2), 1/120*sqrt(5)*sqrt(3)*sqrt(2), -1/45*sqrt(5)*sqrt(3)*sqrt(2), 1/45*sqrt(5)*sqrt(3)*sqrt(2), 0, -1/18*sqrt(5)*sqrt(3)*sqrt(2), 1/18*sqrt(5)*sqrt(3)*sqrt(2), 0, -1/36*sqrt(5)*sqrt(3)*sqrt(2), 1/18*sqrt(5)*sqrt(3)*sqrt(2), 0, -1/36*sqrt(5)*sqrt(3)*sqrt(2), 1/36*sqrt(5)*sqrt(3)*sqrt(2), -1/36*sqrt(5)*sqrt(3)*sqrt(2), 1/36*sqrt(5)*sqrt(3)*sqrt(2), -1/36*sqrt(5)*sqrt(3)*sqrt(2), 1/30*sqrt(5)*sqrt(3)*sqrt(2), -1/45*sqrt(5)*sqrt(3)*sqrt(2), -1/45*sqrt(5)*sqrt(3)*sqrt(2), 1/90*sqrt(5)*sqrt(3)*sqrt(2)], [0, 1/60*sqrt(5), -1/30*sqrt(5), 1/60*sqrt(5), 1/30*sqrt(5), -1/20*sqrt(5), -1/60*sqrt(5), 1/30*sqrt(5), 1/60*sqrt(5), -1/60*sqrt(5), -1/60*sqrt(5), 1/60*sqrt(5), 1/60*sqrt(5), -1/60*sqrt(5), 1/30*sqrt(5), 1/30*sqrt(5), -1/15*sqrt(5), -1/15*sqrt(5), 1/30*sqrt(5), 1/30*sqrt(5), -1/60*sqrt(5), 1/60*sqrt(5), -1/60*sqrt(5), -1/30*sqrt(5), 1/15*sqrt(5), -1/60*sqrt(5), 1/60*sqrt(5), -2/15*sqrt(5), 1/10*sqrt(5), 1/60*sqrt(5), 1/12*sqrt(5), -1/12*sqrt(5), 1/12*sqrt(5), -1/12*sqrt(5), -1/12*sqrt(5), 1/12*sqrt(5), 1/12*sqrt(5), -1/12*sqrt(5)], [0, 0, 0, 0, -1/20*sqrt(5), 1/20*sqrt(5), 1/20*sqrt(5), -1/20*sqrt(5), 1/20*sqrt(5), -1/20*sqrt(5), 0, 0, 0, 0, -1/20*sqrt(5), 0, 1/20*sqrt(5), 1/20*sqrt(5), 0, -1/20*sqrt(5), 1/20*sqrt(5), -1/20*sqrt(5), 1/20*sqrt(5), -1/10*sqrt(5), 0, 1/20*sqrt(5), -1/20*sqrt(5), 0, 1/10*sqrt(5), -1/20*sqrt(5), 1/20*sqrt(5), -1/20*sqrt(5), 1/20*sqrt(5), -1/20*sqrt(5), -1/20*sqrt(5), 1/20*sqrt(5), 1/20*sqrt(5), -1/20*sqrt(5)], [0, 1/40*sqrt(5), -1/20*sqrt(5), 1/40*sqrt(5), -1/40*sqrt(5), -1/20*sqrt(5), 1/10*sqrt(5), -1/40*sqrt(5), 0, 0, -1/40*sqrt(5), 1/40*sqrt(5), 1/40*sqrt(5), -1/40*sqrt(5), 1/40*sqrt(5), -1/20*sqrt(5), 1/40*sqrt(5), 1/40*sqrt(5), -1/20*sqrt(5), 1/40*sqrt(5), 0, 0, 1/20*sqrt(5), -1/10*sqrt(5), 0, 1/20*sqrt(5), 0, 1/10*sqrt(5), -1/10*sqrt(5), 0, 1/20*sqrt(5), -1/20*sqrt(5), 1/20*sqrt(5), -1/20*sqrt(5), -1/10*sqrt(5), 0, 0, 1/10*sqrt(5)], [0, 1/120*sqrt(5), -1/60*sqrt(5), 1/120*sqrt(5), -1/120*sqrt(5), -1/20*sqrt(5), 1/15*sqrt(5), -1/120*sqrt(5), 1/30*sqrt(5), -1/30*sqrt(5), -1/120*sqrt(5), 1/120*sqrt(5), 1/120*sqrt(5), -1/120*sqrt(5), 1/24*sqrt(5), -1/12*sqrt(5), 1/24*sqrt(5), 1/24*sqrt(5), -1/12*sqrt(5), 1/24*sqrt(5), -1/30*sqrt(5), 1/30*sqrt(5), 1/60*sqrt(5), 1/30*sqrt(5), -1/15*sqrt(5), 1/60*sqrt(5), -1/15*sqrt(5), 1/30*sqrt(5), 1/10*sqrt(5), -1/15*sqrt(5), -1/12*sqrt(5), 1/12*sqrt(5), -1/12*sqrt(5), 1/12*sqrt(5), 2/15*sqrt(5), -1/30*sqrt(5), -1/30*sqrt(5), -1/15*sqrt(5)]]\n",
    "\n",
    "operators = [Operator([3,3],coefficients=cfs, traces=tracelist) for cfs in coefficients]\n",
    "\n",
    "gl2basis_fc33_lambda42 = Basis([3,3],operators,labels=labels)"
   ]
  },
  {
   "cell_type": "code",
   "execution_count": 7,
   "metadata": {},
   "outputs": [],
   "source": [
    "#Code generating the GL(2) basis with field content 3,3 and Lambda = [3,3]\n",
    "labels = [([3, 3], [4, 1, 1], 1), ([3, 3], [3, 2, 1], 1), ([3, 3], [3, 2, 1], 2), ([3, 3], [3, 1, 1, 1], 1)]\n",
    "\n",
    "tracelist = [ Trace([3,3], [1,2,3,4,5,6]), \n",
    "            Trace([3,3],[(1,2)]), Trace([3,3],[(1,4)]), Trace([3,3],[(4,5)]),\n",
    "            Trace([3,3],[(1,2),(3,4)]), Trace([3,3],[(1,2),(4,5)]), Trace([3,3],[(1,4),(2,5)]), Trace([3,3],[(1,4),(5,6)]),\n",
    "            Trace([3,3],[(1,2),(3,4),(5,6)]), Trace([3,3],[(1,4),(2,5),(3,6)]),\n",
    "            Trace([3,3],[(1,2,3)]), Trace([3,3],[(1,2,4)]), Trace([3,3],[(1,4,5)]),  Trace([3,3],[(4,5,6)]),\n",
    "            Trace([3,3],[(1,2,3),(4,5)]), Trace([3,3],[(1,2,4),(3,5)]), Trace([3,3],[(1,2,4),(5,6)]),\n",
    "            Trace([3,3],[(1,4,5),(2,3)]), Trace([3,3],[(1,4,5),(2,6)]), Trace([3,3],[(1,2),(4,5,6)]),\n",
    "            Trace([3,3],[(1,2,3),(4,5,6)]), Trace([3,3],[(1,2,4),(3,5,6)]), \n",
    "            Trace([3,3],[(1,2,3,4)]), Trace([3,3],[(1,2,4,5)]), Trace([3,3],[(1,4,2,5)]), Trace([3,3],[(1,4,5,6)]), \n",
    "            Trace([3,3],[(1,2,3,4),(5,6)]), Trace([3,3],[(1,2,4,5),(3,6)]), Trace([3,3],[(1,4,2,5),(3,6)]), \n",
    "            Trace([3,3],[(1,4,5,6),(2,3)]),\n",
    "            Trace([3,3],[(1,2,3,4,5)]), Trace([3,3],[(1,2,4,3,5)]), Trace([3,3],[(1,2,4,5,6)]), Trace([3,3],[(1,4,2,5,6)]),\n",
    "            Trace([3,3],[(1,2,3,4,5,6)]), Trace([3,3],[(1,2,4,3,5,6)]), Trace([3,3],[(1,2,4,5,3,6)]), \n",
    "            Trace([3,3],[(1,4,2,5,3,6)])]\n",
    "\n",
    "coefficients = [[0, 0, 0, 0, 0, 0, 0, 0, 0, 0, 1/36*sqrt(3), -1/12*sqrt(3), 1/12*sqrt(3), -1/36*sqrt(3), 1/12*sqrt(3), -1/6*sqrt(3), -1/12*sqrt(3), 1/12*sqrt(3), 1/6*sqrt(3), -1/12*sqrt(3), 0, 0, 0, 0, 0, 0, 0, 0, 0, 0, 1/6*sqrt(3), -1/6*sqrt(3), -1/6*sqrt(3), 1/6*sqrt(3), 0, 0, 0, 0], [0, 0, 0, 0, 0, 0, 0, 0, 0, 0, 1/18*sqrt(3), -1/6*sqrt(3), 1/6*sqrt(3), -1/18*sqrt(3), 0, 0, 0, 0, 0, 0, 0, 0, 0, 0, 0, 0, 0, 0, 0, 0, -1/6*sqrt(3), 1/6*sqrt(3), 1/6*sqrt(3), -1/6*sqrt(3), 0, 0, 0, 0], [0, 0, 0, 0, 0, 0, 0, 0, 0, 0, 0, 0, 0, 0, 0, 0, 0, 0, 0, 0, 0, 0, 0, 0, 0, 0, 0, 0, 0, 0, 0, 0, 0, 0, 0, -1/2*sqrt(2), 1/2*sqrt(2), 0], [0, 0, 0, 0, 0, 0, 0, 0, 0, 0, 1/36*sqrt(3), -1/12*sqrt(3), 1/12*sqrt(3), -1/36*sqrt(3), -1/12*sqrt(3), 1/6*sqrt(3), 1/12*sqrt(3), -1/12*sqrt(3), -1/6*sqrt(3), 1/12*sqrt(3), 0, 0, 0, 0, 0, 0, 0, 0, 0, 0, 1/6*sqrt(3), -1/6*sqrt(3), -1/6*sqrt(3), 1/6*sqrt(3), 0, 0, 0, 0]]\n",
    "\n",
    "operators = [Operator([3,3],coefficients=cfs, traces=tracelist) for cfs in coefficients]\n",
    "\n",
    "gl2basis_fc33_lambda33 = Basis([3,3],operators,labels=labels)"
   ]
  },
  {
   "cell_type": "code",
   "execution_count": 8,
   "metadata": {},
   "outputs": [
    {
     "name": "stdout",
     "output_type": "stream",
     "text": [
      "3\n",
      "([3, 3], [3, 1, 1, 1], 1)\n",
      "1\n",
      "([3, 3], [3, 2, 1], 1)\n"
     ]
    }
   ],
   "source": [
    "# Generating bps basis for field content [3,3], lambda = [3,3]\n",
    "Gmatrix = diagonal_matrix([1/((N+3)*(N+2)*(N+1)*N*(N-1)*(N-2)), 1/((N+2)*(N+1)*N^2*(N-1)*(N-2)),\n",
    "                          1/((N+2)*(N+1)*N^2*(N-1)*(N-2)), 1/((N+2)*(N+1)*N*(N-1)*(N-2)*(N-3))])\n",
    "\n",
    "Fmatrix = diagonal_matrix([((N+3)*(N+2)*(N+1)*N*(N-1)*(N-2)), ((N+2)*(N+1)*N^2*(N-1)*(N-2)),\n",
    "                          ((N+2)*(N+1)*N^2*(N-1)*(N-2)), ((N+2)*(N+1)*N*(N-1)*(N-2)*(N-3))])\n",
    "\n",
    "comm42_51 = lowerOperator(Operator([4,2], [1,-1], permutations=[[(1,2,3,5,6)],[(1,2,5,3,6)]]))\n",
    "comm42_6_1 = lowerOperator(Operator([4,2], [1,-1], permutations=[[(1,2,3,4,5,6)],[(1,2,3,5,4,6)]]))\n",
    "comm42_6_2 = lowerOperator(Operator([4,2], [1,1,-2], permutations=[[(1,2,3,4,5,6)],[(1,2,3,5,4,6)],[(1,2,5,3,4,6)]]))\n",
    "\n",
    "comm51_1 = Operator([3,3],[1,-1],permutations=[[(1,2,3,4,5)],[(1,2,4,3,5)]])\n",
    "comm51_2 = Operator([3,3],[1,-1],permutations=[[(2,3,4,5,6)],[(2,4,3,5,6)]])\n",
    "comm6_1 = Operator([3,3],[1,-1],permutations=[[(1,2,3,4,5,6)],[(1,2,4,3,5,6)]])\n",
    "comm6_2 = Operator([3,3],[1,1,-2],permutations=[[(1,2,3,4,5,6)],[(1,2,4,3,5,6)],[(1,2,4,5,3,6)]])\n",
    "comm6_3 = Operator([3,3],[1,1,1,-3],permutations=[[(1,2,3,4,5,6)],[(1,2,4,3,5,6)],[(1,2,4,5,3,6)],[(1,4,2,5,3,6)]])\n",
    "\n",
    "comm33_51 = comm51_1 - (calculator33.calculate(comm51_1,comm42_51,'planar')/calculator33.calculate(comm42_51,comm42_51,'planar')) * comm42_51\n",
    "comm33_6 = ( comm6_1 - (calculator33.calculate(comm6_1,comm42_6_1,'planar')/calculator33.calculate(comm42_6_1,comm42_6_1,'planar')) * comm42_6_1\n",
    "            - (calculator33.calculate(comm6_1,comm42_6_2,'planar')/calculator33.calculate(comm42_6_2,comm42_6_2,'planar')) * comm42_6_2)\n",
    "\n",
    "normalisedcommbasis = Basis([3,3], [comm33_51,comm33_6])\n",
    "for i in range(len(normalisedcommbasis)):\n",
    "    normalisedcommbasis.operators[i] /= sqrt(calculator33.calculate(normalisedcommbasis[i],normalisedcommbasis[i],'planar'))\n",
    "    normalisedcommbasis[i].canonicalizeRadicalsInCoefficients()\n",
    "commvectors = [gl2basis_fc33_lambda33.expand(comm) for comm in normalisedcommbasis]\n",
    "\n",
    "symtracevectors = []\n",
    "Gnorms = []\n",
    "indexorder = [3,2,1,0]\n",
    "for index in indexorder:\n",
    "    symtracevector = vector([0 for i in range(4)])\n",
    "    symtracevector[index] = 1\n",
    "    for commvec in commvectors:\n",
    "        symtracevector -= (symtracevector * commvec) * commvec\n",
    "    for i in range(len(symtracevectors)):\n",
    "        symtracevector -= (symtracevector * Gmatrix * symtracevectors[i])/Gnorms[i] * symtracevectors[i]\n",
    "        for j in range(len(symtracevector)):\n",
    "            symtracevector[j] = symtracevector[j].canonicalize_radical().factor()\n",
    "    planarNorm = (symtracevector * symtracevector).canonicalize_radical().factor()\n",
    "    if planarNorm != 0:\n",
    "        print(index)\n",
    "        print(gl2basis_fc33_lambda33.labels[index])\n",
    "        symtracevector *= 1/sqrt(planarNorm)\n",
    "        for i in range(len(symtracevector)):\n",
    "            symtracevector[i] = symtracevector[i].canonicalize_radical().factor()\n",
    "        Gnorms.append((symtracevector * Gmatrix * symtracevector).canonicalize_radical().factor())\n",
    "        symtracevectors.append(symtracevector)\n",
    "        \n",
    "\n",
    "labels = [([3, 3], [3, 1, 1, 1], 1),([3, 3], [3, 2, 1], 1)]\n",
    "operators = []\n",
    "for vec in symtracevectors:\n",
    "    operators.append(gl2basis_fc33_lambda33.linearCombination(list(vec)))\n",
    "symtracevectors_fc33_lambda33 = symtracevectors\n",
    "symtracebasis_fc33_lambda33 = Basis([3,3], operators=operators, labels=labels)\n",
    "    \n",
    "\n",
    "bpsvectors = [vector([(vec[i]*Gmatrix[i,i]).factor() for i in range(4)]) for vec in symtracevectors]\n",
    "for i in range(len(bpsvectors)):\n",
    "    planarNorm = (bpsvectors[i] * bpsvectors[i]).canonicalize_radical().factor()\n",
    "    bpsvectors[i] *= 1/sqrt(planarNorm)\n",
    "    for j in range(len(bpsvectors[i])):\n",
    "        bpsvectors[i][j] = bpsvectors[i][j].canonicalize_radical().factor()\n",
    "Fnorms = [(vec * Fmatrix * vec).canonicalize_radical().factor() for vec in bpsvectors]\n",
    "\n",
    "labels = [([3, 3], [3, 1, 1, 1], 1),([3, 3], [3, 2, 1], 1)]\n",
    "operators = []\n",
    "for vec in bpsvectors:\n",
    "    operators.append(gl2basis_fc33_lambda33.linearCombination(list(vec)))\n",
    "bpsvectors_fc33_lambda33 = bpsvectors\n",
    "bpsbasis_fc33_lambda33 = Basis([3,3],operators=operators, labels=labels)"
   ]
  },
  {
   "cell_type": "code",
   "execution_count": null,
   "metadata": {},
   "outputs": [],
   "source": [
    "msbasis_fc33= orthogonalisedBasis([3,3])"
   ]
  },
  {
   "cell_type": "code",
   "execution_count": null,
   "metadata": {},
   "outputs": [],
   "source": [
    "#Combining the different lambda sectors into one basis (for field content 3,3)\n",
    "labels = gl2basis_fc33_lambda42.labels + gl2basis_fc33_lambda33.labels\n",
    "operators = gl2basis_fc33_lambda42.operators + gl2basis_fc33_lambda33.operators\n",
    "\n",
    "gl2basis_fc33 = Basis ([3,3], operators, labels)\n"
   ]
  },
  {
   "cell_type": "code",
   "execution_count": null,
   "metadata": {},
   "outputs": [],
   "source": [
    "#Everything from here onwards is rough working. There may be some useful code in there, but it's not in any order."
   ]
  },
  {
   "cell_type": "code",
   "execution_count": 6,
   "metadata": {},
   "outputs": [],
   "source": [
    "GL2msbasis32 = GL2multiSymmetricBasis([3,2])"
   ]
  },
  {
   "cell_type": "code",
   "execution_count": 19,
   "metadata": {},
   "outputs": [],
   "source": [
    "gl2msbasisvectors32 = [gl2basis_fc32.expand(op) for lbl,op in GL2msbasis32]\n",
    "\n",
    "bpsvectors32 = [vector([vec[i]/Fmatrix[i,i] for i in range(18)]) for vec in gl2msbasisvectors32]\n",
    "Divisors = [sqrt(vec * vec).canonicalize_radical().factor() for vec in bpsvectors32]\n",
    "\n",
    "bpsoperatorlist32 = [gl2basis_fc32.linearCombination(vec) for vec in bpsvectors32]\n",
    "for op in bpsoperatorlist32:\n",
    "    op.canonicalizeRadicalsInCoefficients()\n",
    "    op.factorCoefficients()\n",
    "\n",
    "gl2bpsbasis32 = Basis([3,2],bpsoperatorlist32,labels)"
   ]
  },
  {
   "cell_type": "code",
   "execution_count": 81,
   "metadata": {},
   "outputs": [
    {
     "data": {
      "text/plain": [
       "-(3*N^6 - 24*N^5 + 106*N^4 - 428*N^3 + 1123*N^2 - 1104*N + 2520)*(N + 4)*N/(sqrt(5*N^8 - 40*N^7 + 112*N^6 - 184*N^5 + 767*N^4 - 1128*N^3 + 3528*N^2 - 5184*N + 10368)*sqrt(4*N^8 - 20*N^7 + 131*N^6 - 782*N^5 + 1535*N^4 - 3464*N^3 + 14728*N^2 - 1152*N + 40320))"
      ]
     },
     "execution_count": 81,
     "metadata": {},
     "output_type": "execute_result"
    }
   ],
   "source": [
    "i=0\n",
    "j=1\n",
    "((bpsvectors32[i] * bpsvectors32[j])/Divisors[i]/Divisors[j]).canonicalize_radical().factor()"
   ]
  },
  {
   "cell_type": "code",
   "execution_count": 22,
   "metadata": {},
   "outputs": [
    {
     "data": {
      "text/plain": [
       "[([5], [5], 1),\n",
       " ([5], [4, 1], 1),\n",
       " ([5], [3, 2], 1),\n",
       " ([5], [3, 1, 1], 1),\n",
       " ([5], [2, 2, 1], 1),\n",
       " ([5], [2, 1, 1, 1], 1),\n",
       " ([5], [1, 1, 1, 1, 1], 1),\n",
       " ([4, 1], [4, 1], 1),\n",
       " ([4, 1], [3, 2], 1),\n",
       " ([4, 1], [3, 1, 1], 1),\n",
       " ([4, 1], [2, 2, 1], 1),\n",
       " ([4, 1], [2, 1, 1, 1], 1),\n",
       " ([3, 2], [2, 1, 1, 1], 1),\n",
       " ([3, 2], [2, 2, 1], 1),\n",
       " ([3, 2], [3, 1, 1], 1),\n",
       " ([3, 2], [3, 2], 1)]"
      ]
     },
     "execution_count": 22,
     "metadata": {},
     "output_type": "execute_result"
    }
   ],
   "source": [
    "gl2bpsbasis32.labels"
   ]
  },
  {
   "cell_type": "code",
   "execution_count": 75,
   "metadata": {},
   "outputs": [
    {
     "name": "stdout",
     "output_type": "stream",
     "text": [
      "-1/120*sqrt(5)*sqrt(2)*(N^4 + 9*N^3 + 26*N^2 + 24*N - 1680)/sqrt(4*N^8 - 20*N^7 + 131*N^6 - 782*N^5 + 1535*N^4 - 3464*N^3 + 14728*N^2 - 1152*N + 40320)\n",
      "(TrX)(TrX)(TrX)(TrY)(TrY)\n",
      "1/40*sqrt(5)*sqrt(2)*(N^3 + 9*N^2 + 26*N - 396)*N/sqrt(4*N^8 - 20*N^7 + 131*N^6 - 782*N^5 + 1535*N^4 - 3464*N^3 + 14728*N^2 - 1152*N + 40320)\n",
      "(TrX)(TrXX)(TrY)(TrY)\n",
      "1/20*sqrt(5)*sqrt(2)*(N^3 + 9*N^2 + 26*N - 396)*N/sqrt(4*N^8 - 20*N^7 + 131*N^6 - 782*N^5 + 1535*N^4 - 3464*N^3 + 14728*N^2 - 1152*N + 40320)\n",
      "(TrX)(TrX)(TrXY)(TrY)\n",
      "1/120*sqrt(5)*sqrt(2)*(N^3 + 9*N^2 + 26*N - 396)*N/sqrt(4*N^8 - 20*N^7 + 131*N^6 - 782*N^5 + 1535*N^4 - 3464*N^3 + 14728*N^2 - 1152*N + 40320)\n",
      "(TrX)(TrX)(TrX)(TrYY)\n",
      "-1/20*sqrt(5)*sqrt(2)*(N^3 + 11*N^2 - 72*N - 120)*(N - 2)/sqrt(4*N^8 - 20*N^7 + 131*N^6 - 782*N^5 + 1535*N^4 - 3464*N^3 + 14728*N^2 - 1152*N + 40320)\n",
      "(TrXX)(TrXY)(TrY)\n",
      "-1/40*sqrt(5)*sqrt(2)*(N^3 + 11*N^2 - 72*N - 120)*(N - 2)/sqrt(4*N^8 - 20*N^7 + 131*N^6 - 782*N^5 + 1535*N^4 - 3464*N^3 + 14728*N^2 - 1152*N + 40320)\n",
      "(TrX)(TrXX)(TrYY)\n",
      "-1/20*sqrt(5)*sqrt(2)*(N^3 + 11*N^2 - 72*N - 120)*(N - 2)/sqrt(4*N^8 - 20*N^7 + 131*N^6 - 782*N^5 + 1535*N^4 - 3464*N^3 + 14728*N^2 - 1152*N + 40320)\n",
      "(TrX)(TrXY)(TrXY)\n",
      "-1/60*sqrt(5)*sqrt(2)*(N^4 + 9*N^3 - 64*N^2 + 24*N - 240)/sqrt(4*N^8 - 20*N^7 + 131*N^6 - 782*N^5 + 1535*N^4 - 3464*N^3 + 14728*N^2 - 1152*N + 40320)\n",
      "(TrXXX)(TrY)(TrY)\n",
      "-1/10*sqrt(5)*sqrt(2)*(N^4 + 9*N^3 - 64*N^2 + 24*N - 240)/sqrt(4*N^8 - 20*N^7 + 131*N^6 - 782*N^5 + 1535*N^4 - 3464*N^3 + 14728*N^2 - 1152*N + 40320)\n",
      "(TrX)(TrXXY)(TrY)\n",
      "-1/20*sqrt(5)*sqrt(2)*(N^4 + 9*N^3 - 64*N^2 + 24*N - 240)/sqrt(4*N^8 - 20*N^7 + 131*N^6 - 782*N^5 + 1535*N^4 - 3464*N^3 + 14728*N^2 - 1152*N + 40320)\n",
      "(TrX)(TrX)(TrXYY)\n",
      "1/60*sqrt(5)*sqrt(2)*(N^2 - 18*N - 28)*(N - 3)*N/sqrt(4*N^8 - 20*N^7 + 131*N^6 - 782*N^5 + 1535*N^4 - 3464*N^3 + 14728*N^2 - 1152*N + 40320)\n",
      "(TrXXX)(TrYY)\n",
      "1/10*sqrt(5)*sqrt(2)*(N^2 - 18*N - 28)*(N - 3)*N/sqrt(4*N^8 - 20*N^7 + 131*N^6 - 782*N^5 + 1535*N^4 - 3464*N^3 + 14728*N^2 - 1152*N + 40320)\n",
      "(TrXXY)(TrXY)\n",
      "1/20*sqrt(5)*sqrt(2)*(N^2 - 18*N - 28)*(N - 3)*N/sqrt(4*N^8 - 20*N^7 + 131*N^6 - 782*N^5 + 1535*N^4 - 3464*N^3 + 14728*N^2 - 1152*N + 40320)\n",
      "(TrXX)(TrXYY)\n",
      "1/10*sqrt(5)*sqrt(2)*(N^3 - 11*N^2 + 26*N - 76)*N/sqrt(4*N^8 - 20*N^7 + 131*N^6 - 782*N^5 + 1535*N^4 - 3464*N^3 + 14728*N^2 - 1152*N + 40320)\n",
      "(TrXXXY)(TrY)\n",
      "1/10*sqrt(5)*sqrt(2)*(N^3 - 11*N^2 + 26*N - 76)*N/sqrt(4*N^8 - 20*N^7 + 131*N^6 - 782*N^5 + 1535*N^4 - 3464*N^3 + 14728*N^2 - 1152*N + 40320)\n",
      "(TrX)(TrXXYY)\n",
      "1/20*sqrt(5)*sqrt(2)*(N^3 - 11*N^2 + 26*N - 76)*N/sqrt(4*N^8 - 20*N^7 + 131*N^6 - 782*N^5 + 1535*N^4 - 3464*N^3 + 14728*N^2 - 1152*N + 40320)\n",
      "(TrX)(TrXYXY)\n",
      "1/10*sqrt(5)*sqrt(2)*(4*N^2 + 3*N + 8)*(N - 3)*N/sqrt(4*N^8 - 20*N^7 + 131*N^6 - 782*N^5 + 1535*N^4 - 3464*N^3 + 14728*N^2 - 1152*N + 40320)\n",
      "(TrXXXYY)\n",
      "1/10*sqrt(5)*sqrt(2)*(4*N^2 + 3*N + 8)*(N - 3)*N/sqrt(4*N^8 - 20*N^7 + 131*N^6 - 782*N^5 + 1535*N^4 - 3464*N^3 + 14728*N^2 - 1152*N + 40320)\n",
      "(TrXXYXY)\n"
     ]
    }
   ],
   "source": [
    "i = 0\n",
    "for cf, tr in gl2bpsbasis32[i]:\n",
    "    print(cf/Divisors[i])\n",
    "    print(tr)"
   ]
  },
  {
   "cell_type": "code",
   "execution_count": 79,
   "metadata": {},
   "outputs": [
    {
     "name": "stdout",
     "output_type": "stream",
     "text": [
      "0\n",
      "0\n",
      "0\n",
      "0\n",
      "0\n",
      "0\n",
      "0\n",
      "0\n",
      "0\n",
      "0\n",
      "0\n",
      "0\n",
      "1/15*sqrt(5)*sqrt(3)*(N - 2)*(N - 3)*N/sqrt(10*N^6 + 74*N^5 + 199*N^4 + 252*N^3 + 351*N^2 + 648*N + 702)\n",
      "-1/6*sqrt(3)*(N + 3)*(N - 2)*(N - 3)/sqrt(10*N^6 + 74*N^5 + 199*N^4 + 252*N^3 + 351*N^2 + 648*N + 702)\n",
      "2/5*sqrt(5)*(N + 3)*(N - 3)*N/sqrt(10*N^6 + 74*N^5 + 199*N^4 + 252*N^3 + 351*N^2 + 648*N + 702)\n",
      "1/10*sqrt(5)*sqrt(3)*sqrt(2)*(N + 3)*(N - 3)*N/sqrt(10*N^6 + 74*N^5 + 199*N^4 + 252*N^3 + 351*N^2 + 648*N + 702)\n",
      "-5/6*sqrt(3)*(N + 3)*(N + 2)*(N - 3)/sqrt(10*N^6 + 74*N^5 + 199*N^4 + 252*N^3 + 351*N^2 + 648*N + 702)\n",
      "-2/3*sqrt(5)*sqrt(3)*(N + 3)*(N + 2)*N/sqrt(10*N^6 + 74*N^5 + 199*N^4 + 252*N^3 + 351*N^2 + 648*N + 702)\n"
     ]
    }
   ],
   "source": [
    "i = 15\n",
    "for cf in bpsvectors32[i]:\n",
    "    print(cf/Divisors[i])"
   ]
  },
  {
   "cell_type": "code",
   "execution_count": null,
   "metadata": {},
   "outputs": [],
   "source": []
  },
  {
   "cell_type": "code",
   "execution_count": 67,
   "metadata": {},
   "outputs": [
    {
     "name": "stdout",
     "output_type": "stream",
     "text": [
      "-1/3(TrXX)(TrYY) + 1/6(TrXX)(TrY)(TrY) + 1/3(TrXY)(TrXY) - 1/3(TrX)(TrXY)(TrY) + 1/6(TrX)(TrX)(TrYY)\n"
     ]
    }
   ],
   "source": [
    "op = msbasis22.linearCombination(1/6*vector([0,0,0,0,0,1,-2,1,0]))\n",
    "print(op)"
   ]
  },
  {
   "cell_type": "code",
   "execution_count": 65,
   "metadata": {},
   "outputs": [
    {
     "data": {
      "text/plain": [
       "(-1/3)(TrXX)(TrYY) + (1/6)(TrXX)(TrY)(TrY) + (1/3)(TrXY)(TrXY) + (-1/3)(TrX)(TrXY)(TrY) + (1/6)(TrX)(TrX)(TrYY)"
      ]
     },
     "execution_count": 65,
     "metadata": {},
     "output_type": "execute_result"
    }
   ],
   "source": [
    "GL2msbasis22[8]"
   ]
  },
  {
   "cell_type": "code",
   "execution_count": 66,
   "metadata": {},
   "outputs": [
    {
     "data": {
      "text/plain": [
       "(0, 0, 0, 0, 0, 1/6, -1/3, 1/6, 0)"
      ]
     },
     "execution_count": 66,
     "metadata": {},
     "output_type": "execute_result"
    }
   ],
   "source": [
    "msbasis22.expand(GL2msbasis22[8])"
   ]
  },
  {
   "cell_type": "code",
   "execution_count": 16,
   "metadata": {},
   "outputs": [
    {
     "data": {
      "text/plain": [
       "[[[2, 2]],\n",
       " [[2, 1], [0, 1]],\n",
       " [[2, 0], [0, 2]],\n",
       " [[1, 2], [1, 0]],\n",
       " [[1, 1], [1, 1]],\n",
       " [[2, 0], [0, 1], [0, 1]],\n",
       " [[1, 1], [1, 0], [0, 1]],\n",
       " [[1, 0], [1, 0], [0, 2]],\n",
       " [[1, 0], [1, 0], [0, 1], [0, 1]]]"
      ]
     },
     "execution_count": 16,
     "metadata": {},
     "output_type": "execute_result"
    }
   ],
   "source": [
    "msbasis22 = multiSymmetricBasis([2,2])\n",
    "msbasis22.labels"
   ]
  },
  {
   "cell_type": "code",
   "execution_count": 15,
   "metadata": {},
   "outputs": [
    {
     "data": {
      "text/plain": [
       "[([4, 0], [4], 1),\n",
       " ([4, 0], [3, 1], 1),\n",
       " ([4, 0], [2, 2], 1),\n",
       " ([4, 0], [2, 1, 1], 1),\n",
       " ([4, 0], [1, 1, 1, 1], 1),\n",
       " ([3, 1], [3, 1], 1),\n",
       " ([3, 1], [2, 1, 1], 1),\n",
       " ([2, 2], [2, 2], 1),\n",
       " ([2, 2], [2, 1, 1], 1)]"
      ]
     },
     "execution_count": 15,
     "metadata": {},
     "output_type": "execute_result"
    }
   ],
   "source": [
    "GL2msbasis22 = GL2multiSymmetricBasis([2,2])\n",
    "GL2msbasis22.labels"
   ]
  },
  {
   "cell_type": "code",
   "execution_count": 19,
   "metadata": {},
   "outputs": [
    {
     "data": {
      "text/plain": [
       "[([4], [4], 1),\n",
       " ([4], [3, 1], 1),\n",
       " ([4], [2, 2], 1),\n",
       " ([4], [2, 1, 1], 1),\n",
       " ([4], [1, 1, 1, 1], 1),\n",
       " ([3, 1], [3, 1], 1),\n",
       " ([3, 1], [2, 1, 1], 1),\n",
       " ([2, 2], [3, 1], 1),\n",
       " ([2, 2], [2, 2], 1),\n",
       " ([2, 2], [2, 1, 1], 1)]"
      ]
     },
     "execution_count": 19,
     "metadata": {},
     "output_type": "execute_result"
    }
   ],
   "source": [
    "gl2basis_fc22.labels"
   ]
  },
  {
   "cell_type": "code",
   "execution_count": 85,
   "metadata": {},
   "outputs": [],
   "source": [
    "gl2msbasisvectors = [gl2basis_fc22.expand(op) for lbl,op in GL2msbasis22]\n",
    "F = diagonal_matrix([ N*(N+1)*(N+2)*(N+3) , (N-1)*N*(N+1)*(N+2) , (N-1)*N^2*(N+1) , (N-2)*(N-1)*N*(N+1) , (N-3)*(N-2)*(N-1)*N ,\n",
    "    (N-1)*N*(N+1)*(N+2) , (N-2)*(N-1)*N*(N+1) , (N-1)*N*(N+1)*(N+2) , (N-1)*N^2*(N+1) , (N-2)*(N-1)*N*(N+1) ])\n",
    "\n",
    "G = diagonal_matrix([1/F[i,i] for i in range(10)])\n",
    "\n",
    "bpsvectors = [vector([vec[i]/F[i,i] for i in range(10)]) for vec in gl2msbasisvectors]\n",
    "Divisors = [sqrt(vec * vec).canonicalize_radical().factor() for vec in bpsvectors]\n",
    "\n",
    "bpsoperatorlist = [gl2basis_fc22.linearCombination(vec) for vec in bpsvectors]\n",
    "for op in bpsoperatorlist:\n",
    "    op.canonicalizeRadicalsInCoefficients()\n",
    "    op.factorCoefficients()\n",
    "\n",
    "gl2bpsbasis = Basis([2,2],bpsoperatorlist,[([4, 0], [4], 1), ([4, 0], [3, 1], 1), ([4, 0], [2, 2], 1), ([4, 0], [2, 1, 1], 1),\n",
    " ([4, 0], [1, 1, 1, 1], 1), ([3, 1], [3, 1], 1), ([3, 1], [2, 1, 1], 1), ([2, 2], [2, 2], 1), ([2, 2], [2, 1, 1], 1)])"
   ]
  },
  {
   "cell_type": "code",
   "execution_count": 59,
   "metadata": {},
   "outputs": [
    {
     "data": {
      "text/plain": [
       "(-5/2*sqrt(3)*sqrt(2))(TrX)(TrX)(TrY)(TrY) + (5/6*sqrt(3)*sqrt(2)*N)(TrXX)(TrY)(TrY) + (10/3*sqrt(3)*sqrt(2)*N)(TrX)(TrXY)(TrY) + (5/6*sqrt(3)*sqrt(2)*N)(TrX)(TrX)(TrYY) + (-sqrt(3)*sqrt(2)*(N^2 + 1))(TrXXY)(TrY) + (-sqrt(3)*sqrt(2)*(N^2 + 1))(TrX)(TrXYY) + (-1/6*sqrt(3)*sqrt(2)*(2*N^2 - 3))(TrXX)(TrYY) + (-1/3*sqrt(3)*sqrt(2)*(2*N^2 - 3))(TrXY)(TrXY) + (1/3*sqrt(3)*sqrt(2)*(N^2 + 1)*N)(TrXXYY) + (1/6*sqrt(3)*sqrt(2)*(N^2 + 1)*N)(TrXYXY)"
      ]
     },
     "execution_count": 59,
     "metadata": {},
     "output_type": "execute_result"
    }
   ],
   "source": [
    "gl2bpsbasis[0]*(N + 3)*(N + 2)*(N + 1)*(N - 1)*(N - 2)*(N - 3)*N"
   ]
  },
  {
   "cell_type": "code",
   "execution_count": 71,
   "metadata": {},
   "outputs": [
    {
     "data": {
      "text/plain": [
       "[(1/2, -1/2, 0, 1/2, -1/2, 0, 0, 0, 0, 0),\n",
       " (0, 1/7*sqrt(7), -1/7*sqrt(7), -1/7*sqrt(7), 2/7*sqrt(7), 0, 0, 0, 0, 0),\n",
       " (0, 0, 1/3*sqrt(3), -1/3*sqrt(3), 1/3*sqrt(3), 0, 0, 0, 0, 0),\n",
       " (0, 0, 0, 1/10*sqrt(5)*sqrt(2), -3/10*sqrt(5)*sqrt(2), 0, 0, 0, 0, 0),\n",
       " (0, 0, 0, 0, 1, 0, 0, 0, 0, 0),\n",
       " (0, 0, 0, 0, 0, 1/2*sqrt(2), 1/2*sqrt(2), 0, 0, 0),\n",
       " (0, 0, 0, 0, 0, 0, -1, 0, 0, 0),\n",
       " (0, 0, 0, 0, 0, 0, 0, 1/2*sqrt(2), 0, 1/2*sqrt(2)),\n",
       " (0, 0, 0, 0, 0, 0, 0, -1/6*sqrt(3), -1/6*sqrt(3)*sqrt(2), -1/2*sqrt(3))]"
      ]
     },
     "execution_count": 71,
     "metadata": {},
     "output_type": "execute_result"
    }
   ],
   "source": [
    "gl2msbasisvectors"
   ]
  },
  {
   "cell_type": "code",
   "execution_count": 73,
   "metadata": {},
   "outputs": [],
   "source": [
    "vec1 = gl2msbasisvectors[-2]\n",
    "vec2 = gl2msbasisvectors[-1]"
   ]
  },
  {
   "cell_type": "code",
   "execution_count": 84,
   "metadata": {},
   "outputs": [
    {
     "name": "stdout",
     "output_type": "stream",
     "text": [
      "(0, 0, 0, 0, 0, 0, 0, 1/3*sqrt(3)*sqrt(2), -1/3*sqrt(3), 0)\n",
      "(1)(TrXX)(TrY)(TrY) + (-2)(TrX)(TrXY)(TrY) + (1)(TrX)(TrX)(TrYY) + (1)(TrXX)(TrYY) + (-1)(TrXY)(TrXY)\n"
     ]
    }
   ],
   "source": [
    "newvec = sqrt(3)* (vec1 - (vec1 * vec2) * vec2)\n",
    "print(newvec)\n",
    "print(3*sqrt(2)*gl2basis_fc22.linearCombination(newvec))"
   ]
  },
  {
   "cell_type": "code",
   "execution_count": 96,
   "metadata": {},
   "outputs": [
    {
     "data": {
      "text/plain": [
       "1/3*(3*N^4 + 8*N^3 + 6*N^2 + 8)/((N + 2)^2*(N + 1)^2*(N - 1)^2*(N - 2)^2*N^4)"
      ]
     },
     "execution_count": 96,
     "metadata": {},
     "output_type": "execute_result"
    }
   ],
   "source": [
    "((G*vec2) * (G*vec2)).factor()"
   ]
  },
  {
   "cell_type": "code",
   "execution_count": 97,
   "metadata": {},
   "outputs": [
    {
     "data": {
      "text/plain": [
       "3*N^4 + 8*N^3 + 6*N^2 + 8"
      ]
     },
     "execution_count": 97,
     "metadata": {},
     "output_type": "execute_result"
    }
   ],
   "source": [
    "(3*N^4 + 8*N^3 + 6*N^2 + 8).factor()"
   ]
  },
  {
   "cell_type": "code",
   "execution_count": 100,
   "metadata": {
    "scrolled": true
   },
   "outputs": [
    {
     "data": {
      "text/plain": [
       "1/12*(3*N^2 + 8*N + 8)/((N + 2)^2*(N + 1)^2*(N - 1)^2*N^4)"
      ]
     },
     "execution_count": 100,
     "metadata": {},
     "output_type": "execute_result"
    }
   ],
   "source": [
    "vec = vector([0, 0, 0, 0, 0, 0, 0, -1/6*sqrt(3), -1/6*sqrt(3)*sqrt(2), 0])\n",
    "((G*vec) * (G*vec)).factor()"
   ]
  },
  {
   "cell_type": "code",
   "execution_count": 116,
   "metadata": {},
   "outputs": [
    {
     "data": {
      "text/plain": [
       "(3*N^2 + 4*N - 2)*(N + 1)*(N - 1)*N^2/(3*N^2 + 2)"
      ]
     },
     "execution_count": 116,
     "metadata": {},
     "output_type": "execute_result"
    }
   ],
   "source": [
    "calculator22.calculate(bps22_2,bps22_2,'F').factor()"
   ]
  },
  {
   "cell_type": "code",
   "execution_count": 114,
   "metadata": {},
   "outputs": [],
   "source": [
    "P1 = 3*N^4 + 8*N^3 + 6*N^2 + 8\n",
    "P2 = 3*N^2 + 2\n",
    "Q1 = 3*N^2 + 4*N - 2\n",
    "D = N^2 - 4*N - 2"
   ]
  },
  {
   "cell_type": "code",
   "execution_count": 117,
   "metadata": {},
   "outputs": [
    {
     "data": {
      "text/plain": [
       "8*(3*N^2 + 4*N - 2)^2*(N^2 + 4)"
      ]
     },
     "execution_count": 117,
     "metadata": {},
     "output_type": "execute_result"
    }
   ],
   "source": [
    "(((N+2)*(N-2)*P2 - P1)^2 + 8*D^2 * (N+2) *(N-2)).expand().factor()"
   ]
  },
  {
   "cell_type": "code",
   "execution_count": 123,
   "metadata": {},
   "outputs": [
    {
     "data": {
      "text/plain": [
       "9*N^6 + 24*N^5 + 24*N^4 + 16*N^3 + 34*N^2 + 8*N + 20"
      ]
     },
     "execution_count": 123,
     "metadata": {},
     "output_type": "execute_result"
    }
   ],
   "source": [
    "(P1*P2-2*D).expand().factor()"
   ]
  },
  {
   "cell_type": "code",
   "execution_count": null,
   "metadata": {},
   "outputs": [],
   "source": []
  },
  {
   "cell_type": "code",
   "execution_count": 120,
   "metadata": {
    "scrolled": true
   },
   "outputs": [
    {
     "data": {
      "text/plain": [
       "([4, 0], [4], 1):          (1/3*sqrt(3)*sqrt(2))(TrXXYY) + (1/6*sqrt(3)*sqrt(2))(TrXYXY)\n",
       "([4, 0], [3, 1], 1):       (-2/21*sqrt(7)*sqrt(3)*sqrt(2))(TrXXYY) + (-1/21*sqrt(7)*sqrt(3)*sqrt(2))(TrXYXY) + (1/14*sqrt(7)*sqrt(3)*sqrt(2))(TrXXY)(TrY) + (1/14*sqrt(7)*sqrt(3)*sqrt(2))(TrX)(TrXYY)\n",
       "([4, 0], [2, 2], 1):       (-1/3*sqrt(2))(TrXXYY) + (-1/6*sqrt(2))(TrXYXY) + (1/3*sqrt(2))(TrXY)(TrXY) + (1/6*sqrt(2))(TrXX)(TrYY)\n",
       "([4, 0], [2, 1, 1], 1):    (2/15*sqrt(5)*sqrt(3))(TrXXYY) + (1/15*sqrt(5)*sqrt(3))(TrXYXY) + (-1/10*sqrt(5)*sqrt(3))(TrXXY)(TrY) + (-1/10*sqrt(5)*sqrt(3))(TrX)(TrXYY) + (-1/15*sqrt(5)*sqrt(3))(TrXY)(TrXY) + (-1/30*sqrt(5)*sqrt(3))(TrXX)(TrYY) + (1/60*sqrt(5)*sqrt(3))(TrXX)(TrY)(TrY) + (1/15*sqrt(5)*sqrt(3))(TrX)(TrXY)(TrY) + (1/60*sqrt(5)*sqrt(3))(TrX)(TrX)(TrYY)\n",
       "([4, 0], [1, 1, 1, 1], 1): (-1/6*sqrt(3)*sqrt(2))(TrXXYY) + (-1/12*sqrt(3)*sqrt(2))(TrXYXY) + (1/6*sqrt(3)*sqrt(2))(TrXXY)(TrY) + (1/6*sqrt(3)*sqrt(2))(TrX)(TrXYY) + (1/12*sqrt(3)*sqrt(2))(TrXY)(TrXY) + (1/24*sqrt(3)*sqrt(2))(TrXX)(TrYY) + (-1/24*sqrt(3)*sqrt(2))(TrXX)(TrY)(TrY) + (-1/6*sqrt(3)*sqrt(2))(TrX)(TrXY)(TrY) + (-1/24*sqrt(3)*sqrt(2))(TrX)(TrX)(TrYY) + (1/24*sqrt(3)*sqrt(2))(TrX)(TrX)(TrY)(TrY)\n",
       "([3, 1], [3, 1], 1):       (1/2*sqrt(2))(TrXXY)(TrY) + (-1/2*sqrt(2))(TrX)(TrXYY)\n",
       "([3, 1], [2, 1, 1], 1):    (-1/2)(TrXXY)(TrY) + (1/2)(TrX)(TrXYY) + (1/4)(TrXX)(TrY)(TrY) + (-1/4)(TrX)(TrX)(TrYY)\n",
       "([2, 2], [2, 2], 1):       (1/6*sqrt(3)*sqrt(2))(TrXX)(TrYY) + (-1/6*sqrt(3)*sqrt(2))(TrXY)(TrXY)\n",
       "([2, 2], [2, 1, 1], 1):    (-1/3)(TrXX)(TrYY) + (1/6)(TrXX)(TrY)(TrY) + (1/3)(TrXY)(TrXY) + (-1/3)(TrX)(TrXY)(TrY) + (1/6)(TrX)(TrX)(TrYY)\n"
      ]
     },
     "execution_count": 120,
     "metadata": {},
     "output_type": "execute_result"
    }
   ],
   "source": [
    "GL2msbasis22"
   ]
  },
  {
   "cell_type": "code",
   "execution_count": null,
   "metadata": {},
   "outputs": [],
   "source": []
  },
  {
   "cell_type": "code",
   "execution_count": 8,
   "metadata": {},
   "outputs": [
    {
     "name": "stdout",
     "output_type": "stream",
     "text": [
      "([[4, 2]], 2/5(TrXXXXYY) + 2/5(TrXXXYXY) + 1/5(TrXXYXXY))\n",
      "([[4, 1], [0, 1]], (TrXXXXY)(TrY))\n",
      "([[4, 0], [0, 2]], (TrXXXX)(TrYY))\n",
      "([[3, 2], [1, 0]], 1/2(TrX)(TrXXXYY) + 1/2(TrX)(TrXXYXY))\n",
      "([[3, 1], [1, 1]], (TrXXXY)(TrXY))\n",
      "([[3, 0], [1, 2]], (TrXXX)(TrXYY))\n",
      "([[2, 2], [2, 0]], 2/3(TrXX)(TrXXYY) + 1/3(TrXX)(TrXYXY))\n",
      "([[2, 1], [2, 1]], (TrXXY)(TrXXY))\n",
      "([[4, 0], [0, 1], [0, 1]], (TrXXXX)(TrY)(TrY))\n",
      "([[3, 1], [1, 0], [0, 1]], (TrX)(TrXXXY)(TrY))\n",
      "([[3, 0], [1, 1], [0, 1]], (TrXXX)(TrXY)(TrY))\n",
      "([[2, 1], [2, 0], [0, 1]], (TrXX)(TrXXY)(TrY))\n",
      "([[3, 0], [1, 0], [0, 2]], (TrX)(TrXXX)(TrYY))\n",
      "([[2, 0], [2, 0], [0, 2]], (TrXX)(TrXX)(TrYY))\n",
      "([[2, 2], [1, 0], [1, 0]], 2/3(TrX)(TrX)(TrXXYY) + 1/3(TrX)(TrX)(TrXYXY))\n",
      "([[2, 1], [1, 1], [1, 0]], (TrX)(TrXXY)(TrXY))\n",
      "([[2, 0], [1, 2], [1, 0]], (TrX)(TrXX)(TrXYY))\n",
      "([[2, 0], [1, 1], [1, 1]], (TrXX)(TrXY)(TrXY))\n",
      "([[3, 0], [1, 0], [0, 1], [0, 1]], (TrX)(TrXXX)(TrY)(TrY))\n",
      "([[2, 0], [2, 0], [0, 1], [0, 1]], (TrXX)(TrXX)(TrY)(TrY))\n",
      "([[2, 1], [1, 0], [1, 0], [0, 1]], (TrX)(TrX)(TrXXY)(TrY))\n",
      "([[2, 0], [1, 1], [1, 0], [0, 1]], (TrX)(TrXX)(TrXY)(TrY))\n",
      "([[2, 0], [1, 0], [1, 0], [0, 2]], (TrX)(TrX)(TrXX)(TrYY))\n",
      "([[1, 2], [1, 0], [1, 0], [1, 0]], (TrX)(TrX)(TrX)(TrXYY))\n",
      "([[1, 1], [1, 1], [1, 0], [1, 0]], (TrX)(TrX)(TrXY)(TrXY))\n",
      "([[2, 0], [1, 0], [1, 0], [0, 1], [0, 1]], (TrX)(TrX)(TrXX)(TrY)(TrY))\n",
      "([[1, 1], [1, 0], [1, 0], [1, 0], [0, 1]], (TrX)(TrX)(TrX)(TrXY)(TrY))\n",
      "([[1, 0], [1, 0], [1, 0], [1, 0], [0, 2]], (TrX)(TrX)(TrX)(TrX)(TrYY))\n",
      "([[1, 0], [1, 0], [1, 0], [1, 0], [0, 1], [0, 1]], (TrX)(TrX)(TrX)(TrX)(TrY)(TrY))\n"
     ]
    }
   ],
   "source": [
    "for lbl,op in stbasis:\n",
    "    print(op)"
   ]
  },
  {
   "cell_type": "code",
   "execution_count": 12,
   "metadata": {},
   "outputs": [],
   "source": [
    "stbasis = symmetrisedTraceBasis([4,2])\n",
    "msbasis = multiSymmetricBasis([4,2])"
   ]
  },
  {
   "cell_type": "code",
   "execution_count": 11,
   "metadata": {},
   "outputs": [
    {
     "name": "stdout",
     "output_type": "stream",
     "text": [
      "[[4, 2]]     2/5(TrXXXXYY) + 2/5(TrXXXYXY) + 1/5(TrXXYXXY)        2/5\n",
      "[[4, 1], [0, 1]]     (TrXXXXY)(TrY)        1\n",
      "[[4, 0], [0, 2]]     (TrXXXX)(TrYY)        8\n",
      "[[3, 2], [1, 0]]     1/2(TrX)(TrXXXYY) + 1/2(TrX)(TrXXYXY)        1/2\n",
      "[[3, 1], [1, 1]]     (TrXXXY)(TrXY)        1\n",
      "[[3, 0], [1, 2]]     (TrXXX)(TrXYY)        3\n",
      "[[2, 2], [2, 0]]     2/3(TrXX)(TrXXYY) + 1/3(TrXX)(TrXYXY)        4/3\n",
      "[[2, 1], [2, 1]]     (TrXXY)(TrXXY)        2\n",
      "[[4, 0], [0, 1], [0, 1]]     (TrXXXX)(TrY)(TrY)        8\n",
      "[[3, 1], [1, 0], [0, 1]]     (TrX)(TrXXXY)(TrY)        1\n",
      "[[3, 0], [1, 1], [0, 1]]     (TrXXX)(TrXY)(TrY)        3\n",
      "[[2, 1], [2, 0], [0, 1]]     (TrXX)(TrXXY)(TrY)        2\n",
      "[[3, 0], [1, 0], [0, 2]]     (TrX)(TrXXX)(TrYY)        6\n",
      "[[2, 0], [2, 0], [0, 2]]     (TrXX)(TrXX)(TrYY)        16\n",
      "[[2, 2], [1, 0], [1, 0]]     2/3(TrX)(TrX)(TrXXYY) + 1/3(TrX)(TrX)(TrXYXY)        4/3\n",
      "[[2, 1], [1, 1], [1, 0]]     (TrX)(TrXXY)(TrXY)        1\n",
      "[[2, 0], [1, 2], [1, 0]]     (TrX)(TrXX)(TrXYY)        2\n",
      "[[2, 0], [1, 1], [1, 1]]     (TrXX)(TrXY)(TrXY)        4\n",
      "[[3, 0], [1, 0], [0, 1], [0, 1]]     (TrX)(TrXXX)(TrY)(TrY)        6\n",
      "[[2, 0], [2, 0], [0, 1], [0, 1]]     (TrXX)(TrXX)(TrY)(TrY)        16\n",
      "[[2, 1], [1, 0], [1, 0], [0, 1]]     (TrX)(TrX)(TrXXY)(TrY)        2\n",
      "[[2, 0], [1, 1], [1, 0], [0, 1]]     (TrX)(TrXX)(TrXY)(TrY)        2\n",
      "[[2, 0], [1, 0], [1, 0], [0, 2]]     (TrX)(TrX)(TrXX)(TrYY)        8\n",
      "[[1, 2], [1, 0], [1, 0], [1, 0]]     (TrX)(TrX)(TrX)(TrXYY)        6\n",
      "[[1, 1], [1, 1], [1, 0], [1, 0]]     (TrX)(TrX)(TrXY)(TrXY)        4\n",
      "[[2, 0], [1, 0], [1, 0], [0, 1], [0, 1]]     (TrX)(TrX)(TrXX)(TrY)(TrY)        8\n",
      "[[1, 1], [1, 0], [1, 0], [1, 0], [0, 1]]     (TrX)(TrX)(TrX)(TrXY)(TrY)        6\n",
      "[[1, 0], [1, 0], [1, 0], [1, 0], [0, 2]]     (TrX)(TrX)(TrX)(TrX)(TrYY)        48\n",
      "[[1, 0], [1, 0], [1, 0], [1, 0], [0, 1], [0, 1]]     (TrX)(TrX)(TrX)(TrX)(TrY)(TrY)        48\n"
     ]
    }
   ],
   "source": [
    "for lbl,op in stbasis:\n",
    "    print(str(lbl) + '     ' + str(op) + '        ' + str(calculator42.calculate(op,op,'planar')))"
   ]
  },
  {
   "cell_type": "code",
   "execution_count": 14,
   "metadata": {},
   "outputs": [
    {
     "name": "stdout",
     "output_type": "stream",
     "text": [
      "[[4, 2]]     2/5\n",
      "[[4, 1], [0, 1]]     7/5\n",
      "[[4, 0], [0, 2]]     42/5\n",
      "[[3, 2], [1, 0]]     9/10\n",
      "[[3, 1], [1, 1]]     7/5\n",
      "[[3, 0], [1, 2]]     17/5\n",
      "[[2, 2], [2, 0]]     26/15\n",
      "[[2, 1], [2, 1]]     12/5\n",
      "[[4, 0], [0, 1], [0, 1]]     108/5\n",
      "[[3, 1], [1, 0], [0, 1]]     51/10\n",
      "[[3, 0], [1, 1], [0, 1]]     48/5\n",
      "[[2, 1], [2, 0], [0, 1]]     119/15\n",
      "[[3, 0], [1, 0], [0, 2]]     191/10\n",
      "[[2, 0], [2, 0], [0, 2]]     464/15\n",
      "[[2, 2], [1, 0], [1, 0]]     94/15\n",
      "[[2, 1], [1, 1], [1, 0]]     61/10\n",
      "[[2, 0], [1, 2], [1, 0]]     253/30\n",
      "[[2, 0], [1, 1], [1, 1]]     164/15\n",
      "[[3, 0], [1, 0], [0, 1], [0, 1]]     462/5\n",
      "[[2, 0], [2, 0], [0, 1], [0, 1]]     2096/15\n",
      "[[2, 1], [1, 0], [1, 0], [0, 1]]     796/15\n",
      "[[2, 0], [1, 1], [1, 0], [0, 1]]     821/15\n",
      "[[2, 0], [1, 0], [1, 0], [0, 2]]     2036/15\n",
      "[[1, 2], [1, 0], [1, 0], [1, 0]]     462/5\n",
      "[[1, 1], [1, 1], [1, 0], [1, 0]]     1096/15\n",
      "[[2, 0], [1, 0], [1, 0], [0, 1], [0, 1]]     16936/15\n",
      "[[1, 1], [1, 0], [1, 0], [1, 0], [0, 1]]     5502/5\n",
      "[[1, 0], [1, 0], [1, 0], [1, 0], [0, 2]]     13152/5\n",
      "[[1, 0], [1, 0], [1, 0], [1, 0], [0, 1], [0, 1]]     34560\n"
     ]
    }
   ],
   "source": [
    "for lbl,op in msbasis:\n",
    "    print(str(lbl) + '     ' + str(calculator42.calculate(op,op,'planar')))"
   ]
  },
  {
   "cell_type": "code",
   "execution_count": null,
   "metadata": {},
   "outputs": [],
   "source": []
  },
  {
   "cell_type": "code",
   "execution_count": null,
   "metadata": {},
   "outputs": [],
   "source": []
  },
  {
   "cell_type": "code",
   "execution_count": null,
   "metadata": {},
   "outputs": [],
   "source": []
  },
  {
   "cell_type": "code",
   "execution_count": null,
   "metadata": {},
   "outputs": [],
   "source": []
  },
  {
   "cell_type": "code",
   "execution_count": 330,
   "metadata": {},
   "outputs": [
    {
     "data": {
      "text/plain": [
       "[([3, 3], [3, 1, 1, 1], 1), ([3, 3], [3, 2, 1], 1)]"
      ]
     },
     "execution_count": 330,
     "metadata": {},
     "output_type": "execute_result"
    }
   ],
   "source": [
    "symtracebasis_fc33_lambda33.labels"
   ]
  },
  {
   "cell_type": "code",
   "execution_count": 345,
   "metadata": {},
   "outputs": [
    {
     "name": "stdout",
     "output_type": "stream",
     "text": [
      "(N)(TrXXX)(TrY)(TrY)(TrY) + (-3*N)(TrX)(TrXXY)(TrY)(TrY) + (3*N)(TrX)(TrX)(TrXYY)(TrY) + (-N)(TrX)(TrX)(TrX)(TrYYY) + (N)(TrXXX)(TrY)(TrYY) + (-2*N)(TrXXY)(TrXY)(TrY) + (-N)(TrX)(TrXXY)(TrYY) + (N)(TrXX)(TrXYY)(TrY) + (2*N)(TrX)(TrXY)(TrXYY) + (-N)(TrX)(TrXX)(TrYYY) + (-6)(TrXXXYY)(TrY) + (6)(TrXXYXY)(TrY) + (6)(TrX)(TrXXYYY) + (-6)(TrX)(TrXYXYY)\n"
     ]
    }
   ],
   "source": [
    "op = 12 * sqrt(2*N^2 + 3)/sqrt(3) * bpsbasis_fc33_lambda33[1]\n",
    "op.canonicalizeRadicalsInCoefficients()\n",
    "print(op)"
   ]
  },
  {
   "cell_type": "code",
   "execution_count": 306,
   "metadata": {},
   "outputs": [],
   "source": [
    "t3111 = Operator([3,3], coefficients=[1,-3,3,-1], permutations=[[(1,2,3)],[(1,2,4)],[(1,4,5)],[(4,5,6)]])\n",
    "t321 = Operator([3,3], coefficients=[1,-2,-1,1,2,-1], permutations=[[(1,2,3),(4,5)],[(1,2,4),(3,5)],[(1,2,4),(5,6)],\n",
    "                                                                   [(1,4,5),(2,3)],[(1,4,5),(2,6)],[(1,2),(4,5,6)]])\n",
    "c51 = Operator([3,3], coefficients=[1,-1,-1,1], permutations=[[(1,2,3,4,5)],[(1,2,4,3,5)],[(1,2,4,5,6)],[(1,4,2,5,6)]])\n",
    "c6 = Operator([3,3], coefficients=[1,-1], permutations=[[(1,2,4,3,5,6)],[(1,2,4,5,3,6)]])\n",
    "\n",
    "shortbasis = Basis([3,3], operators=[t3111,t321,c51,c6])"
   ]
  },
  {
   "cell_type": "code",
   "execution_count": 349,
   "metadata": {},
   "outputs": [
    {
     "data": {
      "text/plain": [
       "\\frac{{\\left(2 \\, N^{2} + 3 \\, N - 3\\right)} {\\left(N + 2\\right)} {\\left(N + 1\\right)} {\\left(N - 1\\right)} {\\left(N - 2\\right)} N^{2}}{2 \\, N^{2} + 3}"
      ]
     },
     "execution_count": 349,
     "metadata": {},
     "output_type": "execute_result"
    }
   ],
   "source": [
    "latex(Fnorms[1])"
   ]
  },
  {
   "cell_type": "code",
   "execution_count": 333,
   "metadata": {},
   "outputs": [
    {
     "data": {
      "text/plain": [
       "[([3, 3], [4, 1, 1], 1),\n",
       " ([3, 3], [3, 2, 1], 1),\n",
       " ([3, 3], [3, 2, 1], 2),\n",
       " ([3, 3], [3, 1, 1, 1], 1)]"
      ]
     },
     "execution_count": 333,
     "metadata": {},
     "output_type": "execute_result"
    }
   ],
   "source": [
    "gl2basis_fc33_lambda33.labels"
   ]
  },
  {
   "cell_type": "code",
   "execution_count": 337,
   "metadata": {},
   "outputs": [
    {
     "data": {
      "text/plain": [
       "3*N^2 + 9*N - 18"
      ]
     },
     "execution_count": 337,
     "metadata": {},
     "output_type": "execute_result"
    }
   ],
   "source": [
    "(3*N^2 + 9*N - 18).factor()"
   ]
  },
  {
   "cell_type": "code",
   "execution_count": 214,
   "metadata": {},
   "outputs": [
    {
     "data": {
      "text/plain": [
       "[([4, 2], [2, 1, 1, 1, 1], 1),\n",
       " ([4, 2], [2, 2, 1, 1], 1),\n",
       " ([4, 2], [2, 2, 1, 1], 2),\n",
       " ([4, 2], [3, 1, 1, 1], 1),\n",
       " ([4, 2], [2, 2, 2], 1),\n",
       " ([4, 2], [3, 2, 1], 1),\n",
       " ([4, 2], [3, 2, 1], 2),\n",
       " ([4, 2], [4, 1, 1], 1),\n",
       " ([4, 2], [3, 3], 1),\n",
       " ([4, 2], [4, 2], 1)]"
      ]
     },
     "execution_count": 214,
     "metadata": {},
     "output_type": "execute_result"
    }
   ],
   "source": [
    "indices = [0,3,4,7,8,9]\n",
    "i = indices[0]\n",
    "print('\\\\begin{align}')\n",
    "print('\\\\left| S^{BPS}_{')\n",
    "print(bpsbasis_fc42_lambda42.labels[i][1])\n",
    "print('} \\\\right|^2_F & = ')\n",
    "print('\\\\frac{')\n",
    "print('\\\\begin{gathered}')\n",
    "print('\\\\vspace{-5pt}')\n",
    "print(latex(Fnorms_fc42_lambda42[i].numerator()))\n",
    "print('\\\\end{gathered}')\n",
    "print('}{')\n",
    "print('P^{BPS}_' + str(i))\n",
    "print('}')\n",
    "print('\\\\end{align}')"
   ]
  },
  {
   "cell_type": "code",
   "execution_count": 264,
   "metadata": {},
   "outputs": [
    {
     "name": "stdout",
     "output_type": "stream",
     "text": [
      "\\fontsize{12pt}{0}\n",
      "The norm of the BPS operator is\n",
      "\\fontsize{8pt}{0}\n",
      "\\begin{align}\n",
      "\\left| S^{BPS}_{\n",
      "[4, 2]\n",
      "} \\right|^2_F & = \n",
      "\\frac{{\\left(99 \\, N^{6} + 162 \\, N^{5} - 324 \\, N^{4} + 102 \\, N^{3} + 152 \\, N^{2} - 260 \\, N + 120\\right)} {\\left(3 \\, N^{2} - 2\\right)} {\\left(N + 3\\right)} {\\left(N + 2\\right)} {\\left(N + 1\\right)} {\\left(N - 1\\right)} N^{4}}{297 \\, N^{10} + 378 \\, N^{8} - 1260 \\, N^{7} + 390 \\, N^{6} + 1080 \\, N^{5} - 1256 \\, N^{4} + 640 \\, N^{3} + 760 \\, N^{2} - 1920 \\, N + 1440}\n",
      "\\end{align}\n",
      "\\fontsize{12pt}{0}\n",
      "Where the polynomials in the numerator are\n",
      "\\fontsize{8pt}{0}\n",
      "\\begin{align}\n",
      "Q_{9, 1} & = \\\\\n",
      "Q_{9, 2} & = \n",
      "\\end{align}\n"
     ]
    }
   ],
   "source": [
    "indices = [0,3,4,7,8,9]\n",
    "i = indices[5]\n",
    "print('\\\\fontsize{12pt}{0}')\n",
    "print('The norm of the BPS operator is')\n",
    "print('\\\\fontsize{8pt}{0}')\n",
    "print('\\\\begin{align}')\n",
    "print('\\\\left| S^{BPS}_{')\n",
    "print(bpsbasis_fc42_lambda42.labels[i][1])\n",
    "print('} \\\\right|^2_F & = ')\n",
    "print(latex(Fnorms_fc42_lambda42[i]))\n",
    "print('\\\\end{align}')\n",
    "print('\\\\fontsize{12pt}{0}')\n",
    "print('Where the polynomials in the numerator are')\n",
    "print('\\\\fontsize{8pt}{0}')\n",
    "print('\\\\begin{align}')\n",
    "print('Q_{' + str(i) + ', 1} & = \\\\\\\\')\n",
    "print('Q_{' + str(i) + ', 2} & = ')\n",
    "print('\\\\end{align}')"
   ]
  },
  {
   "cell_type": "code",
   "execution_count": 191,
   "metadata": {},
   "outputs": [
    {
     "name": "stdout",
     "output_type": "stream",
     "text": [
      "1/24*sqrt(3)*sqrt(2)*(N + 1)*N\n",
      "-1/8*sqrt(3)*sqrt(2)*(N + 1)*N\n",
      "1/8*sqrt(3)*sqrt(2)*(N + 1)*N\n",
      "-1/24*sqrt(3)*sqrt(2)*(N + 1)*N\n",
      "1/24*sqrt(3)*sqrt(2)*(N^2 + 3*N - 6)\n",
      "-1/12*sqrt(3)*sqrt(2)*(N^2 + 3*N - 6)\n",
      "-1/24*sqrt(3)*sqrt(2)*(N^2 + 3*N - 6)\n",
      "1/24*sqrt(3)*sqrt(2)*(N^2 + 3*N - 6)\n",
      "1/12*sqrt(3)*sqrt(2)*(N^2 + 3*N - 6)\n",
      "-1/24*sqrt(3)*sqrt(2)*(N^2 + 3*N - 6)\n"
     ]
    }
   ],
   "source": [
    "op = symtracebasis_fc33_lambda33[1]\n",
    "op *= sqrt(N^4 + 3*N^3 - 9*N + 9)\n",
    "op.factorCoefficients()\n",
    "for cf in op.coefficients:\n",
    "    print(cf)"
   ]
  },
  {
   "cell_type": "code",
   "execution_count": 183,
   "metadata": {},
   "outputs": [
    {
     "name": "stdout",
     "output_type": "stream",
     "text": [
      "1/390*sqrt(13)*sqrt(5)*sqrt(3)\n"
     ]
    }
   ],
   "source": [
    "vectorindex = 0\n",
    "vec = symtracevectors_fc42_lambda42[vectorindex]\n",
    "print(vec[0])"
   ]
  },
  {
   "cell_type": "code",
   "execution_count": 181,
   "metadata": {},
   "outputs": [
    {
     "name": "stdout",
     "output_type": "stream",
     "text": [
      "1/390*sqrt(13)*sqrt(5)*sqrt(3)\n",
      "0\n",
      "-1/390*sqrt(13)*sqrt(5)*sqrt(3)\n",
      "-1/117*sqrt(13)*sqrt(2)\n",
      "11/1170*sqrt(13)*sqrt(5)*sqrt(2)\n",
      "0\n",
      "-1/585*sqrt(13)*sqrt(5)*sqrt(3)\n",
      "0\n",
      "-4/585*sqrt(13)*sqrt(5)*sqrt(3)*sqrt(2)\n",
      "5/117*sqrt(13)*sqrt(2)\n",
      "29/1170*sqrt(13)*sqrt(5)*sqrt(2)\n",
      "1/117*sqrt(13)*sqrt(5)*sqrt(3)\n",
      "1/195*sqrt(13)*sqrt(5)*sqrt(3)\n",
      "1/30*sqrt(13)*sqrt(5)*sqrt(3)\n",
      "1/18*sqrt(13)*sqrt(5)*sqrt(3)\n"
     ]
    }
   ],
   "source": [
    "#P = (195*N^10 + 2298*N^9 + 9767*N^8 + 17008*N^7 + 21041*N^6 + 74974*N^5 + 135005*N^4 - 144704*N^3 - 399936*N^2 - 62976*N + 707328)\n",
    "#vec *= sqrt(P)\n",
    "for i in range(len(vec)):\n",
    "#    vec[i]= vec[i].simplify()\n",
    "    print(vec[i]) "
   ]
  },
  {
   "cell_type": "code",
   "execution_count": 184,
   "metadata": {},
   "outputs": [
    {
     "name": "stdout",
     "output_type": "stream",
     "text": [
      "3*sqrt(3)\n",
      "0\n",
      "-3*sqrt(3)\n",
      "-2*sqrt(5)*sqrt(2)\n",
      "11*sqrt(2)\n",
      "0\n",
      "-2*sqrt(3)\n",
      "0\n",
      "-8*sqrt(3)*sqrt(2)\n",
      "10*sqrt(5)*sqrt(2)\n",
      "29*sqrt(2)\n",
      "10*sqrt(3)\n",
      "6*sqrt(3)\n",
      "39*sqrt(3)\n",
      "65*sqrt(3)\n"
     ]
    }
   ],
   "source": [
    "c2 = 1170/(sqrt(13)*sqrt(5))\n",
    "vec *= c2\n",
    "for i in range(len(vec)):\n",
    "    vec[i]= vec[i].factor()\n",
    "    print(vec[i]) "
   ]
  },
  {
   "cell_type": "code",
   "execution_count": 170,
   "metadata": {},
   "outputs": [
    {
     "name": "stdout",
     "output_type": "stream",
     "text": [
      "-sqrt(3)*sqrt(2)\n",
      "-6*sqrt(3)*sqrt(2)\n",
      "-3*sqrt(3)*sqrt(2)\n",
      "-12*sqrt(5)*N\n",
      "-6\n",
      "-10*sqrt(3)*sqrt(2)*(N + 3)*(N - 1)\n",
      "6*sqrt(3)*sqrt(2)*(N + 3)*N\n",
      "24*sqrt(3)*(N + 3)\n",
      "-16*sqrt(3)*(N + 3)*(N - 1)\n",
      "12*sqrt(5)*(N + 3)*(N + 1)*(N - 1)*N\n",
      "-6*N - 18\n",
      "-10*sqrt(3)*sqrt(2)*(N + 3)*(N + 2)\n",
      "-6*sqrt(3)*sqrt(2)*(N + 3)*(N + 2)\n",
      "3*sqrt(3)*sqrt(2)*(N + 3)*(N + 2)\n",
      "-sqrt(3)*sqrt(2)*(N + 3)*(N + 2)\n"
     ]
    }
   ],
   "source": [
    "polyCfs = [(81*N^5 - 129*N^4 + 51*N^3 + 76*N^2 - 130*N + 60),\n",
    "    (9*N^5 + 3*N^4 - 3*N^3 - 13*N^2 + 13*N - 6),\n",
    "    (9*N^3 + 13*N^2 - 13*N + 6)*(3*N^2 - 2),\n",
    "    (5*N^3 - 2*N^2 - 5*N + 3),\n",
    "    (29*N^4 - 65*N^3 + 24*N^2 + 70*N - 60),\n",
    "    (3*N^2 - 3*N + 2),\n",
    "    (N^2 - 2*N + 2),\n",
    "    (N^2 - 2*N + 2),\n",
    "    (3*N^2 - 2),\n",
    "    1,\n",
    "    (11*N^3 - 18*N^2 - 10*N + 20),\n",
    "    1,\n",
    "    1,\n",
    "    (3*N^2 - 2),\n",
    "    (9*N^2 - 10)]\n",
    "for i in range(len(vec)):\n",
    "    vec[i] /= polyCfs[i]\n",
    "    print(vec[i])"
   ]
  },
  {
   "cell_type": "code",
   "execution_count": 152,
   "metadata": {},
   "outputs": [
    {
     "name": "stdout",
     "output_type": "stream",
     "text": [
      "-60*sqrt(2)*N\n",
      "9*sqrt(2)\n",
      "-18*sqrt(2)\n",
      "-2*sqrt(5)*sqrt(3)*N\n",
      "-20*sqrt(3)*N\n",
      "-3*sqrt(2)\n",
      "12*sqrt(2)\n",
      "1\n",
      "-96*N + 96\n",
      "2*sqrt(5)*sqrt(3)*N\n",
      "-20*sqrt(3)*N\n",
      "-15*sqrt(2)*(N + 2)\n",
      "-9*sqrt(2)*(N + 2)\n",
      "18*sqrt(2)*(N + 2)\n",
      "-60*sqrt(2)*(N + 2)*N\n"
     ]
    }
   ],
   "source": [
    "polyCfs = []\n",
    "for v in vec:\n",
    "    string = str(v)\n",
    "    index = string.find('N^2')\n",
    "    startindex = index\n",
    "    while startindex > 0 and string[startindex] != '(':\n",
    "        startindex -= 1\n",
    "    endindex = index\n",
    "    while endindex < len(string) and string[endindex] != ')':\n",
    "        endindex += 1\n",
    "    code = 'a = ' + string[startindex:endindex+1]\n",
    "    while code.find('^') > -1:\n",
    "        i = code.index('^')\n",
    "        code = code[:i] + '**' + code[i+1:]\n",
    "    exec(code)\n",
    "    polyCfs.append(a)\n",
    "for i in range(len(vec)):\n",
    "    vec[i] /= polyCfs[i]\n",
    "    print(vec[i])"
   ]
  },
  {
   "cell_type": "code",
   "execution_count": 361,
   "metadata": {},
   "outputs": [
    {
     "data": {
      "text/plain": [
       "-5/9*sqrt(3)*sqrt(2)*(N + 3)*(N + 2)/sqrt(297*N^10 + 378*N^8 - 1260*N^7 + 390*N^6 + 1080*N^5 - 1256*N^4 + 640*N^3 + 760*N^2 - 1920*N + 1440)"
      ]
     },
     "execution_count": 361,
     "metadata": {},
     "output_type": "execute_result"
    }
   ],
   "source": [
    "bpsvectors_fc42_lambda42[-1][-4]"
   ]
  },
  {
   "cell_type": "code",
   "execution_count": 358,
   "metadata": {},
   "outputs": [
    {
     "data": {
      "text/plain": [
       "[([4, 2], [2, 1, 1, 1, 1], 1),\n",
       " ([4, 2], [2, 2, 1, 1], 1),\n",
       " ([4, 2], [2, 2, 1, 1], 2),\n",
       " ([4, 2], [3, 1, 1, 1], 1),\n",
       " ([4, 2], [2, 2, 2], 1),\n",
       " ([4, 2], [3, 2, 1], 1),\n",
       " ([4, 2], [3, 2, 1], 2),\n",
       " ([4, 2], [4, 1, 1], 1),\n",
       " ([4, 2], [3, 3], 1),\n",
       " ([4, 2], [4, 2], 1)]"
      ]
     },
     "execution_count": 358,
     "metadata": {},
     "output_type": "execute_result"
    }
   ],
   "source": [
    "bpsbasis_fc42_lambda42.labels"
   ]
  },
  {
   "cell_type": "code",
   "execution_count": 359,
   "metadata": {},
   "outputs": [
    {
     "data": {
      "text/plain": [
       "[([4, 2], [5, 1], 1),\n",
       " ([4, 2], [4, 2], 1),\n",
       " ([4, 2], [4, 2], 2),\n",
       " ([4, 2], [4, 1, 1], 1),\n",
       " ([4, 2], [4, 1, 1], 2),\n",
       " ([4, 2], [3, 3], 1),\n",
       " ([4, 2], [3, 2, 1], 1),\n",
       " ([4, 2], [3, 2, 1], 2),\n",
       " ([4, 2], [3, 2, 1], 3),\n",
       " ([4, 2], [3, 1, 1, 1], 1),\n",
       " ([4, 2], [3, 1, 1, 1], 2),\n",
       " ([4, 2], [2, 2, 2], 1),\n",
       " ([4, 2], [2, 2, 1, 1], 1),\n",
       " ([4, 2], [2, 2, 1, 1], 2),\n",
       " ([4, 2], [2, 1, 1, 1, 1], 1)]"
      ]
     },
     "execution_count": 359,
     "metadata": {},
     "output_type": "execute_result"
    }
   ],
   "source": [
    "gl2basis_fc42_lambda42.labels"
   ]
  },
  {
   "cell_type": "code",
   "execution_count": 171,
   "metadata": {},
   "outputs": [
    {
     "name": "stdout",
     "output_type": "stream",
     "text": [
      "i=6, j=7\n",
      "1\n",
      "i=8, j=13\n",
      "1\n"
     ]
    }
   ],
   "source": [
    "for i in range(len(polyCfs)):\n",
    "    if polyCfs[i] != 1:\n",
    "        for j in range(i+1,len(polyCfs)):\n",
    "            if polyCfs[j] != 1:\n",
    "                a = (polyCfs[i]/polyCfs[j]).simplify()\n",
    "                if len(str(a)) < 20 and i != j:\n",
    "                    print('i=' + str(i) + ', j=' + str(j))\n",
    "                    print(str(a)[:20])"
   ]
  },
  {
   "cell_type": "code",
   "execution_count": 172,
   "metadata": {},
   "outputs": [],
   "source": [
    "polyCfStrings = [ 'P_{' + str(vectorindex) + ',' + str(i+1) + '}' for i in range(len(polyCfs))]\n",
    "pairs = [[6,7],[8,13]]\n",
    "for i in range(len(pairs)):\n",
    "    pairs[i].reverse()\n",
    "pairs.sort()\n",
    "for pair in pairs:\n",
    "    polyCfStrings[pair[0]] = polyCfStrings[pair[1]]\n",
    "    for i in range(pair[0]+1,len(polyCfStrings)):\n",
    "        string = polyCfStrings[i]\n",
    "        startindex = string.find(',')\n",
    "        endindex = string.find('}')\n",
    "        number = int(string[startindex+1:endindex]) - 1\n",
    "        polyCfStrings[i] = 'P_{' + str(vectorindex) + ',' + str(number) + '}'\n",
    "pairs.reverse()\n",
    "for pair in pairs:\n",
    "    polyCfs.pop(pair[0])"
   ]
  },
  {
   "cell_type": "code",
   "execution_count": 178,
   "metadata": {},
   "outputs": [],
   "source": [
    "cfs = [latex(v) for v in vec]\n",
    "sqrtlists = []\n",
    "numberlists = []\n",
    "#Square roots\n",
    "for i in range(len(cfs)):\n",
    "    cf = cfs[i]\n",
    "    sqrts = []\n",
    "    numbers = []\n",
    "    if '\\\\sqrt' in cf:\n",
    "        currentindex = cf.find('\\\\sqrt')\n",
    "        sqrts = [currentindex] \n",
    "        while '\\\\sqrt' in cf[currentindex+1:]:\n",
    "            currentindex += cf[currentindex+1:].find('\\\\sqrt') + 1\n",
    "            sqrts.append(currentindex)\n",
    "    \n",
    "        for index in sqrts:\n",
    "            endindex = cf[index:].find('}')\n",
    "            numbers.append(Integer(cf[index+6:index+endindex]))\n",
    "        prefix = cf[:sqrts[0]]\n",
    "        suffix = cf[index+endindex+1:]\n",
    "        prod = 1\n",
    "        for n in numbers:\n",
    "            prod *= n\n",
    "        cfs[i] = prefix + '\\\\sqrt{' + str(prod) + '}' + suffix\n",
    "\n",
    "#Signs\n",
    "signs = ['-' if cf[0] == '-' else '+' for cf in cfs]\n",
    "for i in range(len(cfs)):\n",
    "    if signs[i] == '+':\n",
    "        cfs[i] = '+ ' + cfs[i]\n",
    "    else:\n",
    "        cfs[i] = '- ' + cfs[i][1:]\n",
    "if cfs[0][0] == '+':\n",
    "    cfs[0] = cfs[0][2:]"
   ]
  },
  {
   "cell_type": "code",
   "execution_count": 179,
   "metadata": {},
   "outputs": [
    {
     "name": "stdout",
     "output_type": "stream",
     "text": [
      "\\begin{align}\n",
      "S^{BPS}_{\n",
      "[2, 1, 1, 1, 1]\n",
      " } & = \\frac{1}{ 18 \\sqrt{P^{BPS}_ 0 }} \\left(\n",
      " 9 \\, {\\left(N - 1\\right)} {\\left(N - 2\\right)} {\\left(N - 3\\right)} {\\left(N - 4\\right)} N \n",
      " \\mathcal{O}_{\n",
      " \\ydiagram{5, 1}\n",
      " }\n",
      " \\right.\n",
      " \\nonumber \\\\\n",
      " & \\hspace{20pt}\n",
      " + 0 \n",
      " \\mathcal{O}_{\n",
      " \\ydiagram{4, 2}\n",
      " , 1\n",
      " }\n",
      " \\nonumber \\\\\n",
      " & \\hspace{20pt}\n",
      " - 9 \\, {\\left(N + 4\\right)} {\\left(N - 1\\right)} {\\left(N - 2\\right)} {\\left(N - 3\\right)} {\\left(N - 4\\right)} \n",
      " \\mathcal{O}_{\n",
      " \\ydiagram{4, 2}\n",
      " , 2\n",
      " }\n",
      " \\nonumber \\\\\n",
      " & \\hspace{20pt}\n",
      " - 2 \\, \\sqrt{30} {\\left(N + 4\\right)} {\\left(N - 1\\right)} {\\left(N - 3\\right)} {\\left(N - 4\\right)} N \n",
      " \\mathcal{O}_{\n",
      " \\ydiagram{4, 1, 1}\n",
      " , 1\n",
      " }\n",
      " \\nonumber \\\\\n",
      " & \\hspace{20pt}\n",
      " + 11 \\, \\sqrt{6} {\\left(N + 4\\right)} {\\left(N - 1\\right)} {\\left(N - 3\\right)} {\\left(N - 4\\right)} N \n",
      " \\mathcal{O}_{\n",
      " \\ydiagram{4, 1, 1}\n",
      " , 2\n",
      " }\n",
      " \\nonumber \\\\\n",
      " & \\hspace{20pt}\n",
      " + 0 \n",
      " \\mathcal{O}_{\n",
      " \\ydiagram{3, 3}\n",
      " }\n",
      " \\nonumber \\\\\n",
      " & \\hspace{20pt}\n",
      " - 6 \\, {\\left(N + 4\\right)} {\\left(N + 3\\right)} {\\left(N - 1\\right)} {\\left(N - 3\\right)} {\\left(N - 4\\right)} \n",
      " \\mathcal{O}_{\n",
      " \\ydiagram{3, 2, 1}\n",
      " , 1\n",
      " }\n",
      " \\nonumber \\\\\n",
      " & \\hspace{20pt}\n",
      " + 0 \n",
      " \\mathcal{O}_{\n",
      " \\ydiagram{3, 2, 1}\n",
      " , 2\n",
      " }\n",
      " \\nonumber \\\\\n",
      " & \\hspace{20pt}\n",
      " - 24 \\, \\sqrt{2} {\\left(N + 4\\right)} {\\left(N + 3\\right)} {\\left(N - 1\\right)} {\\left(N - 3\\right)} {\\left(N - 4\\right)} \n",
      " \\mathcal{O}_{\n",
      " \\ydiagram{3, 2, 1}\n",
      " , 3\n",
      " }\n",
      " \\nonumber \\\\\n",
      " & \\hspace{20pt}\n",
      " + 10 \\, \\sqrt{30} {\\left(N + 4\\right)} {\\left(N + 3\\right)} {\\left(N - 1\\right)} {\\left(N - 4\\right)} N \n",
      " \\mathcal{O}_{\n",
      " \\ydiagram{3, 1, 1, 1}\n",
      " , 1\n",
      " }\n",
      " \\nonumber \\\\\n",
      " & \\hspace{20pt}\n",
      " + 29 \\, \\sqrt{6} {\\left(N + 4\\right)} {\\left(N + 3\\right)} {\\left(N - 1\\right)} {\\left(N - 4\\right)} N \n",
      " \\mathcal{O}_{\n",
      " \\ydiagram{3, 1, 1, 1}\n",
      " , 2\n",
      " }\n",
      " \\nonumber \\\\\n",
      " & \\hspace{20pt}\n",
      " + 30 \\, {\\left(N + 4\\right)} {\\left(N + 3\\right)} {\\left(N + 2\\right)} {\\left(N - 3\\right)} {\\left(N - 4\\right)} \n",
      " \\mathcal{O}_{\n",
      " \\ydiagram{2, 2, 2}\n",
      " }\n",
      " \\nonumber \\\\\n",
      " & \\hspace{20pt}\n",
      " + 18 \\, {\\left(N + 4\\right)} {\\left(N + 3\\right)} {\\left(N + 2\\right)} {\\left(N - 1\\right)} {\\left(N - 4\\right)} \n",
      " \\mathcal{O}_{\n",
      " \\ydiagram{2, 2, 1, 1}\n",
      " , 1\n",
      " }\n",
      " \\nonumber \\\\\n",
      " & \\hspace{20pt}\n",
      " + 117 \\, {\\left(N + 4\\right)} {\\left(N + 3\\right)} {\\left(N + 2\\right)} {\\left(N - 1\\right)} {\\left(N - 4\\right)} \n",
      " \\mathcal{O}_{\n",
      " \\ydiagram{2, 2, 1, 1}\n",
      " , 2\n",
      " }\n",
      " \\nonumber \\\\\n",
      " & \\hspace{20pt}\n",
      " \\left.\n",
      " + 195 \\, {\\left(N + 4\\right)} {\\left(N + 3\\right)} {\\left(N + 2\\right)} {\\left(N - 1\\right)} N \n",
      " \\mathcal{O}_{\n",
      " \\ydiagram{2, 1, 1, 1, 1}\n",
      " }\n",
      " \\right)\n",
      " \\end{align}\n",
      " \\fontsize{12pt}{0}\n",
      " where the normalisation and coefficient polynomials are\n",
      " \\fontsize{8pt}{0}\n",
      " \\begin{align}\n",
      " P^{BPS}_{0} & = 195 \\, N^{10} + 2298 \\, N^{9} + 9767 \\, N^{8} + 17008 \\, N^{7} + 21041 \\, N^{6} + 74974 \\, N^{5} + 135005 \\, N^{4} - 144704 \\, N^{3} - 399936 \\, N^{2} - 62976 \\, N + 707328 \\\\\n",
      " P_{0,1} & = 81 \\, N^{5} - 129 \\, N^{4} + 51 \\, N^{3} + 76 \\, N^{2} - 130 \\, N + 60 \\\\\n",
      " P_{0,2} & = 9 \\, N^{5} + 3 \\, N^{4} - 3 \\, N^{3} - 13 \\, N^{2} + 13 \\, N - 6 \\\\\n",
      " P_{0,3} & = {\\left(9 \\, N^{3} + 13 \\, N^{2} - 13 \\, N + 6\\right)} {\\left(3 \\, N^{2} - 2\\right)} \\\\\n",
      " P_{0,4} & = 5 \\, N^{3} - 2 \\, N^{2} - 5 \\, N + 3 \\\\\n",
      " P_{0,5} & = 29 \\, N^{4} - 65 \\, N^{3} + 24 \\, N^{2} + 70 \\, N - 60 \\\\\n",
      " P_{0,6} & = 3 \\, N^{2} - 3 \\, N + 2 \\\\\n",
      " P_{0,7} & = N^{2} - 2 \\, N + 2 \\\\\n",
      " P_{0,8} & = 3 \\, N^{2} - 2 \\\\\n",
      " P_{0,9} & = 1 \\\\\n",
      " P_{0,10} & = 11 \\, N^{3} - 18 \\, N^{2} - 10 \\, N + 20 \\\\\n",
      " P_{0,11} & = 1 \\\\\n",
      " P_{0,12} & = 1 \\\\\n",
      " P_{0,13} & = 9 \\, N^{2} - 10 \n",
      "\\end{align}\n"
     ]
    }
   ],
   "source": [
    "symtracelabels = [([2, 1, 1, 1, 1],0), ([2, 2, 1, 1], 1), ([2, 2, 1, 1], 2), ([3, 1, 1, 1],0), ([2, 2, 2],0),\n",
    "                  ([3, 2, 1], 1), ([3, 2, 1], 2), ([4, 1, 1],0), ([3, 3],0), ([4, 2],0)]\n",
    "operatorlabels = [([5, 1],0), ([4, 2], 1), ([4, 2], 2), ([4, 1, 1], 1), ([4, 1, 1], 2), ([3, 3],0), ([3, 2, 1], 1),\n",
    "                  ([3, 2, 1], 2), ([3, 2, 1], 3), ([3, 1, 1, 1], 1), ([3, 1, 1, 1], 2), ([2, 2, 2],0), ([2, 2, 1, 1], 1),\n",
    "                  ([2, 2, 1, 1], 2), ([2, 1, 1, 1, 1],0)]\n",
    "string = '\\\\begin{align}\\n'\n",
    "string += 'S^{BPS}_{\\n'\n",
    "string += str(symtracelabels[vectorindex][0]) + '\\n'\n",
    "if symtracelabels[vectorindex][1] > 0:\n",
    "    string += ' , ' + str(symtracelabels[vectorindex][1]) + '\\n'\n",
    "string += '} & = \\\\frac{1}{' + latex(c2) + '\\\\sqrt{P^{BPS}_' + str(vectorindex) + '}} \\left(\\n'\n",
    "for i in range(len(vec)):\n",
    "    if i > 0:\n",
    "        string += '\\\\nonumber \\\\\\\\\\n'\n",
    "        string += '& \\\\hspace{20pt}\\n'\n",
    "        if i == len(vec)-1:\n",
    "            string += '\\left.\\n'\n",
    "    string += cfs[i] + ' ' + '\\n'# + polyCfStrings[i]\n",
    "    string += '\\\\mathcal{O}_{\\n'\n",
    "    string += '\\\\ydiagram{' + str(operatorlabels[i][0])[1:-1] + '}\\n'\n",
    "    if operatorlabels[i][1] > 0:\n",
    "        string += ' , ' + str(operatorlabels[i][1]) + '\\n'\n",
    "    string += '}\\n'\n",
    "    if i == 0:\n",
    "        string += '\\\\right.\\n'\n",
    "    if i == len(vec)-1:\n",
    "        string += '\\\\right)\\n'\n",
    "string += '\\\\end{align}\\n'\n",
    "string += '\\\\fontsize{12pt}{0}\\n'\n",
    "string += 'where the normalisation and coefficient polynomials are\\n'\n",
    "string += '\\\\fontsize{8pt}{0}\\n'\n",
    "string += '\\\\begin{align}\\n'\n",
    "string += 'P^{BPS}_{' + str(vectorindex) + '} & = ' + latex(P) + '\\\\\\\\\\n'\n",
    "for i in range(len(polyCfs)):\n",
    "    string += 'P_{' + str(vectorindex) + ',' + str(i+1) + '} & = ' + latex(polyCfs[i]) + ' \\\\\\\\\\n'\n",
    "string = string[:-3]\n",
    "string += '\\n\\\\end{align}'\n",
    "\n",
    "print(string)"
   ]
  },
  {
   "cell_type": "code",
   "execution_count": null,
   "metadata": {},
   "outputs": [],
   "source": []
  },
  {
   "cell_type": "code",
   "execution_count": 45,
   "metadata": {},
   "outputs": [
    {
     "data": {
      "text/plain": [
       "[78*N^4 + 180*N^3 - 411*N^2 - 510*N + 788,\n",
       " 195*N^5 + 1149*N^4 + 687*N^3 - 3927*N^2 - 1552*N + 4448,\n",
       " 195*N^5 + 1257*N^4 + 801*N^3 - 5871*N^2 - 3656*N + 9024,\n",
       " 975*N^5 + 6177*N^4 + 3891*N^3 - 27411*N^2 - 16176*N + 40544,\n",
       " 507*N^5 + 3225*N^4 + 2037*N^3 - 14487*N^2 - 8664*N + 21632,\n",
       " 195*N^5 + 1041*N^4 + 573*N^3 - 1983*N^2 + 552*N - 128,\n",
       " 1443*N^5 + 9129*N^4 + 5745*N^3 - 40335*N^2 - 23688*N + 59456,\n",
       " 117*N^4 + 720*N^3 + 1041*N^2 + 240*N + 992,\n",
       " 429*N^5 + 2247*N^4 + 1215*N^3 - 3585*N^2 + 2056*N - 2112,\n",
       " 54*N^3 + 273*N^2 + 120*N - 572]"
      ]
     },
     "execution_count": 45,
     "metadata": {},
     "output_type": "execute_result"
    }
   ],
   "source": [
    "polyCfs"
   ]
  },
  {
   "cell_type": "code",
   "execution_count": 46,
   "metadata": {},
   "outputs": [
    {
     "data": {
      "text/plain": [
       "['P_{1,1}',\n",
       " 'P_{1,2}',\n",
       " 'P_{1,3}',\n",
       " 'P_{1,4}',\n",
       " 'P_{1,5}',\n",
       " 'P_{1,2}',\n",
       " 'P_{1,6}',\n",
       " 'P_{1,2}',\n",
       " 'P_{1,3}',\n",
       " 'P_{1,4}',\n",
       " 'P_{1,7}',\n",
       " 'P_{1,8}',\n",
       " 'P_{1,8}',\n",
       " 'P_{1,9}',\n",
       " 'P_{1,10}']"
      ]
     },
     "execution_count": 46,
     "metadata": {},
     "output_type": "execute_result"
    }
   ],
   "source": [
    "polyCfStrings"
   ]
  },
  {
   "cell_type": "code",
   "execution_count": 284,
   "metadata": {},
   "outputs": [],
   "source": [
    "op1 = bpsbasis_fc42_lambda42[([4, 2], [2,2,1,1], 1)]\n",
    "op2 = bpsbasis_fc42_lambda42[([4, 2], [2,2,1,1], 2)]\n",
    "norm1 = calculator42.calculate(op1,op1,'F')\n",
    "norm2 = calculator42.calculate(op2,op2,'F')\n",
    "op1 /= sqrt(norm1)\n",
    "op1.canonicalizeRadicalsInCoefficients()\n",
    "op1.factorCoefficients()\n",
    "op2 /= sqrt(norm2)\n",
    "op2.canonicalizeRadicalsInCoefficients()\n",
    "op2.factorCoefficients()\n",
    "\n"
   ]
  },
  {
   "cell_type": "code",
   "execution_count": 285,
   "metadata": {},
   "outputs": [],
   "source": [
    "invariants = []\n",
    "squareinvariants = []"
   ]
  },
  {
   "cell_type": "code",
   "execution_count": 286,
   "metadata": {},
   "outputs": [],
   "source": [
    "c = 1\n",
    "s = 0\n",
    "op3 = c*op1 + s*op2\n",
    "op4 = -s*op1 + c*op2\n",
    "\n",
    "innerprodmatrix = [[0,0],[0,0]]\n",
    "innerprodmatrix[0][0] = calculator42.calculate(op3,op3,'planar').canonicalize_radical().factor()\n",
    "innerprodmatrix[0][1] = calculator42.calculate(op3,op4,'planar').canonicalize_radical().factor()\n",
    "innerprodmatrix[1][0] = innerprodmatrix[0][1]\n",
    "innerprodmatrix[1][1] = calculator42.calculate(op4,op4,'planar').canonicalize_radical().factor()\n",
    "\n",
    "invariants.append((innerprodmatrix[0][0] + innerprodmatrix[1][1]).canonicalize_radical().factor())\n",
    "squareinvariants.append((innerprodmatrix[0][0]^2 + 2*innerprodmatrix[0][1]^2 + innerprodmatrix[1][1]^2).canonicalize_radical().factor())"
   ]
  },
  {
   "cell_type": "code",
   "execution_count": 302,
   "metadata": {},
   "outputs": [
    {
     "data": {
      "text/plain": [
       "7658328161250"
      ]
     },
     "execution_count": 302,
     "metadata": {},
     "output_type": "execute_result"
    }
   ],
   "source": [
    "10035^2*195^2*2"
   ]
  },
  {
   "cell_type": "code",
   "execution_count": 301,
   "metadata": {},
   "outputs": [
    {
     "data": {
      "text/plain": [
       "[(7658328161250*N^32 + 308379397920750*N^31 + 5678040590961075*N^30 + 62861883407800200*N^29 + 461553133569402069*N^28 + 2323880655128992368*N^27 + 7893896923770889320*N^26 + 16200841926037924512*N^25 + 9738474984510581700*N^24 - 43140893567922372492*N^23 - 100830809456338189482*N^22 + 66300678032545590264*N^21 + 576422366985618028290*N^20 + 587496624365125252152*N^19 - 1266939757691694906384*N^18 - 3370314414344723267400*N^17 - 14422779155617085790*N^16 + 8873284172309294711934*N^15 + 9228283693975324117807*N^14 - 8309143471774592802944*N^13 - 21871661389590847910159*N^12 - 3725069874701998817592*N^11 + 25451491117140266214976*N^10 + 18757146605106723110568*N^9 - 15395309506022451870416*N^8 - 22339442519546818907728*N^7 + 3985689055612424950064*N^6 + 16657691069689910952704*N^5 + 3604888800092578331072*N^4 - 4775351642112978422784*N^3 - 82696688563225374720*N^2 + 2740871464097166655488*N + 1006239182315089379328)/((10035*N^8 + 94914*N^7 + 264876*N^6 + 17268*N^5 - 819309*N^4 - 487830*N^3 + 780722*N^2 + 189568*N - 432744)^2*(195*N^5 + 1149*N^4 + 687*N^3 - 3927*N^2 - 1552*N + 4448)^2*(N + 3)^2*(N + 2)^2*(N + 1)^4*(N - 1)^2*(N - 2)^2*(N - 3)^2*N^4)]"
      ]
     },
     "execution_count": 301,
     "metadata": {},
     "output_type": "execute_result"
    }
   ],
   "source": [
    "squareinvariants"
   ]
  },
  {
   "cell_type": "code",
   "execution_count": 27,
   "metadata": {},
   "outputs": [
    {
     "name": "stdout",
     "output_type": "stream",
     "text": [
      "N=0\n",
      "(1693/60410607856227*sqrt(5998471637)*sqrt(123845753)*sqrt(5), 57112/60410607856227*sqrt(5998471637)*sqrt(186590563))\n",
      "(-688/79819795197*sqrt(123845753)*sqrt(39628535), -1693/399098975985*sqrt(186590563)*sqrt(39628535)*sqrt(5))\n",
      "(-1693/2239750443005*sqrt(5998471637)*sqrt(123845753)*sqrt(5), -57112/2239750443005*sqrt(123845753)*sqrt(39628535))\n",
      "(688/674898066371*sqrt(5998471637)*sqrt(186590563), 1693/3374490331855*sqrt(186590563)*sqrt(39628535)*sqrt(5))\n",
      "N=1\n",
      "(3661/20164747239639*sqrt(866490605)*sqrt(495801609)*sqrt(5), 67168/20164747239639*sqrt(495801609)*sqrt(105204331))\n",
      "(3578/125357489305*sqrt(866490605)*sqrt(5548019), -3661/125357489305*sqrt(105204331)*sqrt(5548019)*sqrt(5))\n",
      "(32949/58930892536655*sqrt(866490605)*sqrt(495801609)*sqrt(5), 67168/11786178507331*sqrt(866490605)*sqrt(5548019))\n",
      "(32202/7155051755641*sqrt(495801609)*sqrt(105204331), -18305/7155051755641*sqrt(105204331)*sqrt(5548019)*sqrt(5))\n",
      "N=2\n",
      "(773/6218746565675*sqrt(624229705)*sqrt(328824917)*sqrt(5), 101604/68406212222425*sqrt(719528590)*sqrt(624229705))\n",
      "(16124/56781967617281*sqrt(36270819302)*sqrt(328824917), -8503/567819676172810*sqrt(36270819302)*sqrt(719528590)*sqrt(5))\n",
      "(59521/351701595300607*sqrt(624229705)*sqrt(328824917)*sqrt(5), 101604/351701595300607*sqrt(36270819302)*sqrt(328824917))\n",
      "(112868/76958691353489*sqrt(719528590)*sqrt(624229705), -773/69962446684990*sqrt(36270819302)*sqrt(719528590)*sqrt(5))\n",
      "N=3\n",
      "(358693/10182836444121304995*sqrt(24696261048065)*sqrt(97164421373)*sqrt(5), 1746680/2036567288824260999*sqrt(24696261048065)*sqrt(54511656142))\n",
      "(375406/342860905870686813*sqrt(8315347576310)*sqrt(97164421373), -358693/3428609058706868130*sqrt(8315347576310)*sqrt(54511656142)*sqrt(5))\n",
      "(358693/7877587487398020995*sqrt(24696261048065)*sqrt(97164421373)*sqrt(5), 1746680/1575517497479604199*sqrt(8315347576310)*sqrt(97164421373))\n",
      "(375406/441952243705626373*sqrt(24696261048065)*sqrt(54511656142), -358693/4419522437056263730*sqrt(8315347576310)*sqrt(54511656142)*sqrt(5))\n",
      "N=4\n",
      "(366107/505137405628864009053*sqrt(207759069099929)*sqrt(26126926996389)*sqrt(5), 8975912/505137405628864009053*sqrt(120027345745819)*sqrt(26126926996389))\n",
      "(351184/20450030919581348969*sqrt(207759069099929)*sqrt(15865875075455), -156903/102250154597906744845*sqrt(120027345745819)*sqrt(15865875075455)*sqrt(5))\n",
      "(470709/517352284714533698995*sqrt(207759069099929)*sqrt(26126926996389)*sqrt(5), 8975912/517352284714533698995*sqrt(207759069099929)*sqrt(15865875075455))\n",
      "(1053552/59777339029135982389*sqrt(120027345745819)*sqrt(26126926996389), -366107/298886695145679911945*sqrt(120027345745819)*sqrt(15865875075455)*sqrt(5))\n",
      "N=5\n",
      "(89509363/2545102798889716459963089211*sqrt(14291420108063347033)*sqrt(155608113792459333)*sqrt(5), 8845013408/2545102798889716459963089211*sqrt(14291420108063347033)*sqrt(5736143126920378))\n",
      "(26441389/6267404071760412247903073*sqrt(351931185709234190)*sqrt(155608113792459333), -89509363/62674040717604122479030730*sqrt(351931185709234190)*sqrt(5736143126920378)*sqrt(5))\n",
      "(89509363/2078552324928326970406567035*sqrt(14291420108063347033)*sqrt(155608113792459333)*sqrt(5), 8845013408/2078552324928326970406567035*sqrt(351931185709234190)*sqrt(155608113792459333))\n",
      "(26441389/7662115645514475512956231*sqrt(14291420108063347033)*sqrt(5736143126920378), -89509363/76621156455144755129562310*sqrt(351931185709234190)*sqrt(5736143126920378)*sqrt(5))\n",
      "N=6\n",
      "(5904747/62732354730025377925363*sqrt(1754619989672531)*sqrt(171779193339935)*sqrt(5), 73480372/62732354730025377925363*sqrt(1754619989672531)*sqrt(411261219216686))\n",
      "(72916904/52306364381570548145435*sqrt(2926011399571190)*sqrt(171779193339935), -5904747/104612728763141096290870*sqrt(2926011399571190)*sqrt(411261219216686)*sqrt(5))\n",
      "(5904747/52323886806664752200995*sqrt(1754619989672531)*sqrt(171779193339935)*sqrt(5), 73480372/52323886806664752200995*sqrt(2926011399571190)*sqrt(171779193339935))\n",
      "(72916904/62635017268014374305211*sqrt(1754619989672531)*sqrt(411261219216686), -5904747/125270034536028748610422*sqrt(2926011399571190)*sqrt(411261219216686)*sqrt(5))\n",
      "N=7\n",
      "(94405357/3156998520633671282159792925*sqrt(1818936212048509065)*sqrt(1602055379836210157)*sqrt(5), 591414118/3156998520633671282159792925*sqrt(15509200046790119710)*sqrt(1818936212048509065))\n",
      "(483428430/6614537956249876008281155513*sqrt(114330962171410469942)*sqrt(1602055379836210157), -94405357/66145379562498760082811555130*sqrt(114330962171410469942)*sqrt(15509200046790119710)*sqrt(5))\n",
      "(283216071/8040490130477763205307899751*sqrt(1818936212048509065)*sqrt(1602055379836210157)*sqrt(5), 591414118/8040490130477763205307899751*sqrt(114330962171410469942)*sqrt(1602055379836210157))\n",
      "(1450285290/7783848890452861542958603753*sqrt(15509200046790119710)*sqrt(1818936212048509065), -94405357/77838488904528615429586037530*sqrt(114330962171410469942)*sqrt(15509200046790119710)*sqrt(5))\n",
      "N=8\n",
      "(2274517/1056378925569342485463585*sqrt(14628653089739278045)*sqrt(37645573267289)*sqrt(5), 34405480/211275785113868497092717*sqrt(14628653089739278045)*sqrt(2551908001987))\n",
      "(1999920/31925775476172965491133*sqrt(6631584785877812615)*sqrt(37645573267289), -2274517/159628877380864827455665*sqrt(6631584785877812615)*sqrt(2551908001987)*sqrt(5))\n",
      "(6823551/2730750434731612490874755*sqrt(14628653089739278045)*sqrt(37645573267289)*sqrt(5), 34405480/546150086946322498174951*sqrt(6631584785877812615)*sqrt(37645573267289))\n",
      "(5999760/37022275295652140423933*sqrt(14628653089739278045)*sqrt(2551908001987), -2274517/185111376478260702119665*sqrt(6631584785877812615)*sqrt(2551908001987)*sqrt(5))\n",
      "N=9\n",
      "(756869845/565208944450807814489766307167*sqrt(119580253500199125473)*sqrt(11702169527746747541)*sqrt(5), 76734723424/565208944450807814489766307167*sqrt(119580253500199125473)*sqrt(449144324389703293))\n",
      "(134666422/45782908654871022007154211*sqrt(11702169527746747541)*sqrt(9686208749306909), -39835255/45782908654871022007154211*sqrt(449144324389703293)*sqrt(9686208749306909)*sqrt(5))\n",
      "(39835255/25957207792371505478575399237*sqrt(119580253500199125473)*sqrt(11702169527746747541)*sqrt(5), 76734723424/25957207792371505478575399237*sqrt(11702169527746747541)*sqrt(9686208749306909))\n",
      "(134666422/996271035836949774572233901*sqrt(119580253500199125473)*sqrt(449144324389703293), -756869845/996271035836949774572233901*sqrt(449144324389703293)*sqrt(9686208749306909)*sqrt(5))\n"
     ]
    }
   ],
   "source": [
    "lbl1 = ([4, 2], [3, 2, 1], 1)#([4, 2], [2, 2, 1, 1], 1)\n",
    "lbl2 = ([4, 2], [3, 2, 1], 2)#([4, 2], [2, 2, 1, 1], 2)\n",
    "\n",
    "msop1 = msbasis_fc42[lbl1]\n",
    "msop2 = msbasis_fc42[lbl2]\n",
    "stop1 = symtracebasis_fc42_lambda42[lbl1]\n",
    "stop2 = symtracebasis_fc42_lambda42[lbl2]\n",
    "\n",
    "for n in range(10):\n",
    "    ops = [[msop1.copy(),msop2.copy()],[stop1.copy(),stop2.copy()]]\n",
    "    for i in range(2):\n",
    "        for j in range(2):\n",
    "            for k in range(len(ops[i][j].coefficients)):\n",
    "                ops[i][j].coefficients[k] = ops[i][j].coefficients[k](N=n)\n",
    "    shortmsbasis = Basis([4,2],ops[0])\n",
    "    shortstbasis = Basis([4,2],ops[1])\n",
    "    cfs = [[shortmsbasis.expand(shortstbasis[0]),shortmsbasis.expand(shortstbasis[1])],\n",
    "           [shortstbasis.expand(shortmsbasis[0]),shortstbasis.expand(shortmsbasis[1])]]\n",
    "    print(\"N=\"+str(n))\n",
    "    for i in range(2):\n",
    "        for j in range(2):\n",
    "            print(cfs[i][j])\n",
    "    "
   ]
  },
  {
   "cell_type": "code",
   "execution_count": null,
   "metadata": {},
   "outputs": [],
   "source": []
  },
  {
   "cell_type": "code",
   "execution_count": null,
   "metadata": {},
   "outputs": [],
   "source": []
  },
  {
   "cell_type": "code",
   "execution_count": null,
   "metadata": {},
   "outputs": [],
   "source": []
  },
  {
   "cell_type": "code",
   "execution_count": null,
   "metadata": {},
   "outputs": [],
   "source": []
  },
  {
   "cell_type": "code",
   "execution_count": 57,
   "metadata": {},
   "outputs": [
    {
     "data": {
      "text/plain": [
       "[3913650, 78795855, 656781957]"
      ]
     },
     "execution_count": 57,
     "metadata": {},
     "output_type": "execute_result"
    }
   ],
   "source": [
    "[3913650,78795855,656781957]"
   ]
  },
  {
   "cell_type": "code",
   "execution_count": 60,
   "metadata": {},
   "outputs": [
    {
     "data": {
      "text/plain": [
       "7658328161250*N^4 + 308379397920750*N^3 + 11349616177207125/2*N^2 + 51751695850388235*N + 431362539040749849/2"
      ]
     },
     "execution_count": 60,
     "metadata": {},
     "output_type": "execute_result"
    }
   ],
   "source": [
    "((3913650 * N^2 + 78795855 * N + 656781957)^2/2).expand()"
   ]
  },
  {
   "cell_type": "code",
   "execution_count": 61,
   "metadata": {
    "scrolled": true
   },
   "outputs": [
    {
     "data": {
      "text/plain": [
       "11356081181922150"
      ]
     },
     "execution_count": 61,
     "metadata": {},
     "output_type": "execute_result"
    }
   ],
   "source": [
    "5678040590961075*2"
   ]
  },
  {
   "cell_type": "code",
   "execution_count": 55,
   "metadata": {},
   "outputs": [
    {
     "data": {
      "text/plain": [
       "15316656322500"
      ]
     },
     "execution_count": 55,
     "metadata": {},
     "output_type": "execute_result"
    }
   ],
   "source": [
    "3913650^2"
   ]
  },
  {
   "cell_type": "code",
   "execution_count": 56,
   "metadata": {},
   "outputs": [
    {
     "data": {
      "text/plain": [
       "1/2"
      ]
     },
     "execution_count": 56,
     "metadata": {},
     "output_type": "execute_result"
    }
   ],
   "source": [
    "7658328161250/15316656322500"
   ]
  },
  {
   "cell_type": "code",
   "execution_count": 19,
   "metadata": {},
   "outputs": [
    {
     "data": {
      "text/plain": [
       "[([5], [5], 1),\n",
       " ([5], [4, 1], 1),\n",
       " ([5], [3, 2], 1),\n",
       " ([5], [3, 1, 1], 1),\n",
       " ([5], [2, 2, 1], 1),\n",
       " ([5], [2, 1, 1, 1], 1),\n",
       " ([5], [1, 1, 1, 1, 1], 1),\n",
       " ([4, 1], [4, 1], 1),\n",
       " ([4, 1], [3, 2], 1),\n",
       " ([4, 1], [3, 1, 1], 1),\n",
       " ([4, 1], [2, 2, 1], 1),\n",
       " ([4, 1], [2, 1, 1, 1], 1),\n",
       " ([3, 2], [2, 1, 1, 1], 1),\n",
       " ([3, 2], [2, 2, 1], 1),\n",
       " ([3, 2], [3, 1, 1], 1),\n",
       " ([3, 2], [3, 2], 1)]"
      ]
     },
     "execution_count": 19,
     "metadata": {},
     "output_type": "execute_result"
    }
   ],
   "source": [
    "bpsbasis_fc32.labels"
   ]
  },
  {
   "cell_type": "code",
   "execution_count": 45,
   "metadata": {},
   "outputs": [
    {
     "name": "stdout",
     "output_type": "stream",
     "text": [
      "1/12*sqrt(3)*sqrt(2)*(N^3 + 3*N^2 - 5*N + 2)(TrX)(TrXX)(TrY)(TrY)\n",
      "-1/6*sqrt(3)*sqrt(2)*(N^3 + 3*N^2 - 5*N + 2)(TrX)(TrX)(TrXY)(TrY)\n",
      "1/12*sqrt(3)*sqrt(2)*(N^3 + 3*N^2 - 5*N + 2)(TrX)(TrX)(TrX)(TrYY)\n",
      "-1/3*sqrt(3)*sqrt(2)*(N + 1)*N^2(TrX)(TrXX)(TrYY)\n",
      "1/3*sqrt(3)*sqrt(2)*(N + 1)*N^2(TrX)(TrXY)(TrXY)\n",
      "1/6*sqrt(3)*sqrt(2)*(2*N^3 + 4*N^2 - 5*N + 2)(TrXXX)(TrY)(TrY)\n",
      "-1/3*sqrt(3)*sqrt(2)*(2*N^3 + 4*N^2 - 5*N + 2)(TrX)(TrXXY)(TrY)\n",
      "1/6*sqrt(3)*sqrt(2)*(2*N^3 + 4*N^2 - 5*N + 2)(TrX)(TrX)(TrXYY)\n",
      "-1/6*sqrt(3)*sqrt(2)*(N + 1)*N^2(TrXXX)(TrYY)\n",
      "1/3*sqrt(3)*sqrt(2)*(N + 1)*N^2(TrXXY)(TrXY)\n",
      "-1/6*sqrt(3)*sqrt(2)*(N + 1)*N^2(TrXX)(TrXYY)\n",
      "2/3*sqrt(3)*sqrt(2)*(N + 1)*(N - 1)(TrX)(TrXXYY)\n",
      "-2/3*sqrt(3)*sqrt(2)*(N + 1)*(N - 1)(TrX)(TrXYXY)\n",
      "sqrt(3)*sqrt(2)*(N + 1)*N(TrXXXYY)\n",
      "-sqrt(3)*sqrt(2)*(N + 1)*N(TrXXYXY)\n"
     ]
    }
   ],
   "source": [
    "op = bpsbasis_fc32[ ([3, 2], [3,1,1], 1)]\n",
    "op.canonicalizeRadicalsInCoefficients()\n",
    "op.factorCoefficients()\n",
    "for cf, tr in op:\n",
    "    print(str(cf*sqrt(15*N^6 + 50*N^5 + 17*N^4 - 66*N^3 + 115*N^2 - 60*N + 20)*12/sqrt(3)/sqrt(2)) + str(tr))"
   ]
  },
  {
   "cell_type": "code",
   "execution_count": 54,
   "metadata": {},
   "outputs": [
    {
     "name": "stdout",
     "output_type": "stream",
     "text": [
      "10*N^2 - 10*N + 4\n",
      "sqrt(5)*(4*N^2 + 5*N - 2)\n",
      "4*sqrt(3)*(N - 1)\n",
      "-3*sqrt(2)*N\n",
      "sqrt(5)*(N + 2)\n",
      "-2*N - 4\n"
     ]
    }
   ],
   "source": [
    "a = (bpsvectors[3]*sqrt(3*N^4 + 5*N^2 - 4*N + 2)*sqrt(5)*sqrt(3)*2)[12:]\n",
    "for n in a:\n",
    "    print(n)"
   ]
  },
  {
   "cell_type": "code",
   "execution_count": null,
   "metadata": {},
   "outputs": [],
   "source": []
  },
  {
   "cell_type": "code",
   "execution_count": null,
   "metadata": {},
   "outputs": [],
   "source": []
  },
  {
   "cell_type": "code",
   "execution_count": null,
   "metadata": {},
   "outputs": [],
   "source": []
  },
  {
   "cell_type": "code",
   "execution_count": null,
   "metadata": {},
   "outputs": [],
   "source": []
  },
  {
   "cell_type": "code",
   "execution_count": null,
   "metadata": {},
   "outputs": [],
   "source": []
  },
  {
   "cell_type": "code",
   "execution_count": null,
   "metadata": {},
   "outputs": [],
   "source": []
  },
  {
   "cell_type": "code",
   "execution_count": null,
   "metadata": {},
   "outputs": [],
   "source": []
  },
  {
   "cell_type": "code",
   "execution_count": 12,
   "metadata": {
    "collapsed": true
   },
   "outputs": [
    {
     "name": "stdout",
     "output_type": "stream",
     "text": [
      "Calculator created\n",
      "Basis labels and multiplicities are:\n",
      "[([6], [6], 1), ([6], [5, 1], 1), ([6], [4, 2], 1), ([6], [4, 1, 1], 1), ([6], [3, 3], 1), ([6], [3, 2, 1], 1), ([6], [3, 1, 1, 1], 1), ([6], [2, 2, 2], 1), ([6], [2, 2, 1, 1], 1), ([6], [2, 1, 1, 1, 1], 1), ([6], [1, 1, 1, 1, 1, 1], 1), ([5, 1], [5, 1], 1), ([5, 1], [4, 2], 1), ([5, 1], [4, 1, 1], 1), ([5, 1], [3, 2, 1], 2), ([5, 1], [3, 1, 1, 1], 1), ([5, 1], [2, 2, 1, 1], 1), ([5, 1], [2, 1, 1, 1, 1], 1), ([4, 2], [5, 1], 1), ([4, 2], [4, 2], 2), ([4, 2], [4, 1, 1], 2), ([4, 2], [3, 3], 1), ([4, 2], [3, 2, 1], 3), ([4, 2], [3, 1, 1, 1], 2), ([4, 2], [2, 2, 2], 1), ([4, 2], [2, 2, 1, 1], 2), ([4, 2], [2, 1, 1, 1, 1], 1), ([3, 3], [4, 1, 1], 1), ([3, 3], [3, 2, 1], 2), ([3, 3], [3, 1, 1, 1], 1)]\n",
      "Setup lambda vectors\n"
     ]
    }
   ],
   "source": [
    "fieldContent = [4,2]\n",
    "calculator = correlatorCalculator(fieldContent)\n",
    "print('Calculator created')\n",
    "\n",
    "fplabels, fpbasis = VectorGenerator(sum(fieldContent))\n",
    "multiplicities = lambdaRmultiplicities(sum(fieldContent))\n",
    "print('Basis labels and multiplicities are:')\n",
    "print(multiplicities)\n",
    "if fieldContent[1] == 0:\n",
    "    fieldContent.pop()\n",
    "fpbasis = [fpbasis[i] for i in range(len(fplabels)) if fplabels[i][0].evaluation() == fieldContent] \n",
    "fplabels = [lbl for lbl in fplabels if lbl[0].evaluation() == fieldContent]\n",
    "if len(fieldContent) == 1:\n",
    "    fieldContent.append(0)\n",
    "partitions = list(Partitions(sum(fieldContent)))\n",
    "lambdaPartitions = [ p for p in partitions if len(p) == 1 or (len(p) == 2 and p[1] <= fieldContent[1])]\n",
    "fpvectors = []\n",
    "for Lambda in lambdaPartitions:\n",
    "    fpvectors.append([ fpbasis[i] for i in range(len(fplabels)) if fplabels[i][0].shape() == Lambda])\n",
    "print('Setup lambda vectors')\n",
    "\n",
    "G = SymmetricGroup(sum(fieldContent))\n",
    "representations = [ SymmetricGroupRepresentation(p, 'orthogonal') for p in partitions]"
   ]
  },
  {
   "cell_type": "code",
   "execution_count": 66,
   "metadata": {
    "collapsed": true
   },
   "outputs": [
    {
     "name": "stdout",
     "output_type": "stream",
     "text": [
      "([5, 1], [5, 1])\n",
      "0\n",
      "attempting with vector index 4\n",
      "\n",
      "([5, 1], [4, 2])\n",
      "0\n",
      "attempting with vector index 4\n",
      "\n",
      "([5, 1], [4, 1, 1])\n",
      "0\n",
      "attempting with vector index 4\n",
      "\n",
      "([5, 1], [3, 2, 1])\n",
      "0\n",
      "attempting with vector index 4\n",
      "1\n",
      "attempting with vector index 3\n",
      "\n",
      "([5, 1], [3, 1, 1, 1])\n",
      "0\n",
      "attempting with vector index 4\n",
      "\n",
      "([5, 1], [2, 2, 1, 1])\n",
      "0\n",
      "attempting with vector index 4\n",
      "\n",
      "([5, 1], [2, 1, 1, 1, 1])\n",
      "0\n",
      "attempting with vector index 4\n",
      "\n",
      "([4, 2], [5, 1])\n",
      "0\n",
      "attempting with vector index 8\n",
      "attempting with vector index 7\n",
      "attempting with vector index 6\n"
     ]
    },
    {
     "ename": "KeyboardInterrupt",
     "evalue": "",
     "output_type": "error",
     "traceback": [
      "\u001b[0;31m---------------------------------------------------------------------------\u001b[0m",
      "\u001b[0;31mKeyboardInterrupt\u001b[0m                         Traceback (most recent call last)",
      "\u001b[0;32m<ipython-input-66-3185519ca041>\u001b[0m in \u001b[0;36m<module>\u001b[0;34m()\u001b[0m\n\u001b[1;32m     24\u001b[0m                         \u001b[0mcoefficients\u001b[0m\u001b[0;34m.\u001b[0m\u001b[0mappend\u001b[0m\u001b[0;34m(\u001b[0m\u001b[0mcf\u001b[0m \u001b[0;34m*\u001b[0m \u001b[0msum\u001b[0m\u001b[0;34m(\u001b[0m\u001b[0;34m[\u001b[0m\u001b[0mmatrix\u001b[0m\u001b[0;34m[\u001b[0m\u001b[0mInteger\u001b[0m\u001b[0;34m(\u001b[0m\u001b[0;36m0\u001b[0m\u001b[0;34m)\u001b[0m\u001b[0;34m,\u001b[0m\u001b[0mi\u001b[0m\u001b[0;34m]\u001b[0m \u001b[0;34m*\u001b[0m \u001b[0mrandomcoefficients\u001b[0m\u001b[0;34m[\u001b[0m\u001b[0mi\u001b[0m\u001b[0;34m]\u001b[0m \u001b[0;32mfor\u001b[0m \u001b[0mi\u001b[0m \u001b[0;32min\u001b[0m \u001b[0mrange\u001b[0m\u001b[0;34m(\u001b[0m\u001b[0mdim\u001b[0m\u001b[0;34m)\u001b[0m\u001b[0;34m]\u001b[0m\u001b[0;34m)\u001b[0m\u001b[0;34m)\u001b[0m\u001b[0;34m\u001b[0m\u001b[0m\n\u001b[1;32m     25\u001b[0m                         \u001b[0mpermutations\u001b[0m\u001b[0;34m.\u001b[0m\u001b[0mappend\u001b[0m\u001b[0;34m(\u001b[0m\u001b[0mh\u001b[0m \u001b[0;34m*\u001b[0m \u001b[0mg\u001b[0m \u001b[0;34m*\u001b[0m \u001b[0mh\u001b[0m\u001b[0;34m)\u001b[0m\u001b[0;34m\u001b[0m\u001b[0m\n\u001b[0;32m---> 26\u001b[0;31m                 \u001b[0mop\u001b[0m \u001b[0;34m=\u001b[0m \u001b[0mOperator\u001b[0m\u001b[0;34m(\u001b[0m\u001b[0mfieldContent\u001b[0m\u001b[0;34m,\u001b[0m\u001b[0;34m[\u001b[0m\u001b[0;34m]\u001b[0m\u001b[0;34m,\u001b[0m\u001b[0;34m[\u001b[0m\u001b[0;34m]\u001b[0m\u001b[0;34m)\u001b[0m \u001b[0;34m+\u001b[0m \u001b[0mOperator\u001b[0m\u001b[0;34m(\u001b[0m\u001b[0mfieldContent\u001b[0m\u001b[0;34m,\u001b[0m \u001b[0mcoefficients\u001b[0m\u001b[0;34m,\u001b[0m \u001b[0mpermutations\u001b[0m\u001b[0;34m=\u001b[0m\u001b[0mpermutations\u001b[0m\u001b[0;34m)\u001b[0m\u001b[0;34m\u001b[0m\u001b[0m\n\u001b[0m\u001b[1;32m     27\u001b[0m                 \u001b[0mop\u001b[0m\u001b[0;34m.\u001b[0m\u001b[0mcanonicalizeRadicalsInCoefficients\u001b[0m\u001b[0;34m(\u001b[0m\u001b[0;34m)\u001b[0m\u001b[0;34m\u001b[0m\u001b[0m\n\u001b[1;32m     28\u001b[0m                 \u001b[0mop\u001b[0m\u001b[0;34m.\u001b[0m\u001b[0mexpandCoefficients\u001b[0m\u001b[0;34m(\u001b[0m\u001b[0;34m)\u001b[0m\u001b[0;34m\u001b[0m\u001b[0m\n",
      "\u001b[0;32m<ipython-input-1-acfad3e8f396>\u001b[0m in \u001b[0;36m__add__\u001b[0;34m(self, other)\u001b[0m\n\u001b[1;32m    117\u001b[0m                     \u001b[0mindex\u001b[0m \u001b[0;34m=\u001b[0m \u001b[0mnewoperator\u001b[0m\u001b[0;34m.\u001b[0m\u001b[0mtraces\u001b[0m\u001b[0;34m.\u001b[0m\u001b[0mindex\u001b[0m\u001b[0;34m(\u001b[0m\u001b[0mtr\u001b[0m\u001b[0;34m)\u001b[0m\u001b[0;34m\u001b[0m\u001b[0m\n\u001b[1;32m    118\u001b[0m                     \u001b[0mnewoperator\u001b[0m\u001b[0;34m.\u001b[0m\u001b[0mcoefficients\u001b[0m\u001b[0;34m[\u001b[0m\u001b[0mindex\u001b[0m\u001b[0;34m]\u001b[0m \u001b[0;34m+=\u001b[0m \u001b[0mcf\u001b[0m\u001b[0;34m\u001b[0m\u001b[0m\n\u001b[0;32m--> 119\u001b[0;31m                     \u001b[0;32mif\u001b[0m \u001b[0mnewoperator\u001b[0m\u001b[0;34m.\u001b[0m\u001b[0mcoefficients\u001b[0m\u001b[0;34m[\u001b[0m\u001b[0mindex\u001b[0m\u001b[0;34m]\u001b[0m \u001b[0;34m==\u001b[0m \u001b[0mInteger\u001b[0m\u001b[0;34m(\u001b[0m\u001b[0;36m0\u001b[0m\u001b[0;34m)\u001b[0m\u001b[0;34m:\u001b[0m\u001b[0;34m\u001b[0m\u001b[0m\n\u001b[0m\u001b[1;32m    120\u001b[0m                         \u001b[0mnewoperator\u001b[0m\u001b[0;34m.\u001b[0m\u001b[0mcoefficients\u001b[0m\u001b[0;34m.\u001b[0m\u001b[0mpop\u001b[0m\u001b[0;34m(\u001b[0m\u001b[0mindex\u001b[0m\u001b[0;34m)\u001b[0m\u001b[0;34m\u001b[0m\u001b[0m\n\u001b[1;32m    121\u001b[0m                         \u001b[0mnewoperator\u001b[0m\u001b[0;34m.\u001b[0m\u001b[0mtraces\u001b[0m\u001b[0;34m.\u001b[0m\u001b[0mpop\u001b[0m\u001b[0;34m(\u001b[0m\u001b[0mindex\u001b[0m\u001b[0;34m)\u001b[0m\u001b[0;34m\u001b[0m\u001b[0m\n",
      "\u001b[0;32m/opt/sagemath-8.6/local/lib/python2.7/site-packages/sage/symbolic/expression.pyx\u001b[0m in \u001b[0;36msage.symbolic.expression.Expression.__nonzero__ (build/cythonized/sage/symbolic/expression.cpp:19262)\u001b[0;34m()\u001b[0m\n\u001b[1;32m   2884\u001b[0m                 \u001b[0;32mif\u001b[0m \u001b[0mpynac_result\u001b[0m \u001b[0;34m==\u001b[0m \u001b[0mrelational_notimplemented\u001b[0m \u001b[0;32mand\u001b[0m \u001b[0mself\u001b[0m\u001b[0;34m.\u001b[0m\u001b[0moperator\u001b[0m\u001b[0;34m(\u001b[0m\u001b[0;34m)\u001b[0m\u001b[0;34m==\u001b[0m\u001b[0moperator\u001b[0m\u001b[0;34m.\u001b[0m\u001b[0mne\u001b[0m\u001b[0;34m:\u001b[0m\u001b[0;34m\u001b[0m\u001b[0m\n\u001b[1;32m   2885\u001b[0m                     \u001b[0;32mreturn\u001b[0m \u001b[0;32mnot\u001b[0m \u001b[0;34m(\u001b[0m\u001b[0mself\u001b[0m\u001b[0;34m.\u001b[0m\u001b[0mlhs\u001b[0m\u001b[0;34m(\u001b[0m\u001b[0;34m)\u001b[0m\u001b[0;34m-\u001b[0m\u001b[0mself\u001b[0m\u001b[0;34m.\u001b[0m\u001b[0mrhs\u001b[0m\u001b[0;34m(\u001b[0m\u001b[0;34m)\u001b[0m\u001b[0;34m)\u001b[0m\u001b[0;34m.\u001b[0m\u001b[0mis_trivial_zero\u001b[0m\u001b[0;34m(\u001b[0m\u001b[0;34m)\u001b[0m\u001b[0;34m\u001b[0m\u001b[0m\n\u001b[0;32m-> 2886\u001b[0;31m                 \u001b[0mres\u001b[0m \u001b[0;34m=\u001b[0m \u001b[0mself\u001b[0m\u001b[0;34m.\u001b[0m\u001b[0mtest_relation\u001b[0m\u001b[0;34m(\u001b[0m\u001b[0;34m)\u001b[0m\u001b[0;34m\u001b[0m\u001b[0m\n\u001b[0m\u001b[1;32m   2887\u001b[0m                 \u001b[0;32mif\u001b[0m \u001b[0mres\u001b[0m \u001b[0;32mis\u001b[0m \u001b[0mTrue\u001b[0m\u001b[0;34m:\u001b[0m\u001b[0;34m\u001b[0m\u001b[0m\n\u001b[1;32m   2888\u001b[0m                     \u001b[0;32mreturn\u001b[0m \u001b[0mTrue\u001b[0m\u001b[0;34m\u001b[0m\u001b[0m\n",
      "\u001b[0;32m/opt/sagemath-8.6/local/lib/python2.7/site-packages/sage/symbolic/expression.pyx\u001b[0m in \u001b[0;36msage.symbolic.expression.Expression.test_relation (build/cythonized/sage/symbolic/expression.cpp:20518)\u001b[0;34m()\u001b[0m\n\u001b[1;32m   3028\u001b[0m         \u001b[0;32mif\u001b[0m \u001b[0mlen\u001b[0m\u001b[0;34m(\u001b[0m\u001b[0mvars\u001b[0m\u001b[0;34m)\u001b[0m \u001b[0;34m==\u001b[0m \u001b[0;36m0\u001b[0m\u001b[0;34m:\u001b[0m\u001b[0;34m\u001b[0m\u001b[0m\n\u001b[1;32m   3029\u001b[0m             \u001b[0;32mtry\u001b[0m\u001b[0;34m:\u001b[0m\u001b[0;34m\u001b[0m\u001b[0m\n\u001b[0;32m-> 3030\u001b[0;31m                 \u001b[0mval\u001b[0m \u001b[0;34m=\u001b[0m \u001b[0mdomain\u001b[0m\u001b[0;34m(\u001b[0m\u001b[0mdiff\u001b[0m\u001b[0;34m)\u001b[0m\u001b[0;34m\u001b[0m\u001b[0m\n\u001b[0m\u001b[1;32m   3031\u001b[0m             \u001b[0;32mexcept\u001b[0m \u001b[0;34m(\u001b[0m\u001b[0mTypeError\u001b[0m\u001b[0;34m,\u001b[0m \u001b[0mValueError\u001b[0m\u001b[0;34m,\u001b[0m \u001b[0mArithmeticError\u001b[0m\u001b[0;34m)\u001b[0m \u001b[0;32mas\u001b[0m \u001b[0mex\u001b[0m\u001b[0;34m:\u001b[0m\u001b[0;34m\u001b[0m\u001b[0m\n\u001b[1;32m   3032\u001b[0m                 \u001b[0;32mpass\u001b[0m\u001b[0;34m\u001b[0m\u001b[0m\n",
      "\u001b[0;32m/opt/sagemath-8.6/local/lib/python2.7/site-packages/sage/structure/parent.pyx\u001b[0m in \u001b[0;36msage.structure.parent.Parent.__call__ (build/cythonized/sage/structure/parent.c:9237)\u001b[0;34m()\u001b[0m\n\u001b[1;32m    887\u001b[0m         \u001b[0;32mif\u001b[0m \u001b[0mmor\u001b[0m \u001b[0;32mis\u001b[0m \u001b[0;32mnot\u001b[0m \u001b[0mNone\u001b[0m\u001b[0;34m:\u001b[0m\u001b[0;34m\u001b[0m\u001b[0m\n\u001b[1;32m    888\u001b[0m             \u001b[0;32mif\u001b[0m \u001b[0mno_extra_args\u001b[0m\u001b[0;34m:\u001b[0m\u001b[0;34m\u001b[0m\u001b[0m\n\u001b[0;32m--> 889\u001b[0;31m                 \u001b[0;32mreturn\u001b[0m \u001b[0mmor\u001b[0m\u001b[0;34m.\u001b[0m\u001b[0m_call_\u001b[0m\u001b[0;34m(\u001b[0m\u001b[0mx\u001b[0m\u001b[0;34m)\u001b[0m\u001b[0;34m\u001b[0m\u001b[0m\n\u001b[0m\u001b[1;32m    890\u001b[0m             \u001b[0;32melse\u001b[0m\u001b[0;34m:\u001b[0m\u001b[0;34m\u001b[0m\u001b[0m\n\u001b[1;32m    891\u001b[0m                 \u001b[0;32mreturn\u001b[0m \u001b[0mmor\u001b[0m\u001b[0;34m.\u001b[0m\u001b[0m_call_with_args\u001b[0m\u001b[0;34m(\u001b[0m\u001b[0mx\u001b[0m\u001b[0;34m,\u001b[0m \u001b[0margs\u001b[0m\u001b[0;34m,\u001b[0m \u001b[0mkwds\u001b[0m\u001b[0;34m)\u001b[0m\u001b[0;34m\u001b[0m\u001b[0m\n",
      "\u001b[0;32m/opt/sagemath-8.6/local/lib/python2.7/site-packages/sage/structure/coerce_maps.pyx\u001b[0m in \u001b[0;36msage.structure.coerce_maps.DefaultConvertMap_unique._call_ (build/cythonized/sage/structure/coerce_maps.c:4550)\u001b[0;34m()\u001b[0m\n\u001b[1;32m    155\u001b[0m         \u001b[0mcdef\u001b[0m \u001b[0mParent\u001b[0m \u001b[0mC\u001b[0m \u001b[0;34m=\u001b[0m \u001b[0mself\u001b[0m\u001b[0;34m.\u001b[0m\u001b[0m_codomain\u001b[0m\u001b[0;34m\u001b[0m\u001b[0m\n\u001b[1;32m    156\u001b[0m         \u001b[0;32mtry\u001b[0m\u001b[0;34m:\u001b[0m\u001b[0;34m\u001b[0m\u001b[0m\n\u001b[0;32m--> 157\u001b[0;31m             \u001b[0;32mreturn\u001b[0m \u001b[0mC\u001b[0m\u001b[0;34m.\u001b[0m\u001b[0m_element_constructor\u001b[0m\u001b[0;34m(\u001b[0m\u001b[0mx\u001b[0m\u001b[0;34m)\u001b[0m\u001b[0;34m\u001b[0m\u001b[0m\n\u001b[0m\u001b[1;32m    158\u001b[0m         \u001b[0;32mexcept\u001b[0m \u001b[0mException\u001b[0m\u001b[0;34m:\u001b[0m\u001b[0;34m\u001b[0m\u001b[0m\n\u001b[1;32m    159\u001b[0m             \u001b[0;32mif\u001b[0m \u001b[0mprint_warnings\u001b[0m\u001b[0;34m:\u001b[0m\u001b[0;34m\u001b[0m\u001b[0m\n",
      "\u001b[0;32m/opt/sagemath-8.6/local/lib/python2.7/site-packages/sage/rings/qqbar.pyc\u001b[0m in \u001b[0;36m_element_constructor_\u001b[0;34m(self, x)\u001b[0m\n\u001b[1;32m   1162\u001b[0m             \u001b[0;32mreturn\u001b[0m \u001b[0mAlgebraicNumber\u001b[0m\u001b[0;34m(\u001b[0m\u001b[0mx\u001b[0m\u001b[0;34m.\u001b[0m\u001b[0m_descr\u001b[0m\u001b[0;34m)\u001b[0m\u001b[0;34m\u001b[0m\u001b[0m\n\u001b[1;32m   1163\u001b[0m         \u001b[0;32melif\u001b[0m \u001b[0mhasattr\u001b[0m\u001b[0;34m(\u001b[0m\u001b[0mx\u001b[0m\u001b[0;34m,\u001b[0m \u001b[0;34m'_algebraic_'\u001b[0m\u001b[0;34m)\u001b[0m\u001b[0;34m:\u001b[0m\u001b[0;34m\u001b[0m\u001b[0m\n\u001b[0;32m-> 1164\u001b[0;31m             \u001b[0;32mreturn\u001b[0m \u001b[0mx\u001b[0m\u001b[0;34m.\u001b[0m\u001b[0m_algebraic_\u001b[0m\u001b[0;34m(\u001b[0m\u001b[0mQQbar\u001b[0m\u001b[0;34m)\u001b[0m\u001b[0;34m\u001b[0m\u001b[0m\n\u001b[0m\u001b[1;32m   1165\u001b[0m         \u001b[0;32mreturn\u001b[0m \u001b[0mAlgebraicNumber\u001b[0m\u001b[0;34m(\u001b[0m\u001b[0mx\u001b[0m\u001b[0;34m)\u001b[0m\u001b[0;34m\u001b[0m\u001b[0m\n\u001b[1;32m   1166\u001b[0m \u001b[0;34m\u001b[0m\u001b[0m\n",
      "\u001b[0;32m/opt/sagemath-8.6/local/lib/python2.7/site-packages/sage/symbolic/expression.pyx\u001b[0m in \u001b[0;36msage.symbolic.expression.Expression._algebraic_ (build/cythonized/sage/symbolic/expression.cpp:11757)\u001b[0;34m()\u001b[0m\n\u001b[1;32m   1510\u001b[0m         \"\"\"\n\u001b[1;32m   1511\u001b[0m         \u001b[0;32mfrom\u001b[0m \u001b[0msage\u001b[0m\u001b[0;34m.\u001b[0m\u001b[0msymbolic\u001b[0m\u001b[0;34m.\u001b[0m\u001b[0mexpression_conversions\u001b[0m \u001b[0;32mimport\u001b[0m \u001b[0malgebraic\u001b[0m\u001b[0;34m\u001b[0m\u001b[0m\n\u001b[0;32m-> 1512\u001b[0;31m         \u001b[0;32mreturn\u001b[0m \u001b[0malgebraic\u001b[0m\u001b[0;34m(\u001b[0m\u001b[0mself\u001b[0m\u001b[0;34m,\u001b[0m \u001b[0mfield\u001b[0m\u001b[0;34m)\u001b[0m\u001b[0;34m\u001b[0m\u001b[0m\n\u001b[0m\u001b[1;32m   1513\u001b[0m \u001b[0;34m\u001b[0m\u001b[0m\n\u001b[1;32m   1514\u001b[0m     \u001b[0;32mdef\u001b[0m \u001b[0m__hash__\u001b[0m\u001b[0;34m(\u001b[0m\u001b[0mself\u001b[0m\u001b[0;34m)\u001b[0m\u001b[0;34m:\u001b[0m\u001b[0;34m\u001b[0m\u001b[0m\n",
      "\u001b[0;32m/opt/sagemath-8.6/local/lib/python2.7/site-packages/sage/symbolic/expression_conversions.py\u001b[0m in \u001b[0;36malgebraic\u001b[0;34m(ex, field)\u001b[0m\n\u001b[1;32m   1140\u001b[0m         \u001b[0;36m0\u001b[0m\u001b[0;34m\u001b[0m\u001b[0m\n\u001b[1;32m   1141\u001b[0m     \"\"\"\n\u001b[0;32m-> 1142\u001b[0;31m     \u001b[0;32mreturn\u001b[0m \u001b[0mAlgebraicConverter\u001b[0m\u001b[0;34m(\u001b[0m\u001b[0mfield\u001b[0m\u001b[0;34m)\u001b[0m\u001b[0;34m(\u001b[0m\u001b[0mex\u001b[0m\u001b[0;34m)\u001b[0m\u001b[0;34m\u001b[0m\u001b[0m\n\u001b[0m\u001b[1;32m   1143\u001b[0m \u001b[0;34m\u001b[0m\u001b[0m\n\u001b[1;32m   1144\u001b[0m \u001b[0;31m##############\u001b[0m\u001b[0;34m\u001b[0m\u001b[0;34m\u001b[0m\u001b[0m\n",
      "\u001b[0;32m/opt/sagemath-8.6/local/lib/python2.7/site-packages/sage/symbolic/expression_conversions.py\u001b[0m in \u001b[0;36m__call__\u001b[0;34m(self, ex)\u001b[0m\n\u001b[1;32m    215\u001b[0m                 \u001b[0mdiv\u001b[0m \u001b[0;34m=\u001b[0m \u001b[0mself\u001b[0m\u001b[0;34m.\u001b[0m\u001b[0mget_fake_div\u001b[0m\u001b[0;34m(\u001b[0m\u001b[0mex\u001b[0m\u001b[0;34m)\u001b[0m\u001b[0;34m\u001b[0m\u001b[0m\n\u001b[1;32m    216\u001b[0m                 \u001b[0;32mreturn\u001b[0m \u001b[0mself\u001b[0m\u001b[0;34m.\u001b[0m\u001b[0marithmetic\u001b[0m\u001b[0;34m(\u001b[0m\u001b[0mdiv\u001b[0m\u001b[0;34m,\u001b[0m \u001b[0mdiv\u001b[0m\u001b[0;34m.\u001b[0m\u001b[0moperator\u001b[0m\u001b[0;34m(\u001b[0m\u001b[0;34m)\u001b[0m\u001b[0;34m)\u001b[0m\u001b[0;34m\u001b[0m\u001b[0m\n\u001b[0;32m--> 217\u001b[0;31m             \u001b[0;32mreturn\u001b[0m \u001b[0mself\u001b[0m\u001b[0;34m.\u001b[0m\u001b[0marithmetic\u001b[0m\u001b[0;34m(\u001b[0m\u001b[0mex\u001b[0m\u001b[0;34m,\u001b[0m \u001b[0moperator\u001b[0m\u001b[0;34m)\u001b[0m\u001b[0;34m\u001b[0m\u001b[0m\n\u001b[0m\u001b[1;32m    218\u001b[0m         \u001b[0;32melif\u001b[0m \u001b[0moperator\u001b[0m \u001b[0;32min\u001b[0m \u001b[0mrelation_operators\u001b[0m\u001b[0;34m:\u001b[0m\u001b[0;34m\u001b[0m\u001b[0m\n\u001b[1;32m    219\u001b[0m             \u001b[0;32mreturn\u001b[0m \u001b[0mself\u001b[0m\u001b[0;34m.\u001b[0m\u001b[0mrelation\u001b[0m\u001b[0;34m(\u001b[0m\u001b[0mex\u001b[0m\u001b[0;34m,\u001b[0m \u001b[0moperator\u001b[0m\u001b[0;34m)\u001b[0m\u001b[0;34m\u001b[0m\u001b[0m\n",
      "\u001b[0;32m/opt/sagemath-8.6/local/lib/python2.7/site-packages/sage/symbolic/expression_conversions.py\u001b[0m in \u001b[0;36marithmetic\u001b[0;34m(self, ex, operator)\u001b[0m\n\u001b[1;32m    986\u001b[0m                 \u001b[0;32melif\u001b[0m \u001b[0moperator\u001b[0m \u001b[0;32mis\u001b[0m \u001b[0mmul_vararg\u001b[0m\u001b[0;34m:\u001b[0m\u001b[0;34m\u001b[0m\u001b[0m\n\u001b[1;32m    987\u001b[0m                     \u001b[0moperator\u001b[0m \u001b[0;34m=\u001b[0m \u001b[0m_operator\u001b[0m\u001b[0;34m.\u001b[0m\u001b[0mmul\u001b[0m\u001b[0;34m\u001b[0m\u001b[0m\n\u001b[0;32m--> 988\u001b[0;31m                 \u001b[0;32mreturn\u001b[0m \u001b[0mreduce\u001b[0m\u001b[0;34m(\u001b[0m\u001b[0moperator\u001b[0m\u001b[0;34m,\u001b[0m \u001b[0mmap\u001b[0m\u001b[0;34m(\u001b[0m\u001b[0mself\u001b[0m\u001b[0;34m,\u001b[0m \u001b[0mex\u001b[0m\u001b[0;34m.\u001b[0m\u001b[0moperands\u001b[0m\u001b[0;34m(\u001b[0m\u001b[0;34m)\u001b[0m\u001b[0;34m)\u001b[0m\u001b[0;34m)\u001b[0m\u001b[0;34m\u001b[0m\u001b[0m\n\u001b[0m\u001b[1;32m    989\u001b[0m         \u001b[0;32mexcept\u001b[0m \u001b[0mTypeError\u001b[0m\u001b[0;34m:\u001b[0m\u001b[0;34m\u001b[0m\u001b[0m\n\u001b[1;32m    990\u001b[0m             \u001b[0;32mpass\u001b[0m\u001b[0;34m\u001b[0m\u001b[0m\n",
      "\u001b[0;32m/opt/sagemath-8.6/local/lib/python2.7/site-packages/sage/symbolic/expression_conversions.py\u001b[0m in \u001b[0;36m__call__\u001b[0;34m(self, ex)\u001b[0m\n\u001b[1;32m    215\u001b[0m                 \u001b[0mdiv\u001b[0m \u001b[0;34m=\u001b[0m \u001b[0mself\u001b[0m\u001b[0;34m.\u001b[0m\u001b[0mget_fake_div\u001b[0m\u001b[0;34m(\u001b[0m\u001b[0mex\u001b[0m\u001b[0;34m)\u001b[0m\u001b[0;34m\u001b[0m\u001b[0m\n\u001b[1;32m    216\u001b[0m                 \u001b[0;32mreturn\u001b[0m \u001b[0mself\u001b[0m\u001b[0;34m.\u001b[0m\u001b[0marithmetic\u001b[0m\u001b[0;34m(\u001b[0m\u001b[0mdiv\u001b[0m\u001b[0;34m,\u001b[0m \u001b[0mdiv\u001b[0m\u001b[0;34m.\u001b[0m\u001b[0moperator\u001b[0m\u001b[0;34m(\u001b[0m\u001b[0;34m)\u001b[0m\u001b[0;34m)\u001b[0m\u001b[0;34m\u001b[0m\u001b[0m\n\u001b[0;32m--> 217\u001b[0;31m             \u001b[0;32mreturn\u001b[0m \u001b[0mself\u001b[0m\u001b[0;34m.\u001b[0m\u001b[0marithmetic\u001b[0m\u001b[0;34m(\u001b[0m\u001b[0mex\u001b[0m\u001b[0;34m,\u001b[0m \u001b[0moperator\u001b[0m\u001b[0;34m)\u001b[0m\u001b[0;34m\u001b[0m\u001b[0m\n\u001b[0m\u001b[1;32m    218\u001b[0m         \u001b[0;32melif\u001b[0m \u001b[0moperator\u001b[0m \u001b[0;32min\u001b[0m \u001b[0mrelation_operators\u001b[0m\u001b[0;34m:\u001b[0m\u001b[0;34m\u001b[0m\u001b[0m\n\u001b[1;32m    219\u001b[0m             \u001b[0;32mreturn\u001b[0m \u001b[0mself\u001b[0m\u001b[0;34m.\u001b[0m\u001b[0mrelation\u001b[0m\u001b[0;34m(\u001b[0m\u001b[0mex\u001b[0m\u001b[0;34m,\u001b[0m \u001b[0moperator\u001b[0m\u001b[0;34m)\u001b[0m\u001b[0;34m\u001b[0m\u001b[0m\n",
      "\u001b[0;32m/opt/sagemath-8.6/local/lib/python2.7/site-packages/sage/symbolic/expression_conversions.py\u001b[0m in \u001b[0;36marithmetic\u001b[0;34m(self, ex, operator)\u001b[0m\n\u001b[1;32m    986\u001b[0m                 \u001b[0;32melif\u001b[0m \u001b[0moperator\u001b[0m \u001b[0;32mis\u001b[0m \u001b[0mmul_vararg\u001b[0m\u001b[0;34m:\u001b[0m\u001b[0;34m\u001b[0m\u001b[0m\n\u001b[1;32m    987\u001b[0m                     \u001b[0moperator\u001b[0m \u001b[0;34m=\u001b[0m \u001b[0m_operator\u001b[0m\u001b[0;34m.\u001b[0m\u001b[0mmul\u001b[0m\u001b[0;34m\u001b[0m\u001b[0m\n\u001b[0;32m--> 988\u001b[0;31m                 \u001b[0;32mreturn\u001b[0m \u001b[0mreduce\u001b[0m\u001b[0;34m(\u001b[0m\u001b[0moperator\u001b[0m\u001b[0;34m,\u001b[0m \u001b[0mmap\u001b[0m\u001b[0;34m(\u001b[0m\u001b[0mself\u001b[0m\u001b[0;34m,\u001b[0m \u001b[0mex\u001b[0m\u001b[0;34m.\u001b[0m\u001b[0moperands\u001b[0m\u001b[0;34m(\u001b[0m\u001b[0;34m)\u001b[0m\u001b[0;34m)\u001b[0m\u001b[0;34m)\u001b[0m\u001b[0;34m\u001b[0m\u001b[0m\n\u001b[0m\u001b[1;32m    989\u001b[0m         \u001b[0;32mexcept\u001b[0m \u001b[0mTypeError\u001b[0m\u001b[0;34m:\u001b[0m\u001b[0;34m\u001b[0m\u001b[0m\n\u001b[1;32m    990\u001b[0m             \u001b[0;32mpass\u001b[0m\u001b[0;34m\u001b[0m\u001b[0m\n",
      "\u001b[0;32m/opt/sagemath-8.6/local/lib/python2.7/site-packages/sage/symbolic/expression_conversions.py\u001b[0m in \u001b[0;36m__call__\u001b[0;34m(self, ex)\u001b[0m\n\u001b[1;32m    215\u001b[0m                 \u001b[0mdiv\u001b[0m \u001b[0;34m=\u001b[0m \u001b[0mself\u001b[0m\u001b[0;34m.\u001b[0m\u001b[0mget_fake_div\u001b[0m\u001b[0;34m(\u001b[0m\u001b[0mex\u001b[0m\u001b[0;34m)\u001b[0m\u001b[0;34m\u001b[0m\u001b[0m\n\u001b[1;32m    216\u001b[0m                 \u001b[0;32mreturn\u001b[0m \u001b[0mself\u001b[0m\u001b[0;34m.\u001b[0m\u001b[0marithmetic\u001b[0m\u001b[0;34m(\u001b[0m\u001b[0mdiv\u001b[0m\u001b[0;34m,\u001b[0m \u001b[0mdiv\u001b[0m\u001b[0;34m.\u001b[0m\u001b[0moperator\u001b[0m\u001b[0;34m(\u001b[0m\u001b[0;34m)\u001b[0m\u001b[0;34m)\u001b[0m\u001b[0;34m\u001b[0m\u001b[0m\n\u001b[0;32m--> 217\u001b[0;31m             \u001b[0;32mreturn\u001b[0m \u001b[0mself\u001b[0m\u001b[0;34m.\u001b[0m\u001b[0marithmetic\u001b[0m\u001b[0;34m(\u001b[0m\u001b[0mex\u001b[0m\u001b[0;34m,\u001b[0m \u001b[0moperator\u001b[0m\u001b[0;34m)\u001b[0m\u001b[0;34m\u001b[0m\u001b[0m\n\u001b[0m\u001b[1;32m    218\u001b[0m         \u001b[0;32melif\u001b[0m \u001b[0moperator\u001b[0m \u001b[0;32min\u001b[0m \u001b[0mrelation_operators\u001b[0m\u001b[0;34m:\u001b[0m\u001b[0;34m\u001b[0m\u001b[0m\n\u001b[1;32m    219\u001b[0m             \u001b[0;32mreturn\u001b[0m \u001b[0mself\u001b[0m\u001b[0;34m.\u001b[0m\u001b[0mrelation\u001b[0m\u001b[0;34m(\u001b[0m\u001b[0mex\u001b[0m\u001b[0;34m,\u001b[0m \u001b[0moperator\u001b[0m\u001b[0;34m)\u001b[0m\u001b[0;34m\u001b[0m\u001b[0m\n",
      "\u001b[0;32m/opt/sagemath-8.6/local/lib/python2.7/site-packages/sage/symbolic/expression_conversions.py\u001b[0m in \u001b[0;36marithmetic\u001b[0;34m(self, ex, operator)\u001b[0m\n\u001b[1;32m    980\u001b[0m                 \u001b[0mbase\u001b[0m \u001b[0;34m=\u001b[0m \u001b[0mself\u001b[0m\u001b[0;34m.\u001b[0m\u001b[0mfield\u001b[0m\u001b[0;34m(\u001b[0m\u001b[0mbase\u001b[0m\u001b[0;34m)\u001b[0m\u001b[0;34m\u001b[0m\u001b[0m\n\u001b[1;32m    981\u001b[0m                 \u001b[0mexpt\u001b[0m \u001b[0;34m=\u001b[0m \u001b[0mRational\u001b[0m\u001b[0;34m(\u001b[0m\u001b[0mexpt\u001b[0m\u001b[0;34m)\u001b[0m\u001b[0;34m\u001b[0m\u001b[0m\n\u001b[0;32m--> 982\u001b[0;31m                 \u001b[0;32mreturn\u001b[0m \u001b[0mself\u001b[0m\u001b[0;34m.\u001b[0m\u001b[0mfield\u001b[0m\u001b[0;34m(\u001b[0m\u001b[0mbase\u001b[0m\u001b[0;34m**\u001b[0m\u001b[0mexpt\u001b[0m\u001b[0;34m)\u001b[0m\u001b[0;34m\u001b[0m\u001b[0m\n\u001b[0m\u001b[1;32m    983\u001b[0m             \u001b[0;32melse\u001b[0m\u001b[0;34m:\u001b[0m\u001b[0;34m\u001b[0m\u001b[0m\n\u001b[1;32m    984\u001b[0m                 \u001b[0;32mif\u001b[0m \u001b[0moperator\u001b[0m \u001b[0;32mis\u001b[0m \u001b[0madd_vararg\u001b[0m\u001b[0;34m:\u001b[0m\u001b[0;34m\u001b[0m\u001b[0m\n",
      "\u001b[0;32m/opt/sagemath-8.6/local/lib/python2.7/site-packages/sage/structure/element.pyx\u001b[0m in \u001b[0;36msage.structure.element.Element.__pow__ (build/cythonized/sage/structure/element.c:14118)\u001b[0;34m()\u001b[0m\n\u001b[1;32m   2038\u001b[0m             \u001b[0;32mreturn\u001b[0m \u001b[0;34m(\u001b[0m\u001b[0;34m<\u001b[0m\u001b[0mElement\u001b[0m\u001b[0;34m>\u001b[0m\u001b[0mleft\u001b[0m\u001b[0;34m)\u001b[0m\u001b[0;34m.\u001b[0m\u001b[0m_pow_\u001b[0m\u001b[0;34m(\u001b[0m\u001b[0mright\u001b[0m\u001b[0;34m)\u001b[0m\u001b[0;34m\u001b[0m\u001b[0m\n\u001b[1;32m   2039\u001b[0m         \u001b[0;32mif\u001b[0m \u001b[0mBOTH_ARE_ELEMENT\u001b[0m\u001b[0;34m(\u001b[0m\u001b[0mcl\u001b[0m\u001b[0;34m)\u001b[0m\u001b[0;34m:\u001b[0m\u001b[0;34m\u001b[0m\u001b[0m\n\u001b[0;32m-> 2040\u001b[0;31m             \u001b[0;32mreturn\u001b[0m \u001b[0mcoercion_model\u001b[0m\u001b[0;34m.\u001b[0m\u001b[0mbin_op\u001b[0m\u001b[0;34m(\u001b[0m\u001b[0mleft\u001b[0m\u001b[0;34m,\u001b[0m \u001b[0mright\u001b[0m\u001b[0;34m,\u001b[0m \u001b[0mpow\u001b[0m\u001b[0;34m)\u001b[0m\u001b[0;34m\u001b[0m\u001b[0m\n\u001b[0m\u001b[1;32m   2041\u001b[0m \u001b[0;34m\u001b[0m\u001b[0m\n\u001b[1;32m   2042\u001b[0m         \u001b[0mcdef\u001b[0m \u001b[0mlong\u001b[0m \u001b[0mvalue\u001b[0m\u001b[0;34m\u001b[0m\u001b[0m\n",
      "\u001b[0;32m/opt/sagemath-8.6/local/lib/python2.7/site-packages/sage/structure/coerce.pyx\u001b[0m in \u001b[0;36msage.structure.coerce.CoercionModel_cache_maps.bin_op (build/cythonized/sage/structure/coerce.c:9550)\u001b[0;34m()\u001b[0m\n\u001b[1;32m   1157\u001b[0m                 \u001b[0;32mreturn\u001b[0m \u001b[0;34m(\u001b[0m\u001b[0;34m<\u001b[0m\u001b[0mAction\u001b[0m\u001b[0;34m>\u001b[0m\u001b[0maction\u001b[0m\u001b[0;34m)\u001b[0m\u001b[0;34m.\u001b[0m\u001b[0m_act_\u001b[0m\u001b[0;34m(\u001b[0m\u001b[0mx\u001b[0m\u001b[0;34m,\u001b[0m \u001b[0my\u001b[0m\u001b[0;34m)\u001b[0m\u001b[0;34m\u001b[0m\u001b[0m\n\u001b[1;32m   1158\u001b[0m             \u001b[0;32melse\u001b[0m\u001b[0;34m:\u001b[0m\u001b[0;34m\u001b[0m\u001b[0m\n\u001b[0;32m-> 1159\u001b[0;31m                 \u001b[0;32mreturn\u001b[0m \u001b[0;34m(\u001b[0m\u001b[0;34m<\u001b[0m\u001b[0mAction\u001b[0m\u001b[0;34m>\u001b[0m\u001b[0maction\u001b[0m\u001b[0;34m)\u001b[0m\u001b[0;34m.\u001b[0m\u001b[0m_act_\u001b[0m\u001b[0;34m(\u001b[0m\u001b[0my\u001b[0m\u001b[0;34m,\u001b[0m \u001b[0mx\u001b[0m\u001b[0;34m)\u001b[0m\u001b[0;34m\u001b[0m\u001b[0m\n\u001b[0m\u001b[1;32m   1160\u001b[0m \u001b[0;34m\u001b[0m\u001b[0m\n\u001b[1;32m   1161\u001b[0m         \u001b[0;31m# Now coerce to a common parent and do the operation there\u001b[0m\u001b[0;34m\u001b[0m\u001b[0;34m\u001b[0m\u001b[0m\n",
      "\u001b[0;32m/opt/sagemath-8.6/local/lib/python2.7/site-packages/sage/categories/action.pyx\u001b[0m in \u001b[0;36msage.categories.action.Action._act_ (build/cythonized/sage/categories/action.c:3937)\u001b[0;34m()\u001b[0m\n\u001b[1;32m    173\u001b[0m         \u001b[0;32mreturn\u001b[0m \u001b[0mself\u001b[0m\u001b[0;34m.\u001b[0m\u001b[0m_act_\u001b[0m\u001b[0;34m(\u001b[0m\u001b[0mg\u001b[0m\u001b[0;34m,\u001b[0m \u001b[0mx\u001b[0m\u001b[0;34m)\u001b[0m\u001b[0;34m\u001b[0m\u001b[0m\n\u001b[1;32m    174\u001b[0m \u001b[0;34m\u001b[0m\u001b[0m\n\u001b[0;32m--> 175\u001b[0;31m     \u001b[0mcpdef\u001b[0m \u001b[0m_act_\u001b[0m\u001b[0;34m(\u001b[0m\u001b[0mself\u001b[0m\u001b[0;34m,\u001b[0m \u001b[0mg\u001b[0m\u001b[0;34m,\u001b[0m \u001b[0mx\u001b[0m\u001b[0;34m)\u001b[0m\u001b[0;34m:\u001b[0m\u001b[0;34m\u001b[0m\u001b[0m\n\u001b[0m\u001b[1;32m    176\u001b[0m         \"\"\"\n\u001b[1;32m    177\u001b[0m         \u001b[0mLet\u001b[0m \u001b[0;34m`\u001b[0m\u001b[0;34m`\u001b[0m\u001b[0mg\u001b[0m\u001b[0;34m`\u001b[0m\u001b[0;34m`\u001b[0m \u001b[0mact\u001b[0m \u001b[0mon\u001b[0m \u001b[0;34m`\u001b[0m\u001b[0;34m`\u001b[0m\u001b[0mx\u001b[0m\u001b[0;34m`\u001b[0m\u001b[0;34m`\u001b[0m \u001b[0munder\u001b[0m \u001b[0mthis\u001b[0m \u001b[0maction\u001b[0m\u001b[0;34m.\u001b[0m\u001b[0;34m\u001b[0m\u001b[0m\n",
      "\u001b[0;32m/opt/sagemath-8.6/local/lib/python2.7/site-packages/sage/rings/qqbar.pyc\u001b[0m in \u001b[0;36m_act_\u001b[0;34m(self, e, x)\u001b[0m\n\u001b[1;32m   5453\u001b[0m         \u001b[0;32melse\u001b[0m\u001b[0;34m:\u001b[0m\u001b[0;34m\u001b[0m\u001b[0m\n\u001b[1;32m   5454\u001b[0m             \u001b[0mtarget_real\u001b[0m \u001b[0;34m=\u001b[0m \u001b[0mtarget_arg\u001b[0m\u001b[0;34m.\u001b[0m\u001b[0mcos\u001b[0m\u001b[0;34m(\u001b[0m\u001b[0;34m)\u001b[0m \u001b[0;34m*\u001b[0m \u001b[0mtarget_abs\u001b[0m\u001b[0;34m\u001b[0m\u001b[0m\n\u001b[0;32m-> 5455\u001b[0;31m         target = ComplexIntervalField(prec)(target_real,\n\u001b[0m\u001b[1;32m   5456\u001b[0m                                             target_arg.sin() * target_abs)\n\u001b[1;32m   5457\u001b[0m \u001b[0;34m\u001b[0m\u001b[0m\n",
      "\u001b[0;32m/opt/sagemath-8.6/local/lib/python2.7/site-packages/sage/rings/complex_interval_field.py\u001b[0m in \u001b[0;36mComplexIntervalField\u001b[0;34m(prec, names)\u001b[0m\n\u001b[1;32m     88\u001b[0m     \u001b[0;32mglobal\u001b[0m \u001b[0mcache\u001b[0m\u001b[0;34m\u001b[0m\u001b[0m\n\u001b[1;32m     89\u001b[0m     \u001b[0;32mif\u001b[0m \u001b[0mprec\u001b[0m \u001b[0;32min\u001b[0m \u001b[0mcache\u001b[0m\u001b[0;34m:\u001b[0m\u001b[0;34m\u001b[0m\u001b[0m\n\u001b[0;32m---> 90\u001b[0;31m         \u001b[0mX\u001b[0m \u001b[0;34m=\u001b[0m \u001b[0mcache\u001b[0m\u001b[0;34m[\u001b[0m\u001b[0mprec\u001b[0m\u001b[0;34m]\u001b[0m\u001b[0;34m\u001b[0m\u001b[0m\n\u001b[0m\u001b[1;32m     91\u001b[0m         \u001b[0mC\u001b[0m \u001b[0;34m=\u001b[0m \u001b[0mX\u001b[0m\u001b[0;34m(\u001b[0m\u001b[0;34m)\u001b[0m\u001b[0;34m\u001b[0m\u001b[0m\n\u001b[1;32m     92\u001b[0m         \u001b[0;32mif\u001b[0m \u001b[0;32mnot\u001b[0m \u001b[0mC\u001b[0m \u001b[0;32mis\u001b[0m \u001b[0mNone\u001b[0m\u001b[0;34m:\u001b[0m\u001b[0;34m\u001b[0m\u001b[0m\n",
      "\u001b[0;32msrc/cysignals/signals.pyx\u001b[0m in \u001b[0;36mcysignals.signals.python_check_interrupt\u001b[0;34m()\u001b[0m\n",
      "\u001b[0;31mKeyboardInterrupt\u001b[0m: "
     ]
    }
   ],
   "source": [
    "operators = []\n",
    "labels = []\n",
    "for Lambda, R, mult in multiplicities[11:]:\n",
    "    print(Lambda, R)\n",
    "    if Lambda in lambdaPartitions:\n",
    "        lambdaindex = lambdaPartitions.index(Lambda)\n",
    "        Rindex = partitions.index(R)\n",
    "        rep = representations[Rindex]\n",
    "        dim = rep(G[0]).dimensions()[0]\n",
    "        fpvectorindex = len(fpvectors[lambdaindex]) - 1\n",
    "        for multindex in range(mult):\n",
    "            print(multindex)\n",
    "            dummy = True\n",
    "            while dummy:\n",
    "                fpvector = fpvectors[lambdaindex][fpvectorindex]\n",
    "                print('attempting with vector index ' + str(fpvectorindex))\n",
    "                randomcoefficients = [ ZZ.random_element(1,5) for i in range(dim) ]\n",
    "                coefficients = []\n",
    "                permutations = []\n",
    "                for cf, fp in fpvector:\n",
    "                    h = permFromFieldPositions(fp)\n",
    "                    for g in G:\n",
    "                        matrix = rep(g)\n",
    "                        coefficients.append(cf * sum([matrix[0,i] * randomcoefficients[i] for i in range(dim)]))\n",
    "                        permutations.append(h * g * h)\n",
    "                op = Operator(fieldContent,[],[]) + Operator(fieldContent, coefficients, permutations=permutations)\n",
    "                op.canonicalizeRadicalsInCoefficients()\n",
    "                op.expandCoefficients()\n",
    "                dummy = (len(op) == 0)\n",
    "                fpvectorindex -= 1\n",
    "            operators.append(op)\n",
    "            labels.append((Lambda, R, multindex+1))\n",
    "        print('')\n",
    "#basis33 = Basis(fieldContent, operators=operators, labels=labels)"
   ]
  },
  {
   "cell_type": "code",
   "execution_count": 218,
   "metadata": {
    "collapsed": true
   },
   "outputs": [
    {
     "data": {
      "text/plain": [
       "0"
      ]
     },
     "execution_count": 218,
     "metadata": {},
     "output_type": "execute_result"
    }
   ],
   "source": [
    "sqrt(calculator42.calculate(op1, op2,'planar'))\n"
   ]
  },
  {
   "cell_type": "code",
   "execution_count": 215,
   "metadata": {
    "collapsed": true
   },
   "outputs": [],
   "source": [
    "op2 /= 3/4*sqrt(15)*abs(2*sqrt(5)*sqrt(3) - 3*sqrt(5) + 6*sqrt(3) + 39)\n",
    "op2.canonicalizeRadicalsInCoefficients()"
   ]
  },
  {
   "cell_type": "code",
   "execution_count": 209,
   "metadata": {
    "collapsed": true
   },
   "outputs": [],
   "source": [
    "op1 = gl2basis_fc42_lambda51[3] + changeSign(gl2basis_fc42_lambda51[3])\n",
    "op2 = gl2basis_fc42_lambda51[3] - changeSign(gl2basis_fc42_lambda51[3])"
   ]
  },
  {
   "cell_type": "code",
   "execution_count": 222,
   "metadata": {
    "collapsed": true
   },
   "outputs": [],
   "source": [
    "gl2basis_fc42_lambda51.operators[3] = op1\n",
    "gl2basis_fc42_lambda51.operators[4] = op2"
   ]
  },
  {
   "cell_type": "code",
   "execution_count": 207,
   "metadata": {
    "collapsed": true
   },
   "outputs": [
    {
     "ename": "KeyboardInterrupt",
     "evalue": "",
     "output_type": "error",
     "traceback": [
      "\u001b[0;31m---------------------------------------------------------------------------\u001b[0m",
      "\u001b[0;31mKeyboardInterrupt\u001b[0m                         Traceback (most recent call last)",
      "\u001b[0;32m<ipython-input-207-b63390f52b52>\u001b[0m in \u001b[0;36m<module>\u001b[0;34m()\u001b[0m\n\u001b[0;32m----> 1\u001b[0;31m \u001b[0mcalculator42\u001b[0m\u001b[0;34m.\u001b[0m\u001b[0mcalculate\u001b[0m\u001b[0;34m(\u001b[0m\u001b[0mgl2basis_fc42_lambda51\u001b[0m\u001b[0;34m,\u001b[0m\u001b[0mgl2basis_fc42_lambda51\u001b[0m\u001b[0;34m,\u001b[0m\u001b[0;34m'planar'\u001b[0m\u001b[0;34m)\u001b[0m\u001b[0;34m\u001b[0m\u001b[0m\n\u001b[0m",
      "\u001b[0;32m<ipython-input-1-acfad3e8f396>\u001b[0m in \u001b[0;36mcalculate\u001b[0;34m(self, input1, input2, correlatorType)\u001b[0m\n\u001b[1;32m    381\u001b[0m \u001b[0;34m\u001b[0m\u001b[0m\n\u001b[1;32m    382\u001b[0m         \u001b[0;32mif\u001b[0m \u001b[0misinstance\u001b[0m\u001b[0;34m(\u001b[0m\u001b[0minput2\u001b[0m\u001b[0;34m,\u001b[0m \u001b[0mBasis\u001b[0m\u001b[0;34m)\u001b[0m\u001b[0;34m:\u001b[0m\u001b[0;34m\u001b[0m\u001b[0m\n\u001b[0;32m--> 383\u001b[0;31m             \u001b[0;32mreturn\u001b[0m \u001b[0;34m[\u001b[0m \u001b[0mself\u001b[0m\u001b[0;34m.\u001b[0m\u001b[0mcalculate\u001b[0m\u001b[0;34m(\u001b[0m\u001b[0minput1\u001b[0m\u001b[0;34m,\u001b[0m \u001b[0mop\u001b[0m\u001b[0;34m,\u001b[0m \u001b[0mcorrelatorType\u001b[0m\u001b[0;34m)\u001b[0m \u001b[0;32mfor\u001b[0m \u001b[0mop\u001b[0m \u001b[0;32min\u001b[0m \u001b[0minput2\u001b[0m \u001b[0;34m]\u001b[0m\u001b[0;34m\u001b[0m\u001b[0m\n\u001b[0m\u001b[1;32m    384\u001b[0m \u001b[0;34m\u001b[0m\u001b[0m\n\u001b[1;32m    385\u001b[0m         \u001b[0;32mif\u001b[0m \u001b[0misinstance\u001b[0m\u001b[0;34m(\u001b[0m\u001b[0minput1\u001b[0m\u001b[0;34m,\u001b[0m \u001b[0mBasis\u001b[0m\u001b[0;34m)\u001b[0m\u001b[0;34m:\u001b[0m\u001b[0;34m\u001b[0m\u001b[0m\n",
      "\u001b[0;32m<ipython-input-1-acfad3e8f396>\u001b[0m in \u001b[0;36mcalculate\u001b[0;34m(self, input1, input2, correlatorType)\u001b[0m\n\u001b[1;32m    384\u001b[0m \u001b[0;34m\u001b[0m\u001b[0m\n\u001b[1;32m    385\u001b[0m         \u001b[0;32mif\u001b[0m \u001b[0misinstance\u001b[0m\u001b[0;34m(\u001b[0m\u001b[0minput1\u001b[0m\u001b[0;34m,\u001b[0m \u001b[0mBasis\u001b[0m\u001b[0;34m)\u001b[0m\u001b[0;34m:\u001b[0m\u001b[0;34m\u001b[0m\u001b[0m\n\u001b[0;32m--> 386\u001b[0;31m             \u001b[0;32mreturn\u001b[0m \u001b[0;34m[\u001b[0m \u001b[0mself\u001b[0m\u001b[0;34m.\u001b[0m\u001b[0mcalculate\u001b[0m\u001b[0;34m(\u001b[0m\u001b[0mop\u001b[0m\u001b[0;34m,\u001b[0m \u001b[0minput2\u001b[0m\u001b[0;34m,\u001b[0m \u001b[0mcorrelatorType\u001b[0m\u001b[0;34m)\u001b[0m \u001b[0;32mfor\u001b[0m \u001b[0mop\u001b[0m \u001b[0;32min\u001b[0m \u001b[0minput1\u001b[0m \u001b[0;34m]\u001b[0m\u001b[0;34m\u001b[0m\u001b[0m\n\u001b[0m\u001b[1;32m    387\u001b[0m \u001b[0;34m\u001b[0m\u001b[0m\n\u001b[1;32m    388\u001b[0m         \u001b[0mcorr\u001b[0m \u001b[0;34m=\u001b[0m \u001b[0mInteger\u001b[0m\u001b[0;34m(\u001b[0m\u001b[0;36m0\u001b[0m\u001b[0;34m)\u001b[0m\u001b[0;34m\u001b[0m\u001b[0m\n",
      "\u001b[0;32m<ipython-input-1-acfad3e8f396>\u001b[0m in \u001b[0;36mcalculate\u001b[0;34m(self, input1, input2, correlatorType)\u001b[0m\n\u001b[1;32m    390\u001b[0m         \u001b[0;32mif\u001b[0m \u001b[0misinstance\u001b[0m\u001b[0;34m(\u001b[0m\u001b[0minput2\u001b[0m\u001b[0;34m,\u001b[0m \u001b[0mOperator\u001b[0m\u001b[0;34m)\u001b[0m\u001b[0;34m:\u001b[0m\u001b[0;34m\u001b[0m\u001b[0m\n\u001b[1;32m    391\u001b[0m             \u001b[0;32mfor\u001b[0m \u001b[0mcf\u001b[0m\u001b[0;34m,\u001b[0m \u001b[0mtr\u001b[0m \u001b[0;32min\u001b[0m \u001b[0minput2\u001b[0m\u001b[0;34m:\u001b[0m\u001b[0;34m\u001b[0m\u001b[0m\n\u001b[0;32m--> 392\u001b[0;31m                 \u001b[0mcorr\u001b[0m \u001b[0;34m+=\u001b[0m \u001b[0mcf\u001b[0m \u001b[0;34m*\u001b[0m \u001b[0mself\u001b[0m\u001b[0;34m.\u001b[0m\u001b[0mcalculate\u001b[0m\u001b[0;34m(\u001b[0m\u001b[0minput1\u001b[0m\u001b[0;34m,\u001b[0m \u001b[0mtr\u001b[0m\u001b[0;34m,\u001b[0m \u001b[0mcorrelatorType\u001b[0m\u001b[0;34m)\u001b[0m\u001b[0;34m\u001b[0m\u001b[0m\n\u001b[0m\u001b[1;32m    393\u001b[0m             \u001b[0;32mif\u001b[0m \u001b[0mcorrelatorType\u001b[0m \u001b[0;32min\u001b[0m \u001b[0;34m[\u001b[0m\u001b[0;34m'F'\u001b[0m\u001b[0;34m,\u001b[0m\u001b[0;34m'G'\u001b[0m\u001b[0;34m]\u001b[0m\u001b[0;34m:\u001b[0m\u001b[0;34m\u001b[0m\u001b[0m\n\u001b[1;32m    394\u001b[0m                 \u001b[0;32mreturn\u001b[0m \u001b[0mcorr\u001b[0m\u001b[0;34m.\u001b[0m\u001b[0mcanonicalize_radical\u001b[0m\u001b[0;34m(\u001b[0m\u001b[0;34m)\u001b[0m\u001b[0;34m.\u001b[0m\u001b[0mfactor\u001b[0m\u001b[0;34m(\u001b[0m\u001b[0;34m)\u001b[0m\u001b[0;34m\u001b[0m\u001b[0m\n",
      "\u001b[0;32m<ipython-input-1-acfad3e8f396>\u001b[0m in \u001b[0;36mcalculate\u001b[0;34m(self, input1, input2, correlatorType)\u001b[0m\n\u001b[1;32m    397\u001b[0m         \u001b[0;32mif\u001b[0m \u001b[0misinstance\u001b[0m\u001b[0;34m(\u001b[0m\u001b[0minput1\u001b[0m\u001b[0;34m,\u001b[0m \u001b[0mOperator\u001b[0m\u001b[0;34m)\u001b[0m\u001b[0;34m:\u001b[0m\u001b[0;34m\u001b[0m\u001b[0m\n\u001b[1;32m    398\u001b[0m             \u001b[0;32mfor\u001b[0m \u001b[0mcf\u001b[0m\u001b[0;34m,\u001b[0m \u001b[0mtr\u001b[0m \u001b[0;32min\u001b[0m \u001b[0minput1\u001b[0m\u001b[0;34m:\u001b[0m\u001b[0;34m\u001b[0m\u001b[0m\n\u001b[0;32m--> 399\u001b[0;31m                 \u001b[0mcorr\u001b[0m \u001b[0;34m+=\u001b[0m \u001b[0mcf\u001b[0m \u001b[0;34m*\u001b[0m \u001b[0mself\u001b[0m\u001b[0;34m.\u001b[0m\u001b[0mcalculate\u001b[0m\u001b[0;34m(\u001b[0m\u001b[0mtr\u001b[0m\u001b[0;34m,\u001b[0m \u001b[0minput2\u001b[0m\u001b[0;34m,\u001b[0m \u001b[0mcorrelatorType\u001b[0m\u001b[0;34m)\u001b[0m\u001b[0;34m\u001b[0m\u001b[0m\n\u001b[0m\u001b[1;32m    400\u001b[0m             \u001b[0;32mif\u001b[0m \u001b[0mcorrelatorType\u001b[0m \u001b[0;32min\u001b[0m \u001b[0;34m[\u001b[0m\u001b[0;34m'F'\u001b[0m\u001b[0;34m,\u001b[0m\u001b[0;34m'G'\u001b[0m\u001b[0;34m]\u001b[0m\u001b[0;34m:\u001b[0m\u001b[0;34m\u001b[0m\u001b[0m\n\u001b[1;32m    401\u001b[0m                 \u001b[0;32mreturn\u001b[0m \u001b[0mcorr\u001b[0m\u001b[0;34m.\u001b[0m\u001b[0mcanonicalize_radical\u001b[0m\u001b[0;34m(\u001b[0m\u001b[0;34m)\u001b[0m\u001b[0;34m.\u001b[0m\u001b[0mfactor\u001b[0m\u001b[0;34m(\u001b[0m\u001b[0;34m)\u001b[0m\u001b[0;34m\u001b[0m\u001b[0m\n",
      "\u001b[0;32m<ipython-input-1-acfad3e8f396>\u001b[0m in \u001b[0;36mcalculate\u001b[0;34m(self, input1, input2, correlatorType)\u001b[0m\n\u001b[1;32m    410\u001b[0m \u001b[0;34m\u001b[0m\u001b[0m\n\u001b[1;32m    411\u001b[0m             \u001b[0mindex1\u001b[0m \u001b[0;34m=\u001b[0m \u001b[0mself\u001b[0m\u001b[0;34m.\u001b[0m\u001b[0mcachedTraces\u001b[0m\u001b[0;34m[\u001b[0m\u001b[0mcorrelatorType\u001b[0m\u001b[0;34m]\u001b[0m\u001b[0;34m.\u001b[0m\u001b[0mindex\u001b[0m\u001b[0;34m(\u001b[0m\u001b[0minput1\u001b[0m\u001b[0;34m)\u001b[0m\u001b[0;34m\u001b[0m\u001b[0m\n\u001b[0;32m--> 412\u001b[0;31m             \u001b[0mindex2\u001b[0m \u001b[0;34m=\u001b[0m \u001b[0mself\u001b[0m\u001b[0;34m.\u001b[0m\u001b[0mcachedTraces\u001b[0m\u001b[0;34m[\u001b[0m\u001b[0mcorrelatorType\u001b[0m\u001b[0;34m]\u001b[0m\u001b[0;34m.\u001b[0m\u001b[0mindex\u001b[0m\u001b[0;34m(\u001b[0m\u001b[0minput2\u001b[0m\u001b[0;34m)\u001b[0m\u001b[0;34m\u001b[0m\u001b[0m\n\u001b[0m\u001b[1;32m    413\u001b[0m             \u001b[0;32mif\u001b[0m \u001b[0mself\u001b[0m\u001b[0;34m.\u001b[0m\u001b[0mcachedCorrelators\u001b[0m\u001b[0;34m[\u001b[0m\u001b[0mcorrelatorType\u001b[0m\u001b[0;34m]\u001b[0m\u001b[0;34m[\u001b[0m\u001b[0mindex1\u001b[0m\u001b[0;34m]\u001b[0m\u001b[0;34m[\u001b[0m\u001b[0mindex2\u001b[0m\u001b[0;34m]\u001b[0m \u001b[0;34m!=\u001b[0m \u001b[0mNone\u001b[0m\u001b[0;34m:\u001b[0m\u001b[0;34m\u001b[0m\u001b[0m\n\u001b[1;32m    414\u001b[0m                 \u001b[0;32mreturn\u001b[0m \u001b[0mself\u001b[0m\u001b[0;34m.\u001b[0m\u001b[0mcachedCorrelators\u001b[0m\u001b[0;34m[\u001b[0m\u001b[0mcorrelatorType\u001b[0m\u001b[0;34m]\u001b[0m\u001b[0;34m[\u001b[0m\u001b[0mindex1\u001b[0m\u001b[0;34m]\u001b[0m\u001b[0;34m[\u001b[0m\u001b[0mindex2\u001b[0m\u001b[0;34m]\u001b[0m\u001b[0;34m\u001b[0m\u001b[0m\n",
      "\u001b[0;32m<ipython-input-1-acfad3e8f396>\u001b[0m in \u001b[0;36m__eq__\u001b[0;34m(self, other)\u001b[0m\n\u001b[1;32m     65\u001b[0m     \u001b[0;32mdef\u001b[0m \u001b[0m__eq__\u001b[0m\u001b[0;34m(\u001b[0m\u001b[0mself\u001b[0m\u001b[0;34m,\u001b[0m \u001b[0mother\u001b[0m\u001b[0;34m)\u001b[0m\u001b[0;34m:\u001b[0m\u001b[0;34m\u001b[0m\u001b[0m\n\u001b[1;32m     66\u001b[0m         \u001b[0;32mif\u001b[0m \u001b[0misinstance\u001b[0m\u001b[0;34m(\u001b[0m\u001b[0mother\u001b[0m\u001b[0;34m,\u001b[0m \u001b[0mTrace\u001b[0m\u001b[0;34m)\u001b[0m\u001b[0;34m:\u001b[0m\u001b[0;34m\u001b[0m\u001b[0m\n\u001b[0;32m---> 67\u001b[0;31m             \u001b[0;32mreturn\u001b[0m \u001b[0mstr\u001b[0m\u001b[0;34m(\u001b[0m\u001b[0mself\u001b[0m\u001b[0;34m)\u001b[0m \u001b[0;34m==\u001b[0m \u001b[0mstr\u001b[0m\u001b[0;34m(\u001b[0m\u001b[0mother\u001b[0m\u001b[0;34m)\u001b[0m\u001b[0;34m\u001b[0m\u001b[0m\n\u001b[0m\u001b[1;32m     68\u001b[0m         \u001b[0;32melse\u001b[0m\u001b[0;34m:\u001b[0m\u001b[0;34m\u001b[0m\u001b[0m\n\u001b[1;32m     69\u001b[0m             \u001b[0;32mreturn\u001b[0m \u001b[0mNotImplemented\u001b[0m\u001b[0;34m\u001b[0m\u001b[0m\n",
      "\u001b[0;32m<ipython-input-1-acfad3e8f396>\u001b[0m in \u001b[0;36m__repr__\u001b[0;34m(self)\u001b[0m\n\u001b[1;32m     37\u001b[0m             \u001b[0mmatrixWords\u001b[0m\u001b[0;34m.\u001b[0m\u001b[0mappend\u001b[0m\u001b[0;34m(\u001b[0m\u001b[0mmin\u001b[0m\u001b[0;34m(\u001b[0m\u001b[0mwordRotations\u001b[0m\u001b[0;34m)\u001b[0m\u001b[0;34m)\u001b[0m\u001b[0;34m\u001b[0m\u001b[0m\n\u001b[1;32m     38\u001b[0m         \u001b[0mmatrixWords\u001b[0m\u001b[0;34m.\u001b[0m\u001b[0msort\u001b[0m\u001b[0;34m(\u001b[0m\u001b[0;34m)\u001b[0m\u001b[0;34m\u001b[0m\u001b[0m\n\u001b[0;32m---> 39\u001b[0;31m         \u001b[0;32mreturn\u001b[0m \u001b[0;34m''\u001b[0m\u001b[0;34m.\u001b[0m\u001b[0mjoin\u001b[0m\u001b[0;34m(\u001b[0m\u001b[0;34m[\u001b[0m\u001b[0;34m'(Tr'\u001b[0m \u001b[0;34m+\u001b[0m \u001b[0mword\u001b[0m \u001b[0;34m+\u001b[0m \u001b[0;34m')'\u001b[0m \u001b[0;32mfor\u001b[0m \u001b[0mword\u001b[0m \u001b[0;32min\u001b[0m \u001b[0mmatrixWords\u001b[0m\u001b[0;34m]\u001b[0m\u001b[0;34m)\u001b[0m\u001b[0;34m\u001b[0m\u001b[0m\n\u001b[0m\u001b[1;32m     40\u001b[0m \u001b[0;34m\u001b[0m\u001b[0m\n\u001b[1;32m     41\u001b[0m \u001b[0;34m\u001b[0m\u001b[0m\n",
      "\u001b[0;32msrc/cysignals/signals.pyx\u001b[0m in \u001b[0;36mcysignals.signals.python_check_interrupt\u001b[0;34m()\u001b[0m\n",
      "\u001b[0;31mKeyboardInterrupt\u001b[0m: "
     ]
    }
   ],
   "source": [
    "calculator42.calculate(gl2basis_fc42_lambda51,gl2basis_fc42_lambda51,'planar')"
   ]
  },
  {
   "cell_type": "code",
   "execution_count": 225,
   "metadata": {
    "collapsed": true
   },
   "outputs": [
    {
     "name": "stdout",
     "output_type": "stream",
     "text": [
      "(N + 4)*(N + 3)*(N + 2)*(N + 1)*(N - 1)*N\n",
      "(N + 3)*(N + 2)*(N + 1)*(N - 1)*N^2\n",
      "(N + 3)*(N + 2)*(N + 1)*(N - 1)*(N - 2)*N\n",
      "(N + 2)*(N + 1)*(N - 1)*(N - 2)*N^2\n",
      "(N + 2)*(N + 1)*(N - 1)*(N - 2)*N^2\n",
      "(N + 2)*(N + 1)*(N - 1)*(N - 2)*(N - 3)*N\n",
      "(N + 1)*(N - 1)*(N - 2)*(N - 3)*N^2\n",
      "(N + 1)*(N - 1)*(N - 2)*(N - 3)*(N - 4)*N\n"
     ]
    }
   ],
   "source": [
    "for op in gl2basis_fc42_lambda51:\n",
    "    print(calculator42.calculate(op, op, 'F'))"
   ]
  },
  {
   "cell_type": "code",
   "execution_count": 748,
   "metadata": {
    "collapsed": true
   },
   "outputs": [],
   "source": [
    "comm33_1 = basis33[2]\n",
    "comm33_2 = sqrt(3)/3 * (basis33[0] + basis33[3] - basis33[1])"
   ]
  },
  {
   "cell_type": "code",
   "execution_count": 730,
   "metadata": {
    "collapsed": true
   },
   "outputs": [],
   "source": [
    "st33_1 = sqrt(3)*sqrt(2)/6 * (basis33[0] - 2 * basis33[3] - basis33[1])\n",
    "st33_2 = 1/sqrt(N^4 + 3*N^3 - 9*N + 9) * ( sqrt(2)/2 * (N+3)*(N-1)*basis33[0] \n",
    "                                          + sqrt(2)/2 *N*(N+1)*basis33[1] - sqrt(2)/2 * (N-3)*basis33[3] )\n",
    "st33_2.factorCoefficients()"
   ]
  },
  {
   "cell_type": "code",
   "execution_count": 745,
   "metadata": {
    "collapsed": true
   },
   "outputs": [
    {
     "name": "stdout",
     "output_type": "stream",
     "text": [
      "1/2*(2*N^2 + 3*N - 3)/((N + 3)*(N + 2)*(N + 1)*(N - 1)*(N - 2)*(N - 3)*N^2)\n",
      "1/2*(2*N^2 + 3*N - 3)/((N^4 + 3*N^3 - 9*N + 9)*(N + 2)*(N + 1)*(N - 1)*(N - 2))\n"
     ]
    }
   ],
   "source": [
    "print(calculator33.calculate(st33_1,st33_1))\n",
    "print(calculator33.calculate(st33_2,st33_2))"
   ]
  },
  {
   "cell_type": "code",
   "execution_count": 755,
   "metadata": {
    "collapsed": true
   },
   "outputs": [],
   "source": [
    "bps33_1 = 1/sqrt(6*N^4 + 18*N^3 + 27*N^2 + 81)*( N*(N-3)*basis33[0] - (N-3)*(N+3)*basis33[1] - 2*N*(N+3)*basis33[3])\n",
    "bps33_2 = sqrt(2)/sqrt(2*N^2+3) * ( sqrt(2)/2*(N-1)*basis33[0] + sqrt(2)/2*(N+1)*basis33[1] - sqrt(2)/2*basis33[3] )"
   ]
  },
  {
   "cell_type": "code",
   "execution_count": 759,
   "metadata": {
    "collapsed": true
   },
   "outputs": [
    {
     "name": "stdout",
     "output_type": "stream",
     "text": [
      "(2*N^2 + 3*N - 3)*(N + 3)*(N + 2)*(N + 1)*(N - 1)*(N - 2)*(N - 3)*N^2/(2*N^4 + 6*N^3 + 9*N^2 + 27)\n",
      "(2*N^2 + 3*N - 3)*(N + 2)*(N + 1)*(N - 1)*(N - 2)*N^2/(2*N^2 + 3)\n"
     ]
    }
   ],
   "source": [
    "print(calculator33.calculate(bps33_1,bps33_1,'F'))\n",
    "print(calculator33.calculate(bps33_2,bps33_2,'F'))"
   ]
  },
  {
   "cell_type": "code",
   "execution_count": 819,
   "metadata": {
    "collapsed": true
   },
   "outputs": [
    {
     "name": "stdout",
     "output_type": "stream",
     "text": [
      "\n",
      "\n",
      "\n",
      "\n",
      "\n",
      "\n",
      "\n",
      "\n",
      "\n",
      "\n",
      "\n",
      "\n",
      "\n",
      "\n",
      "\n"
     ]
    }
   ],
   "source": [
    "for i in range(15):\n",
    "    print(loweredbasis33[i] - newbasis[i])"
   ]
  },
  {
   "cell_type": "code",
   "execution_count": 223,
   "metadata": {
    "collapsed": true
   },
   "outputs": [
    {
     "name": "stdout",
     "output_type": "stream",
     "text": [
      "[([5, 1], [5, 1], 1), ([5, 1], [4, 2], 1), ([5, 1], [4, 1, 1], 1), ([5, 1], [3, 2, 1], 1), ([5, 1], [3, 2, 1], 2), ([5, 1], [3, 1, 1, 1], 1), ([5, 1], [2, 2, 1, 1], 1), ([5, 1], [2, 1, 1, 1, 1], 1)]\n",
      "[[0, -1/48*sqrt(3)*sqrt(2), 1/72*sqrt(3)*sqrt(2), 1/144*sqrt(3)*sqrt(2), -1/48*sqrt(3)*sqrt(2), -1/24*sqrt(3)*sqrt(2), 1/24*sqrt(3)*sqrt(2), 1/48*sqrt(3)*sqrt(2), 0, 0, -1/24*sqrt(3)*sqrt(2), 0, 1/24*sqrt(3)*sqrt(2), -1/18*sqrt(3)*sqrt(2), 1/72*sqrt(3)*sqrt(2), -1/12*sqrt(3)*sqrt(2), 1/12*sqrt(3)*sqrt(2), 1/24*sqrt(3)*sqrt(2), 0, 0, -1/24*sqrt(3)*sqrt(2), -1/12*sqrt(3)*sqrt(2), 1/12*sqrt(3)*sqrt(2), 1/24*sqrt(3)*sqrt(2), 0, 0, 0, 0, -1/6*sqrt(3)*sqrt(2), 1/12*sqrt(3)*sqrt(2), 1/12*sqrt(3)*sqrt(2), 0, 0, 0], [0, -1/80*sqrt(5)*sqrt(3)*sqrt(2), 1/120*sqrt(5)*sqrt(3)*sqrt(2), 1/240*sqrt(5)*sqrt(3)*sqrt(2), 1/240*sqrt(5)*sqrt(3)*sqrt(2), 1/120*sqrt(5)*sqrt(3)*sqrt(2), -1/120*sqrt(5)*sqrt(3)*sqrt(2), -1/240*sqrt(5)*sqrt(3)*sqrt(2), 0, 0, -1/40*sqrt(5)*sqrt(3)*sqrt(2), 0, 1/40*sqrt(5)*sqrt(3)*sqrt(2), 0, -1/40*sqrt(5)*sqrt(3)*sqrt(2), 1/20*sqrt(5)*sqrt(3)*sqrt(2), -1/20*sqrt(5)*sqrt(3)*sqrt(2), 1/40*sqrt(5)*sqrt(3)*sqrt(2), 0, 0, -1/120*sqrt(5)*sqrt(3)*sqrt(2), -1/60*sqrt(5)*sqrt(3)*sqrt(2), 1/60*sqrt(5)*sqrt(3)*sqrt(2), 1/120*sqrt(5)*sqrt(3)*sqrt(2), -1/60*sqrt(5)*sqrt(3)*sqrt(2), -1/30*sqrt(5)*sqrt(3)*sqrt(2), 1/30*sqrt(5)*sqrt(3)*sqrt(2), 1/60*sqrt(5)*sqrt(3)*sqrt(2), 1/30*sqrt(5)*sqrt(3)*sqrt(2), -1/60*sqrt(5)*sqrt(3)*sqrt(2), -1/60*sqrt(5)*sqrt(3)*sqrt(2), 0, 0, 0], [0, -1/8, 1/12, 1/24, -1/24, -1/12, 1/12, 1/24, 0, 0, -1/12, 0, 1/12, 1/6, 1/12, 0, 0, -1/4, 0, 0, 0, 0, 0, 0, 1/12, 1/6, -1/6, -1/12, 1/3, -1/6, -1/6, 0, 0, 0], [0, 0, 0, 0, -1/30*sqrt(5)*sqrt(2), -1/15*sqrt(5)*sqrt(2), 1/15*sqrt(5)*sqrt(2), 1/30*sqrt(5)*sqrt(2), 0, 0, 1/30*sqrt(5)*sqrt(2), 0, -1/30*sqrt(5)*sqrt(2), 0, 0, 0, 0, 0, 0, 0, 0, 0, 0, 0, -1/30*sqrt(5)*sqrt(2), -1/15*sqrt(5)*sqrt(2), 1/15*sqrt(5)*sqrt(2), 1/30*sqrt(5)*sqrt(2), 1/15*sqrt(5)*sqrt(2), -1/30*sqrt(5)*sqrt(2), -1/30*sqrt(5)*sqrt(2), 0, 0, 0], [0, -1/30*sqrt(5)*sqrt(3), 1/45*sqrt(5)*sqrt(3), 1/90*sqrt(5)*sqrt(3), 0, 0, 0, 0, 0, 0, 0, 0, 0, -1/18*sqrt(5)*sqrt(3), -1/90*sqrt(5)*sqrt(3), -1/30*sqrt(5)*sqrt(3), 1/30*sqrt(5)*sqrt(3), 1/15*sqrt(5)*sqrt(3), 0, 0, 1/30*sqrt(5)*sqrt(3), 1/15*sqrt(5)*sqrt(3), -1/15*sqrt(5)*sqrt(3), -1/30*sqrt(5)*sqrt(3), 0, 0, 0, 0, 0, 0, 0, 0, 0, 0], [0, 1/8, -1/12, -1/24, -1/24, -1/12, 1/12, 1/24, 0, 0, -1/12, 0, 1/12, -1/6, -1/12, 0, 0, 1/4, 0, 0, 0, 0, 0, 0, 1/12, 1/6, -1/6, -1/12, 1/3, -1/6, -1/6, 0, 0, 0], [0, 1/80*sqrt(5)*sqrt(3)*sqrt(2), -1/120*sqrt(5)*sqrt(3)*sqrt(2), -1/240*sqrt(5)*sqrt(3)*sqrt(2), 1/240*sqrt(5)*sqrt(3)*sqrt(2), 1/120*sqrt(5)*sqrt(3)*sqrt(2), -1/120*sqrt(5)*sqrt(3)*sqrt(2), -1/240*sqrt(5)*sqrt(3)*sqrt(2), 0, 0, -1/40*sqrt(5)*sqrt(3)*sqrt(2), 0, 1/40*sqrt(5)*sqrt(3)*sqrt(2), 0, 1/40*sqrt(5)*sqrt(3)*sqrt(2), -1/20*sqrt(5)*sqrt(3)*sqrt(2), 1/20*sqrt(5)*sqrt(3)*sqrt(2), -1/40*sqrt(5)*sqrt(3)*sqrt(2), 0, 0, 1/120*sqrt(5)*sqrt(3)*sqrt(2), 1/60*sqrt(5)*sqrt(3)*sqrt(2), -1/60*sqrt(5)*sqrt(3)*sqrt(2), -1/120*sqrt(5)*sqrt(3)*sqrt(2), -1/60*sqrt(5)*sqrt(3)*sqrt(2), -1/30*sqrt(5)*sqrt(3)*sqrt(2), 1/30*sqrt(5)*sqrt(3)*sqrt(2), 1/60*sqrt(5)*sqrt(3)*sqrt(2), 1/30*sqrt(5)*sqrt(3)*sqrt(2), -1/60*sqrt(5)*sqrt(3)*sqrt(2), -1/60*sqrt(5)*sqrt(3)*sqrt(2), 0, 0, 0], [0, 1/48*sqrt(3)*sqrt(2), -1/72*sqrt(3)*sqrt(2), -1/144*sqrt(3)*sqrt(2), -1/48*sqrt(3)*sqrt(2), -1/24*sqrt(3)*sqrt(2), 1/24*sqrt(3)*sqrt(2), 1/48*sqrt(3)*sqrt(2), 0, 0, -1/24*sqrt(3)*sqrt(2), 0, 1/24*sqrt(3)*sqrt(2), 1/18*sqrt(3)*sqrt(2), -1/72*sqrt(3)*sqrt(2), 1/12*sqrt(3)*sqrt(2), -1/12*sqrt(3)*sqrt(2), -1/24*sqrt(3)*sqrt(2), 0, 0, 1/24*sqrt(3)*sqrt(2), 1/12*sqrt(3)*sqrt(2), -1/12*sqrt(3)*sqrt(2), -1/24*sqrt(3)*sqrt(2), 0, 0, 0, 0, -1/6*sqrt(3)*sqrt(2), 1/12*sqrt(3)*sqrt(2), 1/12*sqrt(3)*sqrt(2), 0, 0, 0]]\n"
     ]
    }
   ],
   "source": [
    "basis = gl2basis_fc42_lambda51\n",
    "\n",
    "tracelist = [ Trace([4,2], [1,2,3,4,5,6]), Trace([4,2],[(1,2)]), Trace([4,2],[(1,5)]), Trace([4,2],[(5,6)]),\n",
    "            Trace([4,2],[(1,2),(3,4)]), Trace([4,2],[(1,2),(3,5)]), Trace([4,2],[(1,5),(2,6)]), \n",
    "            Trace([4,2],[(1,2),(5,6)]), Trace([4,2],[(1,2),(3,4),(5,6)]), Trace([4,2],[(1,2),(3,5),(4,6)]),\n",
    "            Trace([4,2],[(1,2,3)]), Trace([4,2],[(1,2,5)]), Trace([4,2],[(1,5,6)]), \n",
    "            Trace([4,2],[(1,2,3),(4,5)]), Trace([4,2],[(1,2,3),(5,6)]), Trace([4,2],[(1,2,5),(3,4)]),\n",
    "            Trace([4,2],[(1,2,5),(3,6)]), Trace([4,2],[(1,5,6),(2,3)]), Trace([4,2],[(1,2,3),(4,5,6)]),\n",
    "            Trace([4,2],[(1,2,5),(3,4,6)]), Trace([4,2],[(1,2,3,4)]), Trace([4,2],[(1,2,3,5)]),\n",
    "            Trace([4,2],[(1,2,5,6)]), Trace([4,2],[(1,5,2,6)]), Trace([4,2],[(1,2,3,4),(5,6)]),\n",
    "            Trace([4,2],[(1,2,3,5),(4,6)]), Trace([4,2],[(1,2,5,6),(3,4)]), Trace([4,2],[(1,5,2,6),(3,4)]),\n",
    "            Trace([4,2],[(1,2,3,4,5)]), Trace([4,2],[(1,2,3,5,6)]), Trace([4,2],[(1,2,5,3,6)]),\n",
    "            Trace([4,2],[(1,2,3,4,5,6)]), Trace([4,2],[(1,2,3,5,4,6)]), Trace([4,2],[(1,2,5,3,4,6)])]\n",
    "print(basis.labels)\n",
    "\n",
    "coefficientMatrix = []\n",
    "\n",
    "for index in range(len(basis)):\n",
    "    op = basis[index]\n",
    "\n",
    "    coefficients = [0 for tr in tracelist]\n",
    "    for cf, tr in op:\n",
    "        coefficients[tracelist.index(tr)] = cf\n",
    "    coefficientMatrix.append(coefficients)\n",
    "print(coefficientMatrix)"
   ]
  },
  {
   "cell_type": "code",
   "execution_count": 148,
   "metadata": {
    "collapsed": true
   },
   "outputs": [
    {
     "name": "stdout",
     "output_type": "stream",
     "text": [
      "0                             0                   0                        0\n",
      "16/59*sqrt(59)*sqrt(13)       3/590*sqrt(59)      0                        -1/30*sqrt(5)*sqrt(3)\n",
      "-32/177*sqrt(59)*sqrt(13)     -1/295*sqrt(59)     0                        1/45*sqrt(5)*sqrt(3)\n",
      "-16/177*sqrt(59)*sqrt(13)     -1/590*sqrt(59)     0                        1/90*sqrt(5)*sqrt(3)\n",
      "12/59*sqrt(59)*sqrt(13)       -4/885*sqrt(59)     -1/30*sqrt(5)*sqrt(2)    0\n",
      "24/59*sqrt(59)*sqrt(13)       -8/885*sqrt(59)     -1/15*sqrt(5)*sqrt(2)    0\n",
      "-24/59*sqrt(59)*sqrt(13)      8/885*sqrt(59)      1/15*sqrt(5)*sqrt(2)     0\n",
      "-12/59*sqrt(59)*sqrt(13)      4/885*sqrt(59)      1/30*sqrt(5)*sqrt(2)     0\n",
      "0                             0                   0                        0\n",
      "0                             0                   0                        0\n",
      "-12/59*sqrt(59)*sqrt(13)      4/885*sqrt(59)      1/30*sqrt(5)*sqrt(2)     0\n",
      "0                             0                   0                        0\n",
      "12/59*sqrt(59)*sqrt(13)       -4/885*sqrt(59)     -1/30*sqrt(5)*sqrt(2)    0\n",
      "80/177*sqrt(59)*sqrt(13)      1/118*sqrt(59)      0                        -1/18*sqrt(5)*sqrt(3)\n",
      "16/177*sqrt(59)*sqrt(13)      1/590*sqrt(59)      0                        -1/90*sqrt(5)*sqrt(3)\n",
      "16/59*sqrt(59)*sqrt(13)       3/590*sqrt(59)      0                        -1/30*sqrt(5)*sqrt(3)\n",
      "-16/59*sqrt(59)*sqrt(13)      -3/590*sqrt(59)     0                        1/30*sqrt(5)*sqrt(3)\n",
      "-32/59*sqrt(59)*sqrt(13)      -3/295*sqrt(59)     0                        1/15*sqrt(5)*sqrt(3)\n",
      "0                             0                   0                        0\n",
      "0                             0                   0                        0\n",
      "-16/59*sqrt(59)*sqrt(13)      -3/590*sqrt(59)     0                        1/30*sqrt(5)*sqrt(3)\n",
      "-32/59*sqrt(59)*sqrt(13)      -3/295*sqrt(59)     0                        1/15*sqrt(5)*sqrt(3)\n",
      "32/59*sqrt(59)*sqrt(13)       3/295*sqrt(59)      0                        -1/15*sqrt(5)*sqrt(3)\n",
      "16/59*sqrt(59)*sqrt(13)       3/590*sqrt(59)      0                        -1/30*sqrt(5)*sqrt(3)\n",
      "12/59*sqrt(59)*sqrt(13)       -4/885*sqrt(59)     -1/30*sqrt(5)*sqrt(2)    0\n",
      "24/59*sqrt(59)*sqrt(13)       -8/885*sqrt(59)     -1/15*sqrt(5)*sqrt(2)    0\n",
      "-24/59*sqrt(59)*sqrt(13)      8/885*sqrt(59)      1/15*sqrt(5)*sqrt(2)     0\n",
      "-12/59*sqrt(59)*sqrt(13)      4/885*sqrt(59)      1/30*sqrt(5)*sqrt(2)     0\n",
      "-24/59*sqrt(59)*sqrt(13)      8/885*sqrt(59)      1/15*sqrt(5)*sqrt(2)     0\n",
      "12/59*sqrt(59)*sqrt(13)       -4/885*sqrt(59)     -1/30*sqrt(5)*sqrt(2)    0\n",
      "12/59*sqrt(59)*sqrt(13)       -4/885*sqrt(59)     -1/30*sqrt(5)*sqrt(2)    0\n",
      "0                             0                   0                        0\n",
      "0                             0                   0                        0\n",
      "0                             0                   0                        0\n"
     ]
    }
   ],
   "source": [
    "op1 = orthogonalisedBasis42[14]\n",
    "op2 = orthogonalisedBasis42[15]\n",
    "op3 = gl2basis_fc42_lambda51[3]\n",
    "op4 = gl2basis_fc42_lambda51[4]\n",
    "tracelist = [ Trace([4,2], [1,2,3,4,5,6]), Trace([4,2],[(1,2)]), Trace([4,2],[(1,5)]), Trace([4,2],[(5,6)]),\n",
    "            Trace([4,2],[(1,2),(3,4)]), Trace([4,2],[(1,2),(3,5)]), Trace([4,2],[(1,5),(2,6)]), \n",
    "            Trace([4,2],[(1,2),(5,6)]), Trace([4,2],[(1,2),(3,4),(5,6)]), Trace([4,2],[(1,2),(3,5),(4,6)]),\n",
    "            Trace([4,2],[(1,2,3)]), Trace([4,2],[(1,2,5)]), Trace([4,2],[(1,5,6)]), \n",
    "            Trace([4,2],[(1,2,3),(4,5)]), Trace([4,2],[(1,2,3),(5,6)]), Trace([4,2],[(1,2,5),(3,4)]),\n",
    "            Trace([4,2],[(1,2,5),(3,6)]), Trace([4,2],[(1,5,6),(2,3)]), Trace([4,2],[(1,2,3),(4,5,6)]),\n",
    "            Trace([4,2],[(1,2,5),(3,4,6)]), Trace([4,2],[(1,2,3,4)]), Trace([4,2],[(1,2,3,5)]),\n",
    "            Trace([4,2],[(1,2,5,6)]), Trace([4,2],[(1,5,2,6)]), Trace([4,2],[(1,2,3,4),(5,6)]),\n",
    "            Trace([4,2],[(1,2,3,5),(4,6)]), Trace([4,2],[(1,2,5,6),(3,4)]), Trace([4,2],[(1,5,2,6),(3,4)]),\n",
    "            Trace([4,2],[(1,2,3,4,5)]), Trace([4,2],[(1,2,3,5,6)]), Trace([4,2],[(1,2,5,3,6)]),\n",
    "            Trace([4,2],[(1,2,3,4,5,6)]), Trace([4,2],[(1,2,3,5,4,6)]), Trace([4,2],[(1,2,5,3,4,6)])]\n",
    "\n",
    "coefficients1 = [0 for tr in tracelist]\n",
    "coefficients2 = [0 for tr in tracelist]\n",
    "coefficients3 = [0 for tr in tracelist]\n",
    "coefficients4 = [0 for tr in tracelist]\n",
    "for cf, tr in op1:\n",
    "    coefficients1[tracelist.index(tr)] = cf#.canonicalize_radical().expand()\n",
    "for cf, tr in op2:\n",
    "    coefficients2[tracelist.index(tr)] = cf.canonicalize_radical().expand()\n",
    "for cf, tr in op3:\n",
    "    coefficients3[tracelist.index(tr)] = cf.canonicalize_radical().expand()\n",
    "for cf, tr in op4:\n",
    "    coefficients4[tracelist.index(tr)] = cf.canonicalize_radical().expand()    \n",
    "for i in range(len(coefficients1)):\n",
    "    s1 = str(coefficients1[i]*1560/sqrt(13)/sqrt(3)/sqrt(2))\n",
    "    s2 = str(coefficients2[i])\n",
    "    s3 = str(coefficients3[i])\n",
    "    s4 = str(coefficients4[i])\n",
    "    print(s1 + (' ' * (30-len(s1))) + s2 + (' ' * (20-len(s2))) + s3 + (' ' * (25-len(s3))) + s4)"
   ]
  },
  {
   "cell_type": "code",
   "execution_count": 104,
   "metadata": {
    "collapsed": true
   },
   "outputs": [],
   "source": [
    "orthogonalisedBasis42 = basis42.copy()"
   ]
  },
  {
   "cell_type": "code",
   "execution_count": 159,
   "metadata": {
    "collapsed": true
   },
   "outputs": [
    {
     "data": {
      "text/plain": [
       "[([4, 2], [4, 2], 1),\n",
       " ([4, 2], [4, 1, 1], 1),\n",
       " ([4, 2], [3, 3], 1),\n",
       " ([4, 2], [3, 2, 1], 1),\n",
       " ([4, 2], [3, 2, 1], 2),\n",
       " ([4, 2], [3, 1, 1, 1], 1),\n",
       " ([4, 2], [2, 2, 2], 1),\n",
       " ([4, 2], [2, 2, 1, 1], 1),\n",
       " ([4, 2], [2, 2, 1, 1], 2),\n",
       " ([4, 2], [2, 1, 1, 1, 1], 1)]"
      ]
     },
     "execution_count": 159,
     "metadata": {},
     "output_type": "execute_result"
    }
   ],
   "source": [
    "orthogonalisedBasis42.labels[19:29]"
   ]
  },
  {
   "cell_type": "code",
   "execution_count": 167,
   "metadata": {
    "collapsed": true
   },
   "outputs": [],
   "source": [
    "index=26\n",
    "op = orthogonalisedBasis42[index]\n",
    "norm = calculator42.calculate(op,op)\n",
    "for i in range(19,index):\n",
    "    op1 = orthogonalisedBasis42[i]\n",
    "    orthogonalisedBasis42.operators[i] -= calculator42.calculate(op,op1)/norm * op"
   ]
  },
  {
   "cell_type": "code",
   "execution_count": 178,
   "metadata": {
    "collapsed": true
   },
   "outputs": [
    {
     "name": "stdout",
     "output_type": "stream",
     "text": [
      "3/5*(149226300*N^16 + 2574045540*N^15 + 17126314218*N^14 + 48780132444*N^13 + 10649800683*N^12 - 260799105402*N^11 - 414404753235*N^10 + 509352006396*N^9 + 1458046648509*N^8 - 677071004478*N^7 - 2841929143455*N^6 + 1359603561900*N^5 + 4498710198068*N^4 - 813280519104*N^3 - 2891933192736*N^2 + 800771042304*N + 1167006642048)/(18630*N^8 + 160677*N^7 + 371643*N^6 - 204495*N^5 - 1326729*N^4 - 15804*N^3 + 1726178*N^2 - 442368*N - 1298232)^2\n",
      "3/5*(8010*N^7 + 56214*N^6 + 79800*N^5 - 132315*N^4 - 158273*N^3 + 296994*N^2 + 33500*N - 171336)/((18630*N^8 + 160677*N^7 + 371643*N^6 - 204495*N^5 - 1326729*N^4 - 15804*N^3 + 1726178*N^2 - 442368*N - 1298232)*(N + 1)*(N - 1)*(N - 2)*N^2)\n"
     ]
    }
   ],
   "source": [
    "op = orthogonalisedBasis42[25]\n",
    "print(calculator42.calculate(op,op,'planar').canonicalize_radical().factor())\n",
    "print(calculator42.calculate(op,op))"
   ]
  },
  {
   "cell_type": "code",
   "execution_count": 177,
   "metadata": {
    "collapsed": true
   },
   "outputs": [],
   "source": [
    "op = orthogonalisedBasis42[24]\n",
    "norm = calculator42.calculate(op,op)\n",
    "op1 = orthogonalisedBasis42[25]\n",
    "orthogonalisedBasis42.operators[25] -= calculator42.calculate(op,op1)/norm * op"
   ]
  },
  {
   "cell_type": "code",
   "execution_count": 173,
   "metadata": {
    "collapsed": true
   },
   "outputs": [],
   "source": [
    "for op in orthogonalisedBasis42:\n",
    "    op.canonicalizeRadicalsInCoefficients()\n",
    "    op.factorCoefficients()"
   ]
  },
  {
   "cell_type": "code",
   "execution_count": 19,
   "metadata": {},
   "outputs": [
    {
     "data": {
      "text/plain": [
       "[([3, 2], 4, 1), ([3, 2], 3, 1), ([3, 2], 3, 2), ([3, 2], 2, 1)]"
      ]
     },
     "execution_count": 19,
     "metadata": {},
     "output_type": "execute_result"
    }
   ],
   "source": [
    "bpsbasis_fc32.labels[12:]"
   ]
  },
  {
   "cell_type": "code",
   "execution_count": 18,
   "metadata": {},
   "outputs": [
    {
     "data": {
      "text/plain": [
       "[[[3, 2], [2, 1, 1, 1], 1],\n",
       " [[3, 2], [2, 2, 1], 1],\n",
       " [[3, 2], [3, 1, 1], 1],\n",
       " [[3, 2], [3, 2], 1]]"
      ]
     },
     "execution_count": 18,
     "metadata": {},
     "output_type": "execute_result"
    }
   ],
   "source": [
    "msbasis_fc32.labels[12:]"
   ]
  },
  {
   "cell_type": "code",
   "execution_count": 48,
   "metadata": {},
   "outputs": [
    {
     "data": {
      "text/plain": [
       "1"
      ]
     },
     "execution_count": 48,
     "metadata": {},
     "output_type": "execute_result"
    }
   ],
   "source": [
    "calculator32.calculate(symtracebasis_fc32[12],symtracebasis_fc32[12],'planar').expand().simplify_rational()"
   ]
  },
  {
   "cell_type": "code",
   "execution_count": 57,
   "metadata": {},
   "outputs": [
    {
     "name": "stdout",
     "output_type": "stream",
     "text": [
      "\n"
     ]
    }
   ],
   "source": [
    "op = symtracebasis_fc32[([3, 2], 3, 2)] + msbasis_fc32[([3, 2], [3,1,1], 1)]\n",
    "op.expandCoefficients()\n",
    "op.canonicalizeRadicalsInCoefficients()\n",
    "op.factorCoefficients()\n",
    "print(op)"
   ]
  },
  {
   "cell_type": "code",
   "execution_count": 50,
   "metadata": {},
   "outputs": [],
   "source": [
    "op1 = symtracebasis_fc32[([3, 2], 4, 1)]\n",
    "op2 = msbasis_fc32[([3, 2], [2, 1, 1, 1], 1)]"
   ]
  },
  {
   "cell_type": "code",
   "execution_count": 51,
   "metadata": {},
   "outputs": [
    {
     "name": "stdout",
     "output_type": "stream",
     "text": [
      "(TrX)(TrXX)(TrY)(TrY)\n",
      "(TrX)(TrXX)(TrY)(TrY)\n",
      "-1/60*sqrt(5)*sqrt(3)\n",
      "1/60*sqrt(5)*sqrt(3)\n"
     ]
    }
   ],
   "source": [
    "print(op1.traces[0])\n",
    "print(op2.traces[6])\n",
    "c = 1\n",
    "op1 *= c\n",
    "op1.canonicalizeRadicalsInCoefficients()\n",
    "op1.factorCoefficients()\n",
    "op1 /= c\n",
    "print(op1.coefficients[0])\n",
    "print(op2.coefficients[6])"
   ]
  },
  {
   "cell_type": "code",
   "execution_count": 69,
   "metadata": {},
   "outputs": [
    {
     "name": "stdout",
     "output_type": "stream",
     "text": [
      "1/sqrt(3*N^2 + 2)\n",
      "[0, 0, 0, 0, 0, 0, 0, -1/2*sqrt(2)*(2*N - 1), N + 1, -1/2*sqrt(2)]\n"
     ]
    }
   ],
   "source": [
    "cfs = gl2basis_fc22.expand(bps22_2)\n",
    "for i in range(len(cfs)):\n",
    "    cfs[i] = cfs[i].canonicalize_radical()\n",
    "    cfs[i] = cfs[i].factor()\n",
    "norm = gcd(cfs)\n",
    "cfs = [cf/norm for cf in cfs ]\n",
    "print(norm)\n",
    "print(cfs)"
   ]
  },
  {
   "cell_type": "code",
   "execution_count": 144,
   "metadata": {},
   "outputs": [],
   "source": [
    "fieldContent = [2,2]\n",
    "totalFieldContent = sum(fieldContent)\n",
    "partitionList = list(Partitions(sum(fieldContent)))\n",
    "\n",
    "operators = []\n",
    "labels = []\n",
    "for ycontent in range(fieldContent[1]+1):\n",
    "    #print('Y content: ' + str(ycontent))\n",
    "    currentFieldContent = [totalFieldContent-ycontent,ycontent]\n",
    "    calculator = correlatorCalculator(currentFieldContent)\n",
    "    #print('Calculator created')\n",
    "    for i in range(len(operators)):\n",
    "        operators[i] = lowerOperator(operators[i])\n",
    "        operators[i] /= sqrt(calculator.calculate(operators[i],operators[i],'planar'))\n",
    "        operators[i].canonicalizeRadicalsInCoefficients()\n",
    "    #print('Previous operators lowered')\n",
    "    basis = multiSymmetricBasis(currentFieldContent)\n",
    "    #print(basis)\n",
    "    for p in partitionList:\n",
    "        #print('Looking at ' + str(p) + ' sector')\n",
    "        basisIndices = []\n",
    "        for i in range(len(basis)):\n",
    "            basisPartition = list(np.sum(np.array(basis.labels[i]), axis=1))\n",
    "            basisPartition.sort(reverse=True)\n",
    "            if p == basisPartition:\n",
    "                basisIndices.append(i)\n",
    "        #print(basisIndices)\n",
    "        indices = []\n",
    "        for i in range(len(labels)):\n",
    "            if p == labels[i][1]:\n",
    "                indices.append(i)\n",
    "        #print(indices)\n",
    "        multiplicity = len(basisIndices) - len(indices)\n",
    "        #print(multiplicity)\n",
    "        testIndex = 0\n",
    "        for i in range(multiplicity):\n",
    "            cont = True\n",
    "            while cont:\n",
    "                op = basis[basisIndices[testIndex]]\n",
    "                for j in indices:\n",
    "                    op -= calculator.calculate(operators[j], op, 'planar') * operators[j]\n",
    "                op.canonicalizeRadicalsInCoefficients()\n",
    "                cont =  len(op.coefficients) == 0\n",
    "                testIndex += 1\n",
    "            op /= sqrt(calculator.calculate(op, op, 'planar'))\n",
    "            op.canonicalizeRadicalsInCoefficients()\n",
    "            operators.append(op)\n",
    "            labels.append((currentFieldContent,p,i+1))\n",
    "            indices.append(len(operators)-1)\n",
    "\n",
    "basis22 = Basis(fieldContent, operators, labels)"
   ]
  },
  {
   "cell_type": "code",
   "execution_count": 145,
   "metadata": {
    "scrolled": true
   },
   "outputs": [
    {
     "name": "stdout",
     "output_type": "stream",
     "text": [
      "\\ytableausetup{boxsize=7pt}\n",
      "\\begin{align*}\n",
      "M_{\n",
      "\\fontsize{6pt}{0} \\begin{ytableau}\n",
      "1 & 1 & 2 & 2 \n",
      "\\end{ytableau} \\fontsize{12pt}{0} ,\n",
      "[4] ,\n",
      "1 } & =\n",
      " \\frac{1}{6} \\, \\sqrt{3} \\sqrt{2} \\left[\n",
      " 2 \\tr X^2 Y^2 \n",
      " + \\tr \\left( X Y \\right)^2 \n",
      "\\right] \\\\\n",
      " M_{\n",
      " \\fontsize{6pt}{0} \\begin{ytableau}\n",
      " 1 & 1 & 2 & 2 \n",
      "\\end{ytableau} \\fontsize{12pt}{0} ,\n",
      "[3, 1] ,\n",
      "1 } & =\n",
      " \\frac{1}{42} \\, \\sqrt{7} \\sqrt{3} \\sqrt{2} \\left[\n",
      " - 4 \\tr X^2 Y^2 \n",
      " - 2 \\tr \\left( X Y \\right)^2 \n",
      " + 3 \\tr X^2 Y \\tr Y \n",
      " + 3 \\tr X \\tr X Y^2 \n",
      " \\right] \\\\\n",
      " M_{\n",
      " \\fontsize{6pt}{0} \\begin{ytableau}\n",
      " 1 & 1 & 2 & 2 \n",
      "\\end{ytableau} \\fontsize{12pt}{0} ,\n",
      "[2, 2] ,\n",
      "1 } & =\n",
      " \\frac{1}{6} \\, \\sqrt{2} \\left[\n",
      " - 2 \\tr X^2 Y^2 \n",
      " - \\tr \\left( X Y \\right)^2 \n",
      " + 2 \\left( \\tr X Y \\right)^2 \n",
      " + \\tr X^2 \\tr Y^2 \n",
      " \\right] \\\\\n",
      " M_{\n",
      " \\fontsize{6pt}{0} \\begin{ytableau}\n",
      " 1 & 1 & 2 & 2 \n",
      "\\end{ytableau} \\fontsize{12pt}{0} ,\n",
      "[2, 1, 1] ,\n",
      "1 } & =\n",
      " \\frac{1}{60} \\, \\sqrt{5} \\sqrt{3} \\left[\n",
      " 8 \\tr X^2 Y^2 \n",
      " + 4 \\tr \\left( X Y \\right)^2 \n",
      " - 6 \\tr X^2 Y \\tr Y \n",
      " - 6 \\tr X \\tr X Y^2 \n",
      " - 4 \\left( \\tr X Y \\right)^2 \n",
      " - 2 \\tr X^2 \\tr Y^2 \n",
      " + \\tr X^2 \\left( \\tr Y \\right)^2 \n",
      " + 4 \\tr X \\tr X Y \\tr Y \n",
      " + \\left( \\tr X \\right)^2 \\tr Y^2 \n",
      "\\right] \\\\\n",
      " M_{\n",
      " \\fontsize{6pt}{0} \\begin{ytableau}\n",
      " 1 & 1 & 2 & 2 \n",
      "\\end{ytableau} \\fontsize{12pt}{0} ,\n",
      "[1, 1, 1, 1] ,\n",
      "1 } & =\n",
      " \\frac{1}{24} \\, \\sqrt{3} \\sqrt{2} \\left[\n",
      " - 4 \\tr X^2 Y^2 \n",
      " - 2 \\tr \\left( X Y \\right)^2 \n",
      " + 4 \\tr X^2 Y \\tr Y \n",
      " + 4 \\tr X \\tr X Y^2 \n",
      " + 2 \\left( \\tr X Y \\right)^2 \n",
      " + \\tr X^2 \\tr Y^2 \n",
      " - \\tr X^2 \\left( \\tr Y \\right)^2 \n",
      " - 4 \\tr X \\tr X Y \\tr Y \n",
      " - \\left( \\tr X \\right)^2 \\tr Y^2 \n",
      " + \\left( \\tr X \\right)^2 \\left( \\tr Y \\right)^2 \n",
      " \\right] \\\\\n",
      " M_{\n",
      " \\fontsize{6pt}{0} \\begin{ytableau}\n",
      " 1 & 1 & 2 \\\\ 2 \n",
      "\\end{ytableau} \\fontsize{12pt}{0} ,\n",
      "[3, 1] ,\n",
      "1 } & =\n",
      " \\frac{1}{2} \\, \\sqrt{2} \\left[\n",
      " \\tr X^2 Y \\tr Y \n",
      "- \\tr X \\tr X Y^2 \n",
      "\\right] \\\\\n",
      " M_{\n",
      " \\fontsize{6pt}{0} \\begin{ytableau}\n",
      " 1 & 1 & 2 \\\\ 2 \n",
      "\\end{ytableau} \\fontsize{12pt}{0} ,\n",
      "[2, 1, 1] ,\n",
      "1 } & =\n",
      " \\frac{1}{4} \\left[\n",
      " - 2 \\tr X^2 Y \\tr Y \n",
      " + 2 \\tr X \\tr X Y^2 \n",
      " + \\tr X^2 \\left( \\tr Y \\right)^2 \n",
      " - \\left( \\tr X \\right)^2 \\tr Y^2 \n",
      " \\right] \\\\\n",
      " M_{\n",
      " \\fontsize{6pt}{0} \\begin{ytableau}\n",
      " 1 & 1 \\\\ 2 & 2 \n",
      "\\end{ytableau} \\fontsize{12pt}{0} ,\n",
      "[2, 2] ,\n",
      "1 } & =\n",
      " \\frac{1}{6} \\, \\sqrt{3} \\sqrt{2} \\left[\n",
      " \\tr X^2 \\tr Y^2 \n",
      "- \\left( \\tr X Y \\right)^2 \n",
      "\\right] \\\\\n",
      " M_{\n",
      " \\fontsize{6pt}{0} \\begin{ytableau}\n",
      " 1 & 1 \\\\ 2 & 2 \n",
      "\\end{ytableau} \\fontsize{12pt}{0} ,\n",
      "[2, 1, 1] ,\n",
      "1 } & =\n",
      " \\frac{1}{6} \\left[\n",
      " - 2 \\tr X^2 \\tr Y^2 \n",
      " + \\tr X^2 \\left( \\tr Y \\right)^2 \n",
      " + 2 \\left( \\tr X Y \\right)^2 \n",
      " - 2 \\tr X \\tr X Y \\tr Y \n",
      " + \\left( \\tr X \\right)^2 \\tr Y^2 \n",
      " \\right] \\\\\n",
      " \\end{align*}\n",
      " \\ytableausetup{boxsize=normal}\n"
     ]
    }
   ],
   "source": [
    "basis = basis22\n",
    "operatorSymbol = 'M'\n",
    "labelType = ['semi-standard tableau', 'partition', 'multiplicity']\n",
    "\n",
    "output = '\\\\ytableausetup{boxsize=7pt}\\n'\n",
    "output += '\\\\begin{align*}\\n'\n",
    "for lbl, op in basis:\n",
    "    output += operatorSymbol + '_{\\n'\n",
    "    for i in range(len(labelType)):\n",
    "        if labelType[i] == 'semi-standard tableau':\n",
    "            content = [1 if j < basis.fieldContent[0] else 2 for j in range(sum(basis.fieldContent))]\n",
    "            output += '\\\\fontsize{6pt}{0} \\\\begin{ytableau}\\n'\n",
    "            for j in range(lbl[0][0]):\n",
    "                output += str(content[j]) + ' & '\n",
    "            output = output[:-2]\n",
    "            if lbl[0][1] > 0:\n",
    "                output += '\\\\\\\\ '\n",
    "                for j in range(lbl[0][1]):\n",
    "                    output += str(content[j + lbl[0][0]]) + ' & '\n",
    "                output = output[:-2]\n",
    "            output += '\\n\\\\end{ytableau} \\\\fontsize{12pt}{0} ,\\n'\n",
    "        if labelType[i] == 'partition':\n",
    "            output += str(lbl[i])\n",
    "            output += ' ,\\n'\n",
    "        if labelType[i] == 'multiplicity':\n",
    "            output += str(lbl[i])\n",
    "            output += ' ,\\n'\n",
    "    output = output[:-2]\n",
    "    output += '} & =\\n'\n",
    "    cf = gcd(op.coefficients)\n",
    "    if cf != 1:\n",
    "        output += latex(cf) + ' \\\\left[\\n'\n",
    "        output += latexString(1/cf * op) + '\\\\right] \\\\\\\\\\n'\n",
    "    else:\n",
    "        output += latexString(op) + '\\\\\\\\\\n'\n",
    "        \n",
    "    \n",
    "output += '\\\\end{align*}\\n'\n",
    "output += '\\\\ytableausetup{boxsize=normal}'\n",
    "print(output)"
   ]
  },
  {
   "cell_type": "code",
   "execution_count": 3,
   "metadata": {},
   "outputs": [],
   "source": [
    "fieldContent=[2,2]\n",
    "basis = GL2multiSymmetricBasis(fieldContent)\n",
    "totalfieldContent = sum(fieldContent)\n",
    "calculator = correlatorCalculator(fieldContent)"
   ]
  },
  {
   "cell_type": "code",
   "execution_count": 4,
   "metadata": {},
   "outputs": [
    {
     "name": "stdout",
     "output_type": "stream",
     "text": [
      "[4, 0]\n",
      "\n",
      "[[1, 1, 1, 1], [2, 1, 1], [2, 2], [3, 1], [4]]\n",
      "partition: [1, 1, 1, 1]\n",
      "multiplicity: 1\n",
      "basis index: 4\n",
      "before orthogonalising\n",
      "(-1/6*sqrt(3)*sqrt(2))(TrXXYY) + (-1/12*sqrt(3)*sqrt(2))(TrXYXY) + (1/6*sqrt(3)*sqrt(2))(TrXXY)(TrY) + (1/6*sqrt(3)*sqrt(2))(TrX)(TrXYY) + (1/12*sqrt(3)*sqrt(2))(TrXY)(TrXY) + (1/24*sqrt(3)*sqrt(2))(TrXX)(TrYY) + (-1/24*sqrt(3)*sqrt(2))(TrXX)(TrY)(TrY) + (-1/6*sqrt(3)*sqrt(2))(TrX)(TrXY)(TrY) + (-1/24*sqrt(3)*sqrt(2))(TrX)(TrX)(TrYY) + (1/24*sqrt(3)*sqrt(2))(TrX)(TrX)(TrY)(TrY)\n",
      "after orthogonalising\n",
      "(-1/6*sqrt(3)*sqrt(2))(TrXXYY) + (-1/12*sqrt(3)*sqrt(2))(TrXYXY) + (1/6*sqrt(3)*sqrt(2))(TrXXY)(TrY) + (1/6*sqrt(3)*sqrt(2))(TrX)(TrXYY) + (1/12*sqrt(3)*sqrt(2))(TrXY)(TrXY) + (1/24*sqrt(3)*sqrt(2))(TrXX)(TrYY) + (-1/24*sqrt(3)*sqrt(2))(TrXX)(TrY)(TrY) + (-1/6*sqrt(3)*sqrt(2))(TrX)(TrXY)(TrY) + (-1/24*sqrt(3)*sqrt(2))(TrX)(TrX)(TrYY) + (1/24*sqrt(3)*sqrt(2))(TrX)(TrX)(TrY)(TrY)\n",
      "partition: [2, 1, 1]\n",
      "multiplicity: 1\n",
      "basis index: 3\n",
      "before orthogonalising\n",
      "(2/15*sqrt(5)*sqrt(3))(TrXXYY) + (1/15*sqrt(5)*sqrt(3))(TrXYXY) + (-1/10*sqrt(5)*sqrt(3))(TrXXY)(TrY) + (-1/10*sqrt(5)*sqrt(3))(TrX)(TrXYY) + (-1/15*sqrt(5)*sqrt(3))(TrXY)(TrXY) + (-1/30*sqrt(5)*sqrt(3))(TrXX)(TrYY) + (1/60*sqrt(5)*sqrt(3))(TrXX)(TrY)(TrY) + (1/15*sqrt(5)*sqrt(3))(TrX)(TrXY)(TrY) + (1/60*sqrt(5)*sqrt(3))(TrX)(TrX)(TrYY)\n",
      "Orthogonalising against: [[4, 0], [1, 1, 1, 1], 1]\n",
      "after orthogonalising\n",
      "(1/6*sqrt(3)*sqrt(2))(TrXXYY) + (1/12*sqrt(3)*sqrt(2))(TrXYXY) + (-1/12*sqrt(3)*sqrt(2))(TrXY)(TrXY) + (-1/24*sqrt(3)*sqrt(2))(TrXX)(TrYY) + (-1/24*sqrt(3)*sqrt(2))(TrXX)(TrY)(TrY) + (-1/6*sqrt(3)*sqrt(2))(TrX)(TrXY)(TrY) + (-1/24*sqrt(3)*sqrt(2))(TrX)(TrX)(TrYY) + (1/8*sqrt(3)*sqrt(2))(TrX)(TrX)(TrY)(TrY)\n",
      "partition: [2, 2]\n",
      "multiplicity: 1\n",
      "basis index: 2\n",
      "before orthogonalising\n",
      "(-1/3*sqrt(2))(TrXXYY) + (-1/6*sqrt(2))(TrXYXY) + (1/3*sqrt(2))(TrXY)(TrXY) + (1/6*sqrt(2))(TrXX)(TrYY)\n",
      "Orthogonalising against: [[4, 0], [1, 1, 1, 1], 1]\n",
      "Orthogonalising against: [[4, 0], [2, 1, 1], 1]\n",
      "after orthogonalising\n",
      "(1/6*sqrt(3)*sqrt(2))(TrXY)(TrXY) + (1/12*sqrt(3)*sqrt(2))(TrXX)(TrYY) + (-1/6*sqrt(3)*sqrt(2))(TrXXY)(TrY) + (-1/6*sqrt(3)*sqrt(2))(TrX)(TrXYY) + (1/12*sqrt(3)*sqrt(2))(TrX)(TrX)(TrY)(TrY)\n",
      "partition: [3, 1]\n",
      "multiplicity: 1\n",
      "basis index: 1\n",
      "before orthogonalising\n",
      "(-2/21*sqrt(7)*sqrt(3)*sqrt(2))(TrXXYY) + (-1/21*sqrt(7)*sqrt(3)*sqrt(2))(TrXYXY) + (1/14*sqrt(7)*sqrt(3)*sqrt(2))(TrXXY)(TrY) + (1/14*sqrt(7)*sqrt(3)*sqrt(2))(TrX)(TrXYY)\n",
      "Orthogonalising against: [[4, 0], [1, 1, 1, 1], 1]\n",
      "Orthogonalising against: [[4, 0], [2, 1, 1], 1]\n",
      "Orthogonalising against: [[4, 0], [2, 2], 1]\n",
      "after orthogonalising\n",
      "(-1/6*sqrt(3)*sqrt(2))(TrXXYY) + (-1/12*sqrt(3)*sqrt(2))(TrXYXY) + (-1/12*sqrt(3)*sqrt(2))(TrXY)(TrXY) + (-1/24*sqrt(3)*sqrt(2))(TrXX)(TrYY) + (1/24*sqrt(3)*sqrt(2))(TrXX)(TrY)(TrY) + (1/6*sqrt(3)*sqrt(2))(TrX)(TrXY)(TrY) + (1/24*sqrt(3)*sqrt(2))(TrX)(TrX)(TrYY) + (1/8*sqrt(3)*sqrt(2))(TrX)(TrX)(TrY)(TrY)\n",
      "partition: [4]\n",
      "multiplicity: 1\n",
      "basis index: 0\n",
      "before orthogonalising\n",
      "(1/3*sqrt(3)*sqrt(2))(TrXXYY) + (1/6*sqrt(3)*sqrt(2))(TrXYXY)\n",
      "Orthogonalising against: [[4, 0], [1, 1, 1, 1], 1]\n",
      "Orthogonalising against: [[4, 0], [2, 1, 1], 1]\n",
      "Orthogonalising against: [[4, 0], [2, 2], 1]\n",
      "Orthogonalising against: [[4, 0], [3, 1], 1]\n",
      "after orthogonalising\n",
      "(1/6*sqrt(3)*sqrt(2))(TrXXYY) + (1/12*sqrt(3)*sqrt(2))(TrXYXY) + (1/6*sqrt(3)*sqrt(2))(TrXXY)(TrY) + (1/6*sqrt(3)*sqrt(2))(TrX)(TrXYY) + (1/12*sqrt(3)*sqrt(2))(TrXY)(TrXY) + (1/24*sqrt(3)*sqrt(2))(TrXX)(TrYY) + (1/24*sqrt(3)*sqrt(2))(TrX)(TrX)(TrY)(TrY) + (1/24*sqrt(3)*sqrt(2))(TrXX)(TrY)(TrY) + (1/6*sqrt(3)*sqrt(2))(TrX)(TrXY)(TrY) + (1/24*sqrt(3)*sqrt(2))(TrX)(TrX)(TrYY)\n",
      "\n",
      "[3, 1]\n",
      "\n",
      "[[2, 1, 1], [3, 1]]\n",
      "partition: [2, 1, 1]\n",
      "multiplicity: 1\n",
      "basis index: 6\n",
      "before orthogonalising\n",
      "(-1/2)(TrXXY)(TrY) + (1/2)(TrX)(TrXYY) + (1/4)(TrXX)(TrY)(TrY) + (-1/4)(TrX)(TrX)(TrYY)\n",
      "after orthogonalising\n",
      "(-1/2)(TrXXY)(TrY) + (1/2)(TrX)(TrXYY) + (1/4)(TrXX)(TrY)(TrY) + (-1/4)(TrX)(TrX)(TrYY)\n",
      "partition: [3, 1]\n",
      "multiplicity: 1\n",
      "basis index: 5\n",
      "before orthogonalising\n",
      "(1/2*sqrt(2))(TrXXY)(TrY) + (-1/2*sqrt(2))(TrX)(TrXYY)\n",
      "Orthogonalising against: [[3, 1], [2, 1, 1], 1]\n",
      "after orthogonalising\n",
      "(1/2)(TrXXY)(TrY) + (-1/2)(TrX)(TrXYY) + (1/4)(TrXX)(TrY)(TrY) + (-1/4)(TrX)(TrX)(TrYY)\n",
      "\n",
      "[2, 2]\n",
      "\n",
      "[[2, 1, 1], [2, 2]]\n",
      "partition: [2, 1, 1]\n",
      "multiplicity: 1\n",
      "basis index: 8\n",
      "before orthogonalising\n",
      "(-1/3)(TrXX)(TrYY) + (1/6)(TrXX)(TrY)(TrY) + (1/3)(TrXY)(TrXY) + (-1/3)(TrX)(TrXY)(TrY) + (1/6)(TrX)(TrX)(TrYY)\n",
      "after orthogonalising\n",
      "(-1/3)(TrXX)(TrYY) + (1/6)(TrXX)(TrY)(TrY) + (1/3)(TrXY)(TrXY) + (-1/3)(TrX)(TrXY)(TrY) + (1/6)(TrX)(TrX)(TrYY)\n",
      "partition: [2, 2]\n",
      "multiplicity: 1\n",
      "basis index: 7\n",
      "before orthogonalising\n",
      "(1/6*sqrt(3)*sqrt(2))(TrXX)(TrYY) + (-1/6*sqrt(3)*sqrt(2))(TrXY)(TrXY)\n",
      "Orthogonalising against: [[2, 2], [2, 1, 1], 1]\n",
      "after orthogonalising\n",
      "(1/6*sqrt(3)*sqrt(2)*(N^2 + 2*N - 2)/sqrt(3*N^4 + 8*N^3 + 2*N^2 - 8*N + 4))(TrXX)(TrYY) + (-1/6*sqrt(3)*sqrt(2)*(N^2 + 2*N - 2)/sqrt(3*N^4 + 8*N^3 + 2*N^2 - 8*N + 4))(TrXY)(TrXY) + (1/6*sqrt(3)*sqrt(2)*(N + 1)*N/sqrt(3*N^4 + 8*N^3 + 2*N^2 - 8*N + 4))(TrXX)(TrY)(TrY) + (-1/3*sqrt(3)*sqrt(2)*(N + 1)*N/sqrt(3*N^4 + 8*N^3 + 2*N^2 - 8*N + 4))(TrX)(TrXY)(TrY) + (1/6*sqrt(3)*sqrt(2)*(N + 1)*N/sqrt(3*N^4 + 8*N^3 + 2*N^2 - 8*N + 4))(TrX)(TrX)(TrYY)\n",
      "\n"
     ]
    }
   ],
   "source": [
    "fieldContent=[2,2]\n",
    "basis = GL2multiSymmetricBasis(fieldContent)\n",
    "totalfieldContent = sum(fieldContent)\n",
    "calculator = correlatorCalculator(fieldContent)\n",
    "operators = []\n",
    "labels = []\n",
    "for lambda1 in range(fieldContent[1]+1):\n",
    "    Lambda = [totalfieldContent-lambda1, lambda1]\n",
    "    operatorsByLambda = []\n",
    "    labelsByLambda = []\n",
    "    print(Lambda)\n",
    "    print('')\n",
    "    indicesByPartition = {}\n",
    "    for i in range(len(basis)):\n",
    "        if basis.labels[i][0] == Lambda:\n",
    "            if basis.labels[i][1] in indicesByPartition:\n",
    "                indicesByPartition[basis.labels[i][1]].append(i)\n",
    "            else: \n",
    "                indicesByPartition.update({basis.labels[i][1]:[i]})\n",
    "    partitions = indicesByPartition.keys()\n",
    "    partitions.sort(key=transposePartition,reverse=True)\n",
    "    print(partitions)\n",
    "    for p in partitions:\n",
    "        print('partition: ' + str(p))\n",
    "        for mult in range(len(indicesByPartition[p])):\n",
    "            print('multiplicity: ' + str(mult+1))\n",
    "            index = indicesByPartition[p][mult]\n",
    "            print('basis index: ' + str(index))\n",
    "            op = basis[index]\n",
    "            print('before orthogonalising')\n",
    "            print(op)\n",
    "            for i in range(len(operatorsByLambda)):\n",
    "                op1 = operatorsByLambda[i]\n",
    "                print('Orthogonalising against: ' + str(labelsByLambda[i]))\n",
    "                op -= calculator.calculate(op,op1,'G')/calculator.calculate(op1,op1,'G') * op1\n",
    "            op.expandCoefficients()\n",
    "            op.canonicalizeRadicalsInCoefficients()\n",
    "            op.factorCoefficients()\n",
    "            op /= sqrt(calculator.calculate(op,op,'planar'))\n",
    "            op.expandCoefficients()\n",
    "            op.canonicalizeRadicalsInCoefficients()\n",
    "            op.factorCoefficients()\n",
    "            operatorsByLambda.append(op)\n",
    "            labelsByLambda.append([Lambda,p,mult+1])\n",
    "            print('after orthogonalising')\n",
    "            print(op)\n",
    "    operators += operatorsByLambda\n",
    "    labels += labelsByLambda\n",
    "    print('')\n",
    "\n",
    "finalBasis = Basis(fieldContent, operators, labels)\n",
    "    "
   ]
  },
  {
   "cell_type": "code",
   "execution_count": 11,
   "metadata": {
    "scrolled": true
   },
   "outputs": [
    {
     "data": {
      "text/plain": [
       "\\ytableausetup{boxsize=7pt}\n",
       "\\begin{align*}\n",
       "O_{\n",
       "\\fontsize{6pt}{0} \\begin{ytableau}\n",
       "1 & 1 & 2 & 2 \n",
       "\\end{ytableau} \\fontsize{12pt}{0} ,\n",
       "[1, 1, 1, 1] ,\n",
       "1 } & =\n",
       " \\frac{1}{24} \\, \\sqrt{3} \\sqrt{2} \\left[\n",
       " - 4 \\tr X^2 Y^2 \n",
       " - 2 \\tr \\left( X Y \\right)^2 \n",
       " + 4 \\tr X^2 Y \\tr Y \n",
       " + 4 \\tr X \\tr X Y^2 \n",
       " + 2 \\left( \\tr X Y \\right)^2 \n",
       " + \\tr X^2 \\tr Y^2 \n",
       " - \\tr X^2 \\left( \\tr Y \\right)^2 \n",
       " - 4 \\tr X \\tr X Y \\tr Y \n",
       " - \\left( \\tr X \\right)^2 \\tr Y^2 \n",
       " + \\left( \\tr X \\right)^2 \\left( \\tr Y \\right)^2 \n",
       " \\right] \\\\\n",
       " O_{\n",
       " \\fontsize{6pt}{0} \\begin{ytableau}\n",
       " 1 & 1 & 2 & 2 \n",
       "\\end{ytableau} \\fontsize{12pt}{0} ,\n",
       "[2, 1, 1] ,\n",
       "1 } & =\n",
       " \\frac{1}{24} \\, \\sqrt{3} \\sqrt{2} \\left[\n",
       " 4 \\tr X^2 Y^2 \n",
       " + 2 \\tr \\left( X Y \\right)^2 \n",
       " - 2 \\left( \\tr X Y \\right)^2 \n",
       " - \\tr X^2 \\tr Y^2 \n",
       " - \\tr X^2 \\left( \\tr Y \\right)^2 \n",
       " - 4 \\tr X \\tr X Y \\tr Y \n",
       " - \\left( \\tr X \\right)^2 \\tr Y^2 \n",
       " + 3 \\left( \\tr X \\right)^2 \\left( \\tr Y \\right)^2 \n",
       "\\right] \\\\\n",
       " O_{\n",
       " \\fontsize{6pt}{0} \\begin{ytableau}\n",
       " 1 & 1 & 2 & 2 \n",
       "\\end{ytableau} \\fontsize{12pt}{0} ,\n",
       "[2, 2] ,\n",
       "1 } & =\n",
       " \\frac{1}{12} \\, \\sqrt{3} \\sqrt{2} \\left[\n",
       " 2 \\left( \\tr X Y \\right)^2 \n",
       " + \\tr X^2 \\tr Y^2 \n",
       " - 2 \\tr X^2 Y \\tr Y \n",
       " - 2 \\tr X \\tr X Y^2 \n",
       " + \\left( \\tr X \\right)^2 \\left( \\tr Y \\right)^2 \n",
       "\\right] \\\\\n",
       " O_{\n",
       " \\fontsize{6pt}{0} \\begin{ytableau}\n",
       " 1 & 1 & 2 & 2 \n",
       "\\end{ytableau} \\fontsize{12pt}{0} ,\n",
       "[3, 1] ,\n",
       "1 } & =\n",
       " \\frac{1}{24} \\, \\sqrt{3} \\sqrt{2} \\left[\n",
       " - 4 \\tr X^2 Y^2 \n",
       " - 2 \\tr \\left( X Y \\right)^2 \n",
       " - 2 \\left( \\tr X Y \\right)^2 \n",
       " - \\tr X^2 \\tr Y^2 \n",
       " + \\tr X^2 \\left( \\tr Y \\right)^2 \n",
       " + 4 \\tr X \\tr X Y \\tr Y \n",
       " + \\left( \\tr X \\right)^2 \\tr Y^2 \n",
       " + 3 \\left( \\tr X \\right)^2 \\left( \\tr Y \\right)^2 \n",
       " \\right] \\\\\n",
       " O_{\n",
       " \\fontsize{6pt}{0} \\begin{ytableau}\n",
       " 1 & 1 & 2 & 2 \n",
       "\\end{ytableau} \\fontsize{12pt}{0} ,\n",
       "[4] ,\n",
       "1 } & =\n",
       " \\frac{1}{24} \\, \\sqrt{3} \\sqrt{2} \\left[\n",
       " 4 \\tr X^2 Y^2 \n",
       " + 2 \\tr \\left( X Y \\right)^2 \n",
       " + 4 \\tr X^2 Y \\tr Y \n",
       " + 4 \\tr X \\tr X Y^2 \n",
       " + 2 \\left( \\tr X Y \\right)^2 \n",
       " + \\tr X^2 \\tr Y^2 \n",
       " + \\left( \\tr X \\right)^2 \\left( \\tr Y \\right)^2 \n",
       " + \\tr X^2 \\left( \\tr Y \\right)^2 \n",
       " + 4 \\tr X \\tr X Y \\tr Y \n",
       " + \\left( \\tr X \\right)^2 \\tr Y^2 \n",
       "\\right] \\\\\n",
       " O_{\n",
       " \\fontsize{6pt}{0} \\begin{ytableau}\n",
       " 1 & 1 & 2 \\\\ 2 \n",
       "\\end{ytableau} \\fontsize{12pt}{0} ,\n",
       "[2, 1, 1] ,\n",
       "1 } & =\n",
       " \\frac{1}{4} \\left[\n",
       " - 2 \\tr X^2 Y \\tr Y \n",
       " + 2 \\tr X \\tr X Y^2 \n",
       " + \\tr X^2 \\left( \\tr Y \\right)^2 \n",
       " - \\left( \\tr X \\right)^2 \\tr Y^2 \n",
       " \\right] \\\\\n",
       " O_{\n",
       " \\fontsize{6pt}{0} \\begin{ytableau}\n",
       " 1 & 1 & 2 \\\\ 2 \n",
       "\\end{ytableau} \\fontsize{12pt}{0} ,\n",
       "[3, 1] ,\n",
       "1 } & =\n",
       " \\frac{1}{4} \\left[\n",
       " 2 \\tr X^2 Y \\tr Y \n",
       " - 2 \\tr X \\tr X Y^2 \n",
       " + \\tr X^2 \\left( \\tr Y \\right)^2 \n",
       " - \\left( \\tr X \\right)^2 \\tr Y^2 \n",
       "\\right] \\\\\n",
       " O_{\n",
       " \\fontsize{6pt}{0} \\begin{ytableau}\n",
       " 1 & 1 \\\\ 2 & 2 \n",
       "\\end{ytableau} \\fontsize{12pt}{0} ,\n",
       "[2, 1, 1] ,\n",
       "1 } & =\n",
       " \\frac{1}{6} \\left[\n",
       " - 2 \\tr X^2 \\tr Y^2 \n",
       " + \\tr X^2 \\left( \\tr Y \\right)^2 \n",
       " + 2 \\left( \\tr X Y \\right)^2 \n",
       " - 2 \\tr X \\tr X Y \\tr Y \n",
       " + \\left( \\tr X \\right)^2 \\tr Y^2 \n",
       " \\right] \\\\\n",
       " O_{\n",
       " \\fontsize{6pt}{0} \\begin{ytableau}\n",
       " 1 & 1 \\\\ 2 & 2 \n",
       "\\end{ytableau} \\fontsize{12pt}{0} ,\n",
       "[2, 2] ,\n",
       "1 } & =\n",
       " \\frac{\\sqrt{3} \\sqrt{2}}{\\sqrt{3 \\, N^{4} + 8 \\, N^{3} + 2 \\, N^{2} - 8 \\, N + 4}} \\left[\n",
       " \\left( \\frac{1}{6} \\, N^{2} + \\frac{1}{3} \\, N - \\frac{1}{3} \\right) \\tr X^2 \\tr Y^2 \n",
       " + \\left( -\\frac{1}{6} \\, N^{2} - \\frac{1}{3} \\, N + \\frac{1}{3} \\right) \\left( \\tr X Y \\right)^2 \n",
       " + \\left( \\frac{1}{6} \\, {\\left(N + 1\\right)} N \\right) \\tr X^2 \\left( \\tr Y \\right)^2 \n",
       " + \\left( -\\frac{1}{3} \\, {\\left(N + 1\\right)} N \\right) \\tr X \\tr X Y \\tr Y \n",
       " + \\left( \\frac{1}{6} \\, {\\left(N + 1\\right)} N \\right) \\left( \\tr X \\right)^2 \\tr Y^2 \n",
       "\\right] \\\\\n",
       " \\end{align*}\n",
       " \\ytableausetup{boxsize=normal}"
      ]
     },
     "execution_count": 11,
     "metadata": {},
     "output_type": "execute_result"
    }
   ],
   "source": [
    "#Fully orthogonalised basis for field content (2,2)\n",
    "latexString(finalBasis,'O',['semi-standard tableau','partition','multiplicity'])"
   ]
  },
  {
   "cell_type": "code",
   "execution_count": 28,
   "metadata": {},
   "outputs": [
    {
     "name": "stdout",
     "output_type": "stream",
     "text": [
      "(True, [[3, 1], [2, 1, 1], 1], 1/((N + 1)*(N - 1)*(N - 2)*N), 1/((N + 1)*(N - 1)*(N - 2)*N))\n",
      "(True, [[3, 1], [3, 1], 1], 1/((N + 2)*(N + 1)*(N - 1)*N), 1/((N + 2)*(N + 1)*(N - 1)*N))\n"
     ]
    }
   ],
   "source": [
    "#Checking [n-1,1] orthogonalisation for field content (2,2)\n",
    "n=4\n",
    "for lbl, op in finalBasis:\n",
    "    if lbl[0] == [n-1,1]:\n",
    "        p = lbl[1]\n",
    "        norm = 1\n",
    "        for i in range(len(p)):\n",
    "            for j in range(p[i]):\n",
    "                norm *= 1/(N-i+j)\n",
    "        calculatedNorm = calculator.calculate(op,op,'G')\n",
    "        matching = [Rational(norm(N=n+i)) == Rational(calculatedNorm(N=n+i)) for i in range(n+1)]\n",
    "            \n",
    "        print(all(matching),lbl,norm,calculatedNorm )\n"
   ]
  },
  {
   "cell_type": "code",
   "execution_count": 31,
   "metadata": {},
   "outputs": [
    {
     "data": {
      "text/plain": [
       "\\ytableausetup{boxsize=7pt}\n",
       "\\begin{align*}\n",
       "O_{\n",
       "\\fontsize{6pt}{0} \\begin{ytableau}\n",
       "1 & 1 & 1 & 2 & 2 \n",
       "\\end{ytableau} \\fontsize{12pt}{0} ,\n",
       "[1, 1, 1, 1, 1] ,\n",
       "1 } & =\n",
       " \\frac{1}{120} \\, \\sqrt{5} \\sqrt{2} \\left[\n",
       " 12 \\tr X^3 Y^2 \n",
       " + 12 \\tr X^2 Y X Y \n",
       " - 12 \\tr X^3 Y \\tr Y \n",
       " - 12 \\tr X \\tr X^2 Y^2 \n",
       " - 6 \\tr X \\tr \\left( X Y \\right)^2 \n",
       " - 12 \\tr X^2 Y \\tr X Y \n",
       " - 2 \\tr X^3 \\tr Y^2 \n",
       " - 6 \\tr X^2 \\tr X Y^2 \n",
       " + 2 \\tr X^3 \\left( \\tr Y \\right)^2 \n",
       " + 12 \\tr X \\tr X^2 Y \\tr Y \n",
       " + 6 \\left( \\tr X \\right)^2 \\tr X Y^2 \n",
       " + 6 \\tr X^2 \\tr X Y \\tr Y \n",
       " + 6 \\tr X \\left( \\tr X Y \\right)^2 \n",
       " + 3 \\tr X \\tr X^2 \\tr Y^2 \n",
       " - 3 \\tr X \\tr X^2 \\left( \\tr Y \\right)^2 \n",
       " - 6 \\left( \\tr X \\right)^2 \\tr X Y \\tr Y \n",
       " - \\left( \\tr X \\right)^3 \\tr Y^2 \n",
       " + \\left( \\tr X \\right)^3 \\left( \\tr Y \\right)^2 \n",
       "\\right] \\\\\n",
       " O_{\n",
       " \\fontsize{6pt}{0} \\begin{ytableau}\n",
       " 1 & 1 & 1 & 2 & 2 \n",
       "\\end{ytableau} \\fontsize{12pt}{0} ,\n",
       "[2, 1, 1, 1] ,\n",
       "1 } & =\n",
       " \\frac{1}{60} \\, \\sqrt{5} \\sqrt{2} \\left[\n",
       " - 6 \\tr X^3 Y^2 \n",
       " - 6 \\tr X^2 Y X Y \n",
       " + 6 \\tr X^2 Y \\tr X Y \n",
       " + \\tr X^3 \\tr Y^2 \n",
       " + 3 \\tr X^2 \\tr X Y^2 \n",
       " + \\tr X^3 \\left( \\tr Y \\right)^2 \n",
       " + 6 \\tr X \\tr X^2 Y \\tr Y \n",
       " + 3 \\left( \\tr X \\right)^2 \\tr X Y^2 \n",
       " - 3 \\tr X \\tr X^2 \\left( \\tr Y \\right)^2 \n",
       " - 6 \\left( \\tr X \\right)^2 \\tr X Y \\tr Y \n",
       " - \\left( \\tr X \\right)^3 \\tr Y^2 \n",
       " + 2 \\left( \\tr X \\right)^3 \\left( \\tr Y \\right)^2 \n",
       " \\right] \\\\\n",
       " O_{\n",
       " \\fontsize{6pt}{0} \\begin{ytableau}\n",
       " 1 & 1 & 1 & 2 & 2 \n",
       "\\end{ytableau} \\fontsize{12pt}{0} ,\n",
       "[2, 2, 1] ,\n",
       "1 } & =\n",
       " \\frac{1}{120} \\, \\sqrt{5} \\sqrt{2} \\left[\n",
       " 12 \\tr X^3 Y \\tr Y \n",
       " + 12 \\tr X \\tr X^2 Y^2 \n",
       " + 6 \\tr X \\tr \\left( X Y \\right)^2 \n",
       " - 12 \\tr X^2 Y \\tr X Y \n",
       " - 2 \\tr X^3 \\tr Y^2 \n",
       " - 6 \\tr X^2 \\tr X Y^2 \n",
       " + 6 \\tr X^2 \\tr X Y \\tr Y \n",
       " + 6 \\tr X \\left( \\tr X Y \\right)^2 \n",
       " + 3 \\tr X \\tr X^2 \\tr Y^2 \n",
       " - 2 \\tr X^3 \\left( \\tr Y \\right)^2 \n",
       " - 12 \\tr X \\tr X^2 Y \\tr Y \n",
       " - 6 \\left( \\tr X \\right)^2 \\tr X Y^2 \n",
       " - 3 \\tr X \\tr X^2 \\left( \\tr Y \\right)^2 \n",
       " - 6 \\left( \\tr X \\right)^2 \\tr X Y \\tr Y \n",
       " - \\left( \\tr X \\right)^3 \\tr Y^2 \n",
       " + 5 \\left( \\tr X \\right)^3 \\left( \\tr Y \\right)^2 \n",
       "\\right] \\\\\n",
       " O_{\n",
       " \\fontsize{6pt}{0} \\begin{ytableau}\n",
       " 1 & 1 & 1 & 2 & 2 \n",
       "\\end{ytableau} \\fontsize{12pt}{0} ,\n",
       "[3, 1, 1] ,\n",
       "1 } & =\n",
       " \\frac{1}{20} \\, \\sqrt{5} \\sqrt{2} \\left[\n",
       " 2 \\tr X^3 Y^2 \n",
       " + 2 \\tr X^2 Y X Y \n",
       " - 2 \\tr X^2 \\tr X Y \\tr Y \n",
       " - 2 \\tr X \\left( \\tr X Y \\right)^2 \n",
       " - \\tr X \\tr X^2 \\tr Y^2 \n",
       " + \\left( \\tr X \\right)^3 \\left( \\tr Y \\right)^2 \n",
       "\\right] \\\\\n",
       " O_{\n",
       " \\fontsize{6pt}{0} \\begin{ytableau}\n",
       " 1 & 1 & 1 & 2 & 2 \n",
       "\\end{ytableau} \\fontsize{12pt}{0} ,\n",
       "[3, 2] ,\n",
       "1 } & =\n",
       " \\frac{1}{120} \\, \\sqrt{5} \\sqrt{2} \\left[\n",
       " 12 \\tr X^2 Y \\tr X Y \n",
       " + 2 \\tr X^3 \\tr Y^2 \n",
       " + 6 \\tr X^2 \\tr X Y^2 \n",
       " - 12 \\tr X^3 Y \\tr Y \n",
       " - 12 \\tr X \\tr X^2 Y^2 \n",
       " - 6 \\tr X \\tr \\left( X Y \\right)^2 \n",
       " + 6 \\tr X^2 \\tr X Y \\tr Y \n",
       " + 6 \\tr X \\left( \\tr X Y \\right)^2 \n",
       " + 3 \\tr X \\tr X^2 \\tr Y^2 \n",
       " + 3 \\tr X \\tr X^2 \\left( \\tr Y \\right)^2 \n",
       " + 6 \\left( \\tr X \\right)^2 \\tr X Y \\tr Y \n",
       " + \\left( \\tr X \\right)^3 \\tr Y^2 \n",
       " + 5 \\left( \\tr X \\right)^3 \\left( \\tr Y \\right)^2 \n",
       " - 2 \\tr X^3 \\left( \\tr Y \\right)^2 \n",
       " - 12 \\tr X \\tr X^2 Y \\tr Y \n",
       " - 6 \\left( \\tr X \\right)^2 \\tr X Y^2 \n",
       "\\right] \\\\\n",
       " O_{\n",
       " \\fontsize{6pt}{0} \\begin{ytableau}\n",
       " 1 & 1 & 1 & 2 & 2 \n",
       "\\end{ytableau} \\fontsize{12pt}{0} ,\n",
       "[4, 1] ,\n",
       "1 } & =\n",
       " \\frac{1}{60} \\, \\sqrt{5} \\sqrt{2} \\left[\n",
       " - 6 \\tr X^3 Y^2 \n",
       " - 6 \\tr X^2 Y X Y \n",
       " - 6 \\tr X^2 Y \\tr X Y \n",
       " - \\tr X^3 \\tr Y^2 \n",
       " - 3 \\tr X^2 \\tr X Y^2 \n",
       " + \\tr X^3 \\left( \\tr Y \\right)^2 \n",
       " + 6 \\tr X \\tr X^2 Y \\tr Y \n",
       " + 3 \\left( \\tr X \\right)^2 \\tr X Y^2 \n",
       " + 2 \\left( \\tr X \\right)^3 \\left( \\tr Y \\right)^2 \n",
       " + 3 \\tr X \\tr X^2 \\left( \\tr Y \\right)^2 \n",
       " + 6 \\left( \\tr X \\right)^2 \\tr X Y \\tr Y \n",
       " + \\left( \\tr X \\right)^3 \\tr Y^2 \n",
       " \\right] \\\\\n",
       " O_{\n",
       " \\fontsize{6pt}{0} \\begin{ytableau}\n",
       " 1 & 1 & 1 & 2 & 2 \n",
       "\\end{ytableau} \\fontsize{12pt}{0} ,\n",
       "[5] ,\n",
       "1 } & =\n",
       " \\frac{1}{120} \\, \\sqrt{5} \\sqrt{2} \\left[\n",
       " 12 \\tr X^3 Y^2 \n",
       " + 12 \\tr X^2 Y X Y \n",
       " + 12 \\tr X^3 Y \\tr Y \n",
       " + 12 \\tr X \\tr X^2 Y^2 \n",
       " + 6 \\tr X \\tr \\left( X Y \\right)^2 \n",
       " + 12 \\tr X^2 Y \\tr X Y \n",
       " + 2 \\tr X^3 \\tr Y^2 \n",
       " + 6 \\tr X^2 \\tr X Y^2 \n",
       " + 6 \\tr X^2 \\tr X Y \\tr Y \n",
       " + 6 \\tr X \\left( \\tr X Y \\right)^2 \n",
       " + 3 \\tr X \\tr X^2 \\tr Y^2 \n",
       " + 3 \\tr X \\tr X^2 \\left( \\tr Y \\right)^2 \n",
       " + 6 \\left( \\tr X \\right)^2 \\tr X Y \\tr Y \n",
       " + \\left( \\tr X \\right)^3 \\tr Y^2 \n",
       " + \\left( \\tr X \\right)^3 \\left( \\tr Y \\right)^2 \n",
       " + 2 \\tr X^3 \\left( \\tr Y \\right)^2 \n",
       " + 12 \\tr X \\tr X^2 Y \\tr Y \n",
       " + 6 \\left( \\tr X \\right)^2 \\tr X Y^2 \n",
       "\\right] \\\\\n",
       " O_{\n",
       " \\fontsize{6pt}{0} \\begin{ytableau}\n",
       " 1 & 1 & 1 & 2 \\\\ 2 \n",
       "\\end{ytableau} \\fontsize{12pt}{0} ,\n",
       "[2, 1, 1, 1] ,\n",
       "1 } & =\n",
       " \\frac{1}{30} \\, \\sqrt{5} \\left[\n",
       " 6 \\tr X^3 Y \\tr Y \n",
       " - 4 \\tr X \\tr X^2 Y^2 \n",
       " - 2 \\tr X \\tr \\left( X Y \\right)^2 \n",
       " - 2 \\tr X^3 \\left( \\tr Y \\right)^2 \n",
       " - 2 \\tr X \\tr X^2 Y \\tr Y \n",
       " - 3 \\tr X^2 \\tr X Y \\tr Y \n",
       " + 4 \\left( \\tr X \\right)^2 \\tr X Y^2 \n",
       " + 2 \\tr X \\left( \\tr X Y \\right)^2 \n",
       " + \\tr X \\tr X^2 \\tr Y^2 \n",
       " + 2 \\tr X \\tr X^2 \\left( \\tr Y \\right)^2 \n",
       " - \\left( \\tr X \\right)^2 \\tr X Y \\tr Y \n",
       " - \\left( \\tr X \\right)^3 \\tr Y^2 \n",
       "\\right] \\\\\n",
       " O_{\n",
       " \\fontsize{6pt}{0} \\begin{ytableau}\n",
       " 1 & 1 & 1 & 2 \\\\ 2 \n",
       "\\end{ytableau} \\fontsize{12pt}{0} ,\n",
       "[2, 2, 1] ,\n",
       "1 } & =\n",
       " \\frac{1}{60} \\, \\sqrt{5} \\sqrt{2} \\left[\n",
       " - 3 \\tr X^3 Y \\tr Y \n",
       " + 3 \\tr X^2 Y \\tr X Y \n",
       " - 6 \\tr X^2 \\tr X Y^2 \n",
       " + 6 \\tr X^2 \\tr X Y \\tr Y \n",
       " + 2 \\tr X \\tr X^2 Y^2 \n",
       " + \\tr X \\tr \\left( X Y \\right)^2 \n",
       " + 3 \\tr X^3 \\tr Y^2 \n",
       " - 4 \\tr X \\left( \\tr X Y \\right)^2 \n",
       " - 2 \\tr X \\tr X^2 \\tr Y^2 \n",
       " - 2 \\tr X^3 \\left( \\tr Y \\right)^2 \n",
       " - 2 \\tr X \\tr X^2 Y \\tr Y \n",
       " + 4 \\left( \\tr X \\right)^2 \\tr X Y^2 \n",
       " + 2 \\tr X \\tr X^2 \\left( \\tr Y \\right)^2 \n",
       " - \\left( \\tr X \\right)^2 \\tr X Y \\tr Y \n",
       " - \\left( \\tr X \\right)^3 \\tr Y^2 \n",
       " \\right] \\\\\n",
       " O_{\n",
       " \\fontsize{6pt}{0} \\begin{ytableau}\n",
       " 1 & 1 & 1 & 2 \\\\ 2 \n",
       "\\end{ytableau} \\fontsize{12pt}{0} ,\n",
       "[3, 1, 1] ,\n",
       "1 } & =\n",
       " \\frac{1}{30} \\, \\sqrt{5} \\sqrt{3} \\left[\n",
       " - 3 \\tr X^3 Y \\tr Y \n",
       " + 2 \\tr X \\tr X^2 Y^2 \n",
       " + \\tr X \\tr \\left( X Y \\right)^2 \n",
       " - \\tr X^2 Y \\tr X Y \n",
       " - \\tr X^3 \\tr Y^2 \n",
       " + 2 \\tr X^2 \\tr X Y^2 \n",
       " + 2 \\tr X \\tr X^2 \\left( \\tr Y \\right)^2 \n",
       " - \\left( \\tr X \\right)^2 \\tr X Y \\tr Y \n",
       " - \\left( \\tr X \\right)^3 \\tr Y^2 \n",
       " \\right] \\\\\n",
       " O_{\n",
       " \\fontsize{6pt}{0} \\begin{ytableau}\n",
       " 1 & 1 & 1 & 2 \\\\ 2 \n",
       "\\end{ytableau} \\fontsize{12pt}{0} ,\n",
       "[3, 2] ,\n",
       "1 } & =\n",
       " \\frac{1}{60} \\, \\sqrt{5} \\sqrt{2} \\left[\n",
       " 3 \\tr X^2 Y \\tr X Y \n",
       " + 3 \\tr X^3 \\tr Y^2 \n",
       " - 6 \\tr X^2 \\tr X Y^2 \n",
       " - 3 \\tr X^3 Y \\tr Y \n",
       " - 6 \\tr X^2 \\tr X Y \\tr Y \n",
       " + 2 \\tr X \\tr X^2 Y^2 \n",
       " + \\tr X \\tr \\left( X Y \\right)^2 \n",
       " + 4 \\tr X \\left( \\tr X Y \\right)^2 \n",
       " + 2 \\tr X \\tr X^2 \\tr Y^2 \n",
       " + 2 \\tr X^3 \\left( \\tr Y \\right)^2 \n",
       " + 2 \\tr X \\tr X^2 Y \\tr Y \n",
       " - 4 \\left( \\tr X \\right)^2 \\tr X Y^2 \n",
       " + 2 \\tr X \\tr X^2 \\left( \\tr Y \\right)^2 \n",
       " - \\left( \\tr X \\right)^2 \\tr X Y \\tr Y \n",
       " - \\left( \\tr X \\right)^3 \\tr Y^2 \n",
       "\\right] \\\\\n",
       " O_{\n",
       " \\fontsize{6pt}{0} \\begin{ytableau}\n",
       " 1 & 1 & 1 & 2 \\\\ 2 \n",
       "\\end{ytableau} \\fontsize{12pt}{0} ,\n",
       "[4, 1] ,\n",
       "1 } & =\n",
       " \\frac{1}{30} \\, \\sqrt{5} \\left[\n",
       " 6 \\tr X^3 Y \\tr Y \n",
       " - 4 \\tr X \\tr X^2 Y^2 \n",
       " - 2 \\tr X \\tr \\left( X Y \\right)^2 \n",
       " + 2 \\tr X^3 \\left( \\tr Y \\right)^2 \n",
       " + 2 \\tr X \\tr X^2 Y \\tr Y \n",
       " + 3 \\tr X^2 \\tr X Y \\tr Y \n",
       " - 4 \\left( \\tr X \\right)^2 \\tr X Y^2 \n",
       " - 2 \\tr X \\left( \\tr X Y \\right)^2 \n",
       " - \\tr X \\tr X^2 \\tr Y^2 \n",
       " + 2 \\tr X \\tr X^2 \\left( \\tr Y \\right)^2 \n",
       " - \\left( \\tr X \\right)^2 \\tr X Y \\tr Y \n",
       " - \\left( \\tr X \\right)^3 \\tr Y^2 \n",
       "\\right] \\\\\n",
       " O_{\n",
       " \\fontsize{6pt}{0} \\begin{ytableau}\n",
       " 1 & 1 & 1 \\\\ 2 & 2 \n",
       "\\end{ytableau} \\fontsize{12pt}{0} ,\n",
       "[2, 1, 1, 1] ,\n",
       "1 } & =\n",
       " \\frac{1}{60} \\, \\sqrt{5} \\sqrt{3} \\left[\n",
       " 3 \\tr X^3 \\tr Y^2 \n",
       " - 6 \\tr X^2 Y \\tr X Y \n",
       " + 3 \\tr X^2 \\tr X Y^2 \n",
       " - \\tr X^3 \\left( \\tr Y \\right)^2 \n",
       " + 2 \\tr X \\tr X^2 Y \\tr Y \n",
       " - 4 \\tr X \\tr X^2 \\tr Y^2 \n",
       " + \\tr X \\tr X^2 \\left( \\tr Y \\right)^2 \n",
       " - \\left( \\tr X \\right)^2 \\tr X Y^2 \n",
       " + 4 \\tr X \\left( \\tr X Y \\right)^2 \n",
       " - 2 \\left( \\tr X \\right)^2 \\tr X Y \\tr Y \n",
       " + \\left( \\tr X \\right)^3 \\tr Y^2 \n",
       "\\right] \\\\\n",
       " O_{\n",
       " \\fontsize{6pt}{0} \\begin{ytableau}\n",
       " 1 & 1 & 1 \\\\ 2 & 2 \n",
       "\\end{ytableau} \\fontsize{12pt}{0} ,\n",
       "[2, 2, 1] ,\n",
       "1 } & =\n",
       " \\frac{\\sqrt{3} \\sqrt{2}}{\\sqrt{50 \\, N^{6} + 370 \\, N^{5} + 817 \\, N^{4} + 32 \\, N^{3} - 1629 \\, N^{2} - 276 \\, N + 2088}} \\left[\n",
       " \\left( -\\frac{5}{12} \\, N^{3} - \\frac{23}{12} \\, N^{2} - \\frac{1}{3} \\, N + \\frac{9}{2} \\right) \\tr X^3 \\tr Y^2 \n",
       " + \\left( -\\frac{5}{12} \\, N^{3} - \\frac{23}{12} \\, N^{2} - \\frac{1}{3} \\, N + \\frac{9}{2} \\right) \\tr X^2 \\tr X Y^2 \n",
       " + \\left( \\frac{1}{6} \\, {\\left(3 \\, N + 8\\right)} {\\left(N - 3\\right)} \\right) \\tr X \\tr X^2 \\tr Y^2 \n",
       " + \\left( \\frac{5}{6} \\, N^{3} + \\frac{23}{6} \\, N^{2} + \\frac{2}{3} \\, N - 9 \\right) \\tr X^2 Y \\tr X Y \n",
       " + \\left( -\\frac{1}{6} \\, {\\left(3 \\, N + 8\\right)} {\\left(N - 3\\right)} \\right) \\tr X \\left( \\tr X Y \\right)^2 \n",
       " + \\left( -\\frac{1}{12} \\, {\\left(5 \\, N^{2} + 12 \\, N - 6\\right)} {\\left(N + 1\\right)} \\right) \\tr X^3 \\left( \\tr Y \\right)^2 \n",
       " + \\left( \\frac{1}{6} \\, {\\left(5 \\, N^{2} + 12 \\, N - 6\\right)} {\\left(N + 1\\right)} \\right) \\tr X \\tr X^2 Y \\tr Y \n",
       " + \\left( \\frac{1}{12} \\, {\\left(5 \\, N^{2} + 12 \\, N - 6\\right)} {\\left(N + 1\\right)} \\right) \\tr X \\tr X^2 \\left( \\tr Y \\right)^2 \n",
       " + \\left( -\\frac{1}{12} \\, {\\left(5 \\, N^{2} + 12 \\, N - 6\\right)} {\\left(N + 1\\right)} \\right) \\left( \\tr X \\right)^2 \\tr X Y^2 \n",
       " + \\left( -\\frac{1}{6} \\, {\\left(5 \\, N^{2} + 12 \\, N - 6\\right)} {\\left(N + 1\\right)} \\right) \\left( \\tr X \\right)^2 \\tr X Y \\tr Y \n",
       " + \\left( \\frac{1}{12} \\, {\\left(5 \\, N^{2} + 12 \\, N - 6\\right)} {\\left(N + 1\\right)} \\right) \\left( \\tr X \\right)^3 \\tr Y^2 \n",
       "\\right] \\\\\n",
       " O_{\n",
       " \\fontsize{6pt}{0} \\begin{ytableau}\n",
       " 1 & 1 & 1 \\\\ 2 & 2 \n",
       "\\end{ytableau} \\fontsize{12pt}{0} ,\n",
       "[3, 1, 1] ,\n",
       "1 } & =\n",
       " \\frac{\\sqrt{3} \\sqrt{2}}{\\sqrt{15 \\, N^{6} + 66 \\, N^{5} + 33 \\, N^{4} - 82 \\, N^{3} + 51 \\, N^{2} - 12 \\, N + 8}} \\left[\n",
       " \\left( -\\frac{1}{6} \\, N^{3} - \\frac{1}{2} \\, N^{2} + \\frac{1}{3} \\, N + \\frac{1}{6} \\right) \\tr X^3 \\tr Y^2 \n",
       " + \\left( \\frac{1}{3} \\, N^{3} + \\frac{2}{3} \\, N^{2} - \\frac{1}{2} \\, N + \\frac{1}{6} \\right) \\tr X^3 \\left( \\tr Y \\right)^2 \n",
       " + \\left( \\frac{1}{3} \\, N^{3} + N^{2} - \\frac{2}{3} \\, N - \\frac{1}{3} \\right) \\tr X^2 Y \\tr X Y \n",
       " + \\left( -\\frac{1}{6} \\, N^{3} - \\frac{1}{2} \\, N^{2} + \\frac{1}{3} \\, N + \\frac{1}{6} \\right) \\tr X^2 \\tr X Y^2 \n",
       " + \\left( -\\frac{2}{3} \\, N^{3} - \\frac{4}{3} \\, N^{2} + N - \\frac{1}{3} \\right) \\tr X \\tr X^2 Y \\tr Y \n",
       " + \\left( \\frac{1}{3} \\, N^{3} + \\frac{2}{3} \\, N^{2} - \\frac{1}{2} \\, N + \\frac{1}{6} \\right) \\left( \\tr X \\right)^2 \\tr X Y^2 \n",
       " + \\left( -\\frac{1}{3} \\, N^{3} - \\frac{2}{3} \\, N^{2} + \\frac{1}{3} \\, N - \\frac{1}{3} \\right) \\tr X \\tr X^2 \\tr Y^2 \n",
       " + \\left( \\frac{1}{12} \\, {\\left(N^{2} + 3 \\, N - 1\\right)} N \\right) \\tr X \\tr X^2 \\left( \\tr Y \\right)^2 \n",
       " + \\left( \\frac{1}{3} \\, N^{3} + \\frac{2}{3} \\, N^{2} - \\frac{1}{3} \\, N + \\frac{1}{3} \\right) \\tr X \\left( \\tr X Y \\right)^2 \n",
       " + \\left( -\\frac{1}{6} \\, {\\left(N^{2} + 3 \\, N - 1\\right)} N \\right) \\left( \\tr X \\right)^2 \\tr X Y \\tr Y \n",
       " + \\left( \\frac{1}{12} \\, {\\left(N^{2} + 3 \\, N - 1\\right)} N \\right) \\left( \\tr X \\right)^3 \\tr Y^2 \n",
       "\\right] \\\\\n",
       " O_{\n",
       " \\fontsize{6pt}{0} \\begin{ytableau}\n",
       " 1 & 1 & 1 \\\\ 2 & 2 \n",
       "\\end{ytableau} \\fontsize{12pt}{0} ,\n",
       "[3, 2] ,\n",
       "1 } & =\n",
       " \\frac{\\sqrt{3} \\sqrt{2}}{\\sqrt{3 \\, N^{6} + 10 \\, N^{5} - 22 \\, N^{3} + 34 \\, N^{2} - 24 \\, N + 8}} \\left[\n",
       " \\left( \\frac{1}{12} \\, N^{3} + \\frac{1}{4} \\, N^{2} - \\frac{1}{2} \\, N + \\frac{1}{3} \\right) \\tr X^3 \\tr Y^2 \n",
       " + \\left( -\\frac{1}{6} \\, N^{3} - \\frac{1}{2} \\, N^{2} + N - \\frac{2}{3} \\right) \\tr X^2 Y \\tr X Y \n",
       " + \\left( \\frac{1}{12} \\, N^{3} + \\frac{1}{4} \\, N^{2} - \\frac{1}{2} \\, N + \\frac{1}{3} \\right) \\tr X^2 \\tr X Y^2 \n",
       " + \\left( \\frac{1}{12} \\, {\\left(N + 1\\right)} N^{2} \\right) \\tr X^3 \\left( \\tr Y \\right)^2 \n",
       " + \\left( -\\frac{1}{6} \\, {\\left(N + 1\\right)} N^{2} \\right) \\tr X \\tr X^2 Y \\tr Y \n",
       " + \\left( \\frac{1}{6} \\, {\\left(N^{2} + 2 \\, N - 2\\right)} N \\right) \\tr X \\tr X^2 \\tr Y^2 \n",
       " + \\left( \\frac{1}{12} \\, {\\left(N + 1\\right)} N^{2} \\right) \\tr X \\tr X^2 \\left( \\tr Y \\right)^2 \n",
       " + \\left( \\frac{1}{12} \\, {\\left(N + 1\\right)} N^{2} \\right) \\left( \\tr X \\right)^2 \\tr X Y^2 \n",
       " + \\left( -\\frac{1}{6} \\, {\\left(N^{2} + 2 \\, N - 2\\right)} N \\right) \\tr X \\left( \\tr X Y \\right)^2 \n",
       " + \\left( -\\frac{1}{6} \\, {\\left(N + 1\\right)} N^{2} \\right) \\left( \\tr X \\right)^2 \\tr X Y \\tr Y \n",
       " + \\left( \\frac{1}{12} \\, {\\left(N + 1\\right)} N^{2} \\right) \\left( \\tr X \\right)^3 \\tr Y^2 \n",
       "\\right] \\\\\n",
       " \\end{align*}\n",
       " \\ytableausetup{boxsize=normal}"
      ]
     },
     "execution_count": 31,
     "metadata": {},
     "output_type": "execute_result"
    }
   ],
   "source": [
    "#Fully orthogonalised basis for field content (3,2)\n",
    "latexString(finalBasis,'O',['semi-standard tableau','partition','multiplicity'])"
   ]
  },
  {
   "cell_type": "code",
   "execution_count": 32,
   "metadata": {},
   "outputs": [
    {
     "name": "stdout",
     "output_type": "stream",
     "text": [
      "(True, [[4, 1], [2, 1, 1, 1], 1], 1/((N + 1)*(N - 1)*(N - 2)*(N - 3)*N), 1/((N + 1)*(N - 1)*(N - 2)*(N - 3)*N))\n",
      "(True, [[4, 1], [2, 2, 1], 1], 1/((N + 1)*(N - 1)*(N - 2)*N^2), 1/((N + 1)*(N - 1)*(N - 2)*N^2))\n",
      "(True, [[4, 1], [3, 1, 1], 1], 1/((N + 2)*(N + 1)*(N - 1)*(N - 2)*N), 1/((N + 2)*(N + 1)*(N - 1)*(N - 2)*N))\n",
      "(True, [[4, 1], [3, 2], 1], 1/((N + 2)*(N + 1)*(N - 1)*N^2), 1/((N + 2)*(N + 1)*(N - 1)*N^2))\n",
      "(True, [[4, 1], [4, 1], 1], 1/((N + 3)*(N + 2)*(N + 1)*(N - 1)*N), 1/((N + 3)*(N + 2)*(N + 1)*(N - 1)*N))\n"
     ]
    }
   ],
   "source": [
    "#Checking [n-1,1] orthogonalisation for field content (3,2)\n",
    "n=5\n",
    "for lbl, op in finalBasis:\n",
    "    if lbl[0] == [n-1,1]:\n",
    "        p = lbl[1]\n",
    "        norm = 1\n",
    "        for i in range(len(p)):\n",
    "            for j in range(p[i]):\n",
    "                norm *= 1/(N-i+j)\n",
    "        calculatedNorm = calculator.calculate(op,op,'G')\n",
    "        matching = [Rational(norm(N=n+i)) == Rational(calculatedNorm(N=n+i)) for i in range(n+1)]\n",
    "            \n",
    "        print(all(matching),lbl,norm,calculatedNorm )"
   ]
  },
  {
   "cell_type": "code",
   "execution_count": 35,
   "metadata": {},
   "outputs": [
    {
     "data": {
      "text/plain": [
       "\\ytableausetup{boxsize=7pt}\n",
       "\\begin{align*}\n",
       "O_{\n",
       "\\fontsize{6pt}{0} \\begin{ytableau}\n",
       "1 & 1 & 1 & 1 & 2 & 2 \n",
       "\\end{ytableau} \\fontsize{12pt}{0} ,\n",
       "[1, 1, 1, 1, 1, 1] ,\n",
       "1 } & =\n",
       " \\frac{1}{720} \\, \\sqrt{5} \\sqrt{3} \\left[\n",
       " - 48 \\tr X^4 Y^2 \n",
       " - 48 \\tr X^3 Y X Y \n",
       " - 24 \\tr \\left( X^2 Y \\right)^2 \n",
       " + 48 \\tr X^4 Y \\tr Y \n",
       " + 48 \\tr X \\tr X^3 Y^2 \n",
       " + 48 \\tr X \\tr X^2 Y X Y \n",
       " + 48 \\tr X^3 Y \\tr X Y \n",
       " + 6 \\tr X^4 \\tr Y^2 \n",
       " + 24 \\tr X^2 \\tr X^2 Y^2 \n",
       " + 12 \\tr X^2 \\tr \\left( X Y \\right)^2 \n",
       " + 24 \\left( \\tr X^2 Y \\right)^2 \n",
       " + 16 \\tr X^3 \\tr X Y^2 \n",
       " - 6 \\tr X^4 \\left( \\tr Y \\right)^2 \n",
       " - 48 \\tr X \\tr X^3 Y \\tr Y \n",
       " - 24 \\left( \\tr X \\right)^2 \\tr X^2 Y^2 \n",
       " - 12 \\left( \\tr X \\right)^2 \\tr \\left( X Y \\right)^2 \n",
       " - 16 \\tr X^3 \\tr X Y \\tr Y \n",
       " - 24 \\tr X^2 \\tr X^2 Y \\tr Y \n",
       " - 48 \\tr X \\tr X^2 Y \\tr X Y \n",
       " - 8 \\tr X \\tr X^3 \\tr Y^2 \n",
       " - 24 \\tr X \\tr X^2 \\tr X Y^2 \n",
       " - 12 \\tr X^2 \\left( \\tr X Y \\right)^2 \n",
       " - 3 \\left( \\tr X^2 \\right)^2 \\tr Y^2 \n",
       " + 8 \\tr X \\tr X^3 \\left( \\tr Y \\right)^2 \n",
       " + 24 \\left( \\tr X \\right)^2 \\tr X^2 Y \\tr Y \n",
       " + 8 \\left( \\tr X \\right)^3 \\tr X Y^2 \n",
       " + 3 \\left( \\tr X^2 \\right)^2 \\left( \\tr Y \\right)^2 \n",
       " + 24 \\tr X \\tr X^2 \\tr X Y \\tr Y \n",
       " + 12 \\left( \\tr X \\right)^2 \\left( \\tr X Y \\right)^2 \n",
       " + 6 \\left( \\tr X \\right)^2 \\tr X^2 \\tr Y^2 \n",
       " - 6 \\left( \\tr X \\right)^2 \\tr X^2 \\left( \\tr Y \\right)^2 \n",
       " - 8 \\left( \\tr X \\right)^3 \\tr X Y \\tr Y \n",
       " - \\left( \\tr X \\right)^4 \\tr Y^2 \n",
       " + \\left( \\tr X \\right)^4 \\left( \\tr Y \\right)^2 \n",
       " \\right] \\\\\n",
       " O_{\n",
       " \\fontsize{6pt}{0} \\begin{ytableau}\n",
       " 1 & 1 & 1 & 1 & 2 & 2 \n",
       "\\end{ytableau} \\fontsize{12pt}{0} ,\n",
       "[2, 1, 1, 1, 1] ,\n",
       "1 } & =\n",
       " \\frac{1}{720} \\, \\sqrt{5} \\sqrt{3} \\left[\n",
       " 48 \\tr X^4 Y^2 \n",
       " + 48 \\tr X^3 Y X Y \n",
       " + 24 \\tr \\left( X^2 Y \\right)^2 \n",
       " - 48 \\tr X^3 Y \\tr X Y \n",
       " - 6 \\tr X^4 \\tr Y^2 \n",
       " - 24 \\tr X^2 \\tr X^2 Y^2 \n",
       " - 12 \\tr X^2 \\tr \\left( X Y \\right)^2 \n",
       " - 24 \\left( \\tr X^2 Y \\right)^2 \n",
       " - 16 \\tr X^3 \\tr X Y^2 \n",
       " - 6 \\tr X^4 \\left( \\tr Y \\right)^2 \n",
       " - 48 \\tr X \\tr X^3 Y \\tr Y \n",
       " - 24 \\left( \\tr X \\right)^2 \\tr X^2 Y^2 \n",
       " - 12 \\left( \\tr X \\right)^2 \\tr \\left( X Y \\right)^2 \n",
       " + 12 \\tr X^2 \\left( \\tr X Y \\right)^2 \n",
       " + 3 \\left( \\tr X^2 \\right)^2 \\tr Y^2 \n",
       " + 16 \\tr X \\tr X^3 \\left( \\tr Y \\right)^2 \n",
       " + 48 \\left( \\tr X \\right)^2 \\tr X^2 Y \\tr Y \n",
       " + 16 \\left( \\tr X \\right)^3 \\tr X Y^2 \n",
       " + 3 \\left( \\tr X^2 \\right)^2 \\left( \\tr Y \\right)^2 \n",
       " + 24 \\tr X \\tr X^2 \\tr X Y \\tr Y \n",
       " + 12 \\left( \\tr X \\right)^2 \\left( \\tr X Y \\right)^2 \n",
       " + 6 \\left( \\tr X \\right)^2 \\tr X^2 \\tr Y^2 \n",
       " - 18 \\left( \\tr X \\right)^2 \\tr X^2 \\left( \\tr Y \\right)^2 \n",
       " - 24 \\left( \\tr X \\right)^3 \\tr X Y \\tr Y \n",
       " - 3 \\left( \\tr X \\right)^4 \\tr Y^2 \n",
       " + 5 \\left( \\tr X \\right)^4 \\left( \\tr Y \\right)^2 \n",
       "\\right] \\\\\n",
       " O_{\n",
       " \\fontsize{6pt}{0} \\begin{ytableau}\n",
       " 1 & 1 & 1 & 1 & 2 & 2 \n",
       "\\end{ytableau} \\fontsize{12pt}{0} ,\n",
       "[2, 2, 1, 1] ,\n",
       "1 } & =\n",
       " \\frac{1}{240} \\, \\sqrt{5} \\sqrt{3} \\left[\n",
       " - 16 \\tr X^4 Y \\tr Y \n",
       " - 16 \\tr X \\tr X^3 Y^2 \n",
       " - 16 \\tr X \\tr X^2 Y X Y \n",
       " + 16 \\tr X^3 Y \\tr X Y \n",
       " + 2 \\tr X^4 \\tr Y^2 \n",
       " + 8 \\tr X^2 \\tr X^2 Y^2 \n",
       " + 4 \\tr X^2 \\tr \\left( X Y \\right)^2 \n",
       " + 2 \\tr X^4 \\left( \\tr Y \\right)^2 \n",
       " + 16 \\tr X \\tr X^3 Y \\tr Y \n",
       " + 8 \\left( \\tr X \\right)^2 \\tr X^2 Y^2 \n",
       " + 4 \\left( \\tr X \\right)^2 \\tr \\left( X Y \\right)^2 \n",
       " - 12 \\tr X^2 \\left( \\tr X Y \\right)^2 \n",
       " - 3 \\left( \\tr X^2 \\right)^2 \\tr Y^2 \n",
       " + \\left( \\tr X^2 \\right)^2 \\left( \\tr Y \\right)^2 \n",
       " + 8 \\tr X \\tr X^2 \\tr X Y \\tr Y \n",
       " + 4 \\left( \\tr X \\right)^2 \\left( \\tr X Y \\right)^2 \n",
       " + 2 \\left( \\tr X \\right)^2 \\tr X^2 \\tr Y^2 \n",
       " - 6 \\left( \\tr X \\right)^2 \\tr X^2 \\left( \\tr Y \\right)^2 \n",
       " - 8 \\left( \\tr X \\right)^3 \\tr X Y \\tr Y \n",
       " - \\left( \\tr X \\right)^4 \\tr Y^2 \n",
       " + 3 \\left( \\tr X \\right)^4 \\left( \\tr Y \\right)^2 \n",
       " \\right] \\\\\n",
       " O_{\n",
       " \\fontsize{6pt}{0} \\begin{ytableau}\n",
       " 1 & 1 & 1 & 1 & 2 & 2 \n",
       "\\end{ytableau} \\fontsize{12pt}{0} ,\n",
       "[3, 1, 1, 1] ,\n",
       "1 } & =\n",
       " \\frac{1}{360} \\, \\sqrt{5} \\sqrt{3} \\left[\n",
       " - 24 \\tr X^4 Y^2 \n",
       " - 24 \\tr X^3 Y X Y \n",
       " - 12 \\tr \\left( X^2 Y \\right)^2 \n",
       " + 12 \\left( \\tr X^2 Y \\right)^2 \n",
       " + 8 \\tr X^3 \\tr X Y^2 \n",
       " + 8 \\tr X^3 \\tr X Y \\tr Y \n",
       " + 12 \\tr X^2 \\tr X^2 Y \\tr Y \n",
       " + 24 \\tr X \\tr X^2 Y \\tr X Y \n",
       " + 4 \\tr X \\tr X^3 \\tr Y^2 \n",
       " + 12 \\tr X \\tr X^2 \\tr X Y^2 \n",
       " + 4 \\tr X \\tr X^3 \\left( \\tr Y \\right)^2 \n",
       " + 12 \\left( \\tr X \\right)^2 \\tr X^2 Y \\tr Y \n",
       " + 4 \\left( \\tr X \\right)^3 \\tr X Y^2 \n",
       " + 12 \\tr X^2 \\left( \\tr X Y \\right)^2 \n",
       " + 3 \\left( \\tr X^2 \\right)^2 \\tr Y^2 \n",
       " - 3 \\left( \\tr X^2 \\right)^2 \\left( \\tr Y \\right)^2 \n",
       " - 24 \\tr X \\tr X^2 \\tr X Y \\tr Y \n",
       " - 12 \\left( \\tr X \\right)^2 \\left( \\tr X Y \\right)^2 \n",
       " - 6 \\left( \\tr X \\right)^2 \\tr X^2 \\tr Y^2 \n",
       " - 6 \\left( \\tr X \\right)^2 \\tr X^2 \\left( \\tr Y \\right)^2 \n",
       " - 8 \\left( \\tr X \\right)^3 \\tr X Y \\tr Y \n",
       " - \\left( \\tr X \\right)^4 \\tr Y^2 \n",
       " + 5 \\left( \\tr X \\right)^4 \\left( \\tr Y \\right)^2 \n",
       " \\right] \\\\\n",
       " O_{\n",
       " \\fontsize{6pt}{0} \\begin{ytableau}\n",
       " 1 & 1 & 1 & 1 & 2 & 2 \n",
       "\\end{ytableau} \\fontsize{12pt}{0} ,\n",
       "[2, 2, 2] ,\n",
       "1 } & =\n",
       " \\frac{1}{720} \\, \\sqrt{5} \\sqrt{3} \\left[\n",
       " - 48 \\tr X^3 Y \\tr X Y \n",
       " - 6 \\tr X^4 \\tr Y^2 \n",
       " - 24 \\tr X^2 \\tr X^2 Y^2 \n",
       " - 12 \\tr X^2 \\tr \\left( X Y \\right)^2 \n",
       " + 36 \\tr X^2 \\left( \\tr X Y \\right)^2 \n",
       " + 9 \\left( \\tr X^2 \\right)^2 \\tr Y^2 \n",
       " + 48 \\left( \\tr X^2 Y \\right)^2 \n",
       " + 32 \\tr X^3 \\tr X Y^2 \n",
       " - 16 \\tr X^3 \\tr X Y \\tr Y \n",
       " - 24 \\tr X^2 \\tr X^2 Y \\tr Y \n",
       " - 48 \\tr X \\tr X^2 Y \\tr X Y \n",
       " - 8 \\tr X \\tr X^3 \\tr Y^2 \n",
       " - 24 \\tr X \\tr X^2 \\tr X Y^2 \n",
       " - 8 \\tr X \\tr X^3 \\left( \\tr Y \\right)^2 \n",
       " - 24 \\left( \\tr X \\right)^2 \\tr X^2 Y \\tr Y \n",
       " - 8 \\left( \\tr X \\right)^3 \\tr X Y^2 \n",
       " - 6 \\left( \\tr X \\right)^2 \\tr X^2 \\left( \\tr Y \\right)^2 \n",
       " - 8 \\left( \\tr X \\right)^3 \\tr X Y \\tr Y \n",
       " - \\left( \\tr X \\right)^4 \\tr Y^2 \n",
       " + 5 \\left( \\tr X \\right)^4 \\left( \\tr Y \\right)^2 \n",
       " + 6 \\tr X^4 \\left( \\tr Y \\right)^2 \n",
       " + 48 \\tr X \\tr X^3 Y \\tr Y \n",
       " + 24 \\left( \\tr X \\right)^2 \\tr X^2 Y^2 \n",
       " + 12 \\left( \\tr X \\right)^2 \\tr \\left( X Y \\right)^2 \n",
       " + 3 \\left( \\tr X^2 \\right)^2 \\left( \\tr Y \\right)^2 \n",
       " + 24 \\tr X \\tr X^2 \\tr X Y \\tr Y \n",
       " + 12 \\left( \\tr X \\right)^2 \\left( \\tr X Y \\right)^2 \n",
       " + 6 \\left( \\tr X \\right)^2 \\tr X^2 \\tr Y^2 \n",
       " \\right] \\\\\n",
       " O_{\n",
       " \\fontsize{6pt}{0} \\begin{ytableau}\n",
       " 1 & 1 & 1 & 1 & 2 & 2 \n",
       "\\end{ytableau} \\fontsize{12pt}{0} ,\n",
       "[3, 2, 1] ,\n",
       "1 } & =\n",
       " \\frac{1}{45} \\, \\sqrt{5} \\sqrt{3} \\left[\n",
       " 3 \\tr X^4 Y \\tr Y \n",
       " + 3 \\tr X \\tr X^3 Y^2 \n",
       " + 3 \\tr X \\tr X^2 Y X Y \n",
       " - 3 \\left( \\tr X^2 Y \\right)^2 \n",
       " - 2 \\tr X^3 \\tr X Y^2 \n",
       " + \\left( \\tr X \\right)^4 \\left( \\tr Y \\right)^2 \n",
       " - \\tr X \\tr X^3 \\left( \\tr Y \\right)^2 \n",
       " - 3 \\left( \\tr X \\right)^2 \\tr X^2 Y \\tr Y \n",
       " - \\left( \\tr X \\right)^3 \\tr X Y^2 \n",
       "\\right] \\\\\n",
       " O_{\n",
       " \\fontsize{6pt}{0} \\begin{ytableau}\n",
       " 1 & 1 & 1 & 1 & 2 & 2 \n",
       "\\end{ytableau} \\fontsize{12pt}{0} ,\n",
       "[4, 1, 1] ,\n",
       "1 } & =\n",
       " \\frac{1}{360} \\, \\sqrt{5} \\sqrt{3} \\left[\n",
       " 24 \\tr X^4 Y^2 \n",
       " + 24 \\tr X^3 Y X Y \n",
       " + 12 \\tr \\left( X^2 Y \\right)^2 \n",
       " + 12 \\left( \\tr X^2 Y \\right)^2 \n",
       " + 8 \\tr X^3 \\tr X Y^2 \n",
       " - 8 \\tr X^3 \\tr X Y \\tr Y \n",
       " - 12 \\tr X^2 \\tr X^2 Y \\tr Y \n",
       " - 24 \\tr X \\tr X^2 Y \\tr X Y \n",
       " - 4 \\tr X \\tr X^3 \\tr Y^2 \n",
       " - 12 \\tr X \\tr X^2 \\tr X Y^2 \n",
       " - 12 \\tr X^2 \\left( \\tr X Y \\right)^2 \n",
       " - 3 \\left( \\tr X^2 \\right)^2 \\tr Y^2 \n",
       " + 4 \\tr X \\tr X^3 \\left( \\tr Y \\right)^2 \n",
       " + 12 \\left( \\tr X \\right)^2 \\tr X^2 Y \\tr Y \n",
       " + 4 \\left( \\tr X \\right)^3 \\tr X Y^2 \n",
       " - 3 \\left( \\tr X^2 \\right)^2 \\left( \\tr Y \\right)^2 \n",
       " - 24 \\tr X \\tr X^2 \\tr X Y \\tr Y \n",
       " - 12 \\left( \\tr X \\right)^2 \\left( \\tr X Y \\right)^2 \n",
       " - 6 \\left( \\tr X \\right)^2 \\tr X^2 \\tr Y^2 \n",
       " + 5 \\left( \\tr X \\right)^4 \\left( \\tr Y \\right)^2 \n",
       " + 6 \\left( \\tr X \\right)^2 \\tr X^2 \\left( \\tr Y \\right)^2 \n",
       " + 8 \\left( \\tr X \\right)^3 \\tr X Y \\tr Y \n",
       " + \\left( \\tr X \\right)^4 \\tr Y^2 \n",
       "\\right] \\\\\n",
       " O_{\n",
       " \\fontsize{6pt}{0} \\begin{ytableau}\n",
       " 1 & 1 & 1 & 1 & 2 & 2 \n",
       "\\end{ytableau} \\fontsize{12pt}{0} ,\n",
       "[3, 3] ,\n",
       "1 } & =\n",
       " \\frac{1}{720} \\, \\sqrt{5} \\sqrt{3} \\left[\n",
       " 48 \\left( \\tr X^2 Y \\right)^2 \n",
       " + 32 \\tr X^3 \\tr X Y^2 \n",
       " - 48 \\tr X^3 Y \\tr X Y \n",
       " - 6 \\tr X^4 \\tr Y^2 \n",
       " - 24 \\tr X^2 \\tr X^2 Y^2 \n",
       " - 12 \\tr X^2 \\tr \\left( X Y \\right)^2 \n",
       " + 5 \\left( \\tr X \\right)^4 \\left( \\tr Y \\right)^2 \n",
       " + 3 \\left( \\tr X^2 \\right)^2 \\left( \\tr Y \\right)^2 \n",
       " + 24 \\tr X \\tr X^2 \\tr X Y \\tr Y \n",
       " + 12 \\left( \\tr X \\right)^2 \\left( \\tr X Y \\right)^2 \n",
       " + 6 \\left( \\tr X \\right)^2 \\tr X^2 \\tr Y^2 \n",
       " - 36 \\tr X^2 \\left( \\tr X Y \\right)^2 \n",
       " - 9 \\left( \\tr X^2 \\right)^2 \\tr Y^2 \n",
       " + 16 \\tr X^3 \\tr X Y \\tr Y \n",
       " + 24 \\tr X^2 \\tr X^2 Y \\tr Y \n",
       " + 48 \\tr X \\tr X^2 Y \\tr X Y \n",
       " + 8 \\tr X \\tr X^3 \\tr Y^2 \n",
       " + 24 \\tr X \\tr X^2 \\tr X Y^2 \n",
       " - 8 \\tr X \\tr X^3 \\left( \\tr Y \\right)^2 \n",
       " - 24 \\left( \\tr X \\right)^2 \\tr X^2 Y \\tr Y \n",
       " - 8 \\left( \\tr X \\right)^3 \\tr X Y^2 \n",
       " + 6 \\left( \\tr X \\right)^2 \\tr X^2 \\left( \\tr Y \\right)^2 \n",
       " + 8 \\left( \\tr X \\right)^3 \\tr X Y \\tr Y \n",
       " + \\left( \\tr X \\right)^4 \\tr Y^2 \n",
       " - 6 \\tr X^4 \\left( \\tr Y \\right)^2 \n",
       " - 48 \\tr X \\tr X^3 Y \\tr Y \n",
       " - 24 \\left( \\tr X \\right)^2 \\tr X^2 Y^2 \n",
       " - 12 \\left( \\tr X \\right)^2 \\tr \\left( X Y \\right)^2 \n",
       "\\right] \\\\\n",
       " O_{\n",
       " \\fontsize{6pt}{0} \\begin{ytableau}\n",
       " 1 & 1 & 1 & 1 & 2 & 2 \n",
       "\\end{ytableau} \\fontsize{12pt}{0} ,\n",
       "[4, 2] ,\n",
       "1 } & =\n",
       " \\frac{1}{240} \\, \\sqrt{5} \\sqrt{3} \\left[\n",
       " 16 \\tr X^3 Y \\tr X Y \n",
       " + 2 \\tr X^4 \\tr Y^2 \n",
       " + 8 \\tr X^2 \\tr X^2 Y^2 \n",
       " + 4 \\tr X^2 \\tr \\left( X Y \\right)^2 \n",
       " - 16 \\tr X^4 Y \\tr Y \n",
       " - 16 \\tr X \\tr X^3 Y^2 \n",
       " - 16 \\tr X \\tr X^2 Y X Y \n",
       " + 12 \\tr X^2 \\left( \\tr X Y \\right)^2 \n",
       " + 3 \\left( \\tr X^2 \\right)^2 \\tr Y^2 \n",
       " + 3 \\left( \\tr X \\right)^4 \\left( \\tr Y \\right)^2 \n",
       " + 6 \\left( \\tr X \\right)^2 \\tr X^2 \\left( \\tr Y \\right)^2 \n",
       " + 8 \\left( \\tr X \\right)^3 \\tr X Y \\tr Y \n",
       " + \\left( \\tr X \\right)^4 \\tr Y^2 \n",
       " + \\left( \\tr X^2 \\right)^2 \\left( \\tr Y \\right)^2 \n",
       " + 8 \\tr X \\tr X^2 \\tr X Y \\tr Y \n",
       " + 4 \\left( \\tr X \\right)^2 \\left( \\tr X Y \\right)^2 \n",
       " + 2 \\left( \\tr X \\right)^2 \\tr X^2 \\tr Y^2 \n",
       " - 2 \\tr X^4 \\left( \\tr Y \\right)^2 \n",
       " - 16 \\tr X \\tr X^3 Y \\tr Y \n",
       " - 8 \\left( \\tr X \\right)^2 \\tr X^2 Y^2 \n",
       " - 4 \\left( \\tr X \\right)^2 \\tr \\left( X Y \\right)^2 \n",
       "\\right] \\\\\n",
       " O_{\n",
       " \\fontsize{6pt}{0} \\begin{ytableau}\n",
       " 1 & 1 & 1 & 1 & 2 & 2 \n",
       "\\end{ytableau} \\fontsize{12pt}{0} ,\n",
       "[5, 1] ,\n",
       "1 } & =\n",
       " \\frac{1}{720} \\, \\sqrt{5} \\sqrt{3} \\left[\n",
       " - 48 \\tr X^4 Y^2 \n",
       " - 48 \\tr X^3 Y X Y \n",
       " - 24 \\tr \\left( X^2 Y \\right)^2 \n",
       " - 48 \\tr X^3 Y \\tr X Y \n",
       " - 6 \\tr X^4 \\tr Y^2 \n",
       " - 24 \\tr X^2 \\tr X^2 Y^2 \n",
       " - 12 \\tr X^2 \\tr \\left( X Y \\right)^2 \n",
       " - 24 \\left( \\tr X^2 Y \\right)^2 \n",
       " - 16 \\tr X^3 \\tr X Y^2 \n",
       " + 6 \\tr X^4 \\left( \\tr Y \\right)^2 \n",
       " + 48 \\tr X \\tr X^3 Y \\tr Y \n",
       " + 24 \\left( \\tr X \\right)^2 \\tr X^2 Y^2 \n",
       " + 12 \\left( \\tr X \\right)^2 \\tr \\left( X Y \\right)^2 \n",
       " + 5 \\left( \\tr X \\right)^4 \\left( \\tr Y \\right)^2 \n",
       " + 16 \\tr X \\tr X^3 \\left( \\tr Y \\right)^2 \n",
       " + 48 \\left( \\tr X \\right)^2 \\tr X^2 Y \\tr Y \n",
       " + 16 \\left( \\tr X \\right)^3 \\tr X Y^2 \n",
       " - 12 \\tr X^2 \\left( \\tr X Y \\right)^2 \n",
       " - 3 \\left( \\tr X^2 \\right)^2 \\tr Y^2 \n",
       " + 18 \\left( \\tr X \\right)^2 \\tr X^2 \\left( \\tr Y \\right)^2 \n",
       " + 24 \\left( \\tr X \\right)^3 \\tr X Y \\tr Y \n",
       " + 3 \\left( \\tr X \\right)^4 \\tr Y^2 \n",
       " + 3 \\left( \\tr X^2 \\right)^2 \\left( \\tr Y \\right)^2 \n",
       " + 24 \\tr X \\tr X^2 \\tr X Y \\tr Y \n",
       " + 12 \\left( \\tr X \\right)^2 \\left( \\tr X Y \\right)^2 \n",
       " + 6 \\left( \\tr X \\right)^2 \\tr X^2 \\tr Y^2 \n",
       " \\right] \\\\\n",
       " O_{\n",
       " \\fontsize{6pt}{0} \\begin{ytableau}\n",
       " 1 & 1 & 1 & 1 & 2 & 2 \n",
       "\\end{ytableau} \\fontsize{12pt}{0} ,\n",
       "[6] ,\n",
       "1 } & =\n",
       " \\frac{1}{720} \\, \\sqrt{5} \\sqrt{3} \\left[\n",
       " 48 \\tr X^4 Y^2 \n",
       " + 48 \\tr X^3 Y X Y \n",
       " + 24 \\tr \\left( X^2 Y \\right)^2 \n",
       " + 48 \\tr X^4 Y \\tr Y \n",
       " + 48 \\tr X \\tr X^3 Y^2 \n",
       " + 48 \\tr X \\tr X^2 Y X Y \n",
       " + 48 \\tr X^3 Y \\tr X Y \n",
       " + 6 \\tr X^4 \\tr Y^2 \n",
       " + 24 \\tr X^2 \\tr X^2 Y^2 \n",
       " + 12 \\tr X^2 \\tr \\left( X Y \\right)^2 \n",
       " + 24 \\left( \\tr X^2 Y \\right)^2 \n",
       " + 16 \\tr X^3 \\tr X Y^2 \n",
       " + \\left( \\tr X \\right)^4 \\left( \\tr Y \\right)^2 \n",
       " + 16 \\tr X^3 \\tr X Y \\tr Y \n",
       " + 24 \\tr X^2 \\tr X^2 Y \\tr Y \n",
       " + 48 \\tr X \\tr X^2 Y \\tr X Y \n",
       " + 8 \\tr X \\tr X^3 \\tr Y^2 \n",
       " + 24 \\tr X \\tr X^2 \\tr X Y^2 \n",
       " + 12 \\tr X^2 \\left( \\tr X Y \\right)^2 \n",
       " + 3 \\left( \\tr X^2 \\right)^2 \\tr Y^2 \n",
       " + 8 \\tr X \\tr X^3 \\left( \\tr Y \\right)^2 \n",
       " + 24 \\left( \\tr X \\right)^2 \\tr X^2 Y \\tr Y \n",
       " + 8 \\left( \\tr X \\right)^3 \\tr X Y^2 \n",
       " + 6 \\left( \\tr X \\right)^2 \\tr X^2 \\left( \\tr Y \\right)^2 \n",
       " + 8 \\left( \\tr X \\right)^3 \\tr X Y \\tr Y \n",
       " + \\left( \\tr X \\right)^4 \\tr Y^2 \n",
       " + 6 \\tr X^4 \\left( \\tr Y \\right)^2 \n",
       " + 48 \\tr X \\tr X^3 Y \\tr Y \n",
       " + 24 \\left( \\tr X \\right)^2 \\tr X^2 Y^2 \n",
       " + 12 \\left( \\tr X \\right)^2 \\tr \\left( X Y \\right)^2 \n",
       " + 3 \\left( \\tr X^2 \\right)^2 \\left( \\tr Y \\right)^2 \n",
       " + 24 \\tr X \\tr X^2 \\tr X Y \\tr Y \n",
       " + 12 \\left( \\tr X \\right)^2 \\left( \\tr X Y \\right)^2 \n",
       " + 6 \\left( \\tr X \\right)^2 \\tr X^2 \\tr Y^2 \n",
       "\\right] \\\\\n",
       " O_{\n",
       " \\fontsize{6pt}{0} \\begin{ytableau}\n",
       " 1 & 1 & 1 & 1 & 2 \\\\ 2 \n",
       "\\end{ytableau} \\fontsize{12pt}{0} ,\n",
       "[2, 1, 1, 1, 1] ,\n",
       "1 } & =\n",
       " \\frac{1}{144} \\, \\sqrt{3} \\sqrt{2} \\left[\n",
       " - 24 \\tr X^4 Y \\tr Y \n",
       " + 12 \\tr X \\tr X^3 Y^2 \n",
       " + 12 \\tr X \\tr X^2 Y X Y \n",
       " + 6 \\tr X^4 \\left( \\tr Y \\right)^2 \n",
       " + 12 \\tr X \\tr X^3 Y \\tr Y \n",
       " + 8 \\tr X^3 \\tr X Y \\tr Y \n",
       " + 12 \\tr X^2 \\tr X^2 Y \\tr Y \n",
       " - 12 \\left( \\tr X \\right)^2 \\tr X^2 Y^2 \n",
       " - 6 \\left( \\tr X \\right)^2 \\tr \\left( X Y \\right)^2 \n",
       " - 12 \\tr X \\tr X^2 Y \\tr X Y \n",
       " - 2 \\tr X \\tr X^3 \\tr Y^2 \n",
       " - 6 \\tr X \\tr X^2 \\tr X Y^2 \n",
       " - 6 \\tr X \\tr X^3 \\left( \\tr Y \\right)^2 \n",
       " - 3 \\left( \\tr X^2 \\right)^2 \\left( \\tr Y \\right)^2 \n",
       " - 6 \\tr X \\tr X^2 \\tr X Y \\tr Y \n",
       " + 6 \\left( \\tr X \\right)^3 \\tr X Y^2 \n",
       " + 6 \\left( \\tr X \\right)^2 \\left( \\tr X Y \\right)^2 \n",
       " + 3 \\left( \\tr X \\right)^2 \\tr X^2 \\tr Y^2 \n",
       " + 3 \\left( \\tr X \\right)^2 \\tr X^2 \\left( \\tr Y \\right)^2 \n",
       " - 2 \\left( \\tr X \\right)^3 \\tr X Y \\tr Y \n",
       " - \\left( \\tr X \\right)^4 \\tr Y^2 \n",
       " \\right] \\\\\n",
       " O_{\n",
       " \\fontsize{6pt}{0} \\begin{ytableau}\n",
       " 1 & 1 & 1 & 1 & 2 \\\\ 2 \n",
       "\\end{ytableau} \\fontsize{12pt}{0} ,\n",
       "[2, 2, 1, 1] ,\n",
       "1 } & =\n",
       " \\frac{1}{240} \\, \\sqrt{5} \\sqrt{3} \\sqrt{2} \\left[\n",
       " 8 \\tr X^4 Y \\tr Y \n",
       " - 4 \\tr X \\tr X^3 Y^2 \n",
       " - 4 \\tr X \\tr X^2 Y X Y \n",
       " - 8 \\tr X^3 Y \\tr X Y \n",
       " - 4 \\tr X^4 \\tr Y^2 \n",
       " + 8 \\tr X^2 \\tr X^2 Y^2 \n",
       " + 4 \\tr X^2 \\tr \\left( X Y \\right)^2 \n",
       " + 2 \\tr X^4 \\left( \\tr Y \\right)^2 \n",
       " + 4 \\tr X \\tr X^3 Y \\tr Y \n",
       " - 12 \\tr X^2 \\tr X^2 Y \\tr Y \n",
       " + \\left( \\tr X^2 \\right)^2 \\left( \\tr Y \\right)^2 \n",
       " + 2 \\tr X \\tr X^2 \\tr X Y \\tr Y \n",
       " - 4 \\left( \\tr X \\right)^2 \\tr X^2 Y^2 \n",
       " - 2 \\left( \\tr X \\right)^2 \\tr \\left( X Y \\right)^2 \n",
       " + 12 \\tr X \\tr X^2 Y \\tr X Y \n",
       " + 6 \\tr X \\tr X^3 \\tr Y^2 \n",
       " - 2 \\left( \\tr X \\right)^2 \\left( \\tr X Y \\right)^2 \n",
       " - \\left( \\tr X \\right)^2 \\tr X^2 \\tr Y^2 \n",
       " - 6 \\tr X \\tr X^2 \\tr X Y^2 \n",
       " - 6 \\tr X \\tr X^3 \\left( \\tr Y \\right)^2 \n",
       " + 6 \\left( \\tr X \\right)^3 \\tr X Y^2 \n",
       " + 3 \\left( \\tr X \\right)^2 \\tr X^2 \\left( \\tr Y \\right)^2 \n",
       " - 2 \\left( \\tr X \\right)^3 \\tr X Y \\tr Y \n",
       " - \\left( \\tr X \\right)^4 \\tr Y^2 \n",
       "\\right] \\\\\n",
       " O_{\n",
       " \\fontsize{6pt}{0} \\begin{ytableau}\n",
       " 1 & 1 & 1 & 1 & 2 \\\\ 2 \n",
       "\\end{ytableau} \\fontsize{12pt}{0} ,\n",
       "[3, 1, 1, 1] ,\n",
       "1 } & =\n",
       " \\frac{1}{24} \\left[\n",
       " 8 \\tr X^4 Y \\tr Y \n",
       " - 4 \\tr X \\tr X^3 Y^2 \n",
       " - 4 \\tr X \\tr X^2 Y X Y \n",
       " + 4 \\tr X^3 Y \\tr X Y \n",
       " + 2 \\tr X^4 \\tr Y^2 \n",
       " - 4 \\tr X^2 \\tr X^2 Y^2 \n",
       " - 2 \\tr X^2 \\tr \\left( X Y \\right)^2 \n",
       " - 4 \\tr X^3 \\tr X Y \\tr Y \n",
       " - 2 \\tr X \\tr X^3 \\tr Y^2 \n",
       " - 2 \\tr X \\tr X^3 \\left( \\tr Y \\right)^2 \n",
       " + 6 \\tr X \\tr X^2 \\tr X Y^2 \n",
       " + 2 \\left( \\tr X \\right)^3 \\tr X Y^2 \n",
       " - \\left( \\tr X^2 \\right)^2 \\left( \\tr Y \\right)^2 \n",
       " - 2 \\tr X \\tr X^2 \\tr X Y \\tr Y \n",
       " + 2 \\left( \\tr X \\right)^2 \\left( \\tr X Y \\right)^2 \n",
       " + \\left( \\tr X \\right)^2 \\tr X^2 \\tr Y^2 \n",
       " + 3 \\left( \\tr X \\right)^2 \\tr X^2 \\left( \\tr Y \\right)^2 \n",
       " - 2 \\left( \\tr X \\right)^3 \\tr X Y \\tr Y \n",
       " - \\left( \\tr X \\right)^4 \\tr Y^2 \n",
       "\\right] \\\\\n",
       " O_{\n",
       " \\fontsize{6pt}{0} \\begin{ytableau}\n",
       " 1 & 1 & 1 & 1 & 2 \\\\ 2 \n",
       "\\end{ytableau} \\fontsize{12pt}{0} ,\n",
       "[3, 2, 1] ,\n",
       "1 } & =\n",
       " \\frac{1}{5310} \\, \\sqrt{59} \\sqrt{5} \\sqrt{3} \\sqrt{2} \\left[\n",
       " - 18 \\tr X^4 Y \\tr Y \n",
       " + 18 \\tr X^3 Y \\tr X Y \n",
       " - 18 \\tr X^2 \\tr X^2 Y^2 \n",
       " - 9 \\tr X^2 \\tr \\left( X Y \\right)^2 \n",
       " + 20 \\tr X^3 \\tr X Y \\tr Y \n",
       " + 12 \\tr X^2 \\tr X^2 Y \\tr Y \n",
       " + 9 \\tr X \\tr X^3 Y^2 \n",
       " + 9 \\tr X \\tr X^2 Y X Y \n",
       " + 9 \\tr X^4 \\tr Y^2 \n",
       " - 12 \\tr X \\tr X^2 Y \\tr X Y \n",
       " + 4 \\tr X \\tr X^3 \\tr Y^2 \n",
       " - 24 \\tr X \\tr X^2 \\tr X Y^2 \n",
       " - 12 \\tr X^4 \\left( \\tr Y \\right)^2 \n",
       " - 24 \\tr X \\tr X^3 Y \\tr Y \n",
       " + 24 \\left( \\tr X \\right)^2 \\tr X^2 Y^2 \n",
       " + 12 \\left( \\tr X \\right)^2 \\tr \\left( X Y \\right)^2 \n",
       " - 9 \\tr X \\tr X^3 \\left( \\tr Y \\right)^2 \n",
       " + 9 \\left( \\tr X^2 \\right)^2 \\left( \\tr Y \\right)^2 \n",
       " + 18 \\tr X \\tr X^2 \\tr X Y \\tr Y \n",
       " + 9 \\left( \\tr X \\right)^3 \\tr X Y^2 \n",
       " - 18 \\left( \\tr X \\right)^2 \\left( \\tr X Y \\right)^2 \n",
       " - 9 \\left( \\tr X \\right)^2 \\tr X^2 \\tr Y^2 \n",
       " + 12 \\left( \\tr X \\right)^2 \\tr X^2 \\left( \\tr Y \\right)^2 \n",
       " - 8 \\left( \\tr X \\right)^3 \\tr X Y \\tr Y \n",
       " - 4 \\left( \\tr X \\right)^4 \\tr Y^2 \n",
       " \\right] \\\\\n",
       " O_{\n",
       " \\fontsize{6pt}{0} \\begin{ytableau}\n",
       " 1 & 1 & 1 & 1 & 2 \\\\ 2 \n",
       "\\end{ytableau} \\fontsize{12pt}{0} ,\n",
       "[3, 2, 1] ,\n",
       "2 } & =\n",
       " \\frac{1}{1770} \\, \\sqrt{59} \\sqrt{5} \\left[\n",
       " 16 \\tr X^4 Y \\tr Y \n",
       " - 8 \\tr X \\tr X^3 Y^2 \n",
       " - 8 \\tr X \\tr X^2 Y X Y \n",
       " - 16 \\tr X^3 Y \\tr X Y \n",
       " - 8 \\tr X^4 \\tr Y^2 \n",
       " + 15 \\tr X^3 \\tr X Y \\tr Y \n",
       " - 9 \\tr X \\tr X^2 Y \\tr X Y \n",
       " + 3 \\tr X \\tr X^3 \\tr Y^2 \n",
       " + 16 \\tr X^2 \\tr X^2 Y^2 \n",
       " + 8 \\tr X^2 \\tr \\left( X Y \\right)^2 \n",
       " + 9 \\tr X^2 \\tr X^2 Y \\tr Y \n",
       " - 18 \\tr X \\tr X^2 \\tr X Y^2 \n",
       " - 9 \\tr X^4 \\left( \\tr Y \\right)^2 \n",
       " - 18 \\tr X \\tr X^3 Y \\tr Y \n",
       " + 18 \\left( \\tr X \\right)^2 \\tr X^2 Y^2 \n",
       " + 9 \\left( \\tr X \\right)^2 \\tr \\left( X Y \\right)^2 \n",
       " + 8 \\tr X \\tr X^3 \\left( \\tr Y \\right)^2 \n",
       " - 8 \\left( \\tr X^2 \\right)^2 \\left( \\tr Y \\right)^2 \n",
       " - 16 \\tr X \\tr X^2 \\tr X Y \\tr Y \n",
       " - 8 \\left( \\tr X \\right)^3 \\tr X Y^2 \n",
       " + 16 \\left( \\tr X \\right)^2 \\left( \\tr X Y \\right)^2 \n",
       " + 8 \\left( \\tr X \\right)^2 \\tr X^2 \\tr Y^2 \n",
       " + 9 \\left( \\tr X \\right)^2 \\tr X^2 \\left( \\tr Y \\right)^2 \n",
       " - 6 \\left( \\tr X \\right)^3 \\tr X Y \\tr Y \n",
       " - 3 \\left( \\tr X \\right)^4 \\tr Y^2 \n",
       "\\right] \\\\\n",
       " O_{\n",
       " \\fontsize{6pt}{0} \\begin{ytableau}\n",
       " 1 & 1 & 1 & 1 & 2 \\\\ 2 \n",
       "\\end{ytableau} \\fontsize{12pt}{0} ,\n",
       "[4, 1, 1] ,\n",
       "1 } & =\n",
       " \\frac{1}{24} \\left[\n",
       " - 8 \\tr X^4 Y \\tr Y \n",
       " + 4 \\tr X \\tr X^3 Y^2 \n",
       " + 4 \\tr X \\tr X^2 Y X Y \n",
       " - 4 \\tr X^3 Y \\tr X Y \n",
       " - 2 \\tr X^4 \\tr Y^2 \n",
       " + 4 \\tr X^2 \\tr X^2 Y^2 \n",
       " + 2 \\tr X^2 \\tr \\left( X Y \\right)^2 \n",
       " - 4 \\tr X^3 \\tr X Y \\tr Y \n",
       " - 2 \\tr X \\tr X^3 \\tr Y^2 \n",
       " + 6 \\tr X \\tr X^2 \\tr X Y^2 \n",
       " + 2 \\tr X \\tr X^3 \\left( \\tr Y \\right)^2 \n",
       " + \\left( \\tr X^2 \\right)^2 \\left( \\tr Y \\right)^2 \n",
       " + 2 \\tr X \\tr X^2 \\tr X Y \\tr Y \n",
       " - 2 \\left( \\tr X \\right)^3 \\tr X Y^2 \n",
       " - 2 \\left( \\tr X \\right)^2 \\left( \\tr X Y \\right)^2 \n",
       " - \\left( \\tr X \\right)^2 \\tr X^2 \\tr Y^2 \n",
       " + 3 \\left( \\tr X \\right)^2 \\tr X^2 \\left( \\tr Y \\right)^2 \n",
       " - 2 \\left( \\tr X \\right)^3 \\tr X Y \\tr Y \n",
       " - \\left( \\tr X \\right)^4 \\tr Y^2 \n",
       " \\right] \\\\\n",
       " O_{\n",
       " \\fontsize{6pt}{0} \\begin{ytableau}\n",
       " 1 & 1 & 1 & 1 & 2 \\\\ 2 \n",
       "\\end{ytableau} \\fontsize{12pt}{0} ,\n",
       "[4, 2] ,\n",
       "1 } & =\n",
       " \\frac{1}{240} \\, \\sqrt{5} \\sqrt{3} \\sqrt{2} \\left[\n",
       " 8 \\tr X^3 Y \\tr X Y \n",
       " + 4 \\tr X^4 \\tr Y^2 \n",
       " - 8 \\tr X^2 \\tr X^2 Y^2 \n",
       " - 4 \\tr X^2 \\tr \\left( X Y \\right)^2 \n",
       " - 8 \\tr X^4 Y \\tr Y \n",
       " + 4 \\tr X \\tr X^3 Y^2 \n",
       " + 4 \\tr X \\tr X^2 Y X Y \n",
       " + 2 \\tr X^4 \\left( \\tr Y \\right)^2 \n",
       " + 4 \\tr X \\tr X^3 Y \\tr Y \n",
       " - 12 \\tr X^2 \\tr X^2 Y \\tr Y \n",
       " - \\left( \\tr X^2 \\right)^2 \\left( \\tr Y \\right)^2 \n",
       " - 2 \\tr X \\tr X^2 \\tr X Y \\tr Y \n",
       " - 4 \\left( \\tr X \\right)^2 \\tr X^2 Y^2 \n",
       " - 2 \\left( \\tr X \\right)^2 \\tr \\left( X Y \\right)^2 \n",
       " + 12 \\tr X \\tr X^2 Y \\tr X Y \n",
       " + 6 \\tr X \\tr X^3 \\tr Y^2 \n",
       " + 2 \\left( \\tr X \\right)^2 \\left( \\tr X Y \\right)^2 \n",
       " + \\left( \\tr X \\right)^2 \\tr X^2 \\tr Y^2 \n",
       " - 6 \\tr X \\tr X^2 \\tr X Y^2 \n",
       " + 6 \\tr X \\tr X^3 \\left( \\tr Y \\right)^2 \n",
       " - 6 \\left( \\tr X \\right)^3 \\tr X Y^2 \n",
       " + 3 \\left( \\tr X \\right)^2 \\tr X^2 \\left( \\tr Y \\right)^2 \n",
       " - 2 \\left( \\tr X \\right)^3 \\tr X Y \\tr Y \n",
       " - \\left( \\tr X \\right)^4 \\tr Y^2 \n",
       "\\right] \\\\\n",
       " O_{\n",
       " \\fontsize{6pt}{0} \\begin{ytableau}\n",
       " 1 & 1 & 1 & 1 & 2 \\\\ 2 \n",
       "\\end{ytableau} \\fontsize{12pt}{0} ,\n",
       "[5, 1] ,\n",
       "1 } & =\n",
       " \\frac{1}{144} \\, \\sqrt{3} \\sqrt{2} \\left[\n",
       " 24 \\tr X^4 Y \\tr Y \n",
       " - 12 \\tr X \\tr X^3 Y^2 \n",
       " - 12 \\tr X \\tr X^2 Y X Y \n",
       " + 6 \\tr X^4 \\left( \\tr Y \\right)^2 \n",
       " + 12 \\tr X \\tr X^3 Y \\tr Y \n",
       " + 8 \\tr X^3 \\tr X Y \\tr Y \n",
       " + 12 \\tr X^2 \\tr X^2 Y \\tr Y \n",
       " - 12 \\left( \\tr X \\right)^2 \\tr X^2 Y^2 \n",
       " - 6 \\left( \\tr X \\right)^2 \\tr \\left( X Y \\right)^2 \n",
       " - 12 \\tr X \\tr X^2 Y \\tr X Y \n",
       " - 2 \\tr X \\tr X^3 \\tr Y^2 \n",
       " - 6 \\tr X \\tr X^2 \\tr X Y^2 \n",
       " + 6 \\tr X \\tr X^3 \\left( \\tr Y \\right)^2 \n",
       " + 3 \\left( \\tr X^2 \\right)^2 \\left( \\tr Y \\right)^2 \n",
       " + 6 \\tr X \\tr X^2 \\tr X Y \\tr Y \n",
       " - 6 \\left( \\tr X \\right)^3 \\tr X Y^2 \n",
       " - 6 \\left( \\tr X \\right)^2 \\left( \\tr X Y \\right)^2 \n",
       " - 3 \\left( \\tr X \\right)^2 \\tr X^2 \\tr Y^2 \n",
       " + 3 \\left( \\tr X \\right)^2 \\tr X^2 \\left( \\tr Y \\right)^2 \n",
       " - 2 \\left( \\tr X \\right)^3 \\tr X Y \\tr Y \n",
       " - \\left( \\tr X \\right)^4 \\tr Y^2 \n",
       "\\right] \\\\\n",
       " O_{\n",
       " \\fontsize{6pt}{0} \\begin{ytableau}\n",
       " 1 & 1 & 1 & 1 \\\\ 2 & 2 \n",
       "\\end{ytableau} \\fontsize{12pt}{0} ,\n",
       "[2, 1, 1, 1, 1] ,\n",
       "1 } & =\n",
       " \\frac{1}{1560} \\, \\sqrt{13} \\sqrt{3} \\sqrt{2} \\left[\n",
       " - 24 \\tr X^4 \\tr Y^2 \n",
       " + 48 \\tr X^3 Y \\tr X Y \n",
       " - 24 \\tr X^3 \\tr X Y^2 \n",
       " - 16 \\tr X^2 \\tr X^2 Y^2 \n",
       " - 8 \\tr X^2 \\tr \\left( X Y \\right)^2 \n",
       " + 24 \\left( \\tr X^2 Y \\right)^2 \n",
       " + 6 \\tr X^4 \\left( \\tr Y \\right)^2 \n",
       " - 12 \\tr X \\tr X^3 Y \\tr Y \n",
       " + 30 \\tr X \\tr X^3 \\tr Y^2 \n",
       " + 12 \\left( \\tr X^2 \\right)^2 \\tr Y^2 \n",
       " + 4 \\left( \\tr X \\right)^2 \\tr X^2 Y^2 \n",
       " + 2 \\left( \\tr X \\right)^2 \\tr \\left( X Y \\right)^2 \n",
       " - 60 \\tr X \\tr X^2 Y \\tr X Y \n",
       " - 12 \\tr X^2 \\left( \\tr X Y \\right)^2 \n",
       " - 6 \\tr X \\tr X^3 \\left( \\tr Y \\right)^2 \n",
       " - 3 \\left( \\tr X^2 \\right)^2 \\left( \\tr Y \\right)^2 \n",
       " + 12 \\left( \\tr X \\right)^2 \\tr X^2 Y \\tr Y \n",
       " + 6 \\tr X \\tr X^2 \\tr X Y \\tr Y \n",
       " - 21 \\left( \\tr X \\right)^2 \\tr X^2 \\tr Y^2 \n",
       " + 3 \\left( \\tr X \\right)^2 \\tr X^2 \\left( \\tr Y \\right)^2 \n",
       " - 6 \\left( \\tr X \\right)^3 \\tr X Y^2 \n",
       " + 18 \\left( \\tr X \\right)^2 \\left( \\tr X Y \\right)^2 \n",
       " - 6 \\left( \\tr X \\right)^3 \\tr X Y \\tr Y \n",
       " + 3 \\left( \\tr X \\right)^4 \\tr Y^2 \n",
       " + 30 \\tr X \\tr X^2 \\tr X Y^2 \n",
       " \\right] \\\\\n",
       " O_{\n",
       " \\fontsize{6pt}{0} \\begin{ytableau}\n",
       " 1 & 1 & 1 & 1 \\\\ 2 & 2 \n",
       "\\end{ytableau} \\fontsize{12pt}{0} ,\n",
       "[2, 2, 1, 1] ,\n",
       "1 } & =\n",
       " \\frac{\\sqrt{5} \\sqrt{3} \\sqrt{2}}{\\sqrt{800865 \\, N^{10} + 9437886 \\, N^{9} + 33467643 \\, N^{8} + 1138860 \\, N^{7} - 193105977 \\, N^{6} - 156416250 \\, N^{5} + 488065701 \\, N^{4} + 408583176 \\, N^{3} - 592865468 \\, N^{2} - 180615072 \\, N + 461571136}} \\left[\n",
       " \\left( \\frac{591}{40} \\, N^{5} + \\frac{669}{8} \\, N^{4} + \\frac{1563}{40} \\, N^{3} - \\frac{10083}{40} \\, N^{2} + \\frac{432}{5} \\, N + \\frac{2516}{5} \\right) \\tr X^4 \\tr Y^2 \n",
       " + \\left( \\frac{197}{20} \\, N^{5} + \\frac{223}{4} \\, N^{4} + \\frac{521}{20} \\, N^{3} - \\frac{3361}{20} \\, N^{2} + \\frac{288}{5} \\, N + \\frac{5032}{15} \\right) \\tr X^2 \\tr X^2 Y^2 \n",
       " + \\left( \\frac{197}{40} \\, N^{5} + \\frac{223}{8} \\, N^{4} + \\frac{521}{40} \\, N^{3} - \\frac{3361}{40} \\, N^{2} + \\frac{144}{5} \\, N + \\frac{2516}{15} \\right) \\tr X^2 \\tr \\left( X Y \\right)^2 \n",
       " + \\left( \\frac{291}{10} \\, N^{5} + \\frac{1749}{10} \\, N^{4} + \\frac{231}{2} \\, N^{3} - \\frac{1263}{2} \\, N^{2} - \\frac{2178}{5} \\, N + \\frac{2488}{5} \\right) \\left( \\tr X^2 Y \\right)^2 \n",
       " + \\left( -\\frac{489}{40} \\, N^{5} - \\frac{2847}{40} \\, N^{4} - \\frac{1593}{40} \\, N^{3} + \\frac{9393}{40} \\, N^{2} + \\frac{463}{10} \\, N - \\frac{1602}{5} \\right) \\tr X^4 \\left( \\tr Y \\right)^2 \n",
       " + \\left( -\\frac{117}{4} \\, N^{5} - \\frac{3447}{20} \\, N^{4} - \\frac{2061}{20} \\, N^{3} + \\frac{11781}{20} \\, N^{2} + \\frac{1164}{5} \\, N - \\frac{3336}{5} \\right) \\tr X^2 \\tr X^2 Y \\tr Y \n",
       " + \\left( -\\frac{147}{10} \\, N^{5} - \\frac{849}{10} \\, N^{4} - \\frac{453}{10} \\, N^{3} + \\frac{2733}{10} \\, N^{2} + 15 \\, N - \\frac{2092}{5} \\right) \\left( \\tr X^2 \\right)^2 \\tr Y^2 \n",
       " + \\left( \\frac{537}{40} \\, N^{5} + \\frac{3147}{40} \\, N^{4} + \\frac{1827}{40} \\, N^{3} - \\frac{10587}{40} \\, N^{2} - \\frac{1627}{20} \\, N + 327 \\right) \\left( \\tr X^2 \\right)^2 \\left( \\tr Y \\right)^2 \n",
       " + \\left( -\\frac{591}{20} \\, N^{5} - \\frac{669}{4} \\, N^{4} - \\frac{1563}{20} \\, N^{3} + \\frac{10083}{20} \\, N^{2} - \\frac{864}{5} \\, N - \\frac{5032}{5} \\right) \\tr X^3 Y \\tr X Y \n",
       " + \\left( -\\frac{291}{10} \\, N^{5} - \\frac{1749}{10} \\, N^{4} - \\frac{231}{2} \\, N^{3} + \\frac{1263}{2} \\, N^{2} + \\frac{2178}{5} \\, N - \\frac{2488}{5} \\right) \\tr X^3 \\tr X Y^2 \n",
       " + \\left( \\frac{489}{20} \\, N^{5} + \\frac{2847}{20} \\, N^{4} + \\frac{1593}{20} \\, N^{3} - \\frac{9393}{20} \\, N^{2} - \\frac{463}{5} \\, N + \\frac{3204}{5} \\right) \\tr X \\tr X^3 Y \\tr Y \n",
       " + \\left( -\\frac{163}{20} \\, N^{5} - \\frac{949}{20} \\, N^{4} - \\frac{531}{20} \\, N^{3} + \\frac{3131}{20} \\, N^{2} + \\frac{463}{15} \\, N - \\frac{1068}{5} \\right) \\left( \\tr X \\right)^2 \\tr X^2 Y^2 \n",
       " + \\left( -\\frac{163}{40} \\, N^{5} - \\frac{949}{40} \\, N^{4} - \\frac{531}{40} \\, N^{3} + \\frac{3131}{40} \\, N^{2} + \\frac{463}{30} \\, N - \\frac{534}{5} \\right) \\left( \\tr X \\right)^2 \\tr \\left( X Y \\right)^2 \n",
       " + \\left( \\frac{117}{4} \\, N^{5} + \\frac{3447}{20} \\, N^{4} + \\frac{2061}{20} \\, N^{3} - \\frac{11781}{20} \\, N^{2} - \\frac{1164}{5} \\, N + \\frac{3336}{5} \\right) \\tr X^3 \\tr X Y \\tr Y \n",
       " + \\left( -\\frac{135}{4} \\, N^{5} - \\frac{4149}{20} \\, N^{4} - \\frac{3027}{20} \\, N^{3} + \\frac{15867}{20} \\, N^{2} + \\frac{3893}{5} \\, N - \\frac{1772}{5} \\right) \\tr X \\tr X^2 Y \\tr X Y \n",
       " + \\left( \\frac{9}{4} \\, N^{5} + \\frac{351}{20} \\, N^{4} + \\frac{483}{20} \\, N^{3} - \\frac{2043}{20} \\, N^{2} - \\frac{2729}{10} \\, N - \\frac{782}{5} \\right) \\tr X \\tr X^3 \\tr Y^2 \n",
       " + \\left( \\frac{63}{2} \\, N^{5} + \\frac{1899}{10} \\, N^{4} + \\frac{636}{5} \\, N^{3} - \\frac{3456}{5} \\, N^{2} - \\frac{5057}{10} \\, N + \\frac{2554}{5} \\right) \\tr X \\tr X^2 \\tr X Y^2 \n",
       " + \\left( \\frac{147}{10} \\, N^{5} + \\frac{849}{10} \\, N^{4} + \\frac{453}{10} \\, N^{3} - \\frac{2733}{10} \\, N^{2} - 15 \\, N + \\frac{2092}{5} \\right) \\tr X^2 \\left( \\tr X Y \\right)^2 \n",
       " + \\left( -\\frac{537}{20} \\, N^{5} - \\frac{3147}{20} \\, N^{4} - \\frac{1827}{20} \\, N^{3} + \\frac{10587}{20} \\, N^{2} + \\frac{1627}{10} \\, N - 654 \\right) \\tr X \\tr X^2 \\tr X Y \\tr Y \n",
       " + \\left( \\frac{339}{20} \\, N^{5} + \\frac{2049}{20} \\, N^{4} + \\frac{1389}{20} \\, N^{3} - \\frac{7509}{20} \\, N^{2} - \\frac{2879}{10} \\, N + 262 \\right) \\left( \\tr X \\right)^2 \\left( \\tr X Y \\right)^2 \n",
       " + \\left( -\\frac{141}{40} \\, N^{5} - \\frac{951}{40} \\, N^{4} - \\frac{951}{40} \\, N^{3} + \\frac{4431}{40} \\, N^{2} + \\frac{4131}{20} \\, N + 65 \\right) \\left( \\tr X \\right)^2 \\tr X^2 \\tr Y^2 \n",
       " + \\left( -\\frac{12}{5} \\, N^{5} - 15 \\, N^{4} - \\frac{117}{10} \\, N^{3} + \\frac{597}{10} \\, N^{2} + \\frac{701}{10} \\, N - \\frac{66}{5} \\right) \\tr X \\tr X^3 \\left( \\tr Y \\right)^2 \n",
       " + \\left( \\frac{24}{5} \\, N^{5} + 30 \\, N^{4} + \\frac{117}{5} \\, N^{3} - \\frac{597}{5} \\, N^{2} - \\frac{701}{5} \\, N + \\frac{132}{5} \\right) \\left( \\tr X \\right)^2 \\tr X^2 Y \\tr Y \n",
       " + \\left( \\frac{6}{5} \\, N^{5} + \\frac{15}{2} \\, N^{4} + \\frac{117}{20} \\, N^{3} - \\frac{597}{20} \\, N^{2} - \\frac{701}{20} \\, N + \\frac{33}{5} \\right) \\left( \\tr X \\right)^2 \\tr X^2 \\left( \\tr Y \\right)^2 \n",
       " + \\left( -\\frac{12}{5} \\, N^{5} - 15 \\, N^{4} - \\frac{117}{10} \\, N^{3} + \\frac{597}{10} \\, N^{2} + \\frac{701}{10} \\, N - \\frac{66}{5} \\right) \\left( \\tr X \\right)^3 \\tr X Y^2 \n",
       " + \\left( -\\frac{12}{5} \\, N^{5} - 15 \\, N^{4} - \\frac{117}{10} \\, N^{3} + \\frac{597}{10} \\, N^{2} + \\frac{701}{10} \\, N - \\frac{66}{5} \\right) \\left( \\tr X \\right)^3 \\tr X Y \\tr Y \n",
       " + \\left( \\frac{6}{5} \\, N^{5} + \\frac{15}{2} \\, N^{4} + \\frac{117}{20} \\, N^{3} - \\frac{597}{20} \\, N^{2} - \\frac{701}{20} \\, N + \\frac{33}{5} \\right) \\left( \\tr X \\right)^4 \\tr Y^2 \n",
       "\\right] \\\\\n",
       " O_{\n",
       " \\fontsize{6pt}{0} \\begin{ytableau}\n",
       " 1 & 1 & 1 & 1 \\\\ 2 & 2 \n",
       "\\end{ytableau} \\fontsize{12pt}{0} ,\n",
       "[2, 2, 1, 1] ,\n",
       "2 } & =\n",
       " \\frac{\\sqrt{5} \\sqrt{3}}{\\sqrt{16485498 \\, N^{16} + 372109842 \\, N^{15} + 3526424811 \\, N^{14} + 17527841316 \\, N^{13} + 43212010068 \\, N^{12} + 10987199964 \\, N^{11} - 223037932098 \\, N^{10} - 473937551400 \\, N^{9} + 181148217882 \\, N^{8} + 1913807035986 \\, N^{7} + 1779582859871 \\, N^{6} - 2651191051036 \\, N^{5} - 6039661300304 \\, N^{4} - 1600350184096 \\, N^{3} + 5269426399088 \\, N^{2} + 5422530719424 \\, N + 1625646965184}} \\left[\n",
       " \\left( \\frac{2151}{20} \\, N^{8} + \\frac{6783}{5} \\, N^{7} + \\frac{28089}{5} \\, N^{6} + \\frac{24147}{5} \\, N^{5} - \\frac{92625}{4} \\, N^{4} - \\frac{245136}{5} \\, N^{3} + \\frac{26591}{2} \\, N^{2} + \\frac{474856}{5} \\, N + \\frac{283152}{5} \\right) \\tr X^4 \\tr Y^2 \n",
       " + \\left( \\frac{1}{5} \\, {\\left(567 \\, N^{6} + 3966 \\, N^{5} + 2778 \\, N^{4} - 25230 \\, N^{3} - 31149 \\, N^{2} + 38064 \\, N + 46004\\right)} {\\left(N + 3\\right)} {\\left(N + 2\\right)} \\right) \\tr X^3 \\tr X Y^2 \n",
       " + \\left( \\frac{717}{10} \\, N^{8} + \\frac{4522}{5} \\, N^{7} + \\frac{18726}{5} \\, N^{6} + \\frac{16098}{5} \\, N^{5} - \\frac{30875}{2} \\, N^{4} - \\frac{163424}{5} \\, N^{3} + \\frac{26591}{3} \\, N^{2} + \\frac{949712}{15} \\, N + \\frac{188768}{5} \\right) \\tr X^2 \\tr X^2 Y^2 \n",
       " + \\left( \\frac{717}{20} \\, N^{8} + \\frac{2261}{5} \\, N^{7} + \\frac{9363}{5} \\, N^{6} + \\frac{8049}{5} \\, N^{5} - \\frac{30875}{4} \\, N^{4} - \\frac{81712}{5} \\, N^{3} + \\frac{26591}{6} \\, N^{2} + \\frac{474856}{15} \\, N + \\frac{94384}{5} \\right) \\tr X^2 \\tr \\left( X Y \\right)^2 \n",
       " + \\left( -\\frac{3}{10} \\, N^{8} - \\frac{762}{5} \\, N^{7} - \\frac{4779}{5} \\, N^{6} + \\frac{4407}{5} \\, N^{5} + \\frac{170227}{10} \\, N^{4} + \\frac{158491}{5} \\, N^{3} - \\frac{71403}{5} \\, N^{2} - \\frac{387286}{5} \\, N - 47256 \\right) \\tr X \\tr X^3 \\tr Y^2 \n",
       " + \\left( -\\frac{264}{5} \\, N^{8} - \\frac{6777}{10} \\, N^{7} - \\frac{14391}{5} \\, N^{6} - \\frac{14022}{5} \\, N^{5} + \\frac{53749}{5} \\, N^{4} + \\frac{237161}{10} \\, N^{3} - 7216 \\, N^{2} - 48034 \\, N - \\frac{142764}{5} \\right) \\left( \\tr X^2 \\right)^2 \\tr Y^2 \n",
       " + \\left( \\frac{741}{10} \\, N^{8} + \\frac{4022}{5} \\, N^{7} + \\frac{14616}{5} \\, N^{6} + 2768 \\, N^{5} - \\frac{62979}{10} \\, N^{4} - \\frac{41038}{3} \\, N^{3} - \\frac{32581}{15} \\, N^{2} + \\frac{51068}{5} \\, N + 5616 \\right) \\left( \\tr X \\right)^2 \\tr X^2 Y^2 \n",
       " + \\left( \\frac{741}{20} \\, N^{8} + \\frac{2011}{5} \\, N^{7} + \\frac{7308}{5} \\, N^{6} + 1384 \\, N^{5} - \\frac{62979}{20} \\, N^{4} - \\frac{20519}{3} \\, N^{3} - \\frac{32581}{30} \\, N^{2} + \\frac{25534}{5} \\, N + 2808 \\right) \\left( \\tr X \\right)^2 \\tr \\left( X Y \\right)^2 \n",
       " + \\left( -\\frac{21}{5} \\, N^{8} - \\frac{774}{5} \\, N^{7} - \\frac{3393}{5} \\, N^{6} + \\frac{12201}{5} \\, N^{5} + 20336 \\, N^{4} + \\frac{174441}{5} \\, N^{3} - \\frac{60038}{5} \\, N^{2} - \\frac{376318}{5} \\, N - \\frac{231528}{5} \\right) \\tr X \\tr X^2 \\tr X Y^2 \n",
       " + \\left( -\\frac{2181}{20} \\, N^{8} - \\frac{5646}{5} \\, N^{7} - \\frac{8091}{2} \\, N^{6} - \\frac{53721}{10} \\, N^{5} - \\frac{14423}{20} \\, N^{4} + \\frac{30749}{10} \\, N^{3} + \\frac{92619}{10} \\, N^{2} + \\frac{111557}{5} \\, N + \\frac{73644}{5} \\right) \\left( \\tr X \\right)^2 \\tr X^2 \\tr Y^2 \n",
       " + \\left( -\\frac{2151}{10} \\, N^{8} - \\frac{13566}{5} \\, N^{7} - \\frac{56178}{5} \\, N^{6} - \\frac{48294}{5} \\, N^{5} + \\frac{92625}{2} \\, N^{4} + \\frac{490272}{5} \\, N^{3} - 26591 \\, N^{2} - \\frac{949712}{5} \\, N - \\frac{566304}{5} \\right) \\tr X^3 Y \\tr X Y \n",
       " + \\left( -\\frac{1}{5} \\, {\\left(567 \\, N^{6} + 3966 \\, N^{5} + 2778 \\, N^{4} - 25230 \\, N^{3} - 31149 \\, N^{2} + 38064 \\, N + 46004\\right)} {\\left(N + 3\\right)} {\\left(N + 2\\right)} \\right) \\left( \\tr X^2 Y \\right)^2 \n",
       " + \\left( \\frac{2223}{20} \\, N^{8} + \\frac{6033}{5} \\, N^{7} + \\frac{21924}{5} \\, N^{6} + 4152 \\, N^{5} - \\frac{188937}{20} \\, N^{4} - 20519 \\, N^{3} - \\frac{32581}{10} \\, N^{2} + \\frac{76602}{5} \\, N + 8424 \\right) \\tr X^4 \\left( \\tr Y \\right)^2 \n",
       " + \\left( -\\frac{2223}{10} \\, N^{8} - \\frac{12066}{5} \\, N^{7} - \\frac{43848}{5} \\, N^{6} - 8304 \\, N^{5} + \\frac{188937}{10} \\, N^{4} + 41038 \\, N^{3} + \\frac{32581}{5} \\, N^{2} - \\frac{153204}{5} \\, N - 16848 \\right) \\tr X \\tr X^3 Y \\tr Y \n",
       " + \\left( -\\frac{39}{10} \\, N^{8} - \\frac{12}{5} \\, N^{7} + \\frac{1386}{5} \\, N^{6} + \\frac{7794}{5} \\, N^{5} + \\frac{33133}{10} \\, N^{4} + 3190 \\, N^{3} + 2273 \\, N^{2} + \\frac{10968}{5} \\, N + \\frac{4752}{5} \\right) \\tr X^3 \\tr X Y \\tr Y \n",
       " + \\left( \\frac{39}{10} \\, N^{8} + \\frac{12}{5} \\, N^{7} - \\frac{1386}{5} \\, N^{6} - \\frac{7794}{5} \\, N^{5} - \\frac{33133}{10} \\, N^{4} - 3190 \\, N^{3} - 2273 \\, N^{2} - \\frac{10968}{5} \\, N - \\frac{4752}{5} \\right) \\tr X^2 \\tr X^2 Y \\tr Y \n",
       " + \\left( \\frac{9}{2} \\, N^{8} + \\frac{1536}{5} \\, N^{7} + \\frac{8172}{5} \\, N^{6} - \\frac{16608}{5} \\, N^{5} - \\frac{373587}{10} \\, N^{4} - \\frac{332932}{5} \\, N^{3} + \\frac{131441}{5} \\, N^{2} + \\frac{763604}{5} \\, N + \\frac{467808}{5} \\right) \\tr X \\tr X^2 Y \\tr X Y \n",
       " + \\left( \\frac{264}{5} \\, N^{8} + \\frac{6777}{10} \\, N^{7} + \\frac{14391}{5} \\, N^{6} + \\frac{14022}{5} \\, N^{5} - \\frac{53749}{5} \\, N^{4} - \\frac{237161}{10} \\, N^{3} + 7216 \\, N^{2} + 48034 \\, N + \\frac{142764}{5} \\right) \\tr X^2 \\left( \\tr X Y \\right)^2 \n",
       " + \\left( -\\frac{1131}{20} \\, N^{8} - \\frac{6039}{10} \\, N^{7} - \\frac{21231}{10} \\, N^{6} - \\frac{16863}{10} \\, N^{5} + \\frac{22207}{4} \\, N^{4} + 11057 \\, N^{3} + \\frac{21973}{10} \\, N^{2} - \\frac{35559}{5} \\, N - \\frac{19872}{5} \\right) \\left( \\tr X^2 \\right)^2 \\left( \\tr Y \\right)^2 \n",
       " + \\left( \\frac{1131}{10} \\, N^{8} + \\frac{6039}{5} \\, N^{7} + \\frac{21231}{5} \\, N^{6} + \\frac{16863}{5} \\, N^{5} - \\frac{22207}{2} \\, N^{4} - 22114 \\, N^{3} - \\frac{21973}{5} \\, N^{2} + \\frac{71118}{5} \\, N + \\frac{39744}{5} \\right) \\tr X \\tr X^2 \\tr X Y \\tr Y \n",
       " + \\left( \\frac{105}{2} \\, N^{8} + \\frac{5253}{10} \\, N^{7} + \\frac{9612}{5} \\, N^{6} + \\frac{18429}{5} \\, N^{5} + \\frac{62729}{10} \\, N^{4} + \\frac{79821}{10} \\, N^{3} - \\frac{35323}{5} \\, N^{2} - \\frac{147116}{5} \\, N - \\frac{93516}{5} \\right) \\left( \\tr X \\right)^2 \\left( \\tr X Y \\right)^2 \n",
       " + \\left( -\\frac{546}{5} \\, N^{8} - \\frac{6027}{5} \\, N^{7} - \\frac{22617}{5} \\, N^{6} - \\frac{24657}{5} \\, N^{5} + \\frac{38951}{5} \\, N^{4} + 18924 \\, N^{3} + \\frac{10608}{5} \\, N^{2} - \\frac{82086}{5} \\, N - \\frac{44496}{5} \\right) \\tr X \\tr X^3 \\left( \\tr Y \\right)^2 \n",
       " + \\left( \\frac{1092}{5} \\, N^{8} + \\frac{12054}{5} \\, N^{7} + \\frac{45234}{5} \\, N^{6} + \\frac{49314}{5} \\, N^{5} - \\frac{77902}{5} \\, N^{4} - 37848 \\, N^{3} - \\frac{21216}{5} \\, N^{2} + \\frac{164172}{5} \\, N + \\frac{88992}{5} \\right) \\left( \\tr X \\right)^2 \\tr X^2 Y \\tr Y \n",
       " + \\left( \\frac{273}{5} \\, N^{8} + \\frac{6027}{10} \\, N^{7} + \\frac{22617}{10} \\, N^{6} + \\frac{24657}{10} \\, N^{5} - \\frac{38951}{10} \\, N^{4} - 9462 \\, N^{3} - \\frac{5304}{5} \\, N^{2} + \\frac{41043}{5} \\, N + \\frac{22248}{5} \\right) \\left( \\tr X \\right)^2 \\tr X^2 \\left( \\tr Y \\right)^2 \n",
       " + \\left( -\\frac{546}{5} \\, N^{8} - \\frac{6027}{5} \\, N^{7} - \\frac{22617}{5} \\, N^{6} - \\frac{24657}{5} \\, N^{5} + \\frac{38951}{5} \\, N^{4} + 18924 \\, N^{3} + \\frac{10608}{5} \\, N^{2} - \\frac{82086}{5} \\, N - \\frac{44496}{5} \\right) \\left( \\tr X \\right)^3 \\tr X Y^2 \n",
       " + \\left( -\\frac{546}{5} \\, N^{8} - \\frac{6027}{5} \\, N^{7} - \\frac{22617}{5} \\, N^{6} - \\frac{24657}{5} \\, N^{5} + \\frac{38951}{5} \\, N^{4} + 18924 \\, N^{3} + \\frac{10608}{5} \\, N^{2} - \\frac{82086}{5} \\, N - \\frac{44496}{5} \\right) \\left( \\tr X \\right)^3 \\tr X Y \\tr Y \n",
       " + \\left( \\frac{273}{5} \\, N^{8} + \\frac{6027}{10} \\, N^{7} + \\frac{22617}{10} \\, N^{6} + \\frac{24657}{10} \\, N^{5} - \\frac{38951}{10} \\, N^{4} - 9462 \\, N^{3} - \\frac{5304}{5} \\, N^{2} + \\frac{41043}{5} \\, N + \\frac{22248}{5} \\right) \\left( \\tr X \\right)^4 \\tr Y^2 \n",
       "\\right] \\\\\n",
       " O_{\n",
       " \\fontsize{6pt}{0} \\begin{ytableau}\n",
       " 1 & 1 & 1 & 1 \\\\ 2 & 2 \n",
       "\\end{ytableau} \\fontsize{12pt}{0} ,\n",
       "[3, 1, 1, 1] ,\n",
       "1 } & =\n",
       " \\frac{\\sqrt{5} \\sqrt{2}}{\\sqrt{186952050 \\, N^{16} + 3536495640 \\, N^{15} + 26705103813 \\, N^{14} + 95492758734 \\, N^{13} + 112478339025 \\, N^{12} - 286047496188 \\, N^{11} - 999101163699 \\, N^{10} - 350495059842 \\, N^{9} + 2235843225645 \\, N^{8} + 2362509269328 \\, N^{7} - 2087017192350 \\, N^{6} - 3902158433952 \\, N^{5} - 392361367460 \\, N^{4} + 1653089248224 \\, N^{3} + 1596254485464 \\, N^{2} + 1758984922656 \\, N + 842703162912}} \\left[\n",
       " \\left( \\frac{513}{4} \\, N^{8} + \\frac{34551}{20} \\, N^{7} + \\frac{33201}{5} \\, N^{6} + \\frac{16767}{10} \\, N^{5} - \\frac{695871}{20} \\, N^{4} - \\frac{899991}{20} \\, N^{3} + \\frac{358203}{10} \\, N^{2} + \\frac{825693}{10} \\, N + \\frac{162279}{5} \\right) \\tr X^4 \\tr Y^2 \n",
       " + \\left( -\\frac{513}{2} \\, N^{8} - \\frac{34551}{10} \\, N^{7} - \\frac{66402}{5} \\, N^{6} - \\frac{16767}{5} \\, N^{5} + \\frac{695871}{10} \\, N^{4} + \\frac{899991}{10} \\, N^{3} - \\frac{358203}{5} \\, N^{2} - \\frac{825693}{5} \\, N - \\frac{324558}{5} \\right) \\tr X^3 Y \\tr X Y \n",
       " + \\left( \\frac{3}{5} \\, {\\left(1485 \\, N^{6} + 10464 \\, N^{5} + 13209 \\, N^{4} - 35562 \\, N^{3} - 58194 \\, N^{2} + 32088 \\, N + 52760\\right)} {\\left(N + 3\\right)} N \\right) \\tr X^3 \\tr X Y^2 \n",
       " + \\left( -\\frac{2241}{4} \\, N^{8} - \\frac{50391}{10} \\, N^{7} - \\frac{255753}{20} \\, N^{6} + \\frac{58347}{20} \\, N^{5} + \\frac{211482}{5} \\, N^{4} + \\frac{48099}{4} \\, N^{3} - \\frac{244194}{5} \\, N^{2} + \\frac{4863}{2} \\, N + \\frac{162279}{5} \\right) \\tr X^4 \\left( \\tr Y \\right)^2 \n",
       " + \\left( \\frac{2241}{2} \\, N^{8} + \\frac{50391}{5} \\, N^{7} + \\frac{255753}{10} \\, N^{6} - \\frac{58347}{10} \\, N^{5} - \\frac{422964}{5} \\, N^{4} - \\frac{48099}{2} \\, N^{3} + \\frac{488388}{5} \\, N^{2} - 4863 \\, N - \\frac{324558}{5} \\right) \\tr X \\tr X^3 Y \\tr Y \n",
       " + \\left( -\\frac{1017}{2} \\, N^{8} - \\frac{48159}{10} \\, N^{7} - \\frac{67068}{5} \\, N^{6} - \\frac{2541}{5} \\, N^{5} + \\frac{427563}{10} \\, N^{4} + \\frac{269979}{10} \\, N^{3} - \\frac{178647}{5} \\, N^{2} - \\frac{41329}{5} \\, N + \\frac{108186}{5} \\right) \\tr X^3 \\tr X Y \\tr Y \n",
       " + \\left( \\frac{1233}{4} \\, N^{8} + \\frac{53091}{20} \\, N^{7} + \\frac{137799}{20} \\, N^{6} + \\frac{66453}{20} \\, N^{5} - \\frac{30501}{10} \\, N^{4} + \\frac{108477}{10} \\, N^{3} - \\frac{16401}{5} \\, N^{2} - \\frac{299842}{5} \\, N - \\frac{216372}{5} \\right) \\tr X \\tr X^3 \\tr Y^2 \n",
       " + \\left( \\frac{1251}{4} \\, N^{8} + \\frac{54027}{20} \\, N^{7} + \\frac{125013}{20} \\, N^{6} - \\frac{70533}{20} \\, N^{5} - \\frac{227091}{10} \\, N^{4} - \\frac{5661}{5} \\, N^{3} + \\frac{138337}{5} \\, N^{2} - 7777 \\, N - \\frac{108186}{5} \\right) \\tr X \\tr X^3 \\left( \\tr Y \\right)^2 \n",
       " + \\left( \\frac{171}{2} \\, N^{8} + \\frac{11517}{10} \\, N^{7} + \\frac{22134}{5} \\, N^{6} + \\frac{5589}{5} \\, N^{5} - \\frac{231957}{10} \\, N^{4} - \\frac{299997}{10} \\, N^{3} + \\frac{119401}{5} \\, N^{2} + \\frac{275231}{5} \\, N + \\frac{108186}{5} \\right) \\tr X^2 \\tr X^2 Y^2 \n",
       " + \\left( \\frac{171}{4} \\, N^{8} + \\frac{11517}{20} \\, N^{7} + \\frac{11067}{5} \\, N^{6} + \\frac{5589}{10} \\, N^{5} - \\frac{231957}{20} \\, N^{4} - \\frac{299997}{20} \\, N^{3} + \\frac{119401}{10} \\, N^{2} + \\frac{275231}{10} \\, N + \\frac{54093}{5} \\right) \\tr X^2 \\tr \\left( X Y \\right)^2 \n",
       " + \\left( -\\frac{3}{5} \\, {\\left(1485 \\, N^{6} + 10464 \\, N^{5} + 13209 \\, N^{4} - 35562 \\, N^{3} - 58194 \\, N^{2} + 32088 \\, N + 52760\\right)} {\\left(N + 3\\right)} N \\right) \\left( \\tr X^2 Y \\right)^2 \n",
       " + \\left( -\\frac{747}{2} \\, N^{8} - \\frac{16797}{5} \\, N^{7} - \\frac{85251}{10} \\, N^{6} + \\frac{19449}{10} \\, N^{5} + \\frac{140988}{5} \\, N^{4} + \\frac{16033}{2} \\, N^{3} - \\frac{162796}{5} \\, N^{2} + 1621 \\, N + \\frac{108186}{5} \\right) \\left( \\tr X \\right)^2 \\tr X^2 Y^2 \n",
       " + \\left( -\\frac{747}{4} \\, N^{8} - \\frac{16797}{10} \\, N^{7} - \\frac{85251}{20} \\, N^{6} + \\frac{19449}{20} \\, N^{5} + \\frac{70494}{5} \\, N^{4} + \\frac{16033}{4} \\, N^{3} - \\frac{81398}{5} \\, N^{2} + \\frac{1621}{2} \\, N + \\frac{54093}{5} \\right) \\left( \\tr X \\right)^2 \\tr \\left( X Y \\right)^2 \n",
       " + \\left( \\frac{1017}{2} \\, N^{8} + \\frac{48159}{10} \\, N^{7} + \\frac{67068}{5} \\, N^{6} + \\frac{2541}{5} \\, N^{5} - \\frac{427563}{10} \\, N^{4} - \\frac{269979}{10} \\, N^{3} + \\frac{178647}{5} \\, N^{2} + \\frac{41329}{5} \\, N - \\frac{108186}{5} \\right) \\tr X^2 \\tr X^2 Y \\tr Y \n",
       " + \\left( -108 \\, N^{8} - \\frac{2466}{5} \\, N^{7} - \\frac{3663}{10} \\, N^{6} - \\frac{61371}{10} \\, N^{5} - \\frac{366561}{10} \\, N^{4} - \\frac{486933}{10} \\, N^{3} + \\frac{211449}{5} \\, N^{2} + \\frac{641013}{5} \\, N + \\frac{324558}{5} \\right) \\tr X \\tr X^2 Y \\tr X Y \n",
       " + \\left( -\\frac{801}{4} \\, N^{8} - \\frac{43227}{20} \\, N^{7} - \\frac{130473}{20} \\, N^{6} + \\frac{56289}{20} \\, N^{5} + \\frac{198531}{5} \\, N^{4} + \\frac{189228}{5} \\, N^{3} - \\frac{195048}{5} \\, N^{2} - \\frac{341171}{5} \\, N - \\frac{108186}{5} \\right) \\tr X \\tr X^2 \\tr X Y^2 \n",
       " + \\left( -\\frac{1251}{2} \\, N^{8} - \\frac{54027}{10} \\, N^{7} - \\frac{125013}{10} \\, N^{6} + \\frac{70533}{10} \\, N^{5} + \\frac{227091}{5} \\, N^{4} + \\frac{11322}{5} \\, N^{3} - \\frac{276674}{5} \\, N^{2} + 15554 \\, N + \\frac{216372}{5} \\right) \\left( \\tr X \\right)^2 \\tr X^2 Y \\tr Y \n",
       " + \\left( \\frac{1251}{4} \\, N^{8} + \\frac{54027}{20} \\, N^{7} + \\frac{125013}{20} \\, N^{6} - \\frac{70533}{20} \\, N^{5} - \\frac{227091}{10} \\, N^{4} - \\frac{5661}{5} \\, N^{3} + \\frac{138337}{5} \\, N^{2} - 7777 \\, N - \\frac{108186}{5} \\right) \\left( \\tr X \\right)^3 \\tr X Y^2 \n",
       " + \\left( 63 \\, N^{8} + \\frac{1701}{5} \\, N^{7} + \\frac{333}{10} \\, N^{6} - \\frac{7113}{10} \\, N^{5} + \\frac{67077}{10} \\, N^{4} + \\frac{157503}{10} \\, N^{3} - \\frac{44889}{5} \\, N^{2} - \\frac{196091}{5} \\, N - \\frac{108186}{5} \\right) \\left( \\tr X^2 \\right)^2 \\tr Y^2 \n",
       " + \\left( -63 \\, N^{8} - \\frac{1701}{5} \\, N^{7} - \\frac{333}{10} \\, N^{6} + \\frac{7113}{10} \\, N^{5} - \\frac{67077}{10} \\, N^{4} - \\frac{157503}{10} \\, N^{3} + \\frac{44889}{5} \\, N^{2} + \\frac{196091}{5} \\, N + \\frac{108186}{5} \\right) \\tr X^2 \\left( \\tr X Y \\right)^2 \n",
       " + \\left( 153 \\, N^{8} + \\frac{52623}{40} \\, N^{7} + \\frac{121617}{40} \\, N^{6} - \\frac{63429}{40} \\, N^{5} - \\frac{83673}{8} \\, N^{4} + \\frac{7371}{10} \\, N^{3} + \\frac{309741}{20} \\, N^{2} - \\frac{16411}{5} \\, N - \\frac{54093}{5} \\right) \\left( \\tr X^2 \\right)^2 \\left( \\tr Y \\right)^2 \n",
       " + \\left( -306 \\, N^{8} - \\frac{52623}{20} \\, N^{7} - \\frac{121617}{20} \\, N^{6} + \\frac{63429}{20} \\, N^{5} + \\frac{83673}{4} \\, N^{4} - \\frac{7371}{5} \\, N^{3} - \\frac{309741}{10} \\, N^{2} + \\frac{32822}{5} \\, N + \\frac{108186}{5} \\right) \\tr X \\tr X^2 \\tr X Y \\tr Y \n",
       " + \\left( -594 \\, N^{8} - \\frac{229779}{40} \\, N^{7} - \\frac{682401}{40} \\, N^{6} - \\frac{259323}{40} \\, N^{5} + \\frac{322113}{8} \\, N^{4} + \\frac{150156}{5} \\, N^{3} - \\frac{584933}{20} \\, N^{2} + \\frac{39948}{5} \\, N + \\frac{162279}{5} \\right) \\left( \\tr X \\right)^2 \\tr X^2 \\tr Y^2 \n",
       " + \\left( \\frac{1}{40} \\, {\\left(3780 \\, N^{7} + 40887 \\, N^{6} + 139863 \\, N^{5} + 87801 \\, N^{4} - 365127 \\, N^{3} - 465186 \\, N^{2} + 227374 \\, N + 345108\\right)} N \\right) \\left( \\tr X \\right)^2 \\tr X^2 \\left( \\tr Y \\right)^2 \n",
       " + \\left( 747 \\, N^{8} + \\frac{141201}{20} \\, N^{7} + \\frac{402009}{20} \\, N^{6} + \\frac{97947}{20} \\, N^{5} - \\frac{202893}{4} \\, N^{4} - \\frac{292941}{10} \\, N^{3} + \\frac{447337}{10} \\, N^{2} - \\frac{56359}{5} \\, N - \\frac{216372}{5} \\right) \\left( \\tr X \\right)^2 \\left( \\tr X Y \\right)^2 \n",
       " + \\left( -\\frac{1}{20} \\, {\\left(3780 \\, N^{7} + 40887 \\, N^{6} + 139863 \\, N^{5} + 87801 \\, N^{4} - 365127 \\, N^{3} - 465186 \\, N^{2} + 227374 \\, N + 345108\\right)} N \\right) \\left( \\tr X \\right)^3 \\tr X Y \\tr Y \n",
       " + \\left( \\frac{1}{40} \\, {\\left(3780 \\, N^{7} + 40887 \\, N^{6} + 139863 \\, N^{5} + 87801 \\, N^{4} - 365127 \\, N^{3} - 465186 \\, N^{2} + 227374 \\, N + 345108\\right)} N \\right) \\left( \\tr X \\right)^4 \\tr Y^2 \n",
       "\\right] \\\\\n",
       " O_{\n",
       " \\fontsize{6pt}{0} \\begin{ytableau}\n",
       " 1 & 1 & 1 & 1 \\\\ 2 & 2 \n",
       "\\end{ytableau} \\fontsize{12pt}{0} ,\n",
       "[2, 2, 2] ,\n",
       "1 } & =\n",
       " \\frac{\\sqrt{5}}{\\sqrt{149226300 \\, N^{16} + 2574045540 \\, N^{15} + 17126314218 \\, N^{14} + 48780132444 \\, N^{13} + 10649800683 \\, N^{12} - 260799105402 \\, N^{11} - 414404753235 \\, N^{10} + 509352006396 \\, N^{9} + 1458046648509 \\, N^{8} - 677071004478 \\, N^{7} - 2841929143455 \\, N^{6} + 1359603561900 \\, N^{5} + 4498710198068 \\, N^{4} - 813280519104 \\, N^{3} - 2891933192736 \\, N^{2} + 800771042304 \\, N + 1167006642048}} \\left[\n",
       " \\left( -\\frac{189}{2} \\, N^{8} - \\frac{10683}{10} \\, N^{7} - \\frac{37647}{10} \\, N^{6} - \\frac{2607}{2} \\, N^{5} + \\frac{99033}{5} \\, N^{4} + \\frac{203493}{5} \\, N^{3} + \\frac{123564}{5} \\, N^{2} + \\frac{55521}{5} \\, N + \\frac{78894}{5} \\right) \\tr X^4 \\tr Y^2 \n",
       " + \\left( -63 \\, N^{8} - \\frac{3561}{5} \\, N^{7} - \\frac{12549}{5} \\, N^{6} - 869 \\, N^{5} + \\frac{66022}{5} \\, N^{4} + \\frac{135662}{5} \\, N^{3} + \\frac{82376}{5} \\, N^{2} + \\frac{37014}{5} \\, N + \\frac{52596}{5} \\right) \\tr X^2 \\tr X^2 Y^2 \n",
       " + \\left( -\\frac{63}{2} \\, N^{8} - \\frac{3561}{10} \\, N^{7} - \\frac{12549}{10} \\, N^{6} - \\frac{869}{2} \\, N^{5} + \\frac{33011}{5} \\, N^{4} + \\frac{67831}{5} \\, N^{3} + \\frac{41188}{5} \\, N^{2} + \\frac{18507}{5} \\, N + \\frac{26298}{5} \\right) \\tr X^2 \\tr \\left( X Y \\right)^2 \n",
       " + \\left( 738 \\, N^{8} + \\frac{33291}{5} \\, N^{7} + \\frac{164913}{10} \\, N^{6} - \\frac{16077}{2} \\, N^{5} - \\frac{681399}{10} \\, N^{4} - \\frac{244209}{10} \\, N^{3} + \\frac{334679}{5} \\, N^{2} - \\frac{112164}{5} \\, N - \\frac{325656}{5} \\right) \\left( \\tr X^2 \\right)^2 \\tr Y^2 \n",
       " + \\left( 189 \\, N^{8} + \\frac{10683}{5} \\, N^{7} + \\frac{37647}{5} \\, N^{6} + 2607 \\, N^{5} - \\frac{198066}{5} \\, N^{4} - \\frac{406986}{5} \\, N^{3} - \\frac{247128}{5} \\, N^{2} - \\frac{111042}{5} \\, N - \\frac{157788}{5} \\right) \\tr X^3 Y \\tr X Y \n",
       " + \\left( -738 \\, N^{8} - \\frac{33291}{5} \\, N^{7} - \\frac{164913}{10} \\, N^{6} + \\frac{16077}{2} \\, N^{5} + \\frac{681399}{10} \\, N^{4} + \\frac{244209}{10} \\, N^{3} - \\frac{334679}{5} \\, N^{2} + \\frac{112164}{5} \\, N + \\frac{325656}{5} \\right) \\tr X^2 \\left( \\tr X Y \\right)^2 \n",
       " + \\left( 324 \\, N^{8} + \\frac{17703}{5} \\, N^{7} + \\frac{47802}{5} \\, N^{6} - 12546 \\, N^{5} - \\frac{321336}{5} \\, N^{4} + \\frac{97149}{5} \\, N^{3} + \\frac{776152}{5} \\, N^{2} - \\frac{8532}{5} \\, N - \\frac{340128}{5} \\right) \\tr X^3 \\tr X Y^2 \n",
       " + \\left( -324 \\, N^{8} - \\frac{17703}{5} \\, N^{7} - \\frac{47802}{5} \\, N^{6} + 12546 \\, N^{5} + \\frac{321336}{5} \\, N^{4} - \\frac{97149}{5} \\, N^{3} - \\frac{776152}{5} \\, N^{2} + \\frac{8532}{5} \\, N + \\frac{340128}{5} \\right) \\left( \\tr X^2 Y \\right)^2 \n",
       " + \\left( -\\frac{351}{2} \\, N^{8} - \\frac{7146}{5} \\, N^{7} - \\frac{15264}{5} \\, N^{6} + 1635 \\, N^{5} + \\frac{82749}{10} \\, N^{4} - \\frac{16848}{5} \\, N^{3} - \\frac{67299}{5} \\, N^{2} - \\frac{11061}{5} \\, N + \\frac{13446}{5} \\right) \\tr X^4 \\left( \\tr Y \\right)^2 \n",
       " + \\left( 351 \\, N^{8} + \\frac{14292}{5} \\, N^{7} + \\frac{30528}{5} \\, N^{6} - 3270 \\, N^{5} - \\frac{82749}{5} \\, N^{4} + \\frac{33696}{5} \\, N^{3} + \\frac{134598}{5} \\, N^{2} + \\frac{22122}{5} \\, N - \\frac{26892}{5} \\right) \\tr X \\tr X^3 Y \\tr Y \n",
       " + \\left( -\\frac{1827}{2} \\, N^{8} - \\frac{40437}{5} \\, N^{7} - \\frac{93708}{5} \\, N^{6} + 14496 \\, N^{5} + \\frac{758043}{10} \\, N^{4} - \\frac{120216}{5} \\, N^{3} - \\frac{716023}{5} \\, N^{2} + \\frac{178188}{5} \\, N + \\frac{484812}{5} \\right) \\tr X \\tr X^3 \\tr Y^2 \n",
       " + \\left( -117 \\, N^{8} - \\frac{4764}{5} \\, N^{7} - \\frac{10176}{5} \\, N^{6} + 1090 \\, N^{5} + \\frac{27583}{5} \\, N^{4} - \\frac{11232}{5} \\, N^{3} - \\frac{44866}{5} \\, N^{2} - \\frac{7374}{5} \\, N + \\frac{8964}{5} \\right) \\left( \\tr X \\right)^2 \\tr X^2 Y^2 \n",
       " + \\left( -\\frac{117}{2} \\, N^{8} - \\frac{2382}{5} \\, N^{7} - \\frac{5088}{5} \\, N^{6} + 545 \\, N^{5} + \\frac{27583}{10} \\, N^{4} - \\frac{5616}{5} \\, N^{3} - \\frac{22433}{5} \\, N^{2} - \\frac{3687}{5} \\, N + \\frac{4482}{5} \\right) \\left( \\tr X \\right)^2 \\tr \\left( X Y \\right)^2 \n",
       " + \\left( 864 \\, N^{8} + \\frac{42678}{5} \\, N^{7} + \\frac{107952}{5} \\, N^{6} - 22854 \\, N^{5} - \\frac{596046}{5} \\, N^{4} + \\frac{174804}{5} \\, N^{3} + \\frac{1291712}{5} \\, N^{2} - \\frac{251622}{5} \\, N - \\frac{816228}{5} \\right) \\tr X \\tr X^2 Y \\tr X Y \n",
       " + \\left( -\\frac{657}{2} \\, N^{8} - \\frac{13122}{5} \\, N^{7} - \\frac{27498}{5} \\, N^{6} + 2352 \\, N^{5} + \\frac{122373}{10} \\, N^{4} - \\frac{24831}{5} \\, N^{3} - \\frac{68733}{5} \\, N^{2} + \\frac{20658}{5} \\, N + \\frac{45072}{5} \\right) \\tr X \\tr X^3 \\left( \\tr Y \\right)^2 \n",
       " + \\left( \\frac{657}{2} \\, N^{8} + \\frac{13122}{5} \\, N^{7} + \\frac{27498}{5} \\, N^{6} - 2352 \\, N^{5} - \\frac{122373}{10} \\, N^{4} + \\frac{24831}{5} \\, N^{3} + \\frac{68733}{5} \\, N^{2} - \\frac{20658}{5} \\, N - \\frac{45072}{5} \\right) \\left( \\tr X^2 \\right)^2 \\left( \\tr Y \\right)^2 \n",
       " + \\left( 657 \\, N^{8} + \\frac{26244}{5} \\, N^{7} + \\frac{54996}{5} \\, N^{6} - 4704 \\, N^{5} - \\frac{122373}{5} \\, N^{4} + \\frac{49662}{5} \\, N^{3} + \\frac{137466}{5} \\, N^{2} - \\frac{41316}{5} \\, N - \\frac{90144}{5} \\right) \\left( \\tr X \\right)^2 \\tr X^2 Y \\tr Y \n",
       " + \\left( -657 \\, N^{8} - \\frac{26244}{5} \\, N^{7} - \\frac{54996}{5} \\, N^{6} + 4704 \\, N^{5} + \\frac{122373}{5} \\, N^{4} - \\frac{49662}{5} \\, N^{3} - \\frac{137466}{5} \\, N^{2} + \\frac{41316}{5} \\, N + \\frac{90144}{5} \\right) \\tr X \\tr X^2 \\tr X Y \\tr Y \n",
       " + \\left( \\frac{189}{2} \\, N^{8} + \\frac{10683}{10} \\, N^{7} + \\frac{14811}{5} \\, N^{6} - 3519 \\, N^{5} - \\frac{191961}{10} \\, N^{4} + \\frac{43959}{10} \\, N^{3} + \\frac{190481}{5} \\, N^{2} - \\frac{132606}{5} \\, N - \\frac{224604}{5} \\right) \\left( \\tr X \\right)^2 \\tr X^2 \\tr Y^2 \n",
       " + \\left( \\frac{351}{2} \\, N^{8} + \\frac{7146}{5} \\, N^{7} + \\frac{15264}{5} \\, N^{6} - 1635 \\, N^{5} - \\frac{82749}{10} \\, N^{4} + \\frac{16848}{5} \\, N^{3} + \\frac{67299}{5} \\, N^{2} + \\frac{11061}{5} \\, N - \\frac{13446}{5} \\right) \\left( \\tr X \\right)^2 \\tr X^2 \\left( \\tr Y \\right)^2 \n",
       " + \\left( -\\frac{657}{2} \\, N^{8} - \\frac{13122}{5} \\, N^{7} - \\frac{27498}{5} \\, N^{6} + 2352 \\, N^{5} + \\frac{122373}{10} \\, N^{4} - \\frac{24831}{5} \\, N^{3} - \\frac{68733}{5} \\, N^{2} + \\frac{20658}{5} \\, N + \\frac{45072}{5} \\right) \\left( \\tr X \\right)^3 \\tr X Y^2 \n",
       " + \\left( 234 \\, N^{8} + \\frac{15561}{10} \\, N^{7} + \\frac{12687}{5} \\, N^{6} + 1167 \\, N^{5} + \\frac{34794}{5} \\, N^{4} + \\frac{5703}{10} \\, N^{3} - \\frac{121748}{5} \\, N^{2} + \\frac{111948}{5} \\, N + \\frac{179532}{5} \\right) \\left( \\tr X \\right)^2 \\left( \\tr X Y \\right)^2 \n",
       " + \\left( -351 \\, N^{8} - \\frac{14292}{5} \\, N^{7} - \\frac{30528}{5} \\, N^{6} + 3270 \\, N^{5} + \\frac{82749}{5} \\, N^{4} - \\frac{33696}{5} \\, N^{3} - \\frac{134598}{5} \\, N^{2} - \\frac{22122}{5} \\, N + \\frac{26892}{5} \\right) \\left( \\tr X \\right)^3 \\tr X Y \\tr Y \n",
       " + \\left( \\frac{351}{2} \\, N^{8} + \\frac{7146}{5} \\, N^{7} + \\frac{15264}{5} \\, N^{6} - 1635 \\, N^{5} - \\frac{82749}{10} \\, N^{4} + \\frac{16848}{5} \\, N^{3} + \\frac{67299}{5} \\, N^{2} + \\frac{11061}{5} \\, N - \\frac{13446}{5} \\right) \\left( \\tr X \\right)^4 \\tr Y^2 \n",
       " + \\left( \\frac{99}{2} \\, N^{8} - \\frac{2241}{5} \\, N^{7} - \\frac{14244}{5} \\, N^{6} + 8358 \\, N^{5} + \\frac{434049}{10} \\, N^{4} - \\frac{54588}{5} \\, N^{3} - \\frac{575689}{5} \\, N^{2} + \\frac{73434}{5} \\, N + \\frac{331416}{5} \\right) \\tr X \\tr X^2 \\tr X Y^2 \n",
       " + \\left( -963 \\, N^{8} - \\frac{38196}{5} \\, N^{7} - \\frac{79464}{5} \\, N^{6} + 6138 \\, N^{5} + \\frac{161997}{5} \\, N^{4} - \\frac{65628}{5} \\, N^{3} - \\frac{140334}{5} \\, N^{2} + \\frac{104754}{5} \\, N + \\frac{153396}{5} \\right) \\tr X^2 \\tr X^2 Y \\tr Y \n",
       " + \\left( 963 \\, N^{8} + \\frac{38196}{5} \\, N^{7} + \\frac{79464}{5} \\, N^{6} - 6138 \\, N^{5} - \\frac{161997}{5} \\, N^{4} + \\frac{65628}{5} \\, N^{3} + \\frac{140334}{5} \\, N^{2} - \\frac{104754}{5} \\, N - \\frac{153396}{5} \\right) \\tr X^3 \\tr X Y \\tr Y \n",
       "\\right] \\\\\n",
       " O_{\n",
       " \\fontsize{6pt}{0} \\begin{ytableau}\n",
       " 1 & 1 & 1 & 1 \\\\ 2 & 2 \n",
       "\\end{ytableau} \\fontsize{12pt}{0} ,\n",
       "[3, 2, 1] ,\n",
       "1 } & =\n",
       " \\frac{\\sqrt{5}}{\\sqrt{130482900 \\, N^{14} + 1831452120 \\, N^{13} + 9038301300 \\, N^{12} + 14044369140 \\, N^{11} - 22264101720 \\, N^{10} - 70177322052 \\, N^{9} + 51506347149 \\, N^{8} + 186537990318 \\, N^{7} - 132332766879 \\, N^{6} - 273729678396 \\, N^{5} + 246250938476 \\, N^{4} + 168270423808 \\, N^{3} - 202902428944 \\, N^{2} - 44073198528 \\, N + 71335153728}} \\left[\n",
       " \\left( -1080 \\, N^{7} - \\frac{37728}{5} \\, N^{6} - \\frac{51516}{5} \\, N^{5} + \\frac{96372}{5} \\, N^{4} + \\frac{88356}{5} \\, N^{3} - \\frac{258216}{5} \\, N^{2} + \\frac{15732}{5} \\, N + \\frac{101304}{5} \\right) \\tr X^3 Y \\tr X Y \n",
       " + \\left( -936 \\, N^{7} - 6336 \\, N^{6} - 8592 \\, N^{5} + \\frac{64032}{5} \\, N^{4} + \\frac{69324}{5} \\, N^{3} - \\frac{112924}{5} \\, N^{2} - 1664 \\, N + \\frac{68496}{5} \\right) \\tr X^3 \\tr X Y^2 \n",
       " + \\left( \\frac{3}{10} \\, {\\left(1110 \\, N^{6} + 6126 \\, N^{5} + 2036 \\, N^{4} - 19605 \\, N^{3} + 7819 \\, N^{2} + 20976 \\, N - 18948\\right)} {\\left(N + 2\\right)} \\right) \\tr X^3 \\tr X Y \\tr Y \n",
       " + \\left( 540 \\, N^{7} + \\frac{18864}{5} \\, N^{6} + \\frac{25758}{5} \\, N^{5} - \\frac{48186}{5} \\, N^{4} - \\frac{44178}{5} \\, N^{3} + \\frac{129108}{5} \\, N^{2} - \\frac{7866}{5} \\, N - \\frac{50652}{5} \\right) \\tr X^4 \\tr Y^2 \n",
       " + \\left( 360 \\, N^{7} + \\frac{12576}{5} \\, N^{6} + \\frac{17172}{5} \\, N^{5} - \\frac{32124}{5} \\, N^{4} - \\frac{29452}{5} \\, N^{3} + \\frac{86072}{5} \\, N^{2} - \\frac{5244}{5} \\, N - \\frac{33768}{5} \\right) \\tr X^2 \\tr X^2 Y^2 \n",
       " + \\left( 180 \\, N^{7} + \\frac{6288}{5} \\, N^{6} + \\frac{8586}{5} \\, N^{5} - \\frac{16062}{5} \\, N^{4} - \\frac{14726}{5} \\, N^{3} + \\frac{43036}{5} \\, N^{2} - \\frac{2622}{5} \\, N - \\frac{16884}{5} \\right) \\tr X^2 \\tr \\left( X Y \\right)^2 \n",
       " + \\left( 936 \\, N^{7} + 6336 \\, N^{6} + 8592 \\, N^{5} - \\frac{64032}{5} \\, N^{4} - \\frac{69324}{5} \\, N^{3} + \\frac{112924}{5} \\, N^{2} + 1664 \\, N - \\frac{68496}{5} \\right) \\left( \\tr X^2 Y \\right)^2 \n",
       " + \\left( -\\frac{3}{10} \\, {\\left(1110 \\, N^{6} + 6126 \\, N^{5} + 2036 \\, N^{4} - 19605 \\, N^{3} + 7819 \\, N^{2} + 20976 \\, N - 18948\\right)} {\\left(N + 2\\right)} \\right) \\tr X^2 \\tr X^2 Y \\tr Y \n",
       " + \\left( 441 \\, N^{7} + \\frac{17307}{5} \\, N^{6} + \\frac{28716}{5} \\, N^{5} - \\frac{100227}{10} \\, N^{4} - \\frac{159329}{10} \\, N^{3} + \\frac{150433}{5} \\, N^{2} + \\frac{52298}{5} \\, N - \\frac{123132}{5} \\right) \\tr X \\tr X^2 Y \\tr X Y \n",
       " + \\left( -387 \\, N^{7} - \\frac{14913}{5} \\, N^{6} - \\frac{25074}{5} \\, N^{5} + \\frac{73413}{10} \\, N^{4} + \\frac{126751}{10} \\, N^{3} - \\frac{102677}{5} \\, N^{2} - \\frac{43402}{5} \\, N + \\frac{89988}{5} \\right) \\tr X \\tr X^3 \\tr Y^2 \n",
       " + \\left( -54 \\, N^{7} - \\frac{2394}{5} \\, N^{6} - \\frac{3642}{5} \\, N^{5} + \\frac{13407}{5} \\, N^{4} + \\frac{16289}{5} \\, N^{3} - \\frac{47756}{5} \\, N^{2} - \\frac{8896}{5} \\, N + \\frac{33144}{5} \\right) \\tr X \\tr X^2 \\tr X Y^2 \n",
       " + \\left( -27 \\, N^{7} - \\frac{1197}{5} \\, N^{6} - \\frac{2466}{5} \\, N^{5} + \\frac{6333}{10} \\, N^{4} + \\frac{14331}{10} \\, N^{3} - \\frac{11049}{5} \\, N^{2} - \\frac{3528}{5} \\, N + \\frac{5616}{5} \\right) \\tr X^4 \\left( \\tr Y \\right)^2 \n",
       " + \\left( 54 \\, N^{7} + \\frac{2394}{5} \\, N^{6} + \\frac{4932}{5} \\, N^{5} - \\frac{6333}{5} \\, N^{4} - \\frac{14331}{5} \\, N^{3} + \\frac{22098}{5} \\, N^{2} + \\frac{7056}{5} \\, N - \\frac{11232}{5} \\right) \\tr X \\tr X^3 Y \\tr Y \n",
       " + \\left( 360 \\, N^{7} + \\frac{13716}{5} \\, N^{6} + \\frac{23328}{5} \\, N^{5} - \\frac{30684}{5} \\, N^{4} - \\frac{63408}{5} \\, N^{3} + \\frac{64636}{5} \\, N^{2} + \\frac{46084}{5} \\, N - \\frac{72024}{5} \\right) \\left( \\tr X^2 \\right)^2 \\tr Y^2 \n",
       " + \\left( -18 \\, N^{7} - \\frac{798}{5} \\, N^{6} - \\frac{1644}{5} \\, N^{5} + \\frac{2111}{5} \\, N^{4} + \\frac{4777}{5} \\, N^{3} - \\frac{7366}{5} \\, N^{2} - \\frac{2352}{5} \\, N + \\frac{3744}{5} \\right) \\left( \\tr X \\right)^2 \\tr X^2 Y^2 \n",
       " + \\left( -9 \\, N^{7} - \\frac{399}{5} \\, N^{6} - \\frac{822}{5} \\, N^{5} + \\frac{2111}{10} \\, N^{4} + \\frac{4777}{10} \\, N^{3} - \\frac{3683}{5} \\, N^{2} - \\frac{1176}{5} \\, N + \\frac{1872}{5} \\right) \\left( \\tr X \\right)^2 \\tr \\left( X Y \\right)^2 \n",
       " + \\left( -360 \\, N^{7} - \\frac{13716}{5} \\, N^{6} - \\frac{23328}{5} \\, N^{5} + \\frac{30684}{5} \\, N^{4} + \\frac{63408}{5} \\, N^{3} - \\frac{64636}{5} \\, N^{2} - \\frac{46084}{5} \\, N + \\frac{72024}{5} \\right) \\tr X^2 \\left( \\tr X Y \\right)^2 \n",
       " + \\left( 504 \\, N^{7} + \\frac{17352}{5} \\, N^{6} + \\frac{23334}{5} \\, N^{5} - 8442 \\, N^{4} - \\frac{43998}{5} \\, N^{3} + \\frac{92118}{5} \\, N^{2} + \\frac{2172}{5} \\, N - \\frac{47232}{5} \\right) \\tr X \\tr X^3 \\left( \\tr Y \\right)^2 \n",
       " + \\left( -504 \\, N^{7} - \\frac{17352}{5} \\, N^{6} - \\frac{23334}{5} \\, N^{5} + 8442 \\, N^{4} + \\frac{43998}{5} \\, N^{3} - \\frac{92118}{5} \\, N^{2} - \\frac{2172}{5} \\, N + \\frac{47232}{5} \\right) \\left( \\tr X^2 \\right)^2 \\left( \\tr Y \\right)^2 \n",
       " + \\left( -1008 \\, N^{7} - \\frac{34704}{5} \\, N^{6} - \\frac{46668}{5} \\, N^{5} + 16884 \\, N^{4} + \\frac{87996}{5} \\, N^{3} - \\frac{184236}{5} \\, N^{2} - \\frac{4344}{5} \\, N + \\frac{94464}{5} \\right) \\left( \\tr X \\right)^2 \\tr X^2 Y \\tr Y \n",
       " + \\left( 1008 \\, N^{7} + \\frac{34704}{5} \\, N^{6} + \\frac{46668}{5} \\, N^{5} - 16884 \\, N^{4} - \\frac{87996}{5} \\, N^{3} + \\frac{184236}{5} \\, N^{2} + \\frac{4344}{5} \\, N - \\frac{94464}{5} \\right) \\tr X \\tr X^2 \\tr X Y \\tr Y \n",
       " + \\left( -540 \\, N^{7} - \\frac{18864}{5} \\, N^{6} - \\frac{26478}{5} \\, N^{5} + 9066 \\, N^{4} + \\frac{51376}{5} \\, N^{3} - \\frac{102116}{5} \\, N^{2} + \\frac{1656}{5} \\, N + \\frac{38304}{5} \\right) \\left( \\tr X \\right)^2 \\tr X^2 \\tr Y^2 \n",
       " + \\left( 27 \\, N^{7} + \\frac{1197}{5} \\, N^{6} + \\frac{2466}{5} \\, N^{5} - \\frac{6333}{10} \\, N^{4} - \\frac{14331}{10} \\, N^{3} + \\frac{11049}{5} \\, N^{2} + \\frac{3528}{5} \\, N - \\frac{5616}{5} \\right) \\left( \\tr X \\right)^2 \\tr X^2 \\left( \\tr Y \\right)^2 \n",
       " + \\left( 504 \\, N^{7} + \\frac{17352}{5} \\, N^{6} + \\frac{23334}{5} \\, N^{5} - 8442 \\, N^{4} - \\frac{43998}{5} \\, N^{3} + \\frac{92118}{5} \\, N^{2} + \\frac{2172}{5} \\, N - \\frac{47232}{5} \\right) \\left( \\tr X \\right)^3 \\tr X Y^2 \n",
       " + \\left( 36 \\, N^{7} + \\frac{1512}{5} \\, N^{6} + \\frac{3144}{5} \\, N^{5} - 624 \\, N^{4} - \\frac{7378}{5} \\, N^{3} + \\frac{9998}{5} \\, N^{2} - \\frac{3828}{5} \\, N + \\frac{8928}{5} \\right) \\left( \\tr X \\right)^2 \\left( \\tr X Y \\right)^2 \n",
       " + \\left( -54 \\, N^{7} - \\frac{2394}{5} \\, N^{6} - \\frac{4932}{5} \\, N^{5} + \\frac{6333}{5} \\, N^{4} + \\frac{14331}{5} \\, N^{3} - \\frac{22098}{5} \\, N^{2} - \\frac{7056}{5} \\, N + \\frac{11232}{5} \\right) \\left( \\tr X \\right)^3 \\tr X Y \\tr Y \n",
       " + \\left( 27 \\, N^{7} + \\frac{1197}{5} \\, N^{6} + \\frac{2466}{5} \\, N^{5} - \\frac{6333}{10} \\, N^{4} - \\frac{14331}{10} \\, N^{3} + \\frac{11049}{5} \\, N^{2} + \\frac{3528}{5} \\, N - \\frac{5616}{5} \\right) \\left( \\tr X \\right)^4 \\tr Y^2 \n",
       "\\right] \\\\\n",
       " O_{\n",
       " \\fontsize{6pt}{0} \\begin{ytableau}\n",
       " 1 & 1 & 1 & 1 \\\\ 2 & 2 \n",
       "\\end{ytableau} \\fontsize{12pt}{0} ,\n",
       "[3, 2, 1] ,\n",
       "2 } & =\n",
       " \\frac{1}{\\sqrt{21258450 \\, N^{14} + 284463900 \\, N^{13} + 1324750545 \\, N^{12} + 1673173044 \\, N^{11} - 4666094883 \\, N^{10} - 9691621713 \\, N^{9} + 18482233143 \\, N^{8} + 28522886829 \\, N^{7} - 67892427366 \\, N^{6} - 29914037040 \\, N^{5} + 150604301899 \\, N^{4} - 40993100704 \\, N^{3} - 101411494712 \\, N^{2} + 28469936832 \\, N + 26869041072}} \\left[\n",
       " \\left( -\\frac{621}{2} \\, N^{7} - \\frac{5463}{2} \\, N^{6} - \\frac{12321}{4} \\, N^{5} + \\frac{63315}{4} \\, N^{4} + \\frac{23133}{4} \\, N^{3} - \\frac{235563}{4} \\, N^{2} + 18423 \\, N + 29619 \\right) \\tr X^4 \\tr Y^2 \n",
       " + \\left( -765 \\, N^{7} - 6291 \\, N^{6} - 7254 \\, N^{5} + 32478 \\, N^{4} + 19242 \\, N^{3} - 104398 \\, N^{2} + 19508 \\, N + 47472 \\right) \\tr X^3 \\tr X Y^2 \n",
       " + \\left( -144 \\, N^{7} - 828 \\, N^{6} - \\frac{5709}{4} \\, N^{5} - \\frac{3459}{4} \\, N^{4} + 8261 \\, N^{3} + \\frac{45053}{2} \\, N^{2} - 13030 \\, N - 10254 \\right) \\tr X \\tr X^3 \\tr Y^2 \n",
       " + \\left( 621 \\, N^{7} + 5463 \\, N^{6} + \\frac{12321}{2} \\, N^{5} - \\frac{63315}{2} \\, N^{4} - \\frac{23133}{2} \\, N^{3} + \\frac{235563}{2} \\, N^{2} - 36846 \\, N - 59238 \\right) \\tr X^3 Y \\tr X Y \n",
       " + \\left( -207 \\, N^{7} - 1821 \\, N^{6} - \\frac{4107}{2} \\, N^{5} + \\frac{21105}{2} \\, N^{4} + \\frac{7711}{2} \\, N^{3} - \\frac{78521}{2} \\, N^{2} + 12282 \\, N + 19746 \\right) \\tr X^2 \\tr X^2 Y^2 \n",
       " + \\left( -\\frac{207}{2} \\, N^{7} - \\frac{1821}{2} \\, N^{6} - \\frac{4107}{4} \\, N^{5} + \\frac{21105}{4} \\, N^{4} + \\frac{7711}{4} \\, N^{3} - \\frac{78521}{4} \\, N^{2} + 6141 \\, N + 9873 \\right) \\tr X^2 \\tr \\left( X Y \\right)^2 \n",
       " + \\left( 765 \\, N^{7} + 6291 \\, N^{6} + 7254 \\, N^{5} - 32478 \\, N^{4} - 19242 \\, N^{3} + 104398 \\, N^{2} - 19508 \\, N - 47472 \\right) \\left( \\tr X^2 Y \\right)^2 \n",
       " + \\left( -558 \\, N^{7} - 3429 \\, N^{6} - \\frac{8745}{2} \\, N^{5} + \\frac{8787}{2} \\, N^{4} + \\frac{7221}{2} \\, N^{3} - \\frac{9981}{2} \\, N^{2} + 1794 \\, N + 450 \\right) \\tr X^3 \\tr X Y \\tr Y \n",
       " + \\left( 558 \\, N^{7} + 3429 \\, N^{6} + \\frac{8745}{2} \\, N^{5} - \\frac{8787}{2} \\, N^{4} - \\frac{7221}{2} \\, N^{3} + \\frac{9981}{2} \\, N^{2} - 1794 \\, N - 450 \\right) \\tr X^2 \\tr X^2 Y \\tr Y \n",
       " + \\left( 846 \\, N^{7} + 5085 \\, N^{6} + 7227 \\, N^{5} - 2664 \\, N^{4} - \\frac{40265}{2} \\, N^{3} - \\frac{80125}{2} \\, N^{2} + 24266 \\, N + 20058 \\right) \\tr X \\tr X^2 Y \\tr X Y \n",
       " + \\left( -702 \\, N^{7} - 4257 \\, N^{6} - \\frac{23199}{4} \\, N^{5} + \\frac{14115}{4} \\, N^{4} + \\frac{23743}{2} \\, N^{3} + 17536 \\, N^{2} - 11236 \\, N - 9804 \\right) \\tr X \\tr X^2 \\tr X Y^2 \n",
       " + \\left( -351 \\, N^{7} - \\frac{4257}{2} \\, N^{6} - \\frac{9891}{4} \\, N^{5} + \\frac{12297}{4} \\, N^{4} + \\frac{6909}{4} \\, N^{3} - \\frac{10653}{4} \\, N^{2} + 405 \\, N + 1161 \\right) \\tr X^4 \\left( \\tr Y \\right)^2 \n",
       " + \\left( 702 \\, N^{7} + 4257 \\, N^{6} + \\frac{9891}{2} \\, N^{5} - \\frac{12297}{2} \\, N^{4} - \\frac{6909}{2} \\, N^{3} + \\frac{10653}{2} \\, N^{2} - 810 \\, N - 2322 \\right) \\tr X \\tr X^3 Y \\tr Y \n",
       " + \\left( -207 \\, N^{7} - \\frac{2601}{2} \\, N^{6} - 2160 \\, N^{5} + 852 \\, N^{4} + 5799 \\, N^{3} + \\frac{9065}{2} \\, N^{2} - 6788 \\, N - 7530 \\right) \\left( \\tr X^2 \\right)^2 \\tr Y^2 \n",
       " + \\left( -234 \\, N^{7} - 1419 \\, N^{6} - \\frac{3297}{2} \\, N^{5} + \\frac{4099}{2} \\, N^{4} + \\frac{2303}{2} \\, N^{3} - \\frac{3551}{2} \\, N^{2} + 270 \\, N + 774 \\right) \\left( \\tr X \\right)^2 \\tr X^2 Y^2 \n",
       " + \\left( -117 \\, N^{7} - \\frac{1419}{2} \\, N^{6} - \\frac{3297}{4} \\, N^{5} + \\frac{4099}{4} \\, N^{4} + \\frac{2303}{4} \\, N^{3} - \\frac{3551}{4} \\, N^{2} + 135 \\, N + 387 \\right) \\left( \\tr X \\right)^2 \\tr \\left( X Y \\right)^2 \n",
       " + \\left( 207 \\, N^{7} + \\frac{2601}{2} \\, N^{6} + 2160 \\, N^{5} - 852 \\, N^{4} - 5799 \\, N^{3} - \\frac{9065}{2} \\, N^{2} + 6788 \\, N + 7530 \\right) \\tr X^2 \\left( \\tr X Y \\right)^2 \n",
       " + \\left( 36 \\, N^{7} + 207 \\, N^{6} + \\frac{573}{4} \\, N^{5} - \\frac{1755}{4} \\, N^{4} + 39 \\, N^{3} + 84 \\, N^{2} + 246 \\, N - 468 \\right) \\tr X \\tr X^3 \\left( \\tr Y \\right)^2 \n",
       " + \\left( -36 \\, N^{7} - 207 \\, N^{6} - \\frac{573}{4} \\, N^{5} + \\frac{1755}{4} \\, N^{4} - 39 \\, N^{3} - 84 \\, N^{2} - 246 \\, N + 468 \\right) \\left( \\tr X^2 \\right)^2 \\left( \\tr Y \\right)^2 \n",
       " + \\left( -72 \\, N^{7} - 414 \\, N^{6} - \\frac{573}{2} \\, N^{5} + \\frac{1755}{2} \\, N^{4} - 78 \\, N^{3} - 168 \\, N^{2} - 492 \\, N + 936 \\right) \\left( \\tr X \\right)^2 \\tr X^2 Y \\tr Y \n",
       " + \\left( 72 \\, N^{7} + 414 \\, N^{6} + \\frac{573}{2} \\, N^{5} - \\frac{1755}{2} \\, N^{4} + 78 \\, N^{3} + 168 \\, N^{2} + 492 \\, N - 936 \\right) \\tr X \\tr X^2 \\tr X Y \\tr Y \n",
       " + \\left( \\frac{621}{2} \\, N^{7} + \\frac{5463}{2} \\, N^{6} + \\frac{16779}{4} \\, N^{5} - \\frac{50967}{4} \\, N^{4} - 18116 \\, N^{3} + \\frac{58337}{2} \\, N^{2} + 1800 \\, N - 10674 \\right) \\left( \\tr X \\right)^2 \\tr X^2 \\tr Y^2 \n",
       " + \\left( 351 \\, N^{7} + \\frac{4257}{2} \\, N^{6} + \\frac{9891}{4} \\, N^{5} - \\frac{12297}{4} \\, N^{4} - \\frac{6909}{4} \\, N^{3} + \\frac{10653}{4} \\, N^{2} - 405 \\, N - 1161 \\right) \\left( \\tr X \\right)^2 \\tr X^2 \\left( \\tr Y \\right)^2 \n",
       " + \\left( 36 \\, N^{7} + 207 \\, N^{6} + \\frac{573}{4} \\, N^{5} - \\frac{1755}{4} \\, N^{4} + 39 \\, N^{3} + 84 \\, N^{2} + 246 \\, N - 468 \\right) \\left( \\tr X \\right)^3 \\tr X Y^2 \n",
       " + \\left( -\\frac{693}{2} \\, N^{7} - \\frac{5877}{2} \\, N^{6} - 4338 \\, N^{5} + \\frac{26361}{2} \\, N^{4} + 18077 \\, N^{3} - \\frac{58505}{2} \\, N^{2} - 2046 \\, N + 11142 \\right) \\left( \\tr X \\right)^2 \\left( \\tr X Y \\right)^2 \n",
       " + \\left( -702 \\, N^{7} - 4257 \\, N^{6} - \\frac{9891}{2} \\, N^{5} + \\frac{12297}{2} \\, N^{4} + \\frac{6909}{2} \\, N^{3} - \\frac{10653}{2} \\, N^{2} + 810 \\, N + 2322 \\right) \\left( \\tr X \\right)^3 \\tr X Y \\tr Y \n",
       " + \\left( 351 \\, N^{7} + \\frac{4257}{2} \\, N^{6} + \\frac{9891}{4} \\, N^{5} - \\frac{12297}{4} \\, N^{4} - \\frac{6909}{4} \\, N^{3} + \\frac{10653}{4} \\, N^{2} - 405 \\, N - 1161 \\right) \\left( \\tr X \\right)^4 \\tr Y^2 \n",
       "\\right] \\\\\n",
       " O_{\n",
       " \\fontsize{6pt}{0} \\begin{ytableau}\n",
       " 1 & 1 & 1 & 1 \\\\ 2 & 2 \n",
       "\\end{ytableau} \\fontsize{12pt}{0} ,\n",
       "[4, 1, 1] ,\n",
       "1 } & =\n",
       " \\frac{\\sqrt{5} \\sqrt{2}}{\\sqrt{1691280 \\, N^{14} + 16259616 \\, N^{13} + 43649010 \\, N^{12} - 12092220 \\, N^{11} - 131803551 \\, N^{10} + 80180424 \\, N^{9} + 164974320 \\, N^{8} - 327380940 \\, N^{7} + 160872568 \\, N^{6} + 104158856 \\, N^{5} - 104030556 \\, N^{4} + 17972880 \\, N^{3} - 24870280 \\, N^{2} + 309600 \\, N + 19229600}} \\left[\n",
       " \\left( -\\frac{189}{5} \\, N^{7} - \\frac{2061}{10} \\, N^{6} - \\frac{189}{5} \\, N^{5} + \\frac{2736}{5} \\, N^{4} - \\frac{1023}{2} \\, N^{3} - \\frac{1917}{10} \\, N^{2} + \\frac{597}{2} \\, N + 129 \\right) \\tr X^4 \\tr Y^2 \n",
       " + \\left( \\frac{297}{5} \\, N^{7} + \\frac{2763}{10} \\, N^{6} + \\frac{1089}{20} \\, N^{5} - \\frac{2778}{5} \\, N^{4} + \\frac{4779}{10} \\, N^{3} - \\frac{726}{5} \\, N^{2} - \\frac{357}{2} \\, N + 129 \\right) \\tr X^4 \\left( \\tr Y \\right)^2 \n",
       " + \\left( \\frac{378}{5} \\, N^{7} + \\frac{2061}{5} \\, N^{6} + \\frac{378}{5} \\, N^{5} - \\frac{5472}{5} \\, N^{4} + 1023 \\, N^{3} + \\frac{1917}{5} \\, N^{2} - 597 \\, N - 258 \\right) \\tr X^3 Y \\tr X Y \n",
       " + \\left( -\\frac{126}{5} \\, N^{7} - \\frac{687}{5} \\, N^{6} - \\frac{126}{5} \\, N^{5} + \\frac{1824}{5} \\, N^{4} - 341 \\, N^{3} - \\frac{639}{5} \\, N^{2} + 199 \\, N + 86 \\right) \\tr X^2 \\tr X^2 Y^2 \n",
       " + \\left( -\\frac{63}{5} \\, N^{7} - \\frac{687}{10} \\, N^{6} - \\frac{63}{5} \\, N^{5} + \\frac{912}{5} \\, N^{4} - \\frac{341}{2} \\, N^{3} - \\frac{639}{10} \\, N^{2} + \\frac{199}{2} \\, N + 43 \\right) \\tr X^2 \\tr \\left( X Y \\right)^2 \n",
       " + \\left( -\\frac{594}{5} \\, N^{7} - \\frac{2763}{5} \\, N^{6} - \\frac{1089}{10} \\, N^{5} + \\frac{5556}{5} \\, N^{4} - \\frac{4779}{5} \\, N^{3} + \\frac{1452}{5} \\, N^{2} + 357 \\, N - 258 \\right) \\tr X \\tr X^3 Y \\tr Y \n",
       " + \\left( \\frac{198}{5} \\, N^{7} + \\frac{921}{5} \\, N^{6} + \\frac{363}{10} \\, N^{5} - \\frac{1852}{5} \\, N^{4} + \\frac{1593}{5} \\, N^{3} - \\frac{484}{5} \\, N^{2} - 119 \\, N + 86 \\right) \\left( \\tr X \\right)^2 \\tr X^2 Y^2 \n",
       " + \\left( \\frac{99}{5} \\, N^{7} + \\frac{921}{10} \\, N^{6} + \\frac{363}{20} \\, N^{5} - \\frac{926}{5} \\, N^{4} + \\frac{1593}{10} \\, N^{3} - \\frac{242}{5} \\, N^{2} - \\frac{119}{2} \\, N + 43 \\right) \\left( \\tr X \\right)^2 \\tr \\left( X Y \\right)^2 \n",
       " + \\left( \\frac{1}{5} \\, {\\left(45 \\, N^{6} - 99 \\, N^{5} + 180 \\, N^{4} + 1158 \\, N^{3} - 2226 \\, N^{2} - 660 \\, N + 1720\\right)} {\\left(N + 1\\right)} \\right) \\tr X^3 \\tr X Y^2 \n",
       " + \\left( -\\frac{1}{5} \\, {\\left(45 \\, N^{6} - 99 \\, N^{5} + 180 \\, N^{4} + 1158 \\, N^{3} - 2226 \\, N^{2} - 660 \\, N + 1720\\right)} {\\left(N + 1\\right)} \\right) \\left( \\tr X^2 Y \\right)^2 \n",
       " + \\left( -\\frac{459}{10} \\, N^{7} - \\frac{2259}{10} \\, N^{6} - \\frac{363}{5} \\, N^{5} + \\frac{2079}{5} \\, N^{4} - \\frac{273}{2} \\, N^{3} + \\frac{523}{5} \\, N^{2} + 76 \\, N - 172 \\right) \\tr X \\tr X^3 \\tr Y^2 \n",
       " + \\left( -\\frac{126}{5} \\, N^{7} - \\frac{1251}{10} \\, N^{6} - \\frac{279}{5} \\, N^{5} + \\frac{1401}{5} \\, N^{4} - \\frac{933}{5} \\, N^{3} + \\frac{534}{5} \\, N^{2} - 29 \\, N - 86 \\right) \\left( \\tr X^2 \\right)^2 \\tr Y^2 \n",
       " + \\left( \\frac{288}{5} \\, N^{7} + \\frac{1503}{5} \\, N^{6} + \\frac{702}{5} \\, N^{5} - \\frac{2766}{5} \\, N^{4} + 30 \\, N^{3} - \\frac{757}{5} \\, N^{2} - 23 \\, N + 258 \\right) \\tr X \\tr X^2 Y \\tr X Y \n",
       " + \\left( \\frac{126}{5} \\, N^{7} + \\frac{1251}{10} \\, N^{6} + \\frac{279}{5} \\, N^{5} - \\frac{1401}{5} \\, N^{4} + \\frac{933}{5} \\, N^{3} - \\frac{534}{5} \\, N^{2} + 29 \\, N + 86 \\right) \\tr X^2 \\left( \\tr X Y \\right)^2 \n",
       " + \\left( \\frac{441}{10} \\, N^{7} + \\frac{2133}{10} \\, N^{6} + \\frac{543}{10} \\, N^{5} - \\frac{2103}{5} \\, N^{4} + \\frac{655}{2} \\, N^{3} - \\frac{364}{5} \\, N^{2} - 143 \\, N + 86 \\right) \\tr X \\tr X^3 \\left( \\tr Y \\right)^2 \n",
       " + \\left( \\frac{423}{20} \\, N^{7} + \\frac{2007}{20} \\, N^{6} + \\frac{1041}{40} \\, N^{5} - \\frac{1041}{5} \\, N^{4} + \\frac{891}{5} \\, N^{3} - \\frac{1163}{20} \\, N^{2} - 57 \\, N + 43 \\right) \\left( \\tr X^2 \\right)^2 \\left( \\tr Y \\right)^2 \n",
       " + \\left( -\\frac{441}{5} \\, N^{7} - \\frac{2133}{5} \\, N^{6} - \\frac{543}{5} \\, N^{5} + \\frac{4206}{5} \\, N^{4} - 655 \\, N^{3} + \\frac{728}{5} \\, N^{2} + 286 \\, N - 172 \\right) \\left( \\tr X \\right)^2 \\tr X^2 Y \\tr Y \n",
       " + \\left( -\\frac{423}{10} \\, N^{7} - \\frac{2007}{10} \\, N^{6} - \\frac{1041}{20} \\, N^{5} + \\frac{2082}{5} \\, N^{4} - \\frac{1782}{5} \\, N^{3} + \\frac{1163}{10} \\, N^{2} + 114 \\, N - 86 \\right) \\tr X \\tr X^2 \\tr X Y \\tr Y \n",
       " + \\left( -\\frac{549}{20} \\, N^{7} - \\frac{2151}{20} \\, N^{6} - \\frac{813}{40} \\, N^{5} + \\frac{438}{5} \\, N^{4} - \\frac{1023}{5} \\, N^{3} + \\frac{4559}{20} \\, N^{2} + 76 \\, N - 129 \\right) \\left( \\tr X \\right)^2 \\tr X^2 \\tr Y^2 \n",
       " + \\left( \\frac{1}{40} \\, {\\left(234 \\, N^{6} + 1494 \\, N^{5} + 1035 \\, N^{4} - 2928 \\, N^{3} + 1112 \\, N^{2} + 570 \\, N - 860\\right)} N \\right) \\left( \\tr X \\right)^2 \\tr X^2 \\left( \\tr Y \\right)^2 \n",
       " + \\left( \\frac{441}{10} \\, N^{7} + \\frac{2133}{10} \\, N^{6} + \\frac{543}{10} \\, N^{5} - \\frac{2103}{5} \\, N^{4} + \\frac{655}{2} \\, N^{3} - \\frac{364}{5} \\, N^{2} - 143 \\, N + 86 \\right) \\left( \\tr X \\right)^3 \\tr X Y^2 \n",
       " + \\left( \\frac{243}{5} \\, N^{7} + \\frac{2079}{10} \\, N^{6} + \\frac{927}{20} \\, N^{5} - \\frac{1479}{5} \\, N^{4} + \\frac{1914}{5} \\, N^{3} - \\frac{2861}{10} \\, N^{2} - 133 \\, N + 172 \\right) \\left( \\tr X \\right)^2 \\left( \\tr X Y \\right)^2 \n",
       " + \\left( -\\frac{1}{20} \\, {\\left(234 \\, N^{6} + 1494 \\, N^{5} + 1035 \\, N^{4} - 2928 \\, N^{3} + 1112 \\, N^{2} + 570 \\, N - 860\\right)} N \\right) \\left( \\tr X \\right)^3 \\tr X Y \\tr Y \n",
       " + \\left( \\frac{1}{40} \\, {\\left(234 \\, N^{6} + 1494 \\, N^{5} + 1035 \\, N^{4} - 2928 \\, N^{3} + 1112 \\, N^{2} + 570 \\, N - 860\\right)} N \\right) \\left( \\tr X \\right)^4 \\tr Y^2 \n",
       " + \\left( -\\frac{117}{10} \\, N^{7} - \\frac{747}{10} \\, N^{6} - \\frac{339}{5} \\, N^{5} + \\frac{687}{5} \\, N^{4} + \\frac{213}{2} \\, N^{3} + \\frac{234}{5} \\, N^{2} - 53 \\, N - 86 \\right) \\tr X \\tr X^2 \\tr X Y^2 \n",
       " + \\left( -\\frac{171}{5} \\, N^{7} - \\frac{756}{5} \\, N^{6} - \\frac{24}{5} \\, N^{5} + \\frac{1392}{5} \\, N^{4} - 243 \\, N^{3} + \\frac{289}{5} \\, N^{2} + 129 \\, N - 86 \\right) \\tr X^2 \\tr X^2 Y \\tr Y \n",
       " + \\left( \\frac{171}{5} \\, N^{7} + \\frac{756}{5} \\, N^{6} + \\frac{24}{5} \\, N^{5} - \\frac{1392}{5} \\, N^{4} + 243 \\, N^{3} - \\frac{289}{5} \\, N^{2} - 129 \\, N + 86 \\right) \\tr X^3 \\tr X Y \\tr Y \n",
       "\\right] \\\\\n",
       " O_{\n",
       " \\fontsize{6pt}{0} \\begin{ytableau}\n",
       " 1 & 1 & 1 & 1 \\\\ 2 & 2 \n",
       "\\end{ytableau} \\fontsize{12pt}{0} ,\n",
       "[3, 3] ,\n",
       "1 } & =\n",
       " \\frac{\\sqrt{5}}{\\sqrt{64152 \\, N^{14} + 548856 \\, N^{13} + 1208115 \\, N^{12} - 1099980 \\, N^{11} - 3816891 \\, N^{10} + 5112684 \\, N^{9} + 2085144 \\, N^{8} - 13794708 \\, N^{7} + 17358736 \\, N^{6} - 7048248 \\, N^{5} - 5794572 \\, N^{4} + 7528320 \\, N^{3} + 1671200 \\, N^{2} - 6930560 \\, N + 3165760}} \\left[\n",
       " \\left( \\frac{99}{5} \\, N^{7} + \\frac{486}{5} \\, N^{6} - \\frac{117}{5} \\, N^{5} - \\frac{1242}{5} \\, N^{4} + \\frac{2174}{5} \\, N^{3} - \\frac{1158}{5} \\, N^{2} - 248 \\, N + 248 \\right) \\tr X^3 \\tr X Y^2 \n",
       " + \\left( -\\frac{99}{5} \\, N^{7} - \\frac{486}{5} \\, N^{6} + \\frac{117}{5} \\, N^{5} + \\frac{1242}{5} \\, N^{4} - \\frac{2174}{5} \\, N^{3} + \\frac{1158}{5} \\, N^{2} + 248 \\, N - 248 \\right) \\left( \\tr X^2 Y \\right)^2 \n",
       " + \\left( -\\frac{27}{5} \\, N^{7} - \\frac{171}{10} \\, N^{6} - \\frac{54}{5} \\, N^{5} + \\frac{6}{5} \\, N^{4} + \\frac{423}{5} \\, N^{3} - \\frac{201}{5} \\, N^{2} - 132 \\, N + 132 \\right) \\tr X^4 \\tr Y^2 \n",
       " + \\left( \\frac{54}{5} \\, N^{7} + \\frac{171}{5} \\, N^{6} + \\frac{108}{5} \\, N^{5} - \\frac{12}{5} \\, N^{4} - \\frac{846}{5} \\, N^{3} + \\frac{402}{5} \\, N^{2} + 264 \\, N - 264 \\right) \\tr X^3 Y \\tr X Y \n",
       " + \\left( -\\frac{18}{5} \\, N^{7} - \\frac{57}{5} \\, N^{6} - \\frac{36}{5} \\, N^{5} + \\frac{4}{5} \\, N^{4} + \\frac{282}{5} \\, N^{3} - \\frac{134}{5} \\, N^{2} - 88 \\, N + 88 \\right) \\tr X^2 \\tr X^2 Y^2 \n",
       " + \\left( -\\frac{9}{5} \\, N^{7} - \\frac{57}{10} \\, N^{6} - \\frac{18}{5} \\, N^{5} + \\frac{2}{5} \\, N^{4} + \\frac{141}{5} \\, N^{3} - \\frac{67}{5} \\, N^{2} - 44 \\, N + 44 \\right) \\tr X^2 \\tr \\left( X Y \\right)^2 \n",
       " + \\left( -\\frac{27}{5} \\, N^{7} - \\frac{261}{10} \\, N^{6} - \\frac{9}{5} \\, N^{5} + \\frac{351}{5} \\, N^{4} - \\frac{297}{5} \\, N^{3} - \\frac{51}{5} \\, N^{2} + 60 \\, N - 36 \\right) \\tr X^4 \\left( \\tr Y \\right)^2 \n",
       " + \\left( \\frac{54}{5} \\, N^{7} + \\frac{261}{5} \\, N^{6} + \\frac{18}{5} \\, N^{5} - \\frac{702}{5} \\, N^{4} + \\frac{594}{5} \\, N^{3} + \\frac{102}{5} \\, N^{2} - 120 \\, N + 72 \\right) \\tr X \\tr X^3 Y \\tr Y \n",
       " + \\left( \\frac{27}{10} \\, N^{7} + \\frac{243}{10} \\, N^{6} - \\frac{63}{5} \\, N^{5} - \\frac{513}{5} \\, N^{4} + \\frac{791}{5} \\, N^{3} - \\frac{442}{5} \\, N^{2} + 72 \\, N - 48 \\right) \\tr X \\tr X^3 \\tr Y^2 \n",
       " + \\left( -\\frac{1}{10} \\, {\\left(36 \\, N^{6} + 189 \\, N^{5} - 138 \\, N^{4} - 378 \\, N^{3} + 1266 \\, N^{2} - 1672 \\, N + 920\\right)} N \\right) \\left( \\tr X^2 \\right)^2 \\tr Y^2 \n",
       " + \\left( -\\frac{18}{5} \\, N^{7} - \\frac{87}{5} \\, N^{6} - \\frac{6}{5} \\, N^{5} + \\frac{234}{5} \\, N^{4} - \\frac{198}{5} \\, N^{3} - \\frac{34}{5} \\, N^{2} + 40 \\, N - 24 \\right) \\left( \\tr X \\right)^2 \\tr X^2 Y^2 \n",
       " + \\left( -\\frac{9}{5} \\, N^{7} - \\frac{87}{10} \\, N^{6} - \\frac{3}{5} \\, N^{5} + \\frac{117}{5} \\, N^{4} - \\frac{99}{5} \\, N^{3} - \\frac{17}{5} \\, N^{2} + 20 \\, N - 12 \\right) \\left( \\tr X \\right)^2 \\tr \\left( X Y \\right)^2 \n",
       " + \\left( -\\frac{144}{5} \\, N^{7} - \\frac{711}{5} \\, N^{6} + \\frac{72}{5} \\, N^{5} + \\frac{1842}{5} \\, N^{4} - \\frac{2134}{5} \\, N^{3} + \\frac{818}{5} \\, N^{2} - 24 \\, N + 24 \\right) \\tr X \\tr X^2 Y \\tr X Y \n",
       " + \\left( \\frac{1}{10} \\, {\\left(36 \\, N^{6} + 189 \\, N^{5} - 138 \\, N^{4} - 378 \\, N^{3} + 1266 \\, N^{2} - 1672 \\, N + 920\\right)} N \\right) \\tr X^2 \\left( \\tr X Y \\right)^2 \n",
       " + \\left( \\frac{3}{10} \\, {\\left(21 \\, N^{4} + 48 \\, N^{3} - 36 \\, N^{2} - 2 \\, N - 12\\right)} {\\left(N + 1\\right)} N^{2} \\right) \\tr X \\tr X^3 \\left( \\tr Y \\right)^2 \n",
       " + \\left( -\\frac{171}{20} \\, N^{7} - \\frac{729}{20} \\, N^{6} - \\frac{18}{5} \\, N^{5} + \\frac{759}{10} \\, N^{4} - \\frac{573}{10} \\, N^{3} - \\frac{42}{5} \\, N^{2} + 60 \\, N - 36 \\right) \\left( \\tr X^2 \\right)^2 \\left( \\tr Y \\right)^2 \n",
       " + \\left( -\\frac{3}{5} \\, {\\left(21 \\, N^{4} + 48 \\, N^{3} - 36 \\, N^{2} - 2 \\, N - 12\\right)} {\\left(N + 1\\right)} N^{2} \\right) \\left( \\tr X \\right)^2 \\tr X^2 Y \\tr Y \n",
       " + \\left( \\frac{171}{10} \\, N^{7} + \\frac{729}{10} \\, N^{6} + \\frac{36}{5} \\, N^{5} - \\frac{759}{5} \\, N^{4} + \\frac{573}{5} \\, N^{3} + \\frac{84}{5} \\, N^{2} - 120 \\, N + 72 \\right) \\tr X \\tr X^2 \\tr X Y \\tr Y \n",
       " + \\left( \\frac{153}{20} \\, N^{7} + \\frac{657}{20} \\, N^{6} + \\frac{39}{5} \\, N^{5} - \\frac{597}{10} \\, N^{4} + \\frac{89}{10} \\, N^{3} - \\frac{64}{5} \\, N^{2} + 32 \\, N - 12 \\right) \\left( \\tr X \\right)^2 \\tr X^2 \\tr Y^2 \n",
       " + \\left( \\frac{3}{20} \\, {\\left(21 \\, N^{4} + 48 \\, N^{3} - 36 \\, N^{2} - 2 \\, N - 12\\right)} {\\left(N + 1\\right)} N^{2} \\right) \\left( \\tr X \\right)^2 \\tr X^2 \\left( \\tr Y \\right)^2 \n",
       " + \\left( \\frac{3}{10} \\, {\\left(21 \\, N^{4} + 48 \\, N^{3} - 36 \\, N^{2} - 2 \\, N - 12\\right)} {\\left(N + 1\\right)} N^{2} \\right) \\left( \\tr X \\right)^3 \\tr X Y^2 \n",
       " + \\left( -\\frac{81}{5} \\, N^{7} - \\frac{693}{10} \\, N^{6} - \\frac{57}{5} \\, N^{5} + \\frac{678}{5} \\, N^{4} - \\frac{331}{5} \\, N^{3} + \\frac{22}{5} \\, N^{2} + 28 \\, N - 24 \\right) \\left( \\tr X \\right)^2 \\left( \\tr X Y \\right)^2 \n",
       " + \\left( -\\frac{3}{10} \\, {\\left(21 \\, N^{4} + 48 \\, N^{3} - 36 \\, N^{2} - 2 \\, N - 12\\right)} {\\left(N + 1\\right)} N^{2} \\right) \\left( \\tr X \\right)^3 \\tr X Y \\tr Y \n",
       " + \\left( \\frac{3}{20} \\, {\\left(21 \\, N^{4} + 48 \\, N^{3} - 36 \\, N^{2} - 2 \\, N - 12\\right)} {\\left(N + 1\\right)} N^{2} \\right) \\left( \\tr X \\right)^4 \\tr Y^2 \n",
       " + \\left( \\frac{261}{10} \\, N^{7} + \\frac{1179}{10} \\, N^{6} - \\frac{9}{5} \\, N^{5} - \\frac{1329}{5} \\, N^{4} + \\frac{1343}{5} \\, N^{3} - \\frac{376}{5} \\, N^{2} - 48 \\, N + 24 \\right) \\tr X \\tr X^2 \\tr X Y^2 \n",
       " + \\left( -\\frac{117}{5} \\, N^{7} - \\frac{468}{5} \\, N^{6} - \\frac{54}{5} \\, N^{5} + \\frac{816}{5} \\, N^{4} - \\frac{552}{5} \\, N^{3} - \\frac{66}{5} \\, N^{2} + 120 \\, N - 72 \\right) \\tr X^2 \\tr X^2 Y \\tr Y \n",
       " + \\left( \\frac{117}{5} \\, N^{7} + \\frac{468}{5} \\, N^{6} + \\frac{54}{5} \\, N^{5} - \\frac{816}{5} \\, N^{4} + \\frac{552}{5} \\, N^{3} + \\frac{66}{5} \\, N^{2} - 120 \\, N + 72 \\right) \\tr X^3 \\tr X Y \\tr Y \n",
       "\\right] \\\\\n",
       " O_{\n",
       " \\fontsize{6pt}{0} \\begin{ytableau}\n",
       " 1 & 1 & 1 & 1 \\\\ 2 & 2 \n",
       "\\end{ytableau} \\fontsize{12pt}{0} ,\n",
       "[4, 2] ,\n",
       "1 } & =\n",
       " \\frac{\\sqrt{5}}{\\sqrt{891 \\, N^{12} + 2916 \\, N^{11} - 2322 \\, N^{10} - 14904 \\, N^{9} + 35568 \\, N^{8} - 35136 \\, N^{7} - 3744 \\, N^{6} + 61344 \\, N^{5} - 80640 \\, N^{4} + 29760 \\, N^{3} + 38560 \\, N^{2} - 48000 \\, N + 16000}} \\left[\n",
       " \\left( \\frac{27}{20} \\, N^{6} + \\frac{18}{5} \\, N^{5} - \\frac{117}{10} \\, N^{4} + \\frac{63}{5} \\, N^{3} + \\frac{6}{5} \\, N^{2} - 18 \\, N + 12 \\right) \\tr X^4 \\tr Y^2 \n",
       " + \\left( -\\frac{27}{10} \\, N^{6} - \\frac{36}{5} \\, N^{5} + \\frac{117}{5} \\, N^{4} - \\frac{126}{5} \\, N^{3} - \\frac{12}{5} \\, N^{2} + 36 \\, N - 24 \\right) \\tr X^3 Y \\tr X Y \n",
       " + \\left( \\frac{9}{10} \\, N^{6} + \\frac{12}{5} \\, N^{5} - \\frac{39}{5} \\, N^{4} + \\frac{42}{5} \\, N^{3} + \\frac{4}{5} \\, N^{2} - 12 \\, N + 8 \\right) \\tr X^2 \\tr X^2 Y^2 \n",
       " + \\left( \\frac{9}{20} \\, N^{6} + \\frac{6}{5} \\, N^{5} - \\frac{39}{10} \\, N^{4} + \\frac{21}{5} \\, N^{3} + \\frac{2}{5} \\, N^{2} - 6 \\, N + 4 \\right) \\tr X^2 \\tr \\left( X Y \\right)^2 \n",
       " + \\left( \\frac{18}{5} \\, N^{5} - \\frac{72}{5} \\, N^{4} + \\frac{108}{5} \\, N^{3} - \\frac{12}{5} \\, N^{2} - 24 \\, N + 16 \\right) \\tr X^3 \\tr X Y^2 \n",
       " + \\left( -\\frac{18}{5} \\, N^{5} + \\frac{72}{5} \\, N^{4} - \\frac{108}{5} \\, N^{3} + \\frac{12}{5} \\, N^{2} + 24 \\, N - 16 \\right) \\left( \\tr X^2 Y \\right)^2 \n",
       " + \\left( \\frac{3}{20} \\, {\\left(3 \\, N^{2} - 2\\right)} {\\left(3 \\, N + 2\\right)} N^{3} \\right) \\tr X^4 \\left( \\tr Y \\right)^2 \n",
       " + \\left( -\\frac{3}{10} \\, {\\left(3 \\, N^{2} - 2\\right)} {\\left(3 \\, N + 2\\right)} N^{3} \\right) \\tr X \\tr X^3 Y \\tr Y \n",
       " + \\left( \\frac{1}{10} \\, {\\left(6 \\, N^{3} + 15 \\, N^{2} - 30 \\, N + 20\\right)} {\\left(3 \\, N^{2} - 2\\right)} N \\right) \\tr X \\tr X^3 \\tr Y^2 \n",
       " + \\left( \\frac{1}{10} \\, {\\left(9 \\, N^{5} + 18 \\, N^{4} - 36 \\, N^{3} - 12 \\, N^{2} + 60 \\, N - 40\\right)} N \\right) \\left( \\tr X^2 \\right)^2 \\tr Y^2 \n",
       " + \\left( \\frac{1}{10} \\, {\\left(3 \\, N^{2} - 2\\right)} {\\left(3 \\, N + 2\\right)} N^{3} \\right) \\left( \\tr X \\right)^2 \\tr X^2 Y^2 \n",
       " + \\left( \\frac{1}{20} \\, {\\left(3 \\, N^{2} - 2\\right)} {\\left(3 \\, N + 2\\right)} N^{3} \\right) \\left( \\tr X \\right)^2 \\tr \\left( X Y \\right)^2 \n",
       " + \\left( -\\frac{1}{10} \\, {\\left(9 \\, N^{3} + 30 \\, N^{2} - 60 \\, N + 40\\right)} {\\left(3 \\, N^{2} - 2\\right)} N \\right) \\tr X \\tr X^2 Y \\tr X Y \n",
       " + \\left( -\\frac{1}{10} \\, {\\left(9 \\, N^{5} + 18 \\, N^{4} - 36 \\, N^{3} - 12 \\, N^{2} + 60 \\, N - 40\\right)} N \\right) \\tr X^2 \\left( \\tr X Y \\right)^2 \n",
       " + \\left( \\frac{3}{10} \\, {\\left(3 \\, N^{2} - 2\\right)} {\\left(N + 1\\right)} N^{3} \\right) \\tr X \\tr X^3 \\left( \\tr Y \\right)^2 \n",
       " + \\left( \\frac{3}{20} \\, {\\left(3 \\, N^{2} - 2\\right)} {\\left(2 \\, N + 1\\right)} N^{3} \\right) \\left( \\tr X^2 \\right)^2 \\left( \\tr Y \\right)^2 \n",
       " + \\left( -\\frac{3}{5} \\, {\\left(3 \\, N^{2} - 2\\right)} {\\left(N + 1\\right)} N^{3} \\right) \\left( \\tr X \\right)^2 \\tr X^2 Y \\tr Y \n",
       " + \\left( -\\frac{3}{10} \\, {\\left(3 \\, N^{2} - 2\\right)} {\\left(2 \\, N + 1\\right)} N^{3} \\right) \\tr X \\tr X^2 \\tr X Y \\tr Y \n",
       " + \\left( \\frac{1}{20} \\, {\\left(12 \\, N^{2} + 21 \\, N - 20\\right)} {\\left(3 \\, N^{2} - 2\\right)} N^{2} \\right) \\left( \\tr X \\right)^2 \\tr X^2 \\tr Y^2 \n",
       " + \\left( \\frac{3}{20} \\, {\\left(3 \\, N^{2} - 2\\right)} {\\left(N + 1\\right)} N^{3} \\right) \\left( \\tr X \\right)^2 \\tr X^2 \\left( \\tr Y \\right)^2 \n",
       " + \\left( \\frac{3}{10} \\, {\\left(3 \\, N^{2} - 2\\right)} {\\left(N + 1\\right)} N^{3} \\right) \\left( \\tr X \\right)^3 \\tr X Y^2 \n",
       " + \\left( -\\frac{1}{10} \\, {\\left(3 \\, N^{2} + 9 \\, N - 10\\right)} {\\left(3 \\, N^{2} - 2\\right)} N^{2} \\right) \\left( \\tr X \\right)^2 \\left( \\tr X Y \\right)^2 \n",
       " + \\left( -\\frac{3}{10} \\, {\\left(3 \\, N^{2} - 2\\right)} {\\left(N + 1\\right)} N^{3} \\right) \\left( \\tr X \\right)^3 \\tr X Y \\tr Y \n",
       " + \\left( \\frac{3}{20} \\, {\\left(3 \\, N^{2} - 2\\right)} {\\left(N + 1\\right)} N^{3} \\right) \\left( \\tr X \\right)^4 \\tr Y^2 \n",
       " + \\left( \\frac{1}{10} \\, {\\left(3 \\, N^{3} + 15 \\, N^{2} - 30 \\, N + 20\\right)} {\\left(3 \\, N^{2} - 2\\right)} N \\right) \\tr X \\tr X^2 \\tr X Y^2 \n",
       " + \\left( \\frac{3}{10} \\, {\\left(3 \\, N^{2} - 2\\right)} N^{4} \\right) \\tr X^2 \\tr X^2 Y \\tr Y \n",
       " + \\left( -\\frac{3}{10} \\, {\\left(3 \\, N^{2} - 2\\right)} N^{4} \\right) \\tr X^3 \\tr X Y \\tr Y \n",
       "\\right] \\\\\n",
       " \\end{align*}\n",
       " \\ytableausetup{boxsize=normal}"
      ]
     },
     "execution_count": 35,
     "metadata": {},
     "output_type": "execute_result"
    }
   ],
   "source": [
    "#Fully orthogonalised basis for field content (4,2)\n",
    "latexString(finalBasis,'O',['semi-standard tableau','partition','multiplicity'])"
   ]
  },
  {
   "cell_type": "code",
   "execution_count": 39,
   "metadata": {},
   "outputs": [
    {
     "data": {
      "text/plain": [
       "\\ytableausetup{boxsize=7pt}\n",
       "\\begin{align*}\n",
       "O_{\n",
       "\\fontsize{6pt}{0} \\begin{ytableau}\n",
       "1 & 1 & 1 & 2 & 2 & 2 \n",
       "\\end{ytableau} \\fontsize{12pt}{0} ,\n",
       "[1, 1, 1, 1, 1, 1] ,\n",
       "1 } & =\n",
       " \\frac{1}{360} \\, \\sqrt{5} \\left[\n",
       " - 36 \\tr X^3 Y^3 \n",
       " - 36 \\tr X^2 Y^2 X Y \n",
       " - 36 \\tr X^2 Y X Y^2 \n",
       " - 12 \\tr \\left( X Y \\right)^3 \n",
       " + 36 \\tr X^3 Y^2 \\tr Y \n",
       " + 36 \\tr X^2 Y X Y \\tr Y \n",
       " + 36 \\tr X \\tr X^2 Y^3 \n",
       " + 36 \\tr X \\tr X Y X Y^2 \n",
       " + 36 \\tr X^2 Y^2 \\tr X Y \n",
       " + 18 \\tr X Y \\tr \\left( X Y \\right)^2 \n",
       " + 18 \\tr X^3 Y \\tr Y^2 \n",
       " + 18 \\tr X^2 \\tr X Y^3 \n",
       " + 36 \\tr X^2 Y \\tr X Y^2 \n",
       " + 4 \\tr X^3 \\tr Y^3 \n",
       " - 18 \\tr X^3 Y \\left( \\tr Y \\right)^2 \n",
       " - 36 \\tr X \\tr X^2 Y^2 \\tr Y \n",
       " - 18 \\tr X \\tr \\left( X Y \\right)^2 \\tr Y \n",
       " - 18 \\left( \\tr X \\right)^2 \\tr X Y^3 \n",
       " - 36 \\tr X^2 Y \\tr X Y \\tr Y \n",
       " - 6 \\tr X^3 \\tr Y \\tr Y^2 \n",
       " - 18 \\tr X^2 \\tr X Y^2 \\tr Y \n",
       " - 36 \\tr X \\tr X Y \\tr X Y^2 \n",
       " - 18 \\tr X \\tr X^2 Y \\tr Y^2 \n",
       " - 6 \\tr X \\tr X^2 \\tr Y^3 \n",
       " - 6 \\left( \\tr X Y \\right)^3 \n",
       " - 9 \\tr X^2 \\tr X Y \\tr Y^2 \n",
       " + 2 \\tr X^3 \\left( \\tr Y \\right)^3 \n",
       " + 18 \\tr X \\tr X^2 Y \\left( \\tr Y \\right)^2 \n",
       " + 18 \\left( \\tr X \\right)^2 \\tr X Y^2 \\tr Y \n",
       " + 2 \\left( \\tr X \\right)^3 \\tr Y^3 \n",
       " + 9 \\tr X^2 \\tr X Y \\left( \\tr Y \\right)^2 \n",
       " + 18 \\tr X \\left( \\tr X Y \\right)^2 \\tr Y \n",
       " + 9 \\tr X \\tr X^2 \\tr Y \\tr Y^2 \n",
       " + 9 \\left( \\tr X \\right)^2 \\tr X Y \\tr Y^2 \n",
       " - 3 \\tr X \\tr X^2 \\left( \\tr Y \\right)^3 \n",
       " - 9 \\left( \\tr X \\right)^2 \\tr X Y \\left( \\tr Y \\right)^2 \n",
       " - 3 \\left( \\tr X \\right)^3 \\tr Y \\tr Y^2 \n",
       " + \\left( \\tr X \\right)^3 \\left( \\tr Y \\right)^3 \n",
       " \\right] \\\\\n",
       " O_{\n",
       " \\fontsize{6pt}{0} \\begin{ytableau}\n",
       " 1 & 1 & 1 & 2 & 2 & 2 \n",
       "\\end{ytableau} \\fontsize{12pt}{0} ,\n",
       "[2, 1, 1, 1, 1] ,\n",
       "1 } & =\n",
       " \\frac{1}{360} \\, \\sqrt{5} \\left[\n",
       " 36 \\tr X^3 Y^3 \n",
       " + 36 \\tr X^2 Y^2 X Y \n",
       " + 36 \\tr X^2 Y X Y^2 \n",
       " + 12 \\tr \\left( X Y \\right)^3 \n",
       " - 36 \\tr X^2 Y^2 \\tr X Y \n",
       " - 18 \\tr X Y \\tr \\left( X Y \\right)^2 \n",
       " - 18 \\tr X^3 Y \\tr Y^2 \n",
       " - 18 \\tr X^2 \\tr X Y^3 \n",
       " - 36 \\tr X^2 Y \\tr X Y^2 \n",
       " - 4 \\tr X^3 \\tr Y^3 \n",
       " - 18 \\tr X^3 Y \\left( \\tr Y \\right)^2 \n",
       " - 36 \\tr X \\tr X^2 Y^2 \\tr Y \n",
       " - 18 \\tr X \\tr \\left( X Y \\right)^2 \\tr Y \n",
       " - 18 \\left( \\tr X \\right)^2 \\tr X Y^3 \n",
       " + 6 \\left( \\tr X Y \\right)^3 \n",
       " + 9 \\tr X^2 \\tr X Y \\tr Y^2 \n",
       " + 4 \\tr X^3 \\left( \\tr Y \\right)^3 \n",
       " + 36 \\tr X \\tr X^2 Y \\left( \\tr Y \\right)^2 \n",
       " + 36 \\left( \\tr X \\right)^2 \\tr X Y^2 \\tr Y \n",
       " + 4 \\left( \\tr X \\right)^3 \\tr Y^3 \n",
       " + 9 \\tr X^2 \\tr X Y \\left( \\tr Y \\right)^2 \n",
       " + 18 \\tr X \\left( \\tr X Y \\right)^2 \\tr Y \n",
       " + 9 \\tr X \\tr X^2 \\tr Y \\tr Y^2 \n",
       " + 9 \\left( \\tr X \\right)^2 \\tr X Y \\tr Y^2 \n",
       " - 9 \\tr X \\tr X^2 \\left( \\tr Y \\right)^3 \n",
       " - 27 \\left( \\tr X \\right)^2 \\tr X Y \\left( \\tr Y \\right)^2 \n",
       " - 9 \\left( \\tr X \\right)^3 \\tr Y \\tr Y^2 \n",
       " + 5 \\left( \\tr X \\right)^3 \\left( \\tr Y \\right)^3 \n",
       "\\right] \\\\\n",
       " O_{\n",
       " \\fontsize{6pt}{0} \\begin{ytableau}\n",
       " 1 & 1 & 1 & 2 & 2 & 2 \n",
       "\\end{ytableau} \\fontsize{12pt}{0} ,\n",
       "[2, 2, 1, 1] ,\n",
       "1 } & =\n",
       " \\frac{1}{40} \\, \\sqrt{5} \\left[\n",
       " - 4 \\tr X^3 Y^2 \\tr Y \n",
       " - 4 \\tr X^2 Y X Y \\tr Y \n",
       " - 4 \\tr X \\tr X^2 Y^3 \n",
       " - 4 \\tr X \\tr X Y X Y^2 \n",
       " + 4 \\tr X^2 Y^2 \\tr X Y \n",
       " + 2 \\tr X Y \\tr \\left( X Y \\right)^2 \n",
       " + 2 \\tr X^3 Y \\tr Y^2 \n",
       " + 2 \\tr X^2 \\tr X Y^3 \n",
       " + 2 \\tr X^3 Y \\left( \\tr Y \\right)^2 \n",
       " + 4 \\tr X \\tr X^2 Y^2 \\tr Y \n",
       " + 2 \\tr X \\tr \\left( X Y \\right)^2 \\tr Y \n",
       " + 2 \\left( \\tr X \\right)^2 \\tr X Y^3 \n",
       " - 2 \\left( \\tr X Y \\right)^3 \n",
       " - 3 \\tr X^2 \\tr X Y \\tr Y^2 \n",
       " + \\tr X^2 \\tr X Y \\left( \\tr Y \\right)^2 \n",
       " + 2 \\tr X \\left( \\tr X Y \\right)^2 \\tr Y \n",
       " + \\tr X \\tr X^2 \\tr Y \\tr Y^2 \n",
       " + \\left( \\tr X \\right)^2 \\tr X Y \\tr Y^2 \n",
       " - \\tr X \\tr X^2 \\left( \\tr Y \\right)^3 \n",
       " - 3 \\left( \\tr X \\right)^2 \\tr X Y \\left( \\tr Y \\right)^2 \n",
       " - \\left( \\tr X \\right)^3 \\tr Y \\tr Y^2 \n",
       " + \\left( \\tr X \\right)^3 \\left( \\tr Y \\right)^3 \n",
       " \\right] \\\\\n",
       " O_{\n",
       " \\fontsize{6pt}{0} \\begin{ytableau}\n",
       " 1 & 1 & 1 & 2 & 2 & 2 \n",
       "\\end{ytableau} \\fontsize{12pt}{0} ,\n",
       "[3, 1, 1, 1] ,\n",
       "1 } & =\n",
       " \\frac{1}{180} \\, \\sqrt{5} \\left[\n",
       " - 18 \\tr X^3 Y^3 \n",
       " - 18 \\tr X^2 Y^2 X Y \n",
       " - 18 \\tr X^2 Y X Y^2 \n",
       " - 6 \\tr \\left( X Y \\right)^3 \n",
       " + 18 \\tr X^2 Y \\tr X Y^2 \n",
       " + 2 \\tr X^3 \\tr Y^3 \n",
       " + 18 \\tr X^2 Y \\tr X Y \\tr Y \n",
       " + 3 \\tr X^3 \\tr Y \\tr Y^2 \n",
       " + 9 \\tr X^2 \\tr X Y^2 \\tr Y \n",
       " + 18 \\tr X \\tr X Y \\tr X Y^2 \n",
       " + 9 \\tr X \\tr X^2 Y \\tr Y^2 \n",
       " + 3 \\tr X \\tr X^2 \\tr Y^3 \n",
       " + \\tr X^3 \\left( \\tr Y \\right)^3 \n",
       " + 9 \\tr X \\tr X^2 Y \\left( \\tr Y \\right)^2 \n",
       " + 9 \\left( \\tr X \\right)^2 \\tr X Y^2 \\tr Y \n",
       " + \\left( \\tr X \\right)^3 \\tr Y^3 \n",
       " + 6 \\left( \\tr X Y \\right)^3 \n",
       " + 9 \\tr X^2 \\tr X Y \\tr Y^2 \n",
       " - 9 \\tr X^2 \\tr X Y \\left( \\tr Y \\right)^2 \n",
       " - 18 \\tr X \\left( \\tr X Y \\right)^2 \\tr Y \n",
       " - 9 \\tr X \\tr X^2 \\tr Y \\tr Y^2 \n",
       " - 9 \\left( \\tr X \\right)^2 \\tr X Y \\tr Y^2 \n",
       " - 3 \\tr X \\tr X^2 \\left( \\tr Y \\right)^3 \n",
       " - 9 \\left( \\tr X \\right)^2 \\tr X Y \\left( \\tr Y \\right)^2 \n",
       " - 3 \\left( \\tr X \\right)^3 \\tr Y \\tr Y^2 \n",
       " + 5 \\left( \\tr X \\right)^3 \\left( \\tr Y \\right)^3 \n",
       " \\right] \\\\\n",
       " O_{\n",
       " \\fontsize{6pt}{0} \\begin{ytableau}\n",
       " 1 & 1 & 1 & 2 & 2 & 2 \n",
       "\\end{ytableau} \\fontsize{12pt}{0} ,\n",
       "[2, 2, 2] ,\n",
       "1 } & =\n",
       " \\frac{1}{360} \\, \\sqrt{5} \\left[\n",
       " - 36 \\tr X^2 Y^2 \\tr X Y \n",
       " - 18 \\tr X Y \\tr \\left( X Y \\right)^2 \n",
       " - 18 \\tr X^3 Y \\tr Y^2 \n",
       " - 18 \\tr X^2 \\tr X Y^3 \n",
       " + 18 \\left( \\tr X Y \\right)^3 \n",
       " + 27 \\tr X^2 \\tr X Y \\tr Y^2 \n",
       " + 72 \\tr X^2 Y \\tr X Y^2 \n",
       " + 8 \\tr X^3 \\tr Y^3 \n",
       " - 36 \\tr X^2 Y \\tr X Y \\tr Y \n",
       " - 6 \\tr X^3 \\tr Y \\tr Y^2 \n",
       " - 18 \\tr X^2 \\tr X Y^2 \\tr Y \n",
       " - 36 \\tr X \\tr X Y \\tr X Y^2 \n",
       " - 18 \\tr X \\tr X^2 Y \\tr Y^2 \n",
       " - 6 \\tr X \\tr X^2 \\tr Y^3 \n",
       " - 2 \\tr X^3 \\left( \\tr Y \\right)^3 \n",
       " - 18 \\tr X \\tr X^2 Y \\left( \\tr Y \\right)^2 \n",
       " - 18 \\left( \\tr X \\right)^2 \\tr X Y^2 \\tr Y \n",
       " - 2 \\left( \\tr X \\right)^3 \\tr Y^3 \n",
       " - 3 \\tr X \\tr X^2 \\left( \\tr Y \\right)^3 \n",
       " - 9 \\left( \\tr X \\right)^2 \\tr X Y \\left( \\tr Y \\right)^2 \n",
       " - 3 \\left( \\tr X \\right)^3 \\tr Y \\tr Y^2 \n",
       " + 5 \\left( \\tr X \\right)^3 \\left( \\tr Y \\right)^3 \n",
       " + 18 \\tr X^3 Y \\left( \\tr Y \\right)^2 \n",
       " + 36 \\tr X \\tr X^2 Y^2 \\tr Y \n",
       " + 18 \\tr X \\tr \\left( X Y \\right)^2 \\tr Y \n",
       " + 18 \\left( \\tr X \\right)^2 \\tr X Y^3 \n",
       " + 9 \\tr X^2 \\tr X Y \\left( \\tr Y \\right)^2 \n",
       " + 18 \\tr X \\left( \\tr X Y \\right)^2 \\tr Y \n",
       " + 9 \\tr X \\tr X^2 \\tr Y \\tr Y^2 \n",
       " + 9 \\left( \\tr X \\right)^2 \\tr X Y \\tr Y^2 \n",
       " \\right] \\\\\n",
       " O_{\n",
       " \\fontsize{6pt}{0} \\begin{ytableau}\n",
       " 1 & 1 & 1 & 2 & 2 & 2 \n",
       "\\end{ytableau} \\fontsize{12pt}{0} ,\n",
       "[3, 2, 1] ,\n",
       "1 } & =\n",
       " \\frac{1}{90} \\, \\sqrt{5} \\left[\n",
       " 9 \\tr X^3 Y^2 \\tr Y \n",
       " + 9 \\tr X^2 Y X Y \\tr Y \n",
       " + 9 \\tr X \\tr X^2 Y^3 \n",
       " + 9 \\tr X \\tr X Y X Y^2 \n",
       " - 18 \\tr X^2 Y \\tr X Y^2 \n",
       " - 2 \\tr X^3 \\tr Y^3 \n",
       " + 4 \\left( \\tr X \\right)^3 \\left( \\tr Y \\right)^3 \n",
       " - \\tr X^3 \\left( \\tr Y \\right)^3 \n",
       " - 9 \\tr X \\tr X^2 Y \\left( \\tr Y \\right)^2 \n",
       " - 9 \\left( \\tr X \\right)^2 \\tr X Y^2 \\tr Y \n",
       " - \\left( \\tr X \\right)^3 \\tr Y^3 \n",
       "\\right] \\\\\n",
       " O_{\n",
       " \\fontsize{6pt}{0} \\begin{ytableau}\n",
       " 1 & 1 & 1 & 2 & 2 & 2 \n",
       "\\end{ytableau} \\fontsize{12pt}{0} ,\n",
       "[4, 1, 1] ,\n",
       "1 } & =\n",
       " \\frac{1}{180} \\, \\sqrt{5} \\left[\n",
       " 18 \\tr X^3 Y^3 \n",
       " + 18 \\tr X^2 Y^2 X Y \n",
       " + 18 \\tr X^2 Y X Y^2 \n",
       " + 6 \\tr \\left( X Y \\right)^3 \n",
       " + 18 \\tr X^2 Y \\tr X Y^2 \n",
       " + 2 \\tr X^3 \\tr Y^3 \n",
       " - 18 \\tr X^2 Y \\tr X Y \\tr Y \n",
       " - 3 \\tr X^3 \\tr Y \\tr Y^2 \n",
       " - 9 \\tr X^2 \\tr X Y^2 \\tr Y \n",
       " - 18 \\tr X \\tr X Y \\tr X Y^2 \n",
       " - 9 \\tr X \\tr X^2 Y \\tr Y^2 \n",
       " - 3 \\tr X \\tr X^2 \\tr Y^3 \n",
       " - 6 \\left( \\tr X Y \\right)^3 \n",
       " - 9 \\tr X^2 \\tr X Y \\tr Y^2 \n",
       " + \\tr X^3 \\left( \\tr Y \\right)^3 \n",
       " + 9 \\tr X \\tr X^2 Y \\left( \\tr Y \\right)^2 \n",
       " + 9 \\left( \\tr X \\right)^2 \\tr X Y^2 \\tr Y \n",
       " + \\left( \\tr X \\right)^3 \\tr Y^3 \n",
       " - 9 \\tr X^2 \\tr X Y \\left( \\tr Y \\right)^2 \n",
       " - 18 \\tr X \\left( \\tr X Y \\right)^2 \\tr Y \n",
       " - 9 \\tr X \\tr X^2 \\tr Y \\tr Y^2 \n",
       " - 9 \\left( \\tr X \\right)^2 \\tr X Y \\tr Y^2 \n",
       " + 5 \\left( \\tr X \\right)^3 \\left( \\tr Y \\right)^3 \n",
       " + 3 \\tr X \\tr X^2 \\left( \\tr Y \\right)^3 \n",
       " + 9 \\left( \\tr X \\right)^2 \\tr X Y \\left( \\tr Y \\right)^2 \n",
       " + 3 \\left( \\tr X \\right)^3 \\tr Y \\tr Y^2 \n",
       "\\right] \\\\\n",
       " O_{\n",
       " \\fontsize{6pt}{0} \\begin{ytableau}\n",
       " 1 & 1 & 1 & 2 & 2 & 2 \n",
       "\\end{ytableau} \\fontsize{12pt}{0} ,\n",
       "[3, 3] ,\n",
       "1 } & =\n",
       " \\frac{1}{360} \\, \\sqrt{5} \\left[\n",
       " 72 \\tr X^2 Y \\tr X Y^2 \n",
       " + 8 \\tr X^3 \\tr Y^3 \n",
       " - 36 \\tr X^2 Y^2 \\tr X Y \n",
       " - 18 \\tr X Y \\tr \\left( X Y \\right)^2 \n",
       " - 18 \\tr X^3 Y \\tr Y^2 \n",
       " - 18 \\tr X^2 \\tr X Y^3 \n",
       " + 5 \\left( \\tr X \\right)^3 \\left( \\tr Y \\right)^3 \n",
       " + 9 \\tr X^2 \\tr X Y \\left( \\tr Y \\right)^2 \n",
       " + 18 \\tr X \\left( \\tr X Y \\right)^2 \\tr Y \n",
       " + 9 \\tr X \\tr X^2 \\tr Y \\tr Y^2 \n",
       " + 9 \\left( \\tr X \\right)^2 \\tr X Y \\tr Y^2 \n",
       " - 18 \\left( \\tr X Y \\right)^3 \n",
       " - 27 \\tr X^2 \\tr X Y \\tr Y^2 \n",
       " + 36 \\tr X^2 Y \\tr X Y \\tr Y \n",
       " + 6 \\tr X^3 \\tr Y \\tr Y^2 \n",
       " + 18 \\tr X^2 \\tr X Y^2 \\tr Y \n",
       " + 36 \\tr X \\tr X Y \\tr X Y^2 \n",
       " + 18 \\tr X \\tr X^2 Y \\tr Y^2 \n",
       " + 6 \\tr X \\tr X^2 \\tr Y^3 \n",
       " - 2 \\tr X^3 \\left( \\tr Y \\right)^3 \n",
       " - 18 \\tr X \\tr X^2 Y \\left( \\tr Y \\right)^2 \n",
       " - 18 \\left( \\tr X \\right)^2 \\tr X Y^2 \\tr Y \n",
       " - 2 \\left( \\tr X \\right)^3 \\tr Y^3 \n",
       " + 3 \\tr X \\tr X^2 \\left( \\tr Y \\right)^3 \n",
       " + 9 \\left( \\tr X \\right)^2 \\tr X Y \\left( \\tr Y \\right)^2 \n",
       " + 3 \\left( \\tr X \\right)^3 \\tr Y \\tr Y^2 \n",
       " - 18 \\tr X^3 Y \\left( \\tr Y \\right)^2 \n",
       " - 36 \\tr X \\tr X^2 Y^2 \\tr Y \n",
       " - 18 \\tr X \\tr \\left( X Y \\right)^2 \\tr Y \n",
       " - 18 \\left( \\tr X \\right)^2 \\tr X Y^3 \n",
       "\\right] \\\\\n",
       " O_{\n",
       " \\fontsize{6pt}{0} \\begin{ytableau}\n",
       " 1 & 1 & 1 & 2 & 2 & 2 \n",
       "\\end{ytableau} \\fontsize{12pt}{0} ,\n",
       "[4, 2] ,\n",
       "1 } & =\n",
       " \\frac{1}{40} \\, \\sqrt{5} \\left[\n",
       " 4 \\tr X^2 Y^2 \\tr X Y \n",
       " + 2 \\tr X Y \\tr \\left( X Y \\right)^2 \n",
       " + 2 \\tr X^3 Y \\tr Y^2 \n",
       " + 2 \\tr X^2 \\tr X Y^3 \n",
       " - 4 \\tr X^3 Y^2 \\tr Y \n",
       " - 4 \\tr X^2 Y X Y \\tr Y \n",
       " - 4 \\tr X \\tr X^2 Y^3 \n",
       " - 4 \\tr X \\tr X Y X Y^2 \n",
       " + 2 \\left( \\tr X Y \\right)^3 \n",
       " + 3 \\tr X^2 \\tr X Y \\tr Y^2 \n",
       " + \\left( \\tr X \\right)^3 \\left( \\tr Y \\right)^3 \n",
       " + \\tr X \\tr X^2 \\left( \\tr Y \\right)^3 \n",
       " + 3 \\left( \\tr X \\right)^2 \\tr X Y \\left( \\tr Y \\right)^2 \n",
       " + \\left( \\tr X \\right)^3 \\tr Y \\tr Y^2 \n",
       " + \\tr X^2 \\tr X Y \\left( \\tr Y \\right)^2 \n",
       " + 2 \\tr X \\left( \\tr X Y \\right)^2 \\tr Y \n",
       " + \\tr X \\tr X^2 \\tr Y \\tr Y^2 \n",
       " + \\left( \\tr X \\right)^2 \\tr X Y \\tr Y^2 \n",
       " - 2 \\tr X^3 Y \\left( \\tr Y \\right)^2 \n",
       " - 4 \\tr X \\tr X^2 Y^2 \\tr Y \n",
       " - 2 \\tr X \\tr \\left( X Y \\right)^2 \\tr Y \n",
       " - 2 \\left( \\tr X \\right)^2 \\tr X Y^3 \n",
       "\\right] \\\\\n",
       " O_{\n",
       " \\fontsize{6pt}{0} \\begin{ytableau}\n",
       " 1 & 1 & 1 & 2 & 2 & 2 \n",
       "\\end{ytableau} \\fontsize{12pt}{0} ,\n",
       "[5, 1] ,\n",
       "1 } & =\n",
       " \\frac{1}{360} \\, \\sqrt{5} \\left[\n",
       " - 36 \\tr X^3 Y^3 \n",
       " - 36 \\tr X^2 Y^2 X Y \n",
       " - 36 \\tr X^2 Y X Y^2 \n",
       " - 12 \\tr \\left( X Y \\right)^3 \n",
       " - 36 \\tr X^2 Y^2 \\tr X Y \n",
       " - 18 \\tr X Y \\tr \\left( X Y \\right)^2 \n",
       " - 18 \\tr X^3 Y \\tr Y^2 \n",
       " - 18 \\tr X^2 \\tr X Y^3 \n",
       " - 36 \\tr X^2 Y \\tr X Y^2 \n",
       " - 4 \\tr X^3 \\tr Y^3 \n",
       " + 18 \\tr X^3 Y \\left( \\tr Y \\right)^2 \n",
       " + 36 \\tr X \\tr X^2 Y^2 \\tr Y \n",
       " + 18 \\tr X \\tr \\left( X Y \\right)^2 \\tr Y \n",
       " + 18 \\left( \\tr X \\right)^2 \\tr X Y^3 \n",
       " + 5 \\left( \\tr X \\right)^3 \\left( \\tr Y \\right)^3 \n",
       " + 4 \\tr X^3 \\left( \\tr Y \\right)^3 \n",
       " + 36 \\tr X \\tr X^2 Y \\left( \\tr Y \\right)^2 \n",
       " + 36 \\left( \\tr X \\right)^2 \\tr X Y^2 \\tr Y \n",
       " + 4 \\left( \\tr X \\right)^3 \\tr Y^3 \n",
       " - 6 \\left( \\tr X Y \\right)^3 \n",
       " - 9 \\tr X^2 \\tr X Y \\tr Y^2 \n",
       " + 9 \\tr X \\tr X^2 \\left( \\tr Y \\right)^3 \n",
       " + 27 \\left( \\tr X \\right)^2 \\tr X Y \\left( \\tr Y \\right)^2 \n",
       " + 9 \\left( \\tr X \\right)^3 \\tr Y \\tr Y^2 \n",
       " + 9 \\tr X^2 \\tr X Y \\left( \\tr Y \\right)^2 \n",
       " + 18 \\tr X \\left( \\tr X Y \\right)^2 \\tr Y \n",
       " + 9 \\tr X \\tr X^2 \\tr Y \\tr Y^2 \n",
       " + 9 \\left( \\tr X \\right)^2 \\tr X Y \\tr Y^2 \n",
       " \\right] \\\\\n",
       " O_{\n",
       " \\fontsize{6pt}{0} \\begin{ytableau}\n",
       " 1 & 1 & 1 & 2 & 2 & 2 \n",
       "\\end{ytableau} \\fontsize{12pt}{0} ,\n",
       "[6] ,\n",
       "1 } & =\n",
       " \\frac{1}{360} \\, \\sqrt{5} \\left[\n",
       " 36 \\tr X^3 Y^3 \n",
       " + 36 \\tr X^2 Y^2 X Y \n",
       " + 36 \\tr X^2 Y X Y^2 \n",
       " + 12 \\tr \\left( X Y \\right)^3 \n",
       " + 36 \\tr X^3 Y^2 \\tr Y \n",
       " + 36 \\tr X^2 Y X Y \\tr Y \n",
       " + 36 \\tr X \\tr X^2 Y^3 \n",
       " + 36 \\tr X \\tr X Y X Y^2 \n",
       " + 36 \\tr X^2 Y^2 \\tr X Y \n",
       " + 18 \\tr X Y \\tr \\left( X Y \\right)^2 \n",
       " + 18 \\tr X^3 Y \\tr Y^2 \n",
       " + 18 \\tr X^2 \\tr X Y^3 \n",
       " + 36 \\tr X^2 Y \\tr X Y^2 \n",
       " + 4 \\tr X^3 \\tr Y^3 \n",
       " + \\left( \\tr X \\right)^3 \\left( \\tr Y \\right)^3 \n",
       " + 36 \\tr X^2 Y \\tr X Y \\tr Y \n",
       " + 6 \\tr X^3 \\tr Y \\tr Y^2 \n",
       " + 18 \\tr X^2 \\tr X Y^2 \\tr Y \n",
       " + 36 \\tr X \\tr X Y \\tr X Y^2 \n",
       " + 18 \\tr X \\tr X^2 Y \\tr Y^2 \n",
       " + 6 \\tr X \\tr X^2 \\tr Y^3 \n",
       " + 6 \\left( \\tr X Y \\right)^3 \n",
       " + 9 \\tr X^2 \\tr X Y \\tr Y^2 \n",
       " + 2 \\tr X^3 \\left( \\tr Y \\right)^3 \n",
       " + 18 \\tr X \\tr X^2 Y \\left( \\tr Y \\right)^2 \n",
       " + 18 \\left( \\tr X \\right)^2 \\tr X Y^2 \\tr Y \n",
       " + 2 \\left( \\tr X \\right)^3 \\tr Y^3 \n",
       " + 3 \\tr X \\tr X^2 \\left( \\tr Y \\right)^3 \n",
       " + 9 \\left( \\tr X \\right)^2 \\tr X Y \\left( \\tr Y \\right)^2 \n",
       " + 3 \\left( \\tr X \\right)^3 \\tr Y \\tr Y^2 \n",
       " + 18 \\tr X^3 Y \\left( \\tr Y \\right)^2 \n",
       " + 36 \\tr X \\tr X^2 Y^2 \\tr Y \n",
       " + 18 \\tr X \\tr \\left( X Y \\right)^2 \\tr Y \n",
       " + 18 \\left( \\tr X \\right)^2 \\tr X Y^3 \n",
       " + 9 \\tr X^2 \\tr X Y \\left( \\tr Y \\right)^2 \n",
       " + 18 \\tr X \\left( \\tr X Y \\right)^2 \\tr Y \n",
       " + 9 \\tr X \\tr X^2 \\tr Y \\tr Y^2 \n",
       " + 9 \\left( \\tr X \\right)^2 \\tr X Y \\tr Y^2 \n",
       "\\right] \\\\\n",
       " O_{\n",
       " \\fontsize{6pt}{0} \\begin{ytableau}\n",
       " 1 & 1 & 1 & 2 & 2 \\\\ 2 \n",
       "\\end{ytableau} \\fontsize{12pt}{0} ,\n",
       "[2, 1, 1, 1, 1] ,\n",
       "1 } & =\n",
       " \\frac{1}{24} \\left[\n",
       " - 6 \\tr X^3 Y^2 \\tr Y \n",
       " - 6 \\tr X^2 Y X Y \\tr Y \n",
       " + 6 \\tr X \\tr X^2 Y^3 \n",
       " + 6 \\tr X \\tr X Y X Y^2 \n",
       " + 6 \\tr X^3 Y \\left( \\tr Y \\right)^2 \n",
       " + 6 \\tr X^2 Y \\tr X Y \\tr Y \n",
       " + \\tr X^3 \\tr Y \\tr Y^2 \n",
       " + 3 \\tr X^2 \\tr X Y^2 \\tr Y \n",
       " - 6 \\left( \\tr X \\right)^2 \\tr X Y^3 \n",
       " - 6 \\tr X \\tr X Y \\tr X Y^2 \n",
       " - 3 \\tr X \\tr X^2 Y \\tr Y^2 \n",
       " - \\tr X \\tr X^2 \\tr Y^3 \n",
       " - \\tr X^3 \\left( \\tr Y \\right)^3 \n",
       " - 3 \\tr X \\tr X^2 Y \\left( \\tr Y \\right)^2 \n",
       " - 3 \\tr X^2 \\tr X Y \\left( \\tr Y \\right)^2 \n",
       " + 3 \\left( \\tr X \\right)^2 \\tr X Y^2 \\tr Y \n",
       " + \\left( \\tr X \\right)^3 \\tr Y^3 \n",
       " + 3 \\left( \\tr X \\right)^2 \\tr X Y \\tr Y^2 \n",
       " + \\tr X \\tr X^2 \\left( \\tr Y \\right)^3 \n",
       " - \\left( \\tr X \\right)^3 \\tr Y \\tr Y^2 \n",
       " \\right] \\\\\n",
       " O_{\n",
       " \\fontsize{6pt}{0} \\begin{ytableau}\n",
       " 1 & 1 & 1 & 2 & 2 \\\\ 2 \n",
       "\\end{ytableau} \\fontsize{12pt}{0} ,\n",
       "[2, 2, 1, 1] ,\n",
       "1 } & =\n",
       " \\frac{1}{40} \\, \\sqrt{5} \\left[\n",
       " 2 \\tr X^3 Y^2 \\tr Y \n",
       " + 2 \\tr X^2 Y X Y \\tr Y \n",
       " - 2 \\tr X \\tr X^2 Y^3 \n",
       " - 2 \\tr X \\tr X Y X Y^2 \n",
       " - 4 \\tr X^3 Y \\tr Y^2 \n",
       " + 4 \\tr X^2 \\tr X Y^3 \n",
       " + 2 \\tr X^3 Y \\left( \\tr Y \\right)^2 \n",
       " - 2 \\tr X^2 Y \\tr X Y \\tr Y \n",
       " - 5 \\tr X^2 \\tr X Y^2 \\tr Y \n",
       " + \\tr X^2 \\tr X Y \\left( \\tr Y \\right)^2 \n",
       " - 2 \\left( \\tr X \\right)^2 \\tr X Y^3 \n",
       " + 2 \\tr X \\tr X Y \\tr X Y^2 \n",
       " + 5 \\tr X \\tr X^2 Y \\tr Y^2 \n",
       " - \\left( \\tr X \\right)^2 \\tr X Y \\tr Y^2 \n",
       " + \\tr X^3 \\tr Y \\tr Y^2 \n",
       " - \\tr X \\tr X^2 \\tr Y^3 \n",
       " - \\tr X^3 \\left( \\tr Y \\right)^3 \n",
       " - 3 \\tr X \\tr X^2 Y \\left( \\tr Y \\right)^2 \n",
       " + 3 \\left( \\tr X \\right)^2 \\tr X Y^2 \\tr Y \n",
       " + \\left( \\tr X \\right)^3 \\tr Y^3 \n",
       " + \\tr X \\tr X^2 \\left( \\tr Y \\right)^3 \n",
       " - \\left( \\tr X \\right)^3 \\tr Y \\tr Y^2 \n",
       "\\right] \\\\\n",
       " O_{\n",
       " \\fontsize{6pt}{0} \\begin{ytableau}\n",
       " 1 & 1 & 1 & 2 & 2 \\\\ 2 \n",
       "\\end{ytableau} \\fontsize{12pt}{0} ,\n",
       "[3, 1, 1, 1] ,\n",
       "1 } & =\n",
       " \\frac{1}{72} \\, \\sqrt{3} \\sqrt{2} \\left[\n",
       " 6 \\tr X^3 Y^2 \\tr Y \n",
       " + 6 \\tr X^2 Y X Y \\tr Y \n",
       " - 6 \\tr X \\tr X^2 Y^3 \n",
       " - 6 \\tr X \\tr X Y X Y^2 \n",
       " + 6 \\tr X^3 Y \\tr Y^2 \n",
       " - 6 \\tr X^2 \\tr X Y^3 \n",
       " - 6 \\tr X^2 Y \\tr X Y \\tr Y \n",
       " - 3 \\tr X^3 \\tr Y \\tr Y^2 \n",
       " - 3 \\tr X \\tr X^2 Y \\tr Y^2 \n",
       " - \\tr X^3 \\left( \\tr Y \\right)^3 \n",
       " - 3 \\tr X \\tr X^2 Y \\left( \\tr Y \\right)^2 \n",
       " + 3 \\tr X^2 \\tr X Y^2 \\tr Y \n",
       " + 6 \\tr X \\tr X Y \\tr X Y^2 \n",
       " + 3 \\tr X \\tr X^2 \\tr Y^3 \n",
       " + 3 \\left( \\tr X \\right)^2 \\tr X Y^2 \\tr Y \n",
       " + \\left( \\tr X \\right)^3 \\tr Y^3 \n",
       " - 3 \\tr X^2 \\tr X Y \\left( \\tr Y \\right)^2 \n",
       " + 3 \\left( \\tr X \\right)^2 \\tr X Y \\tr Y^2 \n",
       " + 3 \\tr X \\tr X^2 \\left( \\tr Y \\right)^3 \n",
       " - 3 \\left( \\tr X \\right)^3 \\tr Y \\tr Y^2 \n",
       "\\right] \\\\\n",
       " O_{\n",
       " \\fontsize{6pt}{0} \\begin{ytableau}\n",
       " 1 & 1 & 1 & 2 & 2 \\\\ 2 \n",
       "\\end{ytableau} \\fontsize{12pt}{0} ,\n",
       "[3, 2, 1] ,\n",
       "1 } & =\n",
       " \\frac{1}{1770} \\, \\sqrt{59} \\sqrt{5} \\left[\n",
       " - 9 \\tr X^3 Y^2 \\tr Y \n",
       " - 9 \\tr X^2 Y X Y \\tr Y \n",
       " + 18 \\tr X^3 Y \\tr Y^2 \n",
       " - 18 \\tr X^2 \\tr X Y^3 \n",
       " + 24 \\tr X^2 Y \\tr X Y \\tr Y \n",
       " + 8 \\tr X^3 \\tr Y \\tr Y^2 \n",
       " + 9 \\tr X \\tr X^2 Y^3 \n",
       " + 9 \\tr X \\tr X Y X Y^2 \n",
       " - 24 \\tr X \\tr X Y \\tr X Y^2 \n",
       " - 8 \\tr X \\tr X^2 \\tr Y^3 \n",
       " - 24 \\tr X^3 Y \\left( \\tr Y \\right)^2 \n",
       " + 24 \\left( \\tr X \\right)^2 \\tr X Y^3 \n",
       " - 3 \\tr X^3 \\left( \\tr Y \\right)^3 \n",
       " - 9 \\tr X \\tr X^2 Y \\left( \\tr Y \\right)^2 \n",
       " + 18 \\tr X^2 \\tr X Y \\left( \\tr Y \\right)^2 \n",
       " + 9 \\left( \\tr X \\right)^2 \\tr X Y^2 \\tr Y \n",
       " + 3 \\left( \\tr X \\right)^3 \\tr Y^3 \n",
       " - 18 \\left( \\tr X \\right)^2 \\tr X Y \\tr Y^2 \n",
       " + 8 \\tr X \\tr X^2 \\left( \\tr Y \\right)^3 \n",
       " - 8 \\left( \\tr X \\right)^3 \\tr Y \\tr Y^2 \n",
       " \\right] \\\\\n",
       " O_{\n",
       " \\fontsize{6pt}{0} \\begin{ytableau}\n",
       " 1 & 1 & 1 & 2 & 2 \\\\ 2 \n",
       "\\end{ytableau} \\fontsize{12pt}{0} ,\n",
       "[3, 2, 1] ,\n",
       "2 } & =\n",
       " \\frac{1}{5310} \\, \\sqrt{59} \\sqrt{5} \\sqrt{3} \\sqrt{2} \\left[\n",
       " 12 \\tr X^3 Y^2 \\tr Y \n",
       " + 12 \\tr X^2 Y X Y \\tr Y \n",
       " - 12 \\tr X \\tr X^2 Y^3 \n",
       " - 12 \\tr X \\tr X Y X Y^2 \n",
       " - 24 \\tr X^3 Y \\tr Y^2 \n",
       " + 27 \\tr X^2 Y \\tr X Y \\tr Y \n",
       " + 9 \\tr X^3 \\tr Y \\tr Y^2 \n",
       " - 27 \\tr X \\tr X Y \\tr X Y^2 \n",
       " + 24 \\tr X^2 \\tr X Y^3 \n",
       " - 9 \\tr X \\tr X^2 \\tr Y^3 \n",
       " - 27 \\tr X^3 Y \\left( \\tr Y \\right)^2 \n",
       " + 27 \\left( \\tr X \\right)^2 \\tr X Y^3 \n",
       " + 4 \\tr X^3 \\left( \\tr Y \\right)^3 \n",
       " + 12 \\tr X \\tr X^2 Y \\left( \\tr Y \\right)^2 \n",
       " - 24 \\tr X^2 \\tr X Y \\left( \\tr Y \\right)^2 \n",
       " - 12 \\left( \\tr X \\right)^2 \\tr X Y^2 \\tr Y \n",
       " - 4 \\left( \\tr X \\right)^3 \\tr Y^3 \n",
       " + 24 \\left( \\tr X \\right)^2 \\tr X Y \\tr Y^2 \n",
       " + 9 \\tr X \\tr X^2 \\left( \\tr Y \\right)^3 \n",
       " - 9 \\left( \\tr X \\right)^3 \\tr Y \\tr Y^2 \n",
       "\\right] \\\\\n",
       " O_{\n",
       " \\fontsize{6pt}{0} \\begin{ytableau}\n",
       " 1 & 1 & 1 & 2 & 2 \\\\ 2 \n",
       "\\end{ytableau} \\fontsize{12pt}{0} ,\n",
       "[4, 1, 1] ,\n",
       "1 } & =\n",
       " \\frac{1}{72} \\, \\sqrt{3} \\sqrt{2} \\left[\n",
       " - 6 \\tr X^3 Y^2 \\tr Y \n",
       " - 6 \\tr X^2 Y X Y \\tr Y \n",
       " + 6 \\tr X \\tr X^2 Y^3 \n",
       " + 6 \\tr X \\tr X Y X Y^2 \n",
       " - 6 \\tr X^3 Y \\tr Y^2 \n",
       " + 6 \\tr X^2 \\tr X Y^3 \n",
       " - 6 \\tr X^2 Y \\tr X Y \\tr Y \n",
       " - 3 \\tr X^3 \\tr Y \\tr Y^2 \n",
       " + 6 \\tr X \\tr X Y \\tr X Y^2 \n",
       " + 3 \\tr X \\tr X^2 \\tr Y^3 \n",
       " + \\tr X^3 \\left( \\tr Y \\right)^3 \n",
       " + 3 \\tr X \\tr X^2 Y \\left( \\tr Y \\right)^2 \n",
       " + 3 \\tr X^2 \\tr X Y \\left( \\tr Y \\right)^2 \n",
       " - 3 \\left( \\tr X \\right)^2 \\tr X Y^2 \\tr Y \n",
       " - \\left( \\tr X \\right)^3 \\tr Y^3 \n",
       " - 3 \\left( \\tr X \\right)^2 \\tr X Y \\tr Y^2 \n",
       " + 3 \\tr X \\tr X^2 \\left( \\tr Y \\right)^3 \n",
       " - 3 \\left( \\tr X \\right)^3 \\tr Y \\tr Y^2 \n",
       " - 3 \\tr X \\tr X^2 Y \\tr Y^2 \n",
       " + 3 \\tr X^2 \\tr X Y^2 \\tr Y \n",
       " \\right] \\\\\n",
       " O_{\n",
       " \\fontsize{6pt}{0} \\begin{ytableau}\n",
       " 1 & 1 & 1 & 2 & 2 \\\\ 2 \n",
       "\\end{ytableau} \\fontsize{12pt}{0} ,\n",
       "[4, 2] ,\n",
       "1 } & =\n",
       " \\frac{1}{40} \\, \\sqrt{5} \\left[\n",
       " 4 \\tr X^3 Y \\tr Y^2 \n",
       " - 4 \\tr X^2 \\tr X Y^3 \n",
       " - 2 \\tr X^3 Y^2 \\tr Y \n",
       " - 2 \\tr X^2 Y X Y \\tr Y \n",
       " + 2 \\tr X \\tr X^2 Y^3 \n",
       " + 2 \\tr X \\tr X Y X Y^2 \n",
       " + 2 \\tr X^3 Y \\left( \\tr Y \\right)^2 \n",
       " - 2 \\tr X^2 Y \\tr X Y \\tr Y \n",
       " - 5 \\tr X^2 \\tr X Y^2 \\tr Y \n",
       " - \\tr X^2 \\tr X Y \\left( \\tr Y \\right)^2 \n",
       " - 2 \\left( \\tr X \\right)^2 \\tr X Y^3 \n",
       " + 2 \\tr X \\tr X Y \\tr X Y^2 \n",
       " + 5 \\tr X \\tr X^2 Y \\tr Y^2 \n",
       " + \\left( \\tr X \\right)^2 \\tr X Y \\tr Y^2 \n",
       " + \\tr X^3 \\tr Y \\tr Y^2 \n",
       " - \\tr X \\tr X^2 \\tr Y^3 \n",
       " + \\tr X^3 \\left( \\tr Y \\right)^3 \n",
       " + 3 \\tr X \\tr X^2 Y \\left( \\tr Y \\right)^2 \n",
       " - 3 \\left( \\tr X \\right)^2 \\tr X Y^2 \\tr Y \n",
       " - \\left( \\tr X \\right)^3 \\tr Y^3 \n",
       " + \\tr X \\tr X^2 \\left( \\tr Y \\right)^3 \n",
       " - \\left( \\tr X \\right)^3 \\tr Y \\tr Y^2 \n",
       "\\right] \\\\\n",
       " O_{\n",
       " \\fontsize{6pt}{0} \\begin{ytableau}\n",
       " 1 & 1 & 1 & 2 & 2 \\\\ 2 \n",
       "\\end{ytableau} \\fontsize{12pt}{0} ,\n",
       "[5, 1] ,\n",
       "1 } & =\n",
       " \\frac{1}{24} \\left[\n",
       " 6 \\tr X^3 Y^2 \\tr Y \n",
       " + 6 \\tr X^2 Y X Y \\tr Y \n",
       " - 6 \\tr X \\tr X^2 Y^3 \n",
       " - 6 \\tr X \\tr X Y X Y^2 \n",
       " + 6 \\tr X^3 Y \\left( \\tr Y \\right)^2 \n",
       " + 6 \\tr X^2 Y \\tr X Y \\tr Y \n",
       " + \\tr X^3 \\tr Y \\tr Y^2 \n",
       " + 3 \\tr X^2 \\tr X Y^2 \\tr Y \n",
       " - 6 \\left( \\tr X \\right)^2 \\tr X Y^3 \n",
       " - 6 \\tr X \\tr X Y \\tr X Y^2 \n",
       " - 3 \\tr X \\tr X^2 Y \\tr Y^2 \n",
       " - \\tr X \\tr X^2 \\tr Y^3 \n",
       " + \\tr X^3 \\left( \\tr Y \\right)^3 \n",
       " + 3 \\tr X \\tr X^2 Y \\left( \\tr Y \\right)^2 \n",
       " + 3 \\tr X^2 \\tr X Y \\left( \\tr Y \\right)^2 \n",
       " - 3 \\left( \\tr X \\right)^2 \\tr X Y^2 \\tr Y \n",
       " - \\left( \\tr X \\right)^3 \\tr Y^3 \n",
       " - 3 \\left( \\tr X \\right)^2 \\tr X Y \\tr Y^2 \n",
       " + \\tr X \\tr X^2 \\left( \\tr Y \\right)^3 \n",
       " - \\left( \\tr X \\right)^3 \\tr Y \\tr Y^2 \n",
       "\\right] \\\\\n",
       " O_{\n",
       " \\fontsize{6pt}{0} \\begin{ytableau}\n",
       " 1 & 1 & 1 & 2 \\\\ 2 & 2 \n",
       "\\end{ytableau} \\fontsize{12pt}{0} ,\n",
       "[2, 1, 1, 1, 1] ,\n",
       "1 } & =\n",
       " \\frac{1}{780} \\, \\sqrt{13} \\sqrt{3} \\left[\n",
       " - 24 \\tr X^3 Y \\tr Y^2 \n",
       " + 32 \\tr X^2 Y^2 \\tr X Y \n",
       " + 16 \\tr X Y \\tr \\left( X Y \\right)^2 \n",
       " + 12 \\tr X^2 Y \\tr X Y^2 \n",
       " - 12 \\tr X^3 \\tr Y^3 \n",
       " - 24 \\tr X^2 \\tr X Y^3 \n",
       " + 6 \\tr X^3 Y \\left( \\tr Y \\right)^2 \n",
       " - 8 \\tr X \\tr X^2 Y^2 \\tr Y \n",
       " - 4 \\tr X \\tr \\left( X Y \\right)^2 \\tr Y \n",
       " + 15 \\tr X^3 \\tr Y \\tr Y^2 \n",
       " + 15 \\tr X \\tr X^2 Y \\tr Y^2 \n",
       " + 12 \\tr X^2 \\tr X Y \\tr Y^2 \n",
       " + 6 \\left( \\tr X \\right)^2 \\tr X Y^3 \n",
       " - 30 \\tr X^2 Y \\tr X Y \\tr Y \n",
       " - 30 \\tr X \\tr X Y \\tr X Y^2 \n",
       " - 12 \\left( \\tr X Y \\right)^3 \n",
       " - 3 \\tr X^3 \\left( \\tr Y \\right)^3 \n",
       " + 3 \\tr X \\tr X^2 Y \\left( \\tr Y \\right)^2 \n",
       " - 3 \\tr X^2 \\tr X Y \\left( \\tr Y \\right)^2 \n",
       " + 3 \\left( \\tr X \\right)^2 \\tr X Y^2 \\tr Y \n",
       " + 24 \\tr X \\left( \\tr X Y \\right)^2 \\tr Y \n",
       " - 18 \\tr X \\tr X^2 \\tr Y \\tr Y^2 \n",
       " - 3 \\left( \\tr X \\right)^2 \\tr X Y \\tr Y^2 \n",
       " + 3 \\tr X \\tr X^2 \\left( \\tr Y \\right)^3 \n",
       " - 6 \\left( \\tr X \\right)^2 \\tr X Y \\left( \\tr Y \\right)^2 \n",
       " - 3 \\left( \\tr X \\right)^3 \\tr Y^3 \n",
       " + 3 \\left( \\tr X \\right)^3 \\tr Y \\tr Y^2 \n",
       " + 15 \\tr X^2 \\tr X Y^2 \\tr Y \n",
       " + 15 \\tr X \\tr X^2 \\tr Y^3 \n",
       " \\right] \\\\\n",
       " O_{\n",
       " \\fontsize{6pt}{0} \\begin{ytableau}\n",
       " 1 & 1 & 1 & 2 \\\\ 2 & 2 \n",
       "\\end{ytableau} \\fontsize{12pt}{0} ,\n",
       "[2, 2, 1, 1] ,\n",
       "1 } & =\n",
       " \\frac{\\sqrt{5} \\sqrt{3}}{\\sqrt{800865 \\, N^{10} + 9437886 \\, N^{9} + 33467643 \\, N^{8} + 1138860 \\, N^{7} - 193105977 \\, N^{6} - 156416250 \\, N^{5} + 488065701 \\, N^{4} + 408583176 \\, N^{3} - 592865468 \\, N^{2} - 180615072 \\, N + 461571136}} \\left[\n",
       " \\left( \\frac{591}{20} \\, N^{5} + \\frac{669}{4} \\, N^{4} + \\frac{1563}{20} \\, N^{3} - \\frac{10083}{20} \\, N^{2} + \\frac{864}{5} \\, N + \\frac{5032}{5} \\right) \\tr X^3 Y \\tr Y^2 \n",
       " + \\left( -\\frac{197}{5} \\, N^{5} - 223 \\, N^{4} - \\frac{521}{5} \\, N^{3} + \\frac{3361}{5} \\, N^{2} - \\frac{1152}{5} \\, N - \\frac{20128}{15} \\right) \\tr X^2 Y^2 \\tr X Y \n",
       " + \\left( \\frac{591}{20} \\, N^{5} + \\frac{669}{4} \\, N^{4} + \\frac{1563}{20} \\, N^{3} - \\frac{10083}{20} \\, N^{2} + \\frac{864}{5} \\, N + \\frac{5032}{5} \\right) \\tr X^2 \\tr X Y^3 \n",
       " + \\left( -\\frac{197}{10} \\, N^{5} - \\frac{223}{2} \\, N^{4} - \\frac{521}{10} \\, N^{3} + \\frac{3361}{10} \\, N^{2} - \\frac{576}{5} \\, N - \\frac{10064}{15} \\right) \\tr X Y \\tr \\left( X Y \\right)^2 \n",
       " + \\left( \\frac{291}{10} \\, N^{5} + \\frac{1749}{10} \\, N^{4} + \\frac{231}{2} \\, N^{3} - \\frac{1263}{2} \\, N^{2} - \\frac{2178}{5} \\, N + \\frac{2488}{5} \\right) \\tr X^2 Y \\tr X Y^2 \n",
       " + \\left( -\\frac{489}{20} \\, N^{5} - \\frac{2847}{20} \\, N^{4} - \\frac{1593}{20} \\, N^{3} + \\frac{9393}{20} \\, N^{2} + \\frac{463}{5} \\, N - \\frac{3204}{5} \\right) \\tr X^3 Y \\left( \\tr Y \\right)^2 \n",
       " + \\left( -\\frac{9}{2} \\, N^{5} - \\frac{351}{10} \\, N^{4} - \\frac{483}{10} \\, N^{3} + \\frac{2043}{10} \\, N^{2} + \\frac{2729}{5} \\, N + \\frac{1564}{5} \\right) \\tr X^2 Y \\tr X Y \\tr Y \n",
       " + \\left( -27 \\, N^{5} - \\frac{774}{5} \\, N^{4} - \\frac{789}{10} \\, N^{3} + \\frac{4869}{10} \\, N^{2} - \\frac{401}{10} \\, N - \\frac{4118}{5} \\right) \\tr X^2 \\tr X Y^2 \\tr Y \n",
       " + \\left( -\\frac{147}{5} \\, N^{5} - \\frac{849}{5} \\, N^{4} - \\frac{453}{5} \\, N^{3} + \\frac{2733}{5} \\, N^{2} + 30 \\, N - \\frac{4184}{5} \\right) \\tr X^2 \\tr X Y \\tr Y^2 \n",
       " + \\left( \\frac{537}{20} \\, N^{5} + \\frac{3147}{20} \\, N^{4} + \\frac{1827}{20} \\, N^{3} - \\frac{10587}{20} \\, N^{2} - \\frac{1627}{10} \\, N + 654 \\right) \\tr X^2 \\tr X Y \\left( \\tr Y \\right)^2 \n",
       " + \\left( -\\frac{291}{10} \\, N^{5} - \\frac{1749}{10} \\, N^{4} - \\frac{231}{2} \\, N^{3} + \\frac{1263}{2} \\, N^{2} + \\frac{2178}{5} \\, N - \\frac{2488}{5} \\right) \\tr X^3 \\tr Y^3 \n",
       " + \\left( \\frac{163}{5} \\, N^{5} + \\frac{949}{5} \\, N^{4} + \\frac{531}{5} \\, N^{3} - \\frac{3131}{5} \\, N^{2} - \\frac{1852}{15} \\, N + \\frac{4272}{5} \\right) \\tr X \\tr X^2 Y^2 \\tr Y \n",
       " + \\left( \\frac{163}{10} \\, N^{5} + \\frac{949}{10} \\, N^{4} + \\frac{531}{10} \\, N^{3} - \\frac{3131}{10} \\, N^{2} - \\frac{926}{15} \\, N + \\frac{2136}{5} \\right) \\tr X \\tr \\left( X Y \\right)^2 \\tr Y \n",
       " + \\left( -\\frac{489}{20} \\, N^{5} - \\frac{2847}{20} \\, N^{4} - \\frac{1593}{20} \\, N^{3} + \\frac{9393}{20} \\, N^{2} + \\frac{463}{5} \\, N - \\frac{3204}{5} \\right) \\left( \\tr X \\right)^2 \\tr X Y^3 \n",
       " + \\left( \\frac{63}{2} \\, N^{5} + \\frac{1899}{10} \\, N^{4} + \\frac{636}{5} \\, N^{3} - \\frac{3456}{5} \\, N^{2} - \\frac{5057}{10} \\, N + \\frac{2554}{5} \\right) \\tr X^3 \\tr Y \\tr Y^2 \n",
       " + \\left( -\\frac{9}{2} \\, N^{5} - \\frac{351}{10} \\, N^{4} - \\frac{483}{10} \\, N^{3} + \\frac{2043}{10} \\, N^{2} + \\frac{2729}{5} \\, N + \\frac{1564}{5} \\right) \\tr X \\tr X Y \\tr X Y^2 \n",
       " + \\left( -27 \\, N^{5} - \\frac{774}{5} \\, N^{4} - \\frac{789}{10} \\, N^{3} + \\frac{4869}{10} \\, N^{2} - \\frac{401}{10} \\, N - \\frac{4118}{5} \\right) \\tr X \\tr X^2 Y \\tr Y^2 \n",
       " + \\left( \\frac{63}{2} \\, N^{5} + \\frac{1899}{10} \\, N^{4} + \\frac{636}{5} \\, N^{3} - \\frac{3456}{5} \\, N^{2} - \\frac{5057}{10} \\, N + \\frac{2554}{5} \\right) \\tr X \\tr X^2 \\tr Y^3 \n",
       " + \\left( \\frac{147}{5} \\, N^{5} + \\frac{849}{5} \\, N^{4} + \\frac{453}{5} \\, N^{3} - \\frac{2733}{5} \\, N^{2} - 30 \\, N + \\frac{4184}{5} \\right) \\left( \\tr X Y \\right)^3 \n",
       " + \\left( -\\frac{99}{5} \\, N^{5} - \\frac{549}{5} \\, N^{4} - \\frac{219}{5} \\, N^{3} + \\frac{1539}{5} \\, N^{2} - \\frac{1252}{5} \\, N - 784 \\right) \\tr X \\left( \\tr X Y \\right)^2 \\tr Y \n",
       " + \\left( -\\frac{339}{10} \\, N^{5} - \\frac{2049}{10} \\, N^{4} - \\frac{1389}{10} \\, N^{3} + \\frac{7509}{10} \\, N^{2} + \\frac{2879}{5} \\, N - 524 \\right) \\tr X \\tr X^2 \\tr Y \\tr Y^2 \n",
       " + \\left( \\frac{537}{20} \\, N^{5} + \\frac{3147}{20} \\, N^{4} + \\frac{1827}{20} \\, N^{3} - \\frac{10587}{20} \\, N^{2} - \\frac{1627}{10} \\, N + 654 \\right) \\left( \\tr X \\right)^2 \\tr X Y \\tr Y^2 \n",
       " + \\left( -\\frac{12}{5} \\, N^{5} - 15 \\, N^{4} - \\frac{117}{10} \\, N^{3} + \\frac{597}{10} \\, N^{2} + \\frac{701}{10} \\, N - \\frac{66}{5} \\right) \\tr X^3 \\left( \\tr Y \\right)^3 \n",
       " + \\left( \\frac{12}{5} \\, N^{5} + 15 \\, N^{4} + \\frac{117}{10} \\, N^{3} - \\frac{597}{10} \\, N^{2} - \\frac{701}{10} \\, N + \\frac{66}{5} \\right) \\tr X \\tr X^2 Y \\left( \\tr Y \\right)^2 \n",
       " + \\left( \\frac{12}{5} \\, N^{5} + 15 \\, N^{4} + \\frac{117}{10} \\, N^{3} - \\frac{597}{10} \\, N^{2} - \\frac{701}{10} \\, N + \\frac{66}{5} \\right) \\left( \\tr X \\right)^2 \\tr X Y^2 \\tr Y \n",
       " + \\left( \\frac{12}{5} \\, N^{5} + 15 \\, N^{4} + \\frac{117}{10} \\, N^{3} - \\frac{597}{10} \\, N^{2} - \\frac{701}{10} \\, N + \\frac{66}{5} \\right) \\tr X \\tr X^2 \\left( \\tr Y \\right)^3 \n",
       " + \\left( -\\frac{24}{5} \\, N^{5} - 30 \\, N^{4} - \\frac{117}{5} \\, N^{3} + \\frac{597}{5} \\, N^{2} + \\frac{701}{5} \\, N - \\frac{132}{5} \\right) \\left( \\tr X \\right)^2 \\tr X Y \\left( \\tr Y \\right)^2 \n",
       " + \\left( -\\frac{12}{5} \\, N^{5} - 15 \\, N^{4} - \\frac{117}{10} \\, N^{3} + \\frac{597}{10} \\, N^{2} + \\frac{701}{10} \\, N - \\frac{66}{5} \\right) \\left( \\tr X \\right)^3 \\tr Y^3 \n",
       " + \\left( \\frac{12}{5} \\, N^{5} + 15 \\, N^{4} + \\frac{117}{10} \\, N^{3} - \\frac{597}{10} \\, N^{2} - \\frac{701}{10} \\, N + \\frac{66}{5} \\right) \\left( \\tr X \\right)^3 \\tr Y \\tr Y^2 \n",
       "\\right] \\\\\n",
       " O_{\n",
       " \\fontsize{6pt}{0} \\begin{ytableau}\n",
       " 1 & 1 & 1 & 2 \\\\ 2 & 2 \n",
       "\\end{ytableau} \\fontsize{12pt}{0} ,\n",
       "[2, 2, 1, 1] ,\n",
       "2 } & =\n",
       " \\frac{\\sqrt{5} \\sqrt{3} \\sqrt{2}}{\\sqrt{16485498 \\, N^{16} + 372109842 \\, N^{15} + 3526424811 \\, N^{14} + 17527841316 \\, N^{13} + 43212010068 \\, N^{12} + 10987199964 \\, N^{11} - 223037932098 \\, N^{10} - 473937551400 \\, N^{9} + 181148217882 \\, N^{8} + 1913807035986 \\, N^{7} + 1779582859871 \\, N^{6} - 2651191051036 \\, N^{5} - 6039661300304 \\, N^{4} - 1600350184096 \\, N^{3} + 5269426399088 \\, N^{2} + 5422530719424 \\, N + 1625646965184}} \\left[\n",
       " \\left( \\frac{2151}{20} \\, N^{8} + \\frac{6783}{5} \\, N^{7} + \\frac{28089}{5} \\, N^{6} + \\frac{24147}{5} \\, N^{5} - \\frac{92625}{4} \\, N^{4} - \\frac{245136}{5} \\, N^{3} + \\frac{26591}{2} \\, N^{2} + \\frac{474856}{5} \\, N + \\frac{283152}{5} \\right) \\tr X^3 Y \\tr Y^2 \n",
       " + \\left( -\\frac{1}{10} \\, {\\left(567 \\, N^{6} + 3966 \\, N^{5} + 2778 \\, N^{4} - 25230 \\, N^{3} - 31149 \\, N^{2} + 38064 \\, N + 46004\\right)} {\\left(N + 3\\right)} {\\left(N + 2\\right)} \\right) \\tr X^2 Y \\tr X Y^2 \n",
       " + \\left( \\frac{1}{10} \\, {\\left(567 \\, N^{6} + 3966 \\, N^{5} + 2778 \\, N^{4} - 25230 \\, N^{3} - 31149 \\, N^{2} + 38064 \\, N + 46004\\right)} {\\left(N + 3\\right)} {\\left(N + 2\\right)} \\right) \\tr X^3 \\tr Y^3 \n",
       " + \\left( -\\frac{717}{5} \\, N^{8} - \\frac{9044}{5} \\, N^{7} - \\frac{37452}{5} \\, N^{6} - \\frac{32196}{5} \\, N^{5} + 30875 \\, N^{4} + \\frac{326848}{5} \\, N^{3} - \\frac{53182}{3} \\, N^{2} - \\frac{1899424}{15} \\, N - \\frac{377536}{5} \\right) \\tr X^2 Y^2 \\tr X Y \n",
       " + \\left( \\frac{2151}{20} \\, N^{8} + \\frac{6783}{5} \\, N^{7} + \\frac{28089}{5} \\, N^{6} + \\frac{24147}{5} \\, N^{5} - \\frac{92625}{4} \\, N^{4} - \\frac{245136}{5} \\, N^{3} + \\frac{26591}{2} \\, N^{2} + \\frac{474856}{5} \\, N + \\frac{283152}{5} \\right) \\tr X^2 \\tr X Y^3 \n",
       " + \\left( -\\frac{717}{10} \\, N^{8} - \\frac{4522}{5} \\, N^{7} - \\frac{18726}{5} \\, N^{6} - \\frac{16098}{5} \\, N^{5} + \\frac{30875}{2} \\, N^{4} + \\frac{163424}{5} \\, N^{3} - \\frac{26591}{3} \\, N^{2} - \\frac{949712}{15} \\, N - \\frac{188768}{5} \\right) \\tr X Y \\tr \\left( X Y \\right)^2 \n",
       " + \\left( -\\frac{21}{10} \\, N^{8} - \\frac{387}{5} \\, N^{7} - \\frac{3393}{10} \\, N^{6} + \\frac{12201}{10} \\, N^{5} + 10168 \\, N^{4} + \\frac{174441}{10} \\, N^{3} - \\frac{30019}{5} \\, N^{2} - \\frac{188159}{5} \\, N - \\frac{115764}{5} \\right) \\tr X^3 \\tr Y \\tr Y^2 \n",
       " + \\left( \\frac{9}{5} \\, N^{8} - 75 \\, N^{7} - \\frac{1233}{2} \\, N^{6} - \\frac{3387}{10} \\, N^{5} + \\frac{68547}{10} \\, N^{4} + \\frac{142541}{10} \\, N^{3} - \\frac{41384}{5} \\, N^{2} - \\frac{199127}{5} \\, N - \\frac{120516}{5} \\right) \\tr X \\tr X^2 Y \\tr Y^2 \n",
       " + \\left( -\\frac{264}{5} \\, N^{8} - \\frac{6777}{10} \\, N^{7} - \\frac{14391}{5} \\, N^{6} - \\frac{14022}{5} \\, N^{5} + \\frac{53749}{5} \\, N^{4} + \\frac{237161}{10} \\, N^{3} - 7216 \\, N^{2} - 48034 \\, N - \\frac{142764}{5} \\right) \\tr X^2 \\tr X Y \\tr Y^2 \n",
       " + \\left( -\\frac{741}{5} \\, N^{8} - \\frac{8044}{5} \\, N^{7} - \\frac{29232}{5} \\, N^{6} - 5536 \\, N^{5} + \\frac{62979}{5} \\, N^{4} + \\frac{82076}{3} \\, N^{3} + \\frac{65162}{15} \\, N^{2} - \\frac{102136}{5} \\, N - 11232 \\right) \\tr X \\tr X^2 Y^2 \\tr Y \n",
       " + \\left( \\frac{2223}{20} \\, N^{8} + \\frac{6033}{5} \\, N^{7} + \\frac{21924}{5} \\, N^{6} + 4152 \\, N^{5} - \\frac{188937}{20} \\, N^{4} - 20519 \\, N^{3} - \\frac{32581}{10} \\, N^{2} + \\frac{76602}{5} \\, N + 8424 \\right) \\left( \\tr X \\right)^2 \\tr X Y^3 \n",
       " + \\left( -\\frac{741}{10} \\, N^{8} - \\frac{4022}{5} \\, N^{7} - \\frac{14616}{5} \\, N^{6} - 2768 \\, N^{5} + \\frac{62979}{10} \\, N^{4} + \\frac{41038}{3} \\, N^{3} + \\frac{32581}{15} \\, N^{2} - \\frac{51068}{5} \\, N - 5616 \\right) \\tr X \\tr \\left( X Y \\right)^2 \\tr Y \n",
       " + \\left( \\frac{9}{5} \\, N^{8} - 75 \\, N^{7} - \\frac{1233}{2} \\, N^{6} - \\frac{3387}{10} \\, N^{5} + \\frac{68547}{10} \\, N^{4} + \\frac{142541}{10} \\, N^{3} - \\frac{41384}{5} \\, N^{2} - \\frac{199127}{5} \\, N - \\frac{120516}{5} \\right) \\tr X^2 \\tr X Y^2 \\tr Y \n",
       " + \\left( \\frac{3}{10} \\, N^{8} + \\frac{762}{5} \\, N^{7} + \\frac{4779}{5} \\, N^{6} - \\frac{4407}{5} \\, N^{5} - \\frac{170227}{10} \\, N^{4} - \\frac{158491}{5} \\, N^{3} + \\frac{71403}{5} \\, N^{2} + \\frac{387286}{5} \\, N + 47256 \\right) \\tr X \\tr X Y \\tr X Y^2 \n",
       " + \\left( -\\frac{21}{10} \\, N^{8} - \\frac{387}{5} \\, N^{7} - \\frac{3393}{10} \\, N^{6} + \\frac{12201}{10} \\, N^{5} + 10168 \\, N^{4} + \\frac{174441}{10} \\, N^{3} - \\frac{30019}{5} \\, N^{2} - \\frac{188159}{5} \\, N - \\frac{115764}{5} \\right) \\tr X \\tr X^2 \\tr Y^3 \n",
       " + \\left( -\\frac{105}{2} \\, N^{8} - \\frac{5253}{10} \\, N^{7} - \\frac{9612}{5} \\, N^{6} - \\frac{18429}{5} \\, N^{5} - \\frac{62729}{10} \\, N^{4} - \\frac{79821}{10} \\, N^{3} + \\frac{35323}{5} \\, N^{2} + \\frac{147116}{5} \\, N + \\frac{93516}{5} \\right) \\tr X \\tr X^2 \\tr Y \\tr Y^2 \n",
       " + \\left( -\\frac{1131}{20} \\, N^{8} - \\frac{6039}{10} \\, N^{7} - \\frac{21231}{10} \\, N^{6} - \\frac{16863}{10} \\, N^{5} + \\frac{22207}{4} \\, N^{4} + 11057 \\, N^{3} + \\frac{21973}{10} \\, N^{2} - \\frac{35559}{5} \\, N - \\frac{19872}{5} \\right) \\left( \\tr X \\right)^2 \\tr X Y \\tr Y^2 \n",
       " + \\left( \\frac{2223}{20} \\, N^{8} + \\frac{6033}{5} \\, N^{7} + \\frac{21924}{5} \\, N^{6} + 4152 \\, N^{5} - \\frac{188937}{20} \\, N^{4} - 20519 \\, N^{3} - \\frac{32581}{10} \\, N^{2} + \\frac{76602}{5} \\, N + 8424 \\right) \\tr X^3 Y \\left( \\tr Y \\right)^2 \n",
       " + \\left( \\frac{3}{10} \\, N^{8} + \\frac{762}{5} \\, N^{7} + \\frac{4779}{5} \\, N^{6} - \\frac{4407}{5} \\, N^{5} - \\frac{170227}{10} \\, N^{4} - \\frac{158491}{5} \\, N^{3} + \\frac{71403}{5} \\, N^{2} + \\frac{387286}{5} \\, N + 47256 \\right) \\tr X^2 Y \\tr X Y \\tr Y \n",
       " + \\left( \\frac{264}{5} \\, N^{8} + \\frac{6777}{10} \\, N^{7} + \\frac{14391}{5} \\, N^{6} + \\frac{14022}{5} \\, N^{5} - \\frac{53749}{5} \\, N^{4} - \\frac{237161}{10} \\, N^{3} + 7216 \\, N^{2} + 48034 \\, N + \\frac{142764}{5} \\right) \\left( \\tr X Y \\right)^3 \n",
       " + \\left( -\\frac{1131}{20} \\, N^{8} - \\frac{6039}{10} \\, N^{7} - \\frac{21231}{10} \\, N^{6} - \\frac{16863}{10} \\, N^{5} + \\frac{22207}{4} \\, N^{4} + 11057 \\, N^{3} + \\frac{21973}{10} \\, N^{2} - \\frac{35559}{5} \\, N - \\frac{19872}{5} \\right) \\tr X^2 \\tr X Y \\left( \\tr Y \\right)^2 \n",
       " + \\left( \\frac{828}{5} \\, N^{8} + \\frac{17331}{10} \\, N^{7} + \\frac{30843}{5} \\, N^{6} + \\frac{35292}{5} \\, N^{5} - \\frac{24153}{5} \\, N^{4} - \\frac{141319}{10} \\, N^{3} - \\frac{57296}{5} \\, N^{2} - \\frac{75998}{5} \\, N - \\frac{53772}{5} \\right) \\tr X \\left( \\tr X Y \\right)^2 \\tr Y \n",
       " + \\left( -\\frac{273}{5} \\, N^{8} - \\frac{6027}{10} \\, N^{7} - \\frac{22617}{10} \\, N^{6} - \\frac{24657}{10} \\, N^{5} + \\frac{38951}{10} \\, N^{4} + 9462 \\, N^{3} + \\frac{5304}{5} \\, N^{2} - \\frac{41043}{5} \\, N - \\frac{22248}{5} \\right) \\tr X^3 \\left( \\tr Y \\right)^3 \n",
       " + \\left( \\frac{273}{5} \\, N^{8} + \\frac{6027}{10} \\, N^{7} + \\frac{22617}{10} \\, N^{6} + \\frac{24657}{10} \\, N^{5} - \\frac{38951}{10} \\, N^{4} - 9462 \\, N^{3} - \\frac{5304}{5} \\, N^{2} + \\frac{41043}{5} \\, N + \\frac{22248}{5} \\right) \\tr X \\tr X^2 Y \\left( \\tr Y \\right)^2 \n",
       " + \\left( \\frac{273}{5} \\, N^{8} + \\frac{6027}{10} \\, N^{7} + \\frac{22617}{10} \\, N^{6} + \\frac{24657}{10} \\, N^{5} - \\frac{38951}{10} \\, N^{4} - 9462 \\, N^{3} - \\frac{5304}{5} \\, N^{2} + \\frac{41043}{5} \\, N + \\frac{22248}{5} \\right) \\left( \\tr X \\right)^2 \\tr X Y^2 \\tr Y \n",
       " + \\left( \\frac{273}{5} \\, N^{8} + \\frac{6027}{10} \\, N^{7} + \\frac{22617}{10} \\, N^{6} + \\frac{24657}{10} \\, N^{5} - \\frac{38951}{10} \\, N^{4} - 9462 \\, N^{3} - \\frac{5304}{5} \\, N^{2} + \\frac{41043}{5} \\, N + \\frac{22248}{5} \\right) \\tr X \\tr X^2 \\left( \\tr Y \\right)^3 \n",
       " + \\left( -\\frac{546}{5} \\, N^{8} - \\frac{6027}{5} \\, N^{7} - \\frac{22617}{5} \\, N^{6} - \\frac{24657}{5} \\, N^{5} + \\frac{38951}{5} \\, N^{4} + 18924 \\, N^{3} + \\frac{10608}{5} \\, N^{2} - \\frac{82086}{5} \\, N - \\frac{44496}{5} \\right) \\left( \\tr X \\right)^2 \\tr X Y \\left( \\tr Y \\right)^2 \n",
       " + \\left( -\\frac{273}{5} \\, N^{8} - \\frac{6027}{10} \\, N^{7} - \\frac{22617}{10} \\, N^{6} - \\frac{24657}{10} \\, N^{5} + \\frac{38951}{10} \\, N^{4} + 9462 \\, N^{3} + \\frac{5304}{5} \\, N^{2} - \\frac{41043}{5} \\, N - \\frac{22248}{5} \\right) \\left( \\tr X \\right)^3 \\tr Y^3 \n",
       " + \\left( \\frac{273}{5} \\, N^{8} + \\frac{6027}{10} \\, N^{7} + \\frac{22617}{10} \\, N^{6} + \\frac{24657}{10} \\, N^{5} - \\frac{38951}{10} \\, N^{4} - 9462 \\, N^{3} - \\frac{5304}{5} \\, N^{2} + \\frac{41043}{5} \\, N + \\frac{22248}{5} \\right) \\left( \\tr X \\right)^3 \\tr Y \\tr Y^2 \n",
       "\\right] \\\\\n",
       " O_{\n",
       " \\fontsize{6pt}{0} \\begin{ytableau}\n",
       " 1 & 1 & 1 & 2 \\\\ 2 & 2 \n",
       "\\end{ytableau} \\fontsize{12pt}{0} ,\n",
       "[3, 1, 1, 1] ,\n",
       "1 } & =\n",
       " \\frac{\\sqrt{5}}{\\sqrt{186952050 \\, N^{16} + 3536495640 \\, N^{15} + 26705103813 \\, N^{14} + 95492758734 \\, N^{13} + 112478339025 \\, N^{12} - 286047496188 \\, N^{11} - 999101163699 \\, N^{10} - 350495059842 \\, N^{9} + 2235843225645 \\, N^{8} + 2362509269328 \\, N^{7} - 2087017192350 \\, N^{6} - 3902158433952 \\, N^{5} - 392361367460 \\, N^{4} + 1653089248224 \\, N^{3} + 1596254485464 \\, N^{2} + 1758984922656 \\, N + 842703162912}} \\left[\n",
       " \\left( \\frac{513}{2} \\, N^{8} + \\frac{34551}{10} \\, N^{7} + \\frac{66402}{5} \\, N^{6} + \\frac{16767}{5} \\, N^{5} - \\frac{695871}{10} \\, N^{4} - \\frac{899991}{10} \\, N^{3} + \\frac{358203}{5} \\, N^{2} + \\frac{825693}{5} \\, N + \\frac{324558}{5} \\right) \\tr X^3 Y \\tr Y^2 \n",
       " + \\left( -342 \\, N^{8} - \\frac{23034}{5} \\, N^{7} - \\frac{88536}{5} \\, N^{6} - \\frac{22356}{5} \\, N^{5} + \\frac{463914}{5} \\, N^{4} + \\frac{599994}{5} \\, N^{3} - \\frac{477604}{5} \\, N^{2} - \\frac{1100924}{5} \\, N - \\frac{432744}{5} \\right) \\tr X^2 Y^2 \\tr X Y \n",
       " + \\left( -171 \\, N^{8} - \\frac{11517}{5} \\, N^{7} - \\frac{44268}{5} \\, N^{6} - \\frac{11178}{5} \\, N^{5} + \\frac{231957}{5} \\, N^{4} + \\frac{299997}{5} \\, N^{3} - \\frac{238802}{5} \\, N^{2} - \\frac{550462}{5} \\, N - \\frac{216372}{5} \\right) \\tr X Y \\tr \\left( X Y \\right)^2 \n",
       " + \\left( -\\frac{3}{5} \\, {\\left(1485 \\, N^{6} + 10464 \\, N^{5} + 13209 \\, N^{4} - 35562 \\, N^{3} - 58194 \\, N^{2} + 32088 \\, N + 52760\\right)} {\\left(N + 3\\right)} N \\right) \\tr X^2 Y \\tr X Y^2 \n",
       " + \\left( \\frac{3}{5} \\, {\\left(1485 \\, N^{6} + 10464 \\, N^{5} + 13209 \\, N^{4} - 35562 \\, N^{3} - 58194 \\, N^{2} + 32088 \\, N + 52760\\right)} {\\left(N + 3\\right)} N \\right) \\tr X^3 \\tr Y^3 \n",
       " + \\left( -\\frac{2241}{2} \\, N^{8} - \\frac{50391}{5} \\, N^{7} - \\frac{255753}{10} \\, N^{6} + \\frac{58347}{10} \\, N^{5} + \\frac{422964}{5} \\, N^{4} + \\frac{48099}{2} \\, N^{3} - \\frac{488388}{5} \\, N^{2} + 4863 \\, N + \\frac{324558}{5} \\right) \\tr X^3 Y \\left( \\tr Y \\right)^2 \n",
       " + \\left( 1494 \\, N^{8} + \\frac{67188}{5} \\, N^{7} + \\frac{170502}{5} \\, N^{6} - \\frac{38898}{5} \\, N^{5} - \\frac{563952}{5} \\, N^{4} - 32066 \\, N^{3} + \\frac{651184}{5} \\, N^{2} - 6484 \\, N - \\frac{432744}{5} \\right) \\tr X \\tr X^2 Y^2 \\tr Y \n",
       " + \\left( 747 \\, N^{8} + \\frac{33594}{5} \\, N^{7} + \\frac{85251}{5} \\, N^{6} - \\frac{19449}{5} \\, N^{5} - \\frac{281976}{5} \\, N^{4} - 16033 \\, N^{3} + \\frac{325592}{5} \\, N^{2} - 3242 \\, N - \\frac{216372}{5} \\right) \\tr X \\tr \\left( X Y \\right)^2 \\tr Y \n",
       " + \\left( -\\frac{1233}{2} \\, N^{8} - \\frac{53091}{10} \\, N^{7} - \\frac{137799}{10} \\, N^{6} - \\frac{66453}{10} \\, N^{5} + \\frac{30501}{5} \\, N^{4} - \\frac{108477}{5} \\, N^{3} + \\frac{32802}{5} \\, N^{2} + \\frac{599684}{5} \\, N + \\frac{432744}{5} \\right) \\tr X^2 Y \\tr X Y \\tr Y \n",
       " + \\left( -\\frac{801}{4} \\, N^{8} - \\frac{43227}{20} \\, N^{7} - \\frac{130473}{20} \\, N^{6} + \\frac{56289}{20} \\, N^{5} + \\frac{198531}{5} \\, N^{4} + \\frac{189228}{5} \\, N^{3} - \\frac{195048}{5} \\, N^{2} - \\frac{341171}{5} \\, N - \\frac{108186}{5} \\right) \\tr X^3 \\tr Y \\tr Y^2 \n",
       " + \\left( \\frac{3267}{4} \\, N^{8} + \\frac{149409}{20} \\, N^{7} + \\frac{406071}{20} \\, N^{6} + \\frac{76617}{20} \\, N^{5} - \\frac{229032}{5} \\, N^{4} - \\frac{80751}{5} \\, N^{3} + \\frac{162246}{5} \\, N^{2} - \\frac{258513}{5} \\, N - \\frac{324558}{5} \\right) \\tr X \\tr X^2 Y \\tr Y^2 \n",
       " + \\left( \\frac{1251}{4} \\, N^{8} + \\frac{54027}{20} \\, N^{7} + \\frac{125013}{20} \\, N^{6} - \\frac{70533}{20} \\, N^{5} - \\frac{227091}{10} \\, N^{4} - \\frac{5661}{5} \\, N^{3} + \\frac{138337}{5} \\, N^{2} - 7777 \\, N - \\frac{108186}{5} \\right) \\tr X^3 \\left( \\tr Y \\right)^3 \n",
       " + \\left( -\\frac{1251}{4} \\, N^{8} - \\frac{54027}{20} \\, N^{7} - \\frac{125013}{20} \\, N^{6} + \\frac{70533}{20} \\, N^{5} + \\frac{227091}{10} \\, N^{4} + \\frac{5661}{5} \\, N^{3} - \\frac{138337}{5} \\, N^{2} + 7777 \\, N + \\frac{108186}{5} \\right) \\tr X \\tr X^2 Y \\left( \\tr Y \\right)^2 \n",
       " + \\left( \\frac{513}{2} \\, N^{8} + \\frac{34551}{10} \\, N^{7} + \\frac{66402}{5} \\, N^{6} + \\frac{16767}{5} \\, N^{5} - \\frac{695871}{10} \\, N^{4} - \\frac{899991}{10} \\, N^{3} + \\frac{358203}{5} \\, N^{2} + \\frac{825693}{5} \\, N + \\frac{324558}{5} \\right) \\tr X^2 \\tr X Y^3 \n",
       " + \\left( -\\frac{2241}{2} \\, N^{8} - \\frac{50391}{5} \\, N^{7} - \\frac{255753}{10} \\, N^{6} + \\frac{58347}{10} \\, N^{5} + \\frac{422964}{5} \\, N^{4} + \\frac{48099}{2} \\, N^{3} - \\frac{488388}{5} \\, N^{2} + 4863 \\, N + \\frac{324558}{5} \\right) \\left( \\tr X \\right)^2 \\tr X Y^3 \n",
       " + \\left( \\frac{3267}{4} \\, N^{8} + \\frac{149409}{20} \\, N^{7} + \\frac{406071}{20} \\, N^{6} + \\frac{76617}{20} \\, N^{5} - \\frac{229032}{5} \\, N^{4} - \\frac{80751}{5} \\, N^{3} + \\frac{162246}{5} \\, N^{2} - \\frac{258513}{5} \\, N - \\frac{324558}{5} \\right) \\tr X^2 \\tr X Y^2 \\tr Y \n",
       " + \\left( -\\frac{1233}{2} \\, N^{8} - \\frac{53091}{10} \\, N^{7} - \\frac{137799}{10} \\, N^{6} - \\frac{66453}{10} \\, N^{5} + \\frac{30501}{5} \\, N^{4} - \\frac{108477}{5} \\, N^{3} + \\frac{32802}{5} \\, N^{2} + \\frac{599684}{5} \\, N + \\frac{432744}{5} \\right) \\tr X \\tr X Y \\tr X Y^2 \n",
       " + \\left( -\\frac{801}{4} \\, N^{8} - \\frac{43227}{20} \\, N^{7} - \\frac{130473}{20} \\, N^{6} + \\frac{56289}{20} \\, N^{5} + \\frac{198531}{5} \\, N^{4} + \\frac{189228}{5} \\, N^{3} - \\frac{195048}{5} \\, N^{2} - \\frac{341171}{5} \\, N - \\frac{108186}{5} \\right) \\tr X \\tr X^2 \\tr Y^3 \n",
       " + \\left( -\\frac{1251}{4} \\, N^{8} - \\frac{54027}{20} \\, N^{7} - \\frac{125013}{20} \\, N^{6} + \\frac{70533}{20} \\, N^{5} + \\frac{227091}{10} \\, N^{4} + \\frac{5661}{5} \\, N^{3} - \\frac{138337}{5} \\, N^{2} + 7777 \\, N + \\frac{108186}{5} \\right) \\left( \\tr X \\right)^2 \\tr X Y^2 \\tr Y \n",
       " + \\left( \\frac{1251}{4} \\, N^{8} + \\frac{54027}{20} \\, N^{7} + \\frac{125013}{20} \\, N^{6} - \\frac{70533}{20} \\, N^{5} - \\frac{227091}{10} \\, N^{4} - \\frac{5661}{5} \\, N^{3} + \\frac{138337}{5} \\, N^{2} - 7777 \\, N - \\frac{108186}{5} \\right) \\left( \\tr X \\right)^3 \\tr Y^3 \n",
       " + \\left( 126 \\, N^{8} + \\frac{3402}{5} \\, N^{7} + \\frac{333}{5} \\, N^{6} - \\frac{7113}{5} \\, N^{5} + \\frac{67077}{5} \\, N^{4} + \\frac{157503}{5} \\, N^{3} - \\frac{89778}{5} \\, N^{2} - \\frac{392182}{5} \\, N - \\frac{216372}{5} \\right) \\tr X^2 \\tr X Y \\tr Y^2 \n",
       " + \\left( -126 \\, N^{8} - \\frac{3402}{5} \\, N^{7} - \\frac{333}{5} \\, N^{6} + \\frac{7113}{5} \\, N^{5} - \\frac{67077}{5} \\, N^{4} - \\frac{157503}{5} \\, N^{3} + \\frac{89778}{5} \\, N^{2} + \\frac{392182}{5} \\, N + \\frac{216372}{5} \\right) \\left( \\tr X Y \\right)^3 \n",
       " + \\left( 306 \\, N^{8} + \\frac{52623}{20} \\, N^{7} + \\frac{121617}{20} \\, N^{6} - \\frac{63429}{20} \\, N^{5} - \\frac{83673}{4} \\, N^{4} + \\frac{7371}{5} \\, N^{3} + \\frac{309741}{10} \\, N^{2} - \\frac{32822}{5} \\, N - \\frac{108186}{5} \\right) \\tr X^2 \\tr X Y \\left( \\tr Y \\right)^2 \n",
       " + \\left( 882 \\, N^{8} + \\frac{44289}{5} \\, N^{7} + \\frac{140196}{5} \\, N^{6} + \\frac{80688}{5} \\, N^{5} - 59610 \\, N^{4} - \\frac{307683}{5} \\, N^{3} + \\frac{137596}{5} \\, N^{2} - \\frac{47074}{5} \\, N - \\frac{216372}{5} \\right) \\tr X \\left( \\tr X Y \\right)^2 \\tr Y \n",
       " + \\left( -1494 \\, N^{8} - \\frac{141201}{10} \\, N^{7} - \\frac{402009}{10} \\, N^{6} - \\frac{97947}{10} \\, N^{5} + \\frac{202893}{2} \\, N^{4} + \\frac{292941}{5} \\, N^{3} - \\frac{447337}{5} \\, N^{2} + \\frac{112718}{5} \\, N + \\frac{432744}{5} \\right) \\tr X \\tr X^2 \\tr Y \\tr Y^2 \n",
       " + \\left( 306 \\, N^{8} + \\frac{52623}{20} \\, N^{7} + \\frac{121617}{20} \\, N^{6} - \\frac{63429}{20} \\, N^{5} - \\frac{83673}{4} \\, N^{4} + \\frac{7371}{5} \\, N^{3} + \\frac{309741}{10} \\, N^{2} - \\frac{32822}{5} \\, N - \\frac{108186}{5} \\right) \\left( \\tr X \\right)^2 \\tr X Y \\tr Y^2 \n",
       " + \\left( \\frac{1}{20} \\, {\\left(3780 \\, N^{7} + 40887 \\, N^{6} + 139863 \\, N^{5} + 87801 \\, N^{4} - 365127 \\, N^{3} - 465186 \\, N^{2} + 227374 \\, N + 345108\\right)} N \\right) \\tr X \\tr X^2 \\left( \\tr Y \\right)^3 \n",
       " + \\left( -\\frac{1}{10} \\, {\\left(3780 \\, N^{7} + 40887 \\, N^{6} + 139863 \\, N^{5} + 87801 \\, N^{4} - 365127 \\, N^{3} - 465186 \\, N^{2} + 227374 \\, N + 345108\\right)} N \\right) \\left( \\tr X \\right)^2 \\tr X Y \\left( \\tr Y \\right)^2 \n",
       " + \\left( \\frac{1}{20} \\, {\\left(3780 \\, N^{7} + 40887 \\, N^{6} + 139863 \\, N^{5} + 87801 \\, N^{4} - 365127 \\, N^{3} - 465186 \\, N^{2} + 227374 \\, N + 345108\\right)} N \\right) \\left( \\tr X \\right)^3 \\tr Y \\tr Y^2 \n",
       "\\right] \\\\\n",
       " O_{\n",
       " \\fontsize{6pt}{0} \\begin{ytableau}\n",
       " 1 & 1 & 1 & 2 \\\\ 2 & 2 \n",
       "\\end{ytableau} \\fontsize{12pt}{0} ,\n",
       "[2, 2, 2] ,\n",
       "1 } & =\n",
       " \\frac{\\sqrt{5} \\sqrt{2}}{\\sqrt{149226300 \\, N^{16} + 2574045540 \\, N^{15} + 17126314218 \\, N^{14} + 48780132444 \\, N^{13} + 10649800683 \\, N^{12} - 260799105402 \\, N^{11} - 414404753235 \\, N^{10} + 509352006396 \\, N^{9} + 1458046648509 \\, N^{8} - 677071004478 \\, N^{7} - 2841929143455 \\, N^{6} + 1359603561900 \\, N^{5} + 4498710198068 \\, N^{4} - 813280519104 \\, N^{3} - 2891933192736 \\, N^{2} + 800771042304 \\, N + 1167006642048}} \\left[\n",
       " \\left( -\\frac{189}{2} \\, N^{8} - \\frac{10683}{10} \\, N^{7} - \\frac{37647}{10} \\, N^{6} - \\frac{2607}{2} \\, N^{5} + \\frac{99033}{5} \\, N^{4} + \\frac{203493}{5} \\, N^{3} + \\frac{123564}{5} \\, N^{2} + \\frac{55521}{5} \\, N + \\frac{78894}{5} \\right) \\tr X^3 Y \\tr Y^2 \n",
       " + \\left( 126 \\, N^{8} + \\frac{7122}{5} \\, N^{7} + \\frac{25098}{5} \\, N^{6} + 1738 \\, N^{5} - \\frac{132044}{5} \\, N^{4} - \\frac{271324}{5} \\, N^{3} - \\frac{164752}{5} \\, N^{2} - \\frac{74028}{5} \\, N - \\frac{105192}{5} \\right) \\tr X^2 Y^2 \\tr X Y \n",
       " + \\left( -\\frac{189}{2} \\, N^{8} - \\frac{10683}{10} \\, N^{7} - \\frac{37647}{10} \\, N^{6} - \\frac{2607}{2} \\, N^{5} + \\frac{99033}{5} \\, N^{4} + \\frac{203493}{5} \\, N^{3} + \\frac{123564}{5} \\, N^{2} + \\frac{55521}{5} \\, N + \\frac{78894}{5} \\right) \\tr X^2 \\tr X Y^3 \n",
       " + \\left( 63 \\, N^{8} + \\frac{3561}{5} \\, N^{7} + \\frac{12549}{5} \\, N^{6} + 869 \\, N^{5} - \\frac{66022}{5} \\, N^{4} - \\frac{135662}{5} \\, N^{3} - \\frac{82376}{5} \\, N^{2} - \\frac{37014}{5} \\, N - \\frac{52596}{5} \\right) \\tr X Y \\tr \\left( X Y \\right)^2 \n",
       " + \\left( 738 \\, N^{8} + \\frac{33291}{5} \\, N^{7} + \\frac{164913}{10} \\, N^{6} - \\frac{16077}{2} \\, N^{5} - \\frac{681399}{10} \\, N^{4} - \\frac{244209}{10} \\, N^{3} + \\frac{334679}{5} \\, N^{2} - \\frac{112164}{5} \\, N - \\frac{325656}{5} \\right) \\tr X^2 \\tr X Y \\tr Y^2 \n",
       " + \\left( -738 \\, N^{8} - \\frac{33291}{5} \\, N^{7} - \\frac{164913}{10} \\, N^{6} + \\frac{16077}{2} \\, N^{5} + \\frac{681399}{10} \\, N^{4} + \\frac{244209}{10} \\, N^{3} - \\frac{334679}{5} \\, N^{2} + \\frac{112164}{5} \\, N + \\frac{325656}{5} \\right) \\left( \\tr X Y \\right)^3 \n",
       " + \\left( -162 \\, N^{8} - \\frac{17703}{10} \\, N^{7} - \\frac{23901}{5} \\, N^{6} + 6273 \\, N^{5} + \\frac{160668}{5} \\, N^{4} - \\frac{97149}{10} \\, N^{3} - \\frac{388076}{5} \\, N^{2} + \\frac{4266}{5} \\, N + \\frac{170064}{5} \\right) \\tr X^2 Y \\tr X Y^2 \n",
       " + \\left( 162 \\, N^{8} + \\frac{17703}{10} \\, N^{7} + \\frac{23901}{5} \\, N^{6} - 6273 \\, N^{5} - \\frac{160668}{5} \\, N^{4} + \\frac{97149}{10} \\, N^{3} + \\frac{388076}{5} \\, N^{2} - \\frac{4266}{5} \\, N - \\frac{170064}{5} \\right) \\tr X^3 \\tr Y^3 \n",
       " + \\left( -\\frac{351}{2} \\, N^{8} - \\frac{7146}{5} \\, N^{7} - \\frac{15264}{5} \\, N^{6} + 1635 \\, N^{5} + \\frac{82749}{10} \\, N^{4} - \\frac{16848}{5} \\, N^{3} - \\frac{67299}{5} \\, N^{2} - \\frac{11061}{5} \\, N + \\frac{13446}{5} \\right) \\tr X^3 Y \\left( \\tr Y \\right)^2 \n",
       " + \\left( 234 \\, N^{8} + \\frac{9528}{5} \\, N^{7} + \\frac{20352}{5} \\, N^{6} - 2180 \\, N^{5} - \\frac{55166}{5} \\, N^{4} + \\frac{22464}{5} \\, N^{3} + \\frac{89732}{5} \\, N^{2} + \\frac{14748}{5} \\, N - \\frac{17928}{5} \\right) \\tr X \\tr X^2 Y^2 \\tr Y \n",
       " + \\left( 117 \\, N^{8} + \\frac{4764}{5} \\, N^{7} + \\frac{10176}{5} \\, N^{6} - 1090 \\, N^{5} - \\frac{27583}{5} \\, N^{4} + \\frac{11232}{5} \\, N^{3} + \\frac{44866}{5} \\, N^{2} + \\frac{7374}{5} \\, N - \\frac{8964}{5} \\right) \\tr X \\tr \\left( X Y \\right)^2 \\tr Y \n",
       " + \\left( \\frac{99}{4} \\, N^{8} - \\frac{2241}{10} \\, N^{7} - \\frac{7122}{5} \\, N^{6} + 4179 \\, N^{5} + \\frac{434049}{20} \\, N^{4} - \\frac{27294}{5} \\, N^{3} - \\frac{575689}{10} \\, N^{2} + \\frac{36717}{5} \\, N + \\frac{165708}{5} \\right) \\tr X^3 \\tr Y \\tr Y^2 \n",
       " + \\left( -\\frac{3753}{4} \\, N^{8} - \\frac{78633}{10} \\, N^{7} - \\frac{86586}{5} \\, N^{6} + 10317 \\, N^{5} + \\frac{1082037}{20} \\, N^{4} - \\frac{92922}{5} \\, N^{3} - \\frac{856357}{10} \\, N^{2} + \\frac{141471}{5} \\, N + \\frac{319104}{5} \\right) \\tr X \\tr X^2 Y \\tr Y^2 \n",
       " + \\left( -\\frac{351}{2} \\, N^{8} - \\frac{7146}{5} \\, N^{7} - \\frac{15264}{5} \\, N^{6} + 1635 \\, N^{5} + \\frac{82749}{10} \\, N^{4} - \\frac{16848}{5} \\, N^{3} - \\frac{67299}{5} \\, N^{2} - \\frac{11061}{5} \\, N + \\frac{13446}{5} \\right) \\left( \\tr X \\right)^2 \\tr X Y^3 \n",
       " + \\left( \\frac{1827}{2} \\, N^{8} + \\frac{40437}{5} \\, N^{7} + \\frac{93708}{5} \\, N^{6} - 14496 \\, N^{5} - \\frac{758043}{10} \\, N^{4} + \\frac{120216}{5} \\, N^{3} + \\frac{716023}{5} \\, N^{2} - \\frac{178188}{5} \\, N - \\frac{484812}{5} \\right) \\tr X^2 Y \\tr X Y \\tr Y \n",
       " + \\left( \\frac{1827}{2} \\, N^{8} + \\frac{40437}{5} \\, N^{7} + \\frac{93708}{5} \\, N^{6} - 14496 \\, N^{5} - \\frac{758043}{10} \\, N^{4} + \\frac{120216}{5} \\, N^{3} + \\frac{716023}{5} \\, N^{2} - \\frac{178188}{5} \\, N - \\frac{484812}{5} \\right) \\tr X \\tr X Y \\tr X Y^2 \n",
       " + \\left( -\\frac{657}{4} \\, N^{8} - \\frac{6561}{5} \\, N^{7} - \\frac{13749}{5} \\, N^{6} + 1176 \\, N^{5} + \\frac{122373}{20} \\, N^{4} - \\frac{24831}{10} \\, N^{3} - \\frac{68733}{10} \\, N^{2} + \\frac{10329}{5} \\, N + \\frac{22536}{5} \\right) \\tr X^3 \\left( \\tr Y \\right)^3 \n",
       " + \\left( \\frac{657}{4} \\, N^{8} + \\frac{6561}{5} \\, N^{7} + \\frac{13749}{5} \\, N^{6} - 1176 \\, N^{5} - \\frac{122373}{20} \\, N^{4} + \\frac{24831}{10} \\, N^{3} + \\frac{68733}{10} \\, N^{2} - \\frac{10329}{5} \\, N - \\frac{22536}{5} \\right) \\tr X \\tr X^2 Y \\left( \\tr Y \\right)^2 \n",
       " + \\left( \\frac{657}{2} \\, N^{8} + \\frac{13122}{5} \\, N^{7} + \\frac{27498}{5} \\, N^{6} - 2352 \\, N^{5} - \\frac{122373}{10} \\, N^{4} + \\frac{24831}{5} \\, N^{3} + \\frac{68733}{5} \\, N^{2} - \\frac{20658}{5} \\, N - \\frac{45072}{5} \\right) \\tr X^2 \\tr X Y \\left( \\tr Y \\right)^2 \n",
       " + \\left( \\frac{657}{4} \\, N^{8} + \\frac{6561}{5} \\, N^{7} + \\frac{13749}{5} \\, N^{6} - 1176 \\, N^{5} - \\frac{122373}{20} \\, N^{4} + \\frac{24831}{10} \\, N^{3} + \\frac{68733}{10} \\, N^{2} - \\frac{10329}{5} \\, N - \\frac{22536}{5} \\right) \\left( \\tr X \\right)^2 \\tr X Y^2 \\tr Y \n",
       " + \\left( -423 \\, N^{8} - \\frac{36927}{10} \\, N^{7} - \\frac{42309}{5} \\, N^{6} + 5871 \\, N^{5} + \\frac{157167}{5} \\, N^{4} - \\frac{93621}{10} \\, N^{3} - \\frac{259214}{5} \\, N^{2} + \\frac{153264}{5} \\, N + \\frac{269676}{5} \\right) \\tr X \\left( \\tr X Y \\right)^2 \\tr Y \n",
       " + \\left( -234 \\, N^{8} - \\frac{15561}{10} \\, N^{7} - \\frac{12687}{5} \\, N^{6} - 1167 \\, N^{5} - \\frac{34794}{5} \\, N^{4} - \\frac{5703}{10} \\, N^{3} + \\frac{121748}{5} \\, N^{2} - \\frac{111948}{5} \\, N - \\frac{179532}{5} \\right) \\tr X \\tr X^2 \\tr Y \\tr Y^2 \n",
       " + \\left( \\frac{657}{2} \\, N^{8} + \\frac{13122}{5} \\, N^{7} + \\frac{27498}{5} \\, N^{6} - 2352 \\, N^{5} - \\frac{122373}{10} \\, N^{4} + \\frac{24831}{5} \\, N^{3} + \\frac{68733}{5} \\, N^{2} - \\frac{20658}{5} \\, N - \\frac{45072}{5} \\right) \\left( \\tr X \\right)^2 \\tr X Y \\tr Y^2 \n",
       " + \\left( \\frac{351}{2} \\, N^{8} + \\frac{7146}{5} \\, N^{7} + \\frac{15264}{5} \\, N^{6} - 1635 \\, N^{5} - \\frac{82749}{10} \\, N^{4} + \\frac{16848}{5} \\, N^{3} + \\frac{67299}{5} \\, N^{2} + \\frac{11061}{5} \\, N - \\frac{13446}{5} \\right) \\tr X \\tr X^2 \\left( \\tr Y \\right)^3 \n",
       " + \\left( -351 \\, N^{8} - \\frac{14292}{5} \\, N^{7} - \\frac{30528}{5} \\, N^{6} + 3270 \\, N^{5} + \\frac{82749}{5} \\, N^{4} - \\frac{33696}{5} \\, N^{3} - \\frac{134598}{5} \\, N^{2} - \\frac{22122}{5} \\, N + \\frac{26892}{5} \\right) \\left( \\tr X \\right)^2 \\tr X Y \\left( \\tr Y \\right)^2 \n",
       " + \\left( -\\frac{657}{4} \\, N^{8} - \\frac{6561}{5} \\, N^{7} - \\frac{13749}{5} \\, N^{6} + 1176 \\, N^{5} + \\frac{122373}{20} \\, N^{4} - \\frac{24831}{10} \\, N^{3} - \\frac{68733}{10} \\, N^{2} + \\frac{10329}{5} \\, N + \\frac{22536}{5} \\right) \\left( \\tr X \\right)^3 \\tr Y^3 \n",
       " + \\left( \\frac{351}{2} \\, N^{8} + \\frac{7146}{5} \\, N^{7} + \\frac{15264}{5} \\, N^{6} - 1635 \\, N^{5} - \\frac{82749}{10} \\, N^{4} + \\frac{16848}{5} \\, N^{3} + \\frac{67299}{5} \\, N^{2} + \\frac{11061}{5} \\, N - \\frac{13446}{5} \\right) \\left( \\tr X \\right)^3 \\tr Y \\tr Y^2 \n",
       " + \\left( -\\frac{3753}{4} \\, N^{8} - \\frac{78633}{10} \\, N^{7} - \\frac{86586}{5} \\, N^{6} + 10317 \\, N^{5} + \\frac{1082037}{20} \\, N^{4} - \\frac{92922}{5} \\, N^{3} - \\frac{856357}{10} \\, N^{2} + \\frac{141471}{5} \\, N + \\frac{319104}{5} \\right) \\tr X^2 \\tr X Y^2 \\tr Y \n",
       " + \\left( \\frac{99}{4} \\, N^{8} - \\frac{2241}{10} \\, N^{7} - \\frac{7122}{5} \\, N^{6} + 4179 \\, N^{5} + \\frac{434049}{20} \\, N^{4} - \\frac{27294}{5} \\, N^{3} - \\frac{575689}{10} \\, N^{2} + \\frac{36717}{5} \\, N + \\frac{165708}{5} \\right) \\tr X \\tr X^2 \\tr Y^3 \n",
       "\\right] \\\\\n",
       " O_{\n",
       " \\fontsize{6pt}{0} \\begin{ytableau}\n",
       " 1 & 1 & 1 & 2 \\\\ 2 & 2 \n",
       "\\end{ytableau} \\fontsize{12pt}{0} ,\n",
       "[3, 2, 1] ,\n",
       "1 } & =\n",
       " \\frac{\\sqrt{5} \\sqrt{2}}{\\sqrt{130482900 \\, N^{14} + 1831452120 \\, N^{13} + 9038301300 \\, N^{12} + 14044369140 \\, N^{11} - 22264101720 \\, N^{10} - 70177322052 \\, N^{9} + 51506347149 \\, N^{8} + 186537990318 \\, N^{7} - 132332766879 \\, N^{6} - 273729678396 \\, N^{5} + 246250938476 \\, N^{4} + 168270423808 \\, N^{3} - 202902428944 \\, N^{2} - 44073198528 \\, N + 71335153728}} \\left[\n",
       " \\left( -720 \\, N^{7} - \\frac{25152}{5} \\, N^{6} - \\frac{34344}{5} \\, N^{5} + \\frac{64248}{5} \\, N^{4} + \\frac{58904}{5} \\, N^{3} - \\frac{172144}{5} \\, N^{2} + \\frac{10488}{5} \\, N + \\frac{67536}{5} \\right) \\tr X^2 Y^2 \\tr X Y \n",
       " + \\left( -360 \\, N^{7} - \\frac{12576}{5} \\, N^{6} - \\frac{17172}{5} \\, N^{5} + \\frac{32124}{5} \\, N^{4} + \\frac{29452}{5} \\, N^{3} - \\frac{86072}{5} \\, N^{2} + \\frac{5244}{5} \\, N + \\frac{33768}{5} \\right) \\tr X Y \\tr \\left( X Y \\right)^2 \n",
       " + \\left( 540 \\, N^{7} + \\frac{18864}{5} \\, N^{6} + \\frac{25758}{5} \\, N^{5} - \\frac{48186}{5} \\, N^{4} - \\frac{44178}{5} \\, N^{3} + \\frac{129108}{5} \\, N^{2} - \\frac{7866}{5} \\, N - \\frac{50652}{5} \\right) \\tr X^3 Y \\tr Y^2 \n",
       " + \\left( 468 \\, N^{7} + 3168 \\, N^{6} + 4296 \\, N^{5} - \\frac{32016}{5} \\, N^{4} - \\frac{34662}{5} \\, N^{3} + \\frac{56462}{5} \\, N^{2} + 832 \\, N - \\frac{34248}{5} \\right) \\tr X^2 Y \\tr X Y^2 \n",
       " + \\left( -468 \\, N^{7} - 3168 \\, N^{6} - 4296 \\, N^{5} + \\frac{32016}{5} \\, N^{4} + \\frac{34662}{5} \\, N^{3} - \\frac{56462}{5} \\, N^{2} - 832 \\, N + \\frac{34248}{5} \\right) \\tr X^3 \\tr Y^3 \n",
       " + \\left( 387 \\, N^{7} + \\frac{14913}{5} \\, N^{6} + \\frac{25074}{5} \\, N^{5} - \\frac{73413}{10} \\, N^{4} - \\frac{126751}{10} \\, N^{3} + \\frac{102677}{5} \\, N^{2} + \\frac{43402}{5} \\, N - \\frac{89988}{5} \\right) \\tr X^2 Y \\tr X Y \\tr Y \n",
       " + \\left( -27 \\, N^{7} - \\frac{1197}{5} \\, N^{6} - \\frac{1821}{5} \\, N^{5} + \\frac{13407}{10} \\, N^{4} + \\frac{16289}{10} \\, N^{3} - \\frac{23878}{5} \\, N^{2} - \\frac{4448}{5} \\, N + \\frac{16572}{5} \\right) \\tr X^3 \\tr Y \\tr Y^2 \n",
       " + \\left( 540 \\, N^{7} + \\frac{18864}{5} \\, N^{6} + \\frac{25758}{5} \\, N^{5} - \\frac{48186}{5} \\, N^{4} - \\frac{44178}{5} \\, N^{3} + \\frac{129108}{5} \\, N^{2} - \\frac{7866}{5} \\, N - \\frac{50652}{5} \\right) \\tr X^2 \\tr X Y^3 \n",
       " + \\left( -360 \\, N^{7} - \\frac{13716}{5} \\, N^{6} - \\frac{23253}{5} \\, N^{5} + \\frac{30003}{5} \\, N^{4} + \\frac{55231}{5} \\, N^{3} - \\frac{78799}{5} \\, N^{2} - \\frac{38954}{5} \\, N + \\frac{73416}{5} \\right) \\tr X^2 \\tr X Y^2 \\tr Y \n",
       " + \\left( 387 \\, N^{7} + \\frac{14913}{5} \\, N^{6} + \\frac{25074}{5} \\, N^{5} - \\frac{73413}{10} \\, N^{4} - \\frac{126751}{10} \\, N^{3} + \\frac{102677}{5} \\, N^{2} + \\frac{43402}{5} \\, N - \\frac{89988}{5} \\right) \\tr X \\tr X Y \\tr X Y^2 \n",
       " + \\left( -360 \\, N^{7} - \\frac{13716}{5} \\, N^{6} - \\frac{23253}{5} \\, N^{5} + \\frac{30003}{5} \\, N^{4} + \\frac{55231}{5} \\, N^{3} - \\frac{78799}{5} \\, N^{2} - \\frac{38954}{5} \\, N + \\frac{73416}{5} \\right) \\tr X \\tr X^2 Y \\tr Y^2 \n",
       " + \\left( -27 \\, N^{7} - \\frac{1197}{5} \\, N^{6} - \\frac{1821}{5} \\, N^{5} + \\frac{13407}{10} \\, N^{4} + \\frac{16289}{10} \\, N^{3} - \\frac{23878}{5} \\, N^{2} - \\frac{4448}{5} \\, N + \\frac{16572}{5} \\right) \\tr X \\tr X^2 \\tr Y^3 \n",
       " + \\left( -27 \\, N^{7} - \\frac{1197}{5} \\, N^{6} - \\frac{2466}{5} \\, N^{5} + \\frac{6333}{10} \\, N^{4} + \\frac{14331}{10} \\, N^{3} - \\frac{11049}{5} \\, N^{2} - \\frac{3528}{5} \\, N + \\frac{5616}{5} \\right) \\tr X^3 Y \\left( \\tr Y \\right)^2 \n",
       " + \\left( 36 \\, N^{7} + \\frac{1596}{5} \\, N^{6} + \\frac{3288}{5} \\, N^{5} - \\frac{4222}{5} \\, N^{4} - \\frac{9554}{5} \\, N^{3} + \\frac{14732}{5} \\, N^{2} + \\frac{4704}{5} \\, N - \\frac{7488}{5} \\right) \\tr X \\tr X^2 Y^2 \\tr Y \n",
       " + \\left( 18 \\, N^{7} + \\frac{798}{5} \\, N^{6} + \\frac{1644}{5} \\, N^{5} - \\frac{2111}{5} \\, N^{4} - \\frac{4777}{5} \\, N^{3} + \\frac{7366}{5} \\, N^{2} + \\frac{2352}{5} \\, N - \\frac{3744}{5} \\right) \\tr X \\tr \\left( X Y \\right)^2 \\tr Y \n",
       " + \\left( 360 \\, N^{7} + \\frac{13716}{5} \\, N^{6} + \\frac{23328}{5} \\, N^{5} - \\frac{30684}{5} \\, N^{4} - \\frac{63408}{5} \\, N^{3} + \\frac{64636}{5} \\, N^{2} + \\frac{46084}{5} \\, N - \\frac{72024}{5} \\right) \\tr X^2 \\tr X Y \\tr Y^2 \n",
       " + \\left( -27 \\, N^{7} - \\frac{1197}{5} \\, N^{6} - \\frac{2466}{5} \\, N^{5} + \\frac{6333}{10} \\, N^{4} + \\frac{14331}{10} \\, N^{3} - \\frac{11049}{5} \\, N^{2} - \\frac{3528}{5} \\, N + \\frac{5616}{5} \\right) \\left( \\tr X \\right)^2 \\tr X Y^3 \n",
       " + \\left( -360 \\, N^{7} - \\frac{13716}{5} \\, N^{6} - \\frac{23328}{5} \\, N^{5} + \\frac{30684}{5} \\, N^{4} + \\frac{63408}{5} \\, N^{3} - \\frac{64636}{5} \\, N^{2} - \\frac{46084}{5} \\, N + \\frac{72024}{5} \\right) \\left( \\tr X Y \\right)^3 \n",
       " + \\left( 252 \\, N^{7} + \\frac{8676}{5} \\, N^{6} + \\frac{11667}{5} \\, N^{5} - 4221 \\, N^{4} - \\frac{21999}{5} \\, N^{3} + \\frac{46059}{5} \\, N^{2} + \\frac{1086}{5} \\, N - \\frac{23616}{5} \\right) \\tr X^3 \\left( \\tr Y \\right)^3 \n",
       " + \\left( -252 \\, N^{7} - \\frac{8676}{5} \\, N^{6} - \\frac{11667}{5} \\, N^{5} + 4221 \\, N^{4} + \\frac{21999}{5} \\, N^{3} - \\frac{46059}{5} \\, N^{2} - \\frac{1086}{5} \\, N + \\frac{23616}{5} \\right) \\tr X \\tr X^2 Y \\left( \\tr Y \\right)^2 \n",
       " + \\left( -504 \\, N^{7} - \\frac{17352}{5} \\, N^{6} - \\frac{23334}{5} \\, N^{5} + 8442 \\, N^{4} + \\frac{43998}{5} \\, N^{3} - \\frac{92118}{5} \\, N^{2} - \\frac{2172}{5} \\, N + \\frac{47232}{5} \\right) \\tr X^2 \\tr X Y \\left( \\tr Y \\right)^2 \n",
       " + \\left( -252 \\, N^{7} - \\frac{8676}{5} \\, N^{6} - \\frac{11667}{5} \\, N^{5} + 4221 \\, N^{4} + \\frac{21999}{5} \\, N^{3} - \\frac{46059}{5} \\, N^{2} - \\frac{1086}{5} \\, N + \\frac{23616}{5} \\right) \\left( \\tr X \\right)^2 \\tr X Y^2 \\tr Y \n",
       " + \\left( 1044 \\, N^{7} + \\frac{36216}{5} \\, N^{6} + \\frac{49812}{5} \\, N^{5} - 17508 \\, N^{4} - \\frac{95374}{5} \\, N^{3} + \\frac{194234}{5} \\, N^{2} + \\frac{516}{5} \\, N - \\frac{85536}{5} \\right) \\tr X \\left( \\tr X Y \\right)^2 \\tr Y \n",
       " + \\left( -36 \\, N^{7} - \\frac{1512}{5} \\, N^{6} - \\frac{3144}{5} \\, N^{5} + 624 \\, N^{4} + \\frac{7378}{5} \\, N^{3} - \\frac{9998}{5} \\, N^{2} + \\frac{3828}{5} \\, N - \\frac{8928}{5} \\right) \\tr X \\tr X^2 \\tr Y \\tr Y^2 \n",
       " + \\left( -504 \\, N^{7} - \\frac{17352}{5} \\, N^{6} - \\frac{23334}{5} \\, N^{5} + 8442 \\, N^{4} + \\frac{43998}{5} \\, N^{3} - \\frac{92118}{5} \\, N^{2} - \\frac{2172}{5} \\, N + \\frac{47232}{5} \\right) \\left( \\tr X \\right)^2 \\tr X Y \\tr Y^2 \n",
       " + \\left( 27 \\, N^{7} + \\frac{1197}{5} \\, N^{6} + \\frac{2466}{5} \\, N^{5} - \\frac{6333}{10} \\, N^{4} - \\frac{14331}{10} \\, N^{3} + \\frac{11049}{5} \\, N^{2} + \\frac{3528}{5} \\, N - \\frac{5616}{5} \\right) \\tr X \\tr X^2 \\left( \\tr Y \\right)^3 \n",
       " + \\left( -54 \\, N^{7} - \\frac{2394}{5} \\, N^{6} - \\frac{4932}{5} \\, N^{5} + \\frac{6333}{5} \\, N^{4} + \\frac{14331}{5} \\, N^{3} - \\frac{22098}{5} \\, N^{2} - \\frac{7056}{5} \\, N + \\frac{11232}{5} \\right) \\left( \\tr X \\right)^2 \\tr X Y \\left( \\tr Y \\right)^2 \n",
       " + \\left( 252 \\, N^{7} + \\frac{8676}{5} \\, N^{6} + \\frac{11667}{5} \\, N^{5} - 4221 \\, N^{4} - \\frac{21999}{5} \\, N^{3} + \\frac{46059}{5} \\, N^{2} + \\frac{1086}{5} \\, N - \\frac{23616}{5} \\right) \\left( \\tr X \\right)^3 \\tr Y^3 \n",
       " + \\left( 27 \\, N^{7} + \\frac{1197}{5} \\, N^{6} + \\frac{2466}{5} \\, N^{5} - \\frac{6333}{10} \\, N^{4} - \\frac{14331}{10} \\, N^{3} + \\frac{11049}{5} \\, N^{2} + \\frac{3528}{5} \\, N - \\frac{5616}{5} \\right) \\left( \\tr X \\right)^3 \\tr Y \\tr Y^2 \n",
       "\\right] \\\\\n",
       " O_{\n",
       " \\fontsize{6pt}{0} \\begin{ytableau}\n",
       " 1 & 1 & 1 & 2 \\\\ 2 & 2 \n",
       "\\end{ytableau} \\fontsize{12pt}{0} ,\n",
       "[3, 2, 1] ,\n",
       "2 } & =\n",
       " \\frac{\\sqrt{2}}{\\sqrt{21258450 \\, N^{14} + 284463900 \\, N^{13} + 1324750545 \\, N^{12} + 1673173044 \\, N^{11} - 4666094883 \\, N^{10} - 9691621713 \\, N^{9} + 18482233143 \\, N^{8} + 28522886829 \\, N^{7} - 67892427366 \\, N^{6} - 29914037040 \\, N^{5} + 150604301899 \\, N^{4} - 40993100704 \\, N^{3} - 101411494712 \\, N^{2} + 28469936832 \\, N + 26869041072}} \\left[\n",
       " \\left( -\\frac{621}{2} \\, N^{7} - \\frac{5463}{2} \\, N^{6} - \\frac{12321}{4} \\, N^{5} + \\frac{63315}{4} \\, N^{4} + \\frac{23133}{4} \\, N^{3} - \\frac{235563}{4} \\, N^{2} + 18423 \\, N + 29619 \\right) \\tr X^3 Y \\tr Y^2 \n",
       " + \\left( \\frac{765}{2} \\, N^{7} + \\frac{6291}{2} \\, N^{6} + 3627 \\, N^{5} - 16239 \\, N^{4} - 9621 \\, N^{3} + 52199 \\, N^{2} - 9754 \\, N - 23736 \\right) \\tr X^2 Y \\tr X Y^2 \n",
       " + \\left( -\\frac{765}{2} \\, N^{7} - \\frac{6291}{2} \\, N^{6} - 3627 \\, N^{5} + 16239 \\, N^{4} + 9621 \\, N^{3} - 52199 \\, N^{2} + 9754 \\, N + 23736 \\right) \\tr X^3 \\tr Y^3 \n",
       " + \\left( -351 \\, N^{7} - \\frac{4257}{2} \\, N^{6} - \\frac{23199}{8} \\, N^{5} + \\frac{14115}{8} \\, N^{4} + \\frac{23743}{4} \\, N^{3} + 8768 \\, N^{2} - 5618 \\, N - 4902 \\right) \\tr X^3 \\tr Y \\tr Y^2 \n",
       " + \\left( 207 \\, N^{7} + \\frac{2601}{2} \\, N^{6} + \\frac{11781}{8} \\, N^{5} - \\frac{21033}{8} \\, N^{4} + \\frac{9301}{4} \\, N^{3} + \\frac{27517}{2} \\, N^{2} - 7412 \\, N - 5352 \\right) \\tr X \\tr X^2 Y \\tr Y^2 \n",
       " + \\left( 414 \\, N^{7} + 3642 \\, N^{6} + 4107 \\, N^{5} - 21105 \\, N^{4} - 7711 \\, N^{3} + 78521 \\, N^{2} - 24564 \\, N - 39492 \\right) \\tr X^2 Y^2 \\tr X Y \n",
       " + \\left( 207 \\, N^{7} + 1821 \\, N^{6} + \\frac{4107}{2} \\, N^{5} - \\frac{21105}{2} \\, N^{4} - \\frac{7711}{2} \\, N^{3} + \\frac{78521}{2} \\, N^{2} - 12282 \\, N - 19746 \\right) \\tr X Y \\tr \\left( X Y \\right)^2 \n",
       " + \\left( -\\frac{621}{2} \\, N^{7} - \\frac{5463}{2} \\, N^{6} - \\frac{12321}{4} \\, N^{5} + \\frac{63315}{4} \\, N^{4} + \\frac{23133}{4} \\, N^{3} - \\frac{235563}{4} \\, N^{2} + 18423 \\, N + 29619 \\right) \\tr X^2 \\tr X Y^3 \n",
       " + \\left( 144 \\, N^{7} + 828 \\, N^{6} + \\frac{5709}{4} \\, N^{5} + \\frac{3459}{4} \\, N^{4} - 8261 \\, N^{3} - \\frac{45053}{2} \\, N^{2} + 13030 \\, N + 10254 \\right) \\tr X^2 Y \\tr X Y \\tr Y \n",
       " + \\left( 207 \\, N^{7} + \\frac{2601}{2} \\, N^{6} + \\frac{11781}{8} \\, N^{5} - \\frac{21033}{8} \\, N^{4} + \\frac{9301}{4} \\, N^{3} + \\frac{27517}{2} \\, N^{2} - 7412 \\, N - 5352 \\right) \\tr X^2 \\tr X Y^2 \\tr Y \n",
       " + \\left( 144 \\, N^{7} + 828 \\, N^{6} + \\frac{5709}{4} \\, N^{5} + \\frac{3459}{4} \\, N^{4} - 8261 \\, N^{3} - \\frac{45053}{2} \\, N^{2} + 13030 \\, N + 10254 \\right) \\tr X \\tr X Y \\tr X Y^2 \n",
       " + \\left( -351 \\, N^{7} - \\frac{4257}{2} \\, N^{6} - \\frac{23199}{8} \\, N^{5} + \\frac{14115}{8} \\, N^{4} + \\frac{23743}{4} \\, N^{3} + 8768 \\, N^{2} - 5618 \\, N - 4902 \\right) \\tr X \\tr X^2 \\tr Y^3 \n",
       " + \\left( -351 \\, N^{7} - \\frac{4257}{2} \\, N^{6} - \\frac{9891}{4} \\, N^{5} + \\frac{12297}{4} \\, N^{4} + \\frac{6909}{4} \\, N^{3} - \\frac{10653}{4} \\, N^{2} + 405 \\, N + 1161 \\right) \\tr X^3 Y \\left( \\tr Y \\right)^2 \n",
       " + \\left( 468 \\, N^{7} + 2838 \\, N^{6} + 3297 \\, N^{5} - 4099 \\, N^{4} - 2303 \\, N^{3} + 3551 \\, N^{2} - 540 \\, N - 1548 \\right) \\tr X \\tr X^2 Y^2 \\tr Y \n",
       " + \\left( 234 \\, N^{7} + 1419 \\, N^{6} + \\frac{3297}{2} \\, N^{5} - \\frac{4099}{2} \\, N^{4} - \\frac{2303}{2} \\, N^{3} + \\frac{3551}{2} \\, N^{2} - 270 \\, N - 774 \\right) \\tr X \\tr \\left( X Y \\right)^2 \\tr Y \n",
       " + \\left( -207 \\, N^{7} - \\frac{2601}{2} \\, N^{6} - 2160 \\, N^{5} + 852 \\, N^{4} + 5799 \\, N^{3} + \\frac{9065}{2} \\, N^{2} - 6788 \\, N - 7530 \\right) \\tr X^2 \\tr X Y \\tr Y^2 \n",
       " + \\left( -351 \\, N^{7} - \\frac{4257}{2} \\, N^{6} - \\frac{9891}{4} \\, N^{5} + \\frac{12297}{4} \\, N^{4} + \\frac{6909}{4} \\, N^{3} - \\frac{10653}{4} \\, N^{2} + 405 \\, N + 1161 \\right) \\left( \\tr X \\right)^2 \\tr X Y^3 \n",
       " + \\left( 207 \\, N^{7} + \\frac{2601}{2} \\, N^{6} + 2160 \\, N^{5} - 852 \\, N^{4} - 5799 \\, N^{3} - \\frac{9065}{2} \\, N^{2} + 6788 \\, N + 7530 \\right) \\left( \\tr X Y \\right)^3 \n",
       " + \\left( 18 \\, N^{7} + \\frac{207}{2} \\, N^{6} + \\frac{573}{8} \\, N^{5} - \\frac{1755}{8} \\, N^{4} + \\frac{39}{2} \\, N^{3} + 42 \\, N^{2} + 123 \\, N - 234 \\right) \\tr X^3 \\left( \\tr Y \\right)^3 \n",
       " + \\left( -18 \\, N^{7} - \\frac{207}{2} \\, N^{6} - \\frac{573}{8} \\, N^{5} + \\frac{1755}{8} \\, N^{4} - \\frac{39}{2} \\, N^{3} - 42 \\, N^{2} - 123 \\, N + 234 \\right) \\tr X \\tr X^2 Y \\left( \\tr Y \\right)^2 \n",
       " + \\left( -36 \\, N^{7} - 207 \\, N^{6} - \\frac{573}{4} \\, N^{5} + \\frac{1755}{4} \\, N^{4} - 39 \\, N^{3} - 84 \\, N^{2} - 246 \\, N + 468 \\right) \\tr X^2 \\tr X Y \\left( \\tr Y \\right)^2 \n",
       " + \\left( -18 \\, N^{7} - \\frac{207}{2} \\, N^{6} - \\frac{573}{8} \\, N^{5} + \\frac{1755}{8} \\, N^{4} - \\frac{39}{2} \\, N^{3} - 42 \\, N^{2} - 123 \\, N + 234 \\right) \\left( \\tr X \\right)^2 \\tr X Y^2 \\tr Y \n",
       " + \\left( -\\frac{549}{2} \\, N^{7} - \\frac{5049}{2} \\, N^{6} - \\frac{8103}{2} \\, N^{5} + 12303 \\, N^{4} + 18155 \\, N^{3} - \\frac{58169}{2} \\, N^{2} - 1554 \\, N + 10206 \\right) \\tr X \\left( \\tr X Y \\right)^2 \\tr Y \n",
       " + \\left( \\frac{693}{2} \\, N^{7} + \\frac{5877}{2} \\, N^{6} + 4338 \\, N^{5} - \\frac{26361}{2} \\, N^{4} - 18077 \\, N^{3} + \\frac{58505}{2} \\, N^{2} + 2046 \\, N - 11142 \\right) \\tr X \\tr X^2 \\tr Y \\tr Y^2 \n",
       " + \\left( -36 \\, N^{7} - 207 \\, N^{6} - \\frac{573}{4} \\, N^{5} + \\frac{1755}{4} \\, N^{4} - 39 \\, N^{3} - 84 \\, N^{2} - 246 \\, N + 468 \\right) \\left( \\tr X \\right)^2 \\tr X Y \\tr Y^2 \n",
       " + \\left( 351 \\, N^{7} + \\frac{4257}{2} \\, N^{6} + \\frac{9891}{4} \\, N^{5} - \\frac{12297}{4} \\, N^{4} - \\frac{6909}{4} \\, N^{3} + \\frac{10653}{4} \\, N^{2} - 405 \\, N - 1161 \\right) \\tr X \\tr X^2 \\left( \\tr Y \\right)^3 \n",
       " + \\left( -702 \\, N^{7} - 4257 \\, N^{6} - \\frac{9891}{2} \\, N^{5} + \\frac{12297}{2} \\, N^{4} + \\frac{6909}{2} \\, N^{3} - \\frac{10653}{2} \\, N^{2} + 810 \\, N + 2322 \\right) \\left( \\tr X \\right)^2 \\tr X Y \\left( \\tr Y \\right)^2 \n",
       " + \\left( 18 \\, N^{7} + \\frac{207}{2} \\, N^{6} + \\frac{573}{8} \\, N^{5} - \\frac{1755}{8} \\, N^{4} + \\frac{39}{2} \\, N^{3} + 42 \\, N^{2} + 123 \\, N - 234 \\right) \\left( \\tr X \\right)^3 \\tr Y^3 \n",
       " + \\left( 351 \\, N^{7} + \\frac{4257}{2} \\, N^{6} + \\frac{9891}{4} \\, N^{5} - \\frac{12297}{4} \\, N^{4} - \\frac{6909}{4} \\, N^{3} + \\frac{10653}{4} \\, N^{2} - 405 \\, N - 1161 \\right) \\left( \\tr X \\right)^3 \\tr Y \\tr Y^2 \n",
       "\\right] \\\\\n",
       " O_{\n",
       " \\fontsize{6pt}{0} \\begin{ytableau}\n",
       " 1 & 1 & 1 & 2 \\\\ 2 & 2 \n",
       "\\end{ytableau} \\fontsize{12pt}{0} ,\n",
       "[4, 1, 1] ,\n",
       "1 } & =\n",
       " \\frac{\\sqrt{5}}{\\sqrt{1691280 \\, N^{14} + 16259616 \\, N^{13} + 43649010 \\, N^{12} - 12092220 \\, N^{11} - 131803551 \\, N^{10} + 80180424 \\, N^{9} + 164974320 \\, N^{8} - 327380940 \\, N^{7} + 160872568 \\, N^{6} + 104158856 \\, N^{5} - 104030556 \\, N^{4} + 17972880 \\, N^{3} - 24870280 \\, N^{2} + 309600 \\, N + 19229600}} \\left[\n",
       " \\left( -\\frac{378}{5} \\, N^{7} - \\frac{2061}{5} \\, N^{6} - \\frac{378}{5} \\, N^{5} + \\frac{5472}{5} \\, N^{4} - 1023 \\, N^{3} - \\frac{1917}{5} \\, N^{2} + 597 \\, N + 258 \\right) \\tr X^3 Y \\tr Y^2 \n",
       " + \\left( \\frac{594}{5} \\, N^{7} + \\frac{2763}{5} \\, N^{6} + \\frac{1089}{10} \\, N^{5} - \\frac{5556}{5} \\, N^{4} + \\frac{4779}{5} \\, N^{3} - \\frac{1452}{5} \\, N^{2} - 357 \\, N + 258 \\right) \\tr X^3 Y \\left( \\tr Y \\right)^2 \n",
       " + \\left( \\frac{504}{5} \\, N^{7} + \\frac{2748}{5} \\, N^{6} + \\frac{504}{5} \\, N^{5} - \\frac{7296}{5} \\, N^{4} + 1364 \\, N^{3} + \\frac{2556}{5} \\, N^{2} - 796 \\, N - 344 \\right) \\tr X^2 Y^2 \\tr X Y \n",
       " + \\left( \\frac{252}{5} \\, N^{7} + \\frac{1374}{5} \\, N^{6} + \\frac{252}{5} \\, N^{5} - \\frac{3648}{5} \\, N^{4} + 682 \\, N^{3} + \\frac{1278}{5} \\, N^{2} - 398 \\, N - 172 \\right) \\tr X Y \\tr \\left( X Y \\right)^2 \n",
       " + \\left( -\\frac{378}{5} \\, N^{7} - \\frac{2061}{5} \\, N^{6} - \\frac{378}{5} \\, N^{5} + \\frac{5472}{5} \\, N^{4} - 1023 \\, N^{3} - \\frac{1917}{5} \\, N^{2} + 597 \\, N + 258 \\right) \\tr X^2 \\tr X Y^3 \n",
       " + \\left( -\\frac{792}{5} \\, N^{7} - \\frac{3684}{5} \\, N^{6} - \\frac{726}{5} \\, N^{5} + \\frac{7408}{5} \\, N^{4} - \\frac{6372}{5} \\, N^{3} + \\frac{1936}{5} \\, N^{2} + 476 \\, N - 344 \\right) \\tr X \\tr X^2 Y^2 \\tr Y \n",
       " + \\left( -\\frac{396}{5} \\, N^{7} - \\frac{1842}{5} \\, N^{6} - \\frac{363}{5} \\, N^{5} + \\frac{3704}{5} \\, N^{4} - \\frac{3186}{5} \\, N^{3} + \\frac{968}{5} \\, N^{2} + 238 \\, N - 172 \\right) \\tr X \\tr \\left( X Y \\right)^2 \\tr Y \n",
       " + \\left( \\frac{594}{5} \\, N^{7} + \\frac{2763}{5} \\, N^{6} + \\frac{1089}{10} \\, N^{5} - \\frac{5556}{5} \\, N^{4} + \\frac{4779}{5} \\, N^{3} - \\frac{1452}{5} \\, N^{2} - 357 \\, N + 258 \\right) \\left( \\tr X \\right)^2 \\tr X Y^3 \n",
       " + \\left( -\\frac{1}{5} \\, {\\left(45 \\, N^{6} - 99 \\, N^{5} + 180 \\, N^{4} + 1158 \\, N^{3} - 2226 \\, N^{2} - 660 \\, N + 1720\\right)} {\\left(N + 1\\right)} \\right) \\tr X^2 Y \\tr X Y^2 \n",
       " + \\left( \\frac{1}{5} \\, {\\left(45 \\, N^{6} - 99 \\, N^{5} + 180 \\, N^{4} + 1158 \\, N^{3} - 2226 \\, N^{2} - 660 \\, N + 1720\\right)} {\\left(N + 1\\right)} \\right) \\tr X^3 \\tr Y^3 \n",
       " + \\left( -\\frac{117}{10} \\, N^{7} - \\frac{747}{10} \\, N^{6} - \\frac{339}{5} \\, N^{5} + \\frac{687}{5} \\, N^{4} + \\frac{213}{2} \\, N^{3} + \\frac{234}{5} \\, N^{2} - 53 \\, N - 86 \\right) \\tr X^3 \\tr Y \\tr Y^2 \n",
       " + \\left( -\\frac{801}{10} \\, N^{7} - \\frac{3771}{10} \\, N^{6} - \\frac{387}{5} \\, N^{5} + \\frac{3471}{5} \\, N^{4} - \\frac{759}{2} \\, N^{3} + \\frac{812}{5} \\, N^{2} + 205 \\, N - 258 \\right) \\tr X \\tr X^2 Y \\tr Y^2 \n",
       " + \\left( -\\frac{252}{5} \\, N^{7} - \\frac{1251}{5} \\, N^{6} - \\frac{558}{5} \\, N^{5} + \\frac{2802}{5} \\, N^{4} - \\frac{1866}{5} \\, N^{3} + \\frac{1068}{5} \\, N^{2} - 58 \\, N - 172 \\right) \\tr X^2 \\tr X Y \\tr Y^2 \n",
       " + \\left( \\frac{459}{5} \\, N^{7} + \\frac{2259}{5} \\, N^{6} + \\frac{726}{5} \\, N^{5} - \\frac{4158}{5} \\, N^{4} + 273 \\, N^{3} - \\frac{1046}{5} \\, N^{2} - 152 \\, N + 344 \\right) \\tr X^2 Y \\tr X Y \\tr Y \n",
       " + \\left( \\frac{459}{5} \\, N^{7} + \\frac{2259}{5} \\, N^{6} + \\frac{726}{5} \\, N^{5} - \\frac{4158}{5} \\, N^{4} + 273 \\, N^{3} - \\frac{1046}{5} \\, N^{2} - 152 \\, N + 344 \\right) \\tr X \\tr X Y \\tr X Y^2 \n",
       " + \\left( \\frac{252}{5} \\, N^{7} + \\frac{1251}{5} \\, N^{6} + \\frac{558}{5} \\, N^{5} - \\frac{2802}{5} \\, N^{4} + \\frac{1866}{5} \\, N^{3} - \\frac{1068}{5} \\, N^{2} + 58 \\, N + 172 \\right) \\left( \\tr X Y \\right)^3 \n",
       " + \\left( \\frac{441}{10} \\, N^{7} + \\frac{2133}{10} \\, N^{6} + \\frac{543}{10} \\, N^{5} - \\frac{2103}{5} \\, N^{4} + \\frac{655}{2} \\, N^{3} - \\frac{364}{5} \\, N^{2} - 143 \\, N + 86 \\right) \\tr X^3 \\left( \\tr Y \\right)^3 \n",
       " + \\left( -\\frac{441}{10} \\, N^{7} - \\frac{2133}{10} \\, N^{6} - \\frac{543}{10} \\, N^{5} + \\frac{2103}{5} \\, N^{4} - \\frac{655}{2} \\, N^{3} + \\frac{364}{5} \\, N^{2} + 143 \\, N - 86 \\right) \\tr X \\tr X^2 Y \\left( \\tr Y \\right)^2 \n",
       " + \\left( \\frac{423}{10} \\, N^{7} + \\frac{2007}{10} \\, N^{6} + \\frac{1041}{20} \\, N^{5} - \\frac{2082}{5} \\, N^{4} + \\frac{1782}{5} \\, N^{3} - \\frac{1163}{10} \\, N^{2} - 114 \\, N + 86 \\right) \\tr X^2 \\tr X Y \\left( \\tr Y \\right)^2 \n",
       " + \\left( -\\frac{441}{10} \\, N^{7} - \\frac{2133}{10} \\, N^{6} - \\frac{543}{10} \\, N^{5} + \\frac{2103}{5} \\, N^{4} - \\frac{655}{2} \\, N^{3} + \\frac{364}{5} \\, N^{2} + 143 \\, N - 86 \\right) \\left( \\tr X \\right)^2 \\tr X Y^2 \\tr Y \n",
       " + \\left( \\frac{63}{5} \\, N^{7} + \\frac{72}{5} \\, N^{6} - \\frac{57}{5} \\, N^{5} + \\frac{1206}{5} \\, N^{4} + \\frac{264}{5} \\, N^{3} - \\frac{1698}{5} \\, N^{2} - 38 \\, N + 172 \\right) \\tr X \\left( \\tr X Y \\right)^2 \\tr Y \n",
       " + \\left( -\\frac{486}{5} \\, N^{7} - \\frac{2079}{5} \\, N^{6} - \\frac{927}{10} \\, N^{5} + \\frac{2958}{5} \\, N^{4} - \\frac{3828}{5} \\, N^{3} + \\frac{2861}{5} \\, N^{2} + 266 \\, N - 344 \\right) \\tr X \\tr X^2 \\tr Y \\tr Y^2 \n",
       " + \\left( \\frac{423}{10} \\, N^{7} + \\frac{2007}{10} \\, N^{6} + \\frac{1041}{20} \\, N^{5} - \\frac{2082}{5} \\, N^{4} + \\frac{1782}{5} \\, N^{3} - \\frac{1163}{10} \\, N^{2} - 114 \\, N + 86 \\right) \\left( \\tr X \\right)^2 \\tr X Y \\tr Y^2 \n",
       " + \\left( \\frac{1}{20} \\, {\\left(234 \\, N^{6} + 1494 \\, N^{5} + 1035 \\, N^{4} - 2928 \\, N^{3} + 1112 \\, N^{2} + 570 \\, N - 860\\right)} N \\right) \\tr X \\tr X^2 \\left( \\tr Y \\right)^3 \n",
       " + \\left( -\\frac{1}{10} \\, {\\left(234 \\, N^{6} + 1494 \\, N^{5} + 1035 \\, N^{4} - 2928 \\, N^{3} + 1112 \\, N^{2} + 570 \\, N - 860\\right)} N \\right) \\left( \\tr X \\right)^2 \\tr X Y \\left( \\tr Y \\right)^2 \n",
       " + \\left( \\frac{441}{10} \\, N^{7} + \\frac{2133}{10} \\, N^{6} + \\frac{543}{10} \\, N^{5} - \\frac{2103}{5} \\, N^{4} + \\frac{655}{2} \\, N^{3} - \\frac{364}{5} \\, N^{2} - 143 \\, N + 86 \\right) \\left( \\tr X \\right)^3 \\tr Y^3 \n",
       " + \\left( \\frac{1}{20} \\, {\\left(234 \\, N^{6} + 1494 \\, N^{5} + 1035 \\, N^{4} - 2928 \\, N^{3} + 1112 \\, N^{2} + 570 \\, N - 860\\right)} N \\right) \\left( \\tr X \\right)^3 \\tr Y \\tr Y^2 \n",
       " + \\left( -\\frac{801}{10} \\, N^{7} - \\frac{3771}{10} \\, N^{6} - \\frac{387}{5} \\, N^{5} + \\frac{3471}{5} \\, N^{4} - \\frac{759}{2} \\, N^{3} + \\frac{812}{5} \\, N^{2} + 205 \\, N - 258 \\right) \\tr X^2 \\tr X Y^2 \\tr Y \n",
       " + \\left( -\\frac{117}{10} \\, N^{7} - \\frac{747}{10} \\, N^{6} - \\frac{339}{5} \\, N^{5} + \\frac{687}{5} \\, N^{4} + \\frac{213}{2} \\, N^{3} + \\frac{234}{5} \\, N^{2} - 53 \\, N - 86 \\right) \\tr X \\tr X^2 \\tr Y^3 \n",
       "\\right] \\\\\n",
       " O_{\n",
       " \\fontsize{6pt}{0} \\begin{ytableau}\n",
       " 1 & 1 & 1 & 2 \\\\ 2 & 2 \n",
       "\\end{ytableau} \\fontsize{12pt}{0} ,\n",
       "[3, 3] ,\n",
       "1 } & =\n",
       " \\frac{\\sqrt{5} \\sqrt{2}}{\\sqrt{64152 \\, N^{14} + 548856 \\, N^{13} + 1208115 \\, N^{12} - 1099980 \\, N^{11} - 3816891 \\, N^{10} + 5112684 \\, N^{9} + 2085144 \\, N^{8} - 13794708 \\, N^{7} + 17358736 \\, N^{6} - 7048248 \\, N^{5} - 5794572 \\, N^{4} + 7528320 \\, N^{3} + 1671200 \\, N^{2} - 6930560 \\, N + 3165760}} \\left[\n",
       " \\left( -\\frac{99}{10} \\, N^{7} - \\frac{243}{5} \\, N^{6} + \\frac{117}{10} \\, N^{5} + \\frac{621}{5} \\, N^{4} - \\frac{1087}{5} \\, N^{3} + \\frac{579}{5} \\, N^{2} + 124 \\, N - 124 \\right) \\tr X^2 Y \\tr X Y^2 \n",
       " + \\left( \\frac{99}{10} \\, N^{7} + \\frac{243}{5} \\, N^{6} - \\frac{117}{10} \\, N^{5} - \\frac{621}{5} \\, N^{4} + \\frac{1087}{5} \\, N^{3} - \\frac{579}{5} \\, N^{2} - 124 \\, N + 124 \\right) \\tr X^3 \\tr Y^3 \n",
       " + \\left( -\\frac{27}{5} \\, N^{7} - \\frac{171}{10} \\, N^{6} - \\frac{54}{5} \\, N^{5} + \\frac{6}{5} \\, N^{4} + \\frac{423}{5} \\, N^{3} - \\frac{201}{5} \\, N^{2} - 132 \\, N + 132 \\right) \\tr X^3 Y \\tr Y^2 \n",
       " + \\left( \\frac{36}{5} \\, N^{7} + \\frac{114}{5} \\, N^{6} + \\frac{72}{5} \\, N^{5} - \\frac{8}{5} \\, N^{4} - \\frac{564}{5} \\, N^{3} + \\frac{268}{5} \\, N^{2} + 176 \\, N - 176 \\right) \\tr X^2 Y^2 \\tr X Y \n",
       " + \\left( \\frac{18}{5} \\, N^{7} + \\frac{57}{5} \\, N^{6} + \\frac{36}{5} \\, N^{5} - \\frac{4}{5} \\, N^{4} - \\frac{282}{5} \\, N^{3} + \\frac{134}{5} \\, N^{2} + 88 \\, N - 88 \\right) \\tr X Y \\tr \\left( X Y \\right)^2 \n",
       " + \\left( -\\frac{27}{5} \\, N^{7} - \\frac{171}{10} \\, N^{6} - \\frac{54}{5} \\, N^{5} + \\frac{6}{5} \\, N^{4} + \\frac{423}{5} \\, N^{3} - \\frac{201}{5} \\, N^{2} - 132 \\, N + 132 \\right) \\tr X^2 \\tr X Y^3 \n",
       " + \\left( -\\frac{27}{5} \\, N^{7} - \\frac{261}{10} \\, N^{6} - \\frac{9}{5} \\, N^{5} + \\frac{351}{5} \\, N^{4} - \\frac{297}{5} \\, N^{3} - \\frac{51}{5} \\, N^{2} + 60 \\, N - 36 \\right) \\tr X^3 Y \\left( \\tr Y \\right)^2 \n",
       " + \\left( \\frac{36}{5} \\, N^{7} + \\frac{174}{5} \\, N^{6} + \\frac{12}{5} \\, N^{5} - \\frac{468}{5} \\, N^{4} + \\frac{396}{5} \\, N^{3} + \\frac{68}{5} \\, N^{2} - 80 \\, N + 48 \\right) \\tr X \\tr X^2 Y^2 \\tr Y \n",
       " + \\left( \\frac{18}{5} \\, N^{7} + \\frac{87}{5} \\, N^{6} + \\frac{6}{5} \\, N^{5} - \\frac{234}{5} \\, N^{4} + \\frac{198}{5} \\, N^{3} + \\frac{34}{5} \\, N^{2} - 40 \\, N + 24 \\right) \\tr X \\tr \\left( X Y \\right)^2 \\tr Y \n",
       " + \\left( \\frac{261}{20} \\, N^{7} + \\frac{1179}{20} \\, N^{6} - \\frac{9}{10} \\, N^{5} - \\frac{1329}{10} \\, N^{4} + \\frac{1343}{10} \\, N^{3} - \\frac{188}{5} \\, N^{2} - 24 \\, N + 12 \\right) \\tr X^3 \\tr Y \\tr Y^2 \n",
       " + \\left( -\\frac{207}{20} \\, N^{7} - \\frac{693}{20} \\, N^{6} - \\frac{117}{10} \\, N^{5} + \\frac{303}{10} \\, N^{4} + \\frac{239}{10} \\, N^{3} - \\frac{254}{5} \\, N^{2} + 96 \\, N - 60 \\right) \\tr X \\tr X^2 Y \\tr Y^2 \n",
       " + \\left( -\\frac{1}{10} \\, {\\left(36 \\, N^{6} + 189 \\, N^{5} - 138 \\, N^{4} - 378 \\, N^{3} + 1266 \\, N^{2} - 1672 \\, N + 920\\right)} N \\right) \\tr X^2 \\tr X Y \\tr Y^2 \n",
       " + \\left( -\\frac{27}{5} \\, N^{7} - \\frac{261}{10} \\, N^{6} - \\frac{9}{5} \\, N^{5} + \\frac{351}{5} \\, N^{4} - \\frac{297}{5} \\, N^{3} - \\frac{51}{5} \\, N^{2} + 60 \\, N - 36 \\right) \\left( \\tr X \\right)^2 \\tr X Y^3 \n",
       " + \\left( -\\frac{27}{10} \\, N^{7} - \\frac{243}{10} \\, N^{6} + \\frac{63}{5} \\, N^{5} + \\frac{513}{5} \\, N^{4} - \\frac{791}{5} \\, N^{3} + \\frac{442}{5} \\, N^{2} - 72 \\, N + 48 \\right) \\tr X^2 Y \\tr X Y \\tr Y \n",
       " + \\left( -\\frac{27}{10} \\, N^{7} - \\frac{243}{10} \\, N^{6} + \\frac{63}{5} \\, N^{5} + \\frac{513}{5} \\, N^{4} - \\frac{791}{5} \\, N^{3} + \\frac{442}{5} \\, N^{2} - 72 \\, N + 48 \\right) \\tr X \\tr X Y \\tr X Y^2 \n",
       " + \\left( \\frac{1}{10} \\, {\\left(36 \\, N^{6} + 189 \\, N^{5} - 138 \\, N^{4} - 378 \\, N^{3} + 1266 \\, N^{2} - 1672 \\, N + 920\\right)} N \\right) \\left( \\tr X Y \\right)^3 \n",
       " + \\left( \\frac{3}{20} \\, {\\left(21 \\, N^{4} + 48 \\, N^{3} - 36 \\, N^{2} - 2 \\, N - 12\\right)} {\\left(N + 1\\right)} N^{2} \\right) \\tr X^3 \\left( \\tr Y \\right)^3 \n",
       " + \\left( -\\frac{3}{20} \\, {\\left(21 \\, N^{4} + 48 \\, N^{3} - 36 \\, N^{2} - 2 \\, N - 12\\right)} {\\left(N + 1\\right)} N^{2} \\right) \\tr X \\tr X^2 Y \\left( \\tr Y \\right)^2 \n",
       " + \\left( -\\frac{171}{20} \\, N^{7} - \\frac{729}{20} \\, N^{6} - \\frac{18}{5} \\, N^{5} + \\frac{759}{10} \\, N^{4} - \\frac{573}{10} \\, N^{3} - \\frac{42}{5} \\, N^{2} + 60 \\, N - 36 \\right) \\tr X^2 \\tr X Y \\left( \\tr Y \\right)^2 \n",
       " + \\left( -\\frac{3}{20} \\, {\\left(21 \\, N^{4} + 48 \\, N^{3} - 36 \\, N^{2} - 2 \\, N - 12\\right)} {\\left(N + 1\\right)} N^{2} \\right) \\left( \\tr X \\right)^2 \\tr X Y^2 \\tr Y \n",
       " + \\left( \\frac{9}{10} \\, N^{7} + \\frac{18}{5} \\, N^{6} - \\frac{21}{5} \\, N^{5} - \\frac{81}{5} \\, N^{4} + \\frac{242}{5} \\, N^{3} + \\frac{106}{5} \\, N^{2} - 92 \\, N + 48 \\right) \\tr X \\left( \\tr X Y \\right)^2 \\tr Y \n",
       " + \\left( \\frac{81}{5} \\, N^{7} + \\frac{693}{10} \\, N^{6} + \\frac{57}{5} \\, N^{5} - \\frac{678}{5} \\, N^{4} + \\frac{331}{5} \\, N^{3} - \\frac{22}{5} \\, N^{2} - 28 \\, N + 24 \\right) \\tr X \\tr X^2 \\tr Y \\tr Y^2 \n",
       " + \\left( -\\frac{171}{20} \\, N^{7} - \\frac{729}{20} \\, N^{6} - \\frac{18}{5} \\, N^{5} + \\frac{759}{10} \\, N^{4} - \\frac{573}{10} \\, N^{3} - \\frac{42}{5} \\, N^{2} + 60 \\, N - 36 \\right) \\left( \\tr X \\right)^2 \\tr X Y \\tr Y^2 \n",
       " + \\left( \\frac{3}{20} \\, {\\left(21 \\, N^{4} + 48 \\, N^{3} - 36 \\, N^{2} - 2 \\, N - 12\\right)} {\\left(N + 1\\right)} N^{2} \\right) \\tr X \\tr X^2 \\left( \\tr Y \\right)^3 \n",
       " + \\left( -\\frac{3}{10} \\, {\\left(21 \\, N^{4} + 48 \\, N^{3} - 36 \\, N^{2} - 2 \\, N - 12\\right)} {\\left(N + 1\\right)} N^{2} \\right) \\left( \\tr X \\right)^2 \\tr X Y \\left( \\tr Y \\right)^2 \n",
       " + \\left( \\frac{3}{20} \\, {\\left(21 \\, N^{4} + 48 \\, N^{3} - 36 \\, N^{2} - 2 \\, N - 12\\right)} {\\left(N + 1\\right)} N^{2} \\right) \\left( \\tr X \\right)^3 \\tr Y^3 \n",
       " + \\left( \\frac{3}{20} \\, {\\left(21 \\, N^{4} + 48 \\, N^{3} - 36 \\, N^{2} - 2 \\, N - 12\\right)} {\\left(N + 1\\right)} N^{2} \\right) \\left( \\tr X \\right)^3 \\tr Y \\tr Y^2 \n",
       " + \\left( -\\frac{207}{20} \\, N^{7} - \\frac{693}{20} \\, N^{6} - \\frac{117}{10} \\, N^{5} + \\frac{303}{10} \\, N^{4} + \\frac{239}{10} \\, N^{3} - \\frac{254}{5} \\, N^{2} + 96 \\, N - 60 \\right) \\tr X^2 \\tr X Y^2 \\tr Y \n",
       " + \\left( \\frac{261}{20} \\, N^{7} + \\frac{1179}{20} \\, N^{6} - \\frac{9}{10} \\, N^{5} - \\frac{1329}{10} \\, N^{4} + \\frac{1343}{10} \\, N^{3} - \\frac{188}{5} \\, N^{2} - 24 \\, N + 12 \\right) \\tr X \\tr X^2 \\tr Y^3 \n",
       "\\right] \\\\\n",
       " O_{\n",
       " \\fontsize{6pt}{0} \\begin{ytableau}\n",
       " 1 & 1 & 1 & 2 \\\\ 2 & 2 \n",
       "\\end{ytableau} \\fontsize{12pt}{0} ,\n",
       "[4, 2] ,\n",
       "1 } & =\n",
       " \\frac{\\sqrt{5} \\sqrt{2}}{\\sqrt{891 \\, N^{12} + 2916 \\, N^{11} - 2322 \\, N^{10} - 14904 \\, N^{9} + 35568 \\, N^{8} - 35136 \\, N^{7} - 3744 \\, N^{6} + 61344 \\, N^{5} - 80640 \\, N^{4} + 29760 \\, N^{3} + 38560 \\, N^{2} - 48000 \\, N + 16000}} \\left[\n",
       " \\left( \\frac{27}{20} \\, N^{6} + \\frac{18}{5} \\, N^{5} - \\frac{117}{10} \\, N^{4} + \\frac{63}{5} \\, N^{3} + \\frac{6}{5} \\, N^{2} - 18 \\, N + 12 \\right) \\tr X^3 Y \\tr Y^2 \n",
       " + \\left( -\\frac{9}{5} \\, N^{6} - \\frac{24}{5} \\, N^{5} + \\frac{78}{5} \\, N^{4} - \\frac{84}{5} \\, N^{3} - \\frac{8}{5} \\, N^{2} + 24 \\, N - 16 \\right) \\tr X^2 Y^2 \\tr X Y \n",
       " + \\left( -\\frac{9}{10} \\, N^{6} - \\frac{12}{5} \\, N^{5} + \\frac{39}{5} \\, N^{4} - \\frac{42}{5} \\, N^{3} - \\frac{4}{5} \\, N^{2} + 12 \\, N - 8 \\right) \\tr X Y \\tr \\left( X Y \\right)^2 \n",
       " + \\left( \\frac{27}{20} \\, N^{6} + \\frac{18}{5} \\, N^{5} - \\frac{117}{10} \\, N^{4} + \\frac{63}{5} \\, N^{3} + \\frac{6}{5} \\, N^{2} - 18 \\, N + 12 \\right) \\tr X^2 \\tr X Y^3 \n",
       " + \\left( -\\frac{9}{5} \\, N^{5} + \\frac{36}{5} \\, N^{4} - \\frac{54}{5} \\, N^{3} + \\frac{6}{5} \\, N^{2} + 12 \\, N - 8 \\right) \\tr X^2 Y \\tr X Y^2 \n",
       " + \\left( \\frac{9}{5} \\, N^{5} - \\frac{36}{5} \\, N^{4} + \\frac{54}{5} \\, N^{3} - \\frac{6}{5} \\, N^{2} - 12 \\, N + 8 \\right) \\tr X^3 \\tr Y^3 \n",
       " + \\left( \\frac{3}{20} \\, {\\left(3 \\, N^{2} - 2\\right)} {\\left(3 \\, N + 2\\right)} N^{3} \\right) \\tr X^3 Y \\left( \\tr Y \\right)^2 \n",
       " + \\left( -\\frac{1}{5} \\, {\\left(3 \\, N^{2} - 2\\right)} {\\left(3 \\, N + 2\\right)} N^{3} \\right) \\tr X \\tr X^2 Y^2 \\tr Y \n",
       " + \\left( -\\frac{1}{10} \\, {\\left(3 \\, N^{2} - 2\\right)} {\\left(3 \\, N + 2\\right)} N^{3} \\right) \\tr X \\tr \\left( X Y \\right)^2 \\tr Y \n",
       " + \\left( \\frac{1}{20} \\, {\\left(3 \\, N^{3} + 15 \\, N^{2} - 30 \\, N + 20\\right)} {\\left(3 \\, N^{2} - 2\\right)} N \\right) \\tr X^3 \\tr Y \\tr Y^2 \n",
       " + \\left( \\frac{1}{20} \\, {\\left(9 \\, N^{3} + 15 \\, N^{2} - 30 \\, N + 20\\right)} {\\left(3 \\, N^{2} - 2\\right)} N \\right) \\tr X \\tr X^2 Y \\tr Y^2 \n",
       " + \\left( \\frac{1}{10} \\, {\\left(9 \\, N^{5} + 18 \\, N^{4} - 36 \\, N^{3} - 12 \\, N^{2} + 60 \\, N - 40\\right)} N \\right) \\tr X^2 \\tr X Y \\tr Y^2 \n",
       " + \\left( \\frac{3}{20} \\, {\\left(3 \\, N^{2} - 2\\right)} {\\left(3 \\, N + 2\\right)} N^{3} \\right) \\left( \\tr X \\right)^2 \\tr X Y^3 \n",
       " + \\left( -\\frac{1}{10} \\, {\\left(6 \\, N^{3} + 15 \\, N^{2} - 30 \\, N + 20\\right)} {\\left(3 \\, N^{2} - 2\\right)} N \\right) \\tr X^2 Y \\tr X Y \\tr Y \n",
       " + \\left( -\\frac{1}{10} \\, {\\left(6 \\, N^{3} + 15 \\, N^{2} - 30 \\, N + 20\\right)} {\\left(3 \\, N^{2} - 2\\right)} N \\right) \\tr X \\tr X Y \\tr X Y^2 \n",
       " + \\left( -\\frac{1}{10} \\, {\\left(9 \\, N^{5} + 18 \\, N^{4} - 36 \\, N^{3} - 12 \\, N^{2} + 60 \\, N - 40\\right)} N \\right) \\left( \\tr X Y \\right)^3 \n",
       " + \\left( \\frac{3}{20} \\, {\\left(3 \\, N^{2} - 2\\right)} {\\left(N + 1\\right)} N^{3} \\right) \\tr X^3 \\left( \\tr Y \\right)^3 \n",
       " + \\left( -\\frac{3}{20} \\, {\\left(3 \\, N^{2} - 2\\right)} {\\left(N + 1\\right)} N^{3} \\right) \\tr X \\tr X^2 Y \\left( \\tr Y \\right)^2 \n",
       " + \\left( \\frac{3}{20} \\, {\\left(3 \\, N^{2} - 2\\right)} {\\left(2 \\, N + 1\\right)} N^{3} \\right) \\tr X^2 \\tr X Y \\left( \\tr Y \\right)^2 \n",
       " + \\left( -\\frac{3}{20} \\, {\\left(3 \\, N^{2} - 2\\right)} {\\left(N + 1\\right)} N^{3} \\right) \\left( \\tr X \\right)^2 \\tr X Y^2 \\tr Y \n",
       " + \\left( -\\frac{1}{10} \\, {\\left(9 \\, N^{2} + 12 \\, N - 10\\right)} {\\left(3 \\, N^{2} - 2\\right)} N^{2} \\right) \\tr X \\left( \\tr X Y \\right)^2 \\tr Y \n",
       " + \\left( \\frac{1}{10} \\, {\\left(3 \\, N^{2} + 9 \\, N - 10\\right)} {\\left(3 \\, N^{2} - 2\\right)} N^{2} \\right) \\tr X \\tr X^2 \\tr Y \\tr Y^2 \n",
       " + \\left( \\frac{3}{20} \\, {\\left(3 \\, N^{2} - 2\\right)} {\\left(2 \\, N + 1\\right)} N^{3} \\right) \\left( \\tr X \\right)^2 \\tr X Y \\tr Y^2 \n",
       " + \\left( \\frac{3}{20} \\, {\\left(3 \\, N^{2} - 2\\right)} {\\left(N + 1\\right)} N^{3} \\right) \\tr X \\tr X^2 \\left( \\tr Y \\right)^3 \n",
       " + \\left( -\\frac{3}{10} \\, {\\left(3 \\, N^{2} - 2\\right)} {\\left(N + 1\\right)} N^{3} \\right) \\left( \\tr X \\right)^2 \\tr X Y \\left( \\tr Y \\right)^2 \n",
       " + \\left( \\frac{3}{20} \\, {\\left(3 \\, N^{2} - 2\\right)} {\\left(N + 1\\right)} N^{3} \\right) \\left( \\tr X \\right)^3 \\tr Y^3 \n",
       " + \\left( \\frac{3}{20} \\, {\\left(3 \\, N^{2} - 2\\right)} {\\left(N + 1\\right)} N^{3} \\right) \\left( \\tr X \\right)^3 \\tr Y \\tr Y^2 \n",
       " + \\left( \\frac{1}{20} \\, {\\left(9 \\, N^{3} + 15 \\, N^{2} - 30 \\, N + 20\\right)} {\\left(3 \\, N^{2} - 2\\right)} N \\right) \\tr X^2 \\tr X Y^2 \\tr Y \n",
       " + \\left( \\frac{1}{20} \\, {\\left(3 \\, N^{3} + 15 \\, N^{2} - 30 \\, N + 20\\right)} {\\left(3 \\, N^{2} - 2\\right)} N \\right) \\tr X \\tr X^2 \\tr Y^3 \n",
       "\\right] \\\\\n",
       " O_{\n",
       " \\fontsize{6pt}{0} \\begin{ytableau}\n",
       " 1 & 1 & 1 \\\\ 2 & 2 & 2 \n",
       "\\end{ytableau} \\fontsize{12pt}{0} ,\n",
       "[3, 1, 1, 1] ,\n",
       "1 } & =\n",
       " \\frac{1}{24} \\, \\sqrt{2} \\left[\n",
       " - 3 \\tr X^3 \\tr Y \\tr Y^2 \n",
       " + \\tr X^3 \\left( \\tr Y \\right)^3 \n",
       " + 6 \\tr X^2 Y \\tr X Y \\tr Y \n",
       " - 3 \\tr X^2 \\tr X Y^2 \\tr Y \n",
       " - 6 \\tr X \\tr X Y \\tr X Y^2 \n",
       " + 3 \\tr X \\tr X^2 Y \\tr Y^2 \n",
       " + 3 \\tr X \\tr X^2 \\tr Y^3 \n",
       " - 3 \\tr X \\tr X^2 Y \\left( \\tr Y \\right)^2 \n",
       " + 3 \\left( \\tr X \\right)^2 \\tr X Y^2 \\tr Y \n",
       " - \\left( \\tr X \\right)^3 \\tr Y^3 \n",
       " \\right] \\\\\n",
       " O_{\n",
       " \\fontsize{6pt}{0} \\begin{ytableau}\n",
       " 1 & 1 & 1 \\\\ 2 & 2 & 2 \n",
       "\\end{ytableau} \\fontsize{12pt}{0} ,\n",
       "[3, 2, 1] ,\n",
       "1 } & =\n",
       " \\frac{\\sqrt{3} \\sqrt{2}}{\\sqrt{N^{4} + 3 \\, N^{3} - 9 \\, N + 9}} \\left[\n",
       " \\left( \\frac{1}{24} \\, N^{2} + \\frac{1}{8} \\, N - \\frac{1}{4} \\right) \\tr X^3 \\tr Y \\tr Y^2 \n",
       " + \\left( -\\frac{1}{12} \\, N^{2} - \\frac{1}{4} \\, N + \\frac{1}{2} \\right) \\tr X^2 Y \\tr X Y \\tr Y \n",
       " + \\left( \\frac{1}{24} \\, N^{2} + \\frac{1}{8} \\, N - \\frac{1}{4} \\right) \\tr X^2 \\tr X Y^2 \\tr Y \n",
       " + \\left( \\frac{1}{12} \\, N^{2} + \\frac{1}{4} \\, N - \\frac{1}{2} \\right) \\tr X \\tr X Y \\tr X Y^2 \n",
       " + \\left( -\\frac{1}{24} \\, N^{2} - \\frac{1}{8} \\, N + \\frac{1}{4} \\right) \\tr X \\tr X^2 Y \\tr Y^2 \n",
       " + \\left( -\\frac{1}{24} \\, N^{2} - \\frac{1}{8} \\, N + \\frac{1}{4} \\right) \\tr X \\tr X^2 \\tr Y^3 \n",
       " + \\left( \\frac{1}{24} \\, {\\left(N + 1\\right)} N \\right) \\tr X^3 \\left( \\tr Y \\right)^3 \n",
       " + \\left( -\\frac{1}{8} \\, {\\left(N + 1\\right)} N \\right) \\tr X \\tr X^2 Y \\left( \\tr Y \\right)^2 \n",
       " + \\left( \\frac{1}{8} \\, {\\left(N + 1\\right)} N \\right) \\left( \\tr X \\right)^2 \\tr X Y^2 \\tr Y \n",
       " + \\left( -\\frac{1}{24} \\, {\\left(N + 1\\right)} N \\right) \\left( \\tr X \\right)^3 \\tr Y^3 \n",
       "\\right] \\\\\n",
       " \\end{align*}\n",
       " \\ytableausetup{boxsize=normal}"
      ]
     },
     "execution_count": 39,
     "metadata": {},
     "output_type": "execute_result"
    }
   ],
   "source": [
    "#Fully orthogonalised basis for field content (3,3)\n",
    "latexString(finalBasis,'O',['semi-standard tableau','partition','multiplicity'])"
   ]
  },
  {
   "cell_type": "code",
   "execution_count": 36,
   "metadata": {},
   "outputs": [
    {
     "name": "stdout",
     "output_type": "stream",
     "text": [
      "(True, [[5, 1], [2, 1, 1, 1, 1], 1], 1/((N + 1)*(N - 1)*(N - 2)*(N - 3)*(N - 4)*N), 1/((N + 1)*(N - 1)*(N - 2)*(N - 3)*(N - 4)*N))\n",
      "(True, [[5, 1], [2, 2, 1, 1], 1], 1/((N + 1)*(N - 1)*(N - 2)*(N - 3)*N^2), 1/((N + 1)*(N - 1)*(N - 2)*(N - 3)*N^2))\n",
      "(True, [[5, 1], [3, 1, 1, 1], 1], 1/((N + 2)*(N + 1)*(N - 1)*(N - 2)*(N - 3)*N), 1/((N + 2)*(N + 1)*(N - 1)*(N - 2)*(N - 3)*N))\n",
      "(True, [[5, 1], [3, 2, 1], 1], 1/((N + 2)*(N + 1)*(N - 1)*(N - 2)*N^2), 1/((N + 2)*(N + 1)*(N - 1)*(N - 2)*N^2))\n",
      "(True, [[5, 1], [3, 2, 1], 2], 1/((N + 2)*(N + 1)*(N - 1)*(N - 2)*N^2), 1/((N + 2)*(N + 1)*(N - 1)*(N - 2)*N^2))\n",
      "(True, [[5, 1], [4, 1, 1], 1], 1/((N + 3)*(N + 2)*(N + 1)*(N - 1)*(N - 2)*N), 1/((N + 3)*(N + 2)*(N + 1)*(N - 1)*(N - 2)*N))\n",
      "(True, [[5, 1], [4, 2], 1], 1/((N + 3)*(N + 2)*(N + 1)*(N - 1)*N^2), 1/((N + 3)*(N + 2)*(N + 1)*(N - 1)*N^2))\n",
      "(True, [[5, 1], [5, 1], 1], 1/((N + 4)*(N + 3)*(N + 2)*(N + 1)*(N - 1)*N), 1/((N + 4)*(N + 3)*(N + 2)*(N + 1)*(N - 1)*N))\n"
     ]
    }
   ],
   "source": [
    "#Checking [n-1,1] orthogonalisation for field content (4,2)\n",
    "n=6\n",
    "for lbl, op in finalBasis:\n",
    "    if lbl[0] == [n-1,1]:\n",
    "        p = lbl[1]\n",
    "        norm = 1\n",
    "        for i in range(len(p)):\n",
    "            for j in range(p[i]):\n",
    "                norm *= 1/(N-i+j)\n",
    "        calculatedNorm = calculator.calculate(op,op,'G')\n",
    "        matching = [Rational(norm(N=n+i)) == Rational(calculatedNorm(N=n+i)) for i in range(n+1)]\n",
    "            \n",
    "        print(all(matching),lbl,norm,calculatedNorm )"
   ]
  },
  {
   "cell_type": "code",
   "execution_count": 42,
   "metadata": {
    "scrolled": true
   },
   "outputs": [
    {
     "name": "stdout",
     "output_type": "stream",
     "text": [
      "(True, [[6, 1], [2, 1, 1, 1, 1, 1], 1], 1/((N + 1)*(N - 1)*(N - 2)*(N - 3)*(N - 4)*(N - 5)*N), 1/((N + 1)*(N - 1)*(N - 2)*(N - 3)*(N - 4)*(N - 5)*N))\n",
      "(True, [[6, 1], [2, 2, 1, 1, 1], 1], 1/((N + 1)*(N - 1)*(N - 2)*(N - 3)*(N - 4)*N^2), 1/((N + 1)*(N - 1)*(N - 2)*(N - 3)*(N - 4)*N^2))\n",
      "(True, [[6, 1], [3, 1, 1, 1, 1], 1], 1/((N + 2)*(N + 1)*(N - 1)*(N - 2)*(N - 3)*(N - 4)*N), 1/((N + 2)*(N + 1)*(N - 1)*(N - 2)*(N - 3)*(N - 4)*N))\n",
      "(True, [[6, 1], [2, 2, 2, 1], 1], 1/((N + 1)*(N - 1)^2*(N - 2)*(N - 3)*N^2), 1/((N + 1)*(N - 1)^2*(N - 2)*(N - 3)*N^2))\n",
      "(True, [[6, 1], [3, 2, 1, 1], 1], 1/((N + 2)*(N + 1)*(N - 1)*(N - 2)*(N - 3)*N^2), 1/((N + 2)*(N + 1)*(N - 1)*(N - 2)*(N - 3)*N^2))\n",
      "(True, [[6, 1], [3, 2, 1, 1], 2], 1/((N + 2)*(N + 1)*(N - 1)*(N - 2)*(N - 3)*N^2), 1/((N + 2)*(N + 1)*(N - 1)*(N - 2)*(N - 3)*N^2))\n",
      "(True, [[6, 1], [4, 1, 1, 1], 1], 1/((N + 3)*(N + 2)*(N + 1)*(N - 1)*(N - 2)*(N - 3)*N), 1/((N + 3)*(N + 2)*(N + 1)*(N - 1)*(N - 2)*(N - 3)*N))\n",
      "(True, [[6, 1], [3, 2, 2], 1], 1/((N + 2)*(N + 1)*(N - 1)^2*(N - 2)*N^2), 1/((N + 2)*(N + 1)*(N - 1)^2*(N - 2)*N^2))\n",
      "(True, [[6, 1], [3, 3, 1], 1], 1/((N + 2)*(N + 1)^2*(N - 1)*(N - 2)*N^2), 1/((N + 2)*(N + 1)^2*(N - 1)*(N - 2)*N^2))\n",
      "(True, [[6, 1], [4, 2, 1], 1], 1/((N + 3)*(N + 2)*(N + 1)*(N - 1)*(N - 2)*N^2), 1/((N + 3)*(N + 2)*(N + 1)*(N - 1)*(N - 2)*N^2))\n",
      "(True, [[6, 1], [4, 2, 1], 2], 1/((N + 3)*(N + 2)*(N + 1)*(N - 1)*(N - 2)*N^2), 1/((N + 3)*(N + 2)*(N + 1)*(N - 1)*(N - 2)*N^2))\n",
      "(True, [[6, 1], [5, 1, 1], 1], 1/((N + 4)*(N + 3)*(N + 2)*(N + 1)*(N - 1)*(N - 2)*N), 1/((N + 4)*(N + 3)*(N + 2)*(N + 1)*(N - 1)*(N - 2)*N))\n",
      "(True, [[6, 1], [4, 3], 1], 1/((N + 3)*(N + 2)*(N + 1)^2*(N - 1)*N^2), 1/((N + 3)*(N + 2)*(N + 1)^2*(N - 1)*N^2))\n",
      "(True, [[6, 1], [5, 2], 1], 1/((N + 4)*(N + 3)*(N + 2)*(N + 1)*(N - 1)*N^2), 1/((N + 4)*(N + 3)*(N + 2)*(N + 1)*(N - 1)*N^2))\n",
      "(True, [[6, 1], [6, 1], 1], 1/((N + 5)*(N + 4)*(N + 3)*(N + 2)*(N + 1)*(N - 1)*N), 1/((N + 5)*(N + 4)*(N + 3)*(N + 2)*(N + 1)*(N - 1)*N))\n"
     ]
    }
   ],
   "source": [
    "#Checking [n-1,1] orthogonalisation for field content (6,1)\n",
    "n=7\n",
    "for lbl, op in finalBasis:\n",
    "    if lbl[0] == [n-1,1]:\n",
    "        p = lbl[1]\n",
    "        norm = 1\n",
    "        for i in range(len(p)):\n",
    "            for j in range(p[i]):\n",
    "                norm *= 1/(N-i+j)\n",
    "        calculatedNorm = calculator.calculate(op,op,'G')\n",
    "        matching = [Rational(norm(N=n+i)) == Rational(calculatedNorm(N=n+i)) for i in range(n+1)]\n",
    "            \n",
    "        print(all(matching),lbl,norm,calculatedNorm )"
   ]
  },
  {
   "cell_type": "code",
   "execution_count": null,
   "metadata": {},
   "outputs": [],
   "source": [
    "#Checking [n-1,1] orthogonalisation for field content (7,1)\n",
    "n=8\n",
    "for lbl, op in finalBasis:\n",
    "    if lbl[0] == [n-1,1]:\n",
    "        p = lbl[1]\n",
    "        norm = 1\n",
    "        for i in range(len(p)):\n",
    "            for j in range(p[i]):\n",
    "                norm *= 1/(N-i+j)\n",
    "        calculatedNorm = calculator.calculate(op,op,'G')\n",
    "        matching = [Rational(norm(N=n+i)) == Rational(calculatedNorm(N=n+i)) for i in range(n+1)]\n",
    "            \n",
    "        print(all(matching),lbl,norm,calculatedNorm )"
   ]
  },
  {
   "cell_type": "code",
   "execution_count": 204,
   "metadata": {
    "collapsed": true
   },
   "outputs": [
    {
     "ename": "KeyboardInterrupt",
     "evalue": "",
     "output_type": "error",
     "traceback": [
      "\u001b[0;31m---------------------------------------------------------------------------\u001b[0m",
      "\u001b[0;31mKeyboardInterrupt\u001b[0m                         Traceback (most recent call last)",
      "\u001b[0;32m<ipython-input-204-45dea74417cb>\u001b[0m in \u001b[0;36m<module>\u001b[0;34m()\u001b[0m\n\u001b[0;32m----> 1\u001b[0;31m \u001b[0mcalculator33\u001b[0m\u001b[0;34m.\u001b[0m\u001b[0mcalculate\u001b[0m\u001b[0;34m(\u001b[0m\u001b[0mbasis33\u001b[0m\u001b[0;34m,\u001b[0m \u001b[0mbasis33\u001b[0m\u001b[0;34m,\u001b[0m \u001b[0;34m'G'\u001b[0m\u001b[0;34m)\u001b[0m\u001b[0;34m\u001b[0m\u001b[0m\n\u001b[0m",
      "\u001b[0;32m<ipython-input-1-acfad3e8f396>\u001b[0m in \u001b[0;36mcalculate\u001b[0;34m(self, input1, input2, correlatorType)\u001b[0m\n\u001b[1;32m    381\u001b[0m \u001b[0;34m\u001b[0m\u001b[0m\n\u001b[1;32m    382\u001b[0m         \u001b[0;32mif\u001b[0m \u001b[0misinstance\u001b[0m\u001b[0;34m(\u001b[0m\u001b[0minput2\u001b[0m\u001b[0;34m,\u001b[0m \u001b[0mBasis\u001b[0m\u001b[0;34m)\u001b[0m\u001b[0;34m:\u001b[0m\u001b[0;34m\u001b[0m\u001b[0m\n\u001b[0;32m--> 383\u001b[0;31m             \u001b[0;32mreturn\u001b[0m \u001b[0;34m[\u001b[0m \u001b[0mself\u001b[0m\u001b[0;34m.\u001b[0m\u001b[0mcalculate\u001b[0m\u001b[0;34m(\u001b[0m\u001b[0minput1\u001b[0m\u001b[0;34m,\u001b[0m \u001b[0mop\u001b[0m\u001b[0;34m,\u001b[0m \u001b[0mcorrelatorType\u001b[0m\u001b[0;34m)\u001b[0m \u001b[0;32mfor\u001b[0m \u001b[0mop\u001b[0m \u001b[0;32min\u001b[0m \u001b[0minput2\u001b[0m \u001b[0;34m]\u001b[0m\u001b[0;34m\u001b[0m\u001b[0m\n\u001b[0m\u001b[1;32m    384\u001b[0m \u001b[0;34m\u001b[0m\u001b[0m\n\u001b[1;32m    385\u001b[0m         \u001b[0;32mif\u001b[0m \u001b[0misinstance\u001b[0m\u001b[0;34m(\u001b[0m\u001b[0minput1\u001b[0m\u001b[0;34m,\u001b[0m \u001b[0mBasis\u001b[0m\u001b[0;34m)\u001b[0m\u001b[0;34m:\u001b[0m\u001b[0;34m\u001b[0m\u001b[0m\n",
      "\u001b[0;32m<ipython-input-1-acfad3e8f396>\u001b[0m in \u001b[0;36mcalculate\u001b[0;34m(self, input1, input2, correlatorType)\u001b[0m\n\u001b[1;32m    384\u001b[0m \u001b[0;34m\u001b[0m\u001b[0m\n\u001b[1;32m    385\u001b[0m         \u001b[0;32mif\u001b[0m \u001b[0misinstance\u001b[0m\u001b[0;34m(\u001b[0m\u001b[0minput1\u001b[0m\u001b[0;34m,\u001b[0m \u001b[0mBasis\u001b[0m\u001b[0;34m)\u001b[0m\u001b[0;34m:\u001b[0m\u001b[0;34m\u001b[0m\u001b[0m\n\u001b[0;32m--> 386\u001b[0;31m             \u001b[0;32mreturn\u001b[0m \u001b[0;34m[\u001b[0m \u001b[0mself\u001b[0m\u001b[0;34m.\u001b[0m\u001b[0mcalculate\u001b[0m\u001b[0;34m(\u001b[0m\u001b[0mop\u001b[0m\u001b[0;34m,\u001b[0m \u001b[0minput2\u001b[0m\u001b[0;34m,\u001b[0m \u001b[0mcorrelatorType\u001b[0m\u001b[0;34m)\u001b[0m \u001b[0;32mfor\u001b[0m \u001b[0mop\u001b[0m \u001b[0;32min\u001b[0m \u001b[0minput1\u001b[0m \u001b[0;34m]\u001b[0m\u001b[0;34m\u001b[0m\u001b[0m\n\u001b[0m\u001b[1;32m    387\u001b[0m \u001b[0;34m\u001b[0m\u001b[0m\n\u001b[1;32m    388\u001b[0m         \u001b[0mcorr\u001b[0m \u001b[0;34m=\u001b[0m \u001b[0mInteger\u001b[0m\u001b[0;34m(\u001b[0m\u001b[0;36m0\u001b[0m\u001b[0;34m)\u001b[0m\u001b[0;34m\u001b[0m\u001b[0m\n",
      "\u001b[0;32m<ipython-input-1-acfad3e8f396>\u001b[0m in \u001b[0;36mcalculate\u001b[0;34m(self, input1, input2, correlatorType)\u001b[0m\n\u001b[1;32m    390\u001b[0m         \u001b[0;32mif\u001b[0m \u001b[0misinstance\u001b[0m\u001b[0;34m(\u001b[0m\u001b[0minput2\u001b[0m\u001b[0;34m,\u001b[0m \u001b[0mOperator\u001b[0m\u001b[0;34m)\u001b[0m\u001b[0;34m:\u001b[0m\u001b[0;34m\u001b[0m\u001b[0m\n\u001b[1;32m    391\u001b[0m             \u001b[0;32mfor\u001b[0m \u001b[0mcf\u001b[0m\u001b[0;34m,\u001b[0m \u001b[0mtr\u001b[0m \u001b[0;32min\u001b[0m \u001b[0minput2\u001b[0m\u001b[0;34m:\u001b[0m\u001b[0;34m\u001b[0m\u001b[0m\n\u001b[0;32m--> 392\u001b[0;31m                 \u001b[0mcorr\u001b[0m \u001b[0;34m+=\u001b[0m \u001b[0mcf\u001b[0m \u001b[0;34m*\u001b[0m \u001b[0mself\u001b[0m\u001b[0;34m.\u001b[0m\u001b[0mcalculate\u001b[0m\u001b[0;34m(\u001b[0m\u001b[0minput1\u001b[0m\u001b[0;34m,\u001b[0m \u001b[0mtr\u001b[0m\u001b[0;34m,\u001b[0m \u001b[0mcorrelatorType\u001b[0m\u001b[0;34m)\u001b[0m\u001b[0;34m\u001b[0m\u001b[0m\n\u001b[0m\u001b[1;32m    393\u001b[0m             \u001b[0;32mif\u001b[0m \u001b[0mcorrelatorType\u001b[0m \u001b[0;32min\u001b[0m \u001b[0;34m[\u001b[0m\u001b[0;34m'F'\u001b[0m\u001b[0;34m,\u001b[0m\u001b[0;34m'G'\u001b[0m\u001b[0;34m]\u001b[0m\u001b[0;34m:\u001b[0m\u001b[0;34m\u001b[0m\u001b[0m\n\u001b[1;32m    394\u001b[0m                 \u001b[0;32mreturn\u001b[0m \u001b[0mcorr\u001b[0m\u001b[0;34m.\u001b[0m\u001b[0mcanonicalize_radical\u001b[0m\u001b[0;34m(\u001b[0m\u001b[0;34m)\u001b[0m\u001b[0;34m.\u001b[0m\u001b[0mfactor\u001b[0m\u001b[0;34m(\u001b[0m\u001b[0;34m)\u001b[0m\u001b[0;34m\u001b[0m\u001b[0m\n",
      "\u001b[0;32m<ipython-input-1-acfad3e8f396>\u001b[0m in \u001b[0;36mcalculate\u001b[0;34m(self, input1, input2, correlatorType)\u001b[0m\n\u001b[1;32m    397\u001b[0m         \u001b[0;32mif\u001b[0m \u001b[0misinstance\u001b[0m\u001b[0;34m(\u001b[0m\u001b[0minput1\u001b[0m\u001b[0;34m,\u001b[0m \u001b[0mOperator\u001b[0m\u001b[0;34m)\u001b[0m\u001b[0;34m:\u001b[0m\u001b[0;34m\u001b[0m\u001b[0m\n\u001b[1;32m    398\u001b[0m             \u001b[0;32mfor\u001b[0m \u001b[0mcf\u001b[0m\u001b[0;34m,\u001b[0m \u001b[0mtr\u001b[0m \u001b[0;32min\u001b[0m \u001b[0minput1\u001b[0m\u001b[0;34m:\u001b[0m\u001b[0;34m\u001b[0m\u001b[0m\n\u001b[0;32m--> 399\u001b[0;31m                 \u001b[0mcorr\u001b[0m \u001b[0;34m+=\u001b[0m \u001b[0mcf\u001b[0m \u001b[0;34m*\u001b[0m \u001b[0mself\u001b[0m\u001b[0;34m.\u001b[0m\u001b[0mcalculate\u001b[0m\u001b[0;34m(\u001b[0m\u001b[0mtr\u001b[0m\u001b[0;34m,\u001b[0m \u001b[0minput2\u001b[0m\u001b[0;34m,\u001b[0m \u001b[0mcorrelatorType\u001b[0m\u001b[0;34m)\u001b[0m\u001b[0;34m\u001b[0m\u001b[0m\n\u001b[0m\u001b[1;32m    400\u001b[0m             \u001b[0;32mif\u001b[0m \u001b[0mcorrelatorType\u001b[0m \u001b[0;32min\u001b[0m \u001b[0;34m[\u001b[0m\u001b[0;34m'F'\u001b[0m\u001b[0;34m,\u001b[0m\u001b[0;34m'G'\u001b[0m\u001b[0;34m]\u001b[0m\u001b[0;34m:\u001b[0m\u001b[0;34m\u001b[0m\u001b[0m\n\u001b[1;32m    401\u001b[0m                 \u001b[0;32mreturn\u001b[0m \u001b[0mcorr\u001b[0m\u001b[0;34m.\u001b[0m\u001b[0mcanonicalize_radical\u001b[0m\u001b[0;34m(\u001b[0m\u001b[0;34m)\u001b[0m\u001b[0;34m.\u001b[0m\u001b[0mfactor\u001b[0m\u001b[0;34m(\u001b[0m\u001b[0;34m)\u001b[0m\u001b[0;34m\u001b[0m\u001b[0m\n",
      "\u001b[0;32m<ipython-input-1-acfad3e8f396>\u001b[0m in \u001b[0;36mcalculate\u001b[0;34m(self, input1, input2, correlatorType)\u001b[0m\n\u001b[1;32m    428\u001b[0m                 \u001b[0;32mfor\u001b[0m \u001b[0mh\u001b[0m \u001b[0;32min\u001b[0m \u001b[0mself\u001b[0m\u001b[0;34m.\u001b[0m\u001b[0mH\u001b[0m\u001b[0;34m:\u001b[0m\u001b[0;34m\u001b[0m\u001b[0m\n\u001b[1;32m    429\u001b[0m                     \u001b[0mindex\u001b[0m \u001b[0;34m=\u001b[0m \u001b[0mself\u001b[0m\u001b[0;34m.\u001b[0m\u001b[0mcycleType\u001b[0m\u001b[0;34m.\u001b[0m\u001b[0mindex\u001b[0m\u001b[0;34m(\u001b[0m \u001b[0;34m(\u001b[0m\u001b[0mperm1inv\u001b[0m \u001b[0;34m*\u001b[0m \u001b[0mh\u001b[0m \u001b[0;34m*\u001b[0m \u001b[0minput2\u001b[0m\u001b[0;34m.\u001b[0m\u001b[0mpermutation\u001b[0m \u001b[0;34m*\u001b[0m \u001b[0mh\u001b[0m\u001b[0;34m.\u001b[0m\u001b[0minverse\u001b[0m\u001b[0;34m(\u001b[0m\u001b[0;34m)\u001b[0m\u001b[0;34m)\u001b[0m\u001b[0;34m.\u001b[0m\u001b[0mcycle_type\u001b[0m\u001b[0;34m(\u001b[0m\u001b[0;34m)\u001b[0m \u001b[0;34m)\u001b[0m\u001b[0;34m\u001b[0m\u001b[0m\n\u001b[0;32m--> 430\u001b[0;31m                     \u001b[0mcorr\u001b[0m \u001b[0;34m+=\u001b[0m \u001b[0msum\u001b[0m\u001b[0;34m(\u001b[0m\u001b[0;34m[\u001b[0m\u001b[0mself\u001b[0m\u001b[0;34m.\u001b[0m\u001b[0mGcoefficients\u001b[0m\u001b[0;34m[\u001b[0m\u001b[0mi\u001b[0m\u001b[0;34m]\u001b[0m \u001b[0;34m*\u001b[0m \u001b[0mself\u001b[0m\u001b[0;34m.\u001b[0m\u001b[0mcharacterTable\u001b[0m\u001b[0;34m[\u001b[0m\u001b[0mi\u001b[0m\u001b[0;34m]\u001b[0m\u001b[0;34m[\u001b[0m\u001b[0mindex\u001b[0m\u001b[0;34m]\u001b[0m \u001b[0;32mfor\u001b[0m \u001b[0mi\u001b[0m \u001b[0;32min\u001b[0m \u001b[0mrange\u001b[0m\u001b[0;34m(\u001b[0m\u001b[0mself\u001b[0m\u001b[0;34m.\u001b[0m\u001b[0mccNo\u001b[0m\u001b[0;34m)\u001b[0m\u001b[0;34m]\u001b[0m\u001b[0;34m)\u001b[0m\u001b[0;34m\u001b[0m\u001b[0m\n\u001b[0m\u001b[1;32m    431\u001b[0m                 \u001b[0mcorr\u001b[0m \u001b[0;34m=\u001b[0m \u001b[0mcorr\u001b[0m\u001b[0;34m.\u001b[0m\u001b[0mfactor\u001b[0m\u001b[0;34m(\u001b[0m\u001b[0;34m)\u001b[0m\u001b[0;34m\u001b[0m\u001b[0m\n\u001b[1;32m    432\u001b[0m \u001b[0;34m\u001b[0m\u001b[0m\n",
      "\u001b[0;32m/opt/sagemath-8.6/local/lib/python2.7/site-packages/sage/structure/element.pyx\u001b[0m in \u001b[0;36msage.structure.element.Element.__mul__ (build/cythonized/sage/structure/element.c:12058)\u001b[0;34m()\u001b[0m\n\u001b[1;32m   1517\u001b[0m             \u001b[0;32mreturn\u001b[0m \u001b[0;34m(\u001b[0m\u001b[0;34m<\u001b[0m\u001b[0mElement\u001b[0m\u001b[0;34m>\u001b[0m\u001b[0mleft\u001b[0m\u001b[0;34m)\u001b[0m\u001b[0;34m.\u001b[0m\u001b[0m_mul_\u001b[0m\u001b[0;34m(\u001b[0m\u001b[0mright\u001b[0m\u001b[0;34m)\u001b[0m\u001b[0;34m\u001b[0m\u001b[0m\n\u001b[1;32m   1518\u001b[0m         \u001b[0;32mif\u001b[0m \u001b[0mBOTH_ARE_ELEMENT\u001b[0m\u001b[0;34m(\u001b[0m\u001b[0mcl\u001b[0m\u001b[0;34m)\u001b[0m\u001b[0;34m:\u001b[0m\u001b[0;34m\u001b[0m\u001b[0m\n\u001b[0;32m-> 1519\u001b[0;31m             \u001b[0;32mreturn\u001b[0m \u001b[0mcoercion_model\u001b[0m\u001b[0;34m.\u001b[0m\u001b[0mbin_op\u001b[0m\u001b[0;34m(\u001b[0m\u001b[0mleft\u001b[0m\u001b[0;34m,\u001b[0m \u001b[0mright\u001b[0m\u001b[0;34m,\u001b[0m \u001b[0mmul\u001b[0m\u001b[0;34m)\u001b[0m\u001b[0;34m\u001b[0m\u001b[0m\n\u001b[0m\u001b[1;32m   1520\u001b[0m \u001b[0;34m\u001b[0m\u001b[0m\n\u001b[1;32m   1521\u001b[0m         \u001b[0mcdef\u001b[0m \u001b[0mlong\u001b[0m \u001b[0mvalue\u001b[0m\u001b[0;34m\u001b[0m\u001b[0m\n",
      "\u001b[0;32m/opt/sagemath-8.6/local/lib/python2.7/site-packages/sage/structure/coerce.pyx\u001b[0m in \u001b[0;36msage.structure.coerce.CoercionModel_cache_maps.bin_op (build/cythonized/sage/structure/coerce.c:9589)\u001b[0;34m()\u001b[0m\n\u001b[1;32m   1161\u001b[0m         \u001b[0;31m# Now coerce to a common parent and do the operation there\u001b[0m\u001b[0;34m\u001b[0m\u001b[0;34m\u001b[0m\u001b[0m\n\u001b[1;32m   1162\u001b[0m         \u001b[0;32mtry\u001b[0m\u001b[0;34m:\u001b[0m\u001b[0;34m\u001b[0m\u001b[0m\n\u001b[0;32m-> 1163\u001b[0;31m             \u001b[0mxy\u001b[0m \u001b[0;34m=\u001b[0m \u001b[0mself\u001b[0m\u001b[0;34m.\u001b[0m\u001b[0mcanonical_coercion\u001b[0m\u001b[0;34m(\u001b[0m\u001b[0mx\u001b[0m\u001b[0;34m,\u001b[0m \u001b[0my\u001b[0m\u001b[0;34m)\u001b[0m\u001b[0;34m\u001b[0m\u001b[0m\n\u001b[0m\u001b[1;32m   1164\u001b[0m         \u001b[0;32mexcept\u001b[0m \u001b[0mTypeError\u001b[0m\u001b[0;34m:\u001b[0m\u001b[0;34m\u001b[0m\u001b[0m\n\u001b[1;32m   1165\u001b[0m             \u001b[0mself\u001b[0m\u001b[0;34m.\u001b[0m\u001b[0m_record_exception\u001b[0m\u001b[0;34m(\u001b[0m\u001b[0;34m)\u001b[0m\u001b[0;34m\u001b[0m\u001b[0m\n",
      "\u001b[0;32m/opt/sagemath-8.6/local/lib/python2.7/site-packages/sage/structure/coerce.pyx\u001b[0m in \u001b[0;36msage.structure.coerce.CoercionModel_cache_maps.canonical_coercion (build/cythonized/sage/structure/coerce.c:11105)\u001b[0;34m()\u001b[0m\n\u001b[1;32m   1276\u001b[0m                 \u001b[0mx_elt\u001b[0m \u001b[0;34m=\u001b[0m \u001b[0mx\u001b[0m\u001b[0;34m\u001b[0m\u001b[0m\n\u001b[1;32m   1277\u001b[0m             \u001b[0;32mif\u001b[0m \u001b[0my_map\u001b[0m \u001b[0;32mis\u001b[0m \u001b[0;32mnot\u001b[0m \u001b[0mNone\u001b[0m\u001b[0;34m:\u001b[0m\u001b[0;34m\u001b[0m\u001b[0m\n\u001b[0;32m-> 1278\u001b[0;31m                 \u001b[0my_elt\u001b[0m \u001b[0;34m=\u001b[0m \u001b[0;34m(\u001b[0m\u001b[0;34m<\u001b[0m\u001b[0mMap\u001b[0m\u001b[0;34m>\u001b[0m\u001b[0my_map\u001b[0m\u001b[0;34m)\u001b[0m\u001b[0;34m.\u001b[0m\u001b[0m_call_\u001b[0m\u001b[0;34m(\u001b[0m\u001b[0my\u001b[0m\u001b[0;34m)\u001b[0m\u001b[0;34m\u001b[0m\u001b[0m\n\u001b[0m\u001b[1;32m   1279\u001b[0m             \u001b[0;32melse\u001b[0m\u001b[0;34m:\u001b[0m\u001b[0;34m\u001b[0m\u001b[0m\n\u001b[1;32m   1280\u001b[0m                 \u001b[0my_elt\u001b[0m \u001b[0;34m=\u001b[0m \u001b[0my\u001b[0m\u001b[0;34m\u001b[0m\u001b[0m\n",
      "\u001b[0;32m/opt/sagemath-8.6/local/lib/python2.7/site-packages/sage/structure/coerce_maps.pyx\u001b[0m in \u001b[0;36msage.structure.coerce_maps.NamedConvertMap._call_ (build/cythonized/sage/structure/coerce_maps.c:6053)\u001b[0;34m()\u001b[0m\n\u001b[1;32m    286\u001b[0m             \u001b[0;32mraise\u001b[0m \u001b[0mTypeError\u001b[0m\u001b[0;34m(\u001b[0m\u001b[0;34m\"Cannot coerce {} to {}\"\u001b[0m\u001b[0;34m.\u001b[0m\u001b[0mformat\u001b[0m\u001b[0;34m(\u001b[0m\u001b[0mx\u001b[0m\u001b[0;34m,\u001b[0m \u001b[0mC\u001b[0m\u001b[0;34m)\u001b[0m\u001b[0;34m)\u001b[0m\u001b[0;34m\u001b[0m\u001b[0m\n\u001b[1;32m    287\u001b[0m         \u001b[0mcdef\u001b[0m \u001b[0mMap\u001b[0m \u001b[0mm\u001b[0m\u001b[0;34m\u001b[0m\u001b[0m\n\u001b[0;32m--> 288\u001b[0;31m         \u001b[0mcdef\u001b[0m \u001b[0mElement\u001b[0m \u001b[0me\u001b[0m \u001b[0;34m=\u001b[0m \u001b[0mmethod\u001b[0m\u001b[0;34m(\u001b[0m\u001b[0mC\u001b[0m\u001b[0;34m)\u001b[0m\u001b[0;34m\u001b[0m\u001b[0m\n\u001b[0m\u001b[1;32m    289\u001b[0m         \u001b[0;32mif\u001b[0m \u001b[0me\u001b[0m \u001b[0;32mis\u001b[0m \u001b[0mNone\u001b[0m\u001b[0;34m:\u001b[0m\u001b[0;34m\u001b[0m\u001b[0m\n\u001b[1;32m    290\u001b[0m             \u001b[0;32mraise\u001b[0m \u001b[0mRuntimeError\u001b[0m\u001b[0;34m(\u001b[0m\u001b[0;34m\"BUG in coercion model: {} method of {} returned None\"\u001b[0m\u001b[0;34m.\u001b[0m\u001b[0mformat\u001b[0m\u001b[0;34m(\u001b[0m\u001b[0mself\u001b[0m\u001b[0;34m.\u001b[0m\u001b[0mmethod_name\u001b[0m\u001b[0;34m,\u001b[0m \u001b[0mtype\u001b[0m\u001b[0;34m(\u001b[0m\u001b[0mx\u001b[0m\u001b[0;34m)\u001b[0m\u001b[0;34m)\u001b[0m\u001b[0;34m)\u001b[0m\u001b[0;34m\u001b[0m\u001b[0m\n",
      "\u001b[0;32m/opt/sagemath-8.6/local/lib/python2.7/site-packages/sage/rings/number_field/number_field_element.pyx\u001b[0m in \u001b[0;36msage.rings.number_field.number_field_element.NumberFieldElement._symbolic_ (build/cythonized/sage/rings/number_field/number_field_element.cpp:24913)\u001b[0;34m()\u001b[0m\n\u001b[1;32m   2811\u001b[0m             \u001b[0mCC\u001b[0m \u001b[0;34m=\u001b[0m \u001b[0mComplexField\u001b[0m\u001b[0;34m(\u001b[0m\u001b[0;36m53\u001b[0m\u001b[0;34m)\u001b[0m\u001b[0;34m\u001b[0m\u001b[0m\n\u001b[1;32m   2812\u001b[0m             \u001b[0mtwo_pi_i\u001b[0m \u001b[0;34m=\u001b[0m \u001b[0;36m2\u001b[0m \u001b[0;34m*\u001b[0m \u001b[0mpi\u001b[0m \u001b[0;34m*\u001b[0m \u001b[0mI\u001b[0m\u001b[0;34m\u001b[0m\u001b[0m\n\u001b[0;32m-> 2813\u001b[0;31m             \u001b[0mk\u001b[0m \u001b[0;34m=\u001b[0m \u001b[0;34m(\u001b[0m \u001b[0mK\u001b[0m\u001b[0;34m.\u001b[0m\u001b[0m_n\u001b[0m\u001b[0;34m(\u001b[0m\u001b[0;34m)\u001b[0m\u001b[0;34m*\u001b[0m\u001b[0mCC\u001b[0m\u001b[0;34m(\u001b[0m\u001b[0mK\u001b[0m\u001b[0;34m.\u001b[0m\u001b[0mgen\u001b[0m\u001b[0;34m(\u001b[0m\u001b[0;34m)\u001b[0m\u001b[0;34m)\u001b[0m\u001b[0;34m.\u001b[0m\u001b[0mlog\u001b[0m\u001b[0;34m(\u001b[0m\u001b[0;34m)\u001b[0m \u001b[0;34m/\u001b[0m \u001b[0mCC\u001b[0m\u001b[0;34m(\u001b[0m\u001b[0mtwo_pi_i\u001b[0m\u001b[0;34m)\u001b[0m \u001b[0;34m)\u001b[0m\u001b[0;34m.\u001b[0m\u001b[0mreal\u001b[0m\u001b[0;34m(\u001b[0m\u001b[0;34m)\u001b[0m\u001b[0;34m.\u001b[0m\u001b[0mround\u001b[0m\u001b[0;34m(\u001b[0m\u001b[0;34m)\u001b[0m \u001b[0;31m# n ln z / (2 pi i)\u001b[0m\u001b[0;34m\u001b[0m\u001b[0m\n\u001b[0m\u001b[1;32m   2814\u001b[0m             \u001b[0mgen_image\u001b[0m \u001b[0;34m=\u001b[0m \u001b[0mexp\u001b[0m\u001b[0;34m(\u001b[0m\u001b[0mk\u001b[0m\u001b[0;34m*\u001b[0m\u001b[0mtwo_pi_i\u001b[0m\u001b[0;34m/\u001b[0m\u001b[0mK\u001b[0m\u001b[0;34m.\u001b[0m\u001b[0m_n\u001b[0m\u001b[0;34m(\u001b[0m\u001b[0;34m)\u001b[0m\u001b[0;34m)\u001b[0m\u001b[0;34m\u001b[0m\u001b[0m\n\u001b[1;32m   2815\u001b[0m             \u001b[0;32mreturn\u001b[0m \u001b[0mself\u001b[0m\u001b[0;34m.\u001b[0m\u001b[0mpolynomial\u001b[0m\u001b[0;34m(\u001b[0m\u001b[0;34m)\u001b[0m\u001b[0;34m(\u001b[0m\u001b[0mgen_image\u001b[0m\u001b[0;34m)\u001b[0m\u001b[0;34m\u001b[0m\u001b[0m\n",
      "\u001b[0;32m/opt/sagemath-8.6/local/lib/python2.7/site-packages/sage/rings/complex_field.py\u001b[0m in \u001b[0;36m__call__\u001b[0;34m(self, x, im)\u001b[0m\n\u001b[1;32m    379\u001b[0m         \u001b[0;32mif\u001b[0m \u001b[0mim\u001b[0m \u001b[0;32mis\u001b[0m \u001b[0;32mnot\u001b[0m \u001b[0mNone\u001b[0m\u001b[0;34m:\u001b[0m\u001b[0;34m\u001b[0m\u001b[0m\n\u001b[1;32m    380\u001b[0m             \u001b[0mx\u001b[0m \u001b[0;34m=\u001b[0m \u001b[0mx\u001b[0m\u001b[0;34m,\u001b[0m \u001b[0mim\u001b[0m\u001b[0;34m\u001b[0m\u001b[0m\n\u001b[0;32m--> 381\u001b[0;31m         \u001b[0;32mreturn\u001b[0m \u001b[0mParent\u001b[0m\u001b[0;34m.\u001b[0m\u001b[0m__call__\u001b[0m\u001b[0;34m(\u001b[0m\u001b[0mself\u001b[0m\u001b[0;34m,\u001b[0m \u001b[0mx\u001b[0m\u001b[0;34m)\u001b[0m\u001b[0;34m\u001b[0m\u001b[0m\n\u001b[0m\u001b[1;32m    382\u001b[0m \u001b[0;34m\u001b[0m\u001b[0m\n\u001b[1;32m    383\u001b[0m     \u001b[0;32mdef\u001b[0m \u001b[0m_element_constructor_\u001b[0m\u001b[0;34m(\u001b[0m\u001b[0mself\u001b[0m\u001b[0;34m,\u001b[0m \u001b[0mx\u001b[0m\u001b[0;34m)\u001b[0m\u001b[0;34m:\u001b[0m\u001b[0;34m\u001b[0m\u001b[0m\n",
      "\u001b[0;32m/opt/sagemath-8.6/local/lib/python2.7/site-packages/sage/structure/parent.pyx\u001b[0m in \u001b[0;36msage.structure.parent.Parent.__call__ (build/cythonized/sage/structure/parent.c:9237)\u001b[0;34m()\u001b[0m\n\u001b[1;32m    887\u001b[0m         \u001b[0;32mif\u001b[0m \u001b[0mmor\u001b[0m \u001b[0;32mis\u001b[0m \u001b[0;32mnot\u001b[0m \u001b[0mNone\u001b[0m\u001b[0;34m:\u001b[0m\u001b[0;34m\u001b[0m\u001b[0m\n\u001b[1;32m    888\u001b[0m             \u001b[0;32mif\u001b[0m \u001b[0mno_extra_args\u001b[0m\u001b[0;34m:\u001b[0m\u001b[0;34m\u001b[0m\u001b[0m\n\u001b[0;32m--> 889\u001b[0;31m                 \u001b[0;32mreturn\u001b[0m \u001b[0mmor\u001b[0m\u001b[0;34m.\u001b[0m\u001b[0m_call_\u001b[0m\u001b[0;34m(\u001b[0m\u001b[0mx\u001b[0m\u001b[0;34m)\u001b[0m\u001b[0;34m\u001b[0m\u001b[0m\n\u001b[0m\u001b[1;32m    890\u001b[0m             \u001b[0;32melse\u001b[0m\u001b[0;34m:\u001b[0m\u001b[0;34m\u001b[0m\u001b[0m\n\u001b[1;32m    891\u001b[0m                 \u001b[0;32mreturn\u001b[0m \u001b[0mmor\u001b[0m\u001b[0;34m.\u001b[0m\u001b[0m_call_with_args\u001b[0m\u001b[0;34m(\u001b[0m\u001b[0mx\u001b[0m\u001b[0;34m,\u001b[0m \u001b[0margs\u001b[0m\u001b[0;34m,\u001b[0m \u001b[0mkwds\u001b[0m\u001b[0;34m)\u001b[0m\u001b[0;34m\u001b[0m\u001b[0m\n",
      "\u001b[0;32m/opt/sagemath-8.6/local/lib/python2.7/site-packages/sage/structure/coerce_maps.pyx\u001b[0m in \u001b[0;36msage.structure.coerce_maps.DefaultConvertMap_unique._call_ (build/cythonized/sage/structure/coerce_maps.c:4550)\u001b[0;34m()\u001b[0m\n\u001b[1;32m    155\u001b[0m         \u001b[0mcdef\u001b[0m \u001b[0mParent\u001b[0m \u001b[0mC\u001b[0m \u001b[0;34m=\u001b[0m \u001b[0mself\u001b[0m\u001b[0;34m.\u001b[0m\u001b[0m_codomain\u001b[0m\u001b[0;34m\u001b[0m\u001b[0m\n\u001b[1;32m    156\u001b[0m         \u001b[0;32mtry\u001b[0m\u001b[0;34m:\u001b[0m\u001b[0;34m\u001b[0m\u001b[0m\n\u001b[0;32m--> 157\u001b[0;31m             \u001b[0;32mreturn\u001b[0m \u001b[0mC\u001b[0m\u001b[0;34m.\u001b[0m\u001b[0m_element_constructor\u001b[0m\u001b[0;34m(\u001b[0m\u001b[0mx\u001b[0m\u001b[0;34m)\u001b[0m\u001b[0;34m\u001b[0m\u001b[0m\n\u001b[0m\u001b[1;32m    158\u001b[0m         \u001b[0;32mexcept\u001b[0m \u001b[0mException\u001b[0m\u001b[0;34m:\u001b[0m\u001b[0;34m\u001b[0m\u001b[0m\n\u001b[1;32m    159\u001b[0m             \u001b[0;32mif\u001b[0m \u001b[0mprint_warnings\u001b[0m\u001b[0;34m:\u001b[0m\u001b[0;34m\u001b[0m\u001b[0m\n",
      "\u001b[0;32m/opt/sagemath-8.6/local/lib/python2.7/site-packages/sage/rings/complex_field.py\u001b[0m in \u001b[0;36m_element_constructor_\u001b[0;34m(self, x)\u001b[0m\n\u001b[1;32m    418\u001b[0m                 \u001b[0;32mpass\u001b[0m\u001b[0;34m\u001b[0m\u001b[0m\n\u001b[1;32m    419\u001b[0m             \u001b[0;32mtry\u001b[0m\u001b[0;34m:\u001b[0m\u001b[0;34m\u001b[0m\u001b[0m\n\u001b[0;32m--> 420\u001b[0;31m                 \u001b[0;32mreturn\u001b[0m \u001b[0mx\u001b[0m\u001b[0;34m.\u001b[0m\u001b[0m_complex_mpfr_field_\u001b[0m\u001b[0;34m(\u001b[0m \u001b[0mself\u001b[0m \u001b[0;34m)\u001b[0m\u001b[0;34m\u001b[0m\u001b[0m\n\u001b[0m\u001b[1;32m    421\u001b[0m             \u001b[0;32mexcept\u001b[0m \u001b[0mAttributeError\u001b[0m\u001b[0;34m:\u001b[0m\u001b[0;34m\u001b[0m\u001b[0m\n\u001b[1;32m    422\u001b[0m                 \u001b[0;32mpass\u001b[0m\u001b[0;34m\u001b[0m\u001b[0m\n",
      "\u001b[0;32m/opt/sagemath-8.6/local/lib/python2.7/site-packages/sage/symbolic/expression.pyx\u001b[0m in \u001b[0;36msage.symbolic.expression.Expression._complex_mpfr_field_ (build/cythonized/sage/symbolic/expression.cpp:10854)\u001b[0;34m()\u001b[0m\n\u001b[1;32m   1371\u001b[0m             \u001b[0;36m0.000000000000000\u001b[0m\u001b[0;34m\u001b[0m\u001b[0m\n\u001b[1;32m   1372\u001b[0m         \"\"\"\n\u001b[0;32m-> 1373\u001b[0;31m         \u001b[0;32mreturn\u001b[0m \u001b[0mself\u001b[0m\u001b[0;34m.\u001b[0m\u001b[0m_eval_self\u001b[0m\u001b[0;34m(\u001b[0m\u001b[0mR\u001b[0m\u001b[0;34m)\u001b[0m\u001b[0;34m\u001b[0m\u001b[0m\n\u001b[0m\u001b[1;32m   1374\u001b[0m \u001b[0;34m\u001b[0m\u001b[0m\n\u001b[1;32m   1375\u001b[0m     \u001b[0;32mdef\u001b[0m \u001b[0m_complex_double_\u001b[0m\u001b[0;34m(\u001b[0m\u001b[0mself\u001b[0m\u001b[0;34m,\u001b[0m \u001b[0mR\u001b[0m\u001b[0;34m)\u001b[0m\u001b[0;34m:\u001b[0m\u001b[0;34m\u001b[0m\u001b[0m\n",
      "\u001b[0;32m/opt/sagemath-8.6/local/lib/python2.7/site-packages/sage/symbolic/expression.pyx\u001b[0m in \u001b[0;36msage.symbolic.expression.Expression._eval_self (build/cythonized/sage/symbolic/expression.cpp:9703)\u001b[0;34m()\u001b[0m\n\u001b[1;32m   1205\u001b[0m         \"\"\"\n\u001b[1;32m   1206\u001b[0m         \u001b[0;32mtry\u001b[0m\u001b[0;34m:\u001b[0m\u001b[0;34m\u001b[0m\u001b[0m\n\u001b[0;32m-> 1207\u001b[0;31m             \u001b[0mres\u001b[0m \u001b[0;34m=\u001b[0m \u001b[0mself\u001b[0m\u001b[0;34m.\u001b[0m\u001b[0m_convert\u001b[0m\u001b[0;34m(\u001b[0m\u001b[0;34m{\u001b[0m\u001b[0;34m'parent'\u001b[0m\u001b[0;34m:\u001b[0m\u001b[0mR\u001b[0m\u001b[0;34m}\u001b[0m\u001b[0;34m)\u001b[0m\u001b[0;34m\u001b[0m\u001b[0m\n\u001b[0m\u001b[1;32m   1208\u001b[0m         \u001b[0;32mexcept\u001b[0m \u001b[0mTypeError\u001b[0m \u001b[0;32mas\u001b[0m \u001b[0merr\u001b[0m\u001b[0;34m:\u001b[0m\u001b[0;34m\u001b[0m\u001b[0m\n\u001b[1;32m   1209\u001b[0m             \u001b[0;31m# try the evaluation again with the complex field\u001b[0m\u001b[0;34m\u001b[0m\u001b[0;34m\u001b[0m\u001b[0m\n",
      "\u001b[0;32m/opt/sagemath-8.6/local/lib/python2.7/site-packages/sage/symbolic/expression.pyx\u001b[0m in \u001b[0;36msage.symbolic.expression.Expression._convert (build/cythonized/sage/symbolic/expression.cpp:10245)\u001b[0;34m()\u001b[0m\n\u001b[1;32m   1275\u001b[0m         \"\"\"\n\u001b[1;32m   1276\u001b[0m         \u001b[0mcdef\u001b[0m \u001b[0mGEx\u001b[0m \u001b[0mres\u001b[0m\u001b[0;34m\u001b[0m\u001b[0m\n\u001b[0;32m-> 1277\u001b[0;31m         \u001b[0msig_on\u001b[0m\u001b[0;34m(\u001b[0m\u001b[0;34m)\u001b[0m\u001b[0;34m\u001b[0m\u001b[0m\n\u001b[0m\u001b[1;32m   1278\u001b[0m         \u001b[0;32mtry\u001b[0m\u001b[0;34m:\u001b[0m\u001b[0;34m\u001b[0m\u001b[0m\n\u001b[1;32m   1279\u001b[0m             \u001b[0mres\u001b[0m \u001b[0;34m=\u001b[0m \u001b[0mself\u001b[0m\u001b[0;34m.\u001b[0m\u001b[0m_gobj\u001b[0m\u001b[0;34m.\u001b[0m\u001b[0mevalf\u001b[0m\u001b[0;34m(\u001b[0m\u001b[0;36m0\u001b[0m\u001b[0;34m,\u001b[0m \u001b[0mkwds\u001b[0m\u001b[0;34m)\u001b[0m\u001b[0;34m\u001b[0m\u001b[0m\n",
      "\u001b[0;31mKeyboardInterrupt\u001b[0m: "
     ]
    }
   ],
   "source": [
    "calculator33.calculate(basis33, basis33, 'G')"
   ]
  },
  {
   "cell_type": "code",
   "execution_count": null,
   "metadata": {
    "collapsed": true
   },
   "outputs": [],
   "source": []
  },
  {
   "cell_type": "code",
   "execution_count": 274,
   "metadata": {
    "collapsed": true
   },
   "outputs": [
    {
     "data": {
      "text/plain": [
       "([6, 0], [6], 1):                (1/5*sqrt(5)*sqrt(2))(TrXXXXYY) + (1/5*sqrt(5)*sqrt(2))(TrXXXYXY) + (1/10*sqrt(5)*sqrt(2))(TrXXYXXY)\n",
       "([6, 0], [5, 1], 1):             (-2/55*sqrt(11)*sqrt(5)*sqrt(3))(TrXXXXYY) + (-2/55*sqrt(11)*sqrt(5)*sqrt(3))(TrXXXYXY) + (-1/55*sqrt(11)*sqrt(5)*sqrt(3))(TrXXYXXY) + (1/33*sqrt(11)*sqrt(5)*sqrt(3))(TrXXXXY)(TrY) + (1/33*sqrt(11)*sqrt(5)*sqrt(3))(TrX)(TrXXXYY) + (1/33*sqrt(11)*sqrt(5)*sqrt(3))(TrX)(TrXXYXY)\n",
       "([6, 0], [4, 2], 1):             (-1/35*sqrt(7)*sqrt(5)*sqrt(3)*sqrt(2))(TrXXXXYY) + (-1/35*sqrt(7)*sqrt(5)*sqrt(3)*sqrt(2))(TrXXXYXY) + (-1/70*sqrt(7)*sqrt(5)*sqrt(3)*sqrt(2))(TrXXYXXY) + (4/105*sqrt(7)*sqrt(5)*sqrt(3)*sqrt(2))(TrXXXY)(TrXY) + (1/210*sqrt(7)*sqrt(5)*sqrt(3)*sqrt(2))(TrXXXX)(TrYY) + (2/105*sqrt(7)*sqrt(5)*sqrt(3)*sqrt(2))(TrXX)(TrXXYY) + (1/105*sqrt(7)*sqrt(5)*sqrt(3)*sqrt(2))(TrXX)(TrXYXY)\n",
       "([6, 0], [4, 1, 1], 1):          (2/5)(TrXXXXYY) + (2/5)(TrXXXYXY) + (1/5)(TrXXYXXY) + (-1/3)(TrXXXXY)(TrY) + (-1/3)(TrX)(TrXXXYY) + (-1/3)(TrX)(TrXXYXY) + (-4/15)(TrXXXY)(TrXY) + (-1/30)(TrXXXX)(TrYY) + (-2/15)(TrXX)(TrXXYY) + (-1/15)(TrXX)(TrXYXY) + (1/30)(TrXXXX)(TrY)(TrY) + (4/15)(TrX)(TrXXXY)(TrY) + (2/15)(TrX)(TrX)(TrXXYY) + (1/15)(TrX)(TrX)(TrXYXY)\n",
       "([6, 0], [3, 3], 1):             (-1/10*sqrt(5)*sqrt(2))(TrXXXXYY) + (-1/10*sqrt(5)*sqrt(2))(TrXXXYXY) + (-1/20*sqrt(5)*sqrt(2))(TrXXYXXY) + (3/20*sqrt(5)*sqrt(2))(TrXXY)(TrXXY) + (1/10*sqrt(5)*sqrt(2))(TrXXX)(TrXYY)\n",
       "([6, 0], [3, 2, 1], 1):          (4/305*sqrt(61)*sqrt(5)*sqrt(3))(TrXXXXYY) + (4/305*sqrt(61)*sqrt(5)*sqrt(3))(TrXXXYXY) + (2/305*sqrt(61)*sqrt(5)*sqrt(3))(TrXXYXXY) + (-1/183*sqrt(61)*sqrt(5)*sqrt(3))(TrXXXXY)(TrY) + (-1/183*sqrt(61)*sqrt(5)*sqrt(3))(TrX)(TrXXXYY) + (-1/183*sqrt(61)*sqrt(5)*sqrt(3))(TrX)(TrXXYXY) + (-8/915*sqrt(61)*sqrt(5)*sqrt(3))(TrXXXY)(TrXY) + (-1/915*sqrt(61)*sqrt(5)*sqrt(3))(TrXXXX)(TrYY) + (-4/915*sqrt(61)*sqrt(5)*sqrt(3))(TrXX)(TrXXYY) + (-2/915*sqrt(61)*sqrt(5)*sqrt(3))(TrXX)(TrXYXY) + (-3/305*sqrt(61)*sqrt(5)*sqrt(3))(TrXXY)(TrXXY) + (-2/305*sqrt(61)*sqrt(5)*sqrt(3))(TrXXX)(TrXYY) + (2/915*sqrt(61)*sqrt(5)*sqrt(3))(TrXXX)(TrXY)(TrY) + (1/305*sqrt(61)*sqrt(5)*sqrt(3))(TrXX)(TrXXY)(TrY) + (2/305*sqrt(61)*sqrt(5)*sqrt(3))(TrX)(TrXXY)(TrXY) + (1/915*sqrt(61)*sqrt(5)*sqrt(3))(TrX)(TrXXX)(TrYY) + (1/305*sqrt(61)*sqrt(5)*sqrt(3))(TrX)(TrXX)(TrXYY)\n",
       "([6, 0], [3, 1, 1, 1], 1):       (-2/95*sqrt(19)*sqrt(5)*sqrt(3))(TrXXXXYY) + (-2/95*sqrt(19)*sqrt(5)*sqrt(3))(TrXXXYXY) + (-1/95*sqrt(19)*sqrt(5)*sqrt(3))(TrXXYXXY) + (1/57*sqrt(19)*sqrt(5)*sqrt(3))(TrXXXXY)(TrY) + (1/57*sqrt(19)*sqrt(5)*sqrt(3))(TrX)(TrXXXYY) + (1/57*sqrt(19)*sqrt(5)*sqrt(3))(TrX)(TrXXYXY) + (4/285*sqrt(19)*sqrt(5)*sqrt(3))(TrXXXY)(TrXY) + (1/570*sqrt(19)*sqrt(5)*sqrt(3))(TrXXXX)(TrYY) + (2/285*sqrt(19)*sqrt(5)*sqrt(3))(TrXX)(TrXXYY) + (1/285*sqrt(19)*sqrt(5)*sqrt(3))(TrXX)(TrXYXY) + (1/95*sqrt(19)*sqrt(5)*sqrt(3))(TrXXY)(TrXXY) + (2/285*sqrt(19)*sqrt(5)*sqrt(3))(TrXXX)(TrXYY) + (-1/570*sqrt(19)*sqrt(5)*sqrt(3))(TrXXXX)(TrY)(TrY) + (-4/285*sqrt(19)*sqrt(5)*sqrt(3))(TrX)(TrXXXY)(TrY) + (-2/285*sqrt(19)*sqrt(5)*sqrt(3))(TrX)(TrX)(TrXXYY) + (-1/285*sqrt(19)*sqrt(5)*sqrt(3))(TrX)(TrX)(TrXYXY) + (-1/285*sqrt(19)*sqrt(5)*sqrt(3))(TrXXX)(TrXY)(TrY) + (-1/190*sqrt(19)*sqrt(5)*sqrt(3))(TrXX)(TrXXY)(TrY) + (-1/95*sqrt(19)*sqrt(5)*sqrt(3))(TrX)(TrXXY)(TrXY) + (-1/570*sqrt(19)*sqrt(5)*sqrt(3))(TrX)(TrXXX)(TrYY) + (-1/190*sqrt(19)*sqrt(5)*sqrt(3))(TrX)(TrXX)(TrXYY) + (1/570*sqrt(19)*sqrt(5)*sqrt(3))(TrX)(TrXXX)(TrY)(TrY) + (1/190*sqrt(19)*sqrt(5)*sqrt(3))(TrX)(TrX)(TrXXY)(TrY) + (1/570*sqrt(19)*sqrt(5)*sqrt(3))(TrX)(TrX)(TrX)(TrXYY)\n",
       "([6, 0], [2, 2, 2], 1):          (1/15*sqrt(5)*sqrt(3))(TrXXXXYY) + (1/15*sqrt(5)*sqrt(3))(TrXXXYXY) + (1/30*sqrt(5)*sqrt(3))(TrXXYXXY) + (-2/15*sqrt(5)*sqrt(3))(TrXXXY)(TrXY) + (-1/60*sqrt(5)*sqrt(3))(TrXXXX)(TrYY) + (-1/15*sqrt(5)*sqrt(3))(TrXX)(TrXXYY) + (-1/30*sqrt(5)*sqrt(3))(TrXX)(TrXYXY) + (1/15*sqrt(5)*sqrt(3))(TrXX)(TrXY)(TrXY) + (1/60*sqrt(5)*sqrt(3))(TrXX)(TrXX)(TrYY)\n",
       "([6, 0], [2, 2, 1, 1], 1):       (-3/230*sqrt(23)*sqrt(5)*sqrt(3)*sqrt(2))(TrXXXXYY) + (-3/230*sqrt(23)*sqrt(5)*sqrt(3)*sqrt(2))(TrXXXYXY) + (-3/460*sqrt(23)*sqrt(5)*sqrt(3)*sqrt(2))(TrXXYXXY) + (1/138*sqrt(23)*sqrt(5)*sqrt(3)*sqrt(2))(TrXXXXY)(TrY) + (1/138*sqrt(23)*sqrt(5)*sqrt(3)*sqrt(2))(TrX)(TrXXXYY) + (1/138*sqrt(23)*sqrt(5)*sqrt(3)*sqrt(2))(TrX)(TrXXYXY) + (1/69*sqrt(23)*sqrt(5)*sqrt(3)*sqrt(2))(TrXXXY)(TrXY) + (1/552*sqrt(23)*sqrt(5)*sqrt(3)*sqrt(2))(TrXXXX)(TrYY) + (1/138*sqrt(23)*sqrt(5)*sqrt(3)*sqrt(2))(TrXX)(TrXXYY) + (1/276*sqrt(23)*sqrt(5)*sqrt(3)*sqrt(2))(TrXX)(TrXYXY) + (3/460*sqrt(23)*sqrt(5)*sqrt(3)*sqrt(2))(TrXXY)(TrXXY) + (1/230*sqrt(23)*sqrt(5)*sqrt(3)*sqrt(2))(TrXXX)(TrXYY) + (-1/2760*sqrt(23)*sqrt(5)*sqrt(3)*sqrt(2))(TrXXXX)(TrY)(TrY) + (-1/345*sqrt(23)*sqrt(5)*sqrt(3)*sqrt(2))(TrX)(TrXXXY)(TrY) + (-1/690*sqrt(23)*sqrt(5)*sqrt(3)*sqrt(2))(TrX)(TrX)(TrXXYY) + (-1/1380*sqrt(23)*sqrt(5)*sqrt(3)*sqrt(2))(TrX)(TrX)(TrXYXY) + (-1/345*sqrt(23)*sqrt(5)*sqrt(3)*sqrt(2))(TrXXX)(TrXY)(TrY) + (-1/230*sqrt(23)*sqrt(5)*sqrt(3)*sqrt(2))(TrXX)(TrXXY)(TrY) + (-1/115*sqrt(23)*sqrt(5)*sqrt(3)*sqrt(2))(TrX)(TrXXY)(TrXY) + (-1/690*sqrt(23)*sqrt(5)*sqrt(3)*sqrt(2))(TrX)(TrXXX)(TrYY) + (-1/230*sqrt(23)*sqrt(5)*sqrt(3)*sqrt(2))(TrX)(TrXX)(TrXYY) + (-1/230*sqrt(23)*sqrt(5)*sqrt(3)*sqrt(2))(TrXX)(TrXY)(TrXY) + (-1/920*sqrt(23)*sqrt(5)*sqrt(3)*sqrt(2))(TrXX)(TrXX)(TrYY) + (1/2760*sqrt(23)*sqrt(5)*sqrt(3)*sqrt(2))(TrXX)(TrXX)(TrY)(TrY) + (1/345*sqrt(23)*sqrt(5)*sqrt(3)*sqrt(2))(TrX)(TrXX)(TrXY)(TrY) + (1/690*sqrt(23)*sqrt(5)*sqrt(3)*sqrt(2))(TrX)(TrX)(TrXY)(TrXY) + (1/1380*sqrt(23)*sqrt(5)*sqrt(3)*sqrt(2))(TrX)(TrX)(TrXX)(TrYY)\n",
       "([6, 0], [2, 1, 1, 1, 1], 1):    (1/65*sqrt(13)*sqrt(5)*sqrt(3)*sqrt(2))(TrXXXXYY) + (1/65*sqrt(13)*sqrt(5)*sqrt(3)*sqrt(2))(TrXXXYXY) + (1/130*sqrt(13)*sqrt(5)*sqrt(3)*sqrt(2))(TrXXYXXY) + (-1/78*sqrt(13)*sqrt(5)*sqrt(3)*sqrt(2))(TrXXXXY)(TrY) + (-1/78*sqrt(13)*sqrt(5)*sqrt(3)*sqrt(2))(TrX)(TrXXXYY) + (-1/78*sqrt(13)*sqrt(5)*sqrt(3)*sqrt(2))(TrX)(TrXXYXY) + (-1/65*sqrt(13)*sqrt(5)*sqrt(3)*sqrt(2))(TrXXXY)(TrXY) + (-1/520*sqrt(13)*sqrt(5)*sqrt(3)*sqrt(2))(TrXXXX)(TrYY) + (-1/130*sqrt(13)*sqrt(5)*sqrt(3)*sqrt(2))(TrXX)(TrXXYY) + (-1/260*sqrt(13)*sqrt(5)*sqrt(3)*sqrt(2))(TrXX)(TrXYXY) + (-1/130*sqrt(13)*sqrt(5)*sqrt(3)*sqrt(2))(TrXXY)(TrXXY) + (-1/195*sqrt(13)*sqrt(5)*sqrt(3)*sqrt(2))(TrXXX)(TrXYY) + (1/780*sqrt(13)*sqrt(5)*sqrt(3)*sqrt(2))(TrXXXX)(TrY)(TrY) + (2/195*sqrt(13)*sqrt(5)*sqrt(3)*sqrt(2))(TrX)(TrXXXY)(TrY) + (1/195*sqrt(13)*sqrt(5)*sqrt(3)*sqrt(2))(TrX)(TrX)(TrXXYY) + (1/390*sqrt(13)*sqrt(5)*sqrt(3)*sqrt(2))(TrX)(TrX)(TrXYXY) + (1/234*sqrt(13)*sqrt(5)*sqrt(3)*sqrt(2))(TrXXX)(TrXY)(TrY) + (1/156*sqrt(13)*sqrt(5)*sqrt(3)*sqrt(2))(TrXX)(TrXXY)(TrY) + (1/78*sqrt(13)*sqrt(5)*sqrt(3)*sqrt(2))(TrX)(TrXXY)(TrXY) + (1/468*sqrt(13)*sqrt(5)*sqrt(3)*sqrt(2))(TrX)(TrXXX)(TrYY) + (1/156*sqrt(13)*sqrt(5)*sqrt(3)*sqrt(2))(TrX)(TrXX)(TrXYY) + (1/260*sqrt(13)*sqrt(5)*sqrt(3)*sqrt(2))(TrXX)(TrXY)(TrXY) + (1/1040*sqrt(13)*sqrt(5)*sqrt(3)*sqrt(2))(TrXX)(TrXX)(TrYY) + (-1/780*sqrt(13)*sqrt(5)*sqrt(3)*sqrt(2))(TrX)(TrXXX)(TrY)(TrY) + (-1/260*sqrt(13)*sqrt(5)*sqrt(3)*sqrt(2))(TrX)(TrX)(TrXXY)(TrY) + (-1/780*sqrt(13)*sqrt(5)*sqrt(3)*sqrt(2))(TrX)(TrX)(TrX)(TrXYY) + (-1/1560*sqrt(13)*sqrt(5)*sqrt(3)*sqrt(2))(TrXX)(TrXX)(TrY)(TrY) + (-1/195*sqrt(13)*sqrt(5)*sqrt(3)*sqrt(2))(TrX)(TrXX)(TrXY)(TrY) + (-1/390*sqrt(13)*sqrt(5)*sqrt(3)*sqrt(2))(TrX)(TrX)(TrXY)(TrXY) + (-1/780*sqrt(13)*sqrt(5)*sqrt(3)*sqrt(2))(TrX)(TrX)(TrXX)(TrYY) + (1/1560*sqrt(13)*sqrt(5)*sqrt(3)*sqrt(2))(TrX)(TrX)(TrXX)(TrY)(TrY) + (1/1170*sqrt(13)*sqrt(5)*sqrt(3)*sqrt(2))(TrX)(TrX)(TrX)(TrXY)(TrY) + (1/9360*sqrt(13)*sqrt(5)*sqrt(3)*sqrt(2))(TrX)(TrX)(TrX)(TrX)(TrYY)\n",
       "([6, 0], [1, 1, 1, 1, 1, 1], 1): (-1/15*sqrt(5)*sqrt(3))(TrXXXXYY) + (-1/15*sqrt(5)*sqrt(3))(TrXXXYXY) + (-1/30*sqrt(5)*sqrt(3))(TrXXYXXY) + (1/15*sqrt(5)*sqrt(3))(TrXXXXY)(TrY) + (1/15*sqrt(5)*sqrt(3))(TrX)(TrXXXYY) + (1/15*sqrt(5)*sqrt(3))(TrX)(TrXXYXY) + (1/15*sqrt(5)*sqrt(3))(TrXXXY)(TrXY) + (1/120*sqrt(5)*sqrt(3))(TrXXXX)(TrYY) + (1/30*sqrt(5)*sqrt(3))(TrXX)(TrXXYY) + (1/60*sqrt(5)*sqrt(3))(TrXX)(TrXYXY) + (1/30*sqrt(5)*sqrt(3))(TrXXY)(TrXXY) + (1/45*sqrt(5)*sqrt(3))(TrXXX)(TrXYY) + (-1/120*sqrt(5)*sqrt(3))(TrXXXX)(TrY)(TrY) + (-1/15*sqrt(5)*sqrt(3))(TrX)(TrXXXY)(TrY) + (-1/30*sqrt(5)*sqrt(3))(TrX)(TrX)(TrXXYY) + (-1/60*sqrt(5)*sqrt(3))(TrX)(TrX)(TrXYXY) + (-1/45*sqrt(5)*sqrt(3))(TrXXX)(TrXY)(TrY) + (-1/30*sqrt(5)*sqrt(3))(TrXX)(TrXXY)(TrY) + (-1/15*sqrt(5)*sqrt(3))(TrX)(TrXXY)(TrXY) + (-1/90*sqrt(5)*sqrt(3))(TrX)(TrXXX)(TrYY) + (-1/30*sqrt(5)*sqrt(3))(TrX)(TrXX)(TrXYY) + (-1/60*sqrt(5)*sqrt(3))(TrXX)(TrXY)(TrXY) + (-1/240*sqrt(5)*sqrt(3))(TrXX)(TrXX)(TrYY) + (1/90*sqrt(5)*sqrt(3))(TrX)(TrXXX)(TrY)(TrY) + (1/30*sqrt(5)*sqrt(3))(TrX)(TrX)(TrXXY)(TrY) + (1/90*sqrt(5)*sqrt(3))(TrX)(TrX)(TrX)(TrXYY) + (1/240*sqrt(5)*sqrt(3))(TrXX)(TrXX)(TrY)(TrY) + (1/30*sqrt(5)*sqrt(3))(TrX)(TrXX)(TrXY)(TrY) + (1/60*sqrt(5)*sqrt(3))(TrX)(TrX)(TrXY)(TrXY) + (1/120*sqrt(5)*sqrt(3))(TrX)(TrX)(TrXX)(TrYY) + (-1/120*sqrt(5)*sqrt(3))(TrX)(TrX)(TrXX)(TrY)(TrY) + (-1/90*sqrt(5)*sqrt(3))(TrX)(TrX)(TrX)(TrXY)(TrY) + (-1/720*sqrt(5)*sqrt(3))(TrX)(TrX)(TrX)(TrX)(TrYY) + (1/720*sqrt(5)*sqrt(3))(TrX)(TrX)(TrX)(TrX)(TrY)(TrY)\n",
       "([5, 1], [5, 1], 1):             (1/3*sqrt(3)*sqrt(2))(TrXXXXY)(TrY) + (-1/6*sqrt(3)*sqrt(2))(TrX)(TrXXXYY) + (-1/6*sqrt(3)*sqrt(2))(TrX)(TrXXYXY)\n",
       "([5, 1], [4, 2], 1):             (1/6*sqrt(3)*sqrt(2))(TrXXXY)(TrXY) + (1/12*sqrt(3)*sqrt(2))(TrXXXX)(TrYY) + (-1/6*sqrt(3)*sqrt(2))(TrXX)(TrXXYY) + (-1/12*sqrt(3)*sqrt(2))(TrXX)(TrXYXY)\n",
       "([5, 1], [4, 1, 1], 1):          (-1/3*sqrt(2))(TrXXXXY)(TrY) + (1/6*sqrt(2))(TrX)(TrXXXYY) + (1/6*sqrt(2))(TrX)(TrXXYXY) + (-1/6*sqrt(2))(TrXXXY)(TrXY) + (-1/12*sqrt(2))(TrXXXX)(TrYY) + (1/12*sqrt(2))(TrXXXX)(TrY)(TrY) + (1/6*sqrt(2))(TrX)(TrXXXY)(TrY) + (1/6*sqrt(2))(TrXX)(TrXXYY) + (1/12*sqrt(2))(TrXX)(TrXYXY) + (-1/6*sqrt(2))(TrX)(TrX)(TrXXYY) + (-1/12*sqrt(2))(TrX)(TrX)(TrXYXY)\n",
       "([5, 1], [3, 2, 1], 1):          (-5/177*sqrt(59)*sqrt(3)*sqrt(2))(TrXXXXY)(TrY) + (1/177*sqrt(59)*sqrt(3)*sqrt(2))(TrXXXY)(TrXY) + (-1/177*sqrt(59)*sqrt(3)*sqrt(2))(TrXX)(TrXXYY) + (-1/354*sqrt(59)*sqrt(3)*sqrt(2))(TrXX)(TrXYXY) + (2/177*sqrt(59)*sqrt(3)*sqrt(2))(TrXXX)(TrXY)(TrY) + (1/59*sqrt(59)*sqrt(3)*sqrt(2))(TrXX)(TrXXY)(TrY) + (5/354*sqrt(59)*sqrt(3)*sqrt(2))(TrX)(TrXXXYY) + (5/354*sqrt(59)*sqrt(3)*sqrt(2))(TrX)(TrXXYXY) + (1/354*sqrt(59)*sqrt(3)*sqrt(2))(TrXXXX)(TrYY) + (-1/59*sqrt(59)*sqrt(3)*sqrt(2))(TrX)(TrXXY)(TrXY) + (-1/354*sqrt(59)*sqrt(3)*sqrt(2))(TrX)(TrXXX)(TrYY) + (-1/118*sqrt(59)*sqrt(3)*sqrt(2))(TrX)(TrXX)(TrXYY)\n",
       "([5, 1], [3, 2, 1], 2):          (-4/295*sqrt(59))(TrXXXXY)(TrY) + (2/295*sqrt(59))(TrX)(TrXXXYY) + (2/295*sqrt(59))(TrX)(TrXXYXY) + (-11/295*sqrt(59))(TrXXXY)(TrXY) + (-11/590*sqrt(59))(TrXXXX)(TrYY) + (3/118*sqrt(59))(TrXXX)(TrXY)(TrY) + (7/590*sqrt(59))(TrX)(TrXXY)(TrXY) + (11/590*sqrt(59))(TrX)(TrXXX)(TrYY) + (11/295*sqrt(59))(TrXX)(TrXXYY) + (11/590*sqrt(59))(TrXX)(TrXYXY) + (-7/590*sqrt(59))(TrXX)(TrXXY)(TrY) + (-13/295*sqrt(59))(TrX)(TrXX)(TrXYY)\n",
       "([5, 1], [3, 1, 1, 1], 1):       (1/15*sqrt(5)*sqrt(3)*sqrt(2))(TrXXXXY)(TrY) + (-1/30*sqrt(5)*sqrt(3)*sqrt(2))(TrX)(TrXXXYY) + (-1/30*sqrt(5)*sqrt(3)*sqrt(2))(TrX)(TrXXYXY) + (1/30*sqrt(5)*sqrt(3)*sqrt(2))(TrXXXY)(TrXY) + (1/60*sqrt(5)*sqrt(3)*sqrt(2))(TrXXXX)(TrYY) + (-1/30*sqrt(5)*sqrt(3)*sqrt(2))(TrXX)(TrXXYY) + (-1/60*sqrt(5)*sqrt(3)*sqrt(2))(TrXX)(TrXYXY) + (-1/60*sqrt(5)*sqrt(3)*sqrt(2))(TrXXXX)(TrY)(TrY) + (-1/30*sqrt(5)*sqrt(3)*sqrt(2))(TrX)(TrXXXY)(TrY) + (-1/30*sqrt(5)*sqrt(3)*sqrt(2))(TrXXX)(TrXY)(TrY) + (1/30*sqrt(5)*sqrt(3)*sqrt(2))(TrX)(TrX)(TrXXYY) + (1/60*sqrt(5)*sqrt(3)*sqrt(2))(TrX)(TrX)(TrXYXY) + (-1/60*sqrt(5)*sqrt(3)*sqrt(2))(TrX)(TrXXX)(TrYY) + (1/60*sqrt(5)*sqrt(3)*sqrt(2))(TrX)(TrXXX)(TrY)(TrY) + (1/20*sqrt(5)*sqrt(3)*sqrt(2))(TrX)(TrXX)(TrXYY) + (-1/60*sqrt(5)*sqrt(3)*sqrt(2))(TrX)(TrX)(TrX)(TrXYY)\n",
       "([5, 1], [2, 2, 1, 1], 1):       (2/21*sqrt(7)*sqrt(3))(TrXXXXY)(TrY) + (-1/21*sqrt(7)*sqrt(3))(TrX)(TrXXXYY) + (-1/21*sqrt(7)*sqrt(3))(TrX)(TrXXYXY) + (-1/42*sqrt(7)*sqrt(3))(TrXXXY)(TrXY) + (-1/84*sqrt(7)*sqrt(3))(TrXXXX)(TrYY) + (1/42*sqrt(7)*sqrt(3))(TrXX)(TrXXYY) + (1/84*sqrt(7)*sqrt(3))(TrXX)(TrXYXY) + (-1/84*sqrt(7)*sqrt(3))(TrXXXX)(TrY)(TrY) + (-1/42*sqrt(7)*sqrt(3))(TrX)(TrXXXY)(TrY) + (-1/42*sqrt(7)*sqrt(3))(TrXXX)(TrXY)(TrY) + (-1/14*sqrt(7)*sqrt(3))(TrXX)(TrXXY)(TrY) + (1/84*sqrt(7)*sqrt(3))(TrXX)(TrXX)(TrY)(TrY) + (1/42*sqrt(7)*sqrt(3))(TrX)(TrXX)(TrXY)(TrY) + (1/42*sqrt(7)*sqrt(3))(TrX)(TrX)(TrXXYY) + (1/84*sqrt(7)*sqrt(3))(TrX)(TrX)(TrXYXY) + (1/14*sqrt(7)*sqrt(3))(TrX)(TrXXY)(TrXY) + (1/42*sqrt(7)*sqrt(3))(TrX)(TrXXX)(TrYY) + (-1/42*sqrt(7)*sqrt(3))(TrX)(TrX)(TrXY)(TrXY) + (-1/84*sqrt(7)*sqrt(3))(TrX)(TrX)(TrXX)(TrYY)\n",
       "([5, 1], [2, 1, 1, 1, 1], 1):    (-1/6*sqrt(3)*sqrt(2))(TrXXXXY)(TrY) + (1/12*sqrt(3)*sqrt(2))(TrX)(TrXXXYY) + (1/12*sqrt(3)*sqrt(2))(TrX)(TrXXYXY) + (1/24*sqrt(3)*sqrt(2))(TrXXXX)(TrY)(TrY) + (1/12*sqrt(3)*sqrt(2))(TrX)(TrXXXY)(TrY) + (1/18*sqrt(3)*sqrt(2))(TrXXX)(TrXY)(TrY) + (1/12*sqrt(3)*sqrt(2))(TrXX)(TrXXY)(TrY) + (-1/12*sqrt(3)*sqrt(2))(TrX)(TrX)(TrXXYY) + (-1/24*sqrt(3)*sqrt(2))(TrX)(TrX)(TrXYXY) + (-1/12*sqrt(3)*sqrt(2))(TrX)(TrXXY)(TrXY) + (-1/72*sqrt(3)*sqrt(2))(TrX)(TrXXX)(TrYY) + (-1/24*sqrt(3)*sqrt(2))(TrX)(TrXX)(TrXYY) + (-1/24*sqrt(3)*sqrt(2))(TrX)(TrXXX)(TrY)(TrY) + (-1/48*sqrt(3)*sqrt(2))(TrXX)(TrXX)(TrY)(TrY) + (-1/24*sqrt(3)*sqrt(2))(TrX)(TrXX)(TrXY)(TrY) + (1/24*sqrt(3)*sqrt(2))(TrX)(TrX)(TrX)(TrXYY) + (1/24*sqrt(3)*sqrt(2))(TrX)(TrX)(TrXY)(TrXY) + (1/48*sqrt(3)*sqrt(2))(TrX)(TrX)(TrXX)(TrYY) + (1/48*sqrt(3)*sqrt(2))(TrX)(TrX)(TrXX)(TrY)(TrY) + (-1/72*sqrt(3)*sqrt(2))(TrX)(TrX)(TrX)(TrXY)(TrY) + (-1/144*sqrt(3)*sqrt(2))(TrX)(TrX)(TrX)(TrX)(TrYY)\n",
       "([4, 2], [4, 2], 1):             (1/20*sqrt(5)*sqrt(3)*sqrt(2))(TrXXXX)(TrYY) + (-1/10*sqrt(5)*sqrt(3)*sqrt(2))(TrXXXY)(TrXY) + (1/30*sqrt(5)*sqrt(3)*sqrt(2))(TrXX)(TrXXYY) + (1/60*sqrt(5)*sqrt(3)*sqrt(2))(TrXX)(TrXYXY)\n",
       "([4, 2], [4, 1, 1], 1):          (-1/20*sqrt(5)*sqrt(3))(TrXXXX)(TrYY) + (1/20*sqrt(5)*sqrt(3))(TrXXXX)(TrY)(TrY) + (1/10*sqrt(5)*sqrt(3))(TrXXXY)(TrXY) + (-1/30*sqrt(5)*sqrt(3))(TrXX)(TrXXYY) + (-1/60*sqrt(5)*sqrt(3))(TrXX)(TrXYXY) + (-1/10*sqrt(5)*sqrt(3))(TrX)(TrXXXY)(TrY) + (1/30*sqrt(5)*sqrt(3))(TrX)(TrX)(TrXXYY) + (1/60*sqrt(5)*sqrt(3))(TrX)(TrX)(TrXYXY)\n",
       "([4, 2], [3, 3], 1):             (1/5*sqrt(5))(TrXXX)(TrXYY) + (-1/5*sqrt(5))(TrXXY)(TrXXY)\n",
       "([4, 2], [3, 2, 1], 1):          (-1/115*sqrt(23)*sqrt(5)*sqrt(3))(TrXXXY)(TrXY) + (-2/115*sqrt(23)*sqrt(5)*sqrt(3))(TrXXX)(TrXYY) + (3/230*sqrt(23)*sqrt(5)*sqrt(3))(TrXXX)(TrXY)(TrY) + (1/230*sqrt(23)*sqrt(5)*sqrt(3))(TrXXXX)(TrYY) + (1/345*sqrt(23)*sqrt(5)*sqrt(3))(TrXX)(TrXXYY) + (1/690*sqrt(23)*sqrt(5)*sqrt(3))(TrXX)(TrXYXY) + (2/115*sqrt(23)*sqrt(5)*sqrt(3))(TrXXY)(TrXXY) + (-3/230*sqrt(23)*sqrt(5)*sqrt(3))(TrXX)(TrXXY)(TrY) + (-1/230*sqrt(23)*sqrt(5)*sqrt(3))(TrX)(TrXXY)(TrXY) + (-1/230*sqrt(23)*sqrt(5)*sqrt(3))(TrX)(TrXXX)(TrYY) + (1/115*sqrt(23)*sqrt(5)*sqrt(3))(TrX)(TrXX)(TrXYY)\n",
       "([4, 2], [3, 2, 1], 2):          (-9/1196*sqrt(23)*sqrt(13)*sqrt(2))(TrXXXX)(TrYY) + (-5/598*sqrt(23)*sqrt(13)*sqrt(2))(TrXXX)(TrXYY) + (9/1196*sqrt(23)*sqrt(13)*sqrt(2))(TrX)(TrXXX)(TrYY) + (9/598*sqrt(23)*sqrt(13)*sqrt(2))(TrXXXY)(TrXY) + (-3/598*sqrt(23)*sqrt(13)*sqrt(2))(TrXX)(TrXXYY) + (-3/1196*sqrt(23)*sqrt(13)*sqrt(2))(TrXX)(TrXYXY) + (5/598*sqrt(23)*sqrt(13)*sqrt(2))(TrXXY)(TrXXY) + (-1/299*sqrt(23)*sqrt(13)*sqrt(2))(TrXXX)(TrXY)(TrY) + (1/299*sqrt(23)*sqrt(13)*sqrt(2))(TrXX)(TrXXY)(TrY) + (-7/598*sqrt(23)*sqrt(13)*sqrt(2))(TrX)(TrXXY)(TrXY) + (5/1196*sqrt(23)*sqrt(13)*sqrt(2))(TrX)(TrXX)(TrXYY)\n",
       "([4, 2], [3, 1, 1, 1], 1):       (1/140*sqrt(7)*sqrt(5)*sqrt(3))(TrXXXX)(TrYY) + (-1/70*sqrt(7)*sqrt(5)*sqrt(3))(TrXXXY)(TrXY) + (1/35*sqrt(7)*sqrt(5)*sqrt(3))(TrXXX)(TrXYY) + (-1/140*sqrt(7)*sqrt(5)*sqrt(3))(TrXXXX)(TrY)(TrY) + (1/70*sqrt(7)*sqrt(5)*sqrt(3))(TrX)(TrXXXY)(TrY) + (-1/70*sqrt(7)*sqrt(5)*sqrt(3))(TrXXX)(TrXY)(TrY) + (-1/140*sqrt(7)*sqrt(5)*sqrt(3))(TrX)(TrXXX)(TrYY) + (1/140*sqrt(7)*sqrt(5)*sqrt(3))(TrX)(TrXXX)(TrY)(TrY) + (1/210*sqrt(7)*sqrt(5)*sqrt(3))(TrXX)(TrXXYY) + (1/420*sqrt(7)*sqrt(5)*sqrt(3))(TrXX)(TrXYXY) + (-1/35*sqrt(7)*sqrt(5)*sqrt(3))(TrXXY)(TrXXY) + (-1/210*sqrt(7)*sqrt(5)*sqrt(3))(TrX)(TrX)(TrXXYY) + (-1/420*sqrt(7)*sqrt(5)*sqrt(3))(TrX)(TrX)(TrXYXY) + (1/70*sqrt(7)*sqrt(5)*sqrt(3))(TrXX)(TrXXY)(TrY) + (1/35*sqrt(7)*sqrt(5)*sqrt(3))(TrX)(TrXXY)(TrXY) + (-3/140*sqrt(7)*sqrt(5)*sqrt(3))(TrX)(TrXX)(TrXYY) + (-1/70*sqrt(7)*sqrt(5)*sqrt(3))(TrX)(TrX)(TrXXY)(TrY) + (1/140*sqrt(7)*sqrt(5)*sqrt(3))(TrX)(TrX)(TrX)(TrXYY)\n",
       "([4, 2], [2, 2, 2], 1):          (-1/10*sqrt(3))(TrXXXX)(TrYY) + (-1/15*sqrt(3))(TrXX)(TrXXYY) + (-1/30*sqrt(3))(TrXX)(TrXYXY) + (1/10*sqrt(3))(TrXX)(TrXX)(TrYY) + (1/5*sqrt(3))(TrXXXY)(TrXY) + (-1/10*sqrt(3))(TrXX)(TrXY)(TrXY)\n",
       "([4, 2], [2, 2, 1, 1], 1):       (1/40*sqrt(5)*sqrt(3)*sqrt(2))(TrXXXX)(TrYY) + (1/60*sqrt(5)*sqrt(3)*sqrt(2))(TrXX)(TrXXYY) + (1/120*sqrt(5)*sqrt(3)*sqrt(2))(TrXX)(TrXYXY) + (1/50*sqrt(5)*sqrt(3)*sqrt(2))(TrXXY)(TrXXY) + (-3/200*sqrt(5)*sqrt(3)*sqrt(2))(TrXXXX)(TrY)(TrY) + (-3/100*sqrt(5)*sqrt(3)*sqrt(2))(TrXX)(TrXXY)(TrY) + (-1/50*sqrt(5)*sqrt(3)*sqrt(2))(TrXX)(TrXX)(TrYY) + (3/200*sqrt(5)*sqrt(3)*sqrt(2))(TrXX)(TrXX)(TrY)(TrY) + (-1/20*sqrt(5)*sqrt(3)*sqrt(2))(TrXXXY)(TrXY) + (-1/50*sqrt(5)*sqrt(3)*sqrt(2))(TrXXX)(TrXYY) + (3/100*sqrt(5)*sqrt(3)*sqrt(2))(TrX)(TrXXXY)(TrY) + (-1/100*sqrt(5)*sqrt(3)*sqrt(2))(TrX)(TrX)(TrXXYY) + (-1/200*sqrt(5)*sqrt(3)*sqrt(2))(TrX)(TrX)(TrXYXY) + (3/100*sqrt(5)*sqrt(3)*sqrt(2))(TrXXX)(TrXY)(TrY) + (-1/100*sqrt(5)*sqrt(3)*sqrt(2))(TrX)(TrXXY)(TrXY) + (-1/100*sqrt(5)*sqrt(3)*sqrt(2))(TrX)(TrXXX)(TrYY) + (1/50*sqrt(5)*sqrt(3)*sqrt(2))(TrX)(TrXX)(TrXYY) + (1/50*sqrt(5)*sqrt(3)*sqrt(2))(TrXX)(TrXY)(TrXY) + (-3/100*sqrt(5)*sqrt(3)*sqrt(2))(TrX)(TrXX)(TrXY)(TrY) + (1/100*sqrt(5)*sqrt(3)*sqrt(2))(TrX)(TrX)(TrXY)(TrXY) + (1/200*sqrt(5)*sqrt(3)*sqrt(2))(TrX)(TrX)(TrXX)(TrYY)\n",
       "([4, 2], [2, 2, 1, 1], 2):       (9/4360*sqrt(109)*sqrt(5)*sqrt(3)*sqrt(2))(TrXXXX)(TrYY) + (21/5450*sqrt(109)*sqrt(5)*sqrt(3)*sqrt(2))(TrXXX)(TrXYY) + (3/2180*sqrt(109)*sqrt(5)*sqrt(3)*sqrt(2))(TrXX)(TrXXYY) + (3/4360*sqrt(109)*sqrt(5)*sqrt(3)*sqrt(2))(TrXX)(TrXYXY) + (-29/10900*sqrt(109)*sqrt(5)*sqrt(3)*sqrt(2))(TrX)(TrXXX)(TrYY) + (-2/2725*sqrt(109)*sqrt(5)*sqrt(3)*sqrt(2))(TrXX)(TrXX)(TrYY) + (13/32700*sqrt(109)*sqrt(5)*sqrt(3)*sqrt(2))(TrX)(TrX)(TrXXYY) + (13/65400*sqrt(109)*sqrt(5)*sqrt(3)*sqrt(2))(TrX)(TrX)(TrXYXY) + (-21/5450*sqrt(109)*sqrt(5)*sqrt(3)*sqrt(2))(TrX)(TrXX)(TrXYY) + (29/21800*sqrt(109)*sqrt(5)*sqrt(3)*sqrt(2))(TrX)(TrX)(TrXX)(TrYY) + (-9/2180*sqrt(109)*sqrt(5)*sqrt(3)*sqrt(2))(TrXXXY)(TrXY) + (-21/5450*sqrt(109)*sqrt(5)*sqrt(3)*sqrt(2))(TrXXY)(TrXXY) + (13/21800*sqrt(109)*sqrt(5)*sqrt(3)*sqrt(2))(TrXXXX)(TrY)(TrY) + (-13/10900*sqrt(109)*sqrt(5)*sqrt(3)*sqrt(2))(TrX)(TrXXXY)(TrY) + (-13/10900*sqrt(109)*sqrt(5)*sqrt(3)*sqrt(2))(TrXXX)(TrXY)(TrY) + (13/10900*sqrt(109)*sqrt(5)*sqrt(3)*sqrt(2))(TrXX)(TrXXY)(TrY) + (71/10900*sqrt(109)*sqrt(5)*sqrt(3)*sqrt(2))(TrX)(TrXXY)(TrXY) + (2/2725*sqrt(109)*sqrt(5)*sqrt(3)*sqrt(2))(TrXX)(TrXY)(TrXY) + (-13/21800*sqrt(109)*sqrt(5)*sqrt(3)*sqrt(2))(TrXX)(TrXX)(TrY)(TrY) + (13/10900*sqrt(109)*sqrt(5)*sqrt(3)*sqrt(2))(TrX)(TrXX)(TrXY)(TrY) + (-21/10900*sqrt(109)*sqrt(5)*sqrt(3)*sqrt(2))(TrX)(TrX)(TrXY)(TrXY)\n",
       "([4, 2], [2, 1, 1, 1, 1], 1):    (-1/65*sqrt(13)*sqrt(3)*sqrt(2))(TrXXXX)(TrYY) + (2/65*sqrt(13)*sqrt(3)*sqrt(2))(TrXXXY)(TrXY) + (-1/65*sqrt(13)*sqrt(3)*sqrt(2))(TrXXX)(TrXYY) + (-2/195*sqrt(13)*sqrt(3)*sqrt(2))(TrXX)(TrXXYY) + (-1/195*sqrt(13)*sqrt(3)*sqrt(2))(TrXX)(TrXYXY) + (1/65*sqrt(13)*sqrt(3)*sqrt(2))(TrXXY)(TrXXY) + (1/260*sqrt(13)*sqrt(3)*sqrt(2))(TrXXXX)(TrY)(TrY) + (-1/130*sqrt(13)*sqrt(3)*sqrt(2))(TrX)(TrXXXY)(TrY) + (1/52*sqrt(13)*sqrt(3)*sqrt(2))(TrX)(TrXXX)(TrYY) + (1/130*sqrt(13)*sqrt(3)*sqrt(2))(TrXX)(TrXX)(TrYY) + (1/390*sqrt(13)*sqrt(3)*sqrt(2))(TrX)(TrX)(TrXXYY) + (1/780*sqrt(13)*sqrt(3)*sqrt(2))(TrX)(TrX)(TrXYXY) + (-1/26*sqrt(13)*sqrt(3)*sqrt(2))(TrX)(TrXXY)(TrXY) + (-1/130*sqrt(13)*sqrt(3)*sqrt(2))(TrXX)(TrXY)(TrXY) + (-1/260*sqrt(13)*sqrt(3)*sqrt(2))(TrX)(TrXXX)(TrY)(TrY) + (-1/520*sqrt(13)*sqrt(3)*sqrt(2))(TrXX)(TrXX)(TrY)(TrY) + (1/130*sqrt(13)*sqrt(3)*sqrt(2))(TrX)(TrX)(TrXXY)(TrY) + (1/260*sqrt(13)*sqrt(3)*sqrt(2))(TrX)(TrXX)(TrXY)(TrY) + (-7/520*sqrt(13)*sqrt(3)*sqrt(2))(TrX)(TrX)(TrXX)(TrYY) + (1/520*sqrt(13)*sqrt(3)*sqrt(2))(TrX)(TrX)(TrXX)(TrY)(TrY) + (-1/260*sqrt(13)*sqrt(3)*sqrt(2))(TrX)(TrX)(TrX)(TrXYY) + (3/260*sqrt(13)*sqrt(3)*sqrt(2))(TrX)(TrX)(TrXY)(TrXY) + (-1/260*sqrt(13)*sqrt(3)*sqrt(2))(TrX)(TrX)(TrX)(TrXY)(TrY) + (1/520*sqrt(13)*sqrt(3)*sqrt(2))(TrX)(TrX)(TrX)(TrX)(TrYY) + (1/52*sqrt(13)*sqrt(3)*sqrt(2))(TrX)(TrXX)(TrXYY)\n"
      ]
     },
     "execution_count": 274,
     "metadata": {},
     "output_type": "execute_result"
    }
   ],
   "source": [
    "basis42"
   ]
  },
  {
   "cell_type": "code",
   "execution_count": null,
   "metadata": {
    "collapsed": true
   },
   "outputs": [],
   "source": []
  },
  {
   "cell_type": "code",
   "execution_count": 651,
   "metadata": {
    "collapsed": true
   },
   "outputs": [
    {
     "name": "stdout",
     "output_type": "stream",
     "text": [
      "The coefficients below are the expansion coefficients of the quarter-bps operators in terms of the GL(2) basis. In order, the GL(2) basis is labelled by:\n",
      "([4, 2], [5, 1], 1)\n",
      "([4, 2], [4, 2], 1)\n",
      "([4, 2], [4, 2], 2)\n",
      "([4, 2], [4, 1, 1], 1)\n",
      "([4, 2], [4, 1, 1], 2)\n",
      "([4, 2], [3, 3], 1)\n",
      "([4, 2], [3, 2, 1], 1)\n",
      "([4, 2], [3, 2, 1], 2)\n",
      "([4, 2], [3, 2, 1], 3)\n",
      "([4, 2], [3, 1, 1, 1], 1)\n",
      "([4, 2], [3, 1, 1, 1], 2)\n",
      "([4, 2], [2, 2, 2], 1)\n",
      "([4, 2], [2, 2, 1, 1], 1)\n",
      "([4, 2], [2, 2, 1, 1], 2)\n",
      "([4, 2], [2, 1, 1, 1, 1], 1)\n",
      "\n",
      "Operator 1 has normalisation factor\n",
      "2*sqrt(195*N^10 + 2298*N^9 + 9767*N^8 + 17008*N^7 + 21041*N^6 + 74974*N^5 + 135005*N^4 - 144704*N^3 - 399936*N^2 - 62976*N + 707328)\n",
      "The relative coefficients are\n",
      "(N - 1)*(N - 2)*(N - 3)*(N - 4)*N\n",
      "0\n",
      "-(N + 4)*(N - 1)*(N - 2)*(N - 3)*(N - 4)\n",
      "-2/9*sqrt(5)*sqrt(3)*sqrt(2)*(N + 4)*(N - 1)*(N - 3)*(N - 4)*N\n",
      "11/9*sqrt(3)*sqrt(2)*(N + 4)*(N - 1)*(N - 3)*(N - 4)*N\n",
      "0\n",
      "-2/3*(N + 4)*(N + 3)*(N - 1)*(N - 3)*(N - 4)\n",
      "0\n",
      "-8/3*sqrt(2)*(N + 4)*(N + 3)*(N - 1)*(N - 3)*(N - 4)\n",
      "10/9*sqrt(5)*sqrt(3)*sqrt(2)*(N + 4)*(N + 3)*(N - 1)*(N - 4)*N\n",
      "29/9*sqrt(3)*sqrt(2)*(N + 4)*(N + 3)*(N - 1)*(N - 4)*N\n",
      "10/3*(N + 4)*(N + 3)*(N + 2)*(N - 3)*(N - 4)\n",
      "2*(N + 4)*(N + 3)*(N + 2)*(N - 1)*(N - 4)\n",
      "13*(N + 4)*(N + 3)*(N + 2)*(N - 1)*(N - 4)\n",
      "65/3*(N + 4)*(N + 3)*(N + 2)*(N - 1)*N\n",
      "\n",
      "Operator 2 has normalisation factor\n",
      "3*sqrt(1196325*N^16 + 27085500*N^15 + 258799995*N^14 + 1318806504*N^13 + 3566832842*N^12 + 3188927936*N^11 - 8322235886*N^10 - 21588014040*N^9 + 10860905061*N^8 + 93884367956*N^7 + 85217854515*N^6 - 108073721232*N^5 - 238440710580*N^4 - 59355592848*N^3 + 182502383584*N^2 + 176417428224*N + 50393286144)\n",
      "The relative coefficients are\n",
      "-sqrt(5)*sqrt(2)*(3*N^4 + 15*N^3 - 24*N^2 - 105*N - 14)*(N + 1)*(N - 2)*(N - 3)*N\n",
      "-3/20*sqrt(5)*sqrt(2)*(195*N^5 + 1149*N^4 + 687*N^3 - 3927*N^2 - 1552*N + 4448)*(N + 1)*(N - 2)*(N - 3)\n",
      "3/10*sqrt(5)*sqrt(2)*(75*N^5 + 473*N^4 + 349*N^3 - 1979*N^2 - 1964*N + 1296)*(N + 1)*(N - 2)*(N - 3)\n",
      "1/6*sqrt(3)*(105*N^5 + 743*N^4 + 709*N^3 - 3989*N^2 - 6304*N + 736)*(N + 1)*(N - 3)*N\n",
      "-1/3*sqrt(5)*sqrt(3)*(87*N^5 + 581*N^4 + 493*N^3 - 2783*N^2 - 3700*N + 1072)*(N + 1)*(N - 3)*N\n",
      "-1/4*sqrt(5)*sqrt(2)*(195*N^5 + 1149*N^4 + 687*N^3 - 3927*N^2 - 1552*N + 4448)*(N + 3)*(N - 2)*(N - 3)\n",
      "1/5*sqrt(5)*sqrt(2)*(465*N^5 + 2771*N^4 + 1723*N^3 - 9833*N^2 - 5068*N + 10192)*(N + 3)*(N + 1)*(N - 3)\n",
      "6/5*sqrt(5)*(195*N^5 + 1149*N^4 + 687*N^3 - 3927*N^2 - 1552*N + 4448)*(N + 3)*(N + 1)*(N - 3)\n",
      "8/5*sqrt(5)*(75*N^5 + 473*N^4 + 349*N^3 - 1979*N^2 - 1964*N + 1296)*(N + 3)*(N + 1)*(N - 3)\n",
      "-5/6*sqrt(3)*(105*N^5 + 743*N^4 + 709*N^3 - 3989*N^2 - 6304*N + 736)*(N + 3)*(N + 1)*N\n",
      "-1/3*sqrt(5)*sqrt(3)*(123*N^5 + 905*N^4 + 925*N^3 - 5195*N^2 - 8908*N + 400)*(N + 3)*(N + 1)*N\n",
      "-5/4*sqrt(5)*sqrt(2)*(333*N^4 + 2320*N^3 + 3561*N^2 - 3520*N - 7264)*(N + 3)*(N + 2)*(N + 1)*(N - 3)\n",
      "3/4*sqrt(5)*sqrt(2)*(1227*N^5 + 7205*N^4 + 4255*N^3 - 24335*N^2 - 8672*N + 28320)*(N + 3)*(N + 2)*(N + 1)\n",
      "3/2*sqrt(5)*sqrt(2)*(39*N^5 + 149*N^4 - 83*N^3 + 433*N^2 + 3244*N + 1968)*(N + 3)*(N + 2)*(N + 1)\n",
      "-sqrt(5)*sqrt(2)*(202*N^3 + 1359*N^2 + 2390*N + 674)*(N + 3)*(N + 2)*(N + 1)*N\n",
      "\n",
      "Operator 3 has normalisation factor\n",
      "6*sqrt(61564725*N^16 + 1164594780*N^15 + 9008369910*N^14 + 34742230200*N^13 + 59003291106*N^12 - 15333019104*N^11 - 183922093520*N^10 - 77829733544*N^9 + 315384978685*N^8 - 17351694156*N^7 - 676618506646*N^6 + 523092393840*N^5 + 1905953355844*N^4 + 809335501904*N^3 + 437396313224*N^2 + 1504913134080*N + 903355788672)\n",
      "The relative coefficients are\n",
      "-sqrt(2)*(2445*N^5 + 6657*N^4 - 11419*N^3 - 26433*N^2 + 18624*N + 30126)*(N - 2)*(N - 3)*N\n",
      "6*sqrt(2)*(168*N^5 + 906*N^4 + 161*N^3 - 3477*N^2 - 36*N + 4278)*(N + 1)*(N - 2)*(N - 3)\n",
      "3*sqrt(2)*(591*N^6 + 4047*N^5 + 3647*N^4 - 19615*N^3 - 24352*N^2 + 29218*N + 34464)*(N - 2)*(N - 3)\n",
      "4/3*sqrt(5)*sqrt(3)*(759*N^6 + 5121*N^5 + 4714*N^4 - 22931*N^3 - 27865*N^2 + 33460*N + 38742)*(N - 3)*N\n",
      "-2/3*sqrt(3)*(7845*N^6 + 53109*N^5 + 48653*N^4 - 242293*N^3 - 295976*N^2 + 355334*N + 413328)*(N - 3)*N\n",
      "10*sqrt(2)*(168*N^5 + 906*N^4 + 161*N^3 - 3477*N^2 - 36*N + 4278)*(N + 3)*(N - 2)*(N - 3)\n",
      "-2*sqrt(2)*(753*N^6 + 4545*N^5 + 4889*N^4 - 6913*N^3 - 3752*N^2 + 4718*N - 240)*(N + 3)*(N - 3)\n",
      "-48*(168*N^5 + 906*N^4 + 161*N^3 - 3477*N^2 - 36*N + 4278)*(N + 3)*(N + 1)*(N - 3)\n",
      "16*(591*N^6 + 4047*N^5 + 3647*N^4 - 19615*N^3 - 24352*N^2 + 29218*N + 34464)*(N + 3)*(N - 3)\n",
      "-20/3*sqrt(5)*sqrt(3)*(759*N^6 + 5121*N^5 + 4714*N^4 - 22931*N^3 - 27865*N^2 + 33460*N + 38742)*(N + 3)*N\n",
      "-2/3*sqrt(3)*(22515*N^6 + 151731*N^5 + 139907*N^4 - 674947*N^3 - 818624*N^2 + 983066*N + 1136352)*(N + 3)*N\n",
      "10*sqrt(2)*(585*N^5 + 4056*N^4 + 7878*N^3 + 4281*N^2 + 4042*N + 4518)*(N + 3)*(N + 2)*(N - 3)\n",
      "-6*sqrt(2)*(714*N^7 + 7605*N^6 + 30573*N^5 + 62153*N^4 + 89599*N^3 + 125606*N^2 + 110614*N + 33636)\n",
      "6*sqrt(2)*(3345*N^8 + 35694*N^7 + 130640*N^6 + 156993*N^5 - 103917*N^4 - 328951*N^3 - 195244*N^2 - 147486*N - 121824)\n",
      "-2*sqrt(2)*(10740*N^6 + 111834*N^5 + 392565*N^4 + 383252*N^3 - 678221*N^2 - 1617666*N - 853254)*N\n",
      "\n",
      "Operator 4 has normalisation factor\n",
      "12*sqrt(93476025*N^16 + 1612393695*N^15 + 11013446394*N^14 + 34526289987*N^13 + 29660697936*N^12 - 98498965581*N^11 - 203072674968*N^10 + 154945270125*N^9 + 449766055695*N^8 - 624364696710*N^7 - 1246035300318*N^6 + 1119952316004*N^5 + 1953728842580*N^4 - 1114329042600*N^3 - 1086753482680*N^2 + 1691309503680*N + 1297828640736)\n",
      "The relative coefficients are\n",
      "-sqrt(2)*(7155*N^5 + 22752*N^4 - 21231*N^3 - 76512*N^2 + 21066*N + 63020)*(N - 2)*(N - 3)*N\n",
      "6*sqrt(2)*(270*N^5 + 1728*N^4 + 1287*N^3 - 6762*N^2 - 4278*N + 9380)*(N + 1)*(N - 2)*(N - 3)\n",
      "3*sqrt(2)*(2025*N^6 + 14460*N^5 + 19239*N^4 - 46512*N^3 - 80274*N^2 + 42292*N + 71520)*(N - 2)*(N - 3)\n",
      "4/3*sqrt(5)*sqrt(3)*(2295*N^6 + 16458*N^5 + 22254*N^4 - 51987*N^3 - 91314*N^2 + 47394*N + 80900)*(N - 3)*N\n",
      "-2/3*sqrt(3)*(24435*N^6 + 175044*N^5 + 235749*N^4 - 555432*N^3 - 971334*N^2 + 506028*N + 861760)*(N - 3)*N\n",
      "10*sqrt(2)*(270*N^5 + 1728*N^4 + 1287*N^3 - 6762*N^2 - 4278*N + 9380)*(N + 3)*(N - 2)*(N - 3)\n",
      "-2*sqrt(2)*(135*N^6 + 1524*N^5 + 4881*N^4 + 2712*N^3 - 8046*N^2 - 1476*N + 3520)*(N + 3)*(N - 3)\n",
      "-48*(270*N^5 + 1728*N^4 + 1287*N^3 - 6762*N^2 - 4278*N + 9380)*(N + 3)*(N + 1)*(N - 3)\n",
      "16*(2025*N^6 + 14460*N^5 + 19239*N^4 - 46512*N^3 - 80274*N^2 + 42292*N + 71520)*(N + 3)*(N - 3)\n",
      "4/3*sqrt(5)*sqrt(3)*(18630*N^8 + 168027*N^7 + 436488*N^6 - 22071*N^5 - 1221552*N^4 - 330750*N^3 + 1226756*N^2 - 644796*N - 1298232)\n",
      "-2/3*sqrt(3)*(37260*N^8 + 400629*N^7 + 1309611*N^6 + 387381*N^5 - 4795443*N^4 - 5190456*N^3 + 4201270*N^2 + 6554016*N + 1298232)\n",
      "-10*sqrt(2)*(135*N^5 + 609*N^4 - 1257*N^3 - 9444*N^2 - 12438*N - 5860)*(N + 3)*(N + 2)*(N - 3)\n",
      "6*sqrt(2)*(525*N^6 + 3840*N^5 + 6681*N^4 - 8262*N^3 - 49724*N^2 - 91728*N - 41832)*(N + 2)\n",
      "3*sqrt(2)*(6825*N^6 + 61005*N^5 + 175743*N^4 + 113439*N^3 - 265222*N^2 - 407694*N - 160596)*(N + 2)\n",
      "-sqrt(2)*(22575*N^6 + 198375*N^5 + 553953*N^4 + 307269*N^3 - 994562*N^2 - 1589994*N - 649116)*(N + 2)\n",
      "\n",
      "Operator 5 has normalisation factor\n",
      "6*sqrt(149226300*N^14 + 2094533640*N^13 + 10660893948*N^12 + 20470965300*N^11 - 2209082715*N^10 - 23656646682*N^9 + 108969897216*N^8 + 185022077310*N^7 - 186235972937*N^6 - 216166001512*N^5 + 413959581308*N^4 + 246958572128*N^3 - 287690109584*N^2 - 143358681600*N + 276161485248)\n",
      "The relative coefficients are\n",
      "5*sqrt(2)*(135*N^5 - 18*N^4 - 15*N^3 - 1022*N^2 - 76*N - 816)*(N - 2)*N\n",
      "-15/2*sqrt(2)*(864*N^5 + 2430*N^4 - 5973*N^3 - 6119*N^2 + 17876*N - 12228)*(N + 1)*(N - 2)\n",
      "15*sqrt(2)*(243*N^6 + 924*N^5 - 1152*N^4 - 3670*N^3 + 5307*N^2 + 2256*N - 2988)*(N - 2)\n",
      "5/3*sqrt(5)*sqrt(3)*(108*N^6 + 402*N^5 - 1065*N^4 - 2588*N^3 + 9471*N^2 + 3376*N + 276)*N\n",
      "-10/3*sqrt(3)*(945*N^6 + 3576*N^5 - 5586*N^4 - 16186*N^3 + 34863*N^2 + 13520*N - 8412)*N\n",
      "-25/2*sqrt(2)*(864*N^5 + 2430*N^4 - 5973*N^3 - 6119*N^2 + 17876*N - 12228)*(N + 3)*(N - 2)\n",
      "10*sqrt(2)*(1971*N^6 + 7512*N^5 - 8238*N^4 - 27854*N^3 + 28821*N^2 + 13552*N - 27444)*(N + 3)\n",
      "60*(864*N^5 + 2430*N^4 - 5973*N^3 - 6119*N^2 + 17876*N - 12228)*(N + 3)*(N + 1)\n",
      "80*(243*N^6 + 924*N^5 - 1152*N^4 - 3670*N^3 + 5307*N^2 + 2256*N - 2988)*(N + 3)\n",
      "5/3*sqrt(5)*sqrt(3)*(906*N^5 + 7485*N^4 + 18394*N^3 + 9099*N^2 - 14000*N - 13164)*N\n",
      "10/3*sqrt(3)*(285*N^5 + 5955*N^4 + 34507*N^3 + 63369*N^2 + 19738*N + 7536)*N\n",
      "1/2*sqrt(2)*(48060*N^7 + 429834*N^6 + 1227525*N^5 + 919710*N^4 - 762363*N^3 - 208286*N^2 + 1345500*N + 946584)\n",
      "15/2*sqrt(2)*(3702*N^6 + 29949*N^5 + 68544*N^4 + 7491*N^3 - 79610*N^2 + 45780*N + 78984)\n",
      "-15*sqrt(2)*(699*N^6 + 5163*N^5 + 8795*N^4 - 9599*N^3 - 20952*N^2 + 21736*N + 26328)\n",
      "-5*sqrt(2)*(1605*N^5 + 14460*N^4 + 42159*N^3 + 36288*N^2 - 16754*N - 19428)*N\n",
      "\n",
      "Operator 6 has normalisation factor\n",
      "6*sqrt(2289145860*N^14 + 30676025160*N^13 + 143090444106*N^12 + 199532196072*N^11 - 363446926560*N^10 - 938557107072*N^9 + 895453068081*N^8 + 2300320758168*N^7 - 1935786066506*N^6 - 2803688191936*N^5 + 2367360671652*N^4 + 1682472022400*N^3 - 547788620928*N^2 - 2478815939584*N + 1584231184448)\n",
      "The relative coefficients are\n",
      "-sqrt(5)*(3744*N^5 + 834*N^4 - 10353*N^3 + 2235*N^2 + 12772*N - 12196)*(N - 2)*N\n",
      "3/5*sqrt(5)*(31068*N^5 + 101877*N^4 - 152832*N^3 - 220764*N^2 + 543832*N - 311392)*(N + 1)*(N - 2)\n",
      "-3/5*sqrt(5)*(14472*N^6 + 62280*N^5 - 22275*N^4 - 183769*N^3 + 179192*N^2 + 90140*N - 126288)*(N - 2)\n",
      "1/3*sqrt(3)*sqrt(2)*(2124*N^6 + 8385*N^5 - 6405*N^4 - 6058*N^3 - 35316*N^2 + 52160*N - 58816)*N\n",
      "1/3*sqrt(5)*sqrt(3)*sqrt(2)*(6984*N^6 + 30660*N^5 - 8241*N^4 - 105415*N^3 + 135768*N^2 + 12356*N - 28720)*N\n",
      "sqrt(5)*(31068*N^5 + 101877*N^4 - 152832*N^3 - 220764*N^2 + 543832*N - 311392)*(N + 3)*(N - 2)\n",
      "2/5*sqrt(5)*(285786*N^7 + 1969050*N^6 + 2673315*N^5 - 4656257*N^4 - 4825474*N^3 + 10306390*N^2 + 87656*N - 4965240)\n",
      "-4/5*sqrt(5)*sqrt(2)*(37134*N^7 + 284949*N^6 + 485040*N^5 - 653178*N^4 - 1285249*N^3 + 1525974*N^2 + 923284*N - 1603176)\n",
      "-8/5*sqrt(5)*sqrt(2)*(6462*N^7 + 49482*N^6 + 84765*N^5 - 118279*N^4 - 213842*N^3 + 330722*N^2 + 110632*N - 207528)\n",
      "-1/3*sqrt(3)*sqrt(2)*(1317*N^5 + 17751*N^4 + 46708*N^3 + 28780*N^2 + 14872*N - 73824)*N\n",
      "-1/3*sqrt(5)*sqrt(3)*sqrt(2)*(2208*N^5 + 13728*N^4 + 60103*N^3 + 86374*N^2 - 51212*N + 124392)*N\n",
      "-sqrt(5)*(12189*N^5 + 78567*N^4 + 107966*N^3 - 102740*N^2 - 83376*N + 221472)*(N + 2)\n",
      "-3/5*sqrt(5)*(12189*N^5 + 78567*N^4 + 107966*N^3 - 102740*N^2 - 83376*N + 221472)*(N + 2)\n",
      "3/5*sqrt(5)*(5436*N^5 + 30408*N^4 + 30629*N^3 - 65760*N^2 - 49124*N + 147648)*(N + 2)\n",
      "sqrt(5)*(1614*N^4 + 13182*N^3 + 24809*N^2 - 1640*N - 3876)*(N + 2)*N\n",
      "\n",
      "Operator 7 has normalisation factor\n",
      "3*sqrt(745901460*N^14 + 7170942312*N^13 + 21911384952*N^12 + 12244473540*N^11 - 19149185331*N^10 + 33940935000*N^9 - 65876461776*N^8 - 132172815756*N^7 + 435498295984*N^6 - 224880916256*N^5 - 240982299724*N^4 + 216426706240*N^3 + 99175589280*N^2 - 52493716480*N + 34431490880)\n",
      "The relative coefficients are\n",
      "-2*sqrt(2)*(6156*N^5 + 1686*N^4 - 30624*N^3 + 34791*N^2 + 3410*N - 15920)*(N - 2)*N\n",
      "12*sqrt(2)*(162*N^5 + 498*N^4 - 1302*N^3 - 369*N^2 + 2795*N - 2384)*(N + 1)*(N - 2)\n",
      "6*sqrt(2)*(1836*N^6 + 7890*N^5 - 6888*N^4 - 27007*N^3 + 44290*N^2 - 1308*N - 18048)*(N - 2)\n",
      "8/3*sqrt(5)*sqrt(3)*(1998*N^6 + 8550*N^5 - 7692*N^4 - 28678*N^3 + 46716*N^2 - 897*N - 20432)*N\n",
      "-4/3*sqrt(3)*(21492*N^6 + 92070*N^5 - 82200*N^4 - 310445*N^3 + 506598*N^2 - 11100*N - 217600)*N\n",
      "20*sqrt(2)*(162*N^5 + 498*N^4 - 1302*N^3 - 369*N^2 + 2795*N - 2384)*(N + 3)*(N - 2)\n",
      "4*sqrt(2)*(234*N^6 - 294*N^5 - 1867*N^4 + 4474*N^3 + 10102*N^2 + 19184*N - 6960)\n",
      "15660*N^7 + 98316*N^6 + 138510*N^5 - 135072*N^4 - 169240*N^3 + 307100*N^2 + 40928*N + 186864\n",
      "-54810*N^7 - 332394*N^6 - 404241*N^5 + 424288*N^4 + 450252*N^3 + 72046*N^2 - 204032*N - 63816\n",
      "8/3*sqrt(5)*sqrt(3)*(2394*N^5 + 13881*N^4 + 15581*N^3 - 17560*N^2 - 12991*N + 348)*N\n",
      "-4/3*sqrt(3)*(25614*N^5 + 104550*N^4 - 84653*N^3 - 453134*N^2 + 218290*N + 257340)*N\n",
      "20*sqrt(2)*(240*N^5 + 1203*N^4 - 344*N^3 - 6140*N^2 - 2757*N - 1044)*(N + 2)\n",
      "12*sqrt(2)*(240*N^5 + 1203*N^4 - 344*N^3 - 6140*N^2 - 2757*N - 1044)*(N + 2)\n",
      "6*sqrt(2)*(2154*N^5 + 12678*N^4 + 15925*N^3 - 11420*N^2 - 10234*N + 1392)*(N + 2)\n",
      "-2*sqrt(2)*(7422*N^4 + 42846*N^3 + 46399*N^2 - 58820*N - 41730)*(N + 2)*N\n",
      "\n",
      "Operator 8 has normalisation factor\n",
      "6*sqrt(1691280*N^14 + 14469840*N^13 + 34933194*N^12 - 15345720*N^11 - 97734483*N^10 + 108829584*N^9 + 94236018*N^8 - 365252412*N^7 + 332214736*N^6 + 23494544*N^5 - 188670784*N^4 + 59358800*N^3 + 76067360*N^2 - 55528000*N + 47136640)\n",
      "The relative coefficients are\n",
      "(2052*N^5 + 2592*N^4 - 7293*N^3 + 4232*N^2 + 1320*N - 2240)*(N - 2)*N\n",
      "-3*(108*N^5 + 477*N^4 - 348*N^3 - 770*N^2 + 1254*N - 772)*(N + 1)*(N - 2)\n",
      "-3*(612*N^6 + 3210*N^5 + 939*N^4 - 7568*N^3 + 5760*N^2 + 692*N - 2472)*(N - 2)\n",
      "sqrt(5)*sqrt(3)*sqrt(2)*(1296*N^7 + 6029*N^6 + 1473*N^5 - 11350*N^4 + 9484*N^3 - 4114*N^2 - 3428*N + 3440)\n",
      "sqrt(3)*sqrt(2)*(648*N^7 + 4186*N^6 + 1473*N^5 - 12472*N^4 + 8280*N^3 + 6672*N^2 - 4760*N - 3440)\n",
      "-5*(108*N^5 + 477*N^4 - 348*N^3 - 770*N^2 + 1254*N - 772)*(N + 3)*(N - 2)\n",
      "-12*(13*N^5 - 7*N^4 + 84*N^3 - 129*N^2 + 222*N - 40)*(N + 3)\n",
      "-12*sqrt(2)*(15*N^5 + 86*N^4 - 194*N^3 + 278*N^2 - 178*N + 284)*(N + 3)\n",
      "16*sqrt(2)*(69*N^4 + 222*N^3 + 112*N^2 - 193*N - 62)*(N + 3)*(N - 1)\n",
      "-sqrt(5)*sqrt(3)*sqrt(2)*(97*N^4 + 316*N^3 + 62*N^2 - 306*N - 164)*(N + 3)*N\n",
      "2*sqrt(3)*sqrt(2)*(263*N^5 + 410*N^4 - 1216*N^3 - 953*N^2 + 1060*N + 860)*(N + 3)\n",
      "-5*(15*N^4 + 60*N^3 - 262*N^2 - 146*N - 244)*(N + 3)*(N + 2)\n",
      "-3*(15*N^4 + 60*N^3 - 262*N^2 - 146*N - 244)*(N + 3)*(N + 2)\n",
      "-6*(69*N^4 + 222*N^3 + 112*N^2 - 193*N - 62)*(N + 3)*(N + 2)\n",
      "2*(222*N^4 + 726*N^3 + 74*N^2 - 725*N - 430)*(N + 3)*(N + 2)\n",
      "\n",
      "Operator 9 has normalisation factor\n",
      "3*sqrt(64152*N^12 + 209952*N^11 - 137241*N^10 - 640440*N^9 + 908640*N^8 - 322236*N^7 - 116124*N^6 - 675864*N^5 + 2362028*N^4 - 3013280*N^3 + 2221520*N^2 - 926400*N + 177280)\n",
      "The relative coefficients are\n",
      "5*sqrt(2)*(27*N^5 - 54*N^4 + 39*N^3 + 7*N^2 - 36*N + 20)*N\n",
      "-3/4*sqrt(2)*(540*N^6 + 765*N^5 - 2364*N^4 + 2098*N^3 - 686*N^2 - 592*N + 488)\n",
      "3/2*sqrt(2)*(90*N^6 + 75*N^5 - 198*N^4 + 156*N^3 - 202*N^2 + 216*N - 104)\n",
      "1/6*sqrt(5)*sqrt(3)*(255*N^4 - 78*N^3 - 310*N^2 + 218*N - 28)*N\n",
      "5/3*sqrt(3)*(69*N^4 - 156*N^3 + 52*N^2 + 178*N - 164)*N\n",
      "1/4*sqrt(2)*(1188*N^6 + 3519*N^5 - 2868*N^4 - 5066*N^3 + 9654*N^2 - 8560*N + 3000)\n",
      "-sqrt(2)*(87*N^5 + 81*N^4 - 302*N^3 + 396*N^2 - 214*N + 60)\n",
      "198*N^5 - 24*N^4 - 972*N^3 + 1412*N^2 - 1280*N + 336\n",
      "8*(21*N^4 + 48*N^3 - 36*N^2 - 2*N - 12)*(N - 1)\n",
      "-1/6*sqrt(5)*sqrt(3)*(51*N^4 + 138*N^3 - 86*N^2 - 142*N - 12)*N\n",
      "5/3*sqrt(3)*(33*N^4 + 48*N^3 - 164*N^2 + 2*N + 156)*N\n",
      "5/4*sqrt(2)*(33*N^4 + 54*N^3 - 58*N^2 + 134*N - 36)*(N + 2)\n",
      "3/4*sqrt(2)*(33*N^4 + 54*N^3 - 58*N^2 + 134*N - 36)*(N + 2)\n",
      "-3/2*sqrt(2)*(21*N^4 + 48*N^3 - 36*N^2 - 2*N - 12)*(N + 2)\n",
      "5*sqrt(2)*(3*N^3 + 9*N^2 - 5*N - 14)*(N + 2)*N\n",
      "\n",
      "Operator 10 has normalisation factor\n",
      "18*sqrt(297*N^10 + 378*N^8 - 1260*N^7 + 390*N^6 + 1080*N^5 - 1256*N^4 + 640*N^3 + 760*N^2 - 1920*N + 1440)\n",
      "The relative coefficients are\n",
      "sqrt(3)*sqrt(2)*(81*N^5 - 129*N^4 + 51*N^3 + 76*N^2 - 130*N + 60)\n",
      "6*sqrt(3)*sqrt(2)*(9*N^5 + 3*N^4 - 3*N^3 - 13*N^2 + 13*N - 6)\n",
      "3*sqrt(3)*sqrt(2)*(9*N^3 + 13*N^2 - 13*N + 6)*(3*N^2 - 2)\n",
      "12*sqrt(5)*(5*N^3 - 2*N^2 - 5*N + 3)*N\n",
      "174*N^4 - 390*N^3 + 144*N^2 + 420*N - 360\n",
      "10*sqrt(3)*sqrt(2)*(3*N^2 - 3*N + 2)*(N + 3)*(N - 1)\n",
      "-6*sqrt(3)*sqrt(2)*(N^2 - 2*N + 2)*(N + 3)*N\n",
      "-24*sqrt(3)*(N^2 - 2*N + 2)*(N + 3)\n",
      "16*sqrt(3)*(3*N^2 - 2)*(N + 3)*(N - 1)\n",
      "-12*sqrt(5)*(N + 3)*(N + 1)*(N - 1)*N\n",
      "6*(11*N^3 - 18*N^2 - 10*N + 20)*(N + 3)\n",
      "10*sqrt(3)*sqrt(2)*(N + 3)*(N + 2)\n",
      "6*sqrt(3)*sqrt(2)*(N + 3)*(N + 2)\n",
      "-3*sqrt(3)*sqrt(2)*(3*N^2 - 2)*(N + 3)*(N + 2)\n",
      "sqrt(3)*sqrt(2)*(9*N^2 - 10)*(N + 3)*(N + 2)\n",
      "\n"
     ]
    }
   ],
   "source": [
    "print('The coefficients below are the expansion coefficients of the quarter-bps operators in terms of the GL(2) basis. In order, the GL(2) basis is labelled by:')\n",
    "for lbl in basis42.labels:\n",
    "    print(lbl)\n",
    "print('')\n",
    "for i in range(len(bpsvectors)):\n",
    "    vec = bpsvectors[i]\n",
    "    denom = vec[0].denominator()\n",
    "    print('Operator ' + str(i+1) + ' has normalisation factor')\n",
    "    print(denom)\n",
    "    print('The relative coefficients are')\n",
    "    for cf in vec*denom:\n",
    "        print(cf)\n",
    "    print('')"
   ]
  },
  {
   "cell_type": "code",
   "execution_count": 536,
   "metadata": {
    "collapsed": true
   },
   "outputs": [
    {
     "name": "stdout",
     "output_type": "stream",
     "text": [
      "(195*N^5 + 1149*N^4 + 687*N^3 - 3927*N^2 - 1552*N + 4448)*(N + 4)*(N + 3)*(N + 2)*(N + 1)*(N - 1)^2*(N - 2)*(N - 3)*(N - 4)*N^2\n",
      "------------------------------------------------------------------------------------------------------------\n",
      "195*N^10 + 2298*N^9 + 9767*N^8 + 17008*N^7 + 21041*N^6 + 74974*N^5 + 135005*N^4 - 144704*N^3 - 399936*N^2 - 62976*N + 707328\n",
      "\n",
      "\n",
      "(6135*N^8 + 69450*N^7 + 265508*N^6 + 271608*N^5 - 614501*N^4 - 1396058*N^3 + 54366*N^2 + 1782800*N + 1020192)*(195*N^5 + 1149*N^4 + 687*N^3 - 3927*N^2 - 1552*N + 4448)*(N + 3)*(N + 2)*(N + 1)^2*(N - 1)*(N - 2)*(N - 3)*N^2\n",
      "------------------------------------------------------------------------------------------------------------\n",
      "1196325*N^16 + 27085500*N^15 + 258799995*N^14 + 1318806504*N^13 + 3566832842*N^12 + 3188927936*N^11 - 8322235886*N^10 - 21588014040*N^9 + 10860905061*N^8 + 93884367956*N^7 + 85217854515*N^6 - 108073721232*N^5 - 238440710580*N^4 - 59355592848*N^3 + 182502383584*N^2 + 176417428224*N + 50393286144\n",
      "\n",
      "\n",
      "(10035*N^8 + 94914*N^7 + 264876*N^6 + 17268*N^5 - 819309*N^4 - 487830*N^3 + 780722*N^2 + 189568*N - 432744)*(6135*N^8 + 69450*N^7 + 265508*N^6 + 271608*N^5 - 614501*N^4 - 1396058*N^3 + 54366*N^2 + 1782800*N + 1020192)*(N + 1)*(N - 1)*(N - 2)*(N - 3)*N^2\n",
      "------------------------------------------------------------------------------------------------------------\n",
      "61564725*N^16 + 1164594780*N^15 + 9008369910*N^14 + 34742230200*N^13 + 59003291106*N^12 - 15333019104*N^11 - 183922093520*N^10 - 77829733544*N^9 + 315384978685*N^8 - 17351694156*N^7 - 676618506646*N^6 + 523092393840*N^5 + 1905953355844*N^4 + 809335501904*N^3 + 437396313224*N^2 + 1504913134080*N + 903355788672\n",
      "\n",
      "\n",
      "(18630*N^8 + 160677*N^7 + 371643*N^6 - 204495*N^5 - 1326729*N^4 - 15804*N^3 + 1726178*N^2 - 442368*N - 1298232)*(10035*N^8 + 94914*N^7 + 264876*N^6 + 17268*N^5 - 819309*N^4 - 487830*N^3 + 780722*N^2 + 189568*N - 432744)*(N + 2)*(N + 1)*(N - 1)*(N - 2)*(N - 3)*N\n",
      "------------------------------------------------------------------------------------------------------------\n",
      "186952050*N^16 + 3224787390*N^15 + 22026892788*N^14 + 69052579974*N^13 + 59321395872*N^12 - 196997931162*N^11 - 406145349936*N^10 + 309890540250*N^9 + 899532111390*N^8 - 1248729393420*N^7 - 2492070600636*N^6 + 2239904632008*N^5 + 3907457685160*N^4 - 2228658085200*N^3 - 2173506965360*N^2 + 3382619007360*N + 2595657281472\n",
      "\n",
      "\n",
      "(18630*N^8 + 160677*N^7 + 371643*N^6 - 204495*N^5 - 1326729*N^4 - 15804*N^3 + 1726178*N^2 - 442368*N - 1298232)*(8010*N^7 + 56214*N^6 + 79800*N^5 - 132315*N^4 - 158273*N^3 + 296994*N^2 + 33500*N - 171336)*(N + 1)*(N - 1)*(N - 2)*N^2\n",
      "------------------------------------------------------------------------------------------------------------\n",
      "149226300*N^14 + 2094533640*N^13 + 10660893948*N^12 + 20470965300*N^11 - 2209082715*N^10 - 23656646682*N^9 + 108969897216*N^8 + 185022077310*N^7 - 186235972937*N^6 - 216166001512*N^5 + 413959581308*N^4 + 246958572128*N^3 - 287690109584*N^2 - 143358681600*N + 276161485248\n",
      "\n",
      "\n",
      "(285786*N^7 + 1914858*N^6 + 2363889*N^5 - 4900800*N^4 - 4071564*N^3 + 10352018*N^2 - 1210880*N - 4227000)*(8010*N^7 + 56214*N^6 + 79800*N^5 - 132315*N^4 - 158273*N^3 + 296994*N^2 + 33500*N - 171336)*(N + 2)*(N + 1)*(N - 1)*(N - 2)*N^2\n",
      "------------------------------------------------------------------------------------------------------------\n",
      "2289145860*N^14 + 30676025160*N^13 + 143090444106*N^12 + 199532196072*N^11 - 363446926560*N^10 - 938557107072*N^9 + 895453068081*N^8 + 2300320758168*N^7 - 1935786066506*N^6 - 2803688191936*N^5 + 2367360671652*N^4 + 1682472022400*N^3 - 547788620928*N^2 - 2478815939584*N + 1584231184448\n",
      "\n",
      "\n",
      "(285786*N^7 + 1914858*N^6 + 2363889*N^5 - 4900800*N^4 - 4071564*N^3 + 10352018*N^2 - 1210880*N - 4227000)*(2610*N^7 + 12546*N^6 + 3213*N^5 - 25152*N^4 + 20228*N^3 - 5238*N^2 - 8000*N + 5160)*(N + 2)*(N + 1)*(N - 1)*(N - 2)*N^2\n",
      "------------------------------------------------------------------------------------------------------------\n",
      "745901460*N^14 + 7170942312*N^13 + 21911384952*N^12 + 12244473540*N^11 - 19149185331*N^10 + 33940935000*N^9 - 65876461776*N^8 - 132172815756*N^7 + 435498295984*N^6 - 224880916256*N^5 - 240982299724*N^4 + 216426706240*N^3 + 99175589280*N^2 - 52493716480*N + 34431490880\n",
      "\n",
      "\n",
      "(2610*N^7 + 12546*N^6 + 3213*N^5 - 25152*N^4 + 20228*N^3 - 5238*N^2 - 8000*N + 5160)*(648*N^7 + 2772*N^6 + 51*N^5 - 5484*N^4 + 5438*N^3 - 2026*N^2 - 2000*N + 1720)*(N + 3)*(N + 2)*(N + 1)*(N - 1)*(N - 2)*N\n",
      "------------------------------------------------------------------------------------------------------------\n",
      "1691280*N^14 + 14469840*N^13 + 34933194*N^12 - 15345720*N^11 - 97734483*N^10 + 108829584*N^9 + 94236018*N^8 - 365252412*N^7 + 332214736*N^6 + 23494544*N^5 - 188670784*N^4 + 59358800*N^3 + 76067360*N^2 - 55528000*N + 47136640\n",
      "\n",
      "\n",
      "(648*N^7 + 2772*N^6 + 51*N^5 - 5484*N^4 + 5438*N^3 - 2026*N^2 - 2000*N + 1720)*(99*N^6 + 162*N^5 - 324*N^4 + 102*N^3 + 152*N^2 - 260*N + 120)*(N + 2)*(N + 1)*(N - 1)*N^2\n",
      "------------------------------------------------------------------------------------------------------------\n",
      "64152*N^12 + 209952*N^11 - 137241*N^10 - 640440*N^9 + 908640*N^8 - 322236*N^7 - 116124*N^6 - 675864*N^5 + 2362028*N^4 - 3013280*N^3 + 2221520*N^2 - 926400*N + 177280\n",
      "\n",
      "\n",
      "(99*N^6 + 162*N^5 - 324*N^4 + 102*N^3 + 152*N^2 - 260*N + 120)*(3*N^2 - 2)*(N + 3)*(N + 2)*(N + 1)*(N - 1)*N^4\n",
      "------------------------------------------------------------------------------------------------------------\n",
      "297*N^10 + 378*N^8 - 1260*N^7 + 390*N^6 + 1080*N^5 - 1256*N^4 + 640*N^3 + 760*N^2 - 1920*N + 1440\n",
      "\n",
      "\n"
     ]
    }
   ],
   "source": [
    "for i in Fnorms:\n",
    "    print(i.numerator())\n",
    "    print('------------------------------------------------------------------------------------------------------------')\n",
    "    print(i.denominator())\n",
    "    print('')\n",
    "    print('')"
   ]
  },
  {
   "cell_type": "code",
   "execution_count": 652,
   "metadata": {
    "collapsed": true
   },
   "outputs": [
    {
     "name": "stdout",
     "output_type": "stream",
     "text": [
      "The coefficients below are the expansion coefficients of the symmetrised trace operators in terms of the GL(2) basis. In order, the GL(2) basis is labelled by:\n",
      "([4, 2], [5, 1], 1)\n",
      "([4, 2], [4, 2], 1)\n",
      "([4, 2], [4, 2], 2)\n",
      "([4, 2], [4, 1, 1], 1)\n",
      "([4, 2], [4, 1, 1], 2)\n",
      "([4, 2], [3, 3], 1)\n",
      "([4, 2], [3, 2, 1], 1)\n",
      "([4, 2], [3, 2, 1], 2)\n",
      "([4, 2], [3, 2, 1], 3)\n",
      "([4, 2], [3, 1, 1, 1], 1)\n",
      "([4, 2], [3, 1, 1, 1], 2)\n",
      "([4, 2], [2, 2, 2], 1)\n",
      "([4, 2], [2, 2, 1, 1], 1)\n",
      "([4, 2], [2, 2, 1, 1], 2)\n",
      "([4, 2], [2, 1, 1, 1, 1], 1)\n",
      "\n",
      "Operator 1 has normalisation factor\n",
      "390\n",
      "The relative coefficients are\n",
      "sqrt(13)*sqrt(5)*sqrt(3)\n",
      "0\n",
      "-sqrt(13)*sqrt(5)*sqrt(3)\n",
      "-10/3*sqrt(13)*sqrt(2)\n",
      "11/3*sqrt(13)*sqrt(5)*sqrt(2)\n",
      "0\n",
      "-2/3*sqrt(13)*sqrt(5)*sqrt(3)\n",
      "0\n",
      "-8/3*sqrt(13)*sqrt(5)*sqrt(3)*sqrt(2)\n",
      "50/3*sqrt(13)*sqrt(2)\n",
      "29/3*sqrt(13)*sqrt(5)*sqrt(2)\n",
      "10/3*sqrt(13)*sqrt(5)*sqrt(3)\n",
      "2*sqrt(13)*sqrt(5)*sqrt(3)\n",
      "13*sqrt(13)*sqrt(5)*sqrt(3)\n",
      "65/3*sqrt(13)*sqrt(5)*sqrt(3)\n",
      "\n",
      "Operator 2 has normalisation factor\n",
      "3*sqrt(239265*N^10 + 2819646*N^9 + 10008075*N^8 + 379164*N^7 - 57964437*N^6 - 48042402*N^5 + 147342537*N^4 + 134046048*N^3 - 169443808*N^2 - 69184256*N + 127175168)\n",
      "The relative coefficients are\n",
      "-sqrt(2)*(3*N^4 + 15*N^3 - 24*N^2 - 105*N - 14)*(N + 4)\n",
      "-3/20*sqrt(2)*(195*N^5 + 1149*N^4 + 687*N^3 - 3927*N^2 - 1552*N + 4448)\n",
      "3/10*sqrt(2)*(75*N^5 + 473*N^4 + 349*N^3 - 1979*N^2 - 1964*N + 1296)\n",
      "1/30*sqrt(5)*sqrt(3)*(105*N^5 + 743*N^4 + 709*N^3 - 3989*N^2 - 6304*N + 736)\n",
      "-1/3*sqrt(3)*(87*N^5 + 581*N^4 + 493*N^3 - 2783*N^2 - 3700*N + 1072)\n",
      "-1/4*sqrt(2)*(195*N^5 + 1149*N^4 + 687*N^3 - 3927*N^2 - 1552*N + 4448)\n",
      "1/5*sqrt(2)*(465*N^5 + 2771*N^4 + 1723*N^3 - 9833*N^2 - 5068*N + 10192)\n",
      "234*N^5 + 6894/5*N^4 + 4122/5*N^3 - 23562/5*N^2 - 9312/5*N + 26688/5\n",
      "120*N^5 + 3784/5*N^4 + 2792/5*N^3 - 15832/5*N^2 - 15712/5*N + 10368/5\n",
      "-1/6*sqrt(5)*sqrt(3)*(105*N^5 + 743*N^4 + 709*N^3 - 3989*N^2 - 6304*N + 736)\n",
      "-1/3*sqrt(3)*(123*N^5 + 905*N^4 + 925*N^3 - 5195*N^2 - 8908*N + 400)\n",
      "-5/4*sqrt(2)*(333*N^4 + 2320*N^3 + 3561*N^2 - 3520*N - 7264)*(N - 1)\n",
      "3/4*sqrt(2)*(1227*N^5 + 7205*N^4 + 4255*N^3 - 24335*N^2 - 8672*N + 28320)\n",
      "3/2*sqrt(2)*(39*N^5 + 149*N^4 - 83*N^3 + 433*N^2 + 3244*N + 1968)\n",
      "-sqrt(2)*(202*N^3 + 1359*N^2 + 2390*N + 674)*(N - 4)\n",
      "\n",
      "Operator 3 has normalisation factor\n",
      "6*sqrt(61564725*N^16 + 1393861500*N^15 + 13261170060*N^14 + 66331080864*N^13 + 166140007266*N^12 + 57173614704*N^11 - 800263593204*N^10 - 1745467180488*N^9 + 612950718573*N^8 + 6934118736372*N^7 + 6437684590112*N^6 - 9745420149240*N^5 - 21973937523436*N^4 - 5458418229888*N^3 + 19768339612448*N^2 + 20130608626176*N + 6016425843456)\n",
      "The relative coefficients are\n",
      "-sqrt(2)*(2445*N^5 + 6657*N^4 - 11419*N^3 - 26433*N^2 + 18624*N + 30126)*(N + 4)*(N + 3)*(N + 2)\n",
      "6*sqrt(2)*(168*N^5 + 906*N^4 + 161*N^3 - 3477*N^2 - 36*N + 4278)*(N + 3)*(N + 2)*(N + 1)\n",
      "3*sqrt(2)*(591*N^6 + 4047*N^5 + 3647*N^4 - 19615*N^3 - 24352*N^2 + 29218*N + 34464)*(N + 3)*(N + 2)\n",
      "4/3*sqrt(5)*sqrt(3)*(759*N^6 + 5121*N^5 + 4714*N^4 - 22931*N^3 - 27865*N^2 + 33460*N + 38742)*(N + 3)*(N + 2)\n",
      "-2/3*sqrt(3)*(7845*N^6 + 53109*N^5 + 48653*N^4 - 242293*N^3 - 295976*N^2 + 355334*N + 413328)*(N + 3)*(N + 2)\n",
      "10*sqrt(2)*(168*N^5 + 906*N^4 + 161*N^3 - 3477*N^2 - 36*N + 4278)*(N + 3)*(N + 2)*(N + 1)\n",
      "-2*sqrt(2)*(753*N^6 + 4545*N^5 + 4889*N^4 - 6913*N^3 - 3752*N^2 + 4718*N - 240)*(N + 3)*(N + 2)\n",
      "-48*(168*N^5 + 906*N^4 + 161*N^3 - 3477*N^2 - 36*N + 4278)*(N + 3)*(N + 2)*(N + 1)\n",
      "16*(591*N^6 + 4047*N^5 + 3647*N^4 - 19615*N^3 - 24352*N^2 + 29218*N + 34464)*(N + 3)*(N + 2)\n",
      "-20/3*sqrt(5)*sqrt(3)*(759*N^6 + 5121*N^5 + 4714*N^4 - 22931*N^3 - 27865*N^2 + 33460*N + 38742)*(N + 3)*(N + 2)\n",
      "-2/3*sqrt(3)*(22515*N^6 + 151731*N^5 + 139907*N^4 - 674947*N^3 - 818624*N^2 + 983066*N + 1136352)*(N + 3)*(N + 2)\n",
      "10*sqrt(2)*(585*N^5 + 4056*N^4 + 7878*N^3 + 4281*N^2 + 4042*N + 4518)*(N + 3)*(N + 2)*(N - 1)\n",
      "-6*sqrt(2)*(714*N^7 + 7605*N^6 + 30573*N^5 + 62153*N^4 + 89599*N^3 + 125606*N^2 + 110614*N + 33636)\n",
      "6*sqrt(2)*(3345*N^8 + 35694*N^7 + 130640*N^6 + 156993*N^5 - 103917*N^4 - 328951*N^3 - 195244*N^2 - 147486*N - 121824)\n",
      "-2*sqrt(2)*(10740*N^6 + 111834*N^5 + 392565*N^4 + 383252*N^3 - 678221*N^2 - 1617666*N - 853254)*(N - 4)\n",
      "\n",
      "Operator 4 has normalisation factor\n",
      "6*sqrt(186952050*N^16 + 3536495640*N^15 + 26705103813*N^14 + 95492758734*N^13 + 112478339025*N^12 - 286047496188*N^11 - 999101163699*N^10 - 350495059842*N^9 + 2235843225645*N^8 + 2362509269328*N^7 - 2087017192350*N^6 - 3902158433952*N^5 - 392361367460*N^4 + 1653089248224*N^3 + 1596254485464*N^2 + 1758984922656*N + 842703162912)\n",
      "The relative coefficients are\n",
      "-(7155*N^5 + 22752*N^4 - 21231*N^3 - 76512*N^2 + 21066*N + 63020)*(N + 4)*(N + 3)*N\n",
      "6*(270*N^5 + 1728*N^4 + 1287*N^3 - 6762*N^2 - 4278*N + 9380)*(N + 3)*(N + 1)*N\n",
      "3*(2025*N^6 + 14460*N^5 + 19239*N^4 - 46512*N^3 - 80274*N^2 + 42292*N + 71520)*(N + 3)*N\n",
      "2/3*sqrt(5)*sqrt(3)*sqrt(2)*(2295*N^6 + 16458*N^5 + 22254*N^4 - 51987*N^3 - 91314*N^2 + 47394*N + 80900)*(N + 3)*N\n",
      "-1/3*sqrt(3)*sqrt(2)*(24435*N^6 + 175044*N^5 + 235749*N^4 - 555432*N^3 - 971334*N^2 + 506028*N + 861760)*(N + 3)*N\n",
      "10*(270*N^5 + 1728*N^4 + 1287*N^3 - 6762*N^2 - 4278*N + 9380)*(N + 3)*(N + 1)*N\n",
      "-2*(135*N^6 + 1524*N^5 + 4881*N^4 + 2712*N^3 - 8046*N^2 - 1476*N + 3520)*(N + 3)*N\n",
      "-24*sqrt(2)*(270*N^5 + 1728*N^4 + 1287*N^3 - 6762*N^2 - 4278*N + 9380)*(N + 3)*(N + 1)*N\n",
      "8*sqrt(2)*(2025*N^6 + 14460*N^5 + 19239*N^4 - 46512*N^3 - 80274*N^2 + 42292*N + 71520)*(N + 3)*N\n",
      "2/3*sqrt(5)*sqrt(3)*sqrt(2)*(18630*N^8 + 168027*N^7 + 436488*N^6 - 22071*N^5 - 1221552*N^4 - 330750*N^3 + 1226756*N^2 - 644796*N - 1298232)\n",
      "-1/3*sqrt(3)*sqrt(2)*(37260*N^8 + 400629*N^7 + 1309611*N^6 + 387381*N^5 - 4795443*N^4 - 5190456*N^3 + 4201270*N^2 + 6554016*N + 1298232)\n",
      "-10*(135*N^5 + 609*N^4 - 1257*N^3 - 9444*N^2 - 12438*N - 5860)*(N + 3)*(N - 1)*N\n",
      "6*(525*N^6 + 3840*N^5 + 6681*N^4 - 8262*N^3 - 49724*N^2 - 91728*N - 41832)*N\n",
      "3*(6825*N^6 + 61005*N^5 + 175743*N^4 + 113439*N^3 - 265222*N^2 - 407694*N - 160596)*N\n",
      "-(22575*N^6 + 198375*N^5 + 553953*N^4 + 307269*N^3 - 994562*N^2 - 1589994*N - 649116)*(N - 4)\n",
      "\n",
      "Operator 5 has normalisation factor\n",
      "6*sqrt(149226300*N^16 + 2574045540*N^15 + 17126314218*N^14 + 48780132444*N^13 + 10649800683*N^12 - 260799105402*N^11 - 414404753235*N^10 + 509352006396*N^9 + 1458046648509*N^8 - 677071004478*N^7 - 2841929143455*N^6 + 1359603561900*N^5 + 4498710198068*N^4 - 813280519104*N^3 - 2891933192736*N^2 + 800771042304*N + 1167006642048)\n",
      "The relative coefficients are\n",
      "5*sqrt(2)*(135*N^5 - 18*N^4 - 15*N^3 - 1022*N^2 - 76*N - 816)*(N + 4)*(N + 3)*(N + 2)\n",
      "-15/2*sqrt(2)*(864*N^5 + 2430*N^4 - 5973*N^3 - 6119*N^2 + 17876*N - 12228)*(N + 3)*(N + 2)*(N + 1)\n",
      "15*sqrt(2)*(243*N^6 + 924*N^5 - 1152*N^4 - 3670*N^3 + 5307*N^2 + 2256*N - 2988)*(N + 3)*(N + 2)\n",
      "5/3*sqrt(5)*sqrt(3)*(108*N^6 + 402*N^5 - 1065*N^4 - 2588*N^3 + 9471*N^2 + 3376*N + 276)*(N + 3)*(N + 2)\n",
      "-10/3*sqrt(3)*(945*N^6 + 3576*N^5 - 5586*N^4 - 16186*N^3 + 34863*N^2 + 13520*N - 8412)*(N + 3)*(N + 2)\n",
      "-25/2*sqrt(2)*(864*N^5 + 2430*N^4 - 5973*N^3 - 6119*N^2 + 17876*N - 12228)*(N + 3)*(N + 2)*(N + 1)\n",
      "10*sqrt(2)*(1971*N^6 + 7512*N^5 - 8238*N^4 - 27854*N^3 + 28821*N^2 + 13552*N - 27444)*(N + 3)*(N + 2)\n",
      "60*(864*N^5 + 2430*N^4 - 5973*N^3 - 6119*N^2 + 17876*N - 12228)*(N + 3)*(N + 2)*(N + 1)\n",
      "80*(243*N^6 + 924*N^5 - 1152*N^4 - 3670*N^3 + 5307*N^2 + 2256*N - 2988)*(N + 3)*(N + 2)\n",
      "5/3*sqrt(5)*sqrt(3)*(906*N^5 + 7485*N^4 + 18394*N^3 + 9099*N^2 - 14000*N - 13164)*(N + 2)*(N - 3)\n",
      "10/3*sqrt(3)*(285*N^5 + 5955*N^4 + 34507*N^3 + 63369*N^2 + 19738*N + 7536)*(N + 2)*(N - 3)\n",
      "1/2*sqrt(2)*(48060*N^7 + 429834*N^6 + 1227525*N^5 + 919710*N^4 - 762363*N^3 - 208286*N^2 + 1345500*N + 946584)*(N - 1)\n",
      "15/2*sqrt(2)*(3702*N^6 + 29949*N^5 + 68544*N^4 + 7491*N^3 - 79610*N^2 + 45780*N + 78984)*(N - 3)\n",
      "-15*sqrt(2)*(699*N^6 + 5163*N^5 + 8795*N^4 - 9599*N^3 - 20952*N^2 + 21736*N + 26328)*(N - 3)\n",
      "-5*sqrt(2)*(1605*N^5 + 14460*N^4 + 42159*N^3 + 36288*N^2 - 16754*N - 19428)*(N - 3)*(N - 4)\n",
      "\n",
      "Operator 6 has normalisation factor\n",
      "12*sqrt(1144572930*N^14 + 16065174204*N^13 + 79274052297*N^12 + 123146379540*N^11 - 195163357851*N^10 - 614987722665*N^9 + 449186129919*N^8 + 1632220387749*N^7 - 1139731365414*N^6 - 2394058055984*N^5 + 2093117602611*N^4 + 1499407140960*N^3 - 1739908752376*N^2 - 403456508736*N + 632228987952)\n",
      "The relative coefficients are\n",
      "-sqrt(5)*sqrt(2)*(3744*N^5 + 834*N^4 - 10353*N^3 + 2235*N^2 + 12772*N - 12196)*(N + 4)*(N + 3)\n",
      "3/5*sqrt(5)*sqrt(2)*(31068*N^5 + 101877*N^4 - 152832*N^3 - 220764*N^2 + 543832*N - 311392)*(N + 3)*(N + 1)\n",
      "-3/5*sqrt(5)*sqrt(2)*(14472*N^6 + 62280*N^5 - 22275*N^4 - 183769*N^3 + 179192*N^2 + 90140*N - 126288)*(N + 3)\n",
      "2/3*sqrt(3)*(2124*N^6 + 8385*N^5 - 6405*N^4 - 6058*N^3 - 35316*N^2 + 52160*N - 58816)*(N + 3)\n",
      "2/3*sqrt(5)*sqrt(3)*(6984*N^6 + 30660*N^5 - 8241*N^4 - 105415*N^3 + 135768*N^2 + 12356*N - 28720)*(N + 3)\n",
      "sqrt(5)*sqrt(2)*(31068*N^5 + 101877*N^4 - 152832*N^3 - 220764*N^2 + 543832*N - 311392)*(N + 3)*(N + 1)\n",
      "2/5*sqrt(5)*sqrt(2)*(285786*N^7 + 1969050*N^6 + 2673315*N^5 - 4656257*N^4 - 4825474*N^3 + 10306390*N^2 + 87656*N - 4965240)\n",
      "-8/5*sqrt(5)*(37134*N^7 + 284949*N^6 + 485040*N^5 - 653178*N^4 - 1285249*N^3 + 1525974*N^2 + 923284*N - 1603176)\n",
      "-16/5*sqrt(5)*(6462*N^7 + 49482*N^6 + 84765*N^5 - 118279*N^4 - 213842*N^3 + 330722*N^2 + 110632*N - 207528)\n",
      "-2/3*sqrt(3)*(1317*N^5 + 17751*N^4 + 46708*N^3 + 28780*N^2 + 14872*N - 73824)*(N - 3)\n",
      "-2/3*sqrt(5)*sqrt(3)*(2208*N^5 + 13728*N^4 + 60103*N^3 + 86374*N^2 - 51212*N + 124392)*(N - 3)\n",
      "-sqrt(5)*sqrt(2)*(12189*N^5 + 78567*N^4 + 107966*N^3 - 102740*N^2 - 83376*N + 221472)*(N - 1)\n",
      "-3/5*sqrt(5)*sqrt(2)*(12189*N^5 + 78567*N^4 + 107966*N^3 - 102740*N^2 - 83376*N + 221472)*(N - 3)\n",
      "3/5*sqrt(5)*sqrt(2)*(5436*N^5 + 30408*N^4 + 30629*N^3 - 65760*N^2 - 49124*N + 147648)*(N - 3)\n",
      "sqrt(5)*sqrt(2)*(1614*N^4 + 13182*N^3 + 24809*N^2 - 1640*N - 3876)*(N - 3)*(N - 4)\n",
      "\n",
      "Operator 7 has normalisation factor\n",
      "3*sqrt(745901460*N^14 + 9995558760*N^13 + 46646211960*N^12 + 59159182788*N^11 - 164416426803*N^10 - 342875524392*N^9 + 653593252656*N^8 + 1009852007988*N^7 - 2406429776400*N^6 - 1051439210144*N^5 + 5334905553012*N^4 - 1474357193920*N^3 - 3565070606560*N^2 + 1007036405760*N + 940299186240)\n",
      "The relative coefficients are\n",
      "-2*sqrt(2)*(6156*N^5 + 1686*N^4 - 30624*N^3 + 34791*N^2 + 3410*N - 15920)*(N + 4)*(N + 3)\n",
      "12*sqrt(2)*(162*N^5 + 498*N^4 - 1302*N^3 - 369*N^2 + 2795*N - 2384)*(N + 3)*(N + 1)\n",
      "6*sqrt(2)*(1836*N^6 + 7890*N^5 - 6888*N^4 - 27007*N^3 + 44290*N^2 - 1308*N - 18048)*(N + 3)\n",
      "8/3*sqrt(5)*sqrt(3)*(1998*N^6 + 8550*N^5 - 7692*N^4 - 28678*N^3 + 46716*N^2 - 897*N - 20432)*(N + 3)\n",
      "-4/3*sqrt(3)*(21492*N^6 + 92070*N^5 - 82200*N^4 - 310445*N^3 + 506598*N^2 - 11100*N - 217600)*(N + 3)\n",
      "20*sqrt(2)*(162*N^5 + 498*N^4 - 1302*N^3 - 369*N^2 + 2795*N - 2384)*(N + 3)*(N + 1)\n",
      "4*sqrt(2)*(234*N^6 - 294*N^5 - 1867*N^4 + 4474*N^3 + 10102*N^2 + 19184*N - 6960)\n",
      "15660*N^7 + 98316*N^6 + 138510*N^5 - 135072*N^4 - 169240*N^3 + 307100*N^2 + 40928*N + 186864\n",
      "-54810*N^7 - 332394*N^6 - 404241*N^5 + 424288*N^4 + 450252*N^3 + 72046*N^2 - 204032*N - 63816\n",
      "8/3*sqrt(5)*sqrt(3)*(2394*N^5 + 13881*N^4 + 15581*N^3 - 17560*N^2 - 12991*N + 348)*(N - 3)\n",
      "-4/3*sqrt(3)*(25614*N^5 + 104550*N^4 - 84653*N^3 - 453134*N^2 + 218290*N + 257340)*(N - 3)\n",
      "20*sqrt(2)*(240*N^5 + 1203*N^4 - 344*N^3 - 6140*N^2 - 2757*N - 1044)*(N - 1)\n",
      "12*sqrt(2)*(240*N^5 + 1203*N^4 - 344*N^3 - 6140*N^2 - 2757*N - 1044)*(N - 3)\n",
      "6*sqrt(2)*(2154*N^5 + 12678*N^4 + 15925*N^3 - 11420*N^2 - 10234*N + 1392)*(N - 3)\n",
      "-2*sqrt(2)*(7422*N^4 + 42846*N^3 + 46399*N^2 - 58820*N - 41730)*(N - 3)*(N - 4)\n",
      "\n",
      "Operator 8 has normalisation factor\n",
      "6*sqrt(1691280*N^14 + 16259616*N^13 + 43649010*N^12 - 12092220*N^11 - 131803551*N^10 + 80180424*N^9 + 164974320*N^8 - 327380940*N^7 + 160872568*N^6 + 104158856*N^5 - 104030556*N^4 + 17972880*N^3 - 24870280*N^2 + 309600*N + 19229600)\n",
      "The relative coefficients are\n",
      "(2052*N^5 + 2592*N^4 - 7293*N^3 + 4232*N^2 + 1320*N - 2240)*(N + 4)*N\n",
      "-3*(108*N^5 + 477*N^4 - 348*N^3 - 770*N^2 + 1254*N - 772)*(N + 1)*N\n",
      "-3*(612*N^6 + 3210*N^5 + 939*N^4 - 7568*N^3 + 5760*N^2 + 692*N - 2472)*N\n",
      "sqrt(5)*sqrt(3)*sqrt(2)*(1296*N^7 + 6029*N^6 + 1473*N^5 - 11350*N^4 + 9484*N^3 - 4114*N^2 - 3428*N + 3440)\n",
      "sqrt(3)*sqrt(2)*(648*N^7 + 4186*N^6 + 1473*N^5 - 12472*N^4 + 8280*N^3 + 6672*N^2 - 4760*N - 3440)\n",
      "-5*(108*N^5 + 477*N^4 - 348*N^3 - 770*N^2 + 1254*N - 772)*(N + 1)*N\n",
      "-12*(13*N^5 - 7*N^4 + 84*N^3 - 129*N^2 + 222*N - 40)*N\n",
      "-12*sqrt(2)*(15*N^5 + 86*N^4 - 194*N^3 + 278*N^2 - 178*N + 284)*N\n",
      "16*sqrt(2)*(69*N^4 + 222*N^3 + 112*N^2 - 193*N - 62)*(N - 1)*N\n",
      "-sqrt(5)*sqrt(3)*sqrt(2)*(97*N^4 + 316*N^3 + 62*N^2 - 306*N - 164)*(N - 3)*N\n",
      "2*sqrt(3)*sqrt(2)*(263*N^5 + 410*N^4 - 1216*N^3 - 953*N^2 + 1060*N + 860)*(N - 3)\n",
      "-5*(15*N^4 + 60*N^3 - 262*N^2 - 146*N - 244)*(N - 1)*N\n",
      "-3*(15*N^4 + 60*N^3 - 262*N^2 - 146*N - 244)*(N - 3)*N\n",
      "-6*(69*N^4 + 222*N^3 + 112*N^2 - 193*N - 62)*(N - 3)*N\n",
      "2*(222*N^4 + 726*N^3 + 74*N^2 - 725*N - 430)*(N - 3)*(N - 4)\n",
      "\n",
      "Operator 9 has normalisation factor\n",
      "3*sqrt(64152*N^14 + 548856*N^13 + 1208115*N^12 - 1099980*N^11 - 3816891*N^10 + 5112684*N^9 + 2085144*N^8 - 13794708*N^7 + 17358736*N^6 - 7048248*N^5 - 5794572*N^4 + 7528320*N^3 + 1671200*N^2 - 6930560*N + 3165760)\n",
      "The relative coefficients are\n",
      "5*sqrt(2)*(27*N^5 - 54*N^4 + 39*N^3 + 7*N^2 - 36*N + 20)*(N + 4)*(N + 3)\n",
      "-3/4*sqrt(2)*(540*N^6 + 765*N^5 - 2364*N^4 + 2098*N^3 - 686*N^2 - 592*N + 488)*(N + 3)\n",
      "3/2*sqrt(2)*(90*N^6 + 75*N^5 - 198*N^4 + 156*N^3 - 202*N^2 + 216*N - 104)*(N + 3)\n",
      "1/6*sqrt(5)*sqrt(3)*(255*N^4 - 78*N^3 - 310*N^2 + 218*N - 28)*(N + 3)*(N - 2)\n",
      "5/3*sqrt(3)*(69*N^4 - 156*N^3 + 52*N^2 + 178*N - 164)*(N + 3)*(N - 2)\n",
      "1/4*sqrt(2)*(1188*N^6 + 3519*N^5 - 2868*N^4 - 5066*N^3 + 9654*N^2 - 8560*N + 3000)*(N + 1)\n",
      "-sqrt(2)*(87*N^5 + 81*N^4 - 302*N^3 + 396*N^2 - 214*N + 60)*(N - 2)\n",
      "2*(99*N^5 - 12*N^4 - 486*N^3 + 706*N^2 - 640*N + 168)*(N - 2)\n",
      "8*(21*N^4 + 48*N^3 - 36*N^2 - 2*N - 12)*(N - 1)*(N - 2)\n",
      "-1/6*sqrt(5)*sqrt(3)*(51*N^4 + 138*N^3 - 86*N^2 - 142*N - 12)*(N - 2)*(N - 3)\n",
      "5/3*sqrt(3)*(33*N^4 + 48*N^3 - 164*N^2 + 2*N + 156)*(N - 2)*(N - 3)\n",
      "5/4*sqrt(2)*(33*N^4 + 54*N^3 - 58*N^2 + 134*N - 36)*(N - 1)*(N - 2)\n",
      "3/4*sqrt(2)*(33*N^4 + 54*N^3 - 58*N^2 + 134*N - 36)*(N - 2)*(N - 3)\n",
      "-3/2*sqrt(2)*(21*N^4 + 48*N^3 - 36*N^2 - 2*N - 12)*(N - 2)*(N - 3)\n",
      "5*sqrt(2)*(3*N^3 + 9*N^2 - 5*N - 14)*(N - 2)*(N - 3)*(N - 4)\n",
      "\n",
      "Operator 10 has normalisation factor\n",
      "6*sqrt(891*N^12 + 2916*N^11 - 2322*N^10 - 14904*N^9 + 35568*N^8 - 35136*N^7 - 3744*N^6 + 61344*N^5 - 80640*N^4 + 29760*N^3 + 38560*N^2 - 48000*N + 16000)\n",
      "The relative coefficients are\n",
      "sqrt(2)*(81*N^5 - 129*N^4 + 51*N^3 + 76*N^2 - 130*N + 60)*(N + 4)\n",
      "6*sqrt(2)*(9*N^5 + 3*N^4 - 3*N^3 - 13*N^2 + 13*N - 6)*N\n",
      "3*sqrt(2)*(9*N^3 + 13*N^2 - 13*N + 6)*(3*N^2 - 2)*N\n",
      "4*sqrt(5)*sqrt(3)*(5*N^3 - 2*N^2 - 5*N + 3)*(N - 2)*N\n",
      "2*sqrt(3)*(29*N^4 - 65*N^3 + 24*N^2 + 70*N - 60)*(N - 2)\n",
      "10*sqrt(2)*(3*N^2 - 3*N + 2)*(N + 1)*(N - 1)*N\n",
      "-6*sqrt(2)*(N^2 - 2*N + 2)*(N - 2)*N^2\n",
      "-24*(N^2 - 2*N + 2)*(N - 2)*N\n",
      "16*(3*N^2 - 2)*(N - 1)*(N - 2)*N\n",
      "-4*sqrt(5)*sqrt(3)*(N + 1)*(N - 1)*(N - 2)*(N - 3)*N\n",
      "2*sqrt(3)*(11*N^3 - 18*N^2 - 10*N + 20)*(N - 2)*(N - 3)\n",
      "10*sqrt(2)*(N - 1)*(N - 2)*N\n",
      "6*sqrt(2)*(N - 2)*(N - 3)*N\n",
      "-3*sqrt(2)*(3*N^2 - 2)*(N - 2)*(N - 3)*N\n",
      "sqrt(2)*(9*N^2 - 10)*(N - 2)*(N - 3)*(N - 4)\n",
      "\n"
     ]
    }
   ],
   "source": [
    "print('The coefficients below are the expansion coefficients of the symmetrised trace operators in terms of the GL(2) basis. In order, the GL(2) basis is labelled by:')\n",
    "for lbl in basis42.labels:\n",
    "    print(lbl)\n",
    "print('')\n",
    "for i in range(len(symtracevectors)):\n",
    "    vec = symtracevectors[i]\n",
    "    denom = vec[0].denominator()\n",
    "    print('Operator ' + str(i+1) + ' has normalisation factor')\n",
    "    print(denom)\n",
    "    print('The relative coefficients are')\n",
    "    for cf in vec*denom:\n",
    "        print(cf)\n",
    "    print('')"
   ]
  },
  {
   "cell_type": "code",
   "execution_count": 767,
   "metadata": {
    "collapsed": true
   },
   "outputs": [
    {
     "name": "stdout",
     "output_type": "stream",
     "text": [
      "195*N^5 + 1149*N^4 + 687*N^3 - 3927*N^2 - 1552*N + 4448\n",
      "------------------------------------------------------------------------------------------------------------\n",
      "195*(N + 4)*(N + 3)*(N + 2)*(N + 1)*(N - 1)^2*(N - 2)*(N - 3)*(N - 4)*N^2\n",
      "\n",
      "\n",
      "(6135*N^8 + 69450*N^7 + 265508*N^6 + 271608*N^5 - 614501*N^4 - 1396058*N^3 + 54366*N^2 + 1782800*N + 1020192)*(195*N^5 + 1149*N^4 + 687*N^3 - 3927*N^2 - 1552*N + 4448)\n",
      "------------------------------------------------------------------------------------------------------------\n",
      "5*(239265*N^10 + 2819646*N^9 + 10008075*N^8 + 379164*N^7 - 57964437*N^6 - 48042402*N^5 + 147342537*N^4 + 134046048*N^3 - 169443808*N^2 - 69184256*N + 127175168)*(N + 3)*(N + 2)*(N + 1)^2*(N - 1)*(N - 2)*(N - 3)*N^2\n",
      "\n",
      "\n",
      "(10035*N^8 + 94914*N^7 + 264876*N^6 + 17268*N^5 - 819309*N^4 - 487830*N^3 + 780722*N^2 + 189568*N - 432744)*(6135*N^8 + 69450*N^7 + 265508*N^6 + 271608*N^5 - 614501*N^4 - 1396058*N^3 + 54366*N^2 + 1782800*N + 1020192)\n",
      "------------------------------------------------------------------------------------------------------------\n",
      "(61564725*N^16 + 1393861500*N^15 + 13261170060*N^14 + 66331080864*N^13 + 166140007266*N^12 + 57173614704*N^11 - 800263593204*N^10 - 1745467180488*N^9 + 612950718573*N^8 + 6934118736372*N^7 + 6437684590112*N^6 - 9745420149240*N^5 - 21973937523436*N^4 - 5458418229888*N^3 + 19768339612448*N^2 + 20130608626176*N + 6016425843456)*(N + 1)*(N - 1)*(N - 2)*(N - 3)*N^2\n",
      "\n",
      "\n",
      "(18630*N^8 + 160677*N^7 + 371643*N^6 - 204495*N^5 - 1326729*N^4 - 15804*N^3 + 1726178*N^2 - 442368*N - 1298232)*(10035*N^8 + 94914*N^7 + 264876*N^6 + 17268*N^5 - 819309*N^4 - 487830*N^3 + 780722*N^2 + 189568*N - 432744)\n",
      "------------------------------------------------------------------------------------------------------------\n",
      "(186952050*N^16 + 3536495640*N^15 + 26705103813*N^14 + 95492758734*N^13 + 112478339025*N^12 - 286047496188*N^11 - 999101163699*N^10 - 350495059842*N^9 + 2235843225645*N^8 + 2362509269328*N^7 - 2087017192350*N^6 - 3902158433952*N^5 - 392361367460*N^4 + 1653089248224*N^3 + 1596254485464*N^2 + 1758984922656*N + 842703162912)*(N + 2)*(N + 1)*(N - 1)*(N - 2)*(N - 3)*N\n",
      "\n",
      "\n",
      "(18630*N^8 + 160677*N^7 + 371643*N^6 - 204495*N^5 - 1326729*N^4 - 15804*N^3 + 1726178*N^2 - 442368*N - 1298232)*(8010*N^7 + 56214*N^6 + 79800*N^5 - 132315*N^4 - 158273*N^3 + 296994*N^2 + 33500*N - 171336)\n",
      "------------------------------------------------------------------------------------------------------------\n",
      "(149226300*N^16 + 2574045540*N^15 + 17126314218*N^14 + 48780132444*N^13 + 10649800683*N^12 - 260799105402*N^11 - 414404753235*N^10 + 509352006396*N^9 + 1458046648509*N^8 - 677071004478*N^7 - 2841929143455*N^6 + 1359603561900*N^5 + 4498710198068*N^4 - 813280519104*N^3 - 2891933192736*N^2 + 800771042304*N + 1167006642048)*(N + 1)*(N - 1)*(N - 2)*N^2\n",
      "\n",
      "\n",
      "(285786*N^7 + 1914858*N^6 + 2363889*N^5 - 4900800*N^4 - 4071564*N^3 + 10352018*N^2 - 1210880*N - 4227000)*(8010*N^7 + 56214*N^6 + 79800*N^5 - 132315*N^4 - 158273*N^3 + 296994*N^2 + 33500*N - 171336)\n",
      "------------------------------------------------------------------------------------------------------------\n",
      "2*(1144572930*N^14 + 16065174204*N^13 + 79274052297*N^12 + 123146379540*N^11 - 195163357851*N^10 - 614987722665*N^9 + 449186129919*N^8 + 1632220387749*N^7 - 1139731365414*N^6 - 2394058055984*N^5 + 2093117602611*N^4 + 1499407140960*N^3 - 1739908752376*N^2 - 403456508736*N + 632228987952)*(N + 2)*(N + 1)*(N - 1)*(N - 2)*N^2\n",
      "\n",
      "\n",
      "(285786*N^7 + 1914858*N^6 + 2363889*N^5 - 4900800*N^4 - 4071564*N^3 + 10352018*N^2 - 1210880*N - 4227000)*(2610*N^7 + 12546*N^6 + 3213*N^5 - 25152*N^4 + 20228*N^3 - 5238*N^2 - 8000*N + 5160)\n",
      "------------------------------------------------------------------------------------------------------------\n",
      "(745901460*N^14 + 9995558760*N^13 + 46646211960*N^12 + 59159182788*N^11 - 164416426803*N^10 - 342875524392*N^9 + 653593252656*N^8 + 1009852007988*N^7 - 2406429776400*N^6 - 1051439210144*N^5 + 5334905553012*N^4 - 1474357193920*N^3 - 3565070606560*N^2 + 1007036405760*N + 940299186240)*(N + 2)*(N + 1)*(N - 1)*(N - 2)*N^2\n",
      "\n",
      "\n",
      "(2610*N^7 + 12546*N^6 + 3213*N^5 - 25152*N^4 + 20228*N^3 - 5238*N^2 - 8000*N + 5160)*(648*N^7 + 2772*N^6 + 51*N^5 - 5484*N^4 + 5438*N^3 - 2026*N^2 - 2000*N + 1720)\n",
      "------------------------------------------------------------------------------------------------------------\n",
      "(1691280*N^14 + 16259616*N^13 + 43649010*N^12 - 12092220*N^11 - 131803551*N^10 + 80180424*N^9 + 164974320*N^8 - 327380940*N^7 + 160872568*N^6 + 104158856*N^5 - 104030556*N^4 + 17972880*N^3 - 24870280*N^2 + 309600*N + 19229600)*(N + 3)*(N + 2)*(N + 1)*(N - 1)*(N - 2)*N\n",
      "\n",
      "\n",
      "(648*N^7 + 2772*N^6 + 51*N^5 - 5484*N^4 + 5438*N^3 - 2026*N^2 - 2000*N + 1720)*(99*N^6 + 162*N^5 - 324*N^4 + 102*N^3 + 152*N^2 - 260*N + 120)\n",
      "------------------------------------------------------------------------------------------------------------\n",
      "(64152*N^14 + 548856*N^13 + 1208115*N^12 - 1099980*N^11 - 3816891*N^10 + 5112684*N^9 + 2085144*N^8 - 13794708*N^7 + 17358736*N^6 - 7048248*N^5 - 5794572*N^4 + 7528320*N^3 + 1671200*N^2 - 6930560*N + 3165760)*(N + 2)*(N + 1)*(N - 1)*N^2\n",
      "\n",
      "\n",
      "3*(99*N^6 + 162*N^5 - 324*N^4 + 102*N^3 + 152*N^2 - 260*N + 120)*(3*N^2 - 2)*N^2\n",
      "------------------------------------------------------------------------------------------------------------\n",
      "(891*N^12 + 2916*N^11 - 2322*N^10 - 14904*N^9 + 35568*N^8 - 35136*N^7 - 3744*N^6 + 61344*N^5 - 80640*N^4 + 29760*N^3 + 38560*N^2 - 48000*N + 16000)*(N + 3)*(N + 2)*(N + 1)*(N - 1)\n",
      "\n",
      "\n"
     ]
    }
   ],
   "source": [
    "for i in Gnorms:\n",
    "    print(i.numerator())\n",
    "    print('------------------------------------------------------------------------------------------------------------')\n",
    "    print(i.denominator())\n",
    "    print('')\n",
    "    print('')"
   ]
  },
  {
   "cell_type": "code",
   "execution_count": null,
   "metadata": {
    "collapsed": true
   },
   "outputs": [],
   "source": []
  },
  {
   "cell_type": "code",
   "execution_count": null,
   "metadata": {
    "collapsed": true
   },
   "outputs": [],
   "source": []
  },
  {
   "cell_type": "code",
   "execution_count": null,
   "metadata": {
    "collapsed": true
   },
   "outputs": [],
   "source": []
  },
  {
   "cell_type": "code",
   "execution_count": null,
   "metadata": {
    "collapsed": true
   },
   "outputs": [],
   "source": []
  },
  {
   "cell_type": "code",
   "execution_count": null,
   "metadata": {
    "collapsed": true
   },
   "outputs": [],
   "source": []
  },
  {
   "cell_type": "code",
   "execution_count": 281,
   "metadata": {
    "collapsed": true
   },
   "outputs": [],
   "source": [
    "coefficients1 = [0,0,0,0,1,-2,0,1,0,0,-1,2,-1,0,0,0,0,2,-2,0,0,0,0,-1,2,0,-1,0,-1,1,0,0,0,0]\n",
    "coefficients2 = [0,0,0,0,0,0,0,0,1,-1,0,0,0,1,-1,1,0,0,0,0,0,1,-1,0,0,0,0,0,0,0,-1,2,-1,-1]\n",
    "coefficients3 = [0,1,-2,1,0,0,0,0,0,0,0,0,0,-1,-1,3,-2,0,0,-1,2,-2,1,0,0,0,0,0,0,0,4,0,-4,1]\n",
    "op1 = Operator([4,2], [],[])\n",
    "op2 = Operator([4,2],[],[])\n",
    "op3 = Operator([4,2],[],[])\n",
    "for i in range(len(coefficients1)):\n",
    "    op1 += coefficients1[i] * tracelist[i]\n",
    "    op2 += coefficients2[i] * tracelist[i]\n",
    "    op3 += coefficients3[i] * tracelist[i]\n",
    "op1 /= (3 * sqrt(5)*sqrt(2))\n",
    "op2 /= (3 * sqrt(5))\n",
    "op3 /= (6 * sqrt(5))\n",
    "smallbasis = Basis([4,2], [op1,op2,op3])"
   ]
  },
  {
   "cell_type": "code",
   "execution_count": null,
   "metadata": {
    "collapsed": true
   },
   "outputs": [],
   "source": []
  },
  {
   "cell_type": "code",
   "execution_count": 679,
   "metadata": {
    "collapsed": true
   },
   "outputs": [],
   "source": [
    "calculator22 = correlatorCalculator([2,2])\n",
    "calculator32 = correlatorCalculator([3,2])\n",
    "calculator42 = correlatorCalculator([4,2])\n",
    "calculator33 = correlatorCalculator([3,3])"
   ]
  },
  {
   "cell_type": "code",
   "execution_count": null,
   "metadata": {
    "collapsed": true
   },
   "outputs": [],
   "source": []
  },
  {
   "cell_type": "code",
   "execution_count": null,
   "metadata": {
    "collapsed": true
   },
   "outputs": [],
   "source": [
    "planarMatrix22 = calculator22.calculate(basis22, basis22, 'planar')\n",
    "gMatrix22 = calculator22.calculate(basis22, basis22, 'G')"
   ]
  },
  {
   "cell_type": "code",
   "execution_count": 26,
   "metadata": {
    "collapsed": true
   },
   "outputs": [],
   "source": [
    "planarMatrix32 = calculator32.calculate(basis32, basis32, 'planar')\n",
    "#gMatrix32 = calculator32.calculate(basis32, basis32, 'G') "
   ]
  },
  {
   "cell_type": "code",
   "execution_count": 645,
   "metadata": {
    "collapsed": true
   },
   "outputs": [],
   "source": [
    "planarMatrix42 = calculator42.calculate(basis42, basis42, 'planar')\n",
    "gMatrix42 = calculator42.calculate(basis42, basis42, 'G') "
   ]
  },
  {
   "cell_type": "code",
   "execution_count": 996,
   "metadata": {
    "collapsed": true
   },
   "outputs": [
    {
     "data": {
      "text/plain": [
       "1"
      ]
     },
     "execution_count": 996,
     "metadata": {},
     "output_type": "execute_result"
    }
   ],
   "source": [
    "calculator22.calculate(st22_2,st22_2,'planar').rational_simplify()"
   ]
  },
  {
   "cell_type": "code",
   "execution_count": null,
   "metadata": {
    "collapsed": true
   },
   "outputs": [],
   "source": []
  },
  {
   "cell_type": "code",
   "execution_count": 817,
   "metadata": {
    "collapsed": true
   },
   "outputs": [
    {
     "data": {
      "text/plain": [
       "[-1/6*sqrt(3)*sqrt(2)*N/sqrt(3*N^2 + 2),\n",
       " 1/6*sqrt(3)*sqrt(2)*N/sqrt(3*N^2 + 2),\n",
       " 1/3*sqrt(3)*sqrt(2)*N/sqrt(3*N^2 + 2),\n",
       " 1/3*sqrt(3)*sqrt(2)/sqrt(3*N^2 + 2),\n",
       " -1/6*sqrt(3)*sqrt(2)*N/sqrt(3*N^2 + 2),\n",
       " -1/6*sqrt(3)*sqrt(2)*N/sqrt(3*N^2 + 2),\n",
       " -1/3*sqrt(3)*sqrt(2)/sqrt(3*N^2 + 2)]"
      ]
     },
     "execution_count": 817,
     "metadata": {},
     "output_type": "execute_result"
    }
   ],
   "source": []
  },
  {
   "cell_type": "code",
   "execution_count": 28,
   "metadata": {
    "collapsed": true
   },
   "outputs": [
    {
     "name": "stdout",
     "output_type": "stream",
     "text": [
      "(-2/5)(TrX)(TrX)(TrXY)(TrY) + (-1/5)(TrX)(TrXXYY) + (4/5)(TrXXY)(TrXY) + (-2/5)(TrXX)(TrXYY) + (1/5)(TrX)(TrXX)(TrY)(TrY) + (1/5)(TrX)(TrXYXY) + (-2/5)(TrXXX)(TrYY) + (1/5)(TrX)(TrX)(TrX)(TrYY)\n",
      "(4/5)(TrXXYXY) + (-4/5)(TrXXXYY) + (1/5)(TrX)(TrXY)(TrXY) + (-2/5)(TrX)(TrXXY)(TrY) + (1/5)(TrX)(TrX)(TrXYY) + (-1/5)(TrX)(TrXX)(TrYY) + (1/5)(TrXXX)(TrY)(TrY)\n"
     ]
    }
   ],
   "source": [
    "#Orthogonal basis for the Lambda = [3,2] sector in which the stringy exclusion principle is manifest\n",
    "comm41 = 1/30 * ( 60/(sqrt(5)*sqrt(2)) * ( basis32[([3,2],[4,1],1)] - basis32[([3,2],[2,1,1,1],1)] ) \n",
    "              - 12/sqrt(2) * 5/2 * ( basis32[([3,2],[3,2],1)] - basis32[([3,2],[2,2,1],1)] ) \n",
    "              - 3 * 60/(sqrt(3)*sqrt(5)*sqrt(2)) * basis32[([3,2],[3,1,1],1)] )\n",
    "comm41.canonicalizeRadicalsInCoefficients()\n",
    "comm5 = 1/30 * ( 60/(sqrt(5)*sqrt(2)) * ( basis32[([3,2],[4,1],1)] + basis32[([3,2],[2,1,1,1],1)] ) \n",
    "              - 12/sqrt(2) * 5/2 * ( basis32[([3,2],[3,2],1)] + basis32[([3,2],[2,2,1],1)] ) \n",
    "              + 3 * 10/sqrt(5) * basis32[([3,2],[3,1,1],2)] )\n",
    "stodd1 = sqrt(3) * (  ( basis32[([3,2],[4,1],1)] - basis32[([3,2],[2,1,1,1],1)] ) \n",
    "              + 2/(sqrt(3)) * basis32[([3,2],[3,1,1],1)] )\n",
    "stodd2 = sqrt(3) * ( ( basis32[([3,2],[3,2],1)] - basis32[([3,2],[2,2,1],1)] ) \n",
    "              - sqrt(5)/(sqrt(3)) * basis32[([3,2],[3,1,1],1)] )\n",
    "steven1 = 1 * ( 1 * ( basis32[([3,2],[4,1],1)] + basis32[([3,2],[2,1,1,1],1)] ) \n",
    "              - 2 * sqrt(2) * basis32[([3,2],[3,1,1],2)] )\n",
    "steven2 = 1 * (  1 * ( basis32[([3,2],[3,2],1)] + basis32[([3,2],[2,2,1],1)] ) \n",
    "              + sqrt(5) * sqrt(2) * basis32[([3,2],[3,1,1],2)] )\n",
    "print(comm41)\n",
    "print(comm5)"
   ]
  },
  {
   "cell_type": "code",
   "execution_count": 664,
   "metadata": {
    "collapsed": true
   },
   "outputs": [
    {
     "name": "stdout",
     "output_type": "stream",
     "text": [
      "[         1/15*sqrt(5)*sqrt(2)          1/10*sqrt(5)*sqrt(2)                 11/90*sqrt(3)          1/45*sqrt(5)*sqrt(3)                          3/10                  1/10*sqrt(5)]\n",
      "[                 -1/6*sqrt(2)                  -1/4*sqrt(2)          1/45*sqrt(5)*sqrt(3)                   1/9*sqrt(3)                  1/10*sqrt(5)                           1/4]\n",
      "[-1/15*sqrt(5)*sqrt(3)*sqrt(2)                             0                          2/15                 -1/15*sqrt(5)                             0                             0]\n",
      "[                            0                  1/10*sqrt(5)                             0                             0                 -1/10*sqrt(2)          1/20*sqrt(5)*sqrt(2)]\n",
      "[                  1/6*sqrt(2)                  -1/4*sqrt(2)         -1/45*sqrt(5)*sqrt(3)                  -1/9*sqrt(3)                  1/10*sqrt(5)                           1/4]\n",
      "[        -1/15*sqrt(5)*sqrt(2)          1/10*sqrt(5)*sqrt(2)                -11/90*sqrt(3)         -1/45*sqrt(5)*sqrt(3)                          3/10                  1/10*sqrt(5)]\n"
     ]
    }
   ],
   "source": [
    "matrix = [[sqrt(2/5), - 1/sqrt(2), - sqrt(6/5), 0, 1/sqrt(2), - sqrt(2/5)],\n",
    "          [sqrt(2/5), - 1/sqrt(2), 0, 1/sqrt(5), - 1/sqrt(2), sqrt(2/5)],\n",
    "          [sqrt(3), 0, 2, 0, 0, -sqrt(3)],\n",
    "          [0, sqrt(3), -sqrt(5), 0, -sqrt(3), 0],\n",
    "          [1, 0, 0, -2*sqrt(2), 0, 1],\n",
    "          [0, 1, 0, sqrt(10), 1, 0]]\n",
    "matrix= Matrix(matrix)\n",
    "inv = matrix.inverse()\n",
    "for i in range(6):\n",
    "    for j in range(6):\n",
    "        inv[i,j] = inv[i,j].canonicalize_radical()\n",
    "print(inv)"
   ]
  },
  {
   "cell_type": "code",
   "execution_count": 29,
   "metadata": {
    "collapsed": true
   },
   "outputs": [],
   "source": [
    "st32_1 = sqrt(3)/sqrt(2) * ( #- 1/15 * sqrt(5) * sqrt(2) * comm41 + 1/10 * sqrt(5) * sqrt(2) * comm5\n",
    "        - 11/90 * sqrt(3) * stodd1 - sqrt(5)*sqrt(3)/45 * stodd2 \n",
    "        + 3/10 * steven1 + sqrt(5)/10 * steven2)\n",
    "\n",
    "st32_2 = ( #1/6*sqrt(2) * comm41 -1/4*sqrt(2) * comm5         \n",
    "       - 1/45*sqrt(5)*sqrt(3) * stodd1 -1/9*sqrt(3) * stodd2\n",
    "       + 1/10*sqrt(5) * steven1 + 1/4 * steven2 )\n",
    "st32_2 -= calculator32.calculate(st32_1,st32_2)/calculator32.calculate(st32_1,st32_1) * st32_1\n",
    "st32_2 *= 2 * (10*N^3 + 37*N^2 + 11*N - 36)/(sqrt(3)*sqrt(50*N^6 + 370*N^5 + 817*N^4 + 32*N^3 - 1629*N^2 - 276*N + 2088))\n",
    "st32_2.factorCoefficients()\n",
    "\n",
    "st32_3 = ( #sqrt(5)/10 * comm5 \n",
    "          - sqrt(2)/10 * steven1 + sqrt(2)*sqrt(5)/20 * steven2)\n",
    "st32_3 -= calculator32.calculate(st32_1,st32_3)/calculator32.calculate(st32_1,st32_1) * st32_1\n",
    "st32_3 -= calculator32.calculate(st32_2,st32_3)/calculator32.calculate(st32_2,st32_2) * st32_2\n",
    "st32_3 *= sqrt(5)*(5*N^3 + 11*N^2 - 7*N + 2)/(sqrt(6)*sqrt(15*N^6 + 66*N^5 + 33*N^4 - 82*N^3 + 51*N^2 - 12*N + 8))\n",
    "st32_3.factorCoefficients()\n",
    "\n",
    "st32_4 = ( #-1/6*sqrt(2) * comm41 -1/4*sqrt(2) * comm5\n",
    "       + 1/45*sqrt(5)*sqrt(3) * stodd1 + 1/9*sqrt(3) * stodd2\n",
    "       + 1/10*sqrt(5) * steven1 + 1/4 * steven2 )\n",
    "st32_4 -= calculator32.calculate(st32_1,st32_4)/calculator32.calculate(st32_1,st32_1) * st32_1\n",
    "st32_4 -= calculator32.calculate(st32_2,st32_4)/calculator32.calculate(st32_2,st32_2) * st32_2\n",
    "st32_4 -= calculator32.calculate(st32_3,st32_4)/calculator32.calculate(st32_3,st32_3) * st32_3\n",
    "st32_4 *= sqrt(3)*(3*N^3 + 5*N^2 - 5*N + 2)/(2*sqrt(3*N^6 + 10*N^5 - 22*N^3 + 34*N^2 - 24*N + 8))\n",
    "st32_4.canonicalizeRadicalsInCoefficients()\n",
    "st32_4.factorCoefficients()\n",
    "\n"
   ]
  },
  {
   "cell_type": "code",
   "execution_count": 928,
   "metadata": {
    "collapsed": true
   },
   "outputs": [
    {
     "name": "stdout",
     "output_type": "stream",
     "text": [
      "1 with 1\n",
      "1/10*(10*N^3 + 37*N^2 + 11*N - 36)/((N + 3)*(N + 2)*(N + 1)*(N - 1)*(N - 2)*(N - 3)*N^2)\n",
      "1\n",
      "1 with 2\n",
      "0\n",
      "-1/2*sqrt(5)*(3*sqrt(2)*N^2 - sqrt(2)*N - 24*sqrt(2))/sqrt(50*N^6 + 370*N^5 + 817*N^4 + 32*N^3 - 1629*N^2 - 276*N + 2088)\n",
      "2 with 2\n",
      "(10*N^3 + 37*N^2 + 11*N - 36)*(5*N^3 + 11*N^2 - 7*N + 2)/((50*N^6 + 370*N^5 + 817*N^4 + 32*N^3 - 1629*N^2 - 276*N + 2088)*(N + 1)*(N - 1)*(N - 2)*N^2)\n",
      "1\n",
      "1 with 3\n",
      "0\n",
      "1/15*sqrt(6)*sqrt(5)*sqrt(3)*(N + 1)*(N - 3)/sqrt(15*N^6 + 66*N^5 + 33*N^4 - 82*N^3 + 51*N^2 - 12*N + 8)\n",
      "2 with 3\n",
      "0\n",
      "-1/3*sqrt(6)*sqrt(3)*sqrt(2)*(5*N^4 + 15*N^3 - 18*N^2 - 34*N + 54)*(N + 1)/(sqrt(50*N^6 + 370*N^5 + 817*N^4 + 32*N^3 - 1629*N^2 - 276*N + 2088)*sqrt(15*N^6 + 66*N^5 + 33*N^4 - 82*N^3 + 51*N^2 - 12*N + 8))\n",
      "3 with 3\n",
      "(5*N^3 + 11*N^2 - 7*N + 2)*(3*N^3 + 5*N^2 - 5*N + 2)/((15*N^6 + 66*N^5 + 33*N^4 - 82*N^3 + 51*N^2 - 12*N + 8)*(N + 2)*(N + 1)*(N - 1)*(N - 2)*N)\n",
      "1\n",
      "1 with 4\n",
      "0\n",
      "-1/10*sqrt(5)*sqrt(2)*(N - 2)*(N - 3)/sqrt(3*N^6 + 10*N^5 - 22*N^3 + 34*N^2 - 24*N + 8)\n",
      "2 with 4\n",
      "0\n",
      "(5*N^4 + 15*N^3 - 18*N^2 - 34*N + 54)*(N - 2)/(sqrt(50*N^6 + 370*N^5 + 817*N^4 + 32*N^3 - 1629*N^2 - 276*N + 2088)*sqrt(3*N^6 + 10*N^5 - 22*N^3 + 34*N^2 - 24*N + 8))\n",
      "3 with 4\n",
      "0\n",
      "-1/3*sqrt(6)*sqrt(3)*sqrt(2)*(2*N^4 + 4*N^3 - 6*N^2 + 2*N + 1)*(N - 2)/(sqrt(15*N^6 + 66*N^5 + 33*N^4 - 82*N^3 + 51*N^2 - 12*N + 8)*sqrt(3*N^6 + 10*N^5 - 22*N^3 + 34*N^2 - 24*N + 8))\n",
      "4 with 4\n",
      "(3*N^3 + 5*N^2 - 5*N + 2)*N/((3*N^6 + 10*N^5 - 22*N^3 + 34*N^2 - 24*N + 8)*(N + 2)*(N + 1)*(N - 1))\n",
      "1\n"
     ]
    }
   ],
   "source": [
    "print('1 with 1')\n",
    "print(calculator32.calculate(st32_1,st32_1))\n",
    "print(calculator32.calculate(st32_1,st32_1,'planar'))\n",
    "print('1 with 2')\n",
    "print(calculator32.calculate(st32_1,st32_2))\n",
    "print(calculator32.calculate(st32_1,st32_2,'planar').rational_simplify())\n",
    "print('2 with 2')\n",
    "print(calculator32.calculate(st32_2,st32_2))\n",
    "print(calculator32.calculate(st32_2,st32_2,'planar').rational_simplify().factor())\n",
    "print('1 with 3')\n",
    "print(calculator32.calculate(st32_1,st32_3))\n",
    "print(calculator32.calculate(st32_1,st32_3,'planar').rational_simplify().factor())\n",
    "print('2 with 3')\n",
    "print(calculator32.calculate(st32_2,st32_3))\n",
    "print(calculator32.calculate(st32_2,st32_3,'planar').rational_simplify().factor())\n",
    "print('3 with 3')\n",
    "print(calculator32.calculate(st32_3,st32_3))\n",
    "print(calculator32.calculate(st32_3,st32_3,'planar').rational_simplify().factor())\n",
    "print('1 with 4')\n",
    "print(calculator32.calculate(st32_1,st32_4))\n",
    "print(calculator32.calculate(st32_1,st32_4,'planar').rational_simplify().factor())\n",
    "print('2 with 4')\n",
    "print(calculator32.calculate(st32_2,st32_4))\n",
    "print(calculator32.calculate(st32_2,st32_4,'planar').rational_simplify().factor())\n",
    "print('3 with 4')\n",
    "print(calculator32.calculate(st32_3,st32_4))\n",
    "print(calculator32.calculate(st32_3,st32_4,'planar').rational_simplify().factor())\n",
    "print('4 with 4')\n",
    "print(calculator32.calculate(st32_4,st32_4))\n",
    "print(calculator32.calculate(st32_4,st32_4,'planar').rational_simplify().factor())"
   ]
  },
  {
   "cell_type": "code",
   "execution_count": 824,
   "metadata": {
    "collapsed": true
   },
   "outputs": [
    {
     "name": "stdout",
     "output_type": "stream",
     "text": [
      "1/60*sqrt(5)*sqrt(3)*sqrt(2)*(5*N^3 + 23*N^2 + 4*N - 54)/((N + 3)*(N + 2)*(N + 1)*(N - 1)*(N - 2)*(N - 3)*N^2)\n"
     ]
    }
   ],
   "source": [
    "print(calculator32.calculate(( #1/6*sqrt(2) * comm41 -1/4*sqrt(2) * comm5         \n",
    "       - 1/45*sqrt(5)*sqrt(3) * stodd1 -1/9*sqrt(3) * stodd2\n",
    "       + 1/10*sqrt(5) * steven1 + 1/4 * steven2 ),st32_1).rational_simplify().factor())"
   ]
  },
  {
   "cell_type": "code",
   "execution_count": 67,
   "metadata": {
    "collapsed": true
   },
   "outputs": [],
   "source": [
    "tracelist = []\n",
    "for lbl, op in basis32:\n",
    "    for cf, tr in op:\n",
    "        if tr not in tracelist:\n",
    "            tracelist.append(tr)\n",
    "tracecoefficients = [ [0 for tr in tracelist] for lbl, op in basis32]\n",
    "for i in range(len(basis32)):\n",
    "    for cf, tr in basis32[i]:\n",
    "        tracecoefficients[i][tracelist.index(tr)] = cf\n",
    "matrix = Matrix(tracecoefficients).T\n",
    "\n",
    "Gmultipliers = [0,0,0,0,0,0,0,0,0,0,0,0, 1/(N*(N-1)*(N+1)*(N+2)*(N+3)), 1/(N^2*(N-1)*(N+1)*(N+2)), \n",
    "                1/(N*(N-1)*(N+1)*(N+2)*(N-2)), 1/(N*(N-1)*(N+1)*(N+2)*(N-2)), 1/(N^2*(N-1)*(N+1)*(N-2)),\n",
    "               1/(N*(N-1)*(N+1)*(N-2)*(N-3))]"
   ]
  },
  {
   "cell_type": "code",
   "execution_count": 69,
   "metadata": {
    "collapsed": true
   },
   "outputs": [
    {
     "name": "stdout",
     "output_type": "stream",
     "text": [
      "0\n",
      "0\n",
      "0\n",
      "0\n",
      "0\n",
      "0\n",
      "0\n",
      "0\n",
      "0\n",
      "0\n",
      "0\n",
      "0\n",
      "1/3*sqrt(5)*sqrt(3)*(N - 1)*(N - 2)*N/sqrt(50*N^6 + 220*N^5 + 192*N^4 - 78*N^3 + 541*N^2 - 156*N + 78)\n",
      "-5/6*sqrt(3)*(N + 3)*(N - 1)*(N - 2)/sqrt(50*N^6 + 220*N^5 + 192*N^4 - 78*N^3 + 541*N^2 - 156*N + 78)\n",
      "2*sqrt(5)*(N + 3)*(N - 1)*N/sqrt(50*N^6 + 220*N^5 + 192*N^4 - 78*N^3 + 541*N^2 - 156*N + 78)\n",
      "1/2*sqrt(5)*sqrt(3)*sqrt(2)*(N + 3)*(N - 1)*N/sqrt(50*N^6 + 220*N^5 + 192*N^4 - 78*N^3 + 541*N^2 - 156*N + 78)\n",
      "1/6*sqrt(3)*(15*N^3 + 48*N^2 + 19*N + 6)/sqrt(50*N^6 + 220*N^5 + 192*N^4 - 78*N^3 + 541*N^2 - 156*N + 78)\n",
      "-1/3*sqrt(5)*sqrt(3)*(3*N + 8)*N/sqrt(50*N^6 + 220*N^5 + 192*N^4 - 78*N^3 + 541*N^2 - 156*N + 78)\n"
     ]
    }
   ],
   "source": [
    "coefficients = [0 for tr in tracelist]\n",
    "for cf, tr in bps32_2:\n",
    "    coefficients[tracelist.index(tr)] = cf\n",
    "v = vector(coefficients)\n",
    "v2 = matrix.solve_right(v)\n",
    "#bps32_4 = Operator([3,2],[],[])\n",
    "for i in range(len(v2)):\n",
    "    v2[i] = v2[i].canonicalize_radical().factor()\n",
    "    print(v2[i])\n",
    "#    bps32_4 += Gmultipliers[i] * v2[i] * basis32[i]\n",
    "\n"
   ]
  },
  {
   "cell_type": "code",
   "execution_count": 85,
   "metadata": {
    "collapsed": true
   },
   "outputs": [
    {
     "name": "stdout",
     "output_type": "stream",
     "text": [
      "0\n",
      "0\n",
      "0\n",
      "0\n",
      "0\n",
      "0\n"
     ]
    }
   ],
   "source": [
    "print(calculator32.calculate(bps32_1,bps32_2,'F'))\n",
    "print(calculator32.calculate(bps32_1,bps32_3,'F'))\n",
    "print(calculator32.calculate(bps32_1,bps32_4,'F'))\n",
    "print(calculator32.calculate(bps32_2,bps32_3,'F'))\n",
    "print(calculator32.calculate(bps32_2,bps32_4,'F'))\n",
    "print(calculator32.calculate(bps32_3,bps32_4,'F'))"
   ]
  },
  {
   "cell_type": "code",
   "execution_count": 64,
   "metadata": {
    "collapsed": true
   },
   "outputs": [
    {
     "name": "stdout",
     "output_type": "stream",
     "text": [
      "1\n",
      "(10*N^3 + 37*N^2 + 11*N - 36)*(N + 3)*(N + 2)*(N + 1)*(N - 1)*(N - 2)*(N - 3)*N^2/(10*N^6 + 74*N^5 + 199*N^4 + 252*N^3 + 351*N^2 + 648*N + 702)\n"
     ]
    }
   ],
   "source": [
    "print(calculator32.calculate(bps32_1,bps32_1,'planar').canonicalize_radical().factor())\n",
    "print(calculator32.calculate(bps32_1,bps32_1,'F').canonicalize_radical().factor())"
   ]
  },
  {
   "cell_type": "code",
   "execution_count": 59,
   "metadata": {
    "collapsed": true
   },
   "outputs": [
    {
     "name": "stdout",
     "output_type": "stream",
     "text": [
      "1\n",
      "(10*N^3 + 37*N^2 + 11*N - 36)*(5*N^3 + 11*N^2 - 7*N + 2)*(N + 1)*(N - 1)*(N - 2)*N^2/(50*N^6 + 220*N^5 + 192*N^4 - 78*N^3 + 541*N^2 - 156*N + 78)\n"
     ]
    }
   ],
   "source": [
    "print(calculator32.calculate(bps32_2,bps32_2,'planar').canonicalize_radical().factor())\n",
    "print(calculator32.calculate(bps32_2,bps32_2,'F').canonicalize_radical().factor())"
   ]
  },
  {
   "cell_type": "code",
   "execution_count": 57,
   "metadata": {
    "collapsed": true
   },
   "outputs": [
    {
     "name": "stdout",
     "output_type": "stream",
     "text": [
      "1\n",
      "(5*N^3 + 11*N^2 - 7*N + 2)*(3*N^3 + 5*N^2 - 5*N + 2)*(N + 2)*(N + 1)*(N - 1)*(N - 2)*N/(15*N^6 + 50*N^5 + 17*N^4 - 66*N^3 + 115*N^2 - 60*N + 20)\n"
     ]
    }
   ],
   "source": [
    "print(calculator32.calculate(bps32_3,bps32_3,'planar').canonicalize_radical().factor())\n",
    "print(calculator32.calculate(bps32_3,bps32_3,'F').canonicalize_radical().factor())"
   ]
  },
  {
   "cell_type": "code",
   "execution_count": 55,
   "metadata": {
    "collapsed": true
   },
   "outputs": [
    {
     "name": "stdout",
     "output_type": "stream",
     "text": [
      "1\n",
      "(3*N^3 + 5*N^2 - 5*N + 2)*(N + 2)*(N + 1)*(N - 1)*N^3/(3*N^4 + 5*N^2 - 4*N + 2)\n"
     ]
    }
   ],
   "source": [
    "print(calculator32.calculate(bps32_4,bps32_4,'planar').canonicalize_radical().factor())\n",
    "print(calculator32.calculate(bps32_4,bps32_4,'F').canonicalize_radical().factor())"
   ]
  },
  {
   "cell_type": "code",
   "execution_count": null,
   "metadata": {
    "collapsed": true
   },
   "outputs": [],
   "source": [
    "st32_2alt = ( #sqrt(5)/10 * comm5 \n",
    "          - sqrt(2)/10 * steven1 + sqrt(2)*sqrt(5)/20 * steven2)\n",
    "st32_2alt -= calculator32.calculate(st32_1,st32_2alt)/calculator32.calculate(st32_1,st32_1) * st32_1\n",
    "st32_2alt.factorCoefficients()\n",
    "print(calculator32.calculate(st32_2alt,st32_alt,'planar'))"
   ]
  },
  {
   "cell_type": "code",
   "execution_count": null,
   "metadata": {
    "collapsed": true
   },
   "outputs": [],
   "source": []
  },
  {
   "cell_type": "code",
   "execution_count": null,
   "metadata": {
    "collapsed": true
   },
   "outputs": [],
   "source": []
  },
  {
   "cell_type": "code",
   "execution_count": null,
   "metadata": {
    "collapsed": true
   },
   "outputs": [],
   "source": []
  },
  {
   "cell_type": "code",
   "execution_count": null,
   "metadata": {
    "collapsed": true
   },
   "outputs": [],
   "source": []
  },
  {
   "cell_type": "code",
   "execution_count": null,
   "metadata": {
    "collapsed": true
   },
   "outputs": [],
   "source": []
  },
  {
   "cell_type": "code",
   "execution_count": null,
   "metadata": {
    "collapsed": true
   },
   "outputs": [],
   "source": []
  },
  {
   "cell_type": "markdown",
   "metadata": {},
   "source": [
    "## Investigating [n-1,1] orthogonalisation"
   ]
  },
  {
   "cell_type": "code",
   "execution_count": 265,
   "metadata": {
    "collapsed": true
   },
   "outputs": [
    {
     "name": "stdout",
     "output_type": "stream",
     "text": [
      "sigma = ()\n",
      "tau = (1,4,3,2)\n",
      "0\n"
     ]
    }
   ],
   "source": [
    "n=4\n",
    "G = SymmetricGroup(n)\n",
    "H = SymmetricGroup(n-1)\n",
    "sigma = PermutationGroupElement([1,2,3,4],parent=G)\n",
    "tau = PermutationGroupElement([(1,4,3,2)], parent=G)\n",
    "print('sigma = ' + str(sigma))\n",
    "print('tau = ' + str(tau))\n",
    "\n",
    "print(sum([sum([sigma == beta.inverse() * rho * beta * tau * rho.inverse() for beta in H]) for rho in G]))"
   ]
  },
  {
   "cell_type": "code",
   "execution_count": 198,
   "metadata": {
    "collapsed": true
   },
   "outputs": [
    {
     "data": {
      "text/plain": [
       "2"
      ]
     },
     "execution_count": 198,
     "metadata": {},
     "output_type": "execute_result"
    }
   ],
   "source": [
    "sum([True, True, False])"
   ]
  },
  {
   "cell_type": "code",
   "execution_count": 201,
   "metadata": {
    "collapsed": true
   },
   "outputs": [
    {
     "data": {
      "text/plain": [
       "(1,2)"
      ]
     },
     "execution_count": 201,
     "metadata": {},
     "output_type": "execute_result"
    }
   ],
   "source": [
    "tau.inverse()"
   ]
  },
  {
   "cell_type": "code",
   "execution_count": null,
   "metadata": {
    "collapsed": true
   },
   "outputs": [],
   "source": []
  },
  {
   "cell_type": "code",
   "execution_count": null,
   "metadata": {
    "collapsed": true
   },
   "outputs": [],
   "source": []
  },
  {
   "cell_type": "code",
   "execution_count": null,
   "metadata": {
    "collapsed": true
   },
   "outputs": [],
   "source": []
  },
  {
   "cell_type": "code",
   "execution_count": null,
   "metadata": {
    "collapsed": true
   },
   "outputs": [],
   "source": []
  },
  {
   "cell_type": "code",
   "execution_count": null,
   "metadata": {
    "collapsed": true
   },
   "outputs": [],
   "source": []
  },
  {
   "cell_type": "code",
   "execution_count": null,
   "metadata": {
    "collapsed": true
   },
   "outputs": [],
   "source": []
  },
  {
   "cell_type": "code",
   "execution_count": null,
   "metadata": {
    "collapsed": true
   },
   "outputs": [],
   "source": []
  },
  {
   "cell_type": "markdown",
   "metadata": {},
   "source": [
    "## Investigating lambda, p multiplicities"
   ]
  },
  {
   "cell_type": "code",
   "execution_count": null,
   "metadata": {
    "collapsed": true
   },
   "outputs": [],
   "source": []
  },
  {
   "cell_type": "code",
   "execution_count": 192,
   "metadata": {
    "collapsed": true
   },
   "outputs": [],
   "source": [
    "s = SymmetricFunctions(QQ).s()"
   ]
  },
  {
   "cell_type": "code",
   "execution_count": 197,
   "metadata": {
    "collapsed": true
   },
   "outputs": [
    {
     "name": "stdout",
     "output_type": "stream",
     "text": [
      "[10]\n",
      "[[1, 0, 0, 0, 0, 0, 0, 0, 0, 0], [1, 0, 0, 0, 0, 0, 0, 0, 0, 0], [1, 0, 0, 0, 0, 0, 0, 0, 0, 0], [1, 0, 0, 0, 0, 0, 0, 0, 0, 0], [1, 0, 0, 0, 0, 0, 0, 0, 0, 0], [1, 0, 0, 0, 0, 0, 0, 0, 0, 0], [1, 0, 0, 0, 0, 0, 0, 0, 0, 0], [1, 0, 0, 0, 0, 0, 0, 0, 0, 0], [1, 0, 0, 0, 0, 0, 0, 0, 0, 0], [1, 0, 0, 0, 0, 0, 0, 0, 0, 0]]\n",
      "[1, 1, 1, 1, 1, 1, 1, 1, 1, 1]\n",
      "(0, 0)\n",
      "(0, 0)\n",
      "(0, 0)\n",
      "(0, 0)\n",
      "\n",
      "[9, 1]\n",
      "[[2, 0, 0, 0, 0, 0, 0, 0, 0, 0], [1, 0, 0, 0, 0, 0, 0, 0, 0, 0], [1, 0, 0, 0, 0, 0, 0, 0, 0, 0], [1, 0, 0, 0, 0, 0, 0, 0, 0, 0], [1, 0, 0, 0, 0, 0, 0, 0, 0, 0], [1, 0, 0, 0, 0, 0, 0, 0, 0, 0], [1, 0, 0, 0, 0, 0, 0, 0, 0, 0], [1, 0, 0, 0, 0, 0, 0, 0, 0, 0], [1, 0, 0, 0, 0, 0, 0, 0, 0, 0], [0, 0, 0, 0, 0, 0, 0, 0, 0, 0]]\n",
      "[2, 1, 1, 1, 1, 1, 1, 1, 1, 0]\n",
      "(1, 1)\n",
      "(1, 0)\n",
      "(0, 0)\n",
      "(0, 0)\n",
      "\n",
      "[8, 2]\n",
      "[[2, 0, 0, 0, 0, 0, 0, 0, 0, 0], [2, 0, 0, 0, 0, 0, 0, 0, 0, 0], [1, 0, 0, 0, 0, 0, 0, 0, 0, 0], [1, 0, 0, 0, 0, 0, 0, 0, 0, 0], [1, 0, 0, 0, 0, 0, 0, 0, 0, 0], [1, 0, 0, 0, 0, 0, 0, 0, 0, 0], [1, 0, 0, 0, 0, 0, 0, 0, 0, 0], [1, 0, 0, 0, 0, 0, 0, 0, 0, 0], [0, 0, 0, 0, 0, 0, 0, 0, 0, 0], [0, 0, 0, 0, 0, 0, 0, 0, 0, 0]]\n",
      "[2, 2, 1, 1, 1, 1, 1, 1, 0, 0]\n",
      "(1, 1)\n",
      "(2, 1)\n",
      "(1, 0)\n",
      "(1, 0)\n",
      "\n",
      "[8, 1, 1]\n",
      "[[2, 1, 0, 0, 0, 0, 0, 0, 0, 0], [1, 0, 0, 0, 0, 0, 0, 0, 0, 0], [1, 0, 0, 0, 0, 0, 0, 0, 0, 0], [1, 0, 0, 0, 0, 0, 0, 0, 0, 0], [1, 0, 0, 0, 0, 0, 0, 0, 0, 0], [1, 0, 0, 0, 0, 0, 0, 0, 0, 0], [1, 0, 0, 0, 0, 0, 0, 0, 0, 0], [1, 0, 0, 0, 0, 0, 0, 0, 0, 0], [0, 0, 0, 0, 0, 0, 0, 0, 0, 0], [0, 0, 0, 0, 0, 0, 0, 0, 0, 0]]\n",
      "[2, 2, 1, 1, 1, 1, 1, 1, 0, 0]\n",
      "(1, 1)\n",
      "(2, 1)\n",
      "(1, 0)\n",
      "(0, 0)\n",
      "\n",
      "[7, 3]\n",
      "[[2, 0, 0, 0, 0, 0, 0, 0, 0, 0], [2, 0, 0, 0, 0, 0, 0, 0, 0, 0], [2, 0, 0, 0, 0, 0, 0, 0, 0, 0], [1, 0, 0, 0, 0, 0, 0, 0, 0, 0], [1, 0, 0, 0, 0, 0, 0, 0, 0, 0], [1, 0, 0, 0, 0, 0, 0, 0, 0, 0], [1, 0, 0, 0, 0, 0, 0, 0, 0, 0], [0, 0, 0, 0, 0, 0, 0, 0, 0, 0], [0, 0, 0, 0, 0, 0, 0, 0, 0, 0], [0, 0, 0, 0, 0, 0, 0, 0, 0, 0]]\n",
      "[2, 2, 2, 1, 1, 1, 1, 0, 0, 0]\n",
      "(1, 1)\n",
      "(2, 1)\n",
      "(2, 1)\n",
      "(2, 0)\n",
      "\n",
      "[7, 2, 1]\n",
      "[[3, 0, 0, 0, 0, 0, 0, 0, 0, 0], [2, 0, 0, 0, 0, 0, 0, 0, 0, 0], [1, 0, 0, 0, 0, 0, 0, 0, 0, 0], [1, 0, 0, 0, 0, 0, 0, 0, 0, 0], [1, 0, 0, 0, 0, 0, 0, 0, 0, 0], [1, 0, 0, 0, 0, 0, 0, 0, 0, 0], [1, 0, 0, 0, 0, 0, 0, 0, 0, 0], [0, 0, 0, 0, 0, 0, 0, 0, 0, 0], [0, 0, 0, 0, 0, 0, 0, 0, 0, 0], [0, 0, 0, 0, 0, 0, 0, 0, 0, 0]]\n",
      "[3, 2, 1, 1, 1, 1, 1, 0, 0, 0]\n",
      "(2, 2)\n",
      "(4, 2)\n",
      "(5, 1)\n",
      "(3, 0)\n",
      "\n",
      "[7, 1, 1, 1]\n",
      "[[2, 1, 1, 0, 0, 0, 0, 0, 0, 0], [1, 0, 0, 0, 0, 0, 0, 0, 0, 0], [1, 0, 0, 0, 0, 0, 0, 0, 0, 0], [1, 0, 0, 0, 0, 0, 0, 0, 0, 0], [1, 0, 0, 0, 0, 0, 0, 0, 0, 0], [1, 0, 0, 0, 0, 0, 0, 0, 0, 0], [1, 0, 0, 0, 0, 0, 0, 0, 0, 0], [0, 0, 0, 0, 0, 0, 0, 0, 0, 0], [0, 0, 0, 0, 0, 0, 0, 0, 0, 0], [0, 0, 0, 0, 0, 0, 0, 0, 0, 0]]\n",
      "[2, 2, 2, 1, 1, 1, 1, 0, 0, 0]\n",
      "(1, 1)\n",
      "(2, 1)\n",
      "(2, 1)\n",
      "(1, 0)\n",
      "\n",
      "[6, 4]\n",
      "[[2, 0, 0, 0, 0, 0, 0, 0, 0, 0], [2, 0, 0, 0, 0, 0, 0, 0, 0, 0], [2, 0, 0, 0, 0, 0, 0, 0, 0, 0], [2, 0, 0, 0, 0, 0, 0, 0, 0, 0], [1, 0, 0, 0, 0, 0, 0, 0, 0, 0], [1, 0, 0, 0, 0, 0, 0, 0, 0, 0], [0, 0, 0, 0, 0, 0, 0, 0, 0, 0], [0, 0, 0, 0, 0, 0, 0, 0, 0, 0], [0, 0, 0, 0, 0, 0, 0, 0, 0, 0], [0, 0, 0, 0, 0, 0, 0, 0, 0, 0]]\n",
      "[2, 2, 2, 2, 1, 1, 0, 0, 0, 0]\n",
      "(1, 1)\n",
      "(2, 1)\n",
      "(1, 1)\n",
      "(2, 1)\n",
      "\n",
      "[6, 3, 1]\n",
      "[[3, 0, 0, 0, 0, 0, 0, 0, 0, 0], [2, 0, 0, 0, 0, 0, 0, 0, 0, 0], [2, 0, 0, 0, 0, 0, 0, 0, 0, 0], [1, 0, 0, 0, 0, 0, 0, 0, 0, 0], [1, 0, 0, 0, 0, 0, 0, 0, 0, 0], [1, 0, 0, 0, 0, 0, 0, 0, 0, 0], [0, 0, 0, 0, 0, 0, 0, 0, 0, 0], [0, 0, 0, 0, 0, 0, 0, 0, 0, 0], [0, 0, 0, 0, 0, 0, 0, 0, 0, 0], [0, 0, 0, 0, 0, 0, 0, 0, 0, 0]]\n",
      "[3, 2, 2, 1, 1, 1, 0, 0, 0, 0]\n",
      "(2, 2)\n",
      "(5, 2)\n",
      "(7, 2)\n",
      "(7, 1)\n",
      "\n",
      "[6, 2, 2]\n",
      "[[2, 1, 0, 0, 0, 0, 0, 0, 0, 0], [2, 1, 0, 0, 0, 0, 0, 0, 0, 0], [1, 0, 0, 0, 0, 0, 0, 0, 0, 0], [1, 0, 0, 0, 0, 0, 0, 0, 0, 0], [1, 0, 0, 0, 0, 0, 0, 0, 0, 0], [1, 0, 0, 0, 0, 0, 0, 0, 0, 0], [0, 0, 0, 0, 0, 0, 0, 0, 0, 0], [0, 0, 0, 0, 0, 0, 0, 0, 0, 0], [0, 0, 0, 0, 0, 0, 0, 0, 0, 0], [0, 0, 0, 0, 0, 0, 0, 0, 0, 0]]\n",
      "[2, 3, 2, 1, 1, 1, 0, 0, 0, 0]\n",
      "(1, 1)\n",
      "(3, 2)\n",
      "(3, 1)\n",
      "(4, 1)\n",
      "\n",
      "[6, 2, 1, 1]\n",
      "[[3, 1, 0, 0, 0, 0, 0, 0, 0, 0], [2, 0, 0, 0, 0, 0, 0, 0, 0, 0], [1, 0, 0, 0, 0, 0, 0, 0, 0, 0], [1, 0, 0, 0, 0, 0, 0, 0, 0, 0], [1, 0, 0, 0, 0, 0, 0, 0, 0, 0], [1, 0, 0, 0, 0, 0, 0, 0, 0, 0], [0, 0, 0, 0, 0, 0, 0, 0, 0, 0], [0, 0, 0, 0, 0, 0, 0, 0, 0, 0], [0, 0, 0, 0, 0, 0, 0, 0, 0, 0], [0, 0, 0, 0, 0, 0, 0, 0, 0, 0]]\n",
      "[3, 3, 1, 1, 1, 1, 0, 0, 0, 0]\n",
      "(2, 2)\n",
      "(5, 3)\n",
      "(7, 2)\n",
      "(7, 1)\n",
      "\n",
      "[6, 1, 1, 1, 1]\n",
      "[[2, 1, 1, 1, 0, 0, 0, 0, 0, 0], [1, 0, 0, 0, 0, 0, 0, 0, 0, 0], [1, 0, 0, 0, 0, 0, 0, 0, 0, 0], [1, 0, 0, 0, 0, 0, 0, 0, 0, 0], [1, 0, 0, 0, 0, 0, 0, 0, 0, 0], [1, 0, 0, 0, 0, 0, 0, 0, 0, 0], [0, 0, 0, 0, 0, 0, 0, 0, 0, 0], [0, 0, 0, 0, 0, 0, 0, 0, 0, 0], [0, 0, 0, 0, 0, 0, 0, 0, 0, 0], [0, 0, 0, 0, 0, 0, 0, 0, 0, 0]]\n",
      "[2, 2, 2, 2, 1, 1, 0, 0, 0, 0]\n",
      "(1, 1)\n",
      "(2, 1)\n",
      "(2, 1)\n",
      "(2, 1)\n",
      "\n",
      "[5, 5]\n",
      "[[1, 1, 0, 0, 0, 0, 0, 0, 0, 0], [1, 1, 0, 0, 0, 0, 0, 0, 0, 0], [1, 1, 0, 0, 0, 0, 0, 0, 0, 0], [1, 1, 0, 0, 0, 0, 0, 0, 0, 0], [1, 1, 0, 0, 0, 0, 0, 0, 0, 0], [0, 0, 0, 0, 0, 0, 0, 0, 0, 0], [0, 0, 0, 0, 0, 0, 0, 0, 0, 0], [0, 0, 0, 0, 0, 0, 0, 0, 0, 0], [0, 0, 0, 0, 0, 0, 0, 0, 0, 0], [0, 0, 0, 0, 0, 0, 0, 0, 0, 0]]\n",
      "[1, 2, 2, 2, 2, 1, 0, 0, 0, 0]\n",
      "(0, 0)\n",
      "(1, 1)\n",
      "(0, 0)\n",
      "(1, 1)\n",
      "\n",
      "[5, 4, 1]\n",
      "[[3, 0, 0, 0, 0, 0, 0, 0, 0, 0], [2, 0, 0, 0, 0, 0, 0, 0, 0, 0], [2, 0, 0, 0, 0, 0, 0, 0, 0, 0], [2, 0, 0, 0, 0, 0, 0, 0, 0, 0], [1, 0, 0, 0, 0, 0, 0, 0, 0, 0], [0, 0, 0, 0, 0, 0, 0, 0, 0, 0], [0, 0, 0, 0, 0, 0, 0, 0, 0, 0], [0, 0, 0, 0, 0, 0, 0, 0, 0, 0], [0, 0, 0, 0, 0, 0, 0, 0, 0, 0], [0, 0, 0, 0, 0, 0, 0, 0, 0, 0]]\n",
      "[3, 2, 2, 2, 1, 0, 0, 0, 0, 0]\n",
      "(2, 2)\n",
      "(4, 2)\n",
      "(5, 2)\n",
      "(4, 2)\n",
      "\n",
      "[5, 3, 2]\n",
      "[[3, 0, 0, 0, 0, 0, 0, 0, 0, 0], [3, 0, 0, 0, 0, 0, 0, 0, 0, 0], [2, 0, 0, 0, 0, 0, 0, 0, 0, 0], [1, 0, 0, 0, 0, 0, 0, 0, 0, 0], [1, 0, 0, 0, 0, 0, 0, 0, 0, 0], [0, 0, 0, 0, 0, 0, 0, 0, 0, 0], [0, 0, 0, 0, 0, 0, 0, 0, 0, 0], [0, 0, 0, 0, 0, 0, 0, 0, 0, 0], [0, 0, 0, 0, 0, 0, 0, 0, 0, 0], [0, 0, 0, 0, 0, 0, 0, 0, 0, 0]]\n",
      "[3, 3, 2, 1, 1, 0, 0, 0, 0, 0]\n",
      "(2, 2)\n",
      "(5, 3)\n",
      "(7, 3)\n",
      "(8, 2)\n",
      "\n",
      "[5, 3, 1, 1]\n",
      "[[3, 1, 0, 0, 0, 0, 0, 0, 0, 0], [2, 0, 0, 0, 0, 0, 0, 0, 0, 0], [2, 0, 0, 0, 0, 0, 0, 0, 0, 0], [1, 0, 0, 0, 0, 0, 0, 0, 0, 0], [1, 0, 0, 0, 0, 0, 0, 0, 0, 0], [0, 0, 0, 0, 0, 0, 0, 0, 0, 0], [0, 0, 0, 0, 0, 0, 0, 0, 0, 0], [0, 0, 0, 0, 0, 0, 0, 0, 0, 0], [0, 0, 0, 0, 0, 0, 0, 0, 0, 0], [0, 0, 0, 0, 0, 0, 0, 0, 0, 0]]\n",
      "[3, 3, 2, 1, 1, 0, 0, 0, 0, 0]\n",
      "(2, 2)\n",
      "(6, 3)\n",
      "(9, 3)\n",
      "(11, 2)\n",
      "\n",
      "[5, 2, 2, 1]\n",
      "[[3, 1, 0, 0, 0, 0, 0, 0, 0, 0], [2, 1, 0, 0, 0, 0, 0, 0, 0, 0], [1, 0, 0, 0, 0, 0, 0, 0, 0, 0], [1, 0, 0, 0, 0, 0, 0, 0, 0, 0], [1, 0, 0, 0, 0, 0, 0, 0, 0, 0], [0, 0, 0, 0, 0, 0, 0, 0, 0, 0], [0, 0, 0, 0, 0, 0, 0, 0, 0, 0], [0, 0, 0, 0, 0, 0, 0, 0, 0, 0], [0, 0, 0, 0, 0, 0, 0, 0, 0, 0], [0, 0, 0, 0, 0, 0, 0, 0, 0, 0]]\n",
      "[3, 3, 2, 1, 1, 0, 0, 0, 0, 0]\n",
      "(2, 2)\n",
      "(5, 3)\n",
      "(8, 3)\n",
      "(9, 2)\n",
      "\n",
      "[5, 2, 1, 1, 1]\n",
      "[[3, 1, 1, 0, 0, 0, 0, 0, 0, 0], [2, 0, 0, 0, 0, 0, 0, 0, 0, 0], [1, 0, 0, 0, 0, 0, 0, 0, 0, 0], [1, 0, 0, 0, 0, 0, 0, 0, 0, 0], [1, 0, 0, 0, 0, 0, 0, 0, 0, 0], [0, 0, 0, 0, 0, 0, 0, 0, 0, 0], [0, 0, 0, 0, 0, 0, 0, 0, 0, 0], [0, 0, 0, 0, 0, 0, 0, 0, 0, 0], [0, 0, 0, 0, 0, 0, 0, 0, 0, 0], [0, 0, 0, 0, 0, 0, 0, 0, 0, 0]]\n",
      "[3, 3, 2, 1, 1, 0, 0, 0, 0, 0]\n",
      "(2, 2)\n",
      "(5, 3)\n",
      "(8, 3)\n",
      "(8, 2)\n",
      "\n",
      "[5, 1, 1, 1, 1, 1]\n",
      "[[2, 1, 1, 1, 1, 0, 0, 0, 0, 0], [1, 0, 0, 0, 0, 0, 0, 0, 0, 0], [1, 0, 0, 0, 0, 0, 0, 0, 0, 0], [1, 0, 0, 0, 0, 0, 0, 0, 0, 0], [1, 0, 0, 0, 0, 0, 0, 0, 0, 0], [0, 0, 0, 0, 0, 0, 0, 0, 0, 0], [0, 0, 0, 0, 0, 0, 0, 0, 0, 0], [0, 0, 0, 0, 0, 0, 0, 0, 0, 0], [0, 0, 0, 0, 0, 0, 0, 0, 0, 0], [0, 0, 0, 0, 0, 0, 0, 0, 0, 0]]\n",
      "[2, 2, 2, 2, 2, 0, 0, 0, 0, 0]\n",
      "(1, 1)\n",
      "(2, 1)\n",
      "(2, 1)\n",
      "(2, 1)\n",
      "\n",
      "[4, 4, 2]\n",
      "[[2, 1, 0, 0, 0, 0, 0, 0, 0, 0], [2, 1, 0, 0, 0, 0, 0, 0, 0, 0], [1, 1, 0, 0, 0, 0, 0, 0, 0, 0], [1, 1, 0, 0, 0, 0, 0, 0, 0, 0], [0, 0, 0, 0, 0, 0, 0, 0, 0, 0], [0, 0, 0, 0, 0, 0, 0, 0, 0, 0], [0, 0, 0, 0, 0, 0, 0, 0, 0, 0], [0, 0, 0, 0, 0, 0, 0, 0, 0, 0], [0, 0, 0, 0, 0, 0, 0, 0, 0, 0], [0, 0, 0, 0, 0, 0, 0, 0, 0, 0]]\n",
      "[2, 3, 2, 2, 1, 0, 0, 0, 0, 0]\n",
      "(1, 1)\n",
      "(3, 2)\n",
      "(2, 1)\n",
      "(3, 2)\n",
      "\n",
      "[4, 4, 1, 1]\n",
      "[[2, 2, 0, 0, 0, 0, 0, 0, 0, 0], [1, 1, 0, 0, 0, 0, 0, 0, 0, 0], [1, 1, 0, 0, 0, 0, 0, 0, 0, 0], [1, 1, 0, 0, 0, 0, 0, 0, 0, 0], [0, 0, 0, 0, 0, 0, 0, 0, 0, 0], [0, 0, 0, 0, 0, 0, 0, 0, 0, 0], [0, 0, 0, 0, 0, 0, 0, 0, 0, 0], [0, 0, 0, 0, 0, 0, 0, 0, 0, 0], [0, 0, 0, 0, 0, 0, 0, 0, 0, 0], [0, 0, 0, 0, 0, 0, 0, 0, 0, 0]]\n",
      "[2, 3, 2, 2, 1, 0, 0, 0, 0, 0]\n"
     ]
    },
    {
     "name": "stdout",
     "output_type": "stream",
     "text": [
      "(1, 1)\n",
      "(3, 2)\n",
      "(3, 1)\n",
      "(4, 2)\n",
      "\n",
      "[4, 3, 3]\n",
      "[[2, 1, 0, 0, 0, 0, 0, 0, 0, 0], [2, 1, 0, 0, 0, 0, 0, 0, 0, 0], [2, 1, 0, 0, 0, 0, 0, 0, 0, 0], [1, 0, 0, 0, 0, 0, 0, 0, 0, 0], [0, 0, 0, 0, 0, 0, 0, 0, 0, 0], [0, 0, 0, 0, 0, 0, 0, 0, 0, 0], [0, 0, 0, 0, 0, 0, 0, 0, 0, 0], [0, 0, 0, 0, 0, 0, 0, 0, 0, 0], [0, 0, 0, 0, 0, 0, 0, 0, 0, 0], [0, 0, 0, 0, 0, 0, 0, 0, 0, 0]]\n",
      "[2, 3, 3, 2, 0, 0, 0, 0, 0, 0]\n",
      "(1, 1)\n",
      "(2, 2)\n",
      "(2, 2)\n",
      "(2, 2)\n",
      "\n",
      "[4, 3, 2, 1]\n",
      "[[4, 0, 0, 0, 0, 0, 0, 0, 0, 0], [3, 0, 0, 0, 0, 0, 0, 0, 0, 0], [2, 0, 0, 0, 0, 0, 0, 0, 0, 0], [1, 0, 0, 0, 0, 0, 0, 0, 0, 0], [0, 0, 0, 0, 0, 0, 0, 0, 0, 0], [0, 0, 0, 0, 0, 0, 0, 0, 0, 0], [0, 0, 0, 0, 0, 0, 0, 0, 0, 0], [0, 0, 0, 0, 0, 0, 0, 0, 0, 0], [0, 0, 0, 0, 0, 0, 0, 0, 0, 0], [0, 0, 0, 0, 0, 0, 0, 0, 0, 0]]\n",
      "[4, 3, 2, 1, 0, 0, 0, 0, 0, 0]\n",
      "(3, 3)\n",
      "(8, 5)\n",
      "(15, 6)\n",
      "(15, 5)\n",
      "\n",
      "[4, 3, 1, 1, 1]\n",
      "[[3, 1, 1, 0, 0, 0, 0, 0, 0, 0], [2, 0, 0, 0, 0, 0, 0, 0, 0, 0], [2, 0, 0, 0, 0, 0, 0, 0, 0, 0], [1, 0, 0, 0, 0, 0, 0, 0, 0, 0], [0, 0, 0, 0, 0, 0, 0, 0, 0, 0], [0, 0, 0, 0, 0, 0, 0, 0, 0, 0], [0, 0, 0, 0, 0, 0, 0, 0, 0, 0], [0, 0, 0, 0, 0, 0, 0, 0, 0, 0], [0, 0, 0, 0, 0, 0, 0, 0, 0, 0], [0, 0, 0, 0, 0, 0, 0, 0, 0, 0]]\n",
      "[3, 3, 3, 1, 0, 0, 0, 0, 0, 0]\n",
      "(2, 2)\n",
      "(5, 3)\n",
      "(8, 4)\n",
      "(9, 3)\n",
      "\n",
      "[4, 2, 2, 2]\n",
      "[[2, 1, 1, 0, 0, 0, 0, 0, 0, 0], [2, 1, 1, 0, 0, 0, 0, 0, 0, 0], [1, 0, 0, 0, 0, 0, 0, 0, 0, 0], [1, 0, 0, 0, 0, 0, 0, 0, 0, 0], [0, 0, 0, 0, 0, 0, 0, 0, 0, 0], [0, 0, 0, 0, 0, 0, 0, 0, 0, 0], [0, 0, 0, 0, 0, 0, 0, 0, 0, 0], [0, 0, 0, 0, 0, 0, 0, 0, 0, 0], [0, 0, 0, 0, 0, 0, 0, 0, 0, 0], [0, 0, 0, 0, 0, 0, 0, 0, 0, 0]]\n",
      "[2, 3, 3, 2, 0, 0, 0, 0, 0, 0]\n",
      "(1, 1)\n",
      "(3, 2)\n",
      "(3, 2)\n",
      "(4, 2)\n",
      "\n",
      "[4, 2, 2, 1, 1]\n",
      "[[3, 2, 0, 0, 0, 0, 0, 0, 0, 0], [2, 1, 0, 0, 0, 0, 0, 0, 0, 0], [1, 0, 0, 0, 0, 0, 0, 0, 0, 0], [1, 0, 0, 0, 0, 0, 0, 0, 0, 0], [0, 0, 0, 0, 0, 0, 0, 0, 0, 0], [0, 0, 0, 0, 0, 0, 0, 0, 0, 0], [0, 0, 0, 0, 0, 0, 0, 0, 0, 0], [0, 0, 0, 0, 0, 0, 0, 0, 0, 0], [0, 0, 0, 0, 0, 0, 0, 0, 0, 0], [0, 0, 0, 0, 0, 0, 0, 0, 0, 0]]\n",
      "[3, 4, 2, 1, 0, 0, 0, 0, 0, 0]\n",
      "(2, 2)\n",
      "(6, 4)\n",
      "(9, 4)\n",
      "(11, 4)\n",
      "\n",
      "[4, 2, 1, 1, 1, 1]\n",
      "[[3, 1, 1, 1, 0, 0, 0, 0, 0, 0], [2, 0, 0, 0, 0, 0, 0, 0, 0, 0], [1, 0, 0, 0, 0, 0, 0, 0, 0, 0], [1, 0, 0, 0, 0, 0, 0, 0, 0, 0], [0, 0, 0, 0, 0, 0, 0, 0, 0, 0], [0, 0, 0, 0, 0, 0, 0, 0, 0, 0], [0, 0, 0, 0, 0, 0, 0, 0, 0, 0], [0, 0, 0, 0, 0, 0, 0, 0, 0, 0], [0, 0, 0, 0, 0, 0, 0, 0, 0, 0], [0, 0, 0, 0, 0, 0, 0, 0, 0, 0]]\n",
      "[3, 3, 2, 2, 0, 0, 0, 0, 0, 0]\n",
      "(2, 2)\n",
      "(5, 3)\n",
      "(7, 3)\n",
      "(7, 3)\n",
      "\n",
      "[4, 1, 1, 1, 1, 1, 1]\n",
      "[[2, 1, 1, 1, 1, 1, 0, 0, 0, 0], [1, 0, 0, 0, 0, 0, 0, 0, 0, 0], [1, 0, 0, 0, 0, 0, 0, 0, 0, 0], [1, 0, 0, 0, 0, 0, 0, 0, 0, 0], [0, 0, 0, 0, 0, 0, 0, 0, 0, 0], [0, 0, 0, 0, 0, 0, 0, 0, 0, 0], [0, 0, 0, 0, 0, 0, 0, 0, 0, 0], [0, 0, 0, 0, 0, 0, 0, 0, 0, 0], [0, 0, 0, 0, 0, 0, 0, 0, 0, 0], [0, 0, 0, 0, 0, 0, 0, 0, 0, 0]]\n",
      "[2, 2, 2, 2, 1, 1, 0, 0, 0, 0]\n",
      "(1, 1)\n",
      "(2, 1)\n",
      "(2, 1)\n",
      "(1, 1)\n",
      "\n",
      "[3, 3, 3, 1]\n",
      "[[2, 1, 1, 0, 0, 0, 0, 0, 0, 0], [1, 1, 1, 0, 0, 0, 0, 0, 0, 0], [1, 1, 1, 0, 0, 0, 0, 0, 0, 0], [0, 0, 0, 0, 0, 0, 0, 0, 0, 0], [0, 0, 0, 0, 0, 0, 0, 0, 0, 0], [0, 0, 0, 0, 0, 0, 0, 0, 0, 0], [0, 0, 0, 0, 0, 0, 0, 0, 0, 0], [0, 0, 0, 0, 0, 0, 0, 0, 0, 0], [0, 0, 0, 0, 0, 0, 0, 0, 0, 0], [0, 0, 0, 0, 0, 0, 0, 0, 0, 0]]\n",
      "[2, 2, 3, 2, 1, 0, 0, 0, 0, 0]\n",
      "(1, 1)\n",
      "(2, 1)\n",
      "(2, 2)\n",
      "(2, 1)\n",
      "\n",
      "[3, 3, 2, 2]\n",
      "[[2, 2, 0, 0, 0, 0, 0, 0, 0, 0], [2, 2, 0, 0, 0, 0, 0, 0, 0, 0], [1, 1, 0, 0, 0, 0, 0, 0, 0, 0], [0, 0, 0, 0, 0, 0, 0, 0, 0, 0], [0, 0, 0, 0, 0, 0, 0, 0, 0, 0], [0, 0, 0, 0, 0, 0, 0, 0, 0, 0], [0, 0, 0, 0, 0, 0, 0, 0, 0, 0], [0, 0, 0, 0, 0, 0, 0, 0, 0, 0], [0, 0, 0, 0, 0, 0, 0, 0, 0, 0], [0, 0, 0, 0, 0, 0, 0, 0, 0, 0]]\n",
      "[2, 4, 3, 1, 0, 0, 0, 0, 0, 0]\n",
      "(1, 1)\n",
      "(3, 3)\n",
      "(2, 2)\n",
      "(3, 3)\n",
      "\n",
      "[3, 3, 2, 1, 1]\n",
      "[[3, 2, 0, 0, 0, 0, 0, 0, 0, 0], [2, 1, 0, 0, 0, 0, 0, 0, 0, 0], [1, 1, 0, 0, 0, 0, 0, 0, 0, 0], [0, 0, 0, 0, 0, 0, 0, 0, 0, 0], [0, 0, 0, 0, 0, 0, 0, 0, 0, 0], [0, 0, 0, 0, 0, 0, 0, 0, 0, 0], [0, 0, 0, 0, 0, 0, 0, 0, 0, 0], [0, 0, 0, 0, 0, 0, 0, 0, 0, 0], [0, 0, 0, 0, 0, 0, 0, 0, 0, 0], [0, 0, 0, 0, 0, 0, 0, 0, 0, 0]]\n",
      "[3, 4, 2, 1, 0, 0, 0, 0, 0, 0]\n",
      "(2, 2)\n",
      "(5, 4)\n",
      "(7, 4)\n",
      "(8, 4)\n",
      "\n",
      "[3, 3, 1, 1, 1, 1]\n",
      "[[2, 2, 1, 1, 0, 0, 0, 0, 0, 0], [1, 1, 0, 0, 0, 0, 0, 0, 0, 0], [1, 1, 0, 0, 0, 0, 0, 0, 0, 0], [0, 0, 0, 0, 0, 0, 0, 0, 0, 0], [0, 0, 0, 0, 0, 0, 0, 0, 0, 0], [0, 0, 0, 0, 0, 0, 0, 0, 0, 0], [0, 0, 0, 0, 0, 0, 0, 0, 0, 0], [0, 0, 0, 0, 0, 0, 0, 0, 0, 0], [0, 0, 0, 0, 0, 0, 0, 0, 0, 0], [0, 0, 0, 0, 0, 0, 0, 0, 0, 0]]\n",
      "[2, 3, 3, 2, 0, 0, 0, 0, 0, 0]\n",
      "(1, 1)\n",
      "(3, 2)\n",
      "(3, 2)\n",
      "(4, 2)\n",
      "\n",
      "[3, 2, 2, 2, 1]\n",
      "[[3, 1, 1, 0, 0, 0, 0, 0, 0, 0], [2, 1, 1, 0, 0, 0, 0, 0, 0, 0], [1, 0, 0, 0, 0, 0, 0, 0, 0, 0], [0, 0, 0, 0, 0, 0, 0, 0, 0, 0], [0, 0, 0, 0, 0, 0, 0, 0, 0, 0], [0, 0, 0, 0, 0, 0, 0, 0, 0, 0], [0, 0, 0, 0, 0, 0, 0, 0, 0, 0], [0, 0, 0, 0, 0, 0, 0, 0, 0, 0], [0, 0, 0, 0, 0, 0, 0, 0, 0, 0], [0, 0, 0, 0, 0, 0, 0, 0, 0, 0]]\n",
      "[3, 3, 3, 1, 0, 0, 0, 0, 0, 0]\n",
      "(2, 2)\n",
      "(4, 3)\n",
      "(5, 4)\n",
      "(4, 3)\n",
      "\n",
      "[3, 2, 2, 1, 1, 1]\n",
      "[[3, 2, 1, 0, 0, 0, 0, 0, 0, 0], [2, 1, 0, 0, 0, 0, 0, 0, 0, 0], [1, 0, 0, 0, 0, 0, 0, 0, 0, 0], [0, 0, 0, 0, 0, 0, 0, 0, 0, 0], [0, 0, 0, 0, 0, 0, 0, 0, 0, 0], [0, 0, 0, 0, 0, 0, 0, 0, 0, 0], [0, 0, 0, 0, 0, 0, 0, 0, 0, 0], [0, 0, 0, 0, 0, 0, 0, 0, 0, 0], [0, 0, 0, 0, 0, 0, 0, 0, 0, 0], [0, 0, 0, 0, 0, 0, 0, 0, 0, 0]]\n",
      "[3, 4, 3, 0, 0, 0, 0, 0, 0, 0]\n",
      "(2, 2)\n",
      "(5, 4)\n",
      "(7, 5)\n",
      "(7, 4)\n",
      "\n",
      "[3, 2, 1, 1, 1, 1, 1]\n",
      "[[3, 1, 1, 1, 1, 0, 0, 0, 0, 0], [2, 0, 0, 0, 0, 0, 0, 0, 0, 0], [1, 0, 0, 0, 0, 0, 0, 0, 0, 0], [0, 0, 0, 0, 0, 0, 0, 0, 0, 0], [0, 0, 0, 0, 0, 0, 0, 0, 0, 0], [0, 0, 0, 0, 0, 0, 0, 0, 0, 0], [0, 0, 0, 0, 0, 0, 0, 0, 0, 0], [0, 0, 0, 0, 0, 0, 0, 0, 0, 0], [0, 0, 0, 0, 0, 0, 0, 0, 0, 0], [0, 0, 0, 0, 0, 0, 0, 0, 0, 0]]\n",
      "[3, 3, 2, 1, 1, 0, 0, 0, 0, 0]\n",
      "(2, 2)\n",
      "(4, 3)\n",
      "(5, 3)\n",
      "(3, 2)\n",
      "\n",
      "[3, 1, 1, 1, 1, 1, 1, 1]\n",
      "[[2, 1, 1, 1, 1, 1, 1, 0, 0, 0], [1, 0, 0, 0, 0, 0, 0, 0, 0, 0], [1, 0, 0, 0, 0, 0, 0, 0, 0, 0], [0, 0, 0, 0, 0, 0, 0, 0, 0, 0], [0, 0, 0, 0, 0, 0, 0, 0, 0, 0], [0, 0, 0, 0, 0, 0, 0, 0, 0, 0], [0, 0, 0, 0, 0, 0, 0, 0, 0, 0], [0, 0, 0, 0, 0, 0, 0, 0, 0, 0], [0, 0, 0, 0, 0, 0, 0, 0, 0, 0], [0, 0, 0, 0, 0, 0, 0, 0, 0, 0]]\n",
      "[2, 2, 2, 1, 1, 1, 1, 0, 0, 0]\n",
      "(1, 1)\n",
      "(2, 1)\n",
      "(1, 1)\n",
      "(0, 0)\n",
      "\n",
      "[2, 2, 2, 2, 2]\n",
      "[[1, 1, 1, 1, 1, 0, 0, 0, 0, 0], [1, 1, 1, 1, 1, 0, 0, 0, 0, 0], [0, 0, 0, 0, 0, 0, 0, 0, 0, 0], [0, 0, 0, 0, 0, 0, 0, 0, 0, 0], [0, 0, 0, 0, 0, 0, 0, 0, 0, 0], [0, 0, 0, 0, 0, 0, 0, 0, 0, 0], [0, 0, 0, 0, 0, 0, 0, 0, 0, 0], [0, 0, 0, 0, 0, 0, 0, 0, 0, 0], [0, 0, 0, 0, 0, 0, 0, 0, 0, 0], [0, 0, 0, 0, 0, 0, 0, 0, 0, 0]]\n",
      "[1, 2, 2, 2, 2, 1, 0, 0, 0, 0]\n",
      "(0, 0)\n",
      "(1, 1)\n",
      "(0, 0)\n",
      "(1, 1)\n",
      "\n",
      "[2, 2, 2, 2, 1, 1]\n",
      "[[2, 2, 1, 1, 0, 0, 0, 0, 0, 0], [1, 1, 1, 1, 0, 0, 0, 0, 0, 0], [0, 0, 0, 0, 0, 0, 0, 0, 0, 0], [0, 0, 0, 0, 0, 0, 0, 0, 0, 0], [0, 0, 0, 0, 0, 0, 0, 0, 0, 0], [0, 0, 0, 0, 0, 0, 0, 0, 0, 0], [0, 0, 0, 0, 0, 0, 0, 0, 0, 0], [0, 0, 0, 0, 0, 0, 0, 0, 0, 0], [0, 0, 0, 0, 0, 0, 0, 0, 0, 0], [0, 0, 0, 0, 0, 0, 0, 0, 0, 0]]\n",
      "[2, 3, 2, 2, 1, 0, 0, 0, 0, 0]\n",
      "(1, 1)\n",
      "(2, 2)\n",
      "(1, 1)\n",
      "(2, 2)\n",
      "\n",
      "[2, 2, 2, 1, 1, 1, 1]\n",
      "[[2, 2, 2, 1, 0, 0, 0, 0, 0, 0], [1, 1, 1, 0, 0, 0, 0, 0, 0, 0], [0, 0, 0, 0, 0, 0, 0, 0, 0, 0], [0, 0, 0, 0, 0, 0, 0, 0, 0, 0], [0, 0, 0, 0, 0, 0, 0, 0, 0, 0], [0, 0, 0, 0, 0, 0, 0, 0, 0, 0], [0, 0, 0, 0, 0, 0, 0, 0, 0, 0], [0, 0, 0, 0, 0, 0, 0, 0, 0, 0], [0, 0, 0, 0, 0, 0, 0, 0, 0, 0], [0, 0, 0, 0, 0, 0, 0, 0, 0, 0]]\n",
      "[2, 3, 3, 2, 0, 0, 0, 0, 0, 0]\n",
      "(1, 1)\n",
      "(2, 2)\n",
      "(2, 2)\n",
      "(2, 2)\n",
      "\n",
      "[2, 2, 1, 1, 1, 1, 1, 1]\n",
      "[[2, 2, 1, 1, 1, 1, 0, 0, 0, 0], [1, 1, 0, 0, 0, 0, 0, 0, 0, 0], [0, 0, 0, 0, 0, 0, 0, 0, 0, 0], [0, 0, 0, 0, 0, 0, 0, 0, 0, 0], [0, 0, 0, 0, 0, 0, 0, 0, 0, 0], [0, 0, 0, 0, 0, 0, 0, 0, 0, 0], [0, 0, 0, 0, 0, 0, 0, 0, 0, 0], [0, 0, 0, 0, 0, 0, 0, 0, 0, 0], [0, 0, 0, 0, 0, 0, 0, 0, 0, 0], [0, 0, 0, 0, 0, 0, 0, 0, 0, 0]]\n",
      "[2, 3, 2, 1, 1, 1, 0, 0, 0, 0]\n",
      "(1, 1)\n",
      "(2, 2)\n",
      "(1, 1)\n",
      "(1, 1)\n",
      "\n",
      "[2, 1, 1, 1, 1, 1, 1, 1, 1]\n",
      "[[2, 1, 1, 1, 1, 1, 1, 1, 0, 0], [1, 0, 0, 0, 0, 0, 0, 0, 0, 0], [0, 0, 0, 0, 0, 0, 0, 0, 0, 0], [0, 0, 0, 0, 0, 0, 0, 0, 0, 0], [0, 0, 0, 0, 0, 0, 0, 0, 0, 0], [0, 0, 0, 0, 0, 0, 0, 0, 0, 0], [0, 0, 0, 0, 0, 0, 0, 0, 0, 0], [0, 0, 0, 0, 0, 0, 0, 0, 0, 0], [0, 0, 0, 0, 0, 0, 0, 0, 0, 0], [0, 0, 0, 0, 0, 0, 0, 0, 0, 0]]\n",
      "[2, 2, 1, 1, 1, 1, 1, 1, 0, 0]\n",
      "(1, 1)\n",
      "(1, 1)\n",
      "(0, 0)\n",
      "(0, 0)\n",
      "\n",
      "[1, 1, 1, 1, 1, 1, 1, 1, 1, 1]\n",
      "[[1, 1, 1, 1, 1, 1, 1, 1, 1, 1], [0, 0, 0, 0, 0, 0, 0, 0, 0, 0], [0, 0, 0, 0, 0, 0, 0, 0, 0, 0], [0, 0, 0, 0, 0, 0, 0, 0, 0, 0], [0, 0, 0, 0, 0, 0, 0, 0, 0, 0], [0, 0, 0, 0, 0, 0, 0, 0, 0, 0], [0, 0, 0, 0, 0, 0, 0, 0, 0, 0], [0, 0, 0, 0, 0, 0, 0, 0, 0, 0], [0, 0, 0, 0, 0, 0, 0, 0, 0, 0], [0, 0, 0, 0, 0, 0, 0, 0, 0, 0]]\n",
      "[1, 1, 1, 1, 1, 1, 1, 1, 1, 1]\n",
      "(0, 0)\n",
      "(0, 0)\n"
     ]
    },
    {
     "name": "stdout",
     "output_type": "stream",
     "text": [
      "(0, 0)\n",
      "(0, 0)\n",
      "\n"
     ]
    }
   ],
   "source": [
    "n=10\n",
    "for R in Partitions(n):\n",
    "    c = [[0 for i in range(n)] for j in range(n)]\n",
    "    for i in range(len(R)):\n",
    "        a = R[:i].count(R[i])\n",
    "        for j in range(R[i]):\n",
    "            c[j][a] += 1\n",
    "    q = [0 for i in range(n)]\n",
    "    for i in range(n):\n",
    "        q[i] = sum([c[j][i-j] for j in range(i+1)])\n",
    "        \n",
    "        \n",
    "            \n",
    "    print( R )\n",
    "    print(c)\n",
    "    print(q)\n",
    "    print((s(R).itensor(s([n-1,1]))).scalar(s(R)), q[0] - 1)\n",
    "    print((s(R).itensor(s([n-2,2]))).scalar(s(R)), q[1] + binomial(q[0],2) - q[0])\n",
    "    print((s(R).itensor(s([n-3,3]))).scalar(s(R)), (q[2] + q[1]*(q[0] - 2) \n",
    "                                                   + q[0]*(q[0] - 1)*(q[0] - 5)/6) )\n",
    "    print((s(R).itensor(s([n-4,4]))).scalar(s(R)), (q[3] + q[2]*(q[0] - 2) + q[1]*(q[0] - 1)*(q[0] - 4)/2\n",
    "                                                   + binomial(q[1],2) + q[0]*(q[0] - 1)*(q[0]-2)*(q[0] - 7)/24) )\n",
    "    print('')\n",
    "    \n",
    "    "
   ]
  },
  {
   "cell_type": "code",
   "execution_count": 5,
   "metadata": {
    "collapsed": true
   },
   "outputs": [
    {
     "name": "stdout",
     "output_type": "stream",
     "text": [
      "[14]\n",
      "[[1, 0, 0, 0, 0, 0, 0, 0, 0, 0, 0, 0, 0, 0], [1, 0, 0, 0, 0, 0, 0, 0, 0, 0, 0, 0, 0, 0], [1, 0, 0, 0, 0, 0, 0, 0, 0, 0, 0, 0, 0, 0], [1, 0, 0, 0, 0, 0, 0, 0, 0, 0, 0, 0, 0, 0], [1, 0, 0, 0, 0, 0, 0, 0, 0, 0, 0, 0, 0, 0], [1, 0, 0, 0, 0, 0, 0, 0, 0, 0, 0, 0, 0, 0], [1, 0, 0, 0, 0, 0, 0, 0, 0, 0, 0, 0, 0, 0], [1, 0, 0, 0, 0, 0, 0, 0, 0, 0, 0, 0, 0, 0], [1, 0, 0, 0, 0, 0, 0, 0, 0, 0, 0, 0, 0, 0], [1, 0, 0, 0, 0, 0, 0, 0, 0, 0, 0, 0, 0, 0], [1, 0, 0, 0, 0, 0, 0, 0, 0, 0, 0, 0, 0, 0], [1, 0, 0, 0, 0, 0, 0, 0, 0, 0, 0, 0, 0, 0], [1, 0, 0, 0, 0, 0, 0, 0, 0, 0, 0, 0, 0, 0], [1, 0, 0, 0, 0, 0, 0, 0, 0, 0, 0, 0, 0, 0]]\n",
      "[1, 1, 1, 1, 1, 1, 1, 1, 1, 1, 1, 1, 1, 1]\n",
      "[1, 0, 0, 0, 0, 0, 0, 0]\n",
      "[1, 0, 0, 0, 0, 0, 0, 0]\n",
      "\n",
      "[13, 1]\n",
      "[[2, 0, 0, 0, 0, 0, 0, 0, 0, 0, 0, 0, 0, 0], [1, 0, 0, 0, 0, 0, 0, 0, 0, 0, 0, 0, 0, 0], [1, 0, 0, 0, 0, 0, 0, 0, 0, 0, 0, 0, 0, 0], [1, 0, 0, 0, 0, 0, 0, 0, 0, 0, 0, 0, 0, 0], [1, 0, 0, 0, 0, 0, 0, 0, 0, 0, 0, 0, 0, 0], [1, 0, 0, 0, 0, 0, 0, 0, 0, 0, 0, 0, 0, 0], [1, 0, 0, 0, 0, 0, 0, 0, 0, 0, 0, 0, 0, 0], [1, 0, 0, 0, 0, 0, 0, 0, 0, 0, 0, 0, 0, 0], [1, 0, 0, 0, 0, 0, 0, 0, 0, 0, 0, 0, 0, 0], [1, 0, 0, 0, 0, 0, 0, 0, 0, 0, 0, 0, 0, 0], [1, 0, 0, 0, 0, 0, 0, 0, 0, 0, 0, 0, 0, 0], [1, 0, 0, 0, 0, 0, 0, 0, 0, 0, 0, 0, 0, 0], [1, 0, 0, 0, 0, 0, 0, 0, 0, 0, 0, 0, 0, 0], [0, 0, 0, 0, 0, 0, 0, 0, 0, 0, 0, 0, 0, 0]]\n",
      "[2, 1, 1, 1, 1, 1, 1, 1, 1, 1, 1, 1, 1, 0]\n",
      "[1, 1, 0, 0, 0, 0, 0, 0]\n",
      "[1, 1, 0, 0, 0, 0, 0, 0]\n",
      "\n",
      "[12, 2]\n",
      "[[2, 0, 0, 0, 0, 0, 0, 0, 0, 0, 0, 0, 0, 0], [2, 0, 0, 0, 0, 0, 0, 0, 0, 0, 0, 0, 0, 0], [1, 0, 0, 0, 0, 0, 0, 0, 0, 0, 0, 0, 0, 0], [1, 0, 0, 0, 0, 0, 0, 0, 0, 0, 0, 0, 0, 0], [1, 0, 0, 0, 0, 0, 0, 0, 0, 0, 0, 0, 0, 0], [1, 0, 0, 0, 0, 0, 0, 0, 0, 0, 0, 0, 0, 0], [1, 0, 0, 0, 0, 0, 0, 0, 0, 0, 0, 0, 0, 0], [1, 0, 0, 0, 0, 0, 0, 0, 0, 0, 0, 0, 0, 0], [1, 0, 0, 0, 0, 0, 0, 0, 0, 0, 0, 0, 0, 0], [1, 0, 0, 0, 0, 0, 0, 0, 0, 0, 0, 0, 0, 0], [1, 0, 0, 0, 0, 0, 0, 0, 0, 0, 0, 0, 0, 0], [1, 0, 0, 0, 0, 0, 0, 0, 0, 0, 0, 0, 0, 0], [0, 0, 0, 0, 0, 0, 0, 0, 0, 0, 0, 0, 0, 0], [0, 0, 0, 0, 0, 0, 0, 0, 0, 0, 0, 0, 0, 0]]\n",
      "[2, 2, 1, 1, 1, 1, 1, 1, 1, 1, 1, 1, 0, 0]\n",
      "[1, 1, 1, 0, 0, 0, 0, 0]\n",
      "[1, 1, 1, 0, 0, 0, 0, 0]\n",
      "\n",
      "[12, 1, 1]\n",
      "[[2, 1, 0, 0, 0, 0, 0, 0, 0, 0, 0, 0, 0, 0], [1, 0, 0, 0, 0, 0, 0, 0, 0, 0, 0, 0, 0, 0], [1, 0, 0, 0, 0, 0, 0, 0, 0, 0, 0, 0, 0, 0], [1, 0, 0, 0, 0, 0, 0, 0, 0, 0, 0, 0, 0, 0], [1, 0, 0, 0, 0, 0, 0, 0, 0, 0, 0, 0, 0, 0], [1, 0, 0, 0, 0, 0, 0, 0, 0, 0, 0, 0, 0, 0], [1, 0, 0, 0, 0, 0, 0, 0, 0, 0, 0, 0, 0, 0], [1, 0, 0, 0, 0, 0, 0, 0, 0, 0, 0, 0, 0, 0], [1, 0, 0, 0, 0, 0, 0, 0, 0, 0, 0, 0, 0, 0], [1, 0, 0, 0, 0, 0, 0, 0, 0, 0, 0, 0, 0, 0], [1, 0, 0, 0, 0, 0, 0, 0, 0, 0, 0, 0, 0, 0], [1, 0, 0, 0, 0, 0, 0, 0, 0, 0, 0, 0, 0, 0], [0, 0, 0, 0, 0, 0, 0, 0, 0, 0, 0, 0, 0, 0], [0, 0, 0, 0, 0, 0, 0, 0, 0, 0, 0, 0, 0, 0]]\n",
      "[2, 2, 1, 1, 1, 1, 1, 1, 1, 1, 1, 1, 0, 0]\n",
      "[1, 1, 1, 0, 0, 0, 0, 0]\n",
      "[1, 1, 1, 0, 0, 0, 0, 0]\n",
      "\n",
      "[11, 3]\n",
      "[[2, 0, 0, 0, 0, 0, 0, 0, 0, 0, 0, 0, 0, 0], [2, 0, 0, 0, 0, 0, 0, 0, 0, 0, 0, 0, 0, 0], [2, 0, 0, 0, 0, 0, 0, 0, 0, 0, 0, 0, 0, 0], [1, 0, 0, 0, 0, 0, 0, 0, 0, 0, 0, 0, 0, 0], [1, 0, 0, 0, 0, 0, 0, 0, 0, 0, 0, 0, 0, 0], [1, 0, 0, 0, 0, 0, 0, 0, 0, 0, 0, 0, 0, 0], [1, 0, 0, 0, 0, 0, 0, 0, 0, 0, 0, 0, 0, 0], [1, 0, 0, 0, 0, 0, 0, 0, 0, 0, 0, 0, 0, 0], [1, 0, 0, 0, 0, 0, 0, 0, 0, 0, 0, 0, 0, 0], [1, 0, 0, 0, 0, 0, 0, 0, 0, 0, 0, 0, 0, 0], [1, 0, 0, 0, 0, 0, 0, 0, 0, 0, 0, 0, 0, 0], [0, 0, 0, 0, 0, 0, 0, 0, 0, 0, 0, 0, 0, 0], [0, 0, 0, 0, 0, 0, 0, 0, 0, 0, 0, 0, 0, 0], [0, 0, 0, 0, 0, 0, 0, 0, 0, 0, 0, 0, 0, 0]]\n",
      "[2, 2, 2, 1, 1, 1, 1, 1, 1, 1, 1, 0, 0, 0]\n",
      "[1, 1, 1, 1, 0, 0, 0, 0]\n",
      "[1, 1, 1, 1, 0, 0, 0, 0]\n",
      "\n",
      "[11, 2, 1]\n",
      "[[3, 0, 0, 0, 0, 0, 0, 0, 0, 0, 0, 0, 0, 0], [2, 0, 0, 0, 0, 0, 0, 0, 0, 0, 0, 0, 0, 0], [1, 0, 0, 0, 0, 0, 0, 0, 0, 0, 0, 0, 0, 0], [1, 0, 0, 0, 0, 0, 0, 0, 0, 0, 0, 0, 0, 0], [1, 0, 0, 0, 0, 0, 0, 0, 0, 0, 0, 0, 0, 0], [1, 0, 0, 0, 0, 0, 0, 0, 0, 0, 0, 0, 0, 0], [1, 0, 0, 0, 0, 0, 0, 0, 0, 0, 0, 0, 0, 0], [1, 0, 0, 0, 0, 0, 0, 0, 0, 0, 0, 0, 0, 0], [1, 0, 0, 0, 0, 0, 0, 0, 0, 0, 0, 0, 0, 0], [1, 0, 0, 0, 0, 0, 0, 0, 0, 0, 0, 0, 0, 0], [1, 0, 0, 0, 0, 0, 0, 0, 0, 0, 0, 0, 0, 0], [0, 0, 0, 0, 0, 0, 0, 0, 0, 0, 0, 0, 0, 0], [0, 0, 0, 0, 0, 0, 0, 0, 0, 0, 0, 0, 0, 0], [0, 0, 0, 0, 0, 0, 0, 0, 0, 0, 0, 0, 0, 0]]\n",
      "[3, 2, 1, 1, 1, 1, 1, 1, 1, 1, 1, 0, 0, 0]\n",
      "[1, 2, 2, 1, 0, 0, 0, 0]\n",
      "[1, 2, 2, 1, 0, 0, 0, 0]\n",
      "\n",
      "[11, 1, 1, 1]\n",
      "[[2, 1, 1, 0, 0, 0, 0, 0, 0, 0, 0, 0, 0, 0], [1, 0, 0, 0, 0, 0, 0, 0, 0, 0, 0, 0, 0, 0], [1, 0, 0, 0, 0, 0, 0, 0, 0, 0, 0, 0, 0, 0], [1, 0, 0, 0, 0, 0, 0, 0, 0, 0, 0, 0, 0, 0], [1, 0, 0, 0, 0, 0, 0, 0, 0, 0, 0, 0, 0, 0], [1, 0, 0, 0, 0, 0, 0, 0, 0, 0, 0, 0, 0, 0], [1, 0, 0, 0, 0, 0, 0, 0, 0, 0, 0, 0, 0, 0], [1, 0, 0, 0, 0, 0, 0, 0, 0, 0, 0, 0, 0, 0], [1, 0, 0, 0, 0, 0, 0, 0, 0, 0, 0, 0, 0, 0], [1, 0, 0, 0, 0, 0, 0, 0, 0, 0, 0, 0, 0, 0], [1, 0, 0, 0, 0, 0, 0, 0, 0, 0, 0, 0, 0, 0], [0, 0, 0, 0, 0, 0, 0, 0, 0, 0, 0, 0, 0, 0], [0, 0, 0, 0, 0, 0, 0, 0, 0, 0, 0, 0, 0, 0], [0, 0, 0, 0, 0, 0, 0, 0, 0, 0, 0, 0, 0, 0]]\n",
      "[2, 2, 2, 1, 1, 1, 1, 1, 1, 1, 1, 0, 0, 0]\n",
      "[1, 1, 1, 1, 0, 0, 0, 0]\n",
      "[1, 1, 1, 1, 0, 0, 0, 0]\n",
      "\n",
      "[10, 4]\n",
      "[[2, 0, 0, 0, 0, 0, 0, 0, 0, 0, 0, 0, 0, 0], [2, 0, 0, 0, 0, 0, 0, 0, 0, 0, 0, 0, 0, 0], [2, 0, 0, 0, 0, 0, 0, 0, 0, 0, 0, 0, 0, 0], [2, 0, 0, 0, 0, 0, 0, 0, 0, 0, 0, 0, 0, 0], [1, 0, 0, 0, 0, 0, 0, 0, 0, 0, 0, 0, 0, 0], [1, 0, 0, 0, 0, 0, 0, 0, 0, 0, 0, 0, 0, 0], [1, 0, 0, 0, 0, 0, 0, 0, 0, 0, 0, 0, 0, 0], [1, 0, 0, 0, 0, 0, 0, 0, 0, 0, 0, 0, 0, 0], [1, 0, 0, 0, 0, 0, 0, 0, 0, 0, 0, 0, 0, 0], [1, 0, 0, 0, 0, 0, 0, 0, 0, 0, 0, 0, 0, 0], [0, 0, 0, 0, 0, 0, 0, 0, 0, 0, 0, 0, 0, 0], [0, 0, 0, 0, 0, 0, 0, 0, 0, 0, 0, 0, 0, 0], [0, 0, 0, 0, 0, 0, 0, 0, 0, 0, 0, 0, 0, 0], [0, 0, 0, 0, 0, 0, 0, 0, 0, 0, 0, 0, 0, 0]]\n",
      "[2, 2, 2, 2, 1, 1, 1, 1, 1, 1, 0, 0, 0, 0]\n",
      "[1, 1, 1, 1, 1, 0, 0, 0]\n",
      "[1, 1, 1, 1, 1, 0, 0, 0]\n",
      "\n",
      "[10, 3, 1]\n",
      "[[3, 0, 0, 0, 0, 0, 0, 0, 0, 0, 0, 0, 0, 0], [2, 0, 0, 0, 0, 0, 0, 0, 0, 0, 0, 0, 0, 0], [2, 0, 0, 0, 0, 0, 0, 0, 0, 0, 0, 0, 0, 0], [1, 0, 0, 0, 0, 0, 0, 0, 0, 0, 0, 0, 0, 0], [1, 0, 0, 0, 0, 0, 0, 0, 0, 0, 0, 0, 0, 0], [1, 0, 0, 0, 0, 0, 0, 0, 0, 0, 0, 0, 0, 0], [1, 0, 0, 0, 0, 0, 0, 0, 0, 0, 0, 0, 0, 0], [1, 0, 0, 0, 0, 0, 0, 0, 0, 0, 0, 0, 0, 0], [1, 0, 0, 0, 0, 0, 0, 0, 0, 0, 0, 0, 0, 0], [1, 0, 0, 0, 0, 0, 0, 0, 0, 0, 0, 0, 0, 0], [0, 0, 0, 0, 0, 0, 0, 0, 0, 0, 0, 0, 0, 0], [0, 0, 0, 0, 0, 0, 0, 0, 0, 0, 0, 0, 0, 0], [0, 0, 0, 0, 0, 0, 0, 0, 0, 0, 0, 0, 0, 0], [0, 0, 0, 0, 0, 0, 0, 0, 0, 0, 0, 0, 0, 0]]\n",
      "[3, 2, 2, 1, 1, 1, 1, 1, 1, 1, 0, 0, 0, 0]\n",
      "[1, 2, 2, 2, 1, 0, 0, 0]\n",
      "[1, 2, 2, 2, 1, 0, 0, 0]\n",
      "\n",
      "[10, 2, 2]\n",
      "[[2, 1, 0, 0, 0, 0, 0, 0, 0, 0, 0, 0, 0, 0], [2, 1, 0, 0, 0, 0, 0, 0, 0, 0, 0, 0, 0, 0], [1, 0, 0, 0, 0, 0, 0, 0, 0, 0, 0, 0, 0, 0], [1, 0, 0, 0, 0, 0, 0, 0, 0, 0, 0, 0, 0, 0], [1, 0, 0, 0, 0, 0, 0, 0, 0, 0, 0, 0, 0, 0], [1, 0, 0, 0, 0, 0, 0, 0, 0, 0, 0, 0, 0, 0], [1, 0, 0, 0, 0, 0, 0, 0, 0, 0, 0, 0, 0, 0], [1, 0, 0, 0, 0, 0, 0, 0, 0, 0, 0, 0, 0, 0], [1, 0, 0, 0, 0, 0, 0, 0, 0, 0, 0, 0, 0, 0], [1, 0, 0, 0, 0, 0, 0, 0, 0, 0, 0, 0, 0, 0], [0, 0, 0, 0, 0, 0, 0, 0, 0, 0, 0, 0, 0, 0], [0, 0, 0, 0, 0, 0, 0, 0, 0, 0, 0, 0, 0, 0], [0, 0, 0, 0, 0, 0, 0, 0, 0, 0, 0, 0, 0, 0], [0, 0, 0, 0, 0, 0, 0, 0, 0, 0, 0, 0, 0, 0]]\n",
      "[2, 3, 2, 1, 1, 1, 1, 1, 1, 1, 0, 0, 0, 0]\n",
      "[1, 1, 2, 1, 1, 0, 0, 0]\n",
      "[1, 1, 2, 1, 1, 0, 0, 0]\n",
      "\n",
      "[10, 2, 1, 1]\n",
      "[[3, 1, 0, 0, 0, 0, 0, 0, 0, 0, 0, 0, 0, 0], [2, 0, 0, 0, 0, 0, 0, 0, 0, 0, 0, 0, 0, 0], [1, 0, 0, 0, 0, 0, 0, 0, 0, 0, 0, 0, 0, 0], [1, 0, 0, 0, 0, 0, 0, 0, 0, 0, 0, 0, 0, 0], [1, 0, 0, 0, 0, 0, 0, 0, 0, 0, 0, 0, 0, 0], [1, 0, 0, 0, 0, 0, 0, 0, 0, 0, 0, 0, 0, 0], [1, 0, 0, 0, 0, 0, 0, 0, 0, 0, 0, 0, 0, 0], [1, 0, 0, 0, 0, 0, 0, 0, 0, 0, 0, 0, 0, 0], [1, 0, 0, 0, 0, 0, 0, 0, 0, 0, 0, 0, 0, 0], [1, 0, 0, 0, 0, 0, 0, 0, 0, 0, 0, 0, 0, 0], [0, 0, 0, 0, 0, 0, 0, 0, 0, 0, 0, 0, 0, 0], [0, 0, 0, 0, 0, 0, 0, 0, 0, 0, 0, 0, 0, 0], [0, 0, 0, 0, 0, 0, 0, 0, 0, 0, 0, 0, 0, 0], [0, 0, 0, 0, 0, 0, 0, 0, 0, 0, 0, 0, 0, 0]]\n",
      "[3, 3, 1, 1, 1, 1, 1, 1, 1, 1, 0, 0, 0, 0]\n",
      "[1, 2, 3, 2, 1, 0, 0, 0]\n",
      "[1, 2, 3, 2, 1, 0, 0, 0]\n",
      "\n",
      "[10, 1, 1, 1, 1]\n",
      "[[2, 1, 1, 1, 0, 0, 0, 0, 0, 0, 0, 0, 0, 0], [1, 0, 0, 0, 0, 0, 0, 0, 0, 0, 0, 0, 0, 0], [1, 0, 0, 0, 0, 0, 0, 0, 0, 0, 0, 0, 0, 0], [1, 0, 0, 0, 0, 0, 0, 0, 0, 0, 0, 0, 0, 0], [1, 0, 0, 0, 0, 0, 0, 0, 0, 0, 0, 0, 0, 0], [1, 0, 0, 0, 0, 0, 0, 0, 0, 0, 0, 0, 0, 0], [1, 0, 0, 0, 0, 0, 0, 0, 0, 0, 0, 0, 0, 0], [1, 0, 0, 0, 0, 0, 0, 0, 0, 0, 0, 0, 0, 0], [1, 0, 0, 0, 0, 0, 0, 0, 0, 0, 0, 0, 0, 0], [1, 0, 0, 0, 0, 0, 0, 0, 0, 0, 0, 0, 0, 0], [0, 0, 0, 0, 0, 0, 0, 0, 0, 0, 0, 0, 0, 0], [0, 0, 0, 0, 0, 0, 0, 0, 0, 0, 0, 0, 0, 0], [0, 0, 0, 0, 0, 0, 0, 0, 0, 0, 0, 0, 0, 0], [0, 0, 0, 0, 0, 0, 0, 0, 0, 0, 0, 0, 0, 0]]\n",
      "[2, 2, 2, 2, 1, 1, 1, 1, 1, 1, 0, 0, 0, 0]\n",
      "[1, 1, 1, 1, 1, 0, 0, 0]\n",
      "[1, 1, 1, 1, 1, 0, 0, 0]\n",
      "\n"
     ]
    },
    {
     "name": "stdout",
     "output_type": "stream",
     "text": [
      "[9, 5]\n",
      "[[2, 0, 0, 0, 0, 0, 0, 0, 0, 0, 0, 0, 0, 0], [2, 0, 0, 0, 0, 0, 0, 0, 0, 0, 0, 0, 0, 0], [2, 0, 0, 0, 0, 0, 0, 0, 0, 0, 0, 0, 0, 0], [2, 0, 0, 0, 0, 0, 0, 0, 0, 0, 0, 0, 0, 0], [2, 0, 0, 0, 0, 0, 0, 0, 0, 0, 0, 0, 0, 0], [1, 0, 0, 0, 0, 0, 0, 0, 0, 0, 0, 0, 0, 0], [1, 0, 0, 0, 0, 0, 0, 0, 0, 0, 0, 0, 0, 0], [1, 0, 0, 0, 0, 0, 0, 0, 0, 0, 0, 0, 0, 0], [1, 0, 0, 0, 0, 0, 0, 0, 0, 0, 0, 0, 0, 0], [0, 0, 0, 0, 0, 0, 0, 0, 0, 0, 0, 0, 0, 0], [0, 0, 0, 0, 0, 0, 0, 0, 0, 0, 0, 0, 0, 0], [0, 0, 0, 0, 0, 0, 0, 0, 0, 0, 0, 0, 0, 0], [0, 0, 0, 0, 0, 0, 0, 0, 0, 0, 0, 0, 0, 0], [0, 0, 0, 0, 0, 0, 0, 0, 0, 0, 0, 0, 0, 0]]\n",
      "[2, 2, 2, 2, 2, 1, 1, 1, 1, 0, 0, 0, 0, 0]\n",
      "[1, 1, 1, 1, 1, 1, 0, 0]\n",
      "[1, 1, 1, 1, 1, 1, 0, 0]\n",
      "\n",
      "[9, 4, 1]\n",
      "[[3, 0, 0, 0, 0, 0, 0, 0, 0, 0, 0, 0, 0, 0], [2, 0, 0, 0, 0, 0, 0, 0, 0, 0, 0, 0, 0, 0], [2, 0, 0, 0, 0, 0, 0, 0, 0, 0, 0, 0, 0, 0], [2, 0, 0, 0, 0, 0, 0, 0, 0, 0, 0, 0, 0, 0], [1, 0, 0, 0, 0, 0, 0, 0, 0, 0, 0, 0, 0, 0], [1, 0, 0, 0, 0, 0, 0, 0, 0, 0, 0, 0, 0, 0], [1, 0, 0, 0, 0, 0, 0, 0, 0, 0, 0, 0, 0, 0], [1, 0, 0, 0, 0, 0, 0, 0, 0, 0, 0, 0, 0, 0], [1, 0, 0, 0, 0, 0, 0, 0, 0, 0, 0, 0, 0, 0], [0, 0, 0, 0, 0, 0, 0, 0, 0, 0, 0, 0, 0, 0], [0, 0, 0, 0, 0, 0, 0, 0, 0, 0, 0, 0, 0, 0], [0, 0, 0, 0, 0, 0, 0, 0, 0, 0, 0, 0, 0, 0], [0, 0, 0, 0, 0, 0, 0, 0, 0, 0, 0, 0, 0, 0], [0, 0, 0, 0, 0, 0, 0, 0, 0, 0, 0, 0, 0, 0]]\n",
      "[3, 2, 2, 2, 1, 1, 1, 1, 1, 0, 0, 0, 0, 0]\n",
      "[1, 2, 2, 2, 2, 1, 0, 0]\n",
      "[1, 2, 2, 2, 2, 1, 0, 0]\n",
      "\n",
      "[9, 3, 2]\n",
      "[[3, 0, 0, 0, 0, 0, 0, 0, 0, 0, 0, 0, 0, 0], [3, 0, 0, 0, 0, 0, 0, 0, 0, 0, 0, 0, 0, 0], [2, 0, 0, 0, 0, 0, 0, 0, 0, 0, 0, 0, 0, 0], [1, 0, 0, 0, 0, 0, 0, 0, 0, 0, 0, 0, 0, 0], [1, 0, 0, 0, 0, 0, 0, 0, 0, 0, 0, 0, 0, 0], [1, 0, 0, 0, 0, 0, 0, 0, 0, 0, 0, 0, 0, 0], [1, 0, 0, 0, 0, 0, 0, 0, 0, 0, 0, 0, 0, 0], [1, 0, 0, 0, 0, 0, 0, 0, 0, 0, 0, 0, 0, 0], [1, 0, 0, 0, 0, 0, 0, 0, 0, 0, 0, 0, 0, 0], [0, 0, 0, 0, 0, 0, 0, 0, 0, 0, 0, 0, 0, 0], [0, 0, 0, 0, 0, 0, 0, 0, 0, 0, 0, 0, 0, 0], [0, 0, 0, 0, 0, 0, 0, 0, 0, 0, 0, 0, 0, 0], [0, 0, 0, 0, 0, 0, 0, 0, 0, 0, 0, 0, 0, 0], [0, 0, 0, 0, 0, 0, 0, 0, 0, 0, 0, 0, 0, 0]]\n",
      "[3, 3, 2, 1, 1, 1, 1, 1, 1, 0, 0, 0, 0, 0]\n",
      "[1, 2, 3, 3, 2, 1, 0, 0]\n",
      "[1, 2, 3, 3, 2, 1, 0, 0]\n",
      "\n",
      "[9, 3, 1, 1]\n",
      "[[3, 1, 0, 0, 0, 0, 0, 0, 0, 0, 0, 0, 0, 0], [2, 0, 0, 0, 0, 0, 0, 0, 0, 0, 0, 0, 0, 0], [2, 0, 0, 0, 0, 0, 0, 0, 0, 0, 0, 0, 0, 0], [1, 0, 0, 0, 0, 0, 0, 0, 0, 0, 0, 0, 0, 0], [1, 0, 0, 0, 0, 0, 0, 0, 0, 0, 0, 0, 0, 0], [1, 0, 0, 0, 0, 0, 0, 0, 0, 0, 0, 0, 0, 0], [1, 0, 0, 0, 0, 0, 0, 0, 0, 0, 0, 0, 0, 0], [1, 0, 0, 0, 0, 0, 0, 0, 0, 0, 0, 0, 0, 0], [1, 0, 0, 0, 0, 0, 0, 0, 0, 0, 0, 0, 0, 0], [0, 0, 0, 0, 0, 0, 0, 0, 0, 0, 0, 0, 0, 0], [0, 0, 0, 0, 0, 0, 0, 0, 0, 0, 0, 0, 0, 0], [0, 0, 0, 0, 0, 0, 0, 0, 0, 0, 0, 0, 0, 0], [0, 0, 0, 0, 0, 0, 0, 0, 0, 0, 0, 0, 0, 0], [0, 0, 0, 0, 0, 0, 0, 0, 0, 0, 0, 0, 0, 0]]\n",
      "[3, 3, 2, 1, 1, 1, 1, 1, 1, 0, 0, 0, 0, 0]\n",
      "[1, 2, 3, 3, 2, 1, 0, 0]\n",
      "[1, 2, 3, 3, 2, 1, 0, 0]\n",
      "\n",
      "[9, 2, 2, 1]\n",
      "[[3, 1, 0, 0, 0, 0, 0, 0, 0, 0, 0, 0, 0, 0], [2, 1, 0, 0, 0, 0, 0, 0, 0, 0, 0, 0, 0, 0], [1, 0, 0, 0, 0, 0, 0, 0, 0, 0, 0, 0, 0, 0], [1, 0, 0, 0, 0, 0, 0, 0, 0, 0, 0, 0, 0, 0], [1, 0, 0, 0, 0, 0, 0, 0, 0, 0, 0, 0, 0, 0], [1, 0, 0, 0, 0, 0, 0, 0, 0, 0, 0, 0, 0, 0], [1, 0, 0, 0, 0, 0, 0, 0, 0, 0, 0, 0, 0, 0], [1, 0, 0, 0, 0, 0, 0, 0, 0, 0, 0, 0, 0, 0], [1, 0, 0, 0, 0, 0, 0, 0, 0, 0, 0, 0, 0, 0], [0, 0, 0, 0, 0, 0, 0, 0, 0, 0, 0, 0, 0, 0], [0, 0, 0, 0, 0, 0, 0, 0, 0, 0, 0, 0, 0, 0], [0, 0, 0, 0, 0, 0, 0, 0, 0, 0, 0, 0, 0, 0], [0, 0, 0, 0, 0, 0, 0, 0, 0, 0, 0, 0, 0, 0], [0, 0, 0, 0, 0, 0, 0, 0, 0, 0, 0, 0, 0, 0]]\n",
      "[3, 3, 2, 1, 1, 1, 1, 1, 1, 0, 0, 0, 0, 0]\n",
      "[1, 2, 3, 3, 2, 1, 0, 0]\n",
      "[1, 2, 3, 3, 2, 1, 0, 0]\n",
      "\n",
      "[9, 2, 1, 1, 1]\n",
      "[[3, 1, 1, 0, 0, 0, 0, 0, 0, 0, 0, 0, 0, 0], [2, 0, 0, 0, 0, 0, 0, 0, 0, 0, 0, 0, 0, 0], [1, 0, 0, 0, 0, 0, 0, 0, 0, 0, 0, 0, 0, 0], [1, 0, 0, 0, 0, 0, 0, 0, 0, 0, 0, 0, 0, 0], [1, 0, 0, 0, 0, 0, 0, 0, 0, 0, 0, 0, 0, 0], [1, 0, 0, 0, 0, 0, 0, 0, 0, 0, 0, 0, 0, 0], [1, 0, 0, 0, 0, 0, 0, 0, 0, 0, 0, 0, 0, 0], [1, 0, 0, 0, 0, 0, 0, 0, 0, 0, 0, 0, 0, 0], [1, 0, 0, 0, 0, 0, 0, 0, 0, 0, 0, 0, 0, 0], [0, 0, 0, 0, 0, 0, 0, 0, 0, 0, 0, 0, 0, 0], [0, 0, 0, 0, 0, 0, 0, 0, 0, 0, 0, 0, 0, 0], [0, 0, 0, 0, 0, 0, 0, 0, 0, 0, 0, 0, 0, 0], [0, 0, 0, 0, 0, 0, 0, 0, 0, 0, 0, 0, 0, 0], [0, 0, 0, 0, 0, 0, 0, 0, 0, 0, 0, 0, 0, 0]]\n",
      "[3, 3, 2, 1, 1, 1, 1, 1, 1, 0, 0, 0, 0, 0]\n",
      "[1, 2, 3, 3, 2, 1, 0, 0]\n",
      "[1, 2, 3, 3, 2, 1, 0, 0]\n",
      "\n",
      "[9, 1, 1, 1, 1, 1]\n",
      "[[2, 1, 1, 1, 1, 0, 0, 0, 0, 0, 0, 0, 0, 0], [1, 0, 0, 0, 0, 0, 0, 0, 0, 0, 0, 0, 0, 0], [1, 0, 0, 0, 0, 0, 0, 0, 0, 0, 0, 0, 0, 0], [1, 0, 0, 0, 0, 0, 0, 0, 0, 0, 0, 0, 0, 0], [1, 0, 0, 0, 0, 0, 0, 0, 0, 0, 0, 0, 0, 0], [1, 0, 0, 0, 0, 0, 0, 0, 0, 0, 0, 0, 0, 0], [1, 0, 0, 0, 0, 0, 0, 0, 0, 0, 0, 0, 0, 0], [1, 0, 0, 0, 0, 0, 0, 0, 0, 0, 0, 0, 0, 0], [1, 0, 0, 0, 0, 0, 0, 0, 0, 0, 0, 0, 0, 0], [0, 0, 0, 0, 0, 0, 0, 0, 0, 0, 0, 0, 0, 0], [0, 0, 0, 0, 0, 0, 0, 0, 0, 0, 0, 0, 0, 0], [0, 0, 0, 0, 0, 0, 0, 0, 0, 0, 0, 0, 0, 0], [0, 0, 0, 0, 0, 0, 0, 0, 0, 0, 0, 0, 0, 0], [0, 0, 0, 0, 0, 0, 0, 0, 0, 0, 0, 0, 0, 0]]\n",
      "[2, 2, 2, 2, 2, 1, 1, 1, 1, 0, 0, 0, 0, 0]\n",
      "[1, 1, 1, 1, 1, 1, 0, 0]\n",
      "[1, 1, 1, 1, 1, 1, 0, 0]\n",
      "\n",
      "[8, 6]\n",
      "[[2, 0, 0, 0, 0, 0, 0, 0, 0, 0, 0, 0, 0, 0], [2, 0, 0, 0, 0, 0, 0, 0, 0, 0, 0, 0, 0, 0], [2, 0, 0, 0, 0, 0, 0, 0, 0, 0, 0, 0, 0, 0], [2, 0, 0, 0, 0, 0, 0, 0, 0, 0, 0, 0, 0, 0], [2, 0, 0, 0, 0, 0, 0, 0, 0, 0, 0, 0, 0, 0], [2, 0, 0, 0, 0, 0, 0, 0, 0, 0, 0, 0, 0, 0], [1, 0, 0, 0, 0, 0, 0, 0, 0, 0, 0, 0, 0, 0], [1, 0, 0, 0, 0, 0, 0, 0, 0, 0, 0, 0, 0, 0], [0, 0, 0, 0, 0, 0, 0, 0, 0, 0, 0, 0, 0, 0], [0, 0, 0, 0, 0, 0, 0, 0, 0, 0, 0, 0, 0, 0], [0, 0, 0, 0, 0, 0, 0, 0, 0, 0, 0, 0, 0, 0], [0, 0, 0, 0, 0, 0, 0, 0, 0, 0, 0, 0, 0, 0], [0, 0, 0, 0, 0, 0, 0, 0, 0, 0, 0, 0, 0, 0], [0, 0, 0, 0, 0, 0, 0, 0, 0, 0, 0, 0, 0, 0]]\n",
      "[2, 2, 2, 2, 2, 2, 1, 1, 0, 0, 0, 0, 0, 0]\n",
      "[1, 1, 1, 1, 1, 1, 1, 0]\n",
      "[1, 1, 1, 1, 1, 1, 1, 0]\n",
      "\n",
      "[8, 5, 1]\n",
      "[[3, 0, 0, 0, 0, 0, 0, 0, 0, 0, 0, 0, 0, 0], [2, 0, 0, 0, 0, 0, 0, 0, 0, 0, 0, 0, 0, 0], [2, 0, 0, 0, 0, 0, 0, 0, 0, 0, 0, 0, 0, 0], [2, 0, 0, 0, 0, 0, 0, 0, 0, 0, 0, 0, 0, 0], [2, 0, 0, 0, 0, 0, 0, 0, 0, 0, 0, 0, 0, 0], [1, 0, 0, 0, 0, 0, 0, 0, 0, 0, 0, 0, 0, 0], [1, 0, 0, 0, 0, 0, 0, 0, 0, 0, 0, 0, 0, 0], [1, 0, 0, 0, 0, 0, 0, 0, 0, 0, 0, 0, 0, 0], [0, 0, 0, 0, 0, 0, 0, 0, 0, 0, 0, 0, 0, 0], [0, 0, 0, 0, 0, 0, 0, 0, 0, 0, 0, 0, 0, 0], [0, 0, 0, 0, 0, 0, 0, 0, 0, 0, 0, 0, 0, 0], [0, 0, 0, 0, 0, 0, 0, 0, 0, 0, 0, 0, 0, 0], [0, 0, 0, 0, 0, 0, 0, 0, 0, 0, 0, 0, 0, 0], [0, 0, 0, 0, 0, 0, 0, 0, 0, 0, 0, 0, 0, 0]]\n",
      "[3, 2, 2, 2, 2, 1, 1, 1, 0, 0, 0, 0, 0, 0]\n",
      "[1, 2, 2, 2, 2, 2, 1, 0]\n",
      "[1, 2, 2, 2, 2, 2, 1, 0]\n",
      "\n",
      "[8, 4, 2]\n",
      "[[3, 0, 0, 0, 0, 0, 0, 0, 0, 0, 0, 0, 0, 0], [3, 0, 0, 0, 0, 0, 0, 0, 0, 0, 0, 0, 0, 0], [2, 0, 0, 0, 0, 0, 0, 0, 0, 0, 0, 0, 0, 0], [2, 0, 0, 0, 0, 0, 0, 0, 0, 0, 0, 0, 0, 0], [1, 0, 0, 0, 0, 0, 0, 0, 0, 0, 0, 0, 0, 0], [1, 0, 0, 0, 0, 0, 0, 0, 0, 0, 0, 0, 0, 0], [1, 0, 0, 0, 0, 0, 0, 0, 0, 0, 0, 0, 0, 0], [1, 0, 0, 0, 0, 0, 0, 0, 0, 0, 0, 0, 0, 0], [0, 0, 0, 0, 0, 0, 0, 0, 0, 0, 0, 0, 0, 0], [0, 0, 0, 0, 0, 0, 0, 0, 0, 0, 0, 0, 0, 0], [0, 0, 0, 0, 0, 0, 0, 0, 0, 0, 0, 0, 0, 0], [0, 0, 0, 0, 0, 0, 0, 0, 0, 0, 0, 0, 0, 0], [0, 0, 0, 0, 0, 0, 0, 0, 0, 0, 0, 0, 0, 0], [0, 0, 0, 0, 0, 0, 0, 0, 0, 0, 0, 0, 0, 0]]\n",
      "[3, 3, 2, 2, 1, 1, 1, 1, 0, 0, 0, 0, 0, 0]\n",
      "[1, 2, 3, 3, 3, 2, 1, 0]\n",
      "[1, 2, 3, 3, 3, 2, 1, 0]\n",
      "\n",
      "[8, 4, 1, 1]\n",
      "[[3, 1, 0, 0, 0, 0, 0, 0, 0, 0, 0, 0, 0, 0], [2, 0, 0, 0, 0, 0, 0, 0, 0, 0, 0, 0, 0, 0], [2, 0, 0, 0, 0, 0, 0, 0, 0, 0, 0, 0, 0, 0], [2, 0, 0, 0, 0, 0, 0, 0, 0, 0, 0, 0, 0, 0], [1, 0, 0, 0, 0, 0, 0, 0, 0, 0, 0, 0, 0, 0], [1, 0, 0, 0, 0, 0, 0, 0, 0, 0, 0, 0, 0, 0], [1, 0, 0, 0, 0, 0, 0, 0, 0, 0, 0, 0, 0, 0], [1, 0, 0, 0, 0, 0, 0, 0, 0, 0, 0, 0, 0, 0], [0, 0, 0, 0, 0, 0, 0, 0, 0, 0, 0, 0, 0, 0], [0, 0, 0, 0, 0, 0, 0, 0, 0, 0, 0, 0, 0, 0], [0, 0, 0, 0, 0, 0, 0, 0, 0, 0, 0, 0, 0, 0], [0, 0, 0, 0, 0, 0, 0, 0, 0, 0, 0, 0, 0, 0], [0, 0, 0, 0, 0, 0, 0, 0, 0, 0, 0, 0, 0, 0], [0, 0, 0, 0, 0, 0, 0, 0, 0, 0, 0, 0, 0, 0]]\n",
      "[3, 3, 2, 2, 1, 1, 1, 1, 0, 0, 0, 0, 0, 0]\n",
      "[1, 2, 3, 3, 3, 2, 1, 0]\n",
      "[1, 2, 3, 3, 3, 2, 1, 0]\n",
      "\n",
      "[8, 3, 3]\n",
      "[[2, 1, 0, 0, 0, 0, 0, 0, 0, 0, 0, 0, 0, 0], [2, 1, 0, 0, 0, 0, 0, 0, 0, 0, 0, 0, 0, 0], [2, 1, 0, 0, 0, 0, 0, 0, 0, 0, 0, 0, 0, 0], [1, 0, 0, 0, 0, 0, 0, 0, 0, 0, 0, 0, 0, 0], [1, 0, 0, 0, 0, 0, 0, 0, 0, 0, 0, 0, 0, 0], [1, 0, 0, 0, 0, 0, 0, 0, 0, 0, 0, 0, 0, 0], [1, 0, 0, 0, 0, 0, 0, 0, 0, 0, 0, 0, 0, 0], [1, 0, 0, 0, 0, 0, 0, 0, 0, 0, 0, 0, 0, 0], [0, 0, 0, 0, 0, 0, 0, 0, 0, 0, 0, 0, 0, 0], [0, 0, 0, 0, 0, 0, 0, 0, 0, 0, 0, 0, 0, 0], [0, 0, 0, 0, 0, 0, 0, 0, 0, 0, 0, 0, 0, 0], [0, 0, 0, 0, 0, 0, 0, 0, 0, 0, 0, 0, 0, 0], [0, 0, 0, 0, 0, 0, 0, 0, 0, 0, 0, 0, 0, 0], [0, 0, 0, 0, 0, 0, 0, 0, 0, 0, 0, 0, 0, 0]]\n",
      "[2, 3, 3, 2, 1, 1, 1, 1, 0, 0, 0, 0, 0, 0]\n",
      "[1, 1, 2, 2, 2, 1, 1, 0]\n",
      "[1, 1, 2, 2, 2, 1, 1, 0]\n",
      "\n"
     ]
    },
    {
     "name": "stdout",
     "output_type": "stream",
     "text": [
      "[8, 3, 2, 1]\n",
      "[[4, 0, 0, 0, 0, 0, 0, 0, 0, 0, 0, 0, 0, 0], [3, 0, 0, 0, 0, 0, 0, 0, 0, 0, 0, 0, 0, 0], [2, 0, 0, 0, 0, 0, 0, 0, 0, 0, 0, 0, 0, 0], [1, 0, 0, 0, 0, 0, 0, 0, 0, 0, 0, 0, 0, 0], [1, 0, 0, 0, 0, 0, 0, 0, 0, 0, 0, 0, 0, 0], [1, 0, 0, 0, 0, 0, 0, 0, 0, 0, 0, 0, 0, 0], [1, 0, 0, 0, 0, 0, 0, 0, 0, 0, 0, 0, 0, 0], [1, 0, 0, 0, 0, 0, 0, 0, 0, 0, 0, 0, 0, 0], [0, 0, 0, 0, 0, 0, 0, 0, 0, 0, 0, 0, 0, 0], [0, 0, 0, 0, 0, 0, 0, 0, 0, 0, 0, 0, 0, 0], [0, 0, 0, 0, 0, 0, 0, 0, 0, 0, 0, 0, 0, 0], [0, 0, 0, 0, 0, 0, 0, 0, 0, 0, 0, 0, 0, 0], [0, 0, 0, 0, 0, 0, 0, 0, 0, 0, 0, 0, 0, 0], [0, 0, 0, 0, 0, 0, 0, 0, 0, 0, 0, 0, 0, 0]]\n",
      "[4, 3, 2, 1, 1, 1, 1, 1, 0, 0, 0, 0, 0, 0]\n",
      "[1, 3, 5, 6, 5, 3, 1, 0]\n",
      "[1, 3, 5, 6, 5, 3, 1, 0]\n",
      "\n",
      "[8, 3, 1, 1, 1]\n",
      "[[3, 1, 1, 0, 0, 0, 0, 0, 0, 0, 0, 0, 0, 0], [2, 0, 0, 0, 0, 0, 0, 0, 0, 0, 0, 0, 0, 0], [2, 0, 0, 0, 0, 0, 0, 0, 0, 0, 0, 0, 0, 0], [1, 0, 0, 0, 0, 0, 0, 0, 0, 0, 0, 0, 0, 0], [1, 0, 0, 0, 0, 0, 0, 0, 0, 0, 0, 0, 0, 0], [1, 0, 0, 0, 0, 0, 0, 0, 0, 0, 0, 0, 0, 0], [1, 0, 0, 0, 0, 0, 0, 0, 0, 0, 0, 0, 0, 0], [1, 0, 0, 0, 0, 0, 0, 0, 0, 0, 0, 0, 0, 0], [0, 0, 0, 0, 0, 0, 0, 0, 0, 0, 0, 0, 0, 0], [0, 0, 0, 0, 0, 0, 0, 0, 0, 0, 0, 0, 0, 0], [0, 0, 0, 0, 0, 0, 0, 0, 0, 0, 0, 0, 0, 0], [0, 0, 0, 0, 0, 0, 0, 0, 0, 0, 0, 0, 0, 0], [0, 0, 0, 0, 0, 0, 0, 0, 0, 0, 0, 0, 0, 0], [0, 0, 0, 0, 0, 0, 0, 0, 0, 0, 0, 0, 0, 0]]\n",
      "[3, 3, 3, 1, 1, 1, 1, 1, 0, 0, 0, 0, 0, 0]\n",
      "[1, 2, 3, 4, 3, 2, 1, 0]\n",
      "[1, 2, 3, 4, 3, 2, 1, 0]\n",
      "\n",
      "[8, 2, 2, 2]\n",
      "[[2, 1, 1, 0, 0, 0, 0, 0, 0, 0, 0, 0, 0, 0], [2, 1, 1, 0, 0, 0, 0, 0, 0, 0, 0, 0, 0, 0], [1, 0, 0, 0, 0, 0, 0, 0, 0, 0, 0, 0, 0, 0], [1, 0, 0, 0, 0, 0, 0, 0, 0, 0, 0, 0, 0, 0], [1, 0, 0, 0, 0, 0, 0, 0, 0, 0, 0, 0, 0, 0], [1, 0, 0, 0, 0, 0, 0, 0, 0, 0, 0, 0, 0, 0], [1, 0, 0, 0, 0, 0, 0, 0, 0, 0, 0, 0, 0, 0], [1, 0, 0, 0, 0, 0, 0, 0, 0, 0, 0, 0, 0, 0], [0, 0, 0, 0, 0, 0, 0, 0, 0, 0, 0, 0, 0, 0], [0, 0, 0, 0, 0, 0, 0, 0, 0, 0, 0, 0, 0, 0], [0, 0, 0, 0, 0, 0, 0, 0, 0, 0, 0, 0, 0, 0], [0, 0, 0, 0, 0, 0, 0, 0, 0, 0, 0, 0, 0, 0], [0, 0, 0, 0, 0, 0, 0, 0, 0, 0, 0, 0, 0, 0], [0, 0, 0, 0, 0, 0, 0, 0, 0, 0, 0, 0, 0, 0]]\n",
      "[2, 3, 3, 2, 1, 1, 1, 1, 0, 0, 0, 0, 0, 0]\n",
      "[1, 1, 2, 2, 2, 1, 1, 0]\n",
      "[1, 1, 2, 2, 2, 1, 1, 0]\n",
      "\n",
      "[8, 2, 2, 1, 1]\n",
      "[[3, 2, 0, 0, 0, 0, 0, 0, 0, 0, 0, 0, 0, 0], [2, 1, 0, 0, 0, 0, 0, 0, 0, 0, 0, 0, 0, 0], [1, 0, 0, 0, 0, 0, 0, 0, 0, 0, 0, 0, 0, 0], [1, 0, 0, 0, 0, 0, 0, 0, 0, 0, 0, 0, 0, 0], [1, 0, 0, 0, 0, 0, 0, 0, 0, 0, 0, 0, 0, 0], [1, 0, 0, 0, 0, 0, 0, 0, 0, 0, 0, 0, 0, 0], [1, 0, 0, 0, 0, 0, 0, 0, 0, 0, 0, 0, 0, 0], [1, 0, 0, 0, 0, 0, 0, 0, 0, 0, 0, 0, 0, 0], [0, 0, 0, 0, 0, 0, 0, 0, 0, 0, 0, 0, 0, 0], [0, 0, 0, 0, 0, 0, 0, 0, 0, 0, 0, 0, 0, 0], [0, 0, 0, 0, 0, 0, 0, 0, 0, 0, 0, 0, 0, 0], [0, 0, 0, 0, 0, 0, 0, 0, 0, 0, 0, 0, 0, 0], [0, 0, 0, 0, 0, 0, 0, 0, 0, 0, 0, 0, 0, 0], [0, 0, 0, 0, 0, 0, 0, 0, 0, 0, 0, 0, 0, 0]]\n",
      "[3, 4, 2, 1, 1, 1, 1, 1, 0, 0, 0, 0, 0, 0]\n",
      "[1, 2, 4, 4, 4, 2, 1, 0]\n",
      "[1, 2, 4, 4, 4, 2, 1, 0]\n",
      "\n",
      "[8, 2, 1, 1, 1, 1]\n",
      "[[3, 1, 1, 1, 0, 0, 0, 0, 0, 0, 0, 0, 0, 0], [2, 0, 0, 0, 0, 0, 0, 0, 0, 0, 0, 0, 0, 0], [1, 0, 0, 0, 0, 0, 0, 0, 0, 0, 0, 0, 0, 0], [1, 0, 0, 0, 0, 0, 0, 0, 0, 0, 0, 0, 0, 0], [1, 0, 0, 0, 0, 0, 0, 0, 0, 0, 0, 0, 0, 0], [1, 0, 0, 0, 0, 0, 0, 0, 0, 0, 0, 0, 0, 0], [1, 0, 0, 0, 0, 0, 0, 0, 0, 0, 0, 0, 0, 0], [1, 0, 0, 0, 0, 0, 0, 0, 0, 0, 0, 0, 0, 0], [0, 0, 0, 0, 0, 0, 0, 0, 0, 0, 0, 0, 0, 0], [0, 0, 0, 0, 0, 0, 0, 0, 0, 0, 0, 0, 0, 0], [0, 0, 0, 0, 0, 0, 0, 0, 0, 0, 0, 0, 0, 0], [0, 0, 0, 0, 0, 0, 0, 0, 0, 0, 0, 0, 0, 0], [0, 0, 0, 0, 0, 0, 0, 0, 0, 0, 0, 0, 0, 0], [0, 0, 0, 0, 0, 0, 0, 0, 0, 0, 0, 0, 0, 0]]\n",
      "[3, 3, 2, 2, 1, 1, 1, 1, 0, 0, 0, 0, 0, 0]\n",
      "[1, 2, 3, 3, 3, 2, 1, 0]\n",
      "[1, 2, 3, 3, 3, 2, 1, 0]\n",
      "\n",
      "[8, 1, 1, 1, 1, 1, 1]\n",
      "[[2, 1, 1, 1, 1, 1, 0, 0, 0, 0, 0, 0, 0, 0], [1, 0, 0, 0, 0, 0, 0, 0, 0, 0, 0, 0, 0, 0], [1, 0, 0, 0, 0, 0, 0, 0, 0, 0, 0, 0, 0, 0], [1, 0, 0, 0, 0, 0, 0, 0, 0, 0, 0, 0, 0, 0], [1, 0, 0, 0, 0, 0, 0, 0, 0, 0, 0, 0, 0, 0], [1, 0, 0, 0, 0, 0, 0, 0, 0, 0, 0, 0, 0, 0], [1, 0, 0, 0, 0, 0, 0, 0, 0, 0, 0, 0, 0, 0], [1, 0, 0, 0, 0, 0, 0, 0, 0, 0, 0, 0, 0, 0], [0, 0, 0, 0, 0, 0, 0, 0, 0, 0, 0, 0, 0, 0], [0, 0, 0, 0, 0, 0, 0, 0, 0, 0, 0, 0, 0, 0], [0, 0, 0, 0, 0, 0, 0, 0, 0, 0, 0, 0, 0, 0], [0, 0, 0, 0, 0, 0, 0, 0, 0, 0, 0, 0, 0, 0], [0, 0, 0, 0, 0, 0, 0, 0, 0, 0, 0, 0, 0, 0], [0, 0, 0, 0, 0, 0, 0, 0, 0, 0, 0, 0, 0, 0]]\n",
      "[2, 2, 2, 2, 2, 2, 1, 1, 0, 0, 0, 0, 0, 0]\n",
      "[1, 1, 1, 1, 1, 1, 1, 0]\n",
      "[1, 1, 1, 1, 1, 1, 1, 0]\n",
      "\n",
      "[7, 7]\n",
      "[[1, 1, 0, 0, 0, 0, 0, 0, 0, 0, 0, 0, 0, 0], [1, 1, 0, 0, 0, 0, 0, 0, 0, 0, 0, 0, 0, 0], [1, 1, 0, 0, 0, 0, 0, 0, 0, 0, 0, 0, 0, 0], [1, 1, 0, 0, 0, 0, 0, 0, 0, 0, 0, 0, 0, 0], [1, 1, 0, 0, 0, 0, 0, 0, 0, 0, 0, 0, 0, 0], [1, 1, 0, 0, 0, 0, 0, 0, 0, 0, 0, 0, 0, 0], [1, 1, 0, 0, 0, 0, 0, 0, 0, 0, 0, 0, 0, 0], [0, 0, 0, 0, 0, 0, 0, 0, 0, 0, 0, 0, 0, 0], [0, 0, 0, 0, 0, 0, 0, 0, 0, 0, 0, 0, 0, 0], [0, 0, 0, 0, 0, 0, 0, 0, 0, 0, 0, 0, 0, 0], [0, 0, 0, 0, 0, 0, 0, 0, 0, 0, 0, 0, 0, 0], [0, 0, 0, 0, 0, 0, 0, 0, 0, 0, 0, 0, 0, 0], [0, 0, 0, 0, 0, 0, 0, 0, 0, 0, 0, 0, 0, 0], [0, 0, 0, 0, 0, 0, 0, 0, 0, 0, 0, 0, 0, 0]]\n",
      "[1, 2, 2, 2, 2, 2, 2, 1, 0, 0, 0, 0, 0, 0]\n",
      "[1, 0, 1, 0, 1, 0, 1, 0]\n",
      "[1, 0, 1, 0, 1, 0, 1, 0]\n",
      "\n",
      "[7, 6, 1]\n",
      "[[3, 0, 0, 0, 0, 0, 0, 0, 0, 0, 0, 0, 0, 0], [2, 0, 0, 0, 0, 0, 0, 0, 0, 0, 0, 0, 0, 0], [2, 0, 0, 0, 0, 0, 0, 0, 0, 0, 0, 0, 0, 0], [2, 0, 0, 0, 0, 0, 0, 0, 0, 0, 0, 0, 0, 0], [2, 0, 0, 0, 0, 0, 0, 0, 0, 0, 0, 0, 0, 0], [2, 0, 0, 0, 0, 0, 0, 0, 0, 0, 0, 0, 0, 0], [1, 0, 0, 0, 0, 0, 0, 0, 0, 0, 0, 0, 0, 0], [0, 0, 0, 0, 0, 0, 0, 0, 0, 0, 0, 0, 0, 0], [0, 0, 0, 0, 0, 0, 0, 0, 0, 0, 0, 0, 0, 0], [0, 0, 0, 0, 0, 0, 0, 0, 0, 0, 0, 0, 0, 0], [0, 0, 0, 0, 0, 0, 0, 0, 0, 0, 0, 0, 0, 0], [0, 0, 0, 0, 0, 0, 0, 0, 0, 0, 0, 0, 0, 0], [0, 0, 0, 0, 0, 0, 0, 0, 0, 0, 0, 0, 0, 0], [0, 0, 0, 0, 0, 0, 0, 0, 0, 0, 0, 0, 0, 0]]\n",
      "[3, 2, 2, 2, 2, 2, 1, 0, 0, 0, 0, 0, 0, 0]\n",
      "[1, 2, 2, 2, 2, 2, 2, 1]\n",
      "[1, 2, 2, 2, 2, 2, 2, 1]\n",
      "\n",
      "[7, 5, 2]\n",
      "[[3, 0, 0, 0, 0, 0, 0, 0, 0, 0, 0, 0, 0, 0], [3, 0, 0, 0, 0, 0, 0, 0, 0, 0, 0, 0, 0, 0], [2, 0, 0, 0, 0, 0, 0, 0, 0, 0, 0, 0, 0, 0], [2, 0, 0, 0, 0, 0, 0, 0, 0, 0, 0, 0, 0, 0], [2, 0, 0, 0, 0, 0, 0, 0, 0, 0, 0, 0, 0, 0], [1, 0, 0, 0, 0, 0, 0, 0, 0, 0, 0, 0, 0, 0], [1, 0, 0, 0, 0, 0, 0, 0, 0, 0, 0, 0, 0, 0], [0, 0, 0, 0, 0, 0, 0, 0, 0, 0, 0, 0, 0, 0], [0, 0, 0, 0, 0, 0, 0, 0, 0, 0, 0, 0, 0, 0], [0, 0, 0, 0, 0, 0, 0, 0, 0, 0, 0, 0, 0, 0], [0, 0, 0, 0, 0, 0, 0, 0, 0, 0, 0, 0, 0, 0], [0, 0, 0, 0, 0, 0, 0, 0, 0, 0, 0, 0, 0, 0], [0, 0, 0, 0, 0, 0, 0, 0, 0, 0, 0, 0, 0, 0], [0, 0, 0, 0, 0, 0, 0, 0, 0, 0, 0, 0, 0, 0]]\n",
      "[3, 3, 2, 2, 2, 1, 1, 0, 0, 0, 0, 0, 0, 0]\n",
      "[1, 2, 3, 3, 3, 3, 2, 1]\n",
      "[1, 2, 3, 3, 3, 3, 2, 1]\n",
      "\n",
      "[7, 5, 1, 1]\n",
      "[[3, 1, 0, 0, 0, 0, 0, 0, 0, 0, 0, 0, 0, 0], [2, 0, 0, 0, 0, 0, 0, 0, 0, 0, 0, 0, 0, 0], [2, 0, 0, 0, 0, 0, 0, 0, 0, 0, 0, 0, 0, 0], [2, 0, 0, 0, 0, 0, 0, 0, 0, 0, 0, 0, 0, 0], [2, 0, 0, 0, 0, 0, 0, 0, 0, 0, 0, 0, 0, 0], [1, 0, 0, 0, 0, 0, 0, 0, 0, 0, 0, 0, 0, 0], [1, 0, 0, 0, 0, 0, 0, 0, 0, 0, 0, 0, 0, 0], [0, 0, 0, 0, 0, 0, 0, 0, 0, 0, 0, 0, 0, 0], [0, 0, 0, 0, 0, 0, 0, 0, 0, 0, 0, 0, 0, 0], [0, 0, 0, 0, 0, 0, 0, 0, 0, 0, 0, 0, 0, 0], [0, 0, 0, 0, 0, 0, 0, 0, 0, 0, 0, 0, 0, 0], [0, 0, 0, 0, 0, 0, 0, 0, 0, 0, 0, 0, 0, 0], [0, 0, 0, 0, 0, 0, 0, 0, 0, 0, 0, 0, 0, 0], [0, 0, 0, 0, 0, 0, 0, 0, 0, 0, 0, 0, 0, 0]]\n",
      "[3, 3, 2, 2, 2, 1, 1, 0, 0, 0, 0, 0, 0, 0]\n",
      "[1, 2, 3, 3, 3, 3, 2, 1]\n",
      "[1, 2, 3, 3, 3, 3, 2, 1]\n",
      "\n",
      "[7, 4, 3]\n",
      "[[3, 0, 0, 0, 0, 0, 0, 0, 0, 0, 0, 0, 0, 0], [3, 0, 0, 0, 0, 0, 0, 0, 0, 0, 0, 0, 0, 0], [3, 0, 0, 0, 0, 0, 0, 0, 0, 0, 0, 0, 0, 0], [2, 0, 0, 0, 0, 0, 0, 0, 0, 0, 0, 0, 0, 0], [1, 0, 0, 0, 0, 0, 0, 0, 0, 0, 0, 0, 0, 0], [1, 0, 0, 0, 0, 0, 0, 0, 0, 0, 0, 0, 0, 0], [1, 0, 0, 0, 0, 0, 0, 0, 0, 0, 0, 0, 0, 0], [0, 0, 0, 0, 0, 0, 0, 0, 0, 0, 0, 0, 0, 0], [0, 0, 0, 0, 0, 0, 0, 0, 0, 0, 0, 0, 0, 0], [0, 0, 0, 0, 0, 0, 0, 0, 0, 0, 0, 0, 0, 0], [0, 0, 0, 0, 0, 0, 0, 0, 0, 0, 0, 0, 0, 0], [0, 0, 0, 0, 0, 0, 0, 0, 0, 0, 0, 0, 0, 0], [0, 0, 0, 0, 0, 0, 0, 0, 0, 0, 0, 0, 0, 0], [0, 0, 0, 0, 0, 0, 0, 0, 0, 0, 0, 0, 0, 0]]\n",
      "[3, 3, 3, 2, 1, 1, 1, 0, 0, 0, 0, 0, 0, 0]\n",
      "[1, 2, 3, 4, 4, 3, 2, 1]\n",
      "[1, 2, 3, 4, 4, 3, 2, 1]\n",
      "\n",
      "[7, 4, 2, 1]\n",
      "[[4, 0, 0, 0, 0, 0, 0, 0, 0, 0, 0, 0, 0, 0], [3, 0, 0, 0, 0, 0, 0, 0, 0, 0, 0, 0, 0, 0], [2, 0, 0, 0, 0, 0, 0, 0, 0, 0, 0, 0, 0, 0], [2, 0, 0, 0, 0, 0, 0, 0, 0, 0, 0, 0, 0, 0], [1, 0, 0, 0, 0, 0, 0, 0, 0, 0, 0, 0, 0, 0], [1, 0, 0, 0, 0, 0, 0, 0, 0, 0, 0, 0, 0, 0], [1, 0, 0, 0, 0, 0, 0, 0, 0, 0, 0, 0, 0, 0], [0, 0, 0, 0, 0, 0, 0, 0, 0, 0, 0, 0, 0, 0], [0, 0, 0, 0, 0, 0, 0, 0, 0, 0, 0, 0, 0, 0], [0, 0, 0, 0, 0, 0, 0, 0, 0, 0, 0, 0, 0, 0], [0, 0, 0, 0, 0, 0, 0, 0, 0, 0, 0, 0, 0, 0], [0, 0, 0, 0, 0, 0, 0, 0, 0, 0, 0, 0, 0, 0], [0, 0, 0, 0, 0, 0, 0, 0, 0, 0, 0, 0, 0, 0], [0, 0, 0, 0, 0, 0, 0, 0, 0, 0, 0, 0, 0, 0]]\n",
      "[4, 3, 2, 2, 1, 1, 1, 0, 0, 0, 0, 0, 0, 0]\n",
      "[1, 3, 5, 6, 6, 5, 3, 1]\n",
      "[1, 3, 5, 6, 6, 5, 3, 1]\n",
      "\n"
     ]
    },
    {
     "name": "stdout",
     "output_type": "stream",
     "text": [
      "[7, 4, 1, 1, 1]\n",
      "[[3, 1, 1, 0, 0, 0, 0, 0, 0, 0, 0, 0, 0, 0], [2, 0, 0, 0, 0, 0, 0, 0, 0, 0, 0, 0, 0, 0], [2, 0, 0, 0, 0, 0, 0, 0, 0, 0, 0, 0, 0, 0], [2, 0, 0, 0, 0, 0, 0, 0, 0, 0, 0, 0, 0, 0], [1, 0, 0, 0, 0, 0, 0, 0, 0, 0, 0, 0, 0, 0], [1, 0, 0, 0, 0, 0, 0, 0, 0, 0, 0, 0, 0, 0], [1, 0, 0, 0, 0, 0, 0, 0, 0, 0, 0, 0, 0, 0], [0, 0, 0, 0, 0, 0, 0, 0, 0, 0, 0, 0, 0, 0], [0, 0, 0, 0, 0, 0, 0, 0, 0, 0, 0, 0, 0, 0], [0, 0, 0, 0, 0, 0, 0, 0, 0, 0, 0, 0, 0, 0], [0, 0, 0, 0, 0, 0, 0, 0, 0, 0, 0, 0, 0, 0], [0, 0, 0, 0, 0, 0, 0, 0, 0, 0, 0, 0, 0, 0], [0, 0, 0, 0, 0, 0, 0, 0, 0, 0, 0, 0, 0, 0], [0, 0, 0, 0, 0, 0, 0, 0, 0, 0, 0, 0, 0, 0]]\n",
      "[3, 3, 3, 2, 1, 1, 1, 0, 0, 0, 0, 0, 0, 0]\n",
      "[1, 2, 3, 4, 4, 3, 2, 1]\n",
      "[1, 2, 3, 4, 4, 3, 2, 1]\n",
      "\n",
      "[7, 3, 3, 1]\n",
      "[[3, 1, 0, 0, 0, 0, 0, 0, 0, 0, 0, 0, 0, 0], [2, 1, 0, 0, 0, 0, 0, 0, 0, 0, 0, 0, 0, 0], [2, 1, 0, 0, 0, 0, 0, 0, 0, 0, 0, 0, 0, 0], [1, 0, 0, 0, 0, 0, 0, 0, 0, 0, 0, 0, 0, 0], [1, 0, 0, 0, 0, 0, 0, 0, 0, 0, 0, 0, 0, 0], [1, 0, 0, 0, 0, 0, 0, 0, 0, 0, 0, 0, 0, 0], [1, 0, 0, 0, 0, 0, 0, 0, 0, 0, 0, 0, 0, 0], [0, 0, 0, 0, 0, 0, 0, 0, 0, 0, 0, 0, 0, 0], [0, 0, 0, 0, 0, 0, 0, 0, 0, 0, 0, 0, 0, 0], [0, 0, 0, 0, 0, 0, 0, 0, 0, 0, 0, 0, 0, 0], [0, 0, 0, 0, 0, 0, 0, 0, 0, 0, 0, 0, 0, 0], [0, 0, 0, 0, 0, 0, 0, 0, 0, 0, 0, 0, 0, 0], [0, 0, 0, 0, 0, 0, 0, 0, 0, 0, 0, 0, 0, 0], [0, 0, 0, 0, 0, 0, 0, 0, 0, 0, 0, 0, 0, 0]]\n",
      "[3, 3, 3, 2, 1, 1, 1, 0, 0, 0, 0, 0, 0, 0]\n",
      "[1, 2, 3, 4, 4, 3, 2, 1]\n",
      "[1, 2, 3, 4, 4, 3, 2, 1]\n",
      "\n",
      "[7, 3, 2, 2]\n",
      "[[3, 1, 0, 0, 0, 0, 0, 0, 0, 0, 0, 0, 0, 0], [3, 1, 0, 0, 0, 0, 0, 0, 0, 0, 0, 0, 0, 0], [2, 0, 0, 0, 0, 0, 0, 0, 0, 0, 0, 0, 0, 0], [1, 0, 0, 0, 0, 0, 0, 0, 0, 0, 0, 0, 0, 0], [1, 0, 0, 0, 0, 0, 0, 0, 0, 0, 0, 0, 0, 0], [1, 0, 0, 0, 0, 0, 0, 0, 0, 0, 0, 0, 0, 0], [1, 0, 0, 0, 0, 0, 0, 0, 0, 0, 0, 0, 0, 0], [0, 0, 0, 0, 0, 0, 0, 0, 0, 0, 0, 0, 0, 0], [0, 0, 0, 0, 0, 0, 0, 0, 0, 0, 0, 0, 0, 0], [0, 0, 0, 0, 0, 0, 0, 0, 0, 0, 0, 0, 0, 0], [0, 0, 0, 0, 0, 0, 0, 0, 0, 0, 0, 0, 0, 0], [0, 0, 0, 0, 0, 0, 0, 0, 0, 0, 0, 0, 0, 0], [0, 0, 0, 0, 0, 0, 0, 0, 0, 0, 0, 0, 0, 0], [0, 0, 0, 0, 0, 0, 0, 0, 0, 0, 0, 0, 0, 0]]\n",
      "[3, 4, 3, 1, 1, 1, 1, 0, 0, 0, 0, 0, 0, 0]\n",
      "[1, 2, 4, 5, 5, 4, 2, 1]\n",
      "[1, 2, 4, 5, 5, 4, 2, 1]\n",
      "\n",
      "[7, 3, 2, 1, 1]\n",
      "[[4, 1, 0, 0, 0, 0, 0, 0, 0, 0, 0, 0, 0, 0], [3, 0, 0, 0, 0, 0, 0, 0, 0, 0, 0, 0, 0, 0], [2, 0, 0, 0, 0, 0, 0, 0, 0, 0, 0, 0, 0, 0], [1, 0, 0, 0, 0, 0, 0, 0, 0, 0, 0, 0, 0, 0], [1, 0, 0, 0, 0, 0, 0, 0, 0, 0, 0, 0, 0, 0], [1, 0, 0, 0, 0, 0, 0, 0, 0, 0, 0, 0, 0, 0], [1, 0, 0, 0, 0, 0, 0, 0, 0, 0, 0, 0, 0, 0], [0, 0, 0, 0, 0, 0, 0, 0, 0, 0, 0, 0, 0, 0], [0, 0, 0, 0, 0, 0, 0, 0, 0, 0, 0, 0, 0, 0], [0, 0, 0, 0, 0, 0, 0, 0, 0, 0, 0, 0, 0, 0], [0, 0, 0, 0, 0, 0, 0, 0, 0, 0, 0, 0, 0, 0], [0, 0, 0, 0, 0, 0, 0, 0, 0, 0, 0, 0, 0, 0], [0, 0, 0, 0, 0, 0, 0, 0, 0, 0, 0, 0, 0, 0], [0, 0, 0, 0, 0, 0, 0, 0, 0, 0, 0, 0, 0, 0]]\n",
      "[4, 4, 2, 1, 1, 1, 1, 0, 0, 0, 0, 0, 0, 0]\n",
      "[1, 3, 6, 8, 8, 6, 3, 1]\n",
      "[1, 3, 6, 8, 8, 6, 3, 1]\n",
      "\n",
      "[7, 3, 1, 1, 1, 1]\n",
      "[[3, 1, 1, 1, 0, 0, 0, 0, 0, 0, 0, 0, 0, 0], [2, 0, 0, 0, 0, 0, 0, 0, 0, 0, 0, 0, 0, 0], [2, 0, 0, 0, 0, 0, 0, 0, 0, 0, 0, 0, 0, 0], [1, 0, 0, 0, 0, 0, 0, 0, 0, 0, 0, 0, 0, 0], [1, 0, 0, 0, 0, 0, 0, 0, 0, 0, 0, 0, 0, 0], [1, 0, 0, 0, 0, 0, 0, 0, 0, 0, 0, 0, 0, 0], [1, 0, 0, 0, 0, 0, 0, 0, 0, 0, 0, 0, 0, 0], [0, 0, 0, 0, 0, 0, 0, 0, 0, 0, 0, 0, 0, 0], [0, 0, 0, 0, 0, 0, 0, 0, 0, 0, 0, 0, 0, 0], [0, 0, 0, 0, 0, 0, 0, 0, 0, 0, 0, 0, 0, 0], [0, 0, 0, 0, 0, 0, 0, 0, 0, 0, 0, 0, 0, 0], [0, 0, 0, 0, 0, 0, 0, 0, 0, 0, 0, 0, 0, 0], [0, 0, 0, 0, 0, 0, 0, 0, 0, 0, 0, 0, 0, 0], [0, 0, 0, 0, 0, 0, 0, 0, 0, 0, 0, 0, 0, 0]]\n",
      "[3, 3, 3, 2, 1, 1, 1, 0, 0, 0, 0, 0, 0, 0]\n",
      "[1, 2, 3, 4, 4, 3, 2, 1]\n",
      "[1, 2, 3, 4, 4, 3, 2, 1]\n",
      "\n",
      "[7, 2, 2, 2, 1]\n",
      "[[3, 1, 1, 0, 0, 0, 0, 0, 0, 0, 0, 0, 0, 0], [2, 1, 1, 0, 0, 0, 0, 0, 0, 0, 0, 0, 0, 0], [1, 0, 0, 0, 0, 0, 0, 0, 0, 0, 0, 0, 0, 0], [1, 0, 0, 0, 0, 0, 0, 0, 0, 0, 0, 0, 0, 0], [1, 0, 0, 0, 0, 0, 0, 0, 0, 0, 0, 0, 0, 0], [1, 0, 0, 0, 0, 0, 0, 0, 0, 0, 0, 0, 0, 0], [1, 0, 0, 0, 0, 0, 0, 0, 0, 0, 0, 0, 0, 0], [0, 0, 0, 0, 0, 0, 0, 0, 0, 0, 0, 0, 0, 0], [0, 0, 0, 0, 0, 0, 0, 0, 0, 0, 0, 0, 0, 0], [0, 0, 0, 0, 0, 0, 0, 0, 0, 0, 0, 0, 0, 0], [0, 0, 0, 0, 0, 0, 0, 0, 0, 0, 0, 0, 0, 0], [0, 0, 0, 0, 0, 0, 0, 0, 0, 0, 0, 0, 0, 0], [0, 0, 0, 0, 0, 0, 0, 0, 0, 0, 0, 0, 0, 0], [0, 0, 0, 0, 0, 0, 0, 0, 0, 0, 0, 0, 0, 0]]\n",
      "[3, 3, 3, 2, 1, 1, 1, 0, 0, 0, 0, 0, 0, 0]\n",
      "[1, 2, 3, 4, 4, 3, 2, 1]\n",
      "[1, 2, 3, 4, 4, 3, 2, 1]\n",
      "\n",
      "[7, 2, 2, 1, 1, 1]\n",
      "[[3, 2, 1, 0, 0, 0, 0, 0, 0, 0, 0, 0, 0, 0], [2, 1, 0, 0, 0, 0, 0, 0, 0, 0, 0, 0, 0, 0], [1, 0, 0, 0, 0, 0, 0, 0, 0, 0, 0, 0, 0, 0], [1, 0, 0, 0, 0, 0, 0, 0, 0, 0, 0, 0, 0, 0], [1, 0, 0, 0, 0, 0, 0, 0, 0, 0, 0, 0, 0, 0], [1, 0, 0, 0, 0, 0, 0, 0, 0, 0, 0, 0, 0, 0], [1, 0, 0, 0, 0, 0, 0, 0, 0, 0, 0, 0, 0, 0], [0, 0, 0, 0, 0, 0, 0, 0, 0, 0, 0, 0, 0, 0], [0, 0, 0, 0, 0, 0, 0, 0, 0, 0, 0, 0, 0, 0], [0, 0, 0, 0, 0, 0, 0, 0, 0, 0, 0, 0, 0, 0], [0, 0, 0, 0, 0, 0, 0, 0, 0, 0, 0, 0, 0, 0], [0, 0, 0, 0, 0, 0, 0, 0, 0, 0, 0, 0, 0, 0], [0, 0, 0, 0, 0, 0, 0, 0, 0, 0, 0, 0, 0, 0], [0, 0, 0, 0, 0, 0, 0, 0, 0, 0, 0, 0, 0, 0]]\n",
      "[3, 4, 3, 1, 1, 1, 1, 0, 0, 0, 0, 0, 0, 0]\n",
      "[1, 2, 4, 5, 5, 4, 2, 1]\n",
      "[1, 2, 4, 5, 5, 4, 2, 1]\n",
      "\n",
      "[7, 2, 1, 1, 1, 1, 1]\n",
      "[[3, 1, 1, 1, 1, 0, 0, 0, 0, 0, 0, 0, 0, 0], [2, 0, 0, 0, 0, 0, 0, 0, 0, 0, 0, 0, 0, 0], [1, 0, 0, 0, 0, 0, 0, 0, 0, 0, 0, 0, 0, 0], [1, 0, 0, 0, 0, 0, 0, 0, 0, 0, 0, 0, 0, 0], [1, 0, 0, 0, 0, 0, 0, 0, 0, 0, 0, 0, 0, 0], [1, 0, 0, 0, 0, 0, 0, 0, 0, 0, 0, 0, 0, 0], [1, 0, 0, 0, 0, 0, 0, 0, 0, 0, 0, 0, 0, 0], [0, 0, 0, 0, 0, 0, 0, 0, 0, 0, 0, 0, 0, 0], [0, 0, 0, 0, 0, 0, 0, 0, 0, 0, 0, 0, 0, 0], [0, 0, 0, 0, 0, 0, 0, 0, 0, 0, 0, 0, 0, 0], [0, 0, 0, 0, 0, 0, 0, 0, 0, 0, 0, 0, 0, 0], [0, 0, 0, 0, 0, 0, 0, 0, 0, 0, 0, 0, 0, 0], [0, 0, 0, 0, 0, 0, 0, 0, 0, 0, 0, 0, 0, 0], [0, 0, 0, 0, 0, 0, 0, 0, 0, 0, 0, 0, 0, 0]]\n",
      "[3, 3, 2, 2, 2, 1, 1, 0, 0, 0, 0, 0, 0, 0]\n",
      "[1, 2, 3, 3, 3, 3, 2, 1]\n",
      "[1, 2, 3, 3, 3, 3, 2, 1]\n",
      "\n",
      "[7, 1, 1, 1, 1, 1, 1, 1]\n",
      "[[2, 1, 1, 1, 1, 1, 1, 0, 0, 0, 0, 0, 0, 0], [1, 0, 0, 0, 0, 0, 0, 0, 0, 0, 0, 0, 0, 0], [1, 0, 0, 0, 0, 0, 0, 0, 0, 0, 0, 0, 0, 0], [1, 0, 0, 0, 0, 0, 0, 0, 0, 0, 0, 0, 0, 0], [1, 0, 0, 0, 0, 0, 0, 0, 0, 0, 0, 0, 0, 0], [1, 0, 0, 0, 0, 0, 0, 0, 0, 0, 0, 0, 0, 0], [1, 0, 0, 0, 0, 0, 0, 0, 0, 0, 0, 0, 0, 0], [0, 0, 0, 0, 0, 0, 0, 0, 0, 0, 0, 0, 0, 0], [0, 0, 0, 0, 0, 0, 0, 0, 0, 0, 0, 0, 0, 0], [0, 0, 0, 0, 0, 0, 0, 0, 0, 0, 0, 0, 0, 0], [0, 0, 0, 0, 0, 0, 0, 0, 0, 0, 0, 0, 0, 0], [0, 0, 0, 0, 0, 0, 0, 0, 0, 0, 0, 0, 0, 0], [0, 0, 0, 0, 0, 0, 0, 0, 0, 0, 0, 0, 0, 0], [0, 0, 0, 0, 0, 0, 0, 0, 0, 0, 0, 0, 0, 0]]\n",
      "[2, 2, 2, 2, 2, 2, 2, 0, 0, 0, 0, 0, 0, 0]\n",
      "[1, 1, 1, 1, 1, 1, 1, 1]\n",
      "[1, 1, 1, 1, 1, 1, 1, 1]\n",
      "\n",
      "[6, 6, 2]\n",
      "[[2, 1, 0, 0, 0, 0, 0, 0, 0, 0, 0, 0, 0, 0], [2, 1, 0, 0, 0, 0, 0, 0, 0, 0, 0, 0, 0, 0], [1, 1, 0, 0, 0, 0, 0, 0, 0, 0, 0, 0, 0, 0], [1, 1, 0, 0, 0, 0, 0, 0, 0, 0, 0, 0, 0, 0], [1, 1, 0, 0, 0, 0, 0, 0, 0, 0, 0, 0, 0, 0], [1, 1, 0, 0, 0, 0, 0, 0, 0, 0, 0, 0, 0, 0], [0, 0, 0, 0, 0, 0, 0, 0, 0, 0, 0, 0, 0, 0], [0, 0, 0, 0, 0, 0, 0, 0, 0, 0, 0, 0, 0, 0], [0, 0, 0, 0, 0, 0, 0, 0, 0, 0, 0, 0, 0, 0], [0, 0, 0, 0, 0, 0, 0, 0, 0, 0, 0, 0, 0, 0], [0, 0, 0, 0, 0, 0, 0, 0, 0, 0, 0, 0, 0, 0], [0, 0, 0, 0, 0, 0, 0, 0, 0, 0, 0, 0, 0, 0], [0, 0, 0, 0, 0, 0, 0, 0, 0, 0, 0, 0, 0, 0], [0, 0, 0, 0, 0, 0, 0, 0, 0, 0, 0, 0, 0, 0]]\n",
      "[2, 3, 2, 2, 2, 2, 1, 0, 0, 0, 0, 0, 0, 0]\n",
      "[1, 1, 2, 1, 2, 1, 2, 0]\n",
      "[1, 1, 2, 1, 2, 1, 2, 0]\n",
      "\n",
      "[6, 6, 1, 1]\n",
      "[[2, 2, 0, 0, 0, 0, 0, 0, 0, 0, 0, 0, 0, 0], [1, 1, 0, 0, 0, 0, 0, 0, 0, 0, 0, 0, 0, 0], [1, 1, 0, 0, 0, 0, 0, 0, 0, 0, 0, 0, 0, 0], [1, 1, 0, 0, 0, 0, 0, 0, 0, 0, 0, 0, 0, 0], [1, 1, 0, 0, 0, 0, 0, 0, 0, 0, 0, 0, 0, 0], [1, 1, 0, 0, 0, 0, 0, 0, 0, 0, 0, 0, 0, 0], [0, 0, 0, 0, 0, 0, 0, 0, 0, 0, 0, 0, 0, 0], [0, 0, 0, 0, 0, 0, 0, 0, 0, 0, 0, 0, 0, 0], [0, 0, 0, 0, 0, 0, 0, 0, 0, 0, 0, 0, 0, 0], [0, 0, 0, 0, 0, 0, 0, 0, 0, 0, 0, 0, 0, 0], [0, 0, 0, 0, 0, 0, 0, 0, 0, 0, 0, 0, 0, 0], [0, 0, 0, 0, 0, 0, 0, 0, 0, 0, 0, 0, 0, 0], [0, 0, 0, 0, 0, 0, 0, 0, 0, 0, 0, 0, 0, 0], [0, 0, 0, 0, 0, 0, 0, 0, 0, 0, 0, 0, 0, 0]]\n",
      "[2, 3, 2, 2, 2, 2, 1, 0, 0, 0, 0, 0, 0, 0]\n",
      "[1, 1, 2, 1, 2, 1, 2, 0]\n",
      "[1, 1, 2, 1, 2, 1, 2, 0]\n",
      "\n",
      "[6, 5, 3]\n",
      "[[3, 0, 0, 0, 0, 0, 0, 0, 0, 0, 0, 0, 0, 0], [3, 0, 0, 0, 0, 0, 0, 0, 0, 0, 0, 0, 0, 0], [3, 0, 0, 0, 0, 0, 0, 0, 0, 0, 0, 0, 0, 0], [2, 0, 0, 0, 0, 0, 0, 0, 0, 0, 0, 0, 0, 0], [2, 0, 0, 0, 0, 0, 0, 0, 0, 0, 0, 0, 0, 0], [1, 0, 0, 0, 0, 0, 0, 0, 0, 0, 0, 0, 0, 0], [0, 0, 0, 0, 0, 0, 0, 0, 0, 0, 0, 0, 0, 0], [0, 0, 0, 0, 0, 0, 0, 0, 0, 0, 0, 0, 0, 0], [0, 0, 0, 0, 0, 0, 0, 0, 0, 0, 0, 0, 0, 0], [0, 0, 0, 0, 0, 0, 0, 0, 0, 0, 0, 0, 0, 0], [0, 0, 0, 0, 0, 0, 0, 0, 0, 0, 0, 0, 0, 0], [0, 0, 0, 0, 0, 0, 0, 0, 0, 0, 0, 0, 0, 0], [0, 0, 0, 0, 0, 0, 0, 0, 0, 0, 0, 0, 0, 0], [0, 0, 0, 0, 0, 0, 0, 0, 0, 0, 0, 0, 0, 0]]\n",
      "[3, 3, 3, 2, 2, 1, 0, 0, 0, 0, 0, 0, 0, 0]\n",
      "[1, 2, 3, 4, 4, 4, 3, 1]\n",
      "[1, 2, 3, 4, 4, 4, 3, 1]\n",
      "\n"
     ]
    },
    {
     "name": "stdout",
     "output_type": "stream",
     "text": [
      "[6, 5, 2, 1]\n",
      "[[4, 0, 0, 0, 0, 0, 0, 0, 0, 0, 0, 0, 0, 0], [3, 0, 0, 0, 0, 0, 0, 0, 0, 0, 0, 0, 0, 0], [2, 0, 0, 0, 0, 0, 0, 0, 0, 0, 0, 0, 0, 0], [2, 0, 0, 0, 0, 0, 0, 0, 0, 0, 0, 0, 0, 0], [2, 0, 0, 0, 0, 0, 0, 0, 0, 0, 0, 0, 0, 0], [1, 0, 0, 0, 0, 0, 0, 0, 0, 0, 0, 0, 0, 0], [0, 0, 0, 0, 0, 0, 0, 0, 0, 0, 0, 0, 0, 0], [0, 0, 0, 0, 0, 0, 0, 0, 0, 0, 0, 0, 0, 0], [0, 0, 0, 0, 0, 0, 0, 0, 0, 0, 0, 0, 0, 0], [0, 0, 0, 0, 0, 0, 0, 0, 0, 0, 0, 0, 0, 0], [0, 0, 0, 0, 0, 0, 0, 0, 0, 0, 0, 0, 0, 0], [0, 0, 0, 0, 0, 0, 0, 0, 0, 0, 0, 0, 0, 0], [0, 0, 0, 0, 0, 0, 0, 0, 0, 0, 0, 0, 0, 0], [0, 0, 0, 0, 0, 0, 0, 0, 0, 0, 0, 0, 0, 0]]\n",
      "[4, 3, 2, 2, 2, 1, 0, 0, 0, 0, 0, 0, 0, 0]\n",
      "[1, 3, 5, 6, 6, 6, 5, 2]\n",
      "[1, 3, 5, 6, 6, 6, 5, 2]\n",
      "\n",
      "[6, 5, 1, 1, 1]\n",
      "[[3, 1, 1, 0, 0, 0, 0, 0, 0, 0, 0, 0, 0, 0], [2, 0, 0, 0, 0, 0, 0, 0, 0, 0, 0, 0, 0, 0], [2, 0, 0, 0, 0, 0, 0, 0, 0, 0, 0, 0, 0, 0], [2, 0, 0, 0, 0, 0, 0, 0, 0, 0, 0, 0, 0, 0], [2, 0, 0, 0, 0, 0, 0, 0, 0, 0, 0, 0, 0, 0], [1, 0, 0, 0, 0, 0, 0, 0, 0, 0, 0, 0, 0, 0], [0, 0, 0, 0, 0, 0, 0, 0, 0, 0, 0, 0, 0, 0], [0, 0, 0, 0, 0, 0, 0, 0, 0, 0, 0, 0, 0, 0], [0, 0, 0, 0, 0, 0, 0, 0, 0, 0, 0, 0, 0, 0], [0, 0, 0, 0, 0, 0, 0, 0, 0, 0, 0, 0, 0, 0], [0, 0, 0, 0, 0, 0, 0, 0, 0, 0, 0, 0, 0, 0], [0, 0, 0, 0, 0, 0, 0, 0, 0, 0, 0, 0, 0, 0], [0, 0, 0, 0, 0, 0, 0, 0, 0, 0, 0, 0, 0, 0], [0, 0, 0, 0, 0, 0, 0, 0, 0, 0, 0, 0, 0, 0]]\n",
      "[3, 3, 3, 2, 2, 1, 0, 0, 0, 0, 0, 0, 0, 0]\n",
      "[1, 2, 3, 4, 4, 4, 3, 1]\n",
      "[1, 2, 3, 4, 4, 4, 3, 1]\n",
      "\n",
      "[6, 4, 4]\n",
      "[[2, 1, 0, 0, 0, 0, 0, 0, 0, 0, 0, 0, 0, 0], [2, 1, 0, 0, 0, 0, 0, 0, 0, 0, 0, 0, 0, 0], [2, 1, 0, 0, 0, 0, 0, 0, 0, 0, 0, 0, 0, 0], [2, 1, 0, 0, 0, 0, 0, 0, 0, 0, 0, 0, 0, 0], [1, 0, 0, 0, 0, 0, 0, 0, 0, 0, 0, 0, 0, 0], [1, 0, 0, 0, 0, 0, 0, 0, 0, 0, 0, 0, 0, 0], [0, 0, 0, 0, 0, 0, 0, 0, 0, 0, 0, 0, 0, 0], [0, 0, 0, 0, 0, 0, 0, 0, 0, 0, 0, 0, 0, 0], [0, 0, 0, 0, 0, 0, 0, 0, 0, 0, 0, 0, 0, 0], [0, 0, 0, 0, 0, 0, 0, 0, 0, 0, 0, 0, 0, 0], [0, 0, 0, 0, 0, 0, 0, 0, 0, 0, 0, 0, 0, 0], [0, 0, 0, 0, 0, 0, 0, 0, 0, 0, 0, 0, 0, 0], [0, 0, 0, 0, 0, 0, 0, 0, 0, 0, 0, 0, 0, 0], [0, 0, 0, 0, 0, 0, 0, 0, 0, 0, 0, 0, 0, 0]]\n",
      "[2, 3, 3, 3, 2, 1, 0, 0, 0, 0, 0, 0, 0, 0]\n",
      "[1, 1, 2, 2, 3, 2, 2, 0]\n",
      "[1, 1, 2, 2, 3, 2, 2, 0]\n",
      "\n",
      "[6, 4, 3, 1]\n",
      "[[4, 0, 0, 0, 0, 0, 0, 0, 0, 0, 0, 0, 0, 0], [3, 0, 0, 0, 0, 0, 0, 0, 0, 0, 0, 0, 0, 0], [3, 0, 0, 0, 0, 0, 0, 0, 0, 0, 0, 0, 0, 0], [2, 0, 0, 0, 0, 0, 0, 0, 0, 0, 0, 0, 0, 0], [1, 0, 0, 0, 0, 0, 0, 0, 0, 0, 0, 0, 0, 0], [1, 0, 0, 0, 0, 0, 0, 0, 0, 0, 0, 0, 0, 0], [0, 0, 0, 0, 0, 0, 0, 0, 0, 0, 0, 0, 0, 0], [0, 0, 0, 0, 0, 0, 0, 0, 0, 0, 0, 0, 0, 0], [0, 0, 0, 0, 0, 0, 0, 0, 0, 0, 0, 0, 0, 0], [0, 0, 0, 0, 0, 0, 0, 0, 0, 0, 0, 0, 0, 0], [0, 0, 0, 0, 0, 0, 0, 0, 0, 0, 0, 0, 0, 0], [0, 0, 0, 0, 0, 0, 0, 0, 0, 0, 0, 0, 0, 0], [0, 0, 0, 0, 0, 0, 0, 0, 0, 0, 0, 0, 0, 0], [0, 0, 0, 0, 0, 0, 0, 0, 0, 0, 0, 0, 0, 0]]\n",
      "[4, 3, 3, 2, 1, 1, 0, 0, 0, 0, 0, 0, 0, 0]\n",
      "[1, 3, 5, 7, 8, 7, 5, 2]\n",
      "[1, 3, 5, 7, 8, 7, 5, 2]\n",
      "\n",
      "[6, 4, 2, 2]\n",
      "[[3, 1, 0, 0, 0, 0, 0, 0, 0, 0, 0, 0, 0, 0], [3, 1, 0, 0, 0, 0, 0, 0, 0, 0, 0, 0, 0, 0], [2, 0, 0, 0, 0, 0, 0, 0, 0, 0, 0, 0, 0, 0], [2, 0, 0, 0, 0, 0, 0, 0, 0, 0, 0, 0, 0, 0], [1, 0, 0, 0, 0, 0, 0, 0, 0, 0, 0, 0, 0, 0], [1, 0, 0, 0, 0, 0, 0, 0, 0, 0, 0, 0, 0, 0], [0, 0, 0, 0, 0, 0, 0, 0, 0, 0, 0, 0, 0, 0], [0, 0, 0, 0, 0, 0, 0, 0, 0, 0, 0, 0, 0, 0], [0, 0, 0, 0, 0, 0, 0, 0, 0, 0, 0, 0, 0, 0], [0, 0, 0, 0, 0, 0, 0, 0, 0, 0, 0, 0, 0, 0], [0, 0, 0, 0, 0, 0, 0, 0, 0, 0, 0, 0, 0, 0], [0, 0, 0, 0, 0, 0, 0, 0, 0, 0, 0, 0, 0, 0], [0, 0, 0, 0, 0, 0, 0, 0, 0, 0, 0, 0, 0, 0], [0, 0, 0, 0, 0, 0, 0, 0, 0, 0, 0, 0, 0, 0]]\n",
      "[3, 4, 3, 2, 1, 1, 0, 0, 0, 0, 0, 0, 0, 0]\n",
      "[1, 2, 4, 5, 6, 5, 4, 1]\n",
      "[1, 2, 4, 5, 6, 5, 4, 1]\n",
      "\n",
      "[6, 4, 2, 1, 1]\n",
      "[[4, 1, 0, 0, 0, 0, 0, 0, 0, 0, 0, 0, 0, 0], [3, 0, 0, 0, 0, 0, 0, 0, 0, 0, 0, 0, 0, 0], [2, 0, 0, 0, 0, 0, 0, 0, 0, 0, 0, 0, 0, 0], [2, 0, 0, 0, 0, 0, 0, 0, 0, 0, 0, 0, 0, 0], [1, 0, 0, 0, 0, 0, 0, 0, 0, 0, 0, 0, 0, 0], [1, 0, 0, 0, 0, 0, 0, 0, 0, 0, 0, 0, 0, 0], [0, 0, 0, 0, 0, 0, 0, 0, 0, 0, 0, 0, 0, 0], [0, 0, 0, 0, 0, 0, 0, 0, 0, 0, 0, 0, 0, 0], [0, 0, 0, 0, 0, 0, 0, 0, 0, 0, 0, 0, 0, 0], [0, 0, 0, 0, 0, 0, 0, 0, 0, 0, 0, 0, 0, 0], [0, 0, 0, 0, 0, 0, 0, 0, 0, 0, 0, 0, 0, 0], [0, 0, 0, 0, 0, 0, 0, 0, 0, 0, 0, 0, 0, 0], [0, 0, 0, 0, 0, 0, 0, 0, 0, 0, 0, 0, 0, 0], [0, 0, 0, 0, 0, 0, 0, 0, 0, 0, 0, 0, 0, 0]]\n",
      "[4, 4, 2, 2, 1, 1, 0, 0, 0, 0, 0, 0, 0, 0]\n",
      "[1, 3, 6, 8, 9, 8, 6, 2]\n",
      "[1, 3, 6, 8, 9, 8, 6, 2]\n",
      "\n",
      "[6, 4, 1, 1, 1, 1]\n",
      "[[3, 1, 1, 1, 0, 0, 0, 0, 0, 0, 0, 0, 0, 0], [2, 0, 0, 0, 0, 0, 0, 0, 0, 0, 0, 0, 0, 0], [2, 0, 0, 0, 0, 0, 0, 0, 0, 0, 0, 0, 0, 0], [2, 0, 0, 0, 0, 0, 0, 0, 0, 0, 0, 0, 0, 0], [1, 0, 0, 0, 0, 0, 0, 0, 0, 0, 0, 0, 0, 0], [1, 0, 0, 0, 0, 0, 0, 0, 0, 0, 0, 0, 0, 0], [0, 0, 0, 0, 0, 0, 0, 0, 0, 0, 0, 0, 0, 0], [0, 0, 0, 0, 0, 0, 0, 0, 0, 0, 0, 0, 0, 0], [0, 0, 0, 0, 0, 0, 0, 0, 0, 0, 0, 0, 0, 0], [0, 0, 0, 0, 0, 0, 0, 0, 0, 0, 0, 0, 0, 0], [0, 0, 0, 0, 0, 0, 0, 0, 0, 0, 0, 0, 0, 0], [0, 0, 0, 0, 0, 0, 0, 0, 0, 0, 0, 0, 0, 0], [0, 0, 0, 0, 0, 0, 0, 0, 0, 0, 0, 0, 0, 0], [0, 0, 0, 0, 0, 0, 0, 0, 0, 0, 0, 0, 0, 0]]\n",
      "[3, 3, 3, 3, 1, 1, 0, 0, 0, 0, 0, 0, 0, 0]\n",
      "[1, 2, 3, 4, 5, 4, 3, 1]\n",
      "[1, 2, 3, 4, 5, 4, 3, 1]\n",
      "\n",
      "[6, 3, 3, 2]\n",
      "[[3, 1, 0, 0, 0, 0, 0, 0, 0, 0, 0, 0, 0, 0], [3, 1, 0, 0, 0, 0, 0, 0, 0, 0, 0, 0, 0, 0], [2, 1, 0, 0, 0, 0, 0, 0, 0, 0, 0, 0, 0, 0], [1, 0, 0, 0, 0, 0, 0, 0, 0, 0, 0, 0, 0, 0], [1, 0, 0, 0, 0, 0, 0, 0, 0, 0, 0, 0, 0, 0], [1, 0, 0, 0, 0, 0, 0, 0, 0, 0, 0, 0, 0, 0], [0, 0, 0, 0, 0, 0, 0, 0, 0, 0, 0, 0, 0, 0], [0, 0, 0, 0, 0, 0, 0, 0, 0, 0, 0, 0, 0, 0], [0, 0, 0, 0, 0, 0, 0, 0, 0, 0, 0, 0, 0, 0], [0, 0, 0, 0, 0, 0, 0, 0, 0, 0, 0, 0, 0, 0], [0, 0, 0, 0, 0, 0, 0, 0, 0, 0, 0, 0, 0, 0], [0, 0, 0, 0, 0, 0, 0, 0, 0, 0, 0, 0, 0, 0], [0, 0, 0, 0, 0, 0, 0, 0, 0, 0, 0, 0, 0, 0], [0, 0, 0, 0, 0, 0, 0, 0, 0, 0, 0, 0, 0, 0]]\n",
      "[3, 4, 3, 2, 1, 1, 0, 0, 0, 0, 0, 0, 0, 0]\n",
      "[1, 2, 4, 5, 6, 5, 4, 1]\n",
      "[1, 2, 4, 5, 6, 5, 4, 1]\n",
      "\n",
      "[6, 3, 3, 1, 1]\n",
      "[[3, 2, 0, 0, 0, 0, 0, 0, 0, 0, 0, 0, 0, 0], [2, 1, 0, 0, 0, 0, 0, 0, 0, 0, 0, 0, 0, 0], [2, 1, 0, 0, 0, 0, 0, 0, 0, 0, 0, 0, 0, 0], [1, 0, 0, 0, 0, 0, 0, 0, 0, 0, 0, 0, 0, 0], [1, 0, 0, 0, 0, 0, 0, 0, 0, 0, 0, 0, 0, 0], [1, 0, 0, 0, 0, 0, 0, 0, 0, 0, 0, 0, 0, 0], [0, 0, 0, 0, 0, 0, 0, 0, 0, 0, 0, 0, 0, 0], [0, 0, 0, 0, 0, 0, 0, 0, 0, 0, 0, 0, 0, 0], [0, 0, 0, 0, 0, 0, 0, 0, 0, 0, 0, 0, 0, 0], [0, 0, 0, 0, 0, 0, 0, 0, 0, 0, 0, 0, 0, 0], [0, 0, 0, 0, 0, 0, 0, 0, 0, 0, 0, 0, 0, 0], [0, 0, 0, 0, 0, 0, 0, 0, 0, 0, 0, 0, 0, 0], [0, 0, 0, 0, 0, 0, 0, 0, 0, 0, 0, 0, 0, 0], [0, 0, 0, 0, 0, 0, 0, 0, 0, 0, 0, 0, 0, 0]]\n",
      "[3, 4, 3, 2, 1, 1, 0, 0, 0, 0, 0, 0, 0, 0]\n",
      "[1, 2, 4, 5, 6, 5, 4, 1]\n",
      "[1, 2, 4, 5, 6, 5, 4, 1]\n",
      "\n",
      "[6, 3, 2, 2, 1]\n",
      "[[4, 1, 0, 0, 0, 0, 0, 0, 0, 0, 0, 0, 0, 0], [3, 1, 0, 0, 0, 0, 0, 0, 0, 0, 0, 0, 0, 0], [2, 0, 0, 0, 0, 0, 0, 0, 0, 0, 0, 0, 0, 0], [1, 0, 0, 0, 0, 0, 0, 0, 0, 0, 0, 0, 0, 0], [1, 0, 0, 0, 0, 0, 0, 0, 0, 0, 0, 0, 0, 0], [1, 0, 0, 0, 0, 0, 0, 0, 0, 0, 0, 0, 0, 0], [0, 0, 0, 0, 0, 0, 0, 0, 0, 0, 0, 0, 0, 0], [0, 0, 0, 0, 0, 0, 0, 0, 0, 0, 0, 0, 0, 0], [0, 0, 0, 0, 0, 0, 0, 0, 0, 0, 0, 0, 0, 0], [0, 0, 0, 0, 0, 0, 0, 0, 0, 0, 0, 0, 0, 0], [0, 0, 0, 0, 0, 0, 0, 0, 0, 0, 0, 0, 0, 0], [0, 0, 0, 0, 0, 0, 0, 0, 0, 0, 0, 0, 0, 0], [0, 0, 0, 0, 0, 0, 0, 0, 0, 0, 0, 0, 0, 0], [0, 0, 0, 0, 0, 0, 0, 0, 0, 0, 0, 0, 0, 0]]\n",
      "[4, 4, 3, 1, 1, 1, 0, 0, 0, 0, 0, 0, 0, 0]\n",
      "[1, 3, 6, 9, 10, 9, 6, 2]\n",
      "[1, 3, 6, 9, 10, 9, 6, 2]\n",
      "\n",
      "[6, 3, 2, 1, 1, 1]\n",
      "[[4, 1, 1, 0, 0, 0, 0, 0, 0, 0, 0, 0, 0, 0], [3, 0, 0, 0, 0, 0, 0, 0, 0, 0, 0, 0, 0, 0], [2, 0, 0, 0, 0, 0, 0, 0, 0, 0, 0, 0, 0, 0], [1, 0, 0, 0, 0, 0, 0, 0, 0, 0, 0, 0, 0, 0], [1, 0, 0, 0, 0, 0, 0, 0, 0, 0, 0, 0, 0, 0], [1, 0, 0, 0, 0, 0, 0, 0, 0, 0, 0, 0, 0, 0], [0, 0, 0, 0, 0, 0, 0, 0, 0, 0, 0, 0, 0, 0], [0, 0, 0, 0, 0, 0, 0, 0, 0, 0, 0, 0, 0, 0], [0, 0, 0, 0, 0, 0, 0, 0, 0, 0, 0, 0, 0, 0], [0, 0, 0, 0, 0, 0, 0, 0, 0, 0, 0, 0, 0, 0], [0, 0, 0, 0, 0, 0, 0, 0, 0, 0, 0, 0, 0, 0], [0, 0, 0, 0, 0, 0, 0, 0, 0, 0, 0, 0, 0, 0], [0, 0, 0, 0, 0, 0, 0, 0, 0, 0, 0, 0, 0, 0], [0, 0, 0, 0, 0, 0, 0, 0, 0, 0, 0, 0, 0, 0]]\n",
      "[4, 4, 3, 1, 1, 1, 0, 0, 0, 0, 0, 0, 0, 0]\n",
      "[1, 3, 6, 9, 10, 9, 6, 2]\n",
      "[1, 3, 6, 9, 10, 9, 6, 2]\n",
      "\n",
      "[6, 3, 1, 1, 1, 1, 1]\n",
      "[[3, 1, 1, 1, 1, 0, 0, 0, 0, 0, 0, 0, 0, 0], [2, 0, 0, 0, 0, 0, 0, 0, 0, 0, 0, 0, 0, 0], [2, 0, 0, 0, 0, 0, 0, 0, 0, 0, 0, 0, 0, 0], [1, 0, 0, 0, 0, 0, 0, 0, 0, 0, 0, 0, 0, 0], [1, 0, 0, 0, 0, 0, 0, 0, 0, 0, 0, 0, 0, 0], [1, 0, 0, 0, 0, 0, 0, 0, 0, 0, 0, 0, 0, 0], [0, 0, 0, 0, 0, 0, 0, 0, 0, 0, 0, 0, 0, 0], [0, 0, 0, 0, 0, 0, 0, 0, 0, 0, 0, 0, 0, 0], [0, 0, 0, 0, 0, 0, 0, 0, 0, 0, 0, 0, 0, 0], [0, 0, 0, 0, 0, 0, 0, 0, 0, 0, 0, 0, 0, 0], [0, 0, 0, 0, 0, 0, 0, 0, 0, 0, 0, 0, 0, 0], [0, 0, 0, 0, 0, 0, 0, 0, 0, 0, 0, 0, 0, 0], [0, 0, 0, 0, 0, 0, 0, 0, 0, 0, 0, 0, 0, 0], [0, 0, 0, 0, 0, 0, 0, 0, 0, 0, 0, 0, 0, 0]]\n",
      "[3, 3, 3, 2, 2, 1, 0, 0, 0, 0, 0, 0, 0, 0]\n",
      "[1, 2, 3, 4, 4, 4, 3, 1]\n",
      "[1, 2, 3, 4, 4, 4, 3, 1]\n",
      "\n"
     ]
    },
    {
     "name": "stdout",
     "output_type": "stream",
     "text": [
      "[6, 2, 2, 2, 2]\n",
      "[[2, 1, 1, 1, 0, 0, 0, 0, 0, 0, 0, 0, 0, 0], [2, 1, 1, 1, 0, 0, 0, 0, 0, 0, 0, 0, 0, 0], [1, 0, 0, 0, 0, 0, 0, 0, 0, 0, 0, 0, 0, 0], [1, 0, 0, 0, 0, 0, 0, 0, 0, 0, 0, 0, 0, 0], [1, 0, 0, 0, 0, 0, 0, 0, 0, 0, 0, 0, 0, 0], [1, 0, 0, 0, 0, 0, 0, 0, 0, 0, 0, 0, 0, 0], [0, 0, 0, 0, 0, 0, 0, 0, 0, 0, 0, 0, 0, 0], [0, 0, 0, 0, 0, 0, 0, 0, 0, 0, 0, 0, 0, 0], [0, 0, 0, 0, 0, 0, 0, 0, 0, 0, 0, 0, 0, 0], [0, 0, 0, 0, 0, 0, 0, 0, 0, 0, 0, 0, 0, 0], [0, 0, 0, 0, 0, 0, 0, 0, 0, 0, 0, 0, 0, 0], [0, 0, 0, 0, 0, 0, 0, 0, 0, 0, 0, 0, 0, 0], [0, 0, 0, 0, 0, 0, 0, 0, 0, 0, 0, 0, 0, 0], [0, 0, 0, 0, 0, 0, 0, 0, 0, 0, 0, 0, 0, 0]]\n",
      "[2, 3, 3, 3, 2, 1, 0, 0, 0, 0, 0, 0, 0, 0]\n",
      "[1, 1, 2, 2, 3, 2, 2, 0]\n",
      "[1, 1, 2, 2, 3, 2, 2, 0]\n",
      "\n",
      "[6, 2, 2, 2, 1, 1]\n",
      "[[3, 2, 1, 0, 0, 0, 0, 0, 0, 0, 0, 0, 0, 0], [2, 1, 1, 0, 0, 0, 0, 0, 0, 0, 0, 0, 0, 0], [1, 0, 0, 0, 0, 0, 0, 0, 0, 0, 0, 0, 0, 0], [1, 0, 0, 0, 0, 0, 0, 0, 0, 0, 0, 0, 0, 0], [1, 0, 0, 0, 0, 0, 0, 0, 0, 0, 0, 0, 0, 0], [1, 0, 0, 0, 0, 0, 0, 0, 0, 0, 0, 0, 0, 0], [0, 0, 0, 0, 0, 0, 0, 0, 0, 0, 0, 0, 0, 0], [0, 0, 0, 0, 0, 0, 0, 0, 0, 0, 0, 0, 0, 0], [0, 0, 0, 0, 0, 0, 0, 0, 0, 0, 0, 0, 0, 0], [0, 0, 0, 0, 0, 0, 0, 0, 0, 0, 0, 0, 0, 0], [0, 0, 0, 0, 0, 0, 0, 0, 0, 0, 0, 0, 0, 0], [0, 0, 0, 0, 0, 0, 0, 0, 0, 0, 0, 0, 0, 0], [0, 0, 0, 0, 0, 0, 0, 0, 0, 0, 0, 0, 0, 0], [0, 0, 0, 0, 0, 0, 0, 0, 0, 0, 0, 0, 0, 0]]\n",
      "[3, 4, 3, 2, 1, 1, 0, 0, 0, 0, 0, 0, 0, 0]\n",
      "[1, 2, 4, 5, 6, 5, 4, 1]\n",
      "[1, 2, 4, 5, 6, 5, 4, 1]\n",
      "\n",
      "[6, 2, 2, 1, 1, 1, 1]\n",
      "[[3, 2, 1, 1, 0, 0, 0, 0, 0, 0, 0, 0, 0, 0], [2, 1, 0, 0, 0, 0, 0, 0, 0, 0, 0, 0, 0, 0], [1, 0, 0, 0, 0, 0, 0, 0, 0, 0, 0, 0, 0, 0], [1, 0, 0, 0, 0, 0, 0, 0, 0, 0, 0, 0, 0, 0], [1, 0, 0, 0, 0, 0, 0, 0, 0, 0, 0, 0, 0, 0], [1, 0, 0, 0, 0, 0, 0, 0, 0, 0, 0, 0, 0, 0], [0, 0, 0, 0, 0, 0, 0, 0, 0, 0, 0, 0, 0, 0], [0, 0, 0, 0, 0, 0, 0, 0, 0, 0, 0, 0, 0, 0], [0, 0, 0, 0, 0, 0, 0, 0, 0, 0, 0, 0, 0, 0], [0, 0, 0, 0, 0, 0, 0, 0, 0, 0, 0, 0, 0, 0], [0, 0, 0, 0, 0, 0, 0, 0, 0, 0, 0, 0, 0, 0], [0, 0, 0, 0, 0, 0, 0, 0, 0, 0, 0, 0, 0, 0], [0, 0, 0, 0, 0, 0, 0, 0, 0, 0, 0, 0, 0, 0], [0, 0, 0, 0, 0, 0, 0, 0, 0, 0, 0, 0, 0, 0]]\n",
      "[3, 4, 3, 2, 1, 1, 0, 0, 0, 0, 0, 0, 0, 0]\n",
      "[1, 2, 4, 5, 6, 5, 4, 1]\n",
      "[1, 2, 4, 5, 6, 5, 4, 1]\n",
      "\n",
      "[6, 2, 1, 1, 1, 1, 1, 1]\n",
      "[[3, 1, 1, 1, 1, 1, 0, 0, 0, 0, 0, 0, 0, 0], [2, 0, 0, 0, 0, 0, 0, 0, 0, 0, 0, 0, 0, 0], [1, 0, 0, 0, 0, 0, 0, 0, 0, 0, 0, 0, 0, 0], [1, 0, 0, 0, 0, 0, 0, 0, 0, 0, 0, 0, 0, 0], [1, 0, 0, 0, 0, 0, 0, 0, 0, 0, 0, 0, 0, 0], [1, 0, 0, 0, 0, 0, 0, 0, 0, 0, 0, 0, 0, 0], [0, 0, 0, 0, 0, 0, 0, 0, 0, 0, 0, 0, 0, 0], [0, 0, 0, 0, 0, 0, 0, 0, 0, 0, 0, 0, 0, 0], [0, 0, 0, 0, 0, 0, 0, 0, 0, 0, 0, 0, 0, 0], [0, 0, 0, 0, 0, 0, 0, 0, 0, 0, 0, 0, 0, 0], [0, 0, 0, 0, 0, 0, 0, 0, 0, 0, 0, 0, 0, 0], [0, 0, 0, 0, 0, 0, 0, 0, 0, 0, 0, 0, 0, 0], [0, 0, 0, 0, 0, 0, 0, 0, 0, 0, 0, 0, 0, 0], [0, 0, 0, 0, 0, 0, 0, 0, 0, 0, 0, 0, 0, 0]]\n",
      "[3, 3, 2, 2, 2, 2, 0, 0, 0, 0, 0, 0, 0, 0]\n",
      "[1, 2, 3, 3, 3, 3, 3, 1]\n",
      "[1, 2, 3, 3, 3, 3, 3, 1]\n",
      "\n",
      "[6, 1, 1, 1, 1, 1, 1, 1, 1]\n",
      "[[2, 1, 1, 1, 1, 1, 1, 1, 0, 0, 0, 0, 0, 0], [1, 0, 0, 0, 0, 0, 0, 0, 0, 0, 0, 0, 0, 0], [1, 0, 0, 0, 0, 0, 0, 0, 0, 0, 0, 0, 0, 0], [1, 0, 0, 0, 0, 0, 0, 0, 0, 0, 0, 0, 0, 0], [1, 0, 0, 0, 0, 0, 0, 0, 0, 0, 0, 0, 0, 0], [1, 0, 0, 0, 0, 0, 0, 0, 0, 0, 0, 0, 0, 0], [0, 0, 0, 0, 0, 0, 0, 0, 0, 0, 0, 0, 0, 0], [0, 0, 0, 0, 0, 0, 0, 0, 0, 0, 0, 0, 0, 0], [0, 0, 0, 0, 0, 0, 0, 0, 0, 0, 0, 0, 0, 0], [0, 0, 0, 0, 0, 0, 0, 0, 0, 0, 0, 0, 0, 0], [0, 0, 0, 0, 0, 0, 0, 0, 0, 0, 0, 0, 0, 0], [0, 0, 0, 0, 0, 0, 0, 0, 0, 0, 0, 0, 0, 0], [0, 0, 0, 0, 0, 0, 0, 0, 0, 0, 0, 0, 0, 0], [0, 0, 0, 0, 0, 0, 0, 0, 0, 0, 0, 0, 0, 0]]\n",
      "[2, 2, 2, 2, 2, 2, 1, 1, 0, 0, 0, 0, 0, 0]\n",
      "[1, 1, 1, 1, 1, 1, 1, 0]\n",
      "[1, 1, 1, 1, 1, 1, 1, 0]\n",
      "\n",
      "[5, 5, 4]\n",
      "[[2, 1, 0, 0, 0, 0, 0, 0, 0, 0, 0, 0, 0, 0], [2, 1, 0, 0, 0, 0, 0, 0, 0, 0, 0, 0, 0, 0], [2, 1, 0, 0, 0, 0, 0, 0, 0, 0, 0, 0, 0, 0], [2, 1, 0, 0, 0, 0, 0, 0, 0, 0, 0, 0, 0, 0], [1, 1, 0, 0, 0, 0, 0, 0, 0, 0, 0, 0, 0, 0], [0, 0, 0, 0, 0, 0, 0, 0, 0, 0, 0, 0, 0, 0], [0, 0, 0, 0, 0, 0, 0, 0, 0, 0, 0, 0, 0, 0], [0, 0, 0, 0, 0, 0, 0, 0, 0, 0, 0, 0, 0, 0], [0, 0, 0, 0, 0, 0, 0, 0, 0, 0, 0, 0, 0, 0], [0, 0, 0, 0, 0, 0, 0, 0, 0, 0, 0, 0, 0, 0], [0, 0, 0, 0, 0, 0, 0, 0, 0, 0, 0, 0, 0, 0], [0, 0, 0, 0, 0, 0, 0, 0, 0, 0, 0, 0, 0, 0], [0, 0, 0, 0, 0, 0, 0, 0, 0, 0, 0, 0, 0, 0], [0, 0, 0, 0, 0, 0, 0, 0, 0, 0, 0, 0, 0, 0]]\n",
      "[2, 3, 3, 3, 2, 1, 0, 0, 0, 0, 0, 0, 0, 0]\n",
      "[1, 1, 2, 2, 3, 2, 2, 0]\n",
      "[1, 1, 2, 2, 3, 2, 2, 0]\n",
      "\n",
      "[5, 5, 3, 1]\n",
      "[[3, 1, 0, 0, 0, 0, 0, 0, 0, 0, 0, 0, 0, 0], [2, 1, 0, 0, 0, 0, 0, 0, 0, 0, 0, 0, 0, 0], [2, 1, 0, 0, 0, 0, 0, 0, 0, 0, 0, 0, 0, 0], [1, 1, 0, 0, 0, 0, 0, 0, 0, 0, 0, 0, 0, 0], [1, 1, 0, 0, 0, 0, 0, 0, 0, 0, 0, 0, 0, 0], [0, 0, 0, 0, 0, 0, 0, 0, 0, 0, 0, 0, 0, 0], [0, 0, 0, 0, 0, 0, 0, 0, 0, 0, 0, 0, 0, 0], [0, 0, 0, 0, 0, 0, 0, 0, 0, 0, 0, 0, 0, 0], [0, 0, 0, 0, 0, 0, 0, 0, 0, 0, 0, 0, 0, 0], [0, 0, 0, 0, 0, 0, 0, 0, 0, 0, 0, 0, 0, 0], [0, 0, 0, 0, 0, 0, 0, 0, 0, 0, 0, 0, 0, 0], [0, 0, 0, 0, 0, 0, 0, 0, 0, 0, 0, 0, 0, 0], [0, 0, 0, 0, 0, 0, 0, 0, 0, 0, 0, 0, 0, 0], [0, 0, 0, 0, 0, 0, 0, 0, 0, 0, 0, 0, 0, 0]]\n",
      "[3, 3, 3, 2, 2, 1, 0, 0, 0, 0, 0, 0, 0, 0]\n",
      "[1, 2, 3, 4, 4, 4, 3, 1]\n",
      "[1, 2, 3, 4, 4, 4, 3, 1]\n",
      "\n",
      "[5, 5, 2, 2]\n",
      "[[2, 2, 0, 0, 0, 0, 0, 0, 0, 0, 0, 0, 0, 0], [2, 2, 0, 0, 0, 0, 0, 0, 0, 0, 0, 0, 0, 0], [1, 1, 0, 0, 0, 0, 0, 0, 0, 0, 0, 0, 0, 0], [1, 1, 0, 0, 0, 0, 0, 0, 0, 0, 0, 0, 0, 0], [1, 1, 0, 0, 0, 0, 0, 0, 0, 0, 0, 0, 0, 0], [0, 0, 0, 0, 0, 0, 0, 0, 0, 0, 0, 0, 0, 0], [0, 0, 0, 0, 0, 0, 0, 0, 0, 0, 0, 0, 0, 0], [0, 0, 0, 0, 0, 0, 0, 0, 0, 0, 0, 0, 0, 0], [0, 0, 0, 0, 0, 0, 0, 0, 0, 0, 0, 0, 0, 0], [0, 0, 0, 0, 0, 0, 0, 0, 0, 0, 0, 0, 0, 0], [0, 0, 0, 0, 0, 0, 0, 0, 0, 0, 0, 0, 0, 0], [0, 0, 0, 0, 0, 0, 0, 0, 0, 0, 0, 0, 0, 0], [0, 0, 0, 0, 0, 0, 0, 0, 0, 0, 0, 0, 0, 0], [0, 0, 0, 0, 0, 0, 0, 0, 0, 0, 0, 0, 0, 0]]\n",
      "[2, 4, 3, 2, 2, 1, 0, 0, 0, 0, 0, 0, 0, 0]\n",
      "[1, 1, 3, 2, 4, 2, 3, 0]\n",
      "[1, 1, 3, 2, 4, 2, 3, 0]\n",
      "\n",
      "[5, 5, 2, 1, 1]\n",
      "[[3, 2, 0, 0, 0, 0, 0, 0, 0, 0, 0, 0, 0, 0], [2, 1, 0, 0, 0, 0, 0, 0, 0, 0, 0, 0, 0, 0], [1, 1, 0, 0, 0, 0, 0, 0, 0, 0, 0, 0, 0, 0], [1, 1, 0, 0, 0, 0, 0, 0, 0, 0, 0, 0, 0, 0], [1, 1, 0, 0, 0, 0, 0, 0, 0, 0, 0, 0, 0, 0], [0, 0, 0, 0, 0, 0, 0, 0, 0, 0, 0, 0, 0, 0], [0, 0, 0, 0, 0, 0, 0, 0, 0, 0, 0, 0, 0, 0], [0, 0, 0, 0, 0, 0, 0, 0, 0, 0, 0, 0, 0, 0], [0, 0, 0, 0, 0, 0, 0, 0, 0, 0, 0, 0, 0, 0], [0, 0, 0, 0, 0, 0, 0, 0, 0, 0, 0, 0, 0, 0], [0, 0, 0, 0, 0, 0, 0, 0, 0, 0, 0, 0, 0, 0], [0, 0, 0, 0, 0, 0, 0, 0, 0, 0, 0, 0, 0, 0], [0, 0, 0, 0, 0, 0, 0, 0, 0, 0, 0, 0, 0, 0], [0, 0, 0, 0, 0, 0, 0, 0, 0, 0, 0, 0, 0, 0]]\n",
      "[3, 4, 2, 2, 2, 1, 0, 0, 0, 0, 0, 0, 0, 0]\n",
      "[1, 2, 4, 4, 5, 4, 4, 1]\n",
      "[1, 2, 4, 4, 5, 4, 4, 1]\n",
      "\n",
      "[5, 5, 1, 1, 1, 1]\n",
      "[[2, 2, 1, 1, 0, 0, 0, 0, 0, 0, 0, 0, 0, 0], [1, 1, 0, 0, 0, 0, 0, 0, 0, 0, 0, 0, 0, 0], [1, 1, 0, 0, 0, 0, 0, 0, 0, 0, 0, 0, 0, 0], [1, 1, 0, 0, 0, 0, 0, 0, 0, 0, 0, 0, 0, 0], [1, 1, 0, 0, 0, 0, 0, 0, 0, 0, 0, 0, 0, 0], [0, 0, 0, 0, 0, 0, 0, 0, 0, 0, 0, 0, 0, 0], [0, 0, 0, 0, 0, 0, 0, 0, 0, 0, 0, 0, 0, 0], [0, 0, 0, 0, 0, 0, 0, 0, 0, 0, 0, 0, 0, 0], [0, 0, 0, 0, 0, 0, 0, 0, 0, 0, 0, 0, 0, 0], [0, 0, 0, 0, 0, 0, 0, 0, 0, 0, 0, 0, 0, 0], [0, 0, 0, 0, 0, 0, 0, 0, 0, 0, 0, 0, 0, 0], [0, 0, 0, 0, 0, 0, 0, 0, 0, 0, 0, 0, 0, 0], [0, 0, 0, 0, 0, 0, 0, 0, 0, 0, 0, 0, 0, 0], [0, 0, 0, 0, 0, 0, 0, 0, 0, 0, 0, 0, 0, 0]]\n",
      "[2, 3, 3, 3, 2, 1, 0, 0, 0, 0, 0, 0, 0, 0]\n",
      "[1, 1, 2, 2, 3, 2, 2, 0]\n",
      "[1, 1, 2, 2, 3, 2, 2, 0]\n",
      "\n",
      "[5, 4, 4, 1]\n",
      "[[3, 1, 0, 0, 0, 0, 0, 0, 0, 0, 0, 0, 0, 0], [2, 1, 0, 0, 0, 0, 0, 0, 0, 0, 0, 0, 0, 0], [2, 1, 0, 0, 0, 0, 0, 0, 0, 0, 0, 0, 0, 0], [2, 1, 0, 0, 0, 0, 0, 0, 0, 0, 0, 0, 0, 0], [1, 0, 0, 0, 0, 0, 0, 0, 0, 0, 0, 0, 0, 0], [0, 0, 0, 0, 0, 0, 0, 0, 0, 0, 0, 0, 0, 0], [0, 0, 0, 0, 0, 0, 0, 0, 0, 0, 0, 0, 0, 0], [0, 0, 0, 0, 0, 0, 0, 0, 0, 0, 0, 0, 0, 0], [0, 0, 0, 0, 0, 0, 0, 0, 0, 0, 0, 0, 0, 0], [0, 0, 0, 0, 0, 0, 0, 0, 0, 0, 0, 0, 0, 0], [0, 0, 0, 0, 0, 0, 0, 0, 0, 0, 0, 0, 0, 0], [0, 0, 0, 0, 0, 0, 0, 0, 0, 0, 0, 0, 0, 0], [0, 0, 0, 0, 0, 0, 0, 0, 0, 0, 0, 0, 0, 0], [0, 0, 0, 0, 0, 0, 0, 0, 0, 0, 0, 0, 0, 0]]\n",
      "[3, 3, 3, 3, 2, 0, 0, 0, 0, 0, 0, 0, 0, 0]\n",
      "[1, 2, 3, 4, 5, 5, 3, 1]\n",
      "[1, 2, 3, 4, 5, 5, 3, 1]\n",
      "\n",
      "[5, 4, 3, 2]\n",
      "[[4, 0, 0, 0, 0, 0, 0, 0, 0, 0, 0, 0, 0, 0], [4, 0, 0, 0, 0, 0, 0, 0, 0, 0, 0, 0, 0, 0], [3, 0, 0, 0, 0, 0, 0, 0, 0, 0, 0, 0, 0, 0], [2, 0, 0, 0, 0, 0, 0, 0, 0, 0, 0, 0, 0, 0], [1, 0, 0, 0, 0, 0, 0, 0, 0, 0, 0, 0, 0, 0], [0, 0, 0, 0, 0, 0, 0, 0, 0, 0, 0, 0, 0, 0], [0, 0, 0, 0, 0, 0, 0, 0, 0, 0, 0, 0, 0, 0], [0, 0, 0, 0, 0, 0, 0, 0, 0, 0, 0, 0, 0, 0], [0, 0, 0, 0, 0, 0, 0, 0, 0, 0, 0, 0, 0, 0], [0, 0, 0, 0, 0, 0, 0, 0, 0, 0, 0, 0, 0, 0], [0, 0, 0, 0, 0, 0, 0, 0, 0, 0, 0, 0, 0, 0], [0, 0, 0, 0, 0, 0, 0, 0, 0, 0, 0, 0, 0, 0], [0, 0, 0, 0, 0, 0, 0, 0, 0, 0, 0, 0, 0, 0], [0, 0, 0, 0, 0, 0, 0, 0, 0, 0, 0, 0, 0, 0]]\n",
      "[4, 4, 3, 2, 1, 0, 0, 0, 0, 0, 0, 0, 0, 0]\n",
      "[1, 3, 6, 9, 11, 11, 8, 3]\n",
      "[1, 3, 6, 9, 11, 11, 8, 3]\n",
      "\n"
     ]
    },
    {
     "name": "stdout",
     "output_type": "stream",
     "text": [
      "[5, 4, 3, 1, 1]\n",
      "[[4, 1, 0, 0, 0, 0, 0, 0, 0, 0, 0, 0, 0, 0], [3, 0, 0, 0, 0, 0, 0, 0, 0, 0, 0, 0, 0, 0], [3, 0, 0, 0, 0, 0, 0, 0, 0, 0, 0, 0, 0, 0], [2, 0, 0, 0, 0, 0, 0, 0, 0, 0, 0, 0, 0, 0], [1, 0, 0, 0, 0, 0, 0, 0, 0, 0, 0, 0, 0, 0], [0, 0, 0, 0, 0, 0, 0, 0, 0, 0, 0, 0, 0, 0], [0, 0, 0, 0, 0, 0, 0, 0, 0, 0, 0, 0, 0, 0], [0, 0, 0, 0, 0, 0, 0, 0, 0, 0, 0, 0, 0, 0], [0, 0, 0, 0, 0, 0, 0, 0, 0, 0, 0, 0, 0, 0], [0, 0, 0, 0, 0, 0, 0, 0, 0, 0, 0, 0, 0, 0], [0, 0, 0, 0, 0, 0, 0, 0, 0, 0, 0, 0, 0, 0], [0, 0, 0, 0, 0, 0, 0, 0, 0, 0, 0, 0, 0, 0], [0, 0, 0, 0, 0, 0, 0, 0, 0, 0, 0, 0, 0, 0], [0, 0, 0, 0, 0, 0, 0, 0, 0, 0, 0, 0, 0, 0]]\n",
      "[4, 4, 3, 2, 1, 0, 0, 0, 0, 0, 0, 0, 0, 0]\n",
      "[1, 3, 6, 9, 11, 11, 8, 3]\n",
      "[1, 3, 6, 9, 11, 11, 8, 3]\n",
      "\n",
      "[5, 4, 2, 2, 1]\n",
      "[[4, 1, 0, 0, 0, 0, 0, 0, 0, 0, 0, 0, 0, 0], [3, 1, 0, 0, 0, 0, 0, 0, 0, 0, 0, 0, 0, 0], [2, 0, 0, 0, 0, 0, 0, 0, 0, 0, 0, 0, 0, 0], [2, 0, 0, 0, 0, 0, 0, 0, 0, 0, 0, 0, 0, 0], [1, 0, 0, 0, 0, 0, 0, 0, 0, 0, 0, 0, 0, 0], [0, 0, 0, 0, 0, 0, 0, 0, 0, 0, 0, 0, 0, 0], [0, 0, 0, 0, 0, 0, 0, 0, 0, 0, 0, 0, 0, 0], [0, 0, 0, 0, 0, 0, 0, 0, 0, 0, 0, 0, 0, 0], [0, 0, 0, 0, 0, 0, 0, 0, 0, 0, 0, 0, 0, 0], [0, 0, 0, 0, 0, 0, 0, 0, 0, 0, 0, 0, 0, 0], [0, 0, 0, 0, 0, 0, 0, 0, 0, 0, 0, 0, 0, 0], [0, 0, 0, 0, 0, 0, 0, 0, 0, 0, 0, 0, 0, 0], [0, 0, 0, 0, 0, 0, 0, 0, 0, 0, 0, 0, 0, 0], [0, 0, 0, 0, 0, 0, 0, 0, 0, 0, 0, 0, 0, 0]]\n",
      "[4, 4, 3, 2, 1, 0, 0, 0, 0, 0, 0, 0, 0, 0]\n",
      "[1, 3, 6, 9, 11, 11, 8, 3]\n",
      "[1, 3, 6, 9, 11, 11, 8, 3]\n",
      "\n",
      "[5, 4, 2, 1, 1, 1]\n",
      "[[4, 1, 1, 0, 0, 0, 0, 0, 0, 0, 0, 0, 0, 0], [3, 0, 0, 0, 0, 0, 0, 0, 0, 0, 0, 0, 0, 0], [2, 0, 0, 0, 0, 0, 0, 0, 0, 0, 0, 0, 0, 0], [2, 0, 0, 0, 0, 0, 0, 0, 0, 0, 0, 0, 0, 0], [1, 0, 0, 0, 0, 0, 0, 0, 0, 0, 0, 0, 0, 0], [0, 0, 0, 0, 0, 0, 0, 0, 0, 0, 0, 0, 0, 0], [0, 0, 0, 0, 0, 0, 0, 0, 0, 0, 0, 0, 0, 0], [0, 0, 0, 0, 0, 0, 0, 0, 0, 0, 0, 0, 0, 0], [0, 0, 0, 0, 0, 0, 0, 0, 0, 0, 0, 0, 0, 0], [0, 0, 0, 0, 0, 0, 0, 0, 0, 0, 0, 0, 0, 0], [0, 0, 0, 0, 0, 0, 0, 0, 0, 0, 0, 0, 0, 0], [0, 0, 0, 0, 0, 0, 0, 0, 0, 0, 0, 0, 0, 0], [0, 0, 0, 0, 0, 0, 0, 0, 0, 0, 0, 0, 0, 0], [0, 0, 0, 0, 0, 0, 0, 0, 0, 0, 0, 0, 0, 0]]\n",
      "[4, 4, 3, 2, 1, 0, 0, 0, 0, 0, 0, 0, 0, 0]\n",
      "[1, 3, 6, 9, 11, 11, 8, 3]\n",
      "[1, 3, 6, 9, 11, 11, 8, 3]\n",
      "\n",
      "[5, 4, 1, 1, 1, 1, 1]\n",
      "[[3, 1, 1, 1, 1, 0, 0, 0, 0, 0, 0, 0, 0, 0], [2, 0, 0, 0, 0, 0, 0, 0, 0, 0, 0, 0, 0, 0], [2, 0, 0, 0, 0, 0, 0, 0, 0, 0, 0, 0, 0, 0], [2, 0, 0, 0, 0, 0, 0, 0, 0, 0, 0, 0, 0, 0], [1, 0, 0, 0, 0, 0, 0, 0, 0, 0, 0, 0, 0, 0], [0, 0, 0, 0, 0, 0, 0, 0, 0, 0, 0, 0, 0, 0], [0, 0, 0, 0, 0, 0, 0, 0, 0, 0, 0, 0, 0, 0], [0, 0, 0, 0, 0, 0, 0, 0, 0, 0, 0, 0, 0, 0], [0, 0, 0, 0, 0, 0, 0, 0, 0, 0, 0, 0, 0, 0], [0, 0, 0, 0, 0, 0, 0, 0, 0, 0, 0, 0, 0, 0], [0, 0, 0, 0, 0, 0, 0, 0, 0, 0, 0, 0, 0, 0], [0, 0, 0, 0, 0, 0, 0, 0, 0, 0, 0, 0, 0, 0], [0, 0, 0, 0, 0, 0, 0, 0, 0, 0, 0, 0, 0, 0], [0, 0, 0, 0, 0, 0, 0, 0, 0, 0, 0, 0, 0, 0]]\n",
      "[3, 3, 3, 3, 2, 0, 0, 0, 0, 0, 0, 0, 0, 0]\n",
      "[1, 2, 3, 4, 5, 5, 3, 1]\n",
      "[1, 2, 3, 4, 5, 5, 3, 1]\n",
      "\n",
      "[5, 3, 3, 3]\n",
      "[[2, 1, 1, 0, 0, 0, 0, 0, 0, 0, 0, 0, 0, 0], [2, 1, 1, 0, 0, 0, 0, 0, 0, 0, 0, 0, 0, 0], [2, 1, 1, 0, 0, 0, 0, 0, 0, 0, 0, 0, 0, 0], [1, 0, 0, 0, 0, 0, 0, 0, 0, 0, 0, 0, 0, 0], [1, 0, 0, 0, 0, 0, 0, 0, 0, 0, 0, 0, 0, 0], [0, 0, 0, 0, 0, 0, 0, 0, 0, 0, 0, 0, 0, 0], [0, 0, 0, 0, 0, 0, 0, 0, 0, 0, 0, 0, 0, 0], [0, 0, 0, 0, 0, 0, 0, 0, 0, 0, 0, 0, 0, 0], [0, 0, 0, 0, 0, 0, 0, 0, 0, 0, 0, 0, 0, 0], [0, 0, 0, 0, 0, 0, 0, 0, 0, 0, 0, 0, 0, 0], [0, 0, 0, 0, 0, 0, 0, 0, 0, 0, 0, 0, 0, 0], [0, 0, 0, 0, 0, 0, 0, 0, 0, 0, 0, 0, 0, 0], [0, 0, 0, 0, 0, 0, 0, 0, 0, 0, 0, 0, 0, 0], [0, 0, 0, 0, 0, 0, 0, 0, 0, 0, 0, 0, 0, 0]]\n",
      "[2, 3, 4, 3, 2, 0, 0, 0, 0, 0, 0, 0, 0, 0]\n",
      "[1, 1, 2, 3, 3, 3, 2, 1]\n",
      "[1, 1, 2, 3, 3, 3, 2, 1]\n",
      "\n",
      "[5, 3, 3, 2, 1]\n",
      "[[4, 1, 0, 0, 0, 0, 0, 0, 0, 0, 0, 0, 0, 0], [3, 1, 0, 0, 0, 0, 0, 0, 0, 0, 0, 0, 0, 0], [2, 1, 0, 0, 0, 0, 0, 0, 0, 0, 0, 0, 0, 0], [1, 0, 0, 0, 0, 0, 0, 0, 0, 0, 0, 0, 0, 0], [1, 0, 0, 0, 0, 0, 0, 0, 0, 0, 0, 0, 0, 0], [0, 0, 0, 0, 0, 0, 0, 0, 0, 0, 0, 0, 0, 0], [0, 0, 0, 0, 0, 0, 0, 0, 0, 0, 0, 0, 0, 0], [0, 0, 0, 0, 0, 0, 0, 0, 0, 0, 0, 0, 0, 0], [0, 0, 0, 0, 0, 0, 0, 0, 0, 0, 0, 0, 0, 0], [0, 0, 0, 0, 0, 0, 0, 0, 0, 0, 0, 0, 0, 0], [0, 0, 0, 0, 0, 0, 0, 0, 0, 0, 0, 0, 0, 0], [0, 0, 0, 0, 0, 0, 0, 0, 0, 0, 0, 0, 0, 0], [0, 0, 0, 0, 0, 0, 0, 0, 0, 0, 0, 0, 0, 0], [0, 0, 0, 0, 0, 0, 0, 0, 0, 0, 0, 0, 0, 0]]\n",
      "[4, 4, 3, 2, 1, 0, 0, 0, 0, 0, 0, 0, 0, 0]\n",
      "[1, 3, 6, 9, 11, 11, 8, 3]\n",
      "[1, 3, 6, 9, 11, 11, 8, 3]\n",
      "\n",
      "[5, 3, 3, 1, 1, 1]\n",
      "[[3, 2, 1, 0, 0, 0, 0, 0, 0, 0, 0, 0, 0, 0], [2, 1, 0, 0, 0, 0, 0, 0, 0, 0, 0, 0, 0, 0], [2, 1, 0, 0, 0, 0, 0, 0, 0, 0, 0, 0, 0, 0], [1, 0, 0, 0, 0, 0, 0, 0, 0, 0, 0, 0, 0, 0], [1, 0, 0, 0, 0, 0, 0, 0, 0, 0, 0, 0, 0, 0], [0, 0, 0, 0, 0, 0, 0, 0, 0, 0, 0, 0, 0, 0], [0, 0, 0, 0, 0, 0, 0, 0, 0, 0, 0, 0, 0, 0], [0, 0, 0, 0, 0, 0, 0, 0, 0, 0, 0, 0, 0, 0], [0, 0, 0, 0, 0, 0, 0, 0, 0, 0, 0, 0, 0, 0], [0, 0, 0, 0, 0, 0, 0, 0, 0, 0, 0, 0, 0, 0], [0, 0, 0, 0, 0, 0, 0, 0, 0, 0, 0, 0, 0, 0], [0, 0, 0, 0, 0, 0, 0, 0, 0, 0, 0, 0, 0, 0], [0, 0, 0, 0, 0, 0, 0, 0, 0, 0, 0, 0, 0, 0], [0, 0, 0, 0, 0, 0, 0, 0, 0, 0, 0, 0, 0, 0]]\n",
      "[3, 4, 4, 2, 1, 0, 0, 0, 0, 0, 0, 0, 0, 0]\n",
      "[1, 2, 4, 6, 7, 7, 5, 2]\n",
      "[1, 2, 4, 6, 7, 7, 5, 2]\n",
      "\n",
      "[5, 3, 2, 2, 2]\n",
      "[[3, 1, 1, 0, 0, 0, 0, 0, 0, 0, 0, 0, 0, 0], [3, 1, 1, 0, 0, 0, 0, 0, 0, 0, 0, 0, 0, 0], [2, 0, 0, 0, 0, 0, 0, 0, 0, 0, 0, 0, 0, 0], [1, 0, 0, 0, 0, 0, 0, 0, 0, 0, 0, 0, 0, 0], [1, 0, 0, 0, 0, 0, 0, 0, 0, 0, 0, 0, 0, 0], [0, 0, 0, 0, 0, 0, 0, 0, 0, 0, 0, 0, 0, 0], [0, 0, 0, 0, 0, 0, 0, 0, 0, 0, 0, 0, 0, 0], [0, 0, 0, 0, 0, 0, 0, 0, 0, 0, 0, 0, 0, 0], [0, 0, 0, 0, 0, 0, 0, 0, 0, 0, 0, 0, 0, 0], [0, 0, 0, 0, 0, 0, 0, 0, 0, 0, 0, 0, 0, 0], [0, 0, 0, 0, 0, 0, 0, 0, 0, 0, 0, 0, 0, 0], [0, 0, 0, 0, 0, 0, 0, 0, 0, 0, 0, 0, 0, 0], [0, 0, 0, 0, 0, 0, 0, 0, 0, 0, 0, 0, 0, 0], [0, 0, 0, 0, 0, 0, 0, 0, 0, 0, 0, 0, 0, 0]]\n",
      "[3, 4, 4, 2, 1, 0, 0, 0, 0, 0, 0, 0, 0, 0]\n",
      "[1, 2, 4, 6, 7, 7, 5, 2]\n",
      "[1, 2, 4, 6, 7, 7, 5, 2]\n",
      "\n",
      "[5, 3, 2, 2, 1, 1]\n",
      "[[4, 2, 0, 0, 0, 0, 0, 0, 0, 0, 0, 0, 0, 0], [3, 1, 0, 0, 0, 0, 0, 0, 0, 0, 0, 0, 0, 0], [2, 0, 0, 0, 0, 0, 0, 0, 0, 0, 0, 0, 0, 0], [1, 0, 0, 0, 0, 0, 0, 0, 0, 0, 0, 0, 0, 0], [1, 0, 0, 0, 0, 0, 0, 0, 0, 0, 0, 0, 0, 0], [0, 0, 0, 0, 0, 0, 0, 0, 0, 0, 0, 0, 0, 0], [0, 0, 0, 0, 0, 0, 0, 0, 0, 0, 0, 0, 0, 0], [0, 0, 0, 0, 0, 0, 0, 0, 0, 0, 0, 0, 0, 0], [0, 0, 0, 0, 0, 0, 0, 0, 0, 0, 0, 0, 0, 0], [0, 0, 0, 0, 0, 0, 0, 0, 0, 0, 0, 0, 0, 0], [0, 0, 0, 0, 0, 0, 0, 0, 0, 0, 0, 0, 0, 0], [0, 0, 0, 0, 0, 0, 0, 0, 0, 0, 0, 0, 0, 0], [0, 0, 0, 0, 0, 0, 0, 0, 0, 0, 0, 0, 0, 0], [0, 0, 0, 0, 0, 0, 0, 0, 0, 0, 0, 0, 0, 0]]\n",
      "[4, 5, 3, 1, 1, 0, 0, 0, 0, 0, 0, 0, 0, 0]\n",
      "[1, 3, 7, 11, 14, 14, 10, 4]\n",
      "[1, 3, 7, 11, 14, 14, 10, 4]\n",
      "\n",
      "[5, 3, 2, 1, 1, 1, 1]\n",
      "[[4, 1, 1, 1, 0, 0, 0, 0, 0, 0, 0, 0, 0, 0], [3, 0, 0, 0, 0, 0, 0, 0, 0, 0, 0, 0, 0, 0], [2, 0, 0, 0, 0, 0, 0, 0, 0, 0, 0, 0, 0, 0], [1, 0, 0, 0, 0, 0, 0, 0, 0, 0, 0, 0, 0, 0], [1, 0, 0, 0, 0, 0, 0, 0, 0, 0, 0, 0, 0, 0], [0, 0, 0, 0, 0, 0, 0, 0, 0, 0, 0, 0, 0, 0], [0, 0, 0, 0, 0, 0, 0, 0, 0, 0, 0, 0, 0, 0], [0, 0, 0, 0, 0, 0, 0, 0, 0, 0, 0, 0, 0, 0], [0, 0, 0, 0, 0, 0, 0, 0, 0, 0, 0, 0, 0, 0], [0, 0, 0, 0, 0, 0, 0, 0, 0, 0, 0, 0, 0, 0], [0, 0, 0, 0, 0, 0, 0, 0, 0, 0, 0, 0, 0, 0], [0, 0, 0, 0, 0, 0, 0, 0, 0, 0, 0, 0, 0, 0], [0, 0, 0, 0, 0, 0, 0, 0, 0, 0, 0, 0, 0, 0], [0, 0, 0, 0, 0, 0, 0, 0, 0, 0, 0, 0, 0, 0]]\n",
      "[4, 4, 3, 2, 1, 0, 0, 0, 0, 0, 0, 0, 0, 0]\n",
      "[1, 3, 6, 9, 11, 11, 8, 3]\n",
      "[1, 3, 6, 9, 11, 11, 8, 3]\n",
      "\n",
      "[5, 3, 1, 1, 1, 1, 1, 1]\n",
      "[[3, 1, 1, 1, 1, 1, 0, 0, 0, 0, 0, 0, 0, 0], [2, 0, 0, 0, 0, 0, 0, 0, 0, 0, 0, 0, 0, 0], [2, 0, 0, 0, 0, 0, 0, 0, 0, 0, 0, 0, 0, 0], [1, 0, 0, 0, 0, 0, 0, 0, 0, 0, 0, 0, 0, 0], [1, 0, 0, 0, 0, 0, 0, 0, 0, 0, 0, 0, 0, 0], [0, 0, 0, 0, 0, 0, 0, 0, 0, 0, 0, 0, 0, 0], [0, 0, 0, 0, 0, 0, 0, 0, 0, 0, 0, 0, 0, 0], [0, 0, 0, 0, 0, 0, 0, 0, 0, 0, 0, 0, 0, 0], [0, 0, 0, 0, 0, 0, 0, 0, 0, 0, 0, 0, 0, 0], [0, 0, 0, 0, 0, 0, 0, 0, 0, 0, 0, 0, 0, 0], [0, 0, 0, 0, 0, 0, 0, 0, 0, 0, 0, 0, 0, 0], [0, 0, 0, 0, 0, 0, 0, 0, 0, 0, 0, 0, 0, 0], [0, 0, 0, 0, 0, 0, 0, 0, 0, 0, 0, 0, 0, 0], [0, 0, 0, 0, 0, 0, 0, 0, 0, 0, 0, 0, 0, 0]]\n",
      "[3, 3, 3, 2, 2, 1, 0, 0, 0, 0, 0, 0, 0, 0]\n",
      "[1, 2, 3, 4, 4, 4, 3, 1]\n",
      "[1, 2, 3, 4, 4, 4, 3, 1]\n",
      "\n",
      "[5, 2, 2, 2, 2, 1]\n",
      "[[3, 1, 1, 1, 0, 0, 0, 0, 0, 0, 0, 0, 0, 0], [2, 1, 1, 1, 0, 0, 0, 0, 0, 0, 0, 0, 0, 0], [1, 0, 0, 0, 0, 0, 0, 0, 0, 0, 0, 0, 0, 0], [1, 0, 0, 0, 0, 0, 0, 0, 0, 0, 0, 0, 0, 0], [1, 0, 0, 0, 0, 0, 0, 0, 0, 0, 0, 0, 0, 0], [0, 0, 0, 0, 0, 0, 0, 0, 0, 0, 0, 0, 0, 0], [0, 0, 0, 0, 0, 0, 0, 0, 0, 0, 0, 0, 0, 0], [0, 0, 0, 0, 0, 0, 0, 0, 0, 0, 0, 0, 0, 0], [0, 0, 0, 0, 0, 0, 0, 0, 0, 0, 0, 0, 0, 0], [0, 0, 0, 0, 0, 0, 0, 0, 0, 0, 0, 0, 0, 0], [0, 0, 0, 0, 0, 0, 0, 0, 0, 0, 0, 0, 0, 0], [0, 0, 0, 0, 0, 0, 0, 0, 0, 0, 0, 0, 0, 0], [0, 0, 0, 0, 0, 0, 0, 0, 0, 0, 0, 0, 0, 0], [0, 0, 0, 0, 0, 0, 0, 0, 0, 0, 0, 0, 0, 0]]\n",
      "[3, 3, 3, 3, 2, 0, 0, 0, 0, 0, 0, 0, 0, 0]\n",
      "[1, 2, 3, 4, 5, 5, 3, 1]\n",
      "[1, 2, 3, 4, 5, 5, 3, 1]\n",
      "\n"
     ]
    },
    {
     "name": "stdout",
     "output_type": "stream",
     "text": [
      "[5, 2, 2, 2, 1, 1, 1]\n",
      "[[3, 2, 2, 0, 0, 0, 0, 0, 0, 0, 0, 0, 0, 0], [2, 1, 1, 0, 0, 0, 0, 0, 0, 0, 0, 0, 0, 0], [1, 0, 0, 0, 0, 0, 0, 0, 0, 0, 0, 0, 0, 0], [1, 0, 0, 0, 0, 0, 0, 0, 0, 0, 0, 0, 0, 0], [1, 0, 0, 0, 0, 0, 0, 0, 0, 0, 0, 0, 0, 0], [0, 0, 0, 0, 0, 0, 0, 0, 0, 0, 0, 0, 0, 0], [0, 0, 0, 0, 0, 0, 0, 0, 0, 0, 0, 0, 0, 0], [0, 0, 0, 0, 0, 0, 0, 0, 0, 0, 0, 0, 0, 0], [0, 0, 0, 0, 0, 0, 0, 0, 0, 0, 0, 0, 0, 0], [0, 0, 0, 0, 0, 0, 0, 0, 0, 0, 0, 0, 0, 0], [0, 0, 0, 0, 0, 0, 0, 0, 0, 0, 0, 0, 0, 0], [0, 0, 0, 0, 0, 0, 0, 0, 0, 0, 0, 0, 0, 0], [0, 0, 0, 0, 0, 0, 0, 0, 0, 0, 0, 0, 0, 0], [0, 0, 0, 0, 0, 0, 0, 0, 0, 0, 0, 0, 0, 0]]\n",
      "[3, 4, 4, 2, 1, 0, 0, 0, 0, 0, 0, 0, 0, 0]\n",
      "[1, 2, 4, 6, 7, 7, 5, 2]\n",
      "[1, 2, 4, 6, 7, 7, 5, 2]\n",
      "\n",
      "[5, 2, 2, 1, 1, 1, 1, 1]\n",
      "[[3, 2, 1, 1, 1, 0, 0, 0, 0, 0, 0, 0, 0, 0], [2, 1, 0, 0, 0, 0, 0, 0, 0, 0, 0, 0, 0, 0], [1, 0, 0, 0, 0, 0, 0, 0, 0, 0, 0, 0, 0, 0], [1, 0, 0, 0, 0, 0, 0, 0, 0, 0, 0, 0, 0, 0], [1, 0, 0, 0, 0, 0, 0, 0, 0, 0, 0, 0, 0, 0], [0, 0, 0, 0, 0, 0, 0, 0, 0, 0, 0, 0, 0, 0], [0, 0, 0, 0, 0, 0, 0, 0, 0, 0, 0, 0, 0, 0], [0, 0, 0, 0, 0, 0, 0, 0, 0, 0, 0, 0, 0, 0], [0, 0, 0, 0, 0, 0, 0, 0, 0, 0, 0, 0, 0, 0], [0, 0, 0, 0, 0, 0, 0, 0, 0, 0, 0, 0, 0, 0], [0, 0, 0, 0, 0, 0, 0, 0, 0, 0, 0, 0, 0, 0], [0, 0, 0, 0, 0, 0, 0, 0, 0, 0, 0, 0, 0, 0], [0, 0, 0, 0, 0, 0, 0, 0, 0, 0, 0, 0, 0, 0], [0, 0, 0, 0, 0, 0, 0, 0, 0, 0, 0, 0, 0, 0]]\n",
      "[3, 4, 3, 2, 2, 0, 0, 0, 0, 0, 0, 0, 0, 0]\n",
      "[1, 2, 4, 5, 6, 6, 4, 2]\n",
      "[1, 2, 4, 5, 6, 6, 4, 2]\n",
      "\n",
      "[5, 2, 1, 1, 1, 1, 1, 1, 1]\n",
      "[[3, 1, 1, 1, 1, 1, 1, 0, 0, 0, 0, 0, 0, 0], [2, 0, 0, 0, 0, 0, 0, 0, 0, 0, 0, 0, 0, 0], [1, 0, 0, 0, 0, 0, 0, 0, 0, 0, 0, 0, 0, 0], [1, 0, 0, 0, 0, 0, 0, 0, 0, 0, 0, 0, 0, 0], [1, 0, 0, 0, 0, 0, 0, 0, 0, 0, 0, 0, 0, 0], [0, 0, 0, 0, 0, 0, 0, 0, 0, 0, 0, 0, 0, 0], [0, 0, 0, 0, 0, 0, 0, 0, 0, 0, 0, 0, 0, 0], [0, 0, 0, 0, 0, 0, 0, 0, 0, 0, 0, 0, 0, 0], [0, 0, 0, 0, 0, 0, 0, 0, 0, 0, 0, 0, 0, 0], [0, 0, 0, 0, 0, 0, 0, 0, 0, 0, 0, 0, 0, 0], [0, 0, 0, 0, 0, 0, 0, 0, 0, 0, 0, 0, 0, 0], [0, 0, 0, 0, 0, 0, 0, 0, 0, 0, 0, 0, 0, 0], [0, 0, 0, 0, 0, 0, 0, 0, 0, 0, 0, 0, 0, 0], [0, 0, 0, 0, 0, 0, 0, 0, 0, 0, 0, 0, 0, 0]]\n",
      "[3, 3, 2, 2, 2, 1, 1, 0, 0, 0, 0, 0, 0, 0]\n",
      "[1, 2, 3, 3, 3, 3, 2, 1]\n",
      "[1, 2, 3, 3, 3, 3, 2, 1]\n",
      "\n",
      "[5, 1, 1, 1, 1, 1, 1, 1, 1, 1]\n",
      "[[2, 1, 1, 1, 1, 1, 1, 1, 1, 0, 0, 0, 0, 0], [1, 0, 0, 0, 0, 0, 0, 0, 0, 0, 0, 0, 0, 0], [1, 0, 0, 0, 0, 0, 0, 0, 0, 0, 0, 0, 0, 0], [1, 0, 0, 0, 0, 0, 0, 0, 0, 0, 0, 0, 0, 0], [1, 0, 0, 0, 0, 0, 0, 0, 0, 0, 0, 0, 0, 0], [0, 0, 0, 0, 0, 0, 0, 0, 0, 0, 0, 0, 0, 0], [0, 0, 0, 0, 0, 0, 0, 0, 0, 0, 0, 0, 0, 0], [0, 0, 0, 0, 0, 0, 0, 0, 0, 0, 0, 0, 0, 0], [0, 0, 0, 0, 0, 0, 0, 0, 0, 0, 0, 0, 0, 0], [0, 0, 0, 0, 0, 0, 0, 0, 0, 0, 0, 0, 0, 0], [0, 0, 0, 0, 0, 0, 0, 0, 0, 0, 0, 0, 0, 0], [0, 0, 0, 0, 0, 0, 0, 0, 0, 0, 0, 0, 0, 0], [0, 0, 0, 0, 0, 0, 0, 0, 0, 0, 0, 0, 0, 0], [0, 0, 0, 0, 0, 0, 0, 0, 0, 0, 0, 0, 0, 0]]\n",
      "[2, 2, 2, 2, 2, 1, 1, 1, 1, 0, 0, 0, 0, 0]\n",
      "[1, 1, 1, 1, 1, 1, 0, 0]\n",
      "[1, 1, 1, 1, 1, 1, 0, 0]\n",
      "\n",
      "[4, 4, 4, 2]\n",
      "[[2, 1, 1, 0, 0, 0, 0, 0, 0, 0, 0, 0, 0, 0], [2, 1, 1, 0, 0, 0, 0, 0, 0, 0, 0, 0, 0, 0], [1, 1, 1, 0, 0, 0, 0, 0, 0, 0, 0, 0, 0, 0], [1, 1, 1, 0, 0, 0, 0, 0, 0, 0, 0, 0, 0, 0], [0, 0, 0, 0, 0, 0, 0, 0, 0, 0, 0, 0, 0, 0], [0, 0, 0, 0, 0, 0, 0, 0, 0, 0, 0, 0, 0, 0], [0, 0, 0, 0, 0, 0, 0, 0, 0, 0, 0, 0, 0, 0], [0, 0, 0, 0, 0, 0, 0, 0, 0, 0, 0, 0, 0, 0], [0, 0, 0, 0, 0, 0, 0, 0, 0, 0, 0, 0, 0, 0], [0, 0, 0, 0, 0, 0, 0, 0, 0, 0, 0, 0, 0, 0], [0, 0, 0, 0, 0, 0, 0, 0, 0, 0, 0, 0, 0, 0], [0, 0, 0, 0, 0, 0, 0, 0, 0, 0, 0, 0, 0, 0], [0, 0, 0, 0, 0, 0, 0, 0, 0, 0, 0, 0, 0, 0], [0, 0, 0, 0, 0, 0, 0, 0, 0, 0, 0, 0, 0, 0]]\n",
      "[2, 3, 3, 3, 2, 1, 0, 0, 0, 0, 0, 0, 0, 0]\n",
      "[1, 1, 2, 2, 3, 2, 2, 0]\n",
      "[1, 1, 2, 2, 3, 2, 2, 0]\n",
      "\n",
      "[4, 4, 4, 1, 1]\n",
      "[[2, 2, 1, 0, 0, 0, 0, 0, 0, 0, 0, 0, 0, 0], [1, 1, 1, 0, 0, 0, 0, 0, 0, 0, 0, 0, 0, 0], [1, 1, 1, 0, 0, 0, 0, 0, 0, 0, 0, 0, 0, 0], [1, 1, 1, 0, 0, 0, 0, 0, 0, 0, 0, 0, 0, 0], [0, 0, 0, 0, 0, 0, 0, 0, 0, 0, 0, 0, 0, 0], [0, 0, 0, 0, 0, 0, 0, 0, 0, 0, 0, 0, 0, 0], [0, 0, 0, 0, 0, 0, 0, 0, 0, 0, 0, 0, 0, 0], [0, 0, 0, 0, 0, 0, 0, 0, 0, 0, 0, 0, 0, 0], [0, 0, 0, 0, 0, 0, 0, 0, 0, 0, 0, 0, 0, 0], [0, 0, 0, 0, 0, 0, 0, 0, 0, 0, 0, 0, 0, 0], [0, 0, 0, 0, 0, 0, 0, 0, 0, 0, 0, 0, 0, 0], [0, 0, 0, 0, 0, 0, 0, 0, 0, 0, 0, 0, 0, 0], [0, 0, 0, 0, 0, 0, 0, 0, 0, 0, 0, 0, 0, 0], [0, 0, 0, 0, 0, 0, 0, 0, 0, 0, 0, 0, 0, 0]]\n",
      "[2, 3, 3, 3, 2, 1, 0, 0, 0, 0, 0, 0, 0, 0]\n",
      "[1, 1, 2, 2, 3, 2, 2, 0]\n",
      "[1, 1, 2, 2, 3, 2, 2, 0]\n",
      "\n",
      "[4, 4, 3, 3]\n",
      "[[2, 2, 0, 0, 0, 0, 0, 0, 0, 0, 0, 0, 0, 0], [2, 2, 0, 0, 0, 0, 0, 0, 0, 0, 0, 0, 0, 0], [2, 2, 0, 0, 0, 0, 0, 0, 0, 0, 0, 0, 0, 0], [1, 1, 0, 0, 0, 0, 0, 0, 0, 0, 0, 0, 0, 0], [0, 0, 0, 0, 0, 0, 0, 0, 0, 0, 0, 0, 0, 0], [0, 0, 0, 0, 0, 0, 0, 0, 0, 0, 0, 0, 0, 0], [0, 0, 0, 0, 0, 0, 0, 0, 0, 0, 0, 0, 0, 0], [0, 0, 0, 0, 0, 0, 0, 0, 0, 0, 0, 0, 0, 0], [0, 0, 0, 0, 0, 0, 0, 0, 0, 0, 0, 0, 0, 0], [0, 0, 0, 0, 0, 0, 0, 0, 0, 0, 0, 0, 0, 0], [0, 0, 0, 0, 0, 0, 0, 0, 0, 0, 0, 0, 0, 0], [0, 0, 0, 0, 0, 0, 0, 0, 0, 0, 0, 0, 0, 0], [0, 0, 0, 0, 0, 0, 0, 0, 0, 0, 0, 0, 0, 0], [0, 0, 0, 0, 0, 0, 0, 0, 0, 0, 0, 0, 0, 0]]\n",
      "[2, 4, 4, 3, 1, 0, 0, 0, 0, 0, 0, 0, 0, 0]\n",
      "[1, 1, 3, 3, 5, 3, 4, 0]\n",
      "[1, 1, 3, 3, 5, 3, 4, 0]\n",
      "\n",
      "[4, 4, 3, 2, 1]\n",
      "[[4, 1, 0, 0, 0, 0, 0, 0, 0, 0, 0, 0, 0, 0], [3, 1, 0, 0, 0, 0, 0, 0, 0, 0, 0, 0, 0, 0], [2, 1, 0, 0, 0, 0, 0, 0, 0, 0, 0, 0, 0, 0], [1, 1, 0, 0, 0, 0, 0, 0, 0, 0, 0, 0, 0, 0], [0, 0, 0, 0, 0, 0, 0, 0, 0, 0, 0, 0, 0, 0], [0, 0, 0, 0, 0, 0, 0, 0, 0, 0, 0, 0, 0, 0], [0, 0, 0, 0, 0, 0, 0, 0, 0, 0, 0, 0, 0, 0], [0, 0, 0, 0, 0, 0, 0, 0, 0, 0, 0, 0, 0, 0], [0, 0, 0, 0, 0, 0, 0, 0, 0, 0, 0, 0, 0, 0], [0, 0, 0, 0, 0, 0, 0, 0, 0, 0, 0, 0, 0, 0], [0, 0, 0, 0, 0, 0, 0, 0, 0, 0, 0, 0, 0, 0], [0, 0, 0, 0, 0, 0, 0, 0, 0, 0, 0, 0, 0, 0], [0, 0, 0, 0, 0, 0, 0, 0, 0, 0, 0, 0, 0, 0], [0, 0, 0, 0, 0, 0, 0, 0, 0, 0, 0, 0, 0, 0]]\n",
      "[4, 4, 3, 2, 1, 0, 0, 0, 0, 0, 0, 0, 0, 0]\n",
      "[1, 3, 6, 9, 11, 11, 8, 3]\n",
      "[1, 3, 6, 9, 11, 11, 8, 3]\n",
      "\n",
      "[4, 4, 3, 1, 1, 1]\n",
      "[[3, 2, 1, 0, 0, 0, 0, 0, 0, 0, 0, 0, 0, 0], [2, 1, 0, 0, 0, 0, 0, 0, 0, 0, 0, 0, 0, 0], [2, 1, 0, 0, 0, 0, 0, 0, 0, 0, 0, 0, 0, 0], [1, 1, 0, 0, 0, 0, 0, 0, 0, 0, 0, 0, 0, 0], [0, 0, 0, 0, 0, 0, 0, 0, 0, 0, 0, 0, 0, 0], [0, 0, 0, 0, 0, 0, 0, 0, 0, 0, 0, 0, 0, 0], [0, 0, 0, 0, 0, 0, 0, 0, 0, 0, 0, 0, 0, 0], [0, 0, 0, 0, 0, 0, 0, 0, 0, 0, 0, 0, 0, 0], [0, 0, 0, 0, 0, 0, 0, 0, 0, 0, 0, 0, 0, 0], [0, 0, 0, 0, 0, 0, 0, 0, 0, 0, 0, 0, 0, 0], [0, 0, 0, 0, 0, 0, 0, 0, 0, 0, 0, 0, 0, 0], [0, 0, 0, 0, 0, 0, 0, 0, 0, 0, 0, 0, 0, 0], [0, 0, 0, 0, 0, 0, 0, 0, 0, 0, 0, 0, 0, 0], [0, 0, 0, 0, 0, 0, 0, 0, 0, 0, 0, 0, 0, 0]]\n",
      "[3, 4, 4, 2, 1, 0, 0, 0, 0, 0, 0, 0, 0, 0]\n",
      "[1, 2, 4, 6, 7, 7, 5, 2]\n",
      "[1, 2, 4, 6, 7, 7, 5, 2]\n",
      "\n",
      "[4, 4, 2, 2, 2]\n",
      "[[2, 2, 1, 0, 0, 0, 0, 0, 0, 0, 0, 0, 0, 0], [2, 2, 1, 0, 0, 0, 0, 0, 0, 0, 0, 0, 0, 0], [1, 1, 0, 0, 0, 0, 0, 0, 0, 0, 0, 0, 0, 0], [1, 1, 0, 0, 0, 0, 0, 0, 0, 0, 0, 0, 0, 0], [0, 0, 0, 0, 0, 0, 0, 0, 0, 0, 0, 0, 0, 0], [0, 0, 0, 0, 0, 0, 0, 0, 0, 0, 0, 0, 0, 0], [0, 0, 0, 0, 0, 0, 0, 0, 0, 0, 0, 0, 0, 0], [0, 0, 0, 0, 0, 0, 0, 0, 0, 0, 0, 0, 0, 0], [0, 0, 0, 0, 0, 0, 0, 0, 0, 0, 0, 0, 0, 0], [0, 0, 0, 0, 0, 0, 0, 0, 0, 0, 0, 0, 0, 0], [0, 0, 0, 0, 0, 0, 0, 0, 0, 0, 0, 0, 0, 0], [0, 0, 0, 0, 0, 0, 0, 0, 0, 0, 0, 0, 0, 0], [0, 0, 0, 0, 0, 0, 0, 0, 0, 0, 0, 0, 0, 0], [0, 0, 0, 0, 0, 0, 0, 0, 0, 0, 0, 0, 0, 0]]\n",
      "[2, 4, 4, 3, 1, 0, 0, 0, 0, 0, 0, 0, 0, 0]\n",
      "[1, 1, 3, 3, 5, 3, 4, 0]\n",
      "[1, 1, 3, 3, 5, 3, 4, 0]\n",
      "\n",
      "[4, 4, 2, 2, 1, 1]\n",
      "[[3, 3, 0, 0, 0, 0, 0, 0, 0, 0, 0, 0, 0, 0], [2, 2, 0, 0, 0, 0, 0, 0, 0, 0, 0, 0, 0, 0], [1, 1, 0, 0, 0, 0, 0, 0, 0, 0, 0, 0, 0, 0], [1, 1, 0, 0, 0, 0, 0, 0, 0, 0, 0, 0, 0, 0], [0, 0, 0, 0, 0, 0, 0, 0, 0, 0, 0, 0, 0, 0], [0, 0, 0, 0, 0, 0, 0, 0, 0, 0, 0, 0, 0, 0], [0, 0, 0, 0, 0, 0, 0, 0, 0, 0, 0, 0, 0, 0], [0, 0, 0, 0, 0, 0, 0, 0, 0, 0, 0, 0, 0, 0], [0, 0, 0, 0, 0, 0, 0, 0, 0, 0, 0, 0, 0, 0], [0, 0, 0, 0, 0, 0, 0, 0, 0, 0, 0, 0, 0, 0], [0, 0, 0, 0, 0, 0, 0, 0, 0, 0, 0, 0, 0, 0], [0, 0, 0, 0, 0, 0, 0, 0, 0, 0, 0, 0, 0, 0], [0, 0, 0, 0, 0, 0, 0, 0, 0, 0, 0, 0, 0, 0], [0, 0, 0, 0, 0, 0, 0, 0, 0, 0, 0, 0, 0, 0]]\n",
      "[3, 5, 3, 2, 1, 0, 0, 0, 0, 0, 0, 0, 0, 0]\n",
      "[1, 2, 5, 6, 9, 7, 7, 1]\n",
      "[1, 2, 5, 6, 9, 7, 7, 1]\n",
      "\n",
      "[4, 4, 2, 1, 1, 1, 1]\n",
      "[[3, 2, 1, 1, 0, 0, 0, 0, 0, 0, 0, 0, 0, 0], [2, 1, 0, 0, 0, 0, 0, 0, 0, 0, 0, 0, 0, 0], [1, 1, 0, 0, 0, 0, 0, 0, 0, 0, 0, 0, 0, 0], [1, 1, 0, 0, 0, 0, 0, 0, 0, 0, 0, 0, 0, 0], [0, 0, 0, 0, 0, 0, 0, 0, 0, 0, 0, 0, 0, 0], [0, 0, 0, 0, 0, 0, 0, 0, 0, 0, 0, 0, 0, 0], [0, 0, 0, 0, 0, 0, 0, 0, 0, 0, 0, 0, 0, 0], [0, 0, 0, 0, 0, 0, 0, 0, 0, 0, 0, 0, 0, 0], [0, 0, 0, 0, 0, 0, 0, 0, 0, 0, 0, 0, 0, 0], [0, 0, 0, 0, 0, 0, 0, 0, 0, 0, 0, 0, 0, 0], [0, 0, 0, 0, 0, 0, 0, 0, 0, 0, 0, 0, 0, 0], [0, 0, 0, 0, 0, 0, 0, 0, 0, 0, 0, 0, 0, 0], [0, 0, 0, 0, 0, 0, 0, 0, 0, 0, 0, 0, 0, 0], [0, 0, 0, 0, 0, 0, 0, 0, 0, 0, 0, 0, 0, 0]]\n",
      "[3, 4, 3, 3, 1, 0, 0, 0, 0, 0, 0, 0, 0, 0]\n",
      "[1, 2, 4, 5, 7, 6, 5, 1]\n",
      "[1, 2, 4, 5, 7, 6, 5, 1]\n",
      "\n"
     ]
    },
    {
     "name": "stdout",
     "output_type": "stream",
     "text": [
      "[4, 4, 1, 1, 1, 1, 1, 1]\n",
      "[[2, 2, 1, 1, 1, 1, 0, 0, 0, 0, 0, 0, 0, 0], [1, 1, 0, 0, 0, 0, 0, 0, 0, 0, 0, 0, 0, 0], [1, 1, 0, 0, 0, 0, 0, 0, 0, 0, 0, 0, 0, 0], [1, 1, 0, 0, 0, 0, 0, 0, 0, 0, 0, 0, 0, 0], [0, 0, 0, 0, 0, 0, 0, 0, 0, 0, 0, 0, 0, 0], [0, 0, 0, 0, 0, 0, 0, 0, 0, 0, 0, 0, 0, 0], [0, 0, 0, 0, 0, 0, 0, 0, 0, 0, 0, 0, 0, 0], [0, 0, 0, 0, 0, 0, 0, 0, 0, 0, 0, 0, 0, 0], [0, 0, 0, 0, 0, 0, 0, 0, 0, 0, 0, 0, 0, 0], [0, 0, 0, 0, 0, 0, 0, 0, 0, 0, 0, 0, 0, 0], [0, 0, 0, 0, 0, 0, 0, 0, 0, 0, 0, 0, 0, 0], [0, 0, 0, 0, 0, 0, 0, 0, 0, 0, 0, 0, 0, 0], [0, 0, 0, 0, 0, 0, 0, 0, 0, 0, 0, 0, 0, 0], [0, 0, 0, 0, 0, 0, 0, 0, 0, 0, 0, 0, 0, 0]]\n",
      "[2, 3, 3, 3, 2, 1, 0, 0, 0, 0, 0, 0, 0, 0]\n",
      "[1, 1, 2, 2, 3, 2, 2, 0]\n",
      "[1, 1, 2, 2, 3, 2, 2, 0]\n",
      "\n",
      "[4, 3, 3, 3, 1]\n",
      "[[3, 1, 1, 0, 0, 0, 0, 0, 0, 0, 0, 0, 0, 0], [2, 1, 1, 0, 0, 0, 0, 0, 0, 0, 0, 0, 0, 0], [2, 1, 1, 0, 0, 0, 0, 0, 0, 0, 0, 0, 0, 0], [1, 0, 0, 0, 0, 0, 0, 0, 0, 0, 0, 0, 0, 0], [0, 0, 0, 0, 0, 0, 0, 0, 0, 0, 0, 0, 0, 0], [0, 0, 0, 0, 0, 0, 0, 0, 0, 0, 0, 0, 0, 0], [0, 0, 0, 0, 0, 0, 0, 0, 0, 0, 0, 0, 0, 0], [0, 0, 0, 0, 0, 0, 0, 0, 0, 0, 0, 0, 0, 0], [0, 0, 0, 0, 0, 0, 0, 0, 0, 0, 0, 0, 0, 0], [0, 0, 0, 0, 0, 0, 0, 0, 0, 0, 0, 0, 0, 0], [0, 0, 0, 0, 0, 0, 0, 0, 0, 0, 0, 0, 0, 0], [0, 0, 0, 0, 0, 0, 0, 0, 0, 0, 0, 0, 0, 0], [0, 0, 0, 0, 0, 0, 0, 0, 0, 0, 0, 0, 0, 0], [0, 0, 0, 0, 0, 0, 0, 0, 0, 0, 0, 0, 0, 0]]\n",
      "[3, 3, 4, 3, 1, 0, 0, 0, 0, 0, 0, 0, 0, 0]\n",
      "[1, 2, 3, 5, 6, 5, 4, 2]\n",
      "[1, 2, 3, 5, 6, 5, 4, 2]\n",
      "\n",
      "[4, 3, 3, 2, 2]\n",
      "[[3, 2, 0, 0, 0, 0, 0, 0, 0, 0, 0, 0, 0, 0], [3, 2, 0, 0, 0, 0, 0, 0, 0, 0, 0, 0, 0, 0], [2, 1, 0, 0, 0, 0, 0, 0, 0, 0, 0, 0, 0, 0], [1, 0, 0, 0, 0, 0, 0, 0, 0, 0, 0, 0, 0, 0], [0, 0, 0, 0, 0, 0, 0, 0, 0, 0, 0, 0, 0, 0], [0, 0, 0, 0, 0, 0, 0, 0, 0, 0, 0, 0, 0, 0], [0, 0, 0, 0, 0, 0, 0, 0, 0, 0, 0, 0, 0, 0], [0, 0, 0, 0, 0, 0, 0, 0, 0, 0, 0, 0, 0, 0], [0, 0, 0, 0, 0, 0, 0, 0, 0, 0, 0, 0, 0, 0], [0, 0, 0, 0, 0, 0, 0, 0, 0, 0, 0, 0, 0, 0], [0, 0, 0, 0, 0, 0, 0, 0, 0, 0, 0, 0, 0, 0], [0, 0, 0, 0, 0, 0, 0, 0, 0, 0, 0, 0, 0, 0], [0, 0, 0, 0, 0, 0, 0, 0, 0, 0, 0, 0, 0, 0], [0, 0, 0, 0, 0, 0, 0, 0, 0, 0, 0, 0, 0, 0]]\n",
      "[3, 5, 4, 2, 0, 0, 0, 0, 0, 0, 0, 0, 0, 0]\n",
      "[1, 2, 5, 7, 10, 9, 8, 2]\n",
      "[1, 2, 5, 7, 10, 9, 8, 2]\n",
      "\n",
      "[4, 3, 3, 2, 1, 1]\n",
      "[[4, 2, 0, 0, 0, 0, 0, 0, 0, 0, 0, 0, 0, 0], [3, 1, 0, 0, 0, 0, 0, 0, 0, 0, 0, 0, 0, 0], [2, 1, 0, 0, 0, 0, 0, 0, 0, 0, 0, 0, 0, 0], [1, 0, 0, 0, 0, 0, 0, 0, 0, 0, 0, 0, 0, 0], [0, 0, 0, 0, 0, 0, 0, 0, 0, 0, 0, 0, 0, 0], [0, 0, 0, 0, 0, 0, 0, 0, 0, 0, 0, 0, 0, 0], [0, 0, 0, 0, 0, 0, 0, 0, 0, 0, 0, 0, 0, 0], [0, 0, 0, 0, 0, 0, 0, 0, 0, 0, 0, 0, 0, 0], [0, 0, 0, 0, 0, 0, 0, 0, 0, 0, 0, 0, 0, 0], [0, 0, 0, 0, 0, 0, 0, 0, 0, 0, 0, 0, 0, 0], [0, 0, 0, 0, 0, 0, 0, 0, 0, 0, 0, 0, 0, 0], [0, 0, 0, 0, 0, 0, 0, 0, 0, 0, 0, 0, 0, 0], [0, 0, 0, 0, 0, 0, 0, 0, 0, 0, 0, 0, 0, 0], [0, 0, 0, 0, 0, 0, 0, 0, 0, 0, 0, 0, 0, 0]]\n",
      "[4, 5, 3, 2, 0, 0, 0, 0, 0, 0, 0, 0, 0, 0]\n",
      "[1, 3, 7, 11, 15, 15, 12, 4]\n",
      "[1, 3, 7, 11, 15, 15, 12, 4]\n",
      "\n",
      "[4, 3, 3, 1, 1, 1, 1]\n",
      "[[3, 2, 1, 1, 0, 0, 0, 0, 0, 0, 0, 0, 0, 0], [2, 1, 0, 0, 0, 0, 0, 0, 0, 0, 0, 0, 0, 0], [2, 1, 0, 0, 0, 0, 0, 0, 0, 0, 0, 0, 0, 0], [1, 0, 0, 0, 0, 0, 0, 0, 0, 0, 0, 0, 0, 0], [0, 0, 0, 0, 0, 0, 0, 0, 0, 0, 0, 0, 0, 0], [0, 0, 0, 0, 0, 0, 0, 0, 0, 0, 0, 0, 0, 0], [0, 0, 0, 0, 0, 0, 0, 0, 0, 0, 0, 0, 0, 0], [0, 0, 0, 0, 0, 0, 0, 0, 0, 0, 0, 0, 0, 0], [0, 0, 0, 0, 0, 0, 0, 0, 0, 0, 0, 0, 0, 0], [0, 0, 0, 0, 0, 0, 0, 0, 0, 0, 0, 0, 0, 0], [0, 0, 0, 0, 0, 0, 0, 0, 0, 0, 0, 0, 0, 0], [0, 0, 0, 0, 0, 0, 0, 0, 0, 0, 0, 0, 0, 0], [0, 0, 0, 0, 0, 0, 0, 0, 0, 0, 0, 0, 0, 0], [0, 0, 0, 0, 0, 0, 0, 0, 0, 0, 0, 0, 0, 0]]\n",
      "[3, 4, 4, 3, 0, 0, 0, 0, 0, 0, 0, 0, 0, 0]\n",
      "[1, 2, 4, 6, 8, 7, 6, 2]\n",
      "[1, 2, 4, 6, 8, 7, 6, 2]\n",
      "\n",
      "[4, 3, 2, 2, 2, 1]\n",
      "[[4, 1, 1, 0, 0, 0, 0, 0, 0, 0, 0, 0, 0, 0], [3, 1, 1, 0, 0, 0, 0, 0, 0, 0, 0, 0, 0, 0], [2, 0, 0, 0, 0, 0, 0, 0, 0, 0, 0, 0, 0, 0], [1, 0, 0, 0, 0, 0, 0, 0, 0, 0, 0, 0, 0, 0], [0, 0, 0, 0, 0, 0, 0, 0, 0, 0, 0, 0, 0, 0], [0, 0, 0, 0, 0, 0, 0, 0, 0, 0, 0, 0, 0, 0], [0, 0, 0, 0, 0, 0, 0, 0, 0, 0, 0, 0, 0, 0], [0, 0, 0, 0, 0, 0, 0, 0, 0, 0, 0, 0, 0, 0], [0, 0, 0, 0, 0, 0, 0, 0, 0, 0, 0, 0, 0, 0], [0, 0, 0, 0, 0, 0, 0, 0, 0, 0, 0, 0, 0, 0], [0, 0, 0, 0, 0, 0, 0, 0, 0, 0, 0, 0, 0, 0], [0, 0, 0, 0, 0, 0, 0, 0, 0, 0, 0, 0, 0, 0], [0, 0, 0, 0, 0, 0, 0, 0, 0, 0, 0, 0, 0, 0], [0, 0, 0, 0, 0, 0, 0, 0, 0, 0, 0, 0, 0, 0]]\n",
      "[4, 4, 4, 2, 0, 0, 0, 0, 0, 0, 0, 0, 0, 0]\n",
      "[1, 3, 6, 10, 13, 13, 10, 4]\n",
      "[1, 3, 6, 10, 13, 13, 10, 4]\n",
      "\n",
      "[4, 3, 2, 2, 1, 1, 1]\n",
      "[[4, 2, 1, 0, 0, 0, 0, 0, 0, 0, 0, 0, 0, 0], [3, 1, 0, 0, 0, 0, 0, 0, 0, 0, 0, 0, 0, 0], [2, 0, 0, 0, 0, 0, 0, 0, 0, 0, 0, 0, 0, 0], [1, 0, 0, 0, 0, 0, 0, 0, 0, 0, 0, 0, 0, 0], [0, 0, 0, 0, 0, 0, 0, 0, 0, 0, 0, 0, 0, 0], [0, 0, 0, 0, 0, 0, 0, 0, 0, 0, 0, 0, 0, 0], [0, 0, 0, 0, 0, 0, 0, 0, 0, 0, 0, 0, 0, 0], [0, 0, 0, 0, 0, 0, 0, 0, 0, 0, 0, 0, 0, 0], [0, 0, 0, 0, 0, 0, 0, 0, 0, 0, 0, 0, 0, 0], [0, 0, 0, 0, 0, 0, 0, 0, 0, 0, 0, 0, 0, 0], [0, 0, 0, 0, 0, 0, 0, 0, 0, 0, 0, 0, 0, 0], [0, 0, 0, 0, 0, 0, 0, 0, 0, 0, 0, 0, 0, 0], [0, 0, 0, 0, 0, 0, 0, 0, 0, 0, 0, 0, 0, 0], [0, 0, 0, 0, 0, 0, 0, 0, 0, 0, 0, 0, 0, 0]]\n",
      "[4, 5, 4, 1, 0, 0, 0, 0, 0, 0, 0, 0, 0, 0]\n",
      "[1, 3, 7, 12, 16, 17, 13, 5]\n",
      "[1, 3, 7, 12, 16, 17, 13, 5]\n",
      "\n",
      "[4, 3, 2, 1, 1, 1, 1, 1]\n",
      "[[4, 1, 1, 1, 1, 0, 0, 0, 0, 0, 0, 0, 0, 0], [3, 0, 0, 0, 0, 0, 0, 0, 0, 0, 0, 0, 0, 0], [2, 0, 0, 0, 0, 0, 0, 0, 0, 0, 0, 0, 0, 0], [1, 0, 0, 0, 0, 0, 0, 0, 0, 0, 0, 0, 0, 0], [0, 0, 0, 0, 0, 0, 0, 0, 0, 0, 0, 0, 0, 0], [0, 0, 0, 0, 0, 0, 0, 0, 0, 0, 0, 0, 0, 0], [0, 0, 0, 0, 0, 0, 0, 0, 0, 0, 0, 0, 0, 0], [0, 0, 0, 0, 0, 0, 0, 0, 0, 0, 0, 0, 0, 0], [0, 0, 0, 0, 0, 0, 0, 0, 0, 0, 0, 0, 0, 0], [0, 0, 0, 0, 0, 0, 0, 0, 0, 0, 0, 0, 0, 0], [0, 0, 0, 0, 0, 0, 0, 0, 0, 0, 0, 0, 0, 0], [0, 0, 0, 0, 0, 0, 0, 0, 0, 0, 0, 0, 0, 0], [0, 0, 0, 0, 0, 0, 0, 0, 0, 0, 0, 0, 0, 0], [0, 0, 0, 0, 0, 0, 0, 0, 0, 0, 0, 0, 0, 0]]\n",
      "[4, 4, 3, 2, 1, 0, 0, 0, 0, 0, 0, 0, 0, 0]\n",
      "[1, 3, 6, 9, 11, 11, 8, 3]\n",
      "[1, 3, 6, 9, 11, 11, 8, 3]\n",
      "\n",
      "[4, 3, 1, 1, 1, 1, 1, 1, 1]\n",
      "[[3, 1, 1, 1, 1, 1, 1, 0, 0, 0, 0, 0, 0, 0], [2, 0, 0, 0, 0, 0, 0, 0, 0, 0, 0, 0, 0, 0], [2, 0, 0, 0, 0, 0, 0, 0, 0, 0, 0, 0, 0, 0], [1, 0, 0, 0, 0, 0, 0, 0, 0, 0, 0, 0, 0, 0], [0, 0, 0, 0, 0, 0, 0, 0, 0, 0, 0, 0, 0, 0], [0, 0, 0, 0, 0, 0, 0, 0, 0, 0, 0, 0, 0, 0], [0, 0, 0, 0, 0, 0, 0, 0, 0, 0, 0, 0, 0, 0], [0, 0, 0, 0, 0, 0, 0, 0, 0, 0, 0, 0, 0, 0], [0, 0, 0, 0, 0, 0, 0, 0, 0, 0, 0, 0, 0, 0], [0, 0, 0, 0, 0, 0, 0, 0, 0, 0, 0, 0, 0, 0], [0, 0, 0, 0, 0, 0, 0, 0, 0, 0, 0, 0, 0, 0], [0, 0, 0, 0, 0, 0, 0, 0, 0, 0, 0, 0, 0, 0], [0, 0, 0, 0, 0, 0, 0, 0, 0, 0, 0, 0, 0, 0], [0, 0, 0, 0, 0, 0, 0, 0, 0, 0, 0, 0, 0, 0]]\n",
      "[3, 3, 3, 2, 1, 1, 1, 0, 0, 0, 0, 0, 0, 0]\n",
      "[1, 2, 3, 4, 4, 3, 2, 1]\n",
      "[1, 2, 3, 4, 4, 3, 2, 1]\n",
      "\n",
      "[4, 2, 2, 2, 2, 2]\n",
      "[[2, 1, 1, 1, 1, 0, 0, 0, 0, 0, 0, 0, 0, 0], [2, 1, 1, 1, 1, 0, 0, 0, 0, 0, 0, 0, 0, 0], [1, 0, 0, 0, 0, 0, 0, 0, 0, 0, 0, 0, 0, 0], [1, 0, 0, 0, 0, 0, 0, 0, 0, 0, 0, 0, 0, 0], [0, 0, 0, 0, 0, 0, 0, 0, 0, 0, 0, 0, 0, 0], [0, 0, 0, 0, 0, 0, 0, 0, 0, 0, 0, 0, 0, 0], [0, 0, 0, 0, 0, 0, 0, 0, 0, 0, 0, 0, 0, 0], [0, 0, 0, 0, 0, 0, 0, 0, 0, 0, 0, 0, 0, 0], [0, 0, 0, 0, 0, 0, 0, 0, 0, 0, 0, 0, 0, 0], [0, 0, 0, 0, 0, 0, 0, 0, 0, 0, 0, 0, 0, 0], [0, 0, 0, 0, 0, 0, 0, 0, 0, 0, 0, 0, 0, 0], [0, 0, 0, 0, 0, 0, 0, 0, 0, 0, 0, 0, 0, 0], [0, 0, 0, 0, 0, 0, 0, 0, 0, 0, 0, 0, 0, 0], [0, 0, 0, 0, 0, 0, 0, 0, 0, 0, 0, 0, 0, 0]]\n",
      "[2, 3, 3, 3, 2, 1, 0, 0, 0, 0, 0, 0, 0, 0]\n",
      "[1, 1, 2, 2, 3, 2, 2, 0]\n",
      "[1, 1, 2, 2, 3, 2, 2, 0]\n",
      "\n",
      "[4, 2, 2, 2, 2, 1, 1]\n",
      "[[3, 2, 1, 1, 0, 0, 0, 0, 0, 0, 0, 0, 0, 0], [2, 1, 1, 1, 0, 0, 0, 0, 0, 0, 0, 0, 0, 0], [1, 0, 0, 0, 0, 0, 0, 0, 0, 0, 0, 0, 0, 0], [1, 0, 0, 0, 0, 0, 0, 0, 0, 0, 0, 0, 0, 0], [0, 0, 0, 0, 0, 0, 0, 0, 0, 0, 0, 0, 0, 0], [0, 0, 0, 0, 0, 0, 0, 0, 0, 0, 0, 0, 0, 0], [0, 0, 0, 0, 0, 0, 0, 0, 0, 0, 0, 0, 0, 0], [0, 0, 0, 0, 0, 0, 0, 0, 0, 0, 0, 0, 0, 0], [0, 0, 0, 0, 0, 0, 0, 0, 0, 0, 0, 0, 0, 0], [0, 0, 0, 0, 0, 0, 0, 0, 0, 0, 0, 0, 0, 0], [0, 0, 0, 0, 0, 0, 0, 0, 0, 0, 0, 0, 0, 0], [0, 0, 0, 0, 0, 0, 0, 0, 0, 0, 0, 0, 0, 0], [0, 0, 0, 0, 0, 0, 0, 0, 0, 0, 0, 0, 0, 0], [0, 0, 0, 0, 0, 0, 0, 0, 0, 0, 0, 0, 0, 0]]\n",
      "[3, 4, 3, 3, 1, 0, 0, 0, 0, 0, 0, 0, 0, 0]\n",
      "[1, 2, 4, 5, 7, 6, 5, 1]\n",
      "[1, 2, 4, 5, 7, 6, 5, 1]\n",
      "\n",
      "[4, 2, 2, 2, 1, 1, 1, 1]\n",
      "[[3, 2, 2, 1, 0, 0, 0, 0, 0, 0, 0, 0, 0, 0], [2, 1, 1, 0, 0, 0, 0, 0, 0, 0, 0, 0, 0, 0], [1, 0, 0, 0, 0, 0, 0, 0, 0, 0, 0, 0, 0, 0], [1, 0, 0, 0, 0, 0, 0, 0, 0, 0, 0, 0, 0, 0], [0, 0, 0, 0, 0, 0, 0, 0, 0, 0, 0, 0, 0, 0], [0, 0, 0, 0, 0, 0, 0, 0, 0, 0, 0, 0, 0, 0], [0, 0, 0, 0, 0, 0, 0, 0, 0, 0, 0, 0, 0, 0], [0, 0, 0, 0, 0, 0, 0, 0, 0, 0, 0, 0, 0, 0], [0, 0, 0, 0, 0, 0, 0, 0, 0, 0, 0, 0, 0, 0], [0, 0, 0, 0, 0, 0, 0, 0, 0, 0, 0, 0, 0, 0], [0, 0, 0, 0, 0, 0, 0, 0, 0, 0, 0, 0, 0, 0], [0, 0, 0, 0, 0, 0, 0, 0, 0, 0, 0, 0, 0, 0], [0, 0, 0, 0, 0, 0, 0, 0, 0, 0, 0, 0, 0, 0], [0, 0, 0, 0, 0, 0, 0, 0, 0, 0, 0, 0, 0, 0]]\n",
      "[3, 4, 4, 3, 0, 0, 0, 0, 0, 0, 0, 0, 0, 0]\n",
      "[1, 2, 4, 6, 8, 7, 6, 2]\n",
      "[1, 2, 4, 6, 8, 7, 6, 2]\n",
      "\n"
     ]
    },
    {
     "name": "stdout",
     "output_type": "stream",
     "text": [
      "[4, 2, 2, 1, 1, 1, 1, 1, 1]\n",
      "[[3, 2, 1, 1, 1, 1, 0, 0, 0, 0, 0, 0, 0, 0], [2, 1, 0, 0, 0, 0, 0, 0, 0, 0, 0, 0, 0, 0], [1, 0, 0, 0, 0, 0, 0, 0, 0, 0, 0, 0, 0, 0], [1, 0, 0, 0, 0, 0, 0, 0, 0, 0, 0, 0, 0, 0], [0, 0, 0, 0, 0, 0, 0, 0, 0, 0, 0, 0, 0, 0], [0, 0, 0, 0, 0, 0, 0, 0, 0, 0, 0, 0, 0, 0], [0, 0, 0, 0, 0, 0, 0, 0, 0, 0, 0, 0, 0, 0], [0, 0, 0, 0, 0, 0, 0, 0, 0, 0, 0, 0, 0, 0], [0, 0, 0, 0, 0, 0, 0, 0, 0, 0, 0, 0, 0, 0], [0, 0, 0, 0, 0, 0, 0, 0, 0, 0, 0, 0, 0, 0], [0, 0, 0, 0, 0, 0, 0, 0, 0, 0, 0, 0, 0, 0], [0, 0, 0, 0, 0, 0, 0, 0, 0, 0, 0, 0, 0, 0], [0, 0, 0, 0, 0, 0, 0, 0, 0, 0, 0, 0, 0, 0], [0, 0, 0, 0, 0, 0, 0, 0, 0, 0, 0, 0, 0, 0]]\n",
      "[3, 4, 3, 2, 1, 1, 0, 0, 0, 0, 0, 0, 0, 0]\n",
      "[1, 2, 4, 5, 6, 5, 4, 1]\n",
      "[1, 2, 4, 5, 6, 5, 4, 1]\n",
      "\n",
      "[4, 2, 1, 1, 1, 1, 1, 1, 1, 1]\n",
      "[[3, 1, 1, 1, 1, 1, 1, 1, 0, 0, 0, 0, 0, 0], [2, 0, 0, 0, 0, 0, 0, 0, 0, 0, 0, 0, 0, 0], [1, 0, 0, 0, 0, 0, 0, 0, 0, 0, 0, 0, 0, 0], [1, 0, 0, 0, 0, 0, 0, 0, 0, 0, 0, 0, 0, 0], [0, 0, 0, 0, 0, 0, 0, 0, 0, 0, 0, 0, 0, 0], [0, 0, 0, 0, 0, 0, 0, 0, 0, 0, 0, 0, 0, 0], [0, 0, 0, 0, 0, 0, 0, 0, 0, 0, 0, 0, 0, 0], [0, 0, 0, 0, 0, 0, 0, 0, 0, 0, 0, 0, 0, 0], [0, 0, 0, 0, 0, 0, 0, 0, 0, 0, 0, 0, 0, 0], [0, 0, 0, 0, 0, 0, 0, 0, 0, 0, 0, 0, 0, 0], [0, 0, 0, 0, 0, 0, 0, 0, 0, 0, 0, 0, 0, 0], [0, 0, 0, 0, 0, 0, 0, 0, 0, 0, 0, 0, 0, 0], [0, 0, 0, 0, 0, 0, 0, 0, 0, 0, 0, 0, 0, 0], [0, 0, 0, 0, 0, 0, 0, 0, 0, 0, 0, 0, 0, 0]]\n",
      "[3, 3, 2, 2, 1, 1, 1, 1, 0, 0, 0, 0, 0, 0]\n",
      "[1, 2, 3, 3, 3, 2, 1, 0]\n",
      "[1, 2, 3, 3, 3, 2, 1, 0]\n",
      "\n",
      "[4, 1, 1, 1, 1, 1, 1, 1, 1, 1, 1]\n",
      "[[2, 1, 1, 1, 1, 1, 1, 1, 1, 1, 0, 0, 0, 0], [1, 0, 0, 0, 0, 0, 0, 0, 0, 0, 0, 0, 0, 0], [1, 0, 0, 0, 0, 0, 0, 0, 0, 0, 0, 0, 0, 0], [1, 0, 0, 0, 0, 0, 0, 0, 0, 0, 0, 0, 0, 0], [0, 0, 0, 0, 0, 0, 0, 0, 0, 0, 0, 0, 0, 0], [0, 0, 0, 0, 0, 0, 0, 0, 0, 0, 0, 0, 0, 0], [0, 0, 0, 0, 0, 0, 0, 0, 0, 0, 0, 0, 0, 0], [0, 0, 0, 0, 0, 0, 0, 0, 0, 0, 0, 0, 0, 0], [0, 0, 0, 0, 0, 0, 0, 0, 0, 0, 0, 0, 0, 0], [0, 0, 0, 0, 0, 0, 0, 0, 0, 0, 0, 0, 0, 0], [0, 0, 0, 0, 0, 0, 0, 0, 0, 0, 0, 0, 0, 0], [0, 0, 0, 0, 0, 0, 0, 0, 0, 0, 0, 0, 0, 0], [0, 0, 0, 0, 0, 0, 0, 0, 0, 0, 0, 0, 0, 0], [0, 0, 0, 0, 0, 0, 0, 0, 0, 0, 0, 0, 0, 0]]\n",
      "[2, 2, 2, 2, 1, 1, 1, 1, 1, 1, 0, 0, 0, 0]\n",
      "[1, 1, 1, 1, 1, 0, 0, 0]\n",
      "[1, 1, 1, 1, 1, 0, 0, 0]\n",
      "\n",
      "[3, 3, 3, 3, 2]\n",
      "[[2, 1, 1, 1, 0, 0, 0, 0, 0, 0, 0, 0, 0, 0], [2, 1, 1, 1, 0, 0, 0, 0, 0, 0, 0, 0, 0, 0], [1, 1, 1, 1, 0, 0, 0, 0, 0, 0, 0, 0, 0, 0], [0, 0, 0, 0, 0, 0, 0, 0, 0, 0, 0, 0, 0, 0], [0, 0, 0, 0, 0, 0, 0, 0, 0, 0, 0, 0, 0, 0], [0, 0, 0, 0, 0, 0, 0, 0, 0, 0, 0, 0, 0, 0], [0, 0, 0, 0, 0, 0, 0, 0, 0, 0, 0, 0, 0, 0], [0, 0, 0, 0, 0, 0, 0, 0, 0, 0, 0, 0, 0, 0], [0, 0, 0, 0, 0, 0, 0, 0, 0, 0, 0, 0, 0, 0], [0, 0, 0, 0, 0, 0, 0, 0, 0, 0, 0, 0, 0, 0], [0, 0, 0, 0, 0, 0, 0, 0, 0, 0, 0, 0, 0, 0], [0, 0, 0, 0, 0, 0, 0, 0, 0, 0, 0, 0, 0, 0], [0, 0, 0, 0, 0, 0, 0, 0, 0, 0, 0, 0, 0, 0], [0, 0, 0, 0, 0, 0, 0, 0, 0, 0, 0, 0, 0, 0]]\n",
      "[2, 3, 3, 3, 2, 1, 0, 0, 0, 0, 0, 0, 0, 0]\n",
      "[1, 1, 2, 2, 3, 2, 2, 0]\n",
      "[1, 1, 2, 2, 3, 2, 2, 0]\n",
      "\n",
      "[3, 3, 3, 3, 1, 1]\n",
      "[[2, 2, 1, 1, 0, 0, 0, 0, 0, 0, 0, 0, 0, 0], [1, 1, 1, 1, 0, 0, 0, 0, 0, 0, 0, 0, 0, 0], [1, 1, 1, 1, 0, 0, 0, 0, 0, 0, 0, 0, 0, 0], [0, 0, 0, 0, 0, 0, 0, 0, 0, 0, 0, 0, 0, 0], [0, 0, 0, 0, 0, 0, 0, 0, 0, 0, 0, 0, 0, 0], [0, 0, 0, 0, 0, 0, 0, 0, 0, 0, 0, 0, 0, 0], [0, 0, 0, 0, 0, 0, 0, 0, 0, 0, 0, 0, 0, 0], [0, 0, 0, 0, 0, 0, 0, 0, 0, 0, 0, 0, 0, 0], [0, 0, 0, 0, 0, 0, 0, 0, 0, 0, 0, 0, 0, 0], [0, 0, 0, 0, 0, 0, 0, 0, 0, 0, 0, 0, 0, 0], [0, 0, 0, 0, 0, 0, 0, 0, 0, 0, 0, 0, 0, 0], [0, 0, 0, 0, 0, 0, 0, 0, 0, 0, 0, 0, 0, 0], [0, 0, 0, 0, 0, 0, 0, 0, 0, 0, 0, 0, 0, 0], [0, 0, 0, 0, 0, 0, 0, 0, 0, 0, 0, 0, 0, 0]]\n",
      "[2, 3, 3, 3, 2, 1, 0, 0, 0, 0, 0, 0, 0, 0]\n",
      "[1, 1, 2, 2, 3, 2, 2, 0]\n",
      "[1, 1, 2, 2, 3, 2, 2, 0]\n",
      "\n",
      "[3, 3, 3, 2, 2, 1]\n",
      "[[3, 2, 1, 0, 0, 0, 0, 0, 0, 0, 0, 0, 0, 0], [2, 2, 1, 0, 0, 0, 0, 0, 0, 0, 0, 0, 0, 0], [1, 1, 1, 0, 0, 0, 0, 0, 0, 0, 0, 0, 0, 0], [0, 0, 0, 0, 0, 0, 0, 0, 0, 0, 0, 0, 0, 0], [0, 0, 0, 0, 0, 0, 0, 0, 0, 0, 0, 0, 0, 0], [0, 0, 0, 0, 0, 0, 0, 0, 0, 0, 0, 0, 0, 0], [0, 0, 0, 0, 0, 0, 0, 0, 0, 0, 0, 0, 0, 0], [0, 0, 0, 0, 0, 0, 0, 0, 0, 0, 0, 0, 0, 0], [0, 0, 0, 0, 0, 0, 0, 0, 0, 0, 0, 0, 0, 0], [0, 0, 0, 0, 0, 0, 0, 0, 0, 0, 0, 0, 0, 0], [0, 0, 0, 0, 0, 0, 0, 0, 0, 0, 0, 0, 0, 0], [0, 0, 0, 0, 0, 0, 0, 0, 0, 0, 0, 0, 0, 0], [0, 0, 0, 0, 0, 0, 0, 0, 0, 0, 0, 0, 0, 0], [0, 0, 0, 0, 0, 0, 0, 0, 0, 0, 0, 0, 0, 0]]\n",
      "[3, 4, 4, 2, 1, 0, 0, 0, 0, 0, 0, 0, 0, 0]\n",
      "[1, 2, 4, 6, 7, 7, 5, 2]\n",
      "[1, 2, 4, 6, 7, 7, 5, 2]\n",
      "\n",
      "[3, 3, 3, 2, 1, 1, 1]\n",
      "[[3, 2, 2, 0, 0, 0, 0, 0, 0, 0, 0, 0, 0, 0], [2, 1, 1, 0, 0, 0, 0, 0, 0, 0, 0, 0, 0, 0], [1, 1, 1, 0, 0, 0, 0, 0, 0, 0, 0, 0, 0, 0], [0, 0, 0, 0, 0, 0, 0, 0, 0, 0, 0, 0, 0, 0], [0, 0, 0, 0, 0, 0, 0, 0, 0, 0, 0, 0, 0, 0], [0, 0, 0, 0, 0, 0, 0, 0, 0, 0, 0, 0, 0, 0], [0, 0, 0, 0, 0, 0, 0, 0, 0, 0, 0, 0, 0, 0], [0, 0, 0, 0, 0, 0, 0, 0, 0, 0, 0, 0, 0, 0], [0, 0, 0, 0, 0, 0, 0, 0, 0, 0, 0, 0, 0, 0], [0, 0, 0, 0, 0, 0, 0, 0, 0, 0, 0, 0, 0, 0], [0, 0, 0, 0, 0, 0, 0, 0, 0, 0, 0, 0, 0, 0], [0, 0, 0, 0, 0, 0, 0, 0, 0, 0, 0, 0, 0, 0], [0, 0, 0, 0, 0, 0, 0, 0, 0, 0, 0, 0, 0, 0], [0, 0, 0, 0, 0, 0, 0, 0, 0, 0, 0, 0, 0, 0]]\n",
      "[3, 4, 4, 2, 1, 0, 0, 0, 0, 0, 0, 0, 0, 0]\n",
      "[1, 2, 4, 6, 7, 7, 5, 2]\n",
      "[1, 2, 4, 6, 7, 7, 5, 2]\n",
      "\n",
      "[3, 3, 3, 1, 1, 1, 1, 1]\n",
      "[[2, 2, 2, 1, 1, 0, 0, 0, 0, 0, 0, 0, 0, 0], [1, 1, 1, 0, 0, 0, 0, 0, 0, 0, 0, 0, 0, 0], [1, 1, 1, 0, 0, 0, 0, 0, 0, 0, 0, 0, 0, 0], [0, 0, 0, 0, 0, 0, 0, 0, 0, 0, 0, 0, 0, 0], [0, 0, 0, 0, 0, 0, 0, 0, 0, 0, 0, 0, 0, 0], [0, 0, 0, 0, 0, 0, 0, 0, 0, 0, 0, 0, 0, 0], [0, 0, 0, 0, 0, 0, 0, 0, 0, 0, 0, 0, 0, 0], [0, 0, 0, 0, 0, 0, 0, 0, 0, 0, 0, 0, 0, 0], [0, 0, 0, 0, 0, 0, 0, 0, 0, 0, 0, 0, 0, 0], [0, 0, 0, 0, 0, 0, 0, 0, 0, 0, 0, 0, 0, 0], [0, 0, 0, 0, 0, 0, 0, 0, 0, 0, 0, 0, 0, 0], [0, 0, 0, 0, 0, 0, 0, 0, 0, 0, 0, 0, 0, 0], [0, 0, 0, 0, 0, 0, 0, 0, 0, 0, 0, 0, 0, 0], [0, 0, 0, 0, 0, 0, 0, 0, 0, 0, 0, 0, 0, 0]]\n",
      "[2, 3, 4, 3, 2, 0, 0, 0, 0, 0, 0, 0, 0, 0]\n",
      "[1, 1, 2, 3, 3, 3, 2, 1]\n",
      "[1, 1, 2, 3, 3, 3, 2, 1]\n",
      "\n",
      "[3, 3, 2, 2, 2, 2]\n",
      "[[2, 2, 1, 1, 0, 0, 0, 0, 0, 0, 0, 0, 0, 0], [2, 2, 1, 1, 0, 0, 0, 0, 0, 0, 0, 0, 0, 0], [1, 1, 0, 0, 0, 0, 0, 0, 0, 0, 0, 0, 0, 0], [0, 0, 0, 0, 0, 0, 0, 0, 0, 0, 0, 0, 0, 0], [0, 0, 0, 0, 0, 0, 0, 0, 0, 0, 0, 0, 0, 0], [0, 0, 0, 0, 0, 0, 0, 0, 0, 0, 0, 0, 0, 0], [0, 0, 0, 0, 0, 0, 0, 0, 0, 0, 0, 0, 0, 0], [0, 0, 0, 0, 0, 0, 0, 0, 0, 0, 0, 0, 0, 0], [0, 0, 0, 0, 0, 0, 0, 0, 0, 0, 0, 0, 0, 0], [0, 0, 0, 0, 0, 0, 0, 0, 0, 0, 0, 0, 0, 0], [0, 0, 0, 0, 0, 0, 0, 0, 0, 0, 0, 0, 0, 0], [0, 0, 0, 0, 0, 0, 0, 0, 0, 0, 0, 0, 0, 0], [0, 0, 0, 0, 0, 0, 0, 0, 0, 0, 0, 0, 0, 0], [0, 0, 0, 0, 0, 0, 0, 0, 0, 0, 0, 0, 0, 0]]\n",
      "[2, 4, 4, 3, 1, 0, 0, 0, 0, 0, 0, 0, 0, 0]\n",
      "[1, 1, 3, 3, 5, 3, 4, 0]\n",
      "[1, 1, 3, 3, 5, 3, 4, 0]\n",
      "\n",
      "[3, 3, 2, 2, 2, 1, 1]\n",
      "[[3, 3, 1, 0, 0, 0, 0, 0, 0, 0, 0, 0, 0, 0], [2, 2, 1, 0, 0, 0, 0, 0, 0, 0, 0, 0, 0, 0], [1, 1, 0, 0, 0, 0, 0, 0, 0, 0, 0, 0, 0, 0], [0, 0, 0, 0, 0, 0, 0, 0, 0, 0, 0, 0, 0, 0], [0, 0, 0, 0, 0, 0, 0, 0, 0, 0, 0, 0, 0, 0], [0, 0, 0, 0, 0, 0, 0, 0, 0, 0, 0, 0, 0, 0], [0, 0, 0, 0, 0, 0, 0, 0, 0, 0, 0, 0, 0, 0], [0, 0, 0, 0, 0, 0, 0, 0, 0, 0, 0, 0, 0, 0], [0, 0, 0, 0, 0, 0, 0, 0, 0, 0, 0, 0, 0, 0], [0, 0, 0, 0, 0, 0, 0, 0, 0, 0, 0, 0, 0, 0], [0, 0, 0, 0, 0, 0, 0, 0, 0, 0, 0, 0, 0, 0], [0, 0, 0, 0, 0, 0, 0, 0, 0, 0, 0, 0, 0, 0], [0, 0, 0, 0, 0, 0, 0, 0, 0, 0, 0, 0, 0, 0], [0, 0, 0, 0, 0, 0, 0, 0, 0, 0, 0, 0, 0, 0]]\n",
      "[3, 5, 4, 2, 0, 0, 0, 0, 0, 0, 0, 0, 0, 0]\n",
      "[1, 2, 5, 7, 10, 9, 8, 2]\n",
      "[1, 2, 5, 7, 10, 9, 8, 2]\n",
      "\n",
      "[3, 3, 2, 2, 1, 1, 1, 1]\n",
      "[[3, 3, 1, 1, 0, 0, 0, 0, 0, 0, 0, 0, 0, 0], [2, 2, 0, 0, 0, 0, 0, 0, 0, 0, 0, 0, 0, 0], [1, 1, 0, 0, 0, 0, 0, 0, 0, 0, 0, 0, 0, 0], [0, 0, 0, 0, 0, 0, 0, 0, 0, 0, 0, 0, 0, 0], [0, 0, 0, 0, 0, 0, 0, 0, 0, 0, 0, 0, 0, 0], [0, 0, 0, 0, 0, 0, 0, 0, 0, 0, 0, 0, 0, 0], [0, 0, 0, 0, 0, 0, 0, 0, 0, 0, 0, 0, 0, 0], [0, 0, 0, 0, 0, 0, 0, 0, 0, 0, 0, 0, 0, 0], [0, 0, 0, 0, 0, 0, 0, 0, 0, 0, 0, 0, 0, 0], [0, 0, 0, 0, 0, 0, 0, 0, 0, 0, 0, 0, 0, 0], [0, 0, 0, 0, 0, 0, 0, 0, 0, 0, 0, 0, 0, 0], [0, 0, 0, 0, 0, 0, 0, 0, 0, 0, 0, 0, 0, 0], [0, 0, 0, 0, 0, 0, 0, 0, 0, 0, 0, 0, 0, 0], [0, 0, 0, 0, 0, 0, 0, 0, 0, 0, 0, 0, 0, 0]]\n",
      "[3, 5, 4, 2, 0, 0, 0, 0, 0, 0, 0, 0, 0, 0]\n",
      "[1, 2, 5, 7, 10, 9, 8, 2]\n",
      "[1, 2, 5, 7, 10, 9, 8, 2]\n",
      "\n",
      "[3, 3, 2, 1, 1, 1, 1, 1, 1]\n",
      "[[3, 2, 1, 1, 1, 1, 0, 0, 0, 0, 0, 0, 0, 0], [2, 1, 0, 0, 0, 0, 0, 0, 0, 0, 0, 0, 0, 0], [1, 1, 0, 0, 0, 0, 0, 0, 0, 0, 0, 0, 0, 0], [0, 0, 0, 0, 0, 0, 0, 0, 0, 0, 0, 0, 0, 0], [0, 0, 0, 0, 0, 0, 0, 0, 0, 0, 0, 0, 0, 0], [0, 0, 0, 0, 0, 0, 0, 0, 0, 0, 0, 0, 0, 0], [0, 0, 0, 0, 0, 0, 0, 0, 0, 0, 0, 0, 0, 0], [0, 0, 0, 0, 0, 0, 0, 0, 0, 0, 0, 0, 0, 0], [0, 0, 0, 0, 0, 0, 0, 0, 0, 0, 0, 0, 0, 0], [0, 0, 0, 0, 0, 0, 0, 0, 0, 0, 0, 0, 0, 0], [0, 0, 0, 0, 0, 0, 0, 0, 0, 0, 0, 0, 0, 0], [0, 0, 0, 0, 0, 0, 0, 0, 0, 0, 0, 0, 0, 0], [0, 0, 0, 0, 0, 0, 0, 0, 0, 0, 0, 0, 0, 0], [0, 0, 0, 0, 0, 0, 0, 0, 0, 0, 0, 0, 0, 0]]\n",
      "[3, 4, 3, 2, 1, 1, 0, 0, 0, 0, 0, 0, 0, 0]\n",
      "[1, 2, 4, 5, 6, 5, 4, 1]\n",
      "[1, 2, 4, 5, 6, 5, 4, 1]\n",
      "\n"
     ]
    },
    {
     "name": "stdout",
     "output_type": "stream",
     "text": [
      "[3, 3, 1, 1, 1, 1, 1, 1, 1, 1]\n",
      "[[2, 2, 1, 1, 1, 1, 1, 1, 0, 0, 0, 0, 0, 0], [1, 1, 0, 0, 0, 0, 0, 0, 0, 0, 0, 0, 0, 0], [1, 1, 0, 0, 0, 0, 0, 0, 0, 0, 0, 0, 0, 0], [0, 0, 0, 0, 0, 0, 0, 0, 0, 0, 0, 0, 0, 0], [0, 0, 0, 0, 0, 0, 0, 0, 0, 0, 0, 0, 0, 0], [0, 0, 0, 0, 0, 0, 0, 0, 0, 0, 0, 0, 0, 0], [0, 0, 0, 0, 0, 0, 0, 0, 0, 0, 0, 0, 0, 0], [0, 0, 0, 0, 0, 0, 0, 0, 0, 0, 0, 0, 0, 0], [0, 0, 0, 0, 0, 0, 0, 0, 0, 0, 0, 0, 0, 0], [0, 0, 0, 0, 0, 0, 0, 0, 0, 0, 0, 0, 0, 0], [0, 0, 0, 0, 0, 0, 0, 0, 0, 0, 0, 0, 0, 0], [0, 0, 0, 0, 0, 0, 0, 0, 0, 0, 0, 0, 0, 0], [0, 0, 0, 0, 0, 0, 0, 0, 0, 0, 0, 0, 0, 0], [0, 0, 0, 0, 0, 0, 0, 0, 0, 0, 0, 0, 0, 0]]\n",
      "[2, 3, 3, 2, 1, 1, 1, 1, 0, 0, 0, 0, 0, 0]\n",
      "[1, 1, 2, 2, 2, 1, 1, 0]\n",
      "[1, 1, 2, 2, 2, 1, 1, 0]\n",
      "\n",
      "[3, 2, 2, 2, 2, 2, 1]\n",
      "[[3, 1, 1, 1, 1, 0, 0, 0, 0, 0, 0, 0, 0, 0], [2, 1, 1, 1, 1, 0, 0, 0, 0, 0, 0, 0, 0, 0], [1, 0, 0, 0, 0, 0, 0, 0, 0, 0, 0, 0, 0, 0], [0, 0, 0, 0, 0, 0, 0, 0, 0, 0, 0, 0, 0, 0], [0, 0, 0, 0, 0, 0, 0, 0, 0, 0, 0, 0, 0, 0], [0, 0, 0, 0, 0, 0, 0, 0, 0, 0, 0, 0, 0, 0], [0, 0, 0, 0, 0, 0, 0, 0, 0, 0, 0, 0, 0, 0], [0, 0, 0, 0, 0, 0, 0, 0, 0, 0, 0, 0, 0, 0], [0, 0, 0, 0, 0, 0, 0, 0, 0, 0, 0, 0, 0, 0], [0, 0, 0, 0, 0, 0, 0, 0, 0, 0, 0, 0, 0, 0], [0, 0, 0, 0, 0, 0, 0, 0, 0, 0, 0, 0, 0, 0], [0, 0, 0, 0, 0, 0, 0, 0, 0, 0, 0, 0, 0, 0], [0, 0, 0, 0, 0, 0, 0, 0, 0, 0, 0, 0, 0, 0], [0, 0, 0, 0, 0, 0, 0, 0, 0, 0, 0, 0, 0, 0]]\n",
      "[3, 3, 3, 2, 2, 1, 0, 0, 0, 0, 0, 0, 0, 0]\n",
      "[1, 2, 3, 4, 4, 4, 3, 1]\n",
      "[1, 2, 3, 4, 4, 4, 3, 1]\n",
      "\n",
      "[3, 2, 2, 2, 2, 1, 1, 1]\n",
      "[[3, 2, 2, 1, 0, 0, 0, 0, 0, 0, 0, 0, 0, 0], [2, 1, 1, 1, 0, 0, 0, 0, 0, 0, 0, 0, 0, 0], [1, 0, 0, 0, 0, 0, 0, 0, 0, 0, 0, 0, 0, 0], [0, 0, 0, 0, 0, 0, 0, 0, 0, 0, 0, 0, 0, 0], [0, 0, 0, 0, 0, 0, 0, 0, 0, 0, 0, 0, 0, 0], [0, 0, 0, 0, 0, 0, 0, 0, 0, 0, 0, 0, 0, 0], [0, 0, 0, 0, 0, 0, 0, 0, 0, 0, 0, 0, 0, 0], [0, 0, 0, 0, 0, 0, 0, 0, 0, 0, 0, 0, 0, 0], [0, 0, 0, 0, 0, 0, 0, 0, 0, 0, 0, 0, 0, 0], [0, 0, 0, 0, 0, 0, 0, 0, 0, 0, 0, 0, 0, 0], [0, 0, 0, 0, 0, 0, 0, 0, 0, 0, 0, 0, 0, 0], [0, 0, 0, 0, 0, 0, 0, 0, 0, 0, 0, 0, 0, 0], [0, 0, 0, 0, 0, 0, 0, 0, 0, 0, 0, 0, 0, 0], [0, 0, 0, 0, 0, 0, 0, 0, 0, 0, 0, 0, 0, 0]]\n",
      "[3, 4, 4, 2, 1, 0, 0, 0, 0, 0, 0, 0, 0, 0]\n",
      "[1, 2, 4, 6, 7, 7, 5, 2]\n",
      "[1, 2, 4, 6, 7, 7, 5, 2]\n",
      "\n",
      "[3, 2, 2, 2, 1, 1, 1, 1, 1]\n",
      "[[3, 2, 2, 1, 1, 0, 0, 0, 0, 0, 0, 0, 0, 0], [2, 1, 1, 0, 0, 0, 0, 0, 0, 0, 0, 0, 0, 0], [1, 0, 0, 0, 0, 0, 0, 0, 0, 0, 0, 0, 0, 0], [0, 0, 0, 0, 0, 0, 0, 0, 0, 0, 0, 0, 0, 0], [0, 0, 0, 0, 0, 0, 0, 0, 0, 0, 0, 0, 0, 0], [0, 0, 0, 0, 0, 0, 0, 0, 0, 0, 0, 0, 0, 0], [0, 0, 0, 0, 0, 0, 0, 0, 0, 0, 0, 0, 0, 0], [0, 0, 0, 0, 0, 0, 0, 0, 0, 0, 0, 0, 0, 0], [0, 0, 0, 0, 0, 0, 0, 0, 0, 0, 0, 0, 0, 0], [0, 0, 0, 0, 0, 0, 0, 0, 0, 0, 0, 0, 0, 0], [0, 0, 0, 0, 0, 0, 0, 0, 0, 0, 0, 0, 0, 0], [0, 0, 0, 0, 0, 0, 0, 0, 0, 0, 0, 0, 0, 0], [0, 0, 0, 0, 0, 0, 0, 0, 0, 0, 0, 0, 0, 0], [0, 0, 0, 0, 0, 0, 0, 0, 0, 0, 0, 0, 0, 0]]\n",
      "[3, 4, 4, 2, 1, 0, 0, 0, 0, 0, 0, 0, 0, 0]\n",
      "[1, 2, 4, 6, 7, 7, 5, 2]\n",
      "[1, 2, 4, 6, 7, 7, 5, 2]\n",
      "\n",
      "[3, 2, 2, 1, 1, 1, 1, 1, 1, 1]\n",
      "[[3, 2, 1, 1, 1, 1, 1, 0, 0, 0, 0, 0, 0, 0], [2, 1, 0, 0, 0, 0, 0, 0, 0, 0, 0, 0, 0, 0], [1, 0, 0, 0, 0, 0, 0, 0, 0, 0, 0, 0, 0, 0], [0, 0, 0, 0, 0, 0, 0, 0, 0, 0, 0, 0, 0, 0], [0, 0, 0, 0, 0, 0, 0, 0, 0, 0, 0, 0, 0, 0], [0, 0, 0, 0, 0, 0, 0, 0, 0, 0, 0, 0, 0, 0], [0, 0, 0, 0, 0, 0, 0, 0, 0, 0, 0, 0, 0, 0], [0, 0, 0, 0, 0, 0, 0, 0, 0, 0, 0, 0, 0, 0], [0, 0, 0, 0, 0, 0, 0, 0, 0, 0, 0, 0, 0, 0], [0, 0, 0, 0, 0, 0, 0, 0, 0, 0, 0, 0, 0, 0], [0, 0, 0, 0, 0, 0, 0, 0, 0, 0, 0, 0, 0, 0], [0, 0, 0, 0, 0, 0, 0, 0, 0, 0, 0, 0, 0, 0], [0, 0, 0, 0, 0, 0, 0, 0, 0, 0, 0, 0, 0, 0], [0, 0, 0, 0, 0, 0, 0, 0, 0, 0, 0, 0, 0, 0]]\n",
      "[3, 4, 3, 1, 1, 1, 1, 0, 0, 0, 0, 0, 0, 0]\n",
      "[1, 2, 4, 5, 5, 4, 2, 1]\n",
      "[1, 2, 4, 5, 5, 4, 2, 1]\n",
      "\n",
      "[3, 2, 1, 1, 1, 1, 1, 1, 1, 1, 1]\n",
      "[[3, 1, 1, 1, 1, 1, 1, 1, 1, 0, 0, 0, 0, 0], [2, 0, 0, 0, 0, 0, 0, 0, 0, 0, 0, 0, 0, 0], [1, 0, 0, 0, 0, 0, 0, 0, 0, 0, 0, 0, 0, 0], [0, 0, 0, 0, 0, 0, 0, 0, 0, 0, 0, 0, 0, 0], [0, 0, 0, 0, 0, 0, 0, 0, 0, 0, 0, 0, 0, 0], [0, 0, 0, 0, 0, 0, 0, 0, 0, 0, 0, 0, 0, 0], [0, 0, 0, 0, 0, 0, 0, 0, 0, 0, 0, 0, 0, 0], [0, 0, 0, 0, 0, 0, 0, 0, 0, 0, 0, 0, 0, 0], [0, 0, 0, 0, 0, 0, 0, 0, 0, 0, 0, 0, 0, 0], [0, 0, 0, 0, 0, 0, 0, 0, 0, 0, 0, 0, 0, 0], [0, 0, 0, 0, 0, 0, 0, 0, 0, 0, 0, 0, 0, 0], [0, 0, 0, 0, 0, 0, 0, 0, 0, 0, 0, 0, 0, 0], [0, 0, 0, 0, 0, 0, 0, 0, 0, 0, 0, 0, 0, 0], [0, 0, 0, 0, 0, 0, 0, 0, 0, 0, 0, 0, 0, 0]]\n",
      "[3, 3, 2, 1, 1, 1, 1, 1, 1, 0, 0, 0, 0, 0]\n",
      "[1, 2, 3, 3, 2, 1, 0, 0]\n",
      "[1, 2, 3, 3, 2, 1, 0, 0]\n",
      "\n",
      "[3, 1, 1, 1, 1, 1, 1, 1, 1, 1, 1, 1]\n",
      "[[2, 1, 1, 1, 1, 1, 1, 1, 1, 1, 1, 0, 0, 0], [1, 0, 0, 0, 0, 0, 0, 0, 0, 0, 0, 0, 0, 0], [1, 0, 0, 0, 0, 0, 0, 0, 0, 0, 0, 0, 0, 0], [0, 0, 0, 0, 0, 0, 0, 0, 0, 0, 0, 0, 0, 0], [0, 0, 0, 0, 0, 0, 0, 0, 0, 0, 0, 0, 0, 0], [0, 0, 0, 0, 0, 0, 0, 0, 0, 0, 0, 0, 0, 0], [0, 0, 0, 0, 0, 0, 0, 0, 0, 0, 0, 0, 0, 0], [0, 0, 0, 0, 0, 0, 0, 0, 0, 0, 0, 0, 0, 0], [0, 0, 0, 0, 0, 0, 0, 0, 0, 0, 0, 0, 0, 0], [0, 0, 0, 0, 0, 0, 0, 0, 0, 0, 0, 0, 0, 0], [0, 0, 0, 0, 0, 0, 0, 0, 0, 0, 0, 0, 0, 0], [0, 0, 0, 0, 0, 0, 0, 0, 0, 0, 0, 0, 0, 0], [0, 0, 0, 0, 0, 0, 0, 0, 0, 0, 0, 0, 0, 0], [0, 0, 0, 0, 0, 0, 0, 0, 0, 0, 0, 0, 0, 0]]\n",
      "[2, 2, 2, 1, 1, 1, 1, 1, 1, 1, 1, 0, 0, 0]\n",
      "[1, 1, 1, 1, 0, 0, 0, 0]\n",
      "[1, 1, 1, 1, 0, 0, 0, 0]\n",
      "\n",
      "[2, 2, 2, 2, 2, 2, 2]\n",
      "[[1, 1, 1, 1, 1, 1, 1, 0, 0, 0, 0, 0, 0, 0], [1, 1, 1, 1, 1, 1, 1, 0, 0, 0, 0, 0, 0, 0], [0, 0, 0, 0, 0, 0, 0, 0, 0, 0, 0, 0, 0, 0], [0, 0, 0, 0, 0, 0, 0, 0, 0, 0, 0, 0, 0, 0], [0, 0, 0, 0, 0, 0, 0, 0, 0, 0, 0, 0, 0, 0], [0, 0, 0, 0, 0, 0, 0, 0, 0, 0, 0, 0, 0, 0], [0, 0, 0, 0, 0, 0, 0, 0, 0, 0, 0, 0, 0, 0], [0, 0, 0, 0, 0, 0, 0, 0, 0, 0, 0, 0, 0, 0], [0, 0, 0, 0, 0, 0, 0, 0, 0, 0, 0, 0, 0, 0], [0, 0, 0, 0, 0, 0, 0, 0, 0, 0, 0, 0, 0, 0], [0, 0, 0, 0, 0, 0, 0, 0, 0, 0, 0, 0, 0, 0], [0, 0, 0, 0, 0, 0, 0, 0, 0, 0, 0, 0, 0, 0], [0, 0, 0, 0, 0, 0, 0, 0, 0, 0, 0, 0, 0, 0], [0, 0, 0, 0, 0, 0, 0, 0, 0, 0, 0, 0, 0, 0]]\n",
      "[1, 2, 2, 2, 2, 2, 2, 1, 0, 0, 0, 0, 0, 0]\n",
      "[1, 0, 1, 0, 1, 0, 1, 0]\n",
      "[1, 0, 1, 0, 1, 0, 1, 0]\n",
      "\n",
      "[2, 2, 2, 2, 2, 2, 1, 1]\n",
      "[[2, 2, 1, 1, 1, 1, 0, 0, 0, 0, 0, 0, 0, 0], [1, 1, 1, 1, 1, 1, 0, 0, 0, 0, 0, 0, 0, 0], [0, 0, 0, 0, 0, 0, 0, 0, 0, 0, 0, 0, 0, 0], [0, 0, 0, 0, 0, 0, 0, 0, 0, 0, 0, 0, 0, 0], [0, 0, 0, 0, 0, 0, 0, 0, 0, 0, 0, 0, 0, 0], [0, 0, 0, 0, 0, 0, 0, 0, 0, 0, 0, 0, 0, 0], [0, 0, 0, 0, 0, 0, 0, 0, 0, 0, 0, 0, 0, 0], [0, 0, 0, 0, 0, 0, 0, 0, 0, 0, 0, 0, 0, 0], [0, 0, 0, 0, 0, 0, 0, 0, 0, 0, 0, 0, 0, 0], [0, 0, 0, 0, 0, 0, 0, 0, 0, 0, 0, 0, 0, 0], [0, 0, 0, 0, 0, 0, 0, 0, 0, 0, 0, 0, 0, 0], [0, 0, 0, 0, 0, 0, 0, 0, 0, 0, 0, 0, 0, 0], [0, 0, 0, 0, 0, 0, 0, 0, 0, 0, 0, 0, 0, 0], [0, 0, 0, 0, 0, 0, 0, 0, 0, 0, 0, 0, 0, 0]]\n",
      "[2, 3, 2, 2, 2, 2, 1, 0, 0, 0, 0, 0, 0, 0]\n",
      "[1, 1, 2, 1, 2, 1, 2, 0]\n",
      "[1, 1, 2, 1, 2, 1, 2, 0]\n",
      "\n",
      "[2, 2, 2, 2, 2, 1, 1, 1, 1]\n",
      "[[2, 2, 2, 2, 1, 0, 0, 0, 0, 0, 0, 0, 0, 0], [1, 1, 1, 1, 1, 0, 0, 0, 0, 0, 0, 0, 0, 0], [0, 0, 0, 0, 0, 0, 0, 0, 0, 0, 0, 0, 0, 0], [0, 0, 0, 0, 0, 0, 0, 0, 0, 0, 0, 0, 0, 0], [0, 0, 0, 0, 0, 0, 0, 0, 0, 0, 0, 0, 0, 0], [0, 0, 0, 0, 0, 0, 0, 0, 0, 0, 0, 0, 0, 0], [0, 0, 0, 0, 0, 0, 0, 0, 0, 0, 0, 0, 0, 0], [0, 0, 0, 0, 0, 0, 0, 0, 0, 0, 0, 0, 0, 0], [0, 0, 0, 0, 0, 0, 0, 0, 0, 0, 0, 0, 0, 0], [0, 0, 0, 0, 0, 0, 0, 0, 0, 0, 0, 0, 0, 0], [0, 0, 0, 0, 0, 0, 0, 0, 0, 0, 0, 0, 0, 0], [0, 0, 0, 0, 0, 0, 0, 0, 0, 0, 0, 0, 0, 0], [0, 0, 0, 0, 0, 0, 0, 0, 0, 0, 0, 0, 0, 0], [0, 0, 0, 0, 0, 0, 0, 0, 0, 0, 0, 0, 0, 0]]\n",
      "[2, 3, 3, 3, 2, 1, 0, 0, 0, 0, 0, 0, 0, 0]\n",
      "[1, 1, 2, 2, 3, 2, 2, 0]\n",
      "[1, 1, 2, 2, 3, 2, 2, 0]\n",
      "\n",
      "[2, 2, 2, 2, 1, 1, 1, 1, 1, 1]\n",
      "[[2, 2, 2, 2, 1, 1, 0, 0, 0, 0, 0, 0, 0, 0], [1, 1, 1, 1, 0, 0, 0, 0, 0, 0, 0, 0, 0, 0], [0, 0, 0, 0, 0, 0, 0, 0, 0, 0, 0, 0, 0, 0], [0, 0, 0, 0, 0, 0, 0, 0, 0, 0, 0, 0, 0, 0], [0, 0, 0, 0, 0, 0, 0, 0, 0, 0, 0, 0, 0, 0], [0, 0, 0, 0, 0, 0, 0, 0, 0, 0, 0, 0, 0, 0], [0, 0, 0, 0, 0, 0, 0, 0, 0, 0, 0, 0, 0, 0], [0, 0, 0, 0, 0, 0, 0, 0, 0, 0, 0, 0, 0, 0], [0, 0, 0, 0, 0, 0, 0, 0, 0, 0, 0, 0, 0, 0], [0, 0, 0, 0, 0, 0, 0, 0, 0, 0, 0, 0, 0, 0], [0, 0, 0, 0, 0, 0, 0, 0, 0, 0, 0, 0, 0, 0], [0, 0, 0, 0, 0, 0, 0, 0, 0, 0, 0, 0, 0, 0], [0, 0, 0, 0, 0, 0, 0, 0, 0, 0, 0, 0, 0, 0], [0, 0, 0, 0, 0, 0, 0, 0, 0, 0, 0, 0, 0, 0]]\n",
      "[2, 3, 3, 3, 2, 1, 0, 0, 0, 0, 0, 0, 0, 0]\n",
      "[1, 1, 2, 2, 3, 2, 2, 0]\n",
      "[1, 1, 2, 2, 3, 2, 2, 0]\n",
      "\n",
      "[2, 2, 2, 1, 1, 1, 1, 1, 1, 1, 1]\n",
      "[[2, 2, 2, 1, 1, 1, 1, 1, 0, 0, 0, 0, 0, 0], [1, 1, 1, 0, 0, 0, 0, 0, 0, 0, 0, 0, 0, 0], [0, 0, 0, 0, 0, 0, 0, 0, 0, 0, 0, 0, 0, 0], [0, 0, 0, 0, 0, 0, 0, 0, 0, 0, 0, 0, 0, 0], [0, 0, 0, 0, 0, 0, 0, 0, 0, 0, 0, 0, 0, 0], [0, 0, 0, 0, 0, 0, 0, 0, 0, 0, 0, 0, 0, 0], [0, 0, 0, 0, 0, 0, 0, 0, 0, 0, 0, 0, 0, 0], [0, 0, 0, 0, 0, 0, 0, 0, 0, 0, 0, 0, 0, 0], [0, 0, 0, 0, 0, 0, 0, 0, 0, 0, 0, 0, 0, 0], [0, 0, 0, 0, 0, 0, 0, 0, 0, 0, 0, 0, 0, 0], [0, 0, 0, 0, 0, 0, 0, 0, 0, 0, 0, 0, 0, 0], [0, 0, 0, 0, 0, 0, 0, 0, 0, 0, 0, 0, 0, 0], [0, 0, 0, 0, 0, 0, 0, 0, 0, 0, 0, 0, 0, 0], [0, 0, 0, 0, 0, 0, 0, 0, 0, 0, 0, 0, 0, 0]]\n",
      "[2, 3, 3, 2, 1, 1, 1, 1, 0, 0, 0, 0, 0, 0]\n",
      "[1, 1, 2, 2, 2, 1, 1, 0]\n",
      "[1, 1, 2, 2, 2, 1, 1, 0]\n",
      "\n"
     ]
    },
    {
     "name": "stdout",
     "output_type": "stream",
     "text": [
      "[2, 2, 1, 1, 1, 1, 1, 1, 1, 1, 1, 1]\n",
      "[[2, 2, 1, 1, 1, 1, 1, 1, 1, 1, 0, 0, 0, 0], [1, 1, 0, 0, 0, 0, 0, 0, 0, 0, 0, 0, 0, 0], [0, 0, 0, 0, 0, 0, 0, 0, 0, 0, 0, 0, 0, 0], [0, 0, 0, 0, 0, 0, 0, 0, 0, 0, 0, 0, 0, 0], [0, 0, 0, 0, 0, 0, 0, 0, 0, 0, 0, 0, 0, 0], [0, 0, 0, 0, 0, 0, 0, 0, 0, 0, 0, 0, 0, 0], [0, 0, 0, 0, 0, 0, 0, 0, 0, 0, 0, 0, 0, 0], [0, 0, 0, 0, 0, 0, 0, 0, 0, 0, 0, 0, 0, 0], [0, 0, 0, 0, 0, 0, 0, 0, 0, 0, 0, 0, 0, 0], [0, 0, 0, 0, 0, 0, 0, 0, 0, 0, 0, 0, 0, 0], [0, 0, 0, 0, 0, 0, 0, 0, 0, 0, 0, 0, 0, 0], [0, 0, 0, 0, 0, 0, 0, 0, 0, 0, 0, 0, 0, 0], [0, 0, 0, 0, 0, 0, 0, 0, 0, 0, 0, 0, 0, 0], [0, 0, 0, 0, 0, 0, 0, 0, 0, 0, 0, 0, 0, 0]]\n",
      "[2, 3, 2, 1, 1, 1, 1, 1, 1, 1, 0, 0, 0, 0]\n",
      "[1, 1, 2, 1, 1, 0, 0, 0]\n",
      "[1, 1, 2, 1, 1, 0, 0, 0]\n",
      "\n",
      "[2, 1, 1, 1, 1, 1, 1, 1, 1, 1, 1, 1, 1]\n",
      "[[2, 1, 1, 1, 1, 1, 1, 1, 1, 1, 1, 1, 0, 0], [1, 0, 0, 0, 0, 0, 0, 0, 0, 0, 0, 0, 0, 0], [0, 0, 0, 0, 0, 0, 0, 0, 0, 0, 0, 0, 0, 0], [0, 0, 0, 0, 0, 0, 0, 0, 0, 0, 0, 0, 0, 0], [0, 0, 0, 0, 0, 0, 0, 0, 0, 0, 0, 0, 0, 0], [0, 0, 0, 0, 0, 0, 0, 0, 0, 0, 0, 0, 0, 0], [0, 0, 0, 0, 0, 0, 0, 0, 0, 0, 0, 0, 0, 0], [0, 0, 0, 0, 0, 0, 0, 0, 0, 0, 0, 0, 0, 0], [0, 0, 0, 0, 0, 0, 0, 0, 0, 0, 0, 0, 0, 0], [0, 0, 0, 0, 0, 0, 0, 0, 0, 0, 0, 0, 0, 0], [0, 0, 0, 0, 0, 0, 0, 0, 0, 0, 0, 0, 0, 0], [0, 0, 0, 0, 0, 0, 0, 0, 0, 0, 0, 0, 0, 0], [0, 0, 0, 0, 0, 0, 0, 0, 0, 0, 0, 0, 0, 0], [0, 0, 0, 0, 0, 0, 0, 0, 0, 0, 0, 0, 0, 0]]\n",
      "[2, 2, 1, 1, 1, 1, 1, 1, 1, 1, 1, 1, 0, 0]\n",
      "[1, 1, 1, 0, 0, 0, 0, 0]\n",
      "[1, 1, 1, 0, 0, 0, 0, 0]\n",
      "\n",
      "[1, 1, 1, 1, 1, 1, 1, 1, 1, 1, 1, 1, 1, 1]\n",
      "[[1, 1, 1, 1, 1, 1, 1, 1, 1, 1, 1, 1, 1, 1], [0, 0, 0, 0, 0, 0, 0, 0, 0, 0, 0, 0, 0, 0], [0, 0, 0, 0, 0, 0, 0, 0, 0, 0, 0, 0, 0, 0], [0, 0, 0, 0, 0, 0, 0, 0, 0, 0, 0, 0, 0, 0], [0, 0, 0, 0, 0, 0, 0, 0, 0, 0, 0, 0, 0, 0], [0, 0, 0, 0, 0, 0, 0, 0, 0, 0, 0, 0, 0, 0], [0, 0, 0, 0, 0, 0, 0, 0, 0, 0, 0, 0, 0, 0], [0, 0, 0, 0, 0, 0, 0, 0, 0, 0, 0, 0, 0, 0], [0, 0, 0, 0, 0, 0, 0, 0, 0, 0, 0, 0, 0, 0], [0, 0, 0, 0, 0, 0, 0, 0, 0, 0, 0, 0, 0, 0], [0, 0, 0, 0, 0, 0, 0, 0, 0, 0, 0, 0, 0, 0], [0, 0, 0, 0, 0, 0, 0, 0, 0, 0, 0, 0, 0, 0], [0, 0, 0, 0, 0, 0, 0, 0, 0, 0, 0, 0, 0, 0], [0, 0, 0, 0, 0, 0, 0, 0, 0, 0, 0, 0, 0, 0]]\n",
      "[1, 1, 1, 1, 1, 1, 1, 1, 1, 1, 1, 1, 1, 1]\n",
      "[1, 0, 0, 0, 0, 0, 0, 0]\n",
      "[1, 0, 0, 0, 0, 0, 0, 0]\n",
      "\n"
     ]
    }
   ],
   "source": [
    "n=14\n",
    "var('N')\n",
    "for p in Partitions(n):\n",
    "    #Calculating c_{i,j} for each partition\n",
    "    c = [[0 for i in range(n)] for j in range(n)]\n",
    "    for i in range(len(p)):\n",
    "        a = p[:i].count(p[i])\n",
    "        for j in range(p[i]):\n",
    "            c[j][a] += 1\n",
    "    #Summing the c_{i,j} to form q_i (called s_i in the latex document)\n",
    "    q = [0 for i in range(n)]\n",
    "    for i in range(n):\n",
    "        q[i] = sum([c[j][i-j] for j in range(i+1)])\n",
    "    #Calculating the multiplicities using the partition sum formula\n",
    "    cfs = [0 for i in range(n)]\n",
    "    cfs[0] = 1\n",
    "    for exp in range(1,n):\n",
    "        for partition in Partitions(exp):\n",
    "            mults = [ list(partition).count(i+1) for i in range(n)]\n",
    "            offset = 0\n",
    "            prod = 1\n",
    "            for component in partition:\n",
    "                prod *= q[component-1] - offset\n",
    "                offset += 1\n",
    "            for mult in mults:\n",
    "                prod /= factorial(mult)\n",
    "            cfs[exp] += prod\n",
    "    cfsdiff =[1] + [ cfs[i] - cfs[i-1] for i in range(1,n)]\n",
    "        \n",
    "    \n",
    "    #Calculating the multiplicities directly from the character polynomial coefficients\n",
    "    pmults = [ list(p).count(i+1) for i in range(n)]\n",
    "    prod = 1\n",
    "    for i in range(n):\n",
    "        for j in range(i+1):\n",
    "            prod *= (1-N^(pmults[i]+j+1))/(1-N^(j+1))\n",
    "    prod *= (1-N)\n",
    "    prod = prod.factor()\n",
    "    prod = prod.expand()\n",
    "    coefficients = [1] + [prod.coefficient(N^i) for i in range(1,n)]\n",
    "    \n",
    "    #Print the partition, all c_{i,j}, all q_i, then all lambda multiplicities twice, first calculated using the q_i and  \n",
    "    # the partition sum formula, and the second time calculated by extracting the coefficients directly from the \n",
    "    # character as a polynomial\n",
    "    print(p)\n",
    "    print(c)\n",
    "    print(q)\n",
    "    print(cfsdiff[:floor(n/2+1)])\n",
    "    print(coefficients[:floor(n/2+1)])\n",
    "    print('')"
   ]
  },
  {
   "cell_type": "code",
   "execution_count": 11,
   "metadata": {
    "collapsed": true
   },
   "outputs": [
    {
     "data": {
      "text/plain": [
       "1"
      ]
     },
     "execution_count": 11,
     "metadata": {},
     "output_type": "execute_result"
    }
   ],
   "source": [
    "component"
   ]
  },
  {
   "cell_type": "code",
   "execution_count": 301,
   "metadata": {
    "collapsed": true
   },
   "outputs": [
    {
     "name": "stdout",
     "output_type": "stream",
     "text": [
      "(1, 0, 0, 1)\n",
      "(2, 0, 0, 1)\n",
      "(2, 1, 0, 1)\n",
      "(3, 0, 0, 1)\n",
      "(3, 1, 0, 1)\n",
      "(3, 2, 0, 1)\n",
      "(4, 0, 1, (N^2 - 1)/(N - 1))\n",
      "(4, 1, 1, (N^3 - 1)/(N - 1))\n",
      "(4, 2, 1, (N^4 - 1)/(N - 1))\n",
      "(4, 3, 1, (N^5 - 1)/(N - 1))\n",
      "(5, 0, 0, (N^5 - 1)/(N - 1))\n",
      "(5, 1, 0, (N^5 - 1)/(N - 1))\n",
      "(5, 2, 0, (N^5 - 1)/(N - 1))\n",
      "(5, 3, 0, (N^5 - 1)/(N - 1))\n",
      "(5, 4, 0, (N^5 - 1)/(N - 1))\n"
     ]
    }
   ],
   "source": [
    "prod = 1\n",
    "pmults = [1,0,0,0,1,0]\n",
    "for i in range(n):\n",
    "    for j in range(i):\n",
    "        prod *= (1-N^(pmults[i]+j+1))/(1-N^(j+1))\n",
    "        print(i,j,pmults[i],prod)"
   ]
  },
  {
   "cell_type": "code",
   "execution_count": 300,
   "metadata": {
    "collapsed": true
   },
   "outputs": [
    {
     "data": {
      "text/plain": [
       "(N^5 - 1)/(N - 1)"
      ]
     },
     "execution_count": 300,
     "metadata": {},
     "output_type": "execute_result"
    }
   ],
   "source": [
    "prod"
   ]
  },
  {
   "cell_type": "code",
   "execution_count": null,
   "metadata": {
    "collapsed": true
   },
   "outputs": [],
   "source": []
  },
  {
   "cell_type": "code",
   "execution_count": null,
   "metadata": {
    "collapsed": true
   },
   "outputs": [],
   "source": []
  },
  {
   "cell_type": "code",
   "execution_count": null,
   "metadata": {
    "collapsed": true
   },
   "outputs": [],
   "source": []
  },
  {
   "cell_type": "markdown",
   "metadata": {},
   "source": [
    "## Simplicial Homology"
   ]
  },
  {
   "cell_type": "code",
   "execution_count": 8,
   "metadata": {},
   "outputs": [
    {
     "name": "stdout",
     "output_type": "stream",
     "text": [
      "{0: 0, 1: Z^6}\n",
      "{0: 0, 1: 0, 2: 0, 3: 0}\n"
     ]
    }
   ],
   "source": [
    "X = SimplicialComplex([[0,4],[0,5],[0,7],[1,4],[1,6],[1,8],[2,5],[2,6],[2,9],[3,7],[3,8],[3,9],\n",
    "                      [4,10],[5,11],[6,12],[7,12],[8,11],[9,10]])\n",
    "print(X.homology())\n",
    "Y = SimplicialComplex([[0,4,13,14],[0,5,13,14],[0,7,13,14],[1,4,13,14],[1,6,13,14],[1,8,13,14],[2,5,13,14],\n",
    "                       [2,6,13,14],[2,9,13,14],[3,7,13,14],[3,8,13,14],[3,9,13,14],\n",
    "                      [4,10,13,14],[5,11,13,14],[6,12,13,14],[7,12,13,14],[8,11,13,14],[9,10,13,14]])\n",
    "print(Y.homology())"
   ]
  },
  {
   "cell_type": "code",
   "execution_count": 10,
   "metadata": {},
   "outputs": [
    {
     "name": "stdout",
     "output_type": "stream",
     "text": [
      "{0: 0, 1: 0, 2: Z x Z x Z x Z}\n",
      "{0: 0, 1: 0, 2: 0, 3: 0, 4: 0}\n"
     ]
    }
   ],
   "source": [
    "complexes = [[0,6,17],[0,6,18],[0,6,19],[1,6,17],[1,6,18],[1,6,19],[2,6,17],[2,6,18],[2,6,19],\n",
    "                      [0,7,17],[0,8,18],[0,9,19],[1,10,17],[1,11,18],[1,12,19],[2,13,17],[2,14,18],[2,15,19],\n",
    "                      [0,7,20],[0,8,20],[0,9,20],[1,10,21],[1,11,21],[1,12,21],[2,13,22],[2,14,22],[2,15,22],\n",
    "                      [3,7,17],[4,8,18],[5,9,19],[3,10,17],[4,11,18],[5,12,19],[3,13,17],[4,14,18],[5,15,19],\n",
    "                      [3,7,20],[4,8,20],[5,9,20],[3,10,21],[4,11,21],[5,12,21],[3,13,22],[4,14,22],[5,15,22],\n",
    "                      [3,16,20],[4,16,20],[5,16,20],[3,16,21],[4,16,21],[5,16,21],[3,16,22],[4,16,22],[5,16,22]]\n",
    "X = SimplicialComplex(complexes)\n",
    "print(X.homology())\n",
    "newcomplexes = [c + [23,24] for c in complexes]\n",
    "Y = SimplicialComplex(newcomplexes)\n",
    "print(Y.homology())"
   ]
  },
  {
   "cell_type": "code",
   "execution_count": 7,
   "metadata": {},
   "outputs": [
    {
     "name": "stdout",
     "output_type": "stream",
     "text": [
      "{0: 0, 1: Z x Z}\n",
      "{0: 0, 1: 0, 2: 0, 3: 0}\n"
     ]
    }
   ],
   "source": [
    "X = SimplicialComplex([[0,1],[0,2],[0,3],[1,4],[2,5],[3,6],[4,7],[5,7],[6,7]])\n",
    "print(X.homology())\n",
    "Y = SimplicialComplex([[0,1,8,9],[0,2,8,9],[0,3,8,9],[1,4,8,9],[2,5,8,9],[3,6,8,9],[4,7,8,9],[5,7,8,9],[6,7,8,9]])\n",
    "print(Y.homology())"
   ]
  },
  {
   "cell_type": "code",
   "execution_count": 12,
   "metadata": {
    "collapsed": true
   },
   "outputs": [
    {
     "data": {
      "text/plain": [
       "{0: 0, 1: 0, 2: Z x Z x Z x Z}"
      ]
     },
     "execution_count": 12,
     "metadata": {},
     "output_type": "execute_result"
    }
   ],
   "source": [
    "X.homology()"
   ]
  },
  {
   "cell_type": "code",
   "execution_count": 7,
   "metadata": {
    "collapsed": true
   },
   "outputs": [
    {
     "data": {
      "text/plain": [
       "{0: 0, 1: Z x Z}"
      ]
     },
     "execution_count": 7,
     "metadata": {},
     "output_type": "execute_result"
    }
   ],
   "source": [
    "X = SimplicialComplex([[3,6],[4,6],[5,6],[0,3],[1,4],[2,5],[0,7],[1,7],[2,7]])\n",
    "X.homology()"
   ]
  },
  {
   "cell_type": "code",
   "execution_count": 8,
   "metadata": {
    "collapsed": true
   },
   "outputs": [
    {
     "data": {
      "text/plain": [
       "{0: 0, 1: Z}"
      ]
     },
     "execution_count": 8,
     "metadata": {},
     "output_type": "execute_result"
    }
   ],
   "source": [
    "X = SimplicialComplex([[0,3],[1,3],[0,4],[1,5],[2,4],[2,5]])\n",
    "X.homology()"
   ]
  },
  {
   "cell_type": "code",
   "execution_count": 2,
   "metadata": {
    "collapsed": true
   },
   "outputs": [],
   "source": [
    "class PseudoDendogram:\n",
    "    \n",
    "    def __init__(self,connections):\n",
    "        self.connections = connections\n",
    "        self.depth = len(connections)\n",
    "        self.nodecounts = [len(l) for l in connections] + [max(connections[-1])+1]\n",
    "        \n",
    "    \n",
    "    def contract(self, index):\n",
    "        if index >= self.depth or index < 1:\n",
    "            raise Exception('Index must be between 1 (inclusive) and the depth of the pseudo-dendogram (exclusive)')\n",
    "        newconnections = [l[:] for l in self.connections]\n",
    "        newconnections[index - 1] = [newconnections[index][i] for i in newconnections[index - 1]]\n",
    "        newconnections.pop(index)\n",
    "        return PseudoDendogram(newconnections)\n",
    "    \n",
    "    def __repr__(self):\n",
    "        return str(self.connections)\n",
    "                  \n",
    "    def expand(self, layer):\n",
    "        if self.nodecounts[layer] == self.nodecounts[layer-1]:\n",
    "            raise Exception('This layer cannot be expanded')\n",
    "\n",
    "        expandedconnectioncomponents= [[] for i in range(max(self.connections[layer])+1)]\n",
    "        for k in range(max(self.connections[layer])+1):\n",
    "            mult = self.connections[layer].count(k)\n",
    "            for p in Partitions(mult):\n",
    "                expandedconnectioncomponents[k] += twostageconnectionsfrompartition(list(p))\n",
    "\n",
    "\n",
    "        indices = [0 for comp in expandedconnectioncomponents]\n",
    "        maxindices = [len(comp)-1 for comp in expandedconnectioncomponents]\n",
    "        expandedconnections = []\n",
    "        while indices != maxindices:\n",
    "            tempconnections = [[],[]]\n",
    "            firstlayertotal = 0\n",
    "            secondlayertotal = 0\n",
    "            for i in range(len(indices)):\n",
    "                comp = expandedconnectioncomponents[i][indices[i]]\n",
    "                tempconnections[0] += [j+firstlayertotal for j in comp[0]]\n",
    "                tempconnections[1] += [j+secondlayertotal for j in comp[1]]\n",
    "                firstlayertotal += max(comp[0]) + 1\n",
    "                secondlayertotal += max(comp[1]) + 1\n",
    "            expandedconnections.append(tempconnections)\n",
    "    \n",
    "            i = len(indices) - 1\n",
    "            while indices[i] == maxindices[i]:\n",
    "                i -= 1\n",
    "            indices[i] += 1\n",
    "            for j in range(i+1, len(indices)):\n",
    "                indices[j] = 0\n",
    "    \n",
    "        expandedconnections.pop(0)\n",
    "        expandedconnections = [self.connections[:layer] + conn + self.connections[layer+1:] for conn in expandedconnections]\n",
    "        return [PseudoDendogram(conn) for conn in expandedconnections]\n",
    "    \n",
    "    def __eq__(self,other):\n",
    "        if isinstance(other,PseudoDendogram):\n",
    "            return self.toset() == other.toset()\n",
    "        else:\n",
    "            return NotImplemented\n",
    "        \n",
    "    def __hash__(self):\n",
    "        return hash(self.toset())\n",
    "\n",
    "    \n",
    "    def toset(self):\n",
    "        inputs = [i+1 for i in range(len(self.connections[0]))]\n",
    "        for j in range(self.depth):\n",
    "            setlist = []\n",
    "            for i in range(max(self.connections[j])+1):\n",
    "                tempsetlist = []\n",
    "                try:\n",
    "                    index = -1\n",
    "                    while True:\n",
    "                        index = self.connections[j].index(i,index+1)\n",
    "                        tempsetlist.append(index)\n",
    "                except (ValueError):\n",
    "                    pass\n",
    "                tempsetlist = [inputs[k] for k in tempsetlist]\n",
    "                setlist.append(frozenset(tempsetlist))\n",
    "            inputs = setlist\n",
    "        return frozenset(setlist)\n",
    "    \n",
    "def twostageconnectionsfrompartition(p):\n",
    "    #Splitting up the partition by length of row. Finding the possible positions for each length.\n",
    "    n=sum(p)\n",
    "    pmults = [p.count(i+1) for i in range(n)]\n",
    "    combspermult = [[] for i in range(n)]\n",
    "    ntemp = n\n",
    "    for i in range(n):\n",
    "        combspermult[i] = list(Combinations(ntemp,(i+1)*pmults[i]))\n",
    "        ntemp -= (i+1)*pmults[i]\n",
    "\n",
    "    #For each length of row, finding the possible positions purely among themselves\n",
    "    combinationslist = [[] for i in range(n)]\n",
    "    for i in range(n):\n",
    "        m = (i+1)*pmults[i]\n",
    "        if m > 0:\n",
    "            combs = list(Combinations(m,i+1))\n",
    "            #setting up multiindex\n",
    "            indices = [j for j in range(pmults[i])]\n",
    "            maxindices = [len(combs) - pmults[i] +j for j in range(pmults[i])]\n",
    "            while True:\n",
    "                chosencombs = [ combs[j] for j in indices]\n",
    "                if len(set([]).union(*chosencombs)) == m:\n",
    "                    for combpermult in combspermult[i]:\n",
    "                        combinationslist[i].append([ [combpermult[j] for j in comb] for comb in chosencombs])\n",
    "                \n",
    "                #iterator block for multiindex\n",
    "                if indices == maxindices:\n",
    "                    break\n",
    "                j = len(indices) - 1\n",
    "                while indices[j] == maxindices[j]:\n",
    "                    j -= 1\n",
    "                indices[j] += 1\n",
    "                for k in range(j+1, len(indices)):\n",
    "                    indices[k] = indices[j] + k - j\n",
    "    \n",
    "    #Combining the two sets of possible positions\n",
    "    connectionslist = []\n",
    "    indices = [ 0 for comb in combinationslist]\n",
    "    maxindices = [max(len(comb)-1,0) for comb in combinationslist]\n",
    "    while True:\n",
    "        tempconnection = [[None for j in range(n)],[0 for j in  range(len(p))]]\n",
    "        remainingpositions = [i for i in range(n)]\n",
    "        target = 0\n",
    "        for i in range(len(combinationslist)):\n",
    "            if len(combinationslist[i]) > 0:\n",
    "                comb = combinationslist[i][indices[i]]\n",
    "            \n",
    "                for subcomb in comb:\n",
    "                    for j in subcomb:\n",
    "                        tempconnection[0][remainingpositions[j]] = target\n",
    "                    target += 1\n",
    "                    \n",
    "                positionstoremove = list(set([]).union(*comb))\n",
    "                positionstoremove.sort()\n",
    "                positionstoremove.reverse()\n",
    "                for j in positionstoremove:\n",
    "                    remainingpositions.pop(j)\n",
    "                \n",
    "                \n",
    "        connectionslist.append(tempconnection)\n",
    "        \n",
    "        #iterator block\n",
    "        if indices == maxindices:\n",
    "            break\n",
    "        i = len(indices) - 1\n",
    "        while indices[i] == maxindices[i]:\n",
    "            i -= 1\n",
    "        indices[i] += 1\n",
    "        for j in range(i+1, len(indices)):\n",
    "            indices[j] = 0\n",
    "    \n",
    "    return connectionslist\n",
    "\n",
    "def dendogramcomplex(onestagedend):\n",
    "    n = onestagedend.nodecounts[0] - onestagedend.nodecounts[1]\n",
    "    dendlist = [[onestagedend]] + [[] for i in range(n-1)]\n",
    "    for i in range(n-1):\n",
    "        for dend in dendlist[i]:\n",
    "            for layer in range(dend.depth):\n",
    "                if dend.nodecounts[layer] > dend.nodecounts[layer+1] + 1:\n",
    "                    dendlist[i+1] += dend.expand(layer)\n",
    "        dendlist[i+1] = list(set(dendlist[i+1]))\n",
    "\n",
    "    facets = []\n",
    "    for dend in dendlist[n-1]:\n",
    "        facet = []\n",
    "        for uncontractedlayer in range(n-1):\n",
    "            contracteddend = dend\n",
    "            for layer in range(n-2):\n",
    "                if layer >= uncontractedlayer:\n",
    "                    contracteddend = contracteddend.contract(2)\n",
    "                else:\n",
    "                    contracteddend = contracteddend.contract(1)\n",
    "            facet.append(dendlist[1].index(contracteddend))\n",
    "        facets.append(facet)\n",
    "    return SimplicialComplex(facets)\n",
    "\n",
    "def dendogramhomology(onestagedend):\n",
    "    return onestagedend.dendogramcomplex().homology()\n",
    " \n",
    "        \n",
    "\n",
    "        "
   ]
  },
  {
   "cell_type": "code",
   "execution_count": 553,
   "metadata": {
    "collapsed": true
   },
   "outputs": [
    {
     "name": "stdout",
     "output_type": "stream",
     "text": [
      "[1, 201, 1865, 4245, 2700]\n",
      "{0: 0, 1: 0, 2: 0, 3: Z^120}\n"
     ]
    }
   ],
   "source": [
    "dendogramhomology(PseudoDendogram([[0,0,0,0,0,0]]))"
   ]
  },
  {
   "cell_type": "code",
   "execution_count": 12,
   "metadata": {
    "collapsed": true
   },
   "outputs": [
    {
     "data": {
      "text/plain": [
       "[875, 16674, 74165, 114345, 56700]"
      ]
     },
     "execution_count": 12,
     "metadata": {},
     "output_type": "execute_result"
    }
   ],
   "source": [
    "X = dendogramcomplex(PseudoDendogram([[0,0,0,0,0,0,0]]))\n",
    "a = X.cells()\n",
    "[len(a[i]) for i in range(5)]"
   ]
  },
  {
   "cell_type": "code",
   "execution_count": 13,
   "metadata": {
    "collapsed": true
   },
   "outputs": [
    {
     "data": {
      "text/plain": [
       "{0: 0, 1: 0, 2: 0, 3: 0, 4: Z^720}"
      ]
     },
     "execution_count": 13,
     "metadata": {},
     "output_type": "execute_result"
    }
   ],
   "source": [
    "X.homology()"
   ]
  },
  {
   "cell_type": "code",
   "execution_count": 28,
   "metadata": {
    "collapsed": true
   },
   "outputs": [
    {
     "name": "stdout",
     "output_type": "stream",
     "text": [
      "[258, 3519, 13060, 17850, 8100]\n",
      "{0: 0, 1: 0, 2: 0, 3: 0, 4: Z^48}\n"
     ]
    }
   ],
   "source": [
    "conn = [0,0,0,0,0,1,1,1]\n",
    "n = len(conn) - max(conn) - 1\n",
    "X = dendogramcomplex(PseudoDendogram([conn]))\n",
    "a = X.cells()\n",
    "print([len(a[i]) for i in range(n-1)])\n",
    "print(X.homology())"
   ]
  },
  {
   "cell_type": "code",
   "execution_count": 20,
   "metadata": {
    "collapsed": true
   },
   "outputs": [
    {
     "name": "stdout",
     "output_type": "stream",
     "text": [
      "{0: 0, 1: 0, 2: 0, 3: Z^120}\n"
     ]
    }
   ],
   "source": [
    "print(X.homology())\n",
    "          "
   ]
  },
  {
   "cell_type": "code",
   "execution_count": 447,
   "metadata": {
    "collapsed": true
   },
   "outputs": [
    {
     "data": {
      "text/plain": [
       "[4, 5]"
      ]
     },
     "execution_count": 447,
     "metadata": {},
     "output_type": "execute_result"
    }
   ],
   "source": [
    "subcomb"
   ]
  },
  {
   "cell_type": "code",
   "execution_count": 448,
   "metadata": {
    "collapsed": true
   },
   "outputs": [
    {
     "data": {
      "text/plain": [
       "5"
      ]
     },
     "execution_count": 448,
     "metadata": {},
     "output_type": "execute_result"
    }
   ],
   "source": [
    "j"
   ]
  },
  {
   "cell_type": "code",
   "execution_count": 481,
   "metadata": {
    "collapsed": true
   },
   "outputs": [
    {
     "name": "stdout",
     "output_type": "stream",
     "text": [
      "3\n",
      "[13, 6, 3, 2]\n",
      "[[0, 0, 0, 0, 0, 0, 0, 1, 1, 1, 1, 1, 2], [0, 0, 1]]\n",
      "[[0, 0, 0, 0, 1, 1, 1, 2, 2, 3, 3, 4, 5], [0, 0, 0, 0, 0, 1]]\n"
     ]
    }
   ],
   "source": [
    "connections = [[0,0,0,0,1,1,1,2,2,3,3,4,5],[0,0,1,1,1,2],[0,0,1]]\n",
    "connections2 = [[2,2,2,2,5,5,5,1,1,4,4,3,0],[0,1,2,1,1,2],[0,1,1]]\n",
    "dend = PseudoDendogram(connections)\n",
    "dend2 = PseudoDendogram(connections2)\n",
    "print(dend.depth)\n",
    "print(dend.nodecounts)\n",
    "condend1 = dend.contract(1)\n",
    "condend21 = dend2.contract(1)\n",
    "print(condend1.connections)\n",
    "condend2 = dend.contract(2)\n",
    "condend22 = dend2.contract(2)\n",
    "print(condend2.connections)"
   ]
  },
  {
   "cell_type": "code",
   "execution_count": 484,
   "metadata": {
    "collapsed": true
   },
   "outputs": [
    {
     "ename": "NameError",
     "evalue": "global name 'expandedconnetions' is not defined",
     "output_type": "error",
     "traceback": [
      "\u001b[0;31m---------------------------------------------------------------------------\u001b[0m",
      "\u001b[0;31mNameError\u001b[0m                                 Traceback (most recent call last)",
      "\u001b[0;32m<ipython-input-484-ece7b9420231>\u001b[0m in \u001b[0;36m<module>\u001b[0;34m()\u001b[0m\n\u001b[1;32m      1\u001b[0m \u001b[0mdend\u001b[0m \u001b[0;34m=\u001b[0m \u001b[0mPseudoDendogram\u001b[0m\u001b[0;34m(\u001b[0m\u001b[0;34m[\u001b[0m\u001b[0;34m[\u001b[0m\u001b[0mInteger\u001b[0m\u001b[0;34m(\u001b[0m\u001b[0;36m0\u001b[0m\u001b[0;34m)\u001b[0m\u001b[0;34m,\u001b[0m\u001b[0mInteger\u001b[0m\u001b[0;34m(\u001b[0m\u001b[0;36m0\u001b[0m\u001b[0;34m)\u001b[0m\u001b[0;34m,\u001b[0m\u001b[0mInteger\u001b[0m\u001b[0;34m(\u001b[0m\u001b[0;36m0\u001b[0m\u001b[0;34m)\u001b[0m\u001b[0;34m]\u001b[0m\u001b[0;34m]\u001b[0m\u001b[0;34m)\u001b[0m\u001b[0;34m\u001b[0m\u001b[0m\n\u001b[0;32m----> 2\u001b[0;31m \u001b[0mdend\u001b[0m\u001b[0;34m.\u001b[0m\u001b[0mexpand\u001b[0m\u001b[0;34m(\u001b[0m\u001b[0mInteger\u001b[0m\u001b[0;34m(\u001b[0m\u001b[0;36m0\u001b[0m\u001b[0;34m)\u001b[0m\u001b[0;34m)\u001b[0m\u001b[0;34m\u001b[0m\u001b[0m\n\u001b[0m",
      "\u001b[0;32m<ipython-input-479-537f7353bf99>\u001b[0m in \u001b[0;36mexpand\u001b[0;34m(self, layer)\u001b[0m\n\u001b[1;32m     53\u001b[0m         \u001b[0mexpandedconnections\u001b[0m\u001b[0;34m.\u001b[0m\u001b[0mpop\u001b[0m\u001b[0;34m(\u001b[0m\u001b[0mInteger\u001b[0m\u001b[0;34m(\u001b[0m\u001b[0;36m0\u001b[0m\u001b[0;34m)\u001b[0m\u001b[0;34m)\u001b[0m\u001b[0;34m\u001b[0m\u001b[0m\n\u001b[1;32m     54\u001b[0m         \u001b[0mexpandedconnections\u001b[0m \u001b[0;34m=\u001b[0m \u001b[0;34m[\u001b[0m\u001b[0mconnections\u001b[0m\u001b[0;34m[\u001b[0m\u001b[0;34m:\u001b[0m\u001b[0mlayer\u001b[0m\u001b[0;34m]\u001b[0m \u001b[0;34m+\u001b[0m \u001b[0mconn\u001b[0m \u001b[0;34m+\u001b[0m \u001b[0mconnections\u001b[0m\u001b[0;34m[\u001b[0m\u001b[0mlayer\u001b[0m\u001b[0;34m+\u001b[0m\u001b[0mInteger\u001b[0m\u001b[0;34m(\u001b[0m\u001b[0;36m1\u001b[0m\u001b[0;34m)\u001b[0m\u001b[0;34m:\u001b[0m\u001b[0;34m]\u001b[0m \u001b[0;32mfor\u001b[0m \u001b[0mconn\u001b[0m \u001b[0;32min\u001b[0m \u001b[0mexpandedconnections\u001b[0m\u001b[0;34m]\u001b[0m\u001b[0;34m\u001b[0m\u001b[0m\n\u001b[0;32m---> 55\u001b[0;31m         \u001b[0;32mreturn\u001b[0m \u001b[0;34m[\u001b[0m\u001b[0mPseudoDendogram\u001b[0m\u001b[0;34m(\u001b[0m\u001b[0mconn\u001b[0m\u001b[0;34m)\u001b[0m \u001b[0;32mfor\u001b[0m \u001b[0mconn\u001b[0m \u001b[0;32min\u001b[0m \u001b[0mexpandedconnetions\u001b[0m\u001b[0;34m]\u001b[0m\u001b[0;34m\u001b[0m\u001b[0m\n\u001b[0m\u001b[1;32m     56\u001b[0m \u001b[0;34m\u001b[0m\u001b[0m\n\u001b[1;32m     57\u001b[0m     \u001b[0;32mdef\u001b[0m \u001b[0m__eq__\u001b[0m\u001b[0;34m(\u001b[0m\u001b[0mself\u001b[0m\u001b[0;34m,\u001b[0m\u001b[0mother\u001b[0m\u001b[0;34m)\u001b[0m\u001b[0;34m:\u001b[0m\u001b[0;34m\u001b[0m\u001b[0m\n",
      "\u001b[0;31mNameError\u001b[0m: global name 'expandedconnetions' is not defined"
     ]
    }
   ],
   "source": []
  },
  {
   "cell_type": "code",
   "execution_count": 433,
   "metadata": {
    "collapsed": true
   },
   "outputs": [
    {
     "data": {
      "text/plain": [
       "2520"
      ]
     },
     "execution_count": 433,
     "metadata": {},
     "output_type": "execute_result"
    }
   ],
   "source": [
    "factorial(9)/(3*8*6)"
   ]
  },
  {
   "cell_type": "code",
   "execution_count": null,
   "metadata": {
    "collapsed": true
   },
   "outputs": [],
   "source": []
  },
  {
   "cell_type": "code",
   "execution_count": null,
   "metadata": {
    "collapsed": true
   },
   "outputs": [],
   "source": []
  },
  {
   "cell_type": "code",
   "execution_count": null,
   "metadata": {
    "collapsed": true
   },
   "outputs": [],
   "source": []
  },
  {
   "cell_type": "code",
   "execution_count": null,
   "metadata": {
    "collapsed": true
   },
   "outputs": [],
   "source": []
  },
  {
   "cell_type": "code",
   "execution_count": null,
   "metadata": {
    "collapsed": true
   },
   "outputs": [],
   "source": []
  },
  {
   "cell_type": "code",
   "execution_count": null,
   "metadata": {
    "collapsed": true
   },
   "outputs": [],
   "source": []
  },
  {
   "cell_type": "code",
   "execution_count": null,
   "metadata": {
    "collapsed": true
   },
   "outputs": [],
   "source": []
  },
  {
   "cell_type": "code",
   "execution_count": null,
   "metadata": {
    "collapsed": true
   },
   "outputs": [],
   "source": []
  },
  {
   "cell_type": "code",
   "execution_count": null,
   "metadata": {
    "collapsed": true
   },
   "outputs": [],
   "source": []
  },
  {
   "cell_type": "code",
   "execution_count": null,
   "metadata": {
    "collapsed": true
   },
   "outputs": [],
   "source": []
  },
  {
   "cell_type": "code",
   "execution_count": null,
   "metadata": {
    "collapsed": true
   },
   "outputs": [],
   "source": []
  },
  {
   "cell_type": "code",
   "execution_count": null,
   "metadata": {
    "collapsed": true
   },
   "outputs": [],
   "source": []
  },
  {
   "cell_type": "code",
   "execution_count": null,
   "metadata": {
    "collapsed": true
   },
   "outputs": [],
   "source": []
  },
  {
   "cell_type": "code",
   "execution_count": null,
   "metadata": {
    "collapsed": true
   },
   "outputs": [],
   "source": []
  },
  {
   "cell_type": "code",
   "execution_count": null,
   "metadata": {
    "collapsed": true
   },
   "outputs": [],
   "source": []
  },
  {
   "cell_type": "code",
   "execution_count": null,
   "metadata": {
    "collapsed": true
   },
   "outputs": [],
   "source": []
  },
  {
   "cell_type": "code",
   "execution_count": null,
   "metadata": {
    "collapsed": true
   },
   "outputs": [],
   "source": []
  },
  {
   "cell_type": "code",
   "execution_count": null,
   "metadata": {
    "collapsed": true
   },
   "outputs": [],
   "source": []
  },
  {
   "cell_type": "code",
   "execution_count": null,
   "metadata": {
    "collapsed": true
   },
   "outputs": [],
   "source": []
  },
  {
   "cell_type": "code",
   "execution_count": null,
   "metadata": {
    "collapsed": true
   },
   "outputs": [],
   "source": []
  },
  {
   "cell_type": "code",
   "execution_count": null,
   "metadata": {
    "collapsed": true
   },
   "outputs": [],
   "source": []
  },
  {
   "cell_type": "code",
   "execution_count": null,
   "metadata": {
    "collapsed": true
   },
   "outputs": [],
   "source": []
  },
  {
   "cell_type": "code",
   "execution_count": null,
   "metadata": {
    "collapsed": true
   },
   "outputs": [],
   "source": []
  },
  {
   "cell_type": "code",
   "execution_count": null,
   "metadata": {
    "collapsed": true
   },
   "outputs": [],
   "source": []
  },
  {
   "cell_type": "code",
   "execution_count": null,
   "metadata": {},
   "outputs": [],
   "source": []
  },
  {
   "cell_type": "code",
   "execution_count": null,
   "metadata": {},
   "outputs": [],
   "source": []
  },
  {
   "cell_type": "code",
   "execution_count": null,
   "metadata": {
    "collapsed": true
   },
   "outputs": [],
   "source": []
  },
  {
   "cell_type": "code",
   "execution_count": null,
   "metadata": {
    "collapsed": true
   },
   "outputs": [],
   "source": []
  },
  {
   "cell_type": "code",
   "execution_count": null,
   "metadata": {
    "collapsed": true
   },
   "outputs": [],
   "source": []
  },
  {
   "cell_type": "code",
   "execution_count": null,
   "metadata": {
    "collapsed": true
   },
   "outputs": [],
   "source": []
  },
  {
   "cell_type": "code",
   "execution_count": null,
   "metadata": {
    "collapsed": true
   },
   "outputs": [],
   "source": []
  },
  {
   "cell_type": "code",
   "execution_count": null,
   "metadata": {
    "collapsed": true
   },
   "outputs": [],
   "source": []
  },
  {
   "cell_type": "code",
   "execution_count": null,
   "metadata": {
    "collapsed": true
   },
   "outputs": [],
   "source": []
  },
  {
   "cell_type": "code",
   "execution_count": null,
   "metadata": {
    "collapsed": true
   },
   "outputs": [],
   "source": []
  },
  {
   "cell_type": "code",
   "execution_count": null,
   "metadata": {
    "collapsed": true
   },
   "outputs": [],
   "source": []
  },
  {
   "cell_type": "code",
   "execution_count": null,
   "metadata": {
    "collapsed": true
   },
   "outputs": [],
   "source": []
  },
  {
   "cell_type": "code",
   "execution_count": null,
   "metadata": {
    "collapsed": true
   },
   "outputs": [],
   "source": []
  },
  {
   "cell_type": "code",
   "execution_count": null,
   "metadata": {
    "collapsed": true
   },
   "outputs": [],
   "source": []
  },
  {
   "cell_type": "code",
   "execution_count": null,
   "metadata": {
    "collapsed": true
   },
   "outputs": [],
   "source": []
  },
  {
   "cell_type": "code",
   "execution_count": null,
   "metadata": {
    "collapsed": true
   },
   "outputs": [],
   "source": []
  },
  {
   "cell_type": "code",
   "execution_count": null,
   "metadata": {
    "collapsed": true
   },
   "outputs": [],
   "source": []
  },
  {
   "cell_type": "code",
   "execution_count": null,
   "metadata": {
    "collapsed": true
   },
   "outputs": [],
   "source": []
  },
  {
   "cell_type": "code",
   "execution_count": null,
   "metadata": {
    "collapsed": true
   },
   "outputs": [],
   "source": []
  },
  {
   "cell_type": "code",
   "execution_count": null,
   "metadata": {
    "collapsed": true
   },
   "outputs": [],
   "source": []
  },
  {
   "cell_type": "code",
   "execution_count": null,
   "metadata": {
    "collapsed": true
   },
   "outputs": [],
   "source": []
  },
  {
   "cell_type": "code",
   "execution_count": null,
   "metadata": {
    "collapsed": true
   },
   "outputs": [],
   "source": []
  },
  {
   "cell_type": "code",
   "execution_count": null,
   "metadata": {
    "collapsed": true
   },
   "outputs": [],
   "source": []
  },
  {
   "cell_type": "code",
   "execution_count": null,
   "metadata": {
    "collapsed": true
   },
   "outputs": [],
   "source": []
  },
  {
   "cell_type": "code",
   "execution_count": null,
   "metadata": {
    "collapsed": true
   },
   "outputs": [],
   "source": []
  },
  {
   "cell_type": "code",
   "execution_count": null,
   "metadata": {
    "collapsed": true
   },
   "outputs": [],
   "source": []
  },
  {
   "cell_type": "code",
   "execution_count": null,
   "metadata": {
    "collapsed": true
   },
   "outputs": [],
   "source": []
  },
  {
   "cell_type": "code",
   "execution_count": null,
   "metadata": {
    "collapsed": true
   },
   "outputs": [],
   "source": []
  },
  {
   "cell_type": "code",
   "execution_count": null,
   "metadata": {
    "collapsed": true
   },
   "outputs": [],
   "source": []
  },
  {
   "cell_type": "code",
   "execution_count": null,
   "metadata": {
    "collapsed": true
   },
   "outputs": [],
   "source": []
  },
  {
   "cell_type": "code",
   "execution_count": null,
   "metadata": {
    "collapsed": true
   },
   "outputs": [],
   "source": []
  },
  {
   "cell_type": "code",
   "execution_count": null,
   "metadata": {
    "collapsed": true
   },
   "outputs": [],
   "source": []
  },
  {
   "cell_type": "code",
   "execution_count": null,
   "metadata": {
    "collapsed": true
   },
   "outputs": [],
   "source": []
  },
  {
   "cell_type": "code",
   "execution_count": null,
   "metadata": {
    "collapsed": true
   },
   "outputs": [],
   "source": []
  },
  {
   "cell_type": "code",
   "execution_count": null,
   "metadata": {
    "collapsed": true
   },
   "outputs": [],
   "source": []
  },
  {
   "cell_type": "code",
   "execution_count": null,
   "metadata": {
    "collapsed": true
   },
   "outputs": [],
   "source": []
  },
  {
   "cell_type": "code",
   "execution_count": null,
   "metadata": {
    "collapsed": true
   },
   "outputs": [],
   "source": []
  },
  {
   "cell_type": "code",
   "execution_count": null,
   "metadata": {
    "collapsed": true
   },
   "outputs": [],
   "source": []
  },
  {
   "cell_type": "code",
   "execution_count": null,
   "metadata": {
    "collapsed": true
   },
   "outputs": [],
   "source": []
  },
  {
   "cell_type": "code",
   "execution_count": null,
   "metadata": {
    "collapsed": true
   },
   "outputs": [],
   "source": []
  },
  {
   "cell_type": "code",
   "execution_count": null,
   "metadata": {
    "collapsed": true
   },
   "outputs": [],
   "source": []
  },
  {
   "cell_type": "code",
   "execution_count": null,
   "metadata": {
    "collapsed": true
   },
   "outputs": [],
   "source": []
  },
  {
   "cell_type": "code",
   "execution_count": null,
   "metadata": {
    "collapsed": true
   },
   "outputs": [],
   "source": []
  },
  {
   "cell_type": "code",
   "execution_count": null,
   "metadata": {
    "collapsed": true
   },
   "outputs": [],
   "source": []
  },
  {
   "cell_type": "code",
   "execution_count": null,
   "metadata": {
    "collapsed": true
   },
   "outputs": [],
   "source": []
  },
  {
   "cell_type": "code",
   "execution_count": null,
   "metadata": {},
   "outputs": [],
   "source": []
  },
  {
   "cell_type": "code",
   "execution_count": null,
   "metadata": {},
   "outputs": [],
   "source": []
  },
  {
   "cell_type": "code",
   "execution_count": null,
   "metadata": {},
   "outputs": [],
   "source": []
  },
  {
   "cell_type": "code",
   "execution_count": null,
   "metadata": {
    "collapsed": true
   },
   "outputs": [],
   "source": []
  },
  {
   "cell_type": "code",
   "execution_count": null,
   "metadata": {
    "collapsed": true
   },
   "outputs": [],
   "source": []
  },
  {
   "cell_type": "code",
   "execution_count": null,
   "metadata": {
    "collapsed": true
   },
   "outputs": [],
   "source": []
  },
  {
   "cell_type": "code",
   "execution_count": null,
   "metadata": {
    "collapsed": true
   },
   "outputs": [],
   "source": []
  },
  {
   "cell_type": "code",
   "execution_count": null,
   "metadata": {},
   "outputs": [],
   "source": []
  },
  {
   "cell_type": "code",
   "execution_count": null,
   "metadata": {
    "collapsed": true
   },
   "outputs": [],
   "source": []
  },
  {
   "cell_type": "code",
   "execution_count": null,
   "metadata": {
    "collapsed": true
   },
   "outputs": [],
   "source": []
  },
  {
   "cell_type": "code",
   "execution_count": null,
   "metadata": {
    "collapsed": true
   },
   "outputs": [],
   "source": []
  },
  {
   "cell_type": "code",
   "execution_count": null,
   "metadata": {},
   "outputs": [],
   "source": []
  },
  {
   "cell_type": "code",
   "execution_count": null,
   "metadata": {},
   "outputs": [],
   "source": []
  },
  {
   "cell_type": "code",
   "execution_count": null,
   "metadata": {},
   "outputs": [],
   "source": []
  },
  {
   "cell_type": "code",
   "execution_count": null,
   "metadata": {},
   "outputs": [],
   "source": []
  },
  {
   "cell_type": "code",
   "execution_count": null,
   "metadata": {},
   "outputs": [],
   "source": []
  },
  {
   "cell_type": "code",
   "execution_count": null,
   "metadata": {
    "collapsed": true
   },
   "outputs": [],
   "source": []
  },
  {
   "cell_type": "code",
   "execution_count": null,
   "metadata": {},
   "outputs": [],
   "source": []
  },
  {
   "cell_type": "code",
   "execution_count": null,
   "metadata": {},
   "outputs": [],
   "source": []
  },
  {
   "cell_type": "code",
   "execution_count": null,
   "metadata": {},
   "outputs": [],
   "source": []
  },
  {
   "cell_type": "code",
   "execution_count": null,
   "metadata": {
    "collapsed": true
   },
   "outputs": [],
   "source": []
  },
  {
   "cell_type": "code",
   "execution_count": null,
   "metadata": {},
   "outputs": [],
   "source": []
  },
  {
   "cell_type": "code",
   "execution_count": null,
   "metadata": {},
   "outputs": [],
   "source": []
  },
  {
   "cell_type": "code",
   "execution_count": null,
   "metadata": {},
   "outputs": [],
   "source": []
  },
  {
   "cell_type": "code",
   "execution_count": null,
   "metadata": {},
   "outputs": [],
   "source": []
  },
  {
   "cell_type": "code",
   "execution_count": null,
   "metadata": {},
   "outputs": [],
   "source": []
  },
  {
   "cell_type": "code",
   "execution_count": null,
   "metadata": {},
   "outputs": [],
   "source": []
  },
  {
   "cell_type": "code",
   "execution_count": 194,
   "metadata": {
    "collapsed": true
   },
   "outputs": [
    {
     "data": {
      "text/plain": [
       "(14.666666666666668*N^4 + 101.33333333333333*N^3 + 204.0*N^2 + 48.0*N - 144.0)/((N + 3)*(N + 2)*(N + 1)*(N - 1)*(N - 2)*(N - 3)*N^2)"
      ]
     },
     "execution_count": 194,
     "metadata": {},
     "output_type": "execute_result"
    }
   ],
   "source": [
    "gArrayCorr(basis[1],basis[2])"
   ]
  },
  {
   "cell_type": "code",
   "execution_count": 195,
   "metadata": {
    "collapsed": true
   },
   "outputs": [
    {
     "data": {
      "text/plain": [
       "(16.666666666666668*N^4 + 96.0*N^3 + 162.0*N^2 + 96.0*N + 72.0)/((N + 3)*(N + 2)*(N + 1)*(N - 1)*(N - 2)*(N - 3)*N^2)"
      ]
     },
     "execution_count": 195,
     "metadata": {},
     "output_type": "execute_result"
    }
   ],
   "source": [
    "gArrayCorr(basis[1],basis[3])"
   ]
  },
  {
   "cell_type": "code",
   "execution_count": 196,
   "metadata": {
    "collapsed": true
   },
   "outputs": [
    {
     "data": {
      "text/plain": [
       "(14.666666666666668*N^4 + 101.33333333333333*N^3 + 204.0*N^2 + 48.0*N - 144.0)/((N + 3)*(N + 2)*(N + 1)*(N - 1)*(N - 2)*(N - 3)*N^2)"
      ]
     },
     "execution_count": 196,
     "metadata": {},
     "output_type": "execute_result"
    }
   ],
   "source": [
    "gArrayCorr(basis[1],basis[4])"
   ]
  },
  {
   "cell_type": "code",
   "execution_count": 197,
   "metadata": {
    "collapsed": true
   },
   "outputs": [
    {
     "data": {
      "text/plain": [
       "(50.666666666666664*N^4 + 106.66666666666666*N^3 - 168.0*N^2 + 288.0)/((N + 3)*(N + 2)*(N + 1)*(N - 1)*(N - 2)*(N - 3)*N^2)"
      ]
     },
     "execution_count": 197,
     "metadata": {},
     "output_type": "execute_result"
    }
   ],
   "source": [
    "gArrayCorr(basis[2],basis[2])"
   ]
  },
  {
   "cell_type": "code",
   "execution_count": 198,
   "metadata": {
    "collapsed": true
   },
   "outputs": [
    {
     "data": {
      "text/plain": [
       "(14.666666666666668*N^4 + 101.33333333333333*N^3 + 204.0*N^2 + 48.0*N - 144.0)/((N + 3)*(N + 2)*(N + 1)*(N - 1)*(N - 2)*(N - 3)*N^2)"
      ]
     },
     "execution_count": 198,
     "metadata": {},
     "output_type": "execute_result"
    }
   ],
   "source": [
    "gArrayCorr(basis[2],basis[3])"
   ]
  },
  {
   "cell_type": "code",
   "execution_count": 199,
   "metadata": {
    "collapsed": true
   },
   "outputs": [
    {
     "data": {
      "text/plain": [
       "(18.666666666666668*N^4 + 106.66666666666667*N^3 + 120.0*N^2 + 288.0)/((N + 3)*(N + 2)*(N + 1)*(N - 1)*(N - 2)*(N - 3)*N^2)"
      ]
     },
     "execution_count": 199,
     "metadata": {},
     "output_type": "execute_result"
    }
   ],
   "source": [
    "gArrayCorr(basis[2],basis[4])"
   ]
  },
  {
   "cell_type": "code",
   "execution_count": 200,
   "metadata": {
    "collapsed": true
   },
   "outputs": [
    {
     "data": {
      "text/plain": [
       "(24.666666666666668*N^4 + 96.0*N^3 + 90.0*N^2 + 96.0*N + 72.0)/((N + 3)*(N + 2)*(N + 1)*(N - 1)*(N - 2)*(N - 3)*N^2)"
      ]
     },
     "execution_count": 200,
     "metadata": {},
     "output_type": "execute_result"
    }
   ],
   "source": [
    "gArrayCorr(basis[3],basis[3])"
   ]
  },
  {
   "cell_type": "code",
   "execution_count": 201,
   "metadata": {
    "collapsed": true
   },
   "outputs": [
    {
     "data": {
      "text/plain": [
       "(14.666666666666668*N^4 + 101.33333333333333*N^3 + 204.0*N^2 + 48.0*N - 144.0)/((N + 3)*(N + 2)*(N + 1)*(N - 1)*(N - 2)*(N - 3)*N^2)"
      ]
     },
     "execution_count": 201,
     "metadata": {},
     "output_type": "execute_result"
    }
   ],
   "source": [
    "gArrayCorr(basis[3],basis[4])"
   ]
  },
  {
   "cell_type": "code",
   "execution_count": 202,
   "metadata": {
    "collapsed": true
   },
   "outputs": [
    {
     "data": {
      "text/plain": [
       "(34.66666666666667*N^4 + 106.66666666666666*N^3 - 24.000000000000007*N^2 + 288.0)/((N + 3)*(N + 2)*(N + 1)*(N - 1)*(N - 2)*(N - 3)*N^2)"
      ]
     },
     "execution_count": 202,
     "metadata": {},
     "output_type": "execute_result"
    }
   ],
   "source": [
    "gArrayCorr(basis[4],basis[4])"
   ]
  },
  {
   "cell_type": "code",
   "execution_count": 203,
   "metadata": {
    "collapsed": true
   },
   "outputs": [
    {
     "data": {
      "text/plain": [
       "<type 'sage.symbolic.expression.Expression'>"
      ]
     },
     "execution_count": 203,
     "metadata": {},
     "output_type": "execute_result"
    }
   ],
   "source": [
    "type((34.66666666666667*N^4 + 106.66666666666666*N^3 - 24.000000000000007*N^2 + 288.0)/((N + 3)*(N + 2)*(N + 1)*(N - 1)*(N - 2)*(N - 3)*N^2))"
   ]
  },
  {
   "cell_type": "code",
   "execution_count": null,
   "metadata": {
    "collapsed": true
   },
   "outputs": [],
   "source": []
  },
  {
   "cell_type": "code",
   "execution_count": null,
   "metadata": {
    "collapsed": true
   },
   "outputs": [],
   "source": []
  },
  {
   "cell_type": "code",
   "execution_count": 150,
   "metadata": {
    "collapsed": true
   },
   "outputs": [
    {
     "data": {
      "text/plain": [
       "32/3*N^3 + 48*N^2 + 64*N + 48"
      ]
     },
     "execution_count": 150,
     "metadata": {},
     "output_type": "execute_result"
    }
   ],
   "source": [
    "((2*N^2 + 3*N + 3)*(N+3)*16/3).expand()"
   ]
  },
  {
   "cell_type": "code",
   "execution_count": null,
   "metadata": {
    "collapsed": true
   },
   "outputs": [],
   "source": []
  },
  {
   "cell_type": "code",
   "execution_count": 130,
   "metadata": {
    "collapsed": true
   },
   "outputs": [],
   "source": [
    "matrix10 = np.zeros([9,9])\n",
    "for i in range(9):\n",
    "    for j in range(i,9):\n",
    "        matrix10[i,j] = (N^4 * matrix[i,j])(N=10)\n",
    "        matrix10[j,i] = matrix10[i,j]"
   ]
  },
  {
   "cell_type": "code",
   "execution_count": null,
   "metadata": {
    "collapsed": true
   },
   "outputs": [],
   "source": []
  },
  {
   "cell_type": "code",
   "execution_count": 66,
   "metadata": {
    "collapsed": true
   },
   "outputs": [],
   "source": [
    "Q,R = np.linalg.qr(matrix10)"
   ]
  },
  {
   "cell_type": "code",
   "execution_count": 75,
   "metadata": {
    "collapsed": true
   },
   "outputs": [
    {
     "data": {
      "text/plain": [
       "array([[-40.113191  ,  69.95503563,  85.25709471,  69.95503563,\n",
       "         77.18229338],\n",
       "       [  0.        ,  -9.83204582,   9.12586206,  -2.62556516,\n",
       "          4.87804346],\n",
       "       [  0.        ,   0.        , -30.98258568,   2.12265526,\n",
       "          1.33813509],\n",
       "       [  0.        ,   0.        ,   0.        ,  -9.23416846,\n",
       "          4.11449341],\n",
       "       [  0.        ,   0.        ,   0.        ,   0.        ,\n",
       "         16.50104641]])"
      ]
     },
     "execution_count": 75,
     "metadata": {},
     "output_type": "execute_result"
    }
   ],
   "source": [
    "R"
   ]
  },
  {
   "cell_type": "code",
   "execution_count": 77,
   "metadata": {
    "collapsed": true
   },
   "outputs": [],
   "source": [
    "L = np.linalg.cholesky(matrix10)"
   ]
  },
  {
   "cell_type": "code",
   "execution_count": 98,
   "metadata": {
    "collapsed": true
   },
   "outputs": [],
   "source": [
    "basisChange = np.linalg.inv(L.T)"
   ]
  },
  {
   "cell_type": "code",
   "execution_count": 87,
   "metadata": {
    "collapsed": true
   },
   "outputs": [
    {
     "data": {
      "text/plain": [
       "array([0.27657098, 0.        , 0.        , 0.        , 0.        ])"
      ]
     },
     "execution_count": 87,
     "metadata": {},
     "output_type": "execute_result"
    }
   ],
   "source": [
    "vec"
   ]
  },
  {
   "cell_type": "code",
   "execution_count": 88,
   "metadata": {
    "collapsed": true
   },
   "outputs": [],
   "source": [
    "vec2 = np.linalg.inv(L.T).dot(np.array([0,1,0,0,0]))"
   ]
  },
  {
   "cell_type": "code",
   "execution_count": 89,
   "metadata": {
    "collapsed": true
   },
   "outputs": [],
   "source": [
    "vec3 = np.linalg.inv(L.T).dot(np.array([0,0,1,0,0]))"
   ]
  },
  {
   "cell_type": "code",
   "execution_count": 95,
   "metadata": {
    "collapsed": true
   },
   "outputs": [
    {
     "data": {
      "text/plain": [
       "1.0000000000000002"
      ]
     },
     "execution_count": 95,
     "metadata": {},
     "output_type": "execute_result"
    }
   ],
   "source": [
    "vec3.dot(matrix10.dot(vec3))"
   ]
  },
  {
   "cell_type": "code",
   "execution_count": 107,
   "metadata": {
    "collapsed": true
   },
   "outputs": [
    {
     "data": {
      "text/plain": [
       "array([[ 0.27657098,  0.38059413,  0.17574233,  0.23213291,  0.17489193],\n",
       "       [ 0.        ,  0.2663782 , -0.04030935, -0.11377425, -0.0332353 ],\n",
       "       [ 0.        ,  0.        ,  0.15854832, -0.01573265, -0.0311687 ],\n",
       "       [ 0.        ,  0.        ,  0.        ,  0.2924496 , -0.0332353 ],\n",
       "       [ 0.        ,  0.        ,  0.        ,  0.        ,  0.2145374 ]])"
      ]
     },
     "execution_count": 107,
     "metadata": {},
     "output_type": "execute_result"
    }
   ],
   "source": [
    "np.linalg.inv(L.T)"
   ]
  },
  {
   "cell_type": "code",
   "execution_count": 108,
   "metadata": {
    "collapsed": true
   },
   "outputs": [
    {
     "data": {
      "text/plain": [
       "array([0.38059413, 0.2663782 , 0.        , 0.        , 0.        ])"
      ]
     },
     "execution_count": 108,
     "metadata": {},
     "output_type": "execute_result"
    }
   ],
   "source": [
    "vec2"
   ]
  },
  {
   "cell_type": "code",
   "execution_count": 70,
   "metadata": {
    "collapsed": true
   },
   "outputs": [
    {
     "data": {
      "text/plain": [
       "[(), (1,2), (1,2)(3,4), (1,2,3), (1,2,3,4)]"
      ]
     },
     "execution_count": 70,
     "metadata": {},
     "output_type": "execute_result"
    }
   ],
   "source": [
    "perms"
   ]
  },
  {
   "cell_type": "code",
   "execution_count": 104,
   "metadata": {
    "collapsed": true
   },
   "outputs": [],
   "source": [
    "omegaCharacters = [sum([N ** len(perms[i].cycle_type()) * R(perms[i]) * sizes[i] for i in range(len(perms))]) for R in g.irreducible_characters()]"
   ]
  },
  {
   "cell_type": "code",
   "execution_count": 93,
   "metadata": {
    "collapsed": true
   },
   "outputs": [
    {
     "data": {
      "text/plain": [
       "[N^4 - 6*N^3 + 11*N^2 - 6*N,\n",
       " 3*N^4 - 6*N^3 - 3*N^2 + 6*N,\n",
       " 2*N^4 - 2*N^2,\n",
       " 3*N^4 + 6*N^3 - 3*N^2 - 6*N,\n",
       " N^4 + 6*N^3 + 11*N^2 + 6*N]"
      ]
     },
     "execution_count": 93,
     "metadata": {},
     "output_type": "execute_result"
    }
   ],
   "source": [
    "omegaCharacters"
   ]
  },
  {
   "cell_type": "code",
   "execution_count": null,
   "metadata": {
    "collapsed": true
   },
   "outputs": [],
   "source": []
  },
  {
   "cell_type": "code",
   "execution_count": null,
   "metadata": {
    "collapsed": true
   },
   "outputs": [],
   "source": []
  },
  {
   "cell_type": "code",
   "execution_count": null,
   "metadata": {
    "collapsed": true
   },
   "outputs": [],
   "source": []
  },
  {
   "cell_type": "code",
   "execution_count": null,
   "metadata": {
    "collapsed": true
   },
   "outputs": [],
   "source": []
  },
  {
   "cell_type": "code",
   "execution_count": 118,
   "metadata": {
    "collapsed": true
   },
   "outputs": [
    {
     "data": {
      "text/plain": [
       "(2304.0*N^3 + 13824.0*N^2 + 25344.0*N + 13824.0)/((N + 3)*(N + 2)*(N + 1)*(N - 1)*(N - 2)*(N - 3)*N)"
      ]
     },
     "execution_count": 118,
     "metadata": {},
     "output_type": "execute_result"
    }
   ],
   "source": [
    "matrixReverse[0,0]"
   ]
  },
  {
   "cell_type": "code",
   "execution_count": null,
   "metadata": {
    "collapsed": true
   },
   "outputs": [],
   "source": []
  },
  {
   "cell_type": "code",
   "execution_count": null,
   "metadata": {
    "collapsed": true
   },
   "outputs": [],
   "source": []
  },
  {
   "cell_type": "code",
   "execution_count": 125,
   "metadata": {
    "collapsed": true
   },
   "outputs": [
    {
     "data": {
      "text/plain": [
       "(2304.0*N^3 + 13824.0*N^2 + 25344.0*N + 13824.0)/((N + 3)*(N + 2)*(N + 1)*(N - 1)*(N - 2)*(N - 3)*N)"
      ]
     },
     "execution_count": 125,
     "metadata": {},
     "output_type": "execute_result"
    }
   ],
   "source": [
    "gArrayCorr(basisReverse[0],basisReverse[0])"
   ]
  },
  {
   "cell_type": "code",
   "execution_count": 126,
   "metadata": {
    "collapsed": true
   },
   "outputs": [
    {
     "data": {
      "text/plain": [
       "(2304.0*N^3 + 13824.0*N^2 + 25344.0*N + 13824.0)/((N + 3)*(N + 2)*(N + 1)*(N - 1)*(N - 2)*(N - 3)*N)"
      ]
     },
     "execution_count": 126,
     "metadata": {},
     "output_type": "execute_result"
    }
   ],
   "source": [
    "gArrayCorr(basis[8],basis[8])"
   ]
  },
  {
   "cell_type": "code",
   "execution_count": 129,
   "metadata": {
    "collapsed": true
   },
   "outputs": [
    {
     "data": {
      "text/plain": [
       "[[[2, 2]],\n",
       " [[2, 1], [0, 1]],\n",
       " [[2, 0], [0, 2]],\n",
       " [[2, 0], [0, 1], [0, 1]],\n",
       " [[1, 2], [1, 0]],\n",
       " [[1, 1], [1, 1]],\n",
       " [[1, 1], [1, 0], [0, 1]],\n",
       " [[1, 0], [1, 0], [0, 2]],\n",
       " [[1, 0], [1, 0], [0, 1], [0, 1]]]"
      ]
     },
     "execution_count": 129,
     "metadata": {},
     "output_type": "execute_result"
    }
   ],
   "source": [
    "vpGenerate(2,2)"
   ]
  },
  {
   "cell_type": "code",
   "execution_count": 132,
   "metadata": {
    "collapsed": true
   },
   "outputs": [
    {
     "data": {
      "text/plain": [
       "2"
      ]
     },
     "execution_count": 132,
     "metadata": {},
     "output_type": "execute_result"
    }
   ],
   "source": [
    "sqrt(4)"
   ]
  },
  {
   "cell_type": "code",
   "execution_count": 135,
   "metadata": {
    "collapsed": true
   },
   "outputs": [
    {
     "data": {
      "text/plain": [
       "<type 'sage.symbolic.expression.Expression'>"
      ]
     },
     "execution_count": 135,
     "metadata": {},
     "output_type": "execute_result"
    }
   ],
   "source": [
    "type(sqrt(N-5))"
   ]
  },
  {
   "cell_type": "code",
   "execution_count": 136,
   "metadata": {
    "collapsed": true
   },
   "outputs": [
    {
     "data": {
      "text/plain": [
       "9"
      ]
     },
     "execution_count": 136,
     "metadata": {},
     "output_type": "execute_result"
    }
   ],
   "source": [
    "len(matrix)"
   ]
  },
  {
   "cell_type": "code",
   "execution_count": 148,
   "metadata": {
    "collapsed": true
   },
   "outputs": [],
   "source": [
    "copyMatrix=matrix.copy()"
   ]
  },
  {
   "cell_type": "code",
   "execution_count": 152,
   "metadata": {
    "collapsed": true
   },
   "outputs": [
    {
     "data": {
      "text/plain": [
       "(10.666666666666668*N^2 + 64.0)/((N + 3)*(N + 2)*(N + 1)*(N - 1)*(N - 2)*(N - 3))"
      ]
     },
     "execution_count": 152,
     "metadata": {},
     "output_type": "execute_result"
    }
   ],
   "source": [
    "matrix[0,0]"
   ]
  },
  {
   "cell_type": "code",
   "execution_count": 151,
   "metadata": {
    "collapsed": true
   },
   "outputs": [
    {
     "data": {
      "text/plain": [
       "(10.666666666666668*N^2 + 64.0)/((N + 3)*(N + 2)*(N + 1)*(N - 1)*(N - 2)*(N - 3)) + 1"
      ]
     },
     "execution_count": 151,
     "metadata": {},
     "output_type": "execute_result"
    }
   ],
   "source": [
    "copyMatrix[0,0] "
   ]
  },
  {
   "cell_type": "code",
   "execution_count": 154,
   "metadata": {
    "collapsed": true
   },
   "outputs": [
    {
     "data": {
      "text/plain": [
       "<type 'numpy.ndarray'>"
      ]
     },
     "execution_count": 154,
     "metadata": {},
     "output_type": "execute_result"
    }
   ],
   "source": [
    "type(np.identity(5))"
   ]
  },
  {
   "cell_type": "code",
   "execution_count": 155,
   "metadata": {
    "collapsed": true
   },
   "outputs": [],
   "source": [
    "?np.outer"
   ]
  },
  {
   "cell_type": "code",
   "execution_count": null,
   "metadata": {
    "collapsed": true
   },
   "outputs": [],
   "source": []
  },
  {
   "cell_type": "code",
   "execution_count": 159,
   "metadata": {
    "collapsed": true
   },
   "outputs": [],
   "source": [
    "L = cholesky(matrix10)"
   ]
  },
  {
   "cell_type": "code",
   "execution_count": 165,
   "metadata": {
    "collapsed": true
   },
   "outputs": [
    {
     "data": {
      "text/plain": [
       "2.2737367544323206e-13"
      ]
     },
     "execution_count": 165,
     "metadata": {},
     "output_type": "execute_result"
    }
   ],
   "source": [
    "max((L.dot(L.T) - matrix10).flatten())"
   ]
  },
  {
   "cell_type": "code",
   "execution_count": 174,
   "metadata": {
    "collapsed": true
   },
   "outputs": [],
   "source": [
    "L = symbolicCholesky(matrix)"
   ]
  },
  {
   "cell_type": "code",
   "execution_count": null,
   "metadata": {
    "collapsed": true
   },
   "outputs": [],
   "source": []
  },
  {
   "cell_type": "code",
   "execution_count": null,
   "metadata": {
    "collapsed": true
   },
   "outputs": [],
   "source": []
  },
  {
   "cell_type": "code",
   "execution_count": 188,
   "metadata": {
    "collapsed": true
   },
   "outputs": [
    {
     "data": {
      "text/plain": [
       "-1.0*(10.666666666666668*N^3 + 48.0*N^2 + 64.0*N + 48.0)/((N + 3)*(N + 2)*(N + 1)*(N - 1)*(N - 2)*(N - 3)*N*sqrt((10.666666666666668*N^2 + 64.0)/((N + 3)*(N + 2)*(N + 1)*(N - 1)*(N - 2)*(N - 3))))"
      ]
     },
     "execution_count": 188,
     "metadata": {},
     "output_type": "execute_result"
    }
   ],
   "source": [
    "L[1,0]"
   ]
  },
  {
   "cell_type": "code",
   "execution_count": 193,
   "metadata": {
    "collapsed": true
   },
   "outputs": [
    {
     "data": {
      "text/plain": [
       "-sqrt(N^6 - 14*N^4 + 49*N^2 - 36)*(10.66666666666667*N^3 + 48.0*N^2 + 64.0*N + 48.0)/((N^7 - 14*N^5 + 49*N^3 - 36*N)*sqrt(10.66666666666667*N^2 + 64.0))"
      ]
     },
     "execution_count": 193,
     "metadata": {},
     "output_type": "execute_result"
    }
   ],
   "source": [
    "L[1,0].canonicalize_radical()"
   ]
  },
  {
   "cell_type": "code",
   "execution_count": 194,
   "metadata": {
    "collapsed": true
   },
   "outputs": [
    {
     "data": {
      "text/plain": [
       "-sqrt((N + 3)*(N + 2)*(N + 1)*(N - 1)*(N - 2)*(N - 3))*(10.66666666666667*N^3 + 48.0*N^2 + 64.0*N + 48.0)/(sqrt(10.66666666666667*N^2 + 64.0)*(N + 3)*(N + 2)*(N + 1)*(N - 1)*(N - 2)*(N - 3)*N)"
      ]
     },
     "execution_count": 194,
     "metadata": {},
     "output_type": "execute_result"
    }
   ],
   "source": [
    "L[1,0].canonicalize_radical().factor()"
   ]
  },
  {
   "cell_type": "code",
   "execution_count": 201,
   "metadata": {
    "collapsed": true
   },
   "outputs": [
    {
     "data": {
      "text/plain": [
       "1.0*sqrt((10.666666666666668*N^3 + 48.0*N^2 + 64.0*N + 48.0)^2/((10.666666666666668*N^2 + 64.0)*(N + 3)*(N + 2)*(N + 1)*(N - 1)*(N - 2)*(N - 3)*N^2))"
      ]
     },
     "execution_count": 201,
     "metadata": {},
     "output_type": "execute_result"
    }
   ],
   "source": [
    "L[1,1]"
   ]
  },
  {
   "cell_type": "code",
   "execution_count": 202,
   "metadata": {
    "collapsed": true
   },
   "outputs": [
    {
     "data": {
      "text/plain": [
       "1.0*sqrt(113.7777777777778*N^6 + 1024.0*N^5 + 3669.333333333333*N^4 + 7168.0*N^3 + 8704.0*N^2 + 6144.0*N + 2304.0)/(sqrt(10.66666666666667*N^8 - 85.33333333333334*N^6 - 373.3333333333333*N^4 + 2752.0*N^2 - 2304.0)*N)"
      ]
     },
     "execution_count": 202,
     "metadata": {},
     "output_type": "execute_result"
    }
   ],
   "source": [
    "L[1,1].canonicalize_radical()"
   ]
  },
  {
   "cell_type": "code",
   "execution_count": 203,
   "metadata": {
    "collapsed": true
   },
   "outputs": [
    {
     "data": {
      "text/plain": [
       "1.0*sqrt(113.7777777777778*N^6 + 1024.0*N^5 + 3669.333333333333*N^4 + 7168.0*N^3 + 8704.0*N^2 + 6144.0*N + 2304.0)/(sqrt(10.66666666666667*N^8 - 85.33333333333334*N^6 - 373.3333333333333*N^4 + 2752.0*N^2 - 2304.0)*N)"
      ]
     },
     "execution_count": 203,
     "metadata": {},
     "output_type": "execute_result"
    }
   ],
   "source": [
    "L[1,1].canonicalize_radical().factor()"
   ]
  },
  {
   "cell_type": "code",
   "execution_count": 204,
   "metadata": {
    "collapsed": true
   },
   "outputs": [
    {
     "data": {
      "text/plain": [
       "2/3"
      ]
     },
     "execution_count": 204,
     "metadata": {},
     "output_type": "execute_result"
    }
   ],
   "source": [
    "2/3"
   ]
  },
  {
   "cell_type": "code",
   "execution_count": 205,
   "metadata": {
    "collapsed": true
   },
   "outputs": [
    {
     "data": {
      "text/plain": [
       "31/3"
      ]
     },
     "execution_count": 205,
     "metadata": {},
     "output_type": "execute_result"
    }
   ],
   "source": [
    "31/3"
   ]
  },
  {
   "cell_type": "code",
   "execution_count": 262,
   "metadata": {
    "collapsed": true
   },
   "outputs": [],
   "source": [
    "partition = [[2,2]]"
   ]
  },
  {
   "cell_type": "code",
   "execution_count": null,
   "metadata": {
    "collapsed": true
   },
   "outputs": [],
   "source": []
  },
  {
   "cell_type": "code",
   "execution_count": null,
   "metadata": {
    "collapsed": true
   },
   "outputs": [],
   "source": []
  },
  {
   "cell_type": "code",
   "execution_count": null,
   "metadata": {
    "collapsed": true
   },
   "outputs": [],
   "source": []
  },
  {
   "cell_type": "code",
   "execution_count": null,
   "metadata": {
    "collapsed": true
   },
   "outputs": [],
   "source": []
  },
  {
   "cell_type": "code",
   "execution_count": 274,
   "metadata": {
    "collapsed": true
   },
   "outputs": [
    {
     "name": "stdout",
     "output_type": "stream",
     "text": [
      "[[[0], [['X', 1], ['X', 2], ['Y', 3], ['Y', 0]]], [[0], [['X', 2], ['X', 3], ['Y', 1], ['Y', 0]]]]\n"
     ]
    }
   ],
   "source": [
    "print(symmTrPart(vpGenerate(2,2)[0]))"
   ]
  },
  {
   "cell_type": "code",
   "execution_count": 286,
   "metadata": {
    "collapsed": true
   },
   "outputs": [],
   "source": [
    "a = vpGenerate(2,2)[0]"
   ]
  },
  {
   "cell_type": "code",
   "execution_count": 287,
   "metadata": {
    "collapsed": true
   },
   "outputs": [],
   "source": [
    "b = [[2,2]]"
   ]
  },
  {
   "cell_type": "code",
   "execution_count": 317,
   "metadata": {
    "collapsed": true
   },
   "outputs": [
    {
     "data": {
      "text/plain": [
       "[[[2/3], [['X', 1], ['X', 2], ['Y', 3], ['Y', 0]]],\n",
       " [[1/3], [['X', 2], ['X', 3], ['Y', 1], ['Y', 0]]]]"
      ]
     },
     "execution_count": 317,
     "metadata": {},
     "output_type": "execute_result"
    }
   ],
   "source": [
    "symmTrPart([[2,2]])"
   ]
  },
  {
   "cell_type": "code",
   "execution_count": null,
   "metadata": {
    "collapsed": true
   },
   "outputs": [],
   "source": []
  },
  {
   "cell_type": "code",
   "execution_count": 288,
   "metadata": {
    "collapsed": true
   },
   "outputs": [
    {
     "data": {
      "text/plain": [
       "True"
      ]
     },
     "execution_count": 288,
     "metadata": {},
     "output_type": "execute_result"
    }
   ],
   "source": [
    "a == b"
   ]
  },
  {
   "cell_type": "code",
   "execution_count": 292,
   "metadata": {
    "collapsed": true
   },
   "outputs": [
    {
     "data": {
      "text/plain": [
       "<type 'list'>"
      ]
     },
     "execution_count": 292,
     "metadata": {},
     "output_type": "execute_result"
    }
   ],
   "source": [
    "type(b)"
   ]
  },
  {
   "cell_type": "code",
   "execution_count": 301,
   "metadata": {
    "collapsed": true
   },
   "outputs": [
    {
     "data": {
      "text/plain": [
       "<type 'sage.rings.integer.Integer'>"
      ]
     },
     "execution_count": 301,
     "metadata": {},
     "output_type": "execute_result"
    }
   ],
   "source": [
    "type(b[0][0])"
   ]
  },
  {
   "cell_type": "code",
   "execution_count": 302,
   "metadata": {
    "collapsed": true
   },
   "outputs": [
    {
     "data": {
      "text/plain": [
       "<type 'sage.rings.integer.Integer'>"
      ]
     },
     "execution_count": 302,
     "metadata": {},
     "output_type": "execute_result"
    }
   ],
   "source": [
    "type(2)"
   ]
  },
  {
   "cell_type": "code",
   "execution_count": 303,
   "metadata": {
    "collapsed": true
   },
   "outputs": [
    {
     "data": {
      "text/plain": [
       "2/3"
      ]
     },
     "execution_count": 303,
     "metadata": {},
     "output_type": "execute_result"
    }
   ],
   "source": [
    "2/3"
   ]
  },
  {
   "cell_type": "code",
   "execution_count": null,
   "metadata": {
    "collapsed": true
   },
   "outputs": [],
   "source": []
  },
  {
   "cell_type": "code",
   "execution_count": 307,
   "metadata": {
    "collapsed": true
   },
   "outputs": [
    {
     "data": {
      "text/plain": [
       "<type 'int'>"
      ]
     },
     "execution_count": 307,
     "metadata": {},
     "output_type": "execute_result"
    }
   ],
   "source": [
    "type(vpGenerate(2,2)[0][0][0])"
   ]
  },
  {
   "cell_type": "code",
   "execution_count": null,
   "metadata": {
    "collapsed": true
   },
   "outputs": [],
   "source": []
  }
 ],
 "metadata": {
  "kernelspec": {
   "display_name": "SageMath 8.9",
   "language": "sage",
   "name": "sagemath"
  },
  "language_info": {
   "codemirror_mode": {
    "name": "ipython",
    "version": 2
   },
   "file_extension": ".py",
   "mimetype": "text/x-python",
   "name": "python",
   "nbconvert_exporter": "python",
   "pygments_lexer": "ipython2",
   "version": "2.7.15"
  }
 },
 "nbformat": 4,
 "nbformat_minor": 2
}
